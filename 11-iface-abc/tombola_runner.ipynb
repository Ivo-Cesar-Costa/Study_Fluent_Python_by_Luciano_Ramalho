{
 "cells": [
  {
   "cell_type": "code",
   "execution_count": 1,
   "id": "2e75e5ff-4aae-437d-9121-9d08571b255b",
   "metadata": {},
   "outputs": [],
   "source": [
    "import doctest"
   ]
  },
  {
   "cell_type": "code",
   "execution_count": 2,
   "id": "e67eed7a-667d-4871-8a23-3eaa664c187a",
   "metadata": {},
   "outputs": [
    {
     "name": "stdout",
     "output_type": "stream",
     "text": [
      "importing Jupyter notebook from tombola.ipynb\n"
     ]
    }
   ],
   "source": [
    "import import_ipynb\n",
    "from tombola import Tombola"
   ]
  },
  {
   "cell_type": "code",
   "execution_count": 3,
   "id": "fb4b8084-10d5-40da-926c-fc52c4dba847",
   "metadata": {},
   "outputs": [
    {
     "name": "stdout",
     "output_type": "stream",
     "text": [
      "importing Jupyter notebook from bingo.ipynb\n",
      "importing Jupyter notebook from lotto.ipynb\n",
      "importing Jupyter notebook from tombolist.ipynb\n",
      "importing Jupyter notebook from drum.ipynb\n"
     ]
    }
   ],
   "source": [
    "import bingo, lotto, tombolist, drum  # <1>"
   ]
  },
  {
   "cell_type": "code",
   "execution_count": 4,
   "id": "77f1e4d1-eafe-492d-81f3-b4d0f000e105",
   "metadata": {},
   "outputs": [],
   "source": [
    "TEST_FILE = 'tombola_tests.rst'\n",
    "TEST_MSG = '{0:16} {1.attempted:2} tests, {1.failed:2} failed - {2}'"
   ]
  },
  {
   "cell_type": "code",
   "execution_count": 5,
   "id": "ce34718f-1ae4-4187-a0fb-98fd3e1e6d4b",
   "metadata": {},
   "outputs": [],
   "source": [
    "def main(argv):\n",
    "    verbose = '-v' in argv\n",
    "    real_subclasses = Tombola.__subclasses__()  # <2>\n",
    "    virtual_subclasses = list(Tombola._abc_registry)  # <3>\n",
    "\n",
    "    for cls in real_subclasses + virtual_subclasses:  # <4>\n",
    "        test(cls, verbose)"
   ]
  },
  {
   "cell_type": "code",
   "execution_count": 6,
   "id": "f555e743-498c-4e85-a0e9-4d6274c19c0c",
   "metadata": {},
   "outputs": [],
   "source": [
    "def test(cls, verbose=False):\n",
    "\n",
    "    res = doctest.testfile(\n",
    "            TEST_FILE,\n",
    "            globs={'ConcreteTombola': cls},  # <5>\n",
    "            verbose=verbose,\n",
    "            optionflags=doctest.REPORT_ONLY_FIRST_FAILURE)\n",
    "    tag = 'FAIL' if res.failed else 'OK'\n",
    "    print(TEST_MSG.format(cls.__name__, res, tag))  # <6"
   ]
  },
  {
   "cell_type": "code",
   "execution_count": 7,
   "id": "aca95887-4e23-4e97-88a4-dac07bccf9df",
   "metadata": {},
   "outputs": [],
   "source": [
    "# if __name__ == '__main__':\n",
    "#     import sys\n",
    "#     main(sys.argv)"
   ]
  }
 ],
 "metadata": {
  "kernelspec": {
   "display_name": "Python 3 (ipykernel)",
   "language": "python",
   "name": "python3"
  },
  "language_info": {
   "codemirror_mode": {
    "name": "ipython",
    "version": 3
   },
   "file_extension": ".py",
   "mimetype": "text/x-python",
   "name": "python",
   "nbconvert_exporter": "python",
   "pygments_lexer": "ipython3",
   "version": "3.10.2"
  }
 },
 "nbformat": 4,
 "nbformat_minor": 5
}
