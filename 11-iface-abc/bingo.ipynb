{
 "cells": [
  {
   "cell_type": "code",
   "execution_count": 1,
   "id": "a9672b96-8577-40ec-b633-65dd5fbc0708",
   "metadata": {},
   "outputs": [],
   "source": [
    "import random"
   ]
  },
  {
   "cell_type": "code",
   "execution_count": 2,
   "id": "ad6ea400-b12f-4ed2-b1dd-70d8d12c859f",
   "metadata": {},
   "outputs": [
    {
     "name": "stdout",
     "output_type": "stream",
     "text": [
      "importing Jupyter notebook from tombola.ipynb\n"
     ]
    }
   ],
   "source": [
    "import import_ipynb\n",
    "from tombola import Tombola"
   ]
  },
  {
   "cell_type": "code",
   "execution_count": 3,
   "id": "0078c12f-7a11-4f98-b85d-952590dd118c",
   "metadata": {},
   "outputs": [],
   "source": [
    "class BingoCage(Tombola):  # <1>\n",
    "\n",
    "    def __init__(self, items):\n",
    "        self._randomizer = random.SystemRandom()  # <2>\n",
    "        self._items = []\n",
    "        self.load(items)  # <3>\n",
    "\n",
    "    def load(self, items):\n",
    "        self._items.extend(items)\n",
    "        self._randomizer.shuffle(self._items)  # <4>\n",
    "\n",
    "    def pick(self):  # <5>\n",
    "        try:\n",
    "            return self._items.pop()\n",
    "        except IndexError:\n",
    "            raise LookupError('pick from empty BingoCage')\n",
    "\n",
    "    def __call__(self):  # <7>\n",
    "        self.pick()"
   ]
  }
 ],
 "metadata": {
  "kernelspec": {
   "display_name": "Python 3 (ipykernel)",
   "language": "python",
   "name": "python3"
  },
  "language_info": {
   "codemirror_mode": {
    "name": "ipython",
    "version": 3
   },
   "file_extension": ".py",
   "mimetype": "text/x-python",
   "name": "python",
   "nbconvert_exporter": "python",
   "pygments_lexer": "ipython3",
   "version": "3.10.2"
  }
 },
 "nbformat": 4,
 "nbformat_minor": 5
}
