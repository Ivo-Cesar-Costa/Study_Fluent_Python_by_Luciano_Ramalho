{
 "cells": [
  {
   "cell_type": "code",
   "execution_count": 1,
   "id": "82ec7adf-88c8-4379-8c52-882545b4ff5c",
   "metadata": {},
   "outputs": [
    {
     "name": "stdout",
     "output_type": "stream",
     "text": [
      "importing Jupyter notebook from lotto.ipynb\n",
      "importing Jupyter notebook from tombola.ipynb\n"
     ]
    }
   ],
   "source": [
    "import import_ipynb\n",
    "from lotto import LotteryBlower"
   ]
  },
  {
   "cell_type": "markdown",
   "id": "806ea790-954e-4540-9eea-6687b748e1de",
   "metadata": {},
   "source": [
    "#### Create and load instance from iterable:"
   ]
  },
  {
   "cell_type": "code",
   "execution_count": 2,
   "id": "8dd5f332-ddd0-4d8a-8d9d-6883ec469e87",
   "metadata": {},
   "outputs": [
    {
     "data": {
      "text/plain": [
       "True"
      ]
     },
     "execution_count": 2,
     "metadata": {},
     "output_type": "execute_result"
    }
   ],
   "source": [
    ">>> balls = list(range(3))\n",
    ">>> globe = LotteryBlower(balls)\n",
    ">>> globe.loaded()"
   ]
  },
  {
   "cell_type": "code",
   "execution_count": 3,
   "id": "c3ffff49-50ad-400a-ab45-37b155f08dce",
   "metadata": {},
   "outputs": [
    {
     "data": {
      "text/plain": [
       "(0, 1, 2)"
      ]
     },
     "execution_count": 3,
     "metadata": {},
     "output_type": "execute_result"
    }
   ],
   "source": [
    ">>> globe.inspect()"
   ]
  },
  {
   "cell_type": "markdown",
   "id": "23ad35ab-77b3-4335-a5d6-6ce33d1ccebf",
   "metadata": {},
   "source": [
    "#### Pick and collect balls:"
   ]
  },
  {
   "cell_type": "code",
   "execution_count": 4,
   "id": "cd4201b8-8d4e-4344-b246-2bddf4045a9c",
   "metadata": {},
   "outputs": [
    {
     "data": {
      "text/plain": [
       "[2]"
      ]
     },
     "execution_count": 4,
     "metadata": {},
     "output_type": "execute_result"
    }
   ],
   "source": [
    ">>> picks = []\n",
    ">>> picks.append(globe.pick())\n",
    "picks"
   ]
  },
  {
   "cell_type": "code",
   "execution_count": 5,
   "id": "63bf2102-f37b-43fe-92b6-06b6f8b7f8db",
   "metadata": {},
   "outputs": [
    {
     "data": {
      "text/plain": [
       "[2, 0]"
      ]
     },
     "execution_count": 5,
     "metadata": {},
     "output_type": "execute_result"
    }
   ],
   "source": [
    ">>> picks.append(globe.pick())\n",
    "picks"
   ]
  },
  {
   "cell_type": "code",
   "execution_count": 6,
   "id": "7bb5bc4e-a3b7-4980-8bba-95fc7ba2f66d",
   "metadata": {},
   "outputs": [
    {
     "data": {
      "text/plain": [
       "[2, 0, 1]"
      ]
     },
     "execution_count": 6,
     "metadata": {},
     "output_type": "execute_result"
    }
   ],
   "source": [
    ">>> picks.append(globe.pick())\n",
    "picks"
   ]
  },
  {
   "cell_type": "markdown",
   "id": "9efefa9f-39eb-4e89-8d84-1caf50bf0864",
   "metadata": {},
   "source": [
    "#### Check state and results:"
   ]
  },
  {
   "cell_type": "code",
   "execution_count": 7,
   "id": "6ee6f6e7-851d-4838-b807-574125d42815",
   "metadata": {},
   "outputs": [
    {
     "data": {
      "text/plain": [
       "False"
      ]
     },
     "execution_count": 7,
     "metadata": {},
     "output_type": "execute_result"
    }
   ],
   "source": [
    ">>> globe.loaded()"
   ]
  },
  {
   "cell_type": "code",
   "execution_count": 8,
   "id": "37833561-85df-432e-ba6b-5104f794e087",
   "metadata": {},
   "outputs": [
    {
     "data": {
      "text/plain": [
       "True"
      ]
     },
     "execution_count": 8,
     "metadata": {},
     "output_type": "execute_result"
    }
   ],
   "source": [
    ">>> sorted(picks) == balls"
   ]
  },
  {
   "cell_type": "markdown",
   "id": "272cf928-42fc-4c24-a95d-b9bc13c9355d",
   "metadata": {},
   "source": [
    "#### Reload:"
   ]
  },
  {
   "cell_type": "code",
   "execution_count": 9,
   "id": "cca9feba-97d9-40ca-97f1-ea69ed4b5fd8",
   "metadata": {},
   "outputs": [
    {
     "data": {
      "text/plain": [
       "True"
      ]
     },
     "execution_count": 9,
     "metadata": {},
     "output_type": "execute_result"
    }
   ],
   "source": [
    ">>> globe.load(balls)\n",
    ">>> globe.loaded()"
   ]
  },
  {
   "cell_type": "code",
   "execution_count": 10,
   "id": "c2551955-2e18-4530-860c-591d5568b9a0",
   "metadata": {},
   "outputs": [
    {
     "data": {
      "text/plain": [
       "False"
      ]
     },
     "execution_count": 10,
     "metadata": {},
     "output_type": "execute_result"
    }
   ],
   "source": [
    ">>> picks = [globe.pick() for i in balls]\n",
    ">>> globe.loaded()"
   ]
  },
  {
   "cell_type": "markdown",
   "id": "df212b72-9268-4e3d-a22f-ee834a4be026",
   "metadata": {},
   "source": [
    "#### Check that LookupError (or a subclass) is the exception thrown when the device is empty:"
   ]
  },
  {
   "cell_type": "code",
   "execution_count": 11,
   "id": "5a7868bc-7202-4910-ab1e-0b30710616e5",
   "metadata": {},
   "outputs": [
    {
     "name": "stdout",
     "output_type": "stream",
     "text": [
      "OK\n"
     ]
    }
   ],
   "source": [
    ">>> globe = LotteryBlower([])\n",
    ">>> try:\n",
    "...     globe.pick()\n",
    "... except LookupError as exc:\n",
    "...     print('OK')"
   ]
  },
  {
   "cell_type": "markdown",
   "id": "8dc4a5d0-632b-435d-931e-dfe0e05b0a00",
   "metadata": {},
   "source": [
    "#### Load and pick 100 balls to verify that they all come out:"
   ]
  },
  {
   "cell_type": "code",
   "execution_count": 12,
   "id": "1eee1b84-7eba-474b-b305-27b8b5cb5509",
   "metadata": {},
   "outputs": [
    {
     "data": {
      "text/plain": [
       "True"
      ]
     },
     "execution_count": 12,
     "metadata": {},
     "output_type": "execute_result"
    }
   ],
   "source": [
    ">>> balls = list(range(100))\n",
    ">>> globe = LotteryBlower(balls)\n",
    ">>> picks = []\n",
    ">>> while globe.inspect():\n",
    "...     picks.append(globe.pick())\n",
    ">>> len(picks) == len(balls)"
   ]
  },
  {
   "cell_type": "code",
   "execution_count": 13,
   "id": "b40eb524-9700-4428-be56-fe18348cdd16",
   "metadata": {},
   "outputs": [
    {
     "data": {
      "text/plain": [
       "True"
      ]
     },
     "execution_count": 13,
     "metadata": {},
     "output_type": "execute_result"
    }
   ],
   "source": [
    ">>> set(picks) == set(balls)"
   ]
  },
  {
   "cell_type": "markdown",
   "id": "c3dd0be8-bddd-4141-b605-9b23865bb755",
   "metadata": {},
   "source": [
    "#### Check that the order has changed and is not simply reversed:"
   ]
  },
  {
   "cell_type": "code",
   "execution_count": 14,
   "id": "ad0cdd38-1c71-49c3-86c4-d19b54449000",
   "metadata": {},
   "outputs": [
    {
     "data": {
      "text/plain": [
       "True"
      ]
     },
     "execution_count": 14,
     "metadata": {},
     "output_type": "execute_result"
    }
   ],
   "source": [
    ">>> picks != balls"
   ]
  },
  {
   "cell_type": "code",
   "execution_count": 15,
   "id": "83ab083c-3815-46c8-9c46-301f1612f368",
   "metadata": {},
   "outputs": [
    {
     "data": {
      "text/plain": [
       "True"
      ]
     },
     "execution_count": 15,
     "metadata": {},
     "output_type": "execute_result"
    }
   ],
   "source": [
    ">>> picks[::-1] != balls"
   ]
  },
  {
   "cell_type": "markdown",
   "id": "2c419c41-87c4-481d-959e-08c73062348c",
   "metadata": {},
   "source": [
    "#### Note: the previous 2 tests have a very small chance of failing even if the implementation is OK. The probability of the 100 balls coming out, by chance, in the order they were inspect is 1/100!, or approximately 1.07e-158. It's much easier to win the Lotto or to become a billionaire working as a programmer."
   ]
  }
 ],
 "metadata": {
  "kernelspec": {
   "display_name": "Python 3 (ipykernel)",
   "language": "python",
   "name": "python3"
  },
  "language_info": {
   "codemirror_mode": {
    "name": "ipython",
    "version": 3
   },
   "file_extension": ".py",
   "mimetype": "text/x-python",
   "name": "python",
   "nbconvert_exporter": "python",
   "pygments_lexer": "ipython3",
   "version": "3.10.2"
  }
 },
 "nbformat": 4,
 "nbformat_minor": 5
}
