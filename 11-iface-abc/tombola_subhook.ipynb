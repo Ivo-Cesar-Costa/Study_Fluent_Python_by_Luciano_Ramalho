{
 "cells": [
  {
   "cell_type": "code",
   "execution_count": 1,
   "id": "b3d8af54-dc56-47cd-af84-43848243c444",
   "metadata": {},
   "outputs": [],
   "source": [
    "from abc import ABC, abstractmethod\n",
    "from inspect import getmembers, isfunction"
   ]
  },
  {
   "cell_type": "code",
   "execution_count": 2,
   "id": "59a228d2-d469-4f60-a8a6-e8c31ea67246",
   "metadata": {},
   "outputs": [],
   "source": [
    "class Tombola(ABC):  # <1>\n",
    "\n",
    "    @abstractmethod\n",
    "    def __init__(self, iterable):  # <2>\n",
    "        \"\"\"New instance is loaded from an iterable.\"\"\"\n",
    "\n",
    "    @abstractmethod\n",
    "    def load(self, iterable):\n",
    "        \"\"\"Add items from an iterable.\"\"\"\n",
    "\n",
    "    @abstractmethod\n",
    "    def pick(self):  # <3>\n",
    "        \"\"\"Remove item at random, returning it.\n",
    "        This method should raise `LookupError` when the instance is empty.\n",
    "        \"\"\"\n",
    "\n",
    "    def loaded(self):  # <4>\n",
    "        try:\n",
    "            item = self.pick()\n",
    "        except LookupError:\n",
    "            return False\n",
    "        else:\n",
    "            self.load([item])  # put it back\n",
    "            return True\n",
    "\n",
    "    @classmethod\n",
    "    def __subclasshook__(cls, other_cls):\n",
    "        if cls is Tombola:\n",
    "            interface_names = function_names(cls)\n",
    "            found_names = set()\n",
    "            for a_cls in other_cls.__mro__:\n",
    "                found_names |= function_names(a_cls)\n",
    "            if found_names >= interface_names:\n",
    "                return True\n",
    "        return NotImplemented"
   ]
  },
  {
   "cell_type": "code",
   "execution_count": 3,
   "id": "ebcd7a40-e577-4e4f-8aae-da973b18341d",
   "metadata": {},
   "outputs": [],
   "source": [
    "def function_names(obj):\n",
    "    return {name for name, _ in getmembers(obj, isfunction)}"
   ]
  },
  {
   "cell_type": "markdown",
   "id": "4d472c24-f7d6-4d23-9536-aabdf11759a3",
   "metadata": {},
   "source": [
    "#### Variation of ``tombola.Tombola`` implementing ``__subclasshook__``.\n",
    "#### Tests with simple classes::"
   ]
  },
  {
   "cell_type": "code",
   "execution_count": 4,
   "id": "628f1b5d-2f26-48d7-9c55-bf0b3755e0d1",
   "metadata": {},
   "outputs": [
    {
     "data": {
      "text/plain": [
       "NotImplemented"
      ]
     },
     "execution_count": 4,
     "metadata": {},
     "output_type": "execute_result"
    }
   ],
   "source": [
    ">>> Tombola.__subclasshook__(object)"
   ]
  },
  {
   "cell_type": "code",
   "execution_count": 5,
   "id": "8645edbd-7149-443a-bf16-7b45de4a6515",
   "metadata": {},
   "outputs": [
    {
     "data": {
      "text/plain": [
       "True"
      ]
     },
     "execution_count": 5,
     "metadata": {},
     "output_type": "execute_result"
    }
   ],
   "source": [
    ">>> class Complete:\n",
    "...     def __init__(): pass\n",
    "...     def load(): pass\n",
    "...     def pick(): pass\n",
    "...     def loaded(): pass\n",
    "...\n",
    ">>> Tombola.__subclasshook__(Complete)"
   ]
  },
  {
   "cell_type": "code",
   "execution_count": 6,
   "id": "73029205-7a12-4f2b-90c5-643cab1e1cbf",
   "metadata": {},
   "outputs": [
    {
     "data": {
      "text/plain": [
       "True"
      ]
     },
     "execution_count": 6,
     "metadata": {},
     "output_type": "execute_result"
    }
   ],
   "source": [
    ">>> issubclass(Complete, Tombola)"
   ]
  }
 ],
 "metadata": {
  "kernelspec": {
   "display_name": "Python 3 (ipykernel)",
   "language": "python",
   "name": "python3"
  },
  "language_info": {
   "codemirror_mode": {
    "name": "ipython",
    "version": 3
   },
   "file_extension": ".py",
   "mimetype": "text/x-python",
   "name": "python",
   "nbconvert_exporter": "python",
   "pygments_lexer": "ipython3",
   "version": "3.10.2"
  }
 },
 "nbformat": 4,
 "nbformat_minor": 5
}
