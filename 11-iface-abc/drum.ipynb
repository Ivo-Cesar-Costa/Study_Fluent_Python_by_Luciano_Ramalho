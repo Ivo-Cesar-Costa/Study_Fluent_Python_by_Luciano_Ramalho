{
 "cells": [
  {
   "cell_type": "code",
   "execution_count": 1,
   "id": "402b8545-5543-45e2-912a-af83ce89f64b",
   "metadata": {},
   "outputs": [],
   "source": [
    "from random import shuffle"
   ]
  },
  {
   "cell_type": "code",
   "execution_count": 2,
   "id": "0cc50c8c-6c03-441b-9e6b-9bc2580ca5b0",
   "metadata": {},
   "outputs": [
    {
     "name": "stdout",
     "output_type": "stream",
     "text": [
      "importing Jupyter notebook from tombola.ipynb\n"
     ]
    }
   ],
   "source": [
    "import import_ipynb\n",
    "from tombola import Tombola"
   ]
  },
  {
   "cell_type": "code",
   "execution_count": 3,
   "id": "c49d2881-0a36-455b-a96f-36374542c674",
   "metadata": {},
   "outputs": [],
   "source": [
    "class TumblingDrum(Tombola):\n",
    "\n",
    "    def __init__(self, iterable):\n",
    "        self._balls = []\n",
    "        self.load(iterable)\n",
    "\n",
    "    def load(self, iterable):\n",
    "        self._balls.extend(iterable)\n",
    "        shuffle(self._balls)\n",
    "\n",
    "    def pick(self):\n",
    "        return self._balls.pop()"
   ]
  }
 ],
 "metadata": {
  "kernelspec": {
   "display_name": "Python 3 (ipykernel)",
   "language": "python",
   "name": "python3"
  },
  "language_info": {
   "codemirror_mode": {
    "name": "ipython",
    "version": 3
   },
   "file_extension": ".py",
   "mimetype": "text/x-python",
   "name": "python",
   "nbconvert_exporter": "python",
   "pygments_lexer": "ipython3",
   "version": "3.10.2"
  }
 },
 "nbformat": 4,
 "nbformat_minor": 5
}
