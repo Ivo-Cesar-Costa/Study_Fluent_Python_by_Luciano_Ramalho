{
 "cells": [
  {
   "cell_type": "code",
   "execution_count": 1,
   "id": "f613ca19-fb75-4ec9-aa7a-3c9d8f89a9ed",
   "metadata": {},
   "outputs": [],
   "source": [
    "import collections\n",
    "import requests\n",
    "import tqdm\n",
    "\n",
    "import flags2_common "
   ]
  },
  {
   "cell_type": "code",
   "execution_count": 2,
   "id": "3bf75815-e286-4b08-be07-6bf221bf3d87",
   "metadata": {},
   "outputs": [],
   "source": [
    "#from flags2_common import main, save_flag, HTTPStatus, Result\n",
    "%run flags2_common.ipynb import main, save_flag, HTTPStatus, Result"
   ]
  },
  {
   "cell_type": "code",
   "execution_count": 3,
   "id": "1ba534d3-d522-4a99-9f62-1f5a4bbc9074",
   "metadata": {},
   "outputs": [],
   "source": [
    "DEFAULT_CONCUR_REQ = 1\n",
    "MAX_CONCUR_REQ = 1"
   ]
  },
  {
   "cell_type": "code",
   "execution_count": 4,
   "id": "7a06133b-a4d4-421e-855c-cc9bee973544",
   "metadata": {},
   "outputs": [],
   "source": [
    "def get_flag(base_url, cc):\n",
    "    url = '{}/{cc}/{cc}.gif'.format(base_url, cc=cc.lower())\n",
    "    resp = requests.get(url)\n",
    "    if resp.status_code != 200:  # <1>\n",
    "        resp.raise_for_status()\n",
    "    return resp.content"
   ]
  },
  {
   "cell_type": "code",
   "execution_count": 5,
   "id": "1180d1fc-832e-498c-9f49-ddc207efca49",
   "metadata": {},
   "outputs": [],
   "source": [
    "def download_one(cc, base_url, verbose=False):\n",
    "    try:\n",
    "        image = get_flag(base_url, cc)\n",
    "    except requests.exceptions.HTTPError as exc:  # <2>\n",
    "        res = exc.response\n",
    "        if res.status_code == 404:\n",
    "            status = HTTPStatus.not_found  # <3>\n",
    "            msg = 'not found'\n",
    "        else:  # <4>\n",
    "            raise\n",
    "    else:\n",
    "        save_flag(image, cc.lower() + '.gif')\n",
    "        status = HTTPStatus.ok\n",
    "        msg = 'OK'\n",
    "\n",
    "    if verbose:  # <5>\n",
    "        print(cc, msg)\n",
    "\n",
    "    return Result(status, cc)  # <6>"
   ]
  },
  {
   "cell_type": "code",
   "execution_count": 6,
   "id": "5e4f37bd-9116-4a2d-9703-516a43860897",
   "metadata": {},
   "outputs": [],
   "source": [
    "def download_many(cc_list, base_url, verbose, max_req):\n",
    "    counter = collections.Counter()  # <1>\n",
    "    cc_iter = sorted(cc_list)  # <2>\n",
    "    if not verbose:\n",
    "        cc_iter = tqdm.tqdm(cc_iter)  # <3>\n",
    "    for cc in cc_iter:  # <4>\n",
    "        try:\n",
    "            res = download_one(cc, base_url, verbose)  # <5>\n",
    "        except requests.exceptions.HTTPError as exc:  # <6>\n",
    "            error_msg = 'HTTP error {res.status_code} - {res.reason}'\n",
    "            error_msg = error_msg.format(res=exc.response)\n",
    "        except requests.exceptions.ConnectionError as exc:  # <7>\n",
    "            error_msg = 'Connection error'\n",
    "        else:  # <8>\n",
    "            error_msg = ''\n",
    "            status = res.status\n",
    "\n",
    "        if error_msg:\n",
    "            status = HTTPStatus.error  # <9>\n",
    "        counter[status] += 1  # <10>\n",
    "        if verbose and error_msg: # <11>\n",
    "            print('*** Error for {}: {}'.format(cc, error_msg))\n",
    "\n",
    "    return counter  # <12>"
   ]
  },
  {
   "cell_type": "code",
   "execution_count": 7,
   "id": "0be3cb5f-0b76-4967-b6f8-d8ce82f71272",
   "metadata": {},
   "outputs": [
    {
     "name": "stderr",
     "output_type": "stream",
     "text": [
      "usage: ipykernel_launcher.py [-h] [-a] [-e] [-l N] [-m CONCURRENT] [-s LABEL] [-v] [CC ...]\n",
      "ipykernel_launcher.py: error: unrecognized arguments: -f\n"
     ]
    },
    {
     "ename": "SystemExit",
     "evalue": "2",
     "output_type": "error",
     "traceback": [
      "An exception has occurred, use %tb to see the full traceback.\n",
      "\u001b[1;31mSystemExit\u001b[0m\u001b[1;31m:\u001b[0m 2\n"
     ]
    },
    {
     "name": "stderr",
     "output_type": "stream",
     "text": [
      "C:\\Users\\Ivo\\AppData\\Local\\Programs\\Python\\Python310\\lib\\site-packages\\IPython\\core\\interactiveshell.py:3259: UserWarning: To exit: use 'exit', 'quit', or Ctrl-D.\n",
      "  warn(\"To exit: use 'exit', 'quit', or Ctrl-D.\", stacklevel=1)\n"
     ]
    }
   ],
   "source": [
    "if __name__ == '__main__':\n",
    "    main(download_many, DEFAULT_CONCUR_REQ, MAX_CONCUR_REQ)"
   ]
  }
 ],
 "metadata": {
  "kernelspec": {
   "display_name": "Python 3 (ipykernel)",
   "language": "python",
   "name": "python3"
  },
  "language_info": {
   "codemirror_mode": {
    "name": "ipython",
    "version": 3
   },
   "file_extension": ".py",
   "mimetype": "text/x-python",
   "name": "python",
   "nbconvert_exporter": "python",
   "pygments_lexer": "ipython3",
   "version": "3.10.2"
  }
 },
 "nbformat": 4,
 "nbformat_minor": 5
}
