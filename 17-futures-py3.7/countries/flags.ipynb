{
 "cells": [
  {
   "cell_type": "code",
   "execution_count": 1,
   "id": "241306c8-3301-43b8-b482-41a02092d4c8",
   "metadata": {},
   "outputs": [],
   "source": [
    "import os\n",
    "import time\n",
    "import sys"
   ]
  },
  {
   "cell_type": "code",
   "execution_count": 2,
   "id": "0f817ec9-d7ab-4742-8036-e0e74b035df8",
   "metadata": {},
   "outputs": [],
   "source": [
    "import requests  # <1>"
   ]
  },
  {
   "cell_type": "code",
   "execution_count": 3,
   "id": "cda82398-2b4f-42d3-b6f6-86fa0b015b6d",
   "metadata": {},
   "outputs": [],
   "source": [
    "POP20_CC = ('CN IN US ID BR PK NG BD RU JP '\n",
    "            'MX PH VN ET EG DE IR TR CD FR').split()  # <2>"
   ]
  },
  {
   "cell_type": "code",
   "execution_count": 4,
   "id": "21ad56ea-123d-4a52-b838-97a17ed82e93",
   "metadata": {},
   "outputs": [],
   "source": [
    "BASE_URL = 'http://flupy.org/data/flags'"
   ]
  },
  {
   "cell_type": "code",
   "execution_count": 5,
   "id": "f40eaaa4-7fb5-4fea-9957-5e515bae7643",
   "metadata": {},
   "outputs": [],
   "source": [
    "DEST_DIR = r'C:\\Users\\Ivo\\Downloads\\Genius\\fluent_python\\17-futures-py3.7\\countries\\flags' # 'downloads/'  # <4>"
   ]
  },
  {
   "cell_type": "code",
   "execution_count": 6,
   "id": "1725310e-20ca-46bd-8ace-6b59022ed567",
   "metadata": {},
   "outputs": [],
   "source": [
    "def save_flag(img, filename):  # <5>\n",
    "    path = os.path.join(DEST_DIR, filename)\n",
    "    with open(path, 'wb') as fp:\n",
    "        fp.write(img)"
   ]
  },
  {
   "cell_type": "code",
   "execution_count": 7,
   "id": "3aa8c1e1-e3f0-4bb3-ab17-327331de802b",
   "metadata": {},
   "outputs": [],
   "source": [
    "def get_flag(cc):  # <6>\n",
    "    url = '{}/{cc}/{cc}.gif'.format(BASE_URL, cc=cc.lower())\n",
    "    resp = requests.get(url)\n",
    "    return resp.content"
   ]
  },
  {
   "cell_type": "code",
   "execution_count": 8,
   "id": "e760729e-ee7e-42bf-a988-a4219ec0678c",
   "metadata": {},
   "outputs": [],
   "source": [
    "def show(text):  # <7>\n",
    "    print(text, end=' ')\n",
    "    sys.stdout.flush()"
   ]
  },
  {
   "cell_type": "code",
   "execution_count": 9,
   "id": "293c9c73-5b26-4aa9-94ff-2b914f6eba2a",
   "metadata": {},
   "outputs": [],
   "source": [
    "def download_many(cc_list):  # <8>\n",
    "    for cc in sorted(cc_list):  # <9>\n",
    "        image = get_flag(cc)\n",
    "        show(cc)\n",
    "        save_flag(image, cc.lower() + '.gif')\n",
    "\n",
    "    return len(cc_list)"
   ]
  },
  {
   "cell_type": "code",
   "execution_count": 10,
   "id": "3fd820bb-3300-4ac3-a79e-bfcbed895717",
   "metadata": {},
   "outputs": [],
   "source": [
    "def main():  # <10>\n",
    "    t0 = time.time()\n",
    "    count = download_many(POP20_CC)\n",
    "    elapsed = time.time() - t0\n",
    "    msg = '\\n{} flags downloaded in {:.2f}s'\n",
    "    print(msg.format(count, elapsed))"
   ]
  },
  {
   "cell_type": "code",
   "execution_count": 11,
   "id": "8f1e4eaf-16e2-4815-b1bd-76e06fbb0e07",
   "metadata": {},
   "outputs": [
    {
     "name": "stdout",
     "output_type": "stream",
     "text": [
      "BD BR CD CN DE EG ET FR ID IN IR JP MX NG PH PK RU TR US VN \n",
      "20 flags downloaded in 11.11s\n"
     ]
    }
   ],
   "source": [
    "if __name__ == '__main__':\n",
    "    main()"
   ]
  }
 ],
 "metadata": {
  "kernelspec": {
   "display_name": "Python 3 (ipykernel)",
   "language": "python",
   "name": "python3"
  },
  "language_info": {
   "codemirror_mode": {
    "name": "ipython",
    "version": 3
   },
   "file_extension": ".py",
   "mimetype": "text/x-python",
   "name": "python",
   "nbconvert_exporter": "python",
   "pygments_lexer": "ipython3",
   "version": "3.10.2"
  }
 },
 "nbformat": 4,
 "nbformat_minor": 5
}
