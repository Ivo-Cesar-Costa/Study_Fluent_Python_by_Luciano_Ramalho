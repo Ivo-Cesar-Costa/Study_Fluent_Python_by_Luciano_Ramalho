{
 "cells": [
  {
   "cell_type": "code",
   "execution_count": 1,
   "id": "97ff6fba-ed90-4cbe-83e5-ae34cb2ce427",
   "metadata": {},
   "outputs": [
    {
     "name": "stdout",
     "output_type": "stream",
     "text": [
      "importing Jupyter notebook from flags2_sequential.ipynb\n"
     ]
    }
   ],
   "source": [
    "import collections\n",
    "from concurrent import futures\n",
    "\n",
    "import requests\n",
    "import tqdm  # <1>\n",
    "import import_ipynb\n",
    "#from flags2_common import main, HTTPStatus  # <2>\n",
    "%run flags2_common.ipynb import main, HTTPStatus \n",
    "from flags2_sequential import download_one  # <3>"
   ]
  },
  {
   "cell_type": "code",
   "execution_count": 2,
   "id": "9db84d06-aaad-4c80-98a3-5902908b310e",
   "metadata": {},
   "outputs": [],
   "source": [
    "DEFAULT_CONCUR_REQ = 30  # <4>\n",
    "MAX_CONCUR_REQ = 1000  # <5>"
   ]
  },
  {
   "cell_type": "code",
   "execution_count": 3,
   "id": "3c6543ac-dbe6-451b-a5c5-eb5ac271976e",
   "metadata": {},
   "outputs": [],
   "source": [
    "def download_many(cc_list, base_url, verbose, concur_req):\n",
    "    counter = collections.Counter()\n",
    "    with futures.ThreadPoolExecutor(max_workers=concur_req) as executor:  # <6>\n",
    "        to_do_map = {}  # <7>\n",
    "        for cc in sorted(cc_list):  # <8>\n",
    "            future = executor.submit(download_one,\n",
    "                            cc, base_url, verbose)  # <9>\n",
    "            to_do_map[future] = cc  # <10>\n",
    "        done_iter = futures.as_completed(to_do_map)  # <11>\n",
    "        if not verbose:\n",
    "            done_iter = tqdm.tqdm(done_iter, total=len(cc_list))  # <12>\n",
    "        for future in done_iter:  # <13>\n",
    "            try:\n",
    "                res = future.result()  # <14>\n",
    "            except requests.exceptions.HTTPError as exc:  # <15>\n",
    "                error_msg = 'HTTP {res.status_code} - {res.reason}'\n",
    "                error_msg = error_msg.format(res=exc.response)\n",
    "            except requests.exceptions.ConnectionError as exc:\n",
    "                error_msg = 'Connection error'\n",
    "            else:\n",
    "                error_msg = ''\n",
    "                status = res.status\n",
    "\n",
    "            if error_msg:\n",
    "                status = HTTPStatus.error\n",
    "            counter[status] += 1\n",
    "            if verbose and error_msg:\n",
    "                cc = to_do_map[future]  # <16>\n",
    "                print('*** Error for {}: {}'.format(cc, error_msg))\n",
    "\n",
    "    return counter"
   ]
  },
  {
   "cell_type": "code",
   "execution_count": 4,
   "id": "05b22b93-79da-4b37-b86d-26021a64ad3d",
   "metadata": {},
   "outputs": [
    {
     "name": "stderr",
     "output_type": "stream",
     "text": [
      "usage: ipykernel_launcher.py [-h] [-a] [-e] [-l N] [-m CONCURRENT] [-s LABEL] [-v] [CC ...]\n",
      "ipykernel_launcher.py: error: unrecognized arguments: -f\n"
     ]
    },
    {
     "ename": "SystemExit",
     "evalue": "2",
     "output_type": "error",
     "traceback": [
      "An exception has occurred, use %tb to see the full traceback.\n",
      "\u001b[1;31mSystemExit\u001b[0m\u001b[1;31m:\u001b[0m 2\n"
     ]
    },
    {
     "name": "stderr",
     "output_type": "stream",
     "text": [
      "C:\\Users\\Ivo\\AppData\\Local\\Programs\\Python\\Python310\\lib\\site-packages\\IPython\\core\\interactiveshell.py:3259: UserWarning: To exit: use 'exit', 'quit', or Ctrl-D.\n",
      "  warn(\"To exit: use 'exit', 'quit', or Ctrl-D.\", stacklevel=1)\n"
     ]
    }
   ],
   "source": [
    "if __name__ == '__main__':\n",
    "    main(download_many, DEFAULT_CONCUR_REQ, MAX_CONCUR_REQ)"
   ]
  }
 ],
 "metadata": {
  "kernelspec": {
   "display_name": "Python 3 (ipykernel)",
   "language": "python",
   "name": "python3"
  },
  "language_info": {
   "codemirror_mode": {
    "name": "ipython",
    "version": 3
   },
   "file_extension": ".py",
   "mimetype": "text/x-python",
   "name": "python",
   "nbconvert_exporter": "python",
   "pygments_lexer": "ipython3",
   "version": "3.10.2"
  }
 },
 "nbformat": 4,
 "nbformat_minor": 5
}
