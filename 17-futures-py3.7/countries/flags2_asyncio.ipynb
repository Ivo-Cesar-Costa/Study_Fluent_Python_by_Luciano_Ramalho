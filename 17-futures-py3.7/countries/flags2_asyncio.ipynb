{
 "cells": [
  {
   "cell_type": "code",
   "execution_count": 1,
   "id": "cd177e7e-9967-4051-b5fd-e12f053042e7",
   "metadata": {},
   "outputs": [],
   "source": [
    "import asyncio\n",
    "import collections\n",
    "import contextlib\n",
    "import aiohttp\n",
    "from aiohttp import web\n",
    "import tqdm"
   ]
  },
  {
   "cell_type": "code",
   "execution_count": 2,
   "id": "3851959b-e18f-4fcb-b2b9-e1e3e062a97a",
   "metadata": {},
   "outputs": [],
   "source": [
    "#from flags2_common import main, HTTPStatus, Result, save_flag\n",
    "%run flags2_common.ipynb import main, HTTPStatus, Result, save_flag "
   ]
  },
  {
   "cell_type": "code",
   "execution_count": 3,
   "id": "03c12346-9083-4053-bd91-f38361c075d8",
   "metadata": {},
   "outputs": [],
   "source": [
    "DEFAULT_CONCUR_REQ = 5\n",
    "MAX_CONCUR_REQ = 1000"
   ]
  },
  {
   "cell_type": "code",
   "execution_count": 4,
   "id": "bb8cb41a-d7da-417d-a666-c202c956a803",
   "metadata": {},
   "outputs": [],
   "source": [
    "class FetchError(Exception):  # <1>\n",
    "    def __init__(self, country_code):\n",
    "        self.country_code = country_code"
   ]
  },
  {
   "cell_type": "code",
   "execution_count": 5,
   "id": "bfbdb51f-7662-40bf-94f3-1dd9c1ba117b",
   "metadata": {},
   "outputs": [],
   "source": [
    "async def get_flag(session, base_url, cc): # <2>\n",
    "    url = '{}/{cc}/{cc}.gif'.format(base_url, cc=cc.lower())\n",
    "    async with session.get(url) as resp:\n",
    "        if resp.status == 200:\n",
    "            return await resp.read()\n",
    "        elif resp.status == 404:\n",
    "            raise web.HTTPNotFound()\n",
    "        else:\n",
    "            raise aiohttp.HttpProcessingError(\n",
    "                code=resp.status, message=resp.reason,\n",
    "                headers=resp.headers)"
   ]
  },
  {
   "cell_type": "code",
   "execution_count": 6,
   "id": "8f834790-a4e2-439d-831e-b6ec42c04076",
   "metadata": {},
   "outputs": [],
   "source": [
    "async def download_one(session, cc, base_url, semaphore, verbose):  # <3>\n",
    "    try:\n",
    "        async with semaphore:  # <4>\n",
    "            image = await get_flag(session, base_url, cc)  # <5>\n",
    "    except web.HTTPNotFound:  # <6>\n",
    "        status = HTTPStatus.not_found\n",
    "        msg = 'not found'\n",
    "    except Exception as exc:\n",
    "        raise FetchError(cc) from exc  # <7>\n",
    "    else:\n",
    "        save_flag(image, cc.lower() + '.gif')  # <8>\n",
    "        status = HTTPStatus.ok\n",
    "        msg = 'OK'\n",
    "\n",
    "    if verbose and msg:\n",
    "        print(cc, msg)\n",
    "\n",
    "    return Result(status, cc)"
   ]
  },
  {
   "cell_type": "code",
   "execution_count": 7,
   "id": "00c0a619-19c1-40d5-98c3-03e676fa8cf2",
   "metadata": {},
   "outputs": [],
   "source": [
    "async def downloader_coro(cc_list, base_url, verbose, concur_req):  # <1>\n",
    "    counter = collections.Counter()\n",
    "    semaphore = asyncio.Semaphore(concur_req)  # <2>\n",
    "    async with aiohttp.ClientSession() as session:  # <8>\n",
    "        to_do = [download_one(session, cc, base_url, semaphore, verbose)\n",
    "                for cc in sorted(cc_list)]  # <3>\n",
    "\n",
    "        to_do_iter = asyncio.as_completed(to_do)  # <4>\n",
    "        if not verbose:\n",
    "            to_do_iter = tqdm.tqdm(to_do_iter, total=len(cc_list))  # <5>\n",
    "        for future in to_do_iter:  # <6>\n",
    "            try:\n",
    "                res = await future  # <7>\n",
    "            except FetchError as exc:  # <8>\n",
    "                country_code = exc.country_code  # <9>\n",
    "                try:\n",
    "                    error_msg = exc.__cause__.args[0]  # <10>\n",
    "                except IndexError:\n",
    "                    error_msg = exc.__cause__.__class__.__name__  # <11>\n",
    "                if verbose and error_msg:\n",
    "                    msg = '*** Error for {}: {}'\n",
    "                    print(msg.format(country_code, error_msg))\n",
    "                status = HTTPStatus.error\n",
    "            else:\n",
    "                status = res.status\n",
    "\n",
    "            counter[status] += 1  # <12>\n",
    "\n",
    "    return counter  # <13>"
   ]
  },
  {
   "cell_type": "code",
   "execution_count": 8,
   "id": "82f8319e-1f3e-4f7d-a3cf-93a16e918f9b",
   "metadata": {},
   "outputs": [],
   "source": [
    "def download_many(cc_list, base_url, verbose, concur_req):\n",
    "    loop = asyncio.get_event_loop()\n",
    "    coro = downloader_coro(cc_list, base_url, verbose, concur_req)\n",
    "    counts = loop.run_until_complete(coro)  # <14>\n",
    "    loop.close()  # <15>\n",
    "\n",
    "    return counts"
   ]
  },
  {
   "cell_type": "code",
   "execution_count": 9,
   "id": "30b2c874-26d9-45ad-b90d-a3f278697746",
   "metadata": {},
   "outputs": [
    {
     "name": "stderr",
     "output_type": "stream",
     "text": [
      "usage: ipykernel_launcher.py [-h] [-a] [-e] [-l N] [-m CONCURRENT] [-s LABEL] [-v] [CC ...]\n",
      "ipykernel_launcher.py: error: unrecognized arguments: -f\n"
     ]
    },
    {
     "ename": "SystemExit",
     "evalue": "2",
     "output_type": "error",
     "traceback": [
      "An exception has occurred, use %tb to see the full traceback.\n",
      "\u001b[1;31mSystemExit\u001b[0m\u001b[1;31m:\u001b[0m 2\n"
     ]
    },
    {
     "name": "stderr",
     "output_type": "stream",
     "text": [
      "C:\\Users\\Ivo\\AppData\\Local\\Programs\\Python\\Python310\\lib\\site-packages\\IPython\\core\\interactiveshell.py:3259: UserWarning: To exit: use 'exit', 'quit', or Ctrl-D.\n",
      "  warn(\"To exit: use 'exit', 'quit', or Ctrl-D.\", stacklevel=1)\n"
     ]
    }
   ],
   "source": [
    "if __name__ == '__main__':\n",
    "    main(download_many, DEFAULT_CONCUR_REQ, MAX_CONCUR_REQ)"
   ]
  }
 ],
 "metadata": {
  "kernelspec": {
   "display_name": "Python 3 (ipykernel)",
   "language": "python",
   "name": "python3"
  },
  "language_info": {
   "codemirror_mode": {
    "name": "ipython",
    "version": 3
   },
   "file_extension": ".py",
   "mimetype": "text/x-python",
   "name": "python",
   "nbconvert_exporter": "python",
   "pygments_lexer": "ipython3",
   "version": "3.10.2"
  }
 },
 "nbformat": 4,
 "nbformat_minor": 5
}
