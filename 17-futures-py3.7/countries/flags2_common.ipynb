{
 "cells": [
  {
   "cell_type": "code",
   "execution_count": 1,
   "id": "e68cd8af-8af4-4f2d-bd2b-2622f4a1336b",
   "metadata": {},
   "outputs": [],
   "source": [
    "import os\n",
    "import time\n",
    "import sys\n",
    "import string\n",
    "import argparse\n",
    "from collections import namedtuple\n",
    "from enum import Enum"
   ]
  },
  {
   "cell_type": "code",
   "execution_count": 2,
   "id": "38ddca3d-2d94-4b2a-b3da-ccd13ac2113a",
   "metadata": {},
   "outputs": [],
   "source": [
    "Result = namedtuple('Result', 'status data')\n",
    "\n",
    "HTTPStatus = Enum('Status', 'ok not_found error')\n",
    "\n",
    "POP20_CC = ('CN IN US ID BR PK NG BD RU JP '\n",
    "            'MX PH VN ET EG DE IR TR CD FR').split()\n",
    "\n",
    "DEFAULT_CONCUR_REQ = 1\n",
    "MAX_CONCUR_REQ = 1\n",
    "\n",
    "SERVERS = {\n",
    "    'REMOTE': 'http://flupy.org/data/flags',\n",
    "    'LOCAL':  'http://localhost:8001/flags',\n",
    "    'DELAY':  'http://localhost:8002/flags',\n",
    "    'ERROR':  'http://localhost:8003/flags',\n",
    "}\n",
    "DEFAULT_SERVER = 'LOCAL'\n",
    "\n",
    "DEST_DIR = r'C:\\Users\\Ivo\\Downloads\\Genius\\fluent_python\\17-futures\\countries\\flags2_common' #'downloads/'\n",
    "COUNTRY_CODES_FILE = 'country_codes.txt'"
   ]
  },
  {
   "cell_type": "code",
   "execution_count": 3,
   "id": "520f32c6-a34e-4a74-9f94-91622f6f128e",
   "metadata": {},
   "outputs": [],
   "source": [
    "def save_flag(img, filename):\n",
    "    path = os.path.join(DEST_DIR, filename)\n",
    "    with open(path, 'wb') as fp:\n",
    "        fp.write(img)"
   ]
  },
  {
   "cell_type": "code",
   "execution_count": 4,
   "id": "fc8ec0ae-9498-4f82-bae9-2b3b963ca208",
   "metadata": {},
   "outputs": [],
   "source": [
    "def initial_report(cc_list, actual_req, server_label):\n",
    "    if len(cc_list) <= 10:\n",
    "        cc_msg = ', '.join(cc_list)\n",
    "    else:\n",
    "        cc_msg = 'from {} to {}'.format(cc_list[0], cc_list[-1])\n",
    "    print('{} site: {}'.format(server_label, SERVERS[server_label]))\n",
    "    msg = 'Searching for {} flag{}: {}'\n",
    "    plural = 's' if len(cc_list) != 1 else ''\n",
    "    print(msg.format(len(cc_list), plural, cc_msg))\n",
    "    plural = 's' if actual_req != 1 else ''\n",
    "    msg = '{} concurrent connection{} will be used.'\n",
    "    print(msg.format(actual_req, plural))"
   ]
  },
  {
   "cell_type": "code",
   "execution_count": 5,
   "id": "a5a8b994-636e-45c4-8797-8922e1527080",
   "metadata": {},
   "outputs": [],
   "source": [
    "def final_report(cc_list, counter, start_time):\n",
    "    elapsed = time.time() - start_time\n",
    "    print('-' * 20)\n",
    "    msg = '{} flag{} downloaded.'\n",
    "    plural = 's' if counter[HTTPStatus.ok] != 1 else ''\n",
    "    print(msg.format(counter[HTTPStatus.ok], plural))\n",
    "    if counter[HTTPStatus.not_found]:\n",
    "        print(counter[HTTPStatus.not_found], 'not found.')\n",
    "    if counter[HTTPStatus.error]:\n",
    "        plural = 's' if counter[HTTPStatus.error] != 1 else ''\n",
    "        print('{} error{}.'.format(counter[HTTPStatus.error], plural))\n",
    "    print('Elapsed time: {:.2f}s'.format(elapsed))"
   ]
  },
  {
   "cell_type": "code",
   "execution_count": 6,
   "id": "16da4452-1d26-46ca-9daf-06db464afe24",
   "metadata": {},
   "outputs": [],
   "source": [
    "def expand_cc_args(every_cc, all_cc, cc_args, limit):\n",
    "    codes = set()\n",
    "    A_Z = string.ascii_uppercase\n",
    "    if every_cc:\n",
    "        codes.update(a+b for a in A_Z for b in A_Z)\n",
    "    elif all_cc:\n",
    "        with open(COUNTRY_CODES_FILE) as fp:\n",
    "            text = fp.read()\n",
    "        codes.update(text.split())\n",
    "    else:\n",
    "        for cc in (c.upper() for c in cc_args):\n",
    "            if len(cc) == 1 and cc in A_Z:\n",
    "                codes.update(cc+c for c in A_Z)\n",
    "            elif len(cc) == 2 and all(c in A_Z for c in cc):\n",
    "                codes.add(cc)\n",
    "            else:\n",
    "                msg = 'each CC argument must be A to Z or AA to ZZ.'\n",
    "                raise ValueError('*** Usage error: '+msg)\n",
    "    return sorted(codes)[:limit]"
   ]
  },
  {
   "cell_type": "code",
   "execution_count": 7,
   "id": "05db09b6-6f58-48fe-bb6b-4578afdce161",
   "metadata": {},
   "outputs": [],
   "source": [
    "def process_args(default_concur_req):\n",
    "    server_options = ', '.join(sorted(SERVERS))\n",
    "    parser = argparse.ArgumentParser(\n",
    "                description='Download flags for country codes. '\n",
    "                'Default: top 20 countries by population.')\n",
    "    parser.add_argument('cc', metavar='CC', nargs='*',\n",
    "                help='country code or 1st letter (eg. B for BA...BZ)')\n",
    "    parser.add_argument('-a', '--all', action='store_true',\n",
    "                help='get all available flags (AD to ZW)')\n",
    "    parser.add_argument('-e', '--every', action='store_true',\n",
    "                help='get flags for every possible code (AA...ZZ)')\n",
    "    parser.add_argument('-l', '--limit', metavar='N', type=int,\n",
    "                help='limit to N first codes', default=sys.maxsize)\n",
    "    parser.add_argument('-m', '--max_req', metavar='CONCURRENT', type=int,\n",
    "                default=default_concur_req,\n",
    "                help='maximum concurrent requests (default={})'\n",
    "                      .format(default_concur_req))\n",
    "    parser.add_argument('-s', '--server', metavar='LABEL',\n",
    "                default=DEFAULT_SERVER,\n",
    "                help='Server to hit; one of {} (default={})'\n",
    "                      .format(server_options, DEFAULT_SERVER))\n",
    "    parser.add_argument('-v', '--verbose', action='store_true',\n",
    "                help='output detailed progress info')\n",
    "    args = parser.parse_args()\n",
    "    if args.max_req < 1:\n",
    "        print('*** Usage error: --max_req CONCURRENT must be >= 1')\n",
    "        parser.print_usage()\n",
    "        sys.exit(1)\n",
    "    if args.limit < 1:\n",
    "        print('*** Usage error: --limit N must be >= 1')\n",
    "        parser.print_usage()\n",
    "        sys.exit(1)\n",
    "    args.server = args.server.upper()\n",
    "    if args.server not in SERVERS:\n",
    "        print('*** Usage error: --server LABEL must be one of',\n",
    "              server_options)\n",
    "        parser.print_usage()\n",
    "        sys.exit(1)\n",
    "    try:\n",
    "        cc_list = expand_cc_args(args.every, args.all, args.cc, args.limit)\n",
    "    except ValueError as exc:\n",
    "        print(exc.args[0])\n",
    "        parser.print_usage()\n",
    "        sys.exit(1)\n",
    "\n",
    "    if not cc_list:\n",
    "        cc_list = sorted(POP20_CC)\n",
    "    return args, cc_list"
   ]
  },
  {
   "cell_type": "code",
   "execution_count": 8,
   "id": "16f16112-c52d-493f-88b8-3d8a3ae9c170",
   "metadata": {},
   "outputs": [],
   "source": [
    "def main(download_many, default_concur_req, max_concur_req):\n",
    "    args, cc_list = process_args(default_concur_req)\n",
    "    actual_req = min(args.max_req, max_concur_req, len(cc_list))\n",
    "    initial_report(cc_list, actual_req, args.server)\n",
    "    base_url = SERVERS[args.server]\n",
    "    t0 = time.time()\n",
    "    counter = download_many(cc_list, base_url, args.verbose, actual_req)\n",
    "    assert sum(counter.values()) == len(cc_list), \\\n",
    "        'some downloads are unaccounted for'\n",
    "    final_report(cc_list, counter, t0)"
   ]
  }
 ],
 "metadata": {
  "kernelspec": {
   "display_name": "Python 3 (ipykernel)",
   "language": "python",
   "name": "python3"
  },
  "language_info": {
   "codemirror_mode": {
    "name": "ipython",
    "version": 3
   },
   "file_extension": ".py",
   "mimetype": "text/x-python",
   "name": "python",
   "nbconvert_exporter": "python",
   "pygments_lexer": "ipython3",
   "version": "3.10.2"
  }
 },
 "nbformat": 4,
 "nbformat_minor": 5
}
