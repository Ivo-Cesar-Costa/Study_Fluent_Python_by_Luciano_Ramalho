{
 "cells": [
  {
   "cell_type": "code",
   "execution_count": 1,
   "id": "b03ed8ce-a886-4109-ab2b-ee25956eabc7",
   "metadata": {},
   "outputs": [],
   "source": [
    "import os\n",
    "import time\n",
    "import sys\n",
    "import asyncio  # <1>\n",
    "import aiohttp  # <2>"
   ]
  },
  {
   "cell_type": "code",
   "execution_count": 2,
   "id": "adf64994-594c-4347-a92f-eab34f01c92f",
   "metadata": {},
   "outputs": [],
   "source": [
    "POP20_CC = ('CN IN US ID BR PK NG BD RU JP '\n",
    "            'MX PH VN ET EG DE IR TR CD FR').split()"
   ]
  },
  {
   "cell_type": "code",
   "execution_count": 3,
   "id": "3bdcc6db-944c-43e7-a94d-6b1bd8f95c1b",
   "metadata": {},
   "outputs": [],
   "source": [
    "BASE_URL = 'http://flupy.org/data/flags'"
   ]
  },
  {
   "cell_type": "code",
   "execution_count": 4,
   "id": "cb7d9be9-9f39-4870-9018-0fd6eae3b8d6",
   "metadata": {},
   "outputs": [],
   "source": [
    "DEST_DIR = r'C:\\Users\\Ivo\\Downloads\\Genius\\fluent_python\\17-futures-py3.7\\countries\\flags_asyncio'  # 'downloads/'"
   ]
  },
  {
   "cell_type": "code",
   "execution_count": 5,
   "id": "d2bff544-ef4c-4eef-a08b-bded6e1ee24c",
   "metadata": {},
   "outputs": [],
   "source": [
    "def save_flag(img, filename):\n",
    "    path = os.path.join(DEST_DIR, filename)\n",
    "    with open(path, 'wb') as fp:\n",
    "        fp.write(img)"
   ]
  },
  {
   "cell_type": "code",
   "execution_count": 6,
   "id": "9ba8a2b6-d2e4-4f30-8a14-8ca810cf55de",
   "metadata": {},
   "outputs": [],
   "source": [
    "async def get_flag(session, cc):  # <3>\n",
    "    url = '{}/{cc}/{cc}.gif'.format(BASE_URL, cc=cc.lower())\n",
    "    async with session.get(url) as resp:        # <4>\n",
    "        return await resp.read()  # <5>"
   ]
  },
  {
   "cell_type": "code",
   "execution_count": 7,
   "id": "47151475-5949-45ac-9477-695bffe8b258",
   "metadata": {},
   "outputs": [],
   "source": [
    "def show(text):\n",
    "    print(text, end=' ')\n",
    "    sys.stdout.flush()"
   ]
  },
  {
   "cell_type": "code",
   "execution_count": 8,
   "id": "8f97ca79-8e54-4a27-8d60-8f935574b5c7",
   "metadata": {},
   "outputs": [],
   "source": [
    "async def download_one(session, cc):  # <6>\n",
    "    image = await get_flag(session, cc)  # <7>\n",
    "    show(cc)\n",
    "    save_flag(image, cc.lower() + '.gif')\n",
    "    return cc"
   ]
  },
  {
   "cell_type": "code",
   "execution_count": 9,
   "id": "3a7c681e-a0e9-4013-8ee6-39a8b574e817",
   "metadata": {},
   "outputs": [],
   "source": [
    "async def download_many(cc_list):\n",
    "    async with aiohttp.ClientSession() as session:  # <8>\n",
    "        res = await asyncio.gather(                 # <9>\n",
    "            *[asyncio.create_task(download_one(session, cc))\n",
    "                for cc in sorted(cc_list)])\n",
    "\n",
    "    return len(res)"
   ]
  },
  {
   "cell_type": "code",
   "execution_count": 10,
   "id": "f66cd2e9-64dc-485b-afc9-6b66dab46ae3",
   "metadata": {},
   "outputs": [],
   "source": [
    "def main():  # <10>\n",
    "    t0 = time.time()\n",
    "    count = asyncio.run(download_many(POP20_CC))\n",
    "    elapsed = time.time() - t0\n",
    "    msg = '\\n{} flags downloaded in {:.2f}s'\n",
    "    print(msg.format(count, elapsed))"
   ]
  },
  {
   "cell_type": "code",
   "execution_count": 11,
   "id": "6eca8790-6636-4d82-8a22-cafcbf8fec3a",
   "metadata": {},
   "outputs": [],
   "source": [
    "if __name__ == '__main__':\n",
    "    main()"
   ]
  },
  {
   "cell_type": "code",
   "execution_count": 12,
   "id": "02b12cb8-3ed2-401d-8616-4f267ea91334",
   "metadata": {},
   "outputs": [
    {
     "data": {
      "text/plain": [
       "'3.8.1'"
      ]
     },
     "execution_count": 12,
     "metadata": {},
     "output_type": "execute_result"
    }
   ],
   "source": [
    "aiohttp.__version__"
   ]
  }
 ],
 "metadata": {
  "kernelspec": {
   "display_name": "Python 3 (ipykernel)",
   "language": "python",
   "name": "python3"
  },
  "language_info": {
   "codemirror_mode": {
    "name": "ipython",
    "version": 3
   },
   "file_extension": ".py",
   "mimetype": "text/x-python",
   "name": "python",
   "nbconvert_exporter": "python",
   "pygments_lexer": "ipython3",
   "version": "3.10.2"
  }
 },
 "nbformat": 4,
 "nbformat_minor": 5
}
