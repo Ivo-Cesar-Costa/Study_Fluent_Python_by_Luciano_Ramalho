{
 "cells": [
  {
   "cell_type": "code",
   "execution_count": 1,
   "id": "5209cd87-b68c-4855-8057-ab09294ba068",
   "metadata": {},
   "outputs": [],
   "source": [
    "import os\n",
    "import time\n",
    "import sys\n",
    "from concurrent import futures  # <1>\n",
    "import requests"
   ]
  },
  {
   "cell_type": "code",
   "execution_count": 2,
   "id": "c2a24768-8b04-4014-98ff-6ead734a0bf7",
   "metadata": {},
   "outputs": [],
   "source": [
    "POP20_CC = ('CN IN US ID BR PK NG BD RU JP '\n",
    "            'MX PH VN ET EG DE IR TR CD FR').split()"
   ]
  },
  {
   "cell_type": "code",
   "execution_count": 3,
   "id": "60e6e3aa-eb8e-430a-88fc-42d73e6ac109",
   "metadata": {},
   "outputs": [],
   "source": [
    "BASE_URL = 'http://flupy.org/data/flags'"
   ]
  },
  {
   "cell_type": "code",
   "execution_count": 4,
   "id": "a7dc1cf3-c475-41c9-83c2-a4b0dd517de2",
   "metadata": {},
   "outputs": [],
   "source": [
    "DEST_DIR = r'C:\\Users\\Ivo\\Downloads\\Genius\\fluent_python\\17-futures-py3.7\\countries\\flags_threadpool' #'downloads/'"
   ]
  },
  {
   "cell_type": "code",
   "execution_count": 5,
   "id": "61127df0-2465-4e0c-924e-c7b4d63bdd77",
   "metadata": {},
   "outputs": [],
   "source": [
    "MAX_WORKERS = 20  # <2>"
   ]
  },
  {
   "cell_type": "code",
   "execution_count": 6,
   "id": "49ddfdf7-3296-4d42-809b-d10b1085d8e1",
   "metadata": {},
   "outputs": [],
   "source": [
    "def save_flag(img, filename):\n",
    "    path = os.path.join(DEST_DIR, filename)\n",
    "    with open(path, 'wb') as fp:\n",
    "        fp.write(img)"
   ]
  },
  {
   "cell_type": "code",
   "execution_count": 7,
   "id": "18bd9857-fa5d-47f2-b188-355d4de75ec0",
   "metadata": {},
   "outputs": [],
   "source": [
    "def get_flag(cc):\n",
    "    url = '{}/{cc}/{cc}.gif'.format(BASE_URL, cc=cc.lower())\n",
    "    resp = requests.get(url)\n",
    "    return resp.content"
   ]
  },
  {
   "cell_type": "code",
   "execution_count": 8,
   "id": "944c1e32-6a72-4657-8bc5-0003b7712f95",
   "metadata": {},
   "outputs": [],
   "source": [
    "def show(text):\n",
    "    print(text, end=' ')\n",
    "    sys.stdout.flush()"
   ]
  },
  {
   "cell_type": "code",
   "execution_count": 9,
   "id": "5bd1e812-5ff1-4e0b-ba9e-f3fdbe9c9c07",
   "metadata": {},
   "outputs": [],
   "source": [
    "def download_one(cc):  # <3>\n",
    "    image = get_flag(cc)\n",
    "    show(cc)\n",
    "    save_flag(image, cc.lower() + '.gif')\n",
    "    return cc"
   ]
  },
  {
   "cell_type": "code",
   "execution_count": 10,
   "id": "e313e65d-d9f9-401f-b831-e59ea6c2dcad",
   "metadata": {},
   "outputs": [],
   "source": [
    "def download_many(cc_list):\n",
    "    workers = min(MAX_WORKERS, len(cc_list))  # <4>\n",
    "    with futures.ThreadPoolExecutor(workers) as executor:  # <5>\n",
    "        res = executor.map(download_one, sorted(cc_list))  # <6>\n",
    "\n",
    "    return len(list(res))  # <7>"
   ]
  },
  {
   "cell_type": "code",
   "execution_count": 11,
   "id": "087d20ec-28ca-4dc4-aa75-3a5893d9db25",
   "metadata": {},
   "outputs": [],
   "source": [
    "def main():  # <10>\n",
    "    t0 = time.time()\n",
    "    count = download_many(POP20_CC)\n",
    "    elapsed = time.time() - t0\n",
    "    msg = '\\n{} flags downloaded in {:.2f}s'\n",
    "    print(msg.format(count, elapsed))"
   ]
  },
  {
   "cell_type": "code",
   "execution_count": 12,
   "id": "840ae0ab-0a52-4ac9-a99c-1afa2fc9ade4",
   "metadata": {},
   "outputs": [
    {
     "name": "stdout",
     "output_type": "stream",
     "text": [
      "FR BD NG JP ID EG PH DE MX BR VN RU TR ET IR IN PK US CD CN \n",
      "20 flags downloaded in 1.41s\n"
     ]
    }
   ],
   "source": [
    "if __name__ == '__main__':\n",
    "    main()"
   ]
  },
  {
   "cell_type": "code",
   "execution_count": 13,
   "id": "ca367812-b150-4454-b874-c4466175c41c",
   "metadata": {},
   "outputs": [
    {
     "data": {
      "text/plain": [
       "'2.27.1'"
      ]
     },
     "execution_count": 13,
     "metadata": {},
     "output_type": "execute_result"
    }
   ],
   "source": [
    "requests.__version__"
   ]
  },
  {
   "cell_type": "code",
   "execution_count": 14,
   "id": "b0fadb8f-6afc-453d-8952-ad1adaee42ea",
   "metadata": {},
   "outputs": [
    {
     "name": "stdout",
     "output_type": "stream",
     "text": [
      "Name: requests\n",
      "Version: 2.27.1\n",
      "Summary: Python HTTP for Humans.\n",
      "Home-page: https://requests.readthedocs.io\n",
      "Author: Kenneth Reitz\n",
      "Author-email: me@kennethreitz.org\n",
      "License: Apache 2.0\n",
      "Location: c:\\users\\ivo\\appdata\\local\\programs\\python\\python310\\lib\\site-packages\n",
      "Requires: certifi, charset-normalizer, idna, urllib3\n",
      "Required-by: folium, geocoder, googlemaps, jupyterlab-server, opencage, pycep-correios, requests-file, requests-oauthlib, requests-toolbelt, twython, zeep\n",
      "Note: you may need to restart the kernel to use updated packages.\n"
     ]
    }
   ],
   "source": [
    "pip show requests"
   ]
  }
 ],
 "metadata": {
  "kernelspec": {
   "display_name": "Python 3 (ipykernel)",
   "language": "python",
   "name": "python3"
  },
  "language_info": {
   "codemirror_mode": {
    "name": "ipython",
    "version": 3
   },
   "file_extension": ".py",
   "mimetype": "text/x-python",
   "name": "python",
   "nbconvert_exporter": "python",
   "pygments_lexer": "ipython3",
   "version": "3.10.2"
  }
 },
 "nbformat": 4,
 "nbformat_minor": 5
}
