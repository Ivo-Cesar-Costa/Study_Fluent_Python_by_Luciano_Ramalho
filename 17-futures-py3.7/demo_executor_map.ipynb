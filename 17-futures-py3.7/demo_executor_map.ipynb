{
 "cells": [
  {
   "cell_type": "markdown",
   "id": "7d2d2c0e-bd8f-4a47-8b29-6ed8225f0563",
   "metadata": {},
   "source": [
    "#### Experiment with ``ThreadPoolExecutor.map``"
   ]
  },
  {
   "cell_type": "code",
   "execution_count": 1,
   "id": "60778de7-2936-4b6b-bbe5-941c94e02862",
   "metadata": {},
   "outputs": [],
   "source": [
    "from time import sleep, strftime\n",
    "from concurrent import futures"
   ]
  },
  {
   "cell_type": "code",
   "execution_count": 2,
   "id": "fe6d0be8-4bb1-4fa6-8ccb-956b4e98e0bc",
   "metadata": {},
   "outputs": [],
   "source": [
    "def display(*args):  # <1>\n",
    "    print(strftime('[%H:%M:%S]'), end=' ')\n",
    "    print(*args)"
   ]
  },
  {
   "cell_type": "code",
   "execution_count": 3,
   "id": "df6b7b13-5227-45da-984c-201413d0c728",
   "metadata": {},
   "outputs": [],
   "source": [
    "def loiter(n):  # <2>\n",
    "    msg = '{}loiter({}): doing nothing for {}s...'\n",
    "    display(msg.format('\\t'*n, n, n))\n",
    "    sleep(n)\n",
    "    msg = '{}loiter({}): done.'\n",
    "    display(msg.format('\\t'*n, n))\n",
    "    return n * 10  # <3>"
   ]
  },
  {
   "cell_type": "code",
   "execution_count": 4,
   "id": "6ffa569a-b804-4c85-8e36-61e3c7c91243",
   "metadata": {},
   "outputs": [],
   "source": [
    "def main():\n",
    "    display('Script starting.')\n",
    "    executor = futures.ThreadPoolExecutor(max_workers=3)  # <4>\n",
    "    results = executor.map(loiter, range(5))  # <5>\n",
    "    display('results:', results)  # <6>.\n",
    "    display('Waiting for individual results:')\n",
    "    for i, result in enumerate(results):  # <7>\n",
    "        display('result {}: {}'.format(i, result))"
   ]
  },
  {
   "cell_type": "code",
   "execution_count": 5,
   "id": "3cc944b5-e6ac-48f5-9c76-c6c712ecbcbe",
   "metadata": {},
   "outputs": [
    {
     "name": "stdout",
     "output_type": "stream",
     "text": [
      "[12:00:09] Script starting.\n",
      "[12:00:09] loiter(0): doing nothing for 0s...\n",
      "[12:00:09] loiter(0): done.\n",
      "[12:00:09] \tloiter(1): doing nothing for 1s...\n",
      "[12:00:09] \t\tloiter(2): doing nothing for 2s...\n",
      "[12:00:09] \t\t\tloiter(3): doing nothing for 3s...\n",
      "[12:00:09] results: <generator object Executor.map.<locals>.result_iterator at 0x0000027D95901A10>\n",
      "[12:00:09] Waiting for individual results:\n",
      "[12:00:09] result 0: 0\n",
      "[12:00:10] \tloiter(1): done.\n",
      "[12:00:10] \t\t\t\tloiter(4): doing nothing for 4s...\n",
      "[12:00:10] result 1: 10\n",
      "[12:00:11] \t\tloiter(2): done.\n",
      "[12:00:11] result 2: 20\n",
      "[12:00:12] \t\t\tloiter(3): done.\n",
      "[12:00:12] result 3: 30\n",
      "[12:00:14] \t\t\t\tloiter(4): done.\n",
      "[12:00:14] result 4: 40\n"
     ]
    }
   ],
   "source": [
    "main()"
   ]
  }
 ],
 "metadata": {
  "kernelspec": {
   "display_name": "Python 3 (ipykernel)",
   "language": "python",
   "name": "python3"
  },
  "language_info": {
   "codemirror_mode": {
    "name": "ipython",
    "version": 3
   },
   "file_extension": ".py",
   "mimetype": "text/x-python",
   "name": "python",
   "nbconvert_exporter": "python",
   "pygments_lexer": "ipython3",
   "version": "3.10.2"
  }
 },
 "nbformat": 4,
 "nbformat_minor": 5
}
