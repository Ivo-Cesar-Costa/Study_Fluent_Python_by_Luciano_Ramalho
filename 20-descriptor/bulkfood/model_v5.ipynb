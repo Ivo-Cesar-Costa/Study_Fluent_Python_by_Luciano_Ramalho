{
 "cells": [
  {
   "cell_type": "code",
   "execution_count": 1,
   "id": "e298e59c-4956-46b3-9a1b-5d294e0a41b6",
   "metadata": {},
   "outputs": [],
   "source": [
    "import abc"
   ]
  },
  {
   "cell_type": "code",
   "execution_count": 2,
   "id": "12a86690-e87c-48fe-93de-56905258096d",
   "metadata": {},
   "outputs": [],
   "source": [
    "class AutoStorage:  # <1>\n",
    "    __counter = 0\n",
    "\n",
    "    def __init__(self):\n",
    "        cls = self.__class__\n",
    "        prefix = cls.__name__\n",
    "        index = cls.__counter\n",
    "        self.storage_name = '_{}#{}'.format(prefix, index)\n",
    "        cls.__counter += 1\n",
    "\n",
    "    def __get__(self, instance, owner):\n",
    "        if instance is None:\n",
    "            return self\n",
    "        else:\n",
    "            return getattr(instance, self.storage_name)\n",
    "\n",
    "    def __set__(self, instance, value):\n",
    "        setattr(instance, self.storage_name, value)  # <2>"
   ]
  },
  {
   "cell_type": "code",
   "execution_count": 3,
   "id": "65019f49-e8b6-4852-a5d8-382d4f70dc23",
   "metadata": {},
   "outputs": [],
   "source": [
    "class Validated(abc.ABC, AutoStorage):  # <3>\n",
    "\n",
    "    def __set__(self, instance, value):\n",
    "        value = self.validate(instance, value)  # <4>\n",
    "        super().__set__(instance, value)  # <5>\n",
    "\n",
    "    @abc.abstractmethod\n",
    "    def validate(self, instance, value):  # <6>\n",
    "        \"\"\"return validated value or raise ValueError\"\"\""
   ]
  },
  {
   "cell_type": "code",
   "execution_count": 4,
   "id": "901a977b-a3b8-49dd-aa15-f0e9ce6d478f",
   "metadata": {},
   "outputs": [],
   "source": [
    "class Quantity(Validated):  # <7>\n",
    "    \"\"\"a number greater than zero\"\"\"\n",
    "\n",
    "    def validate(self, instance, value):\n",
    "        if value <= 0:\n",
    "            raise ValueError('value must be > 0')\n",
    "        return value"
   ]
  },
  {
   "cell_type": "code",
   "execution_count": 5,
   "id": "a31a1c33-63a4-4cc0-84d6-c012a102e79b",
   "metadata": {},
   "outputs": [],
   "source": [
    "class NonBlank(Validated):\n",
    "    \"\"\"a string with at least one non-space character\"\"\"\n",
    "\n",
    "    def validate(self, instance, value):\n",
    "        value = value.strip()\n",
    "        if len(value) == 0:\n",
    "            raise ValueError('value cannot be empty or blank')\n",
    "        return value  # <8>"
   ]
  }
 ],
 "metadata": {
  "kernelspec": {
   "display_name": "Python 3 (ipykernel)",
   "language": "python",
   "name": "python3"
  },
  "language_info": {
   "codemirror_mode": {
    "name": "ipython",
    "version": 3
   },
   "file_extension": ".py",
   "mimetype": "text/x-python",
   "name": "python",
   "nbconvert_exporter": "python",
   "pygments_lexer": "ipython3",
   "version": "3.10.2"
  }
 },
 "nbformat": 4,
 "nbformat_minor": 5
}
