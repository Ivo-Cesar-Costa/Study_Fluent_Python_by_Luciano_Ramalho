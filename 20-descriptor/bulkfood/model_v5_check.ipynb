{
 "cells": [
  {
   "cell_type": "code",
   "execution_count": 1,
   "id": "d40f03d6-1aa1-46ce-804d-c544319c1f7d",
   "metadata": {},
   "outputs": [],
   "source": [
    "import abc"
   ]
  },
  {
   "cell_type": "code",
   "execution_count": 2,
   "id": "87fc489e-5d97-4777-b987-8e299376e22b",
   "metadata": {},
   "outputs": [],
   "source": [
    "class AutoStorage:\n",
    "    __counter = 0\n",
    "\n",
    "    def __init__(self):\n",
    "        cls = self.__class__\n",
    "        prefix = cls.__name__\n",
    "        index = cls.__counter\n",
    "        self.storage_name = '_{}#{}'.format(prefix, index)\n",
    "        cls.__counter += 1\n",
    "\n",
    "    def __get__(self, instance, owner):\n",
    "        if instance is None:\n",
    "            return self\n",
    "        else:\n",
    "            return getattr(instance, self.storage_name)\n",
    "\n",
    "    def __set__(self, instance, value):\n",
    "        setattr(instance, self.storage_name, value)"
   ]
  },
  {
   "cell_type": "code",
   "execution_count": 3,
   "id": "7399cca3-e7c7-49b4-8a65-c952b11f98dd",
   "metadata": {},
   "outputs": [],
   "source": [
    "class Validated(abc.ABC, AutoStorage):\n",
    "\n",
    "    def __set__(self, instance, value):\n",
    "        value = self.validate(instance, value)\n",
    "        super().__set__(instance, value)\n",
    "\n",
    "    @abc.abstractmethod\n",
    "    def validate(self, instance, value):\n",
    "        \"\"\"return validated value or raise ValueError\"\"\""
   ]
  },
  {
   "cell_type": "code",
   "execution_count": 4,
   "id": "fd4486f3-e60e-4422-b70e-52750f4357ac",
   "metadata": {},
   "outputs": [],
   "source": [
    "INVALID = object()"
   ]
  },
  {
   "cell_type": "code",
   "execution_count": 5,
   "id": "624aa7d1-6b43-4a7f-846a-5319a5802b7f",
   "metadata": {},
   "outputs": [],
   "source": [
    "class Check(Validated):\n",
    "\n",
    "    def __init__(self, checker):\n",
    "        super().__init__()\n",
    "        self.checker = checker\n",
    "        if checker.__doc__ is None:\n",
    "            doc = ''\n",
    "        else:\n",
    "            doc = checker.__doc__ + '; '\n",
    "        self.message = doc + '{!r} is not valid.'\n",
    "\n",
    "\n",
    "    def validate(self, instance, value):\n",
    "        result = self.checker(value)\n",
    "        if result is INVALID:\n",
    "            raise ValueError(self.message.format(value))\n",
    "        return result"
   ]
  }
 ],
 "metadata": {
  "kernelspec": {
   "display_name": "Python 3 (ipykernel)",
   "language": "python",
   "name": "python3"
  },
  "language_info": {
   "codemirror_mode": {
    "name": "ipython",
    "version": 3
   },
   "file_extension": ".py",
   "mimetype": "text/x-python",
   "name": "python",
   "nbconvert_exporter": "python",
   "pygments_lexer": "ipython3",
   "version": "3.10.2"
  }
 },
 "nbformat": 4,
 "nbformat_minor": 5
}
