{
 "cells": [
  {
   "cell_type": "code",
   "execution_count": 1,
   "id": "29fefaad-8211-4131-ac3c-eb9aa410a2de",
   "metadata": {},
   "outputs": [
    {
     "name": "stdout",
     "output_type": "stream",
     "text": [
      "importing Jupyter notebook from model_v5_check.ipynb\n"
     ]
    }
   ],
   "source": [
    "import import_ipynb\n",
    "import model_v5_check as model"
   ]
  },
  {
   "cell_type": "code",
   "execution_count": 2,
   "id": "8a02b435-d1bd-45da-b7b2-82abc8df15d4",
   "metadata": {},
   "outputs": [],
   "source": [
    "def gt_zero(x):\n",
    "    '''value must be > 0'''\n",
    "    return x if x > 0 else model.INVALID"
   ]
  },
  {
   "cell_type": "code",
   "execution_count": 3,
   "id": "4ee10cc2-b2fc-49b9-8a1b-e707e4850c87",
   "metadata": {},
   "outputs": [],
   "source": [
    "def non_blank(txt):\n",
    "    txt = txt.strip()\n",
    "    return txt if txt else model.INVALID"
   ]
  },
  {
   "cell_type": "code",
   "execution_count": 4,
   "id": "8171befd-a31e-4169-9093-d0648fe75bd7",
   "metadata": {},
   "outputs": [],
   "source": [
    "class LineItem:\n",
    "    description = model.Check(non_blank)\n",
    "    weight = model.Check(gt_zero)\n",
    "    price = model.Check(gt_zero)\n",
    "\n",
    "    def __init__(self, description, weight, price):\n",
    "        self.description = description\n",
    "        self.weight = weight\n",
    "        self.price = price\n",
    "\n",
    "    def subtotal(self):\n",
    "        return self.weight * self.price"
   ]
  },
  {
   "cell_type": "markdown",
   "id": "8e4e1d2c-ac78-49b3-bbe1-9a239a69ac2c",
   "metadata": {},
   "source": [
    "#### A line item for a bulk food order has description, weight and price fields::"
   ]
  },
  {
   "cell_type": "code",
   "execution_count": 5,
   "id": "091fd774-0f18-4a71-ac12-0786014fd6e0",
   "metadata": {},
   "outputs": [
    {
     "data": {
      "text/plain": [
       "(10, 'Golden raisins', 6.95)"
      ]
     },
     "execution_count": 5,
     "metadata": {},
     "output_type": "execute_result"
    }
   ],
   "source": [
    ">>> raisins = LineItem('Golden raisins', 10, 6.95)\n",
    ">>> raisins.weight, raisins.description, raisins.price"
   ]
  },
  {
   "cell_type": "markdown",
   "id": "8058aef4-65c0-43ca-ab60-8af860f0ea2c",
   "metadata": {},
   "source": [
    "#### A ``subtotal`` method gives the total price for that line item::"
   ]
  },
  {
   "cell_type": "code",
   "execution_count": 6,
   "id": "b190f231-2c36-48a7-912b-944c93595f7f",
   "metadata": {},
   "outputs": [
    {
     "data": {
      "text/plain": [
       "69.5"
      ]
     },
     "execution_count": 6,
     "metadata": {},
     "output_type": "execute_result"
    }
   ],
   "source": [
    ">>> raisins.subtotal()"
   ]
  },
  {
   "cell_type": "markdown",
   "id": "718b1607-2f31-46b0-85d3-1a4fc7207a49",
   "metadata": {},
   "source": [
    "#### The weight of a ``LineItem`` must be greater than 0::"
   ]
  },
  {
   "cell_type": "code",
   "execution_count": 7,
   "id": "8e154959-5f4c-4ddd-af27-c22e5ee4cec8",
   "metadata": {},
   "outputs": [
    {
     "ename": "ValueError",
     "evalue": "value must be > 0; -20 is not valid.",
     "output_type": "error",
     "traceback": [
      "\u001b[1;31m---------------------------------------------------------------------------\u001b[0m",
      "\u001b[1;31mValueError\u001b[0m                                Traceback (most recent call last)",
      "Input \u001b[1;32mIn [7]\u001b[0m, in \u001b[0;36m<module>\u001b[1;34m\u001b[0m\n\u001b[1;32m----> 1\u001b[0m raisins\u001b[38;5;241m.\u001b[39mweight \u001b[38;5;241m=\u001b[39m \u001b[38;5;241m-\u001b[39m\u001b[38;5;241m20\u001b[39m\n",
      "File \u001b[1;32m<string>:4\u001b[0m, in \u001b[0;36m__set__\u001b[1;34m(self, instance, value)\u001b[0m\n",
      "File \u001b[1;32m<string>:16\u001b[0m, in \u001b[0;36mvalidate\u001b[1;34m(self, instance, value)\u001b[0m\n",
      "\u001b[1;31mValueError\u001b[0m: value must be > 0; -20 is not valid."
     ]
    }
   ],
   "source": [
    ">>> raisins.weight = -20"
   ]
  },
  {
   "cell_type": "markdown",
   "id": "d368dd2c-5013-4336-85e7-a3b9cb08c60a",
   "metadata": {},
   "source": [
    "#### No change was made::"
   ]
  },
  {
   "cell_type": "code",
   "execution_count": 8,
   "id": "fd04a34a-fe92-4be1-a6f9-dd604dc219e1",
   "metadata": {},
   "outputs": [
    {
     "data": {
      "text/plain": [
       "10"
      ]
     },
     "execution_count": 8,
     "metadata": {},
     "output_type": "execute_result"
    }
   ],
   "source": [
    ">>> raisins.weight"
   ]
  },
  {
   "cell_type": "markdown",
   "id": "ee34a125-b21a-4a64-9daf-1cb9d0e4b8ef",
   "metadata": {},
   "source": [
    "#### The value of the attributes managed by the descriptors are stored in alternate attributes, created by the descriptors in each ``LineItem`` instance::"
   ]
  },
  {
   "cell_type": "code",
   "execution_count": 9,
   "id": "a8951410-9c91-41ed-969f-7d0fbe91aa68",
   "metadata": {},
   "outputs": [
    {
     "data": {
      "text/plain": [
       "['_Check#0',\n",
       " '_Check#1',\n",
       " '_Check#2',\n",
       " '__class__',\n",
       " '__delattr__',\n",
       " '__dict__',\n",
       " '__dir__',\n",
       " '__doc__',\n",
       " '__eq__',\n",
       " '__format__',\n",
       " '__ge__',\n",
       " '__getattribute__',\n",
       " '__gt__',\n",
       " '__hash__',\n",
       " '__init__',\n",
       " '__init_subclass__',\n",
       " '__le__',\n",
       " '__lt__',\n",
       " '__module__',\n",
       " '__ne__',\n",
       " '__new__',\n",
       " '__reduce__',\n",
       " '__reduce_ex__',\n",
       " '__repr__',\n",
       " '__setattr__',\n",
       " '__sizeof__',\n",
       " '__str__',\n",
       " '__subclasshook__',\n",
       " '__weakref__',\n",
       " 'description',\n",
       " 'price',\n",
       " 'subtotal',\n",
       " 'weight']"
      ]
     },
     "execution_count": 9,
     "metadata": {},
     "output_type": "execute_result"
    }
   ],
   "source": [
    ">>> raisins = LineItem('Golden raisins', 10, 6.95)\n",
    ">>> dir(raisins)  # doctest: +ELLIPSIS +NORMALIZE_WHITESPACE"
   ]
  },
  {
   "cell_type": "code",
   "execution_count": 10,
   "id": "a618d0ec-91db-4b2e-a022-9e99dbd4b66d",
   "metadata": {},
   "outputs": [
    {
     "data": {
      "text/plain": [
       "['Golden raisins', 10, 6.95]"
      ]
     },
     "execution_count": 10,
     "metadata": {},
     "output_type": "execute_result"
    }
   ],
   "source": [
    ">>> [getattr(raisins, name) for name in dir(raisins) if name.startswith('_Check#')]"
   ]
  },
  {
   "cell_type": "markdown",
   "id": "b64ac73d-e43c-4518-820d-6461fe4f0b0b",
   "metadata": {},
   "source": [
    "#### If the descriptor is accessed in the class, the descriptor object is returned:"
   ]
  },
  {
   "cell_type": "code",
   "execution_count": 11,
   "id": "57e7431e-3a5f-4880-894e-28846033c949",
   "metadata": {},
   "outputs": [
    {
     "data": {
      "text/plain": [
       "<model_v5_check.Check at 0x28caf59e470>"
      ]
     },
     "execution_count": 11,
     "metadata": {},
     "output_type": "execute_result"
    }
   ],
   "source": [
    ">>> LineItem.weight  # doctest: +ELLIPSIS"
   ]
  },
  {
   "cell_type": "code",
   "execution_count": 12,
   "id": "5ffd47ba-05a3-4d6d-8050-69c84dc9e09d",
   "metadata": {},
   "outputs": [
    {
     "data": {
      "text/plain": [
       "'_Check#1'"
      ]
     },
     "execution_count": 12,
     "metadata": {},
     "output_type": "execute_result"
    }
   ],
   "source": [
    ">>> LineItem.weight.storage_name"
   ]
  },
  {
   "cell_type": "code",
   "execution_count": 13,
   "id": "ff6b843d-3da8-40b0-a7a6-1a0915b29067",
   "metadata": {},
   "outputs": [
    {
     "data": {
      "text/plain": [
       "'_Check#2'"
      ]
     },
     "execution_count": 13,
     "metadata": {},
     "output_type": "execute_result"
    }
   ],
   "source": [
    ">>> LineItem.price.storage_name"
   ]
  },
  {
   "cell_type": "code",
   "execution_count": 14,
   "id": "5289f6f2-9dca-46b7-a29f-ddca0f738b04",
   "metadata": {},
   "outputs": [
    {
     "data": {
      "text/plain": [
       "'_Check#0'"
      ]
     },
     "execution_count": 14,
     "metadata": {},
     "output_type": "execute_result"
    }
   ],
   "source": [
    ">>> LineItem.description.storage_name"
   ]
  },
  {
   "cell_type": "markdown",
   "id": "b35ebf6e-fa65-49aa-86b7-adb57f2ff588",
   "metadata": {},
   "source": [
    "#### The `NonBlank` descriptor prevents empty or blank strings to be used for the description:"
   ]
  },
  {
   "cell_type": "code",
   "execution_count": 15,
   "id": "9573d995-53cb-410c-b646-e17fdc92a09d",
   "metadata": {},
   "outputs": [
    {
     "ename": "ValueError",
     "evalue": "' ' is not valid.",
     "output_type": "error",
     "traceback": [
      "\u001b[1;31m---------------------------------------------------------------------------\u001b[0m",
      "\u001b[1;31mValueError\u001b[0m                                Traceback (most recent call last)",
      "Input \u001b[1;32mIn [15]\u001b[0m, in \u001b[0;36m<module>\u001b[1;34m\u001b[0m\n\u001b[0;32m      1\u001b[0m br_nuts \u001b[38;5;241m=\u001b[39m LineItem(\u001b[38;5;124m'\u001b[39m\u001b[38;5;124mBrazil Nuts\u001b[39m\u001b[38;5;124m'\u001b[39m, \u001b[38;5;241m10\u001b[39m, \u001b[38;5;241m34.95\u001b[39m)\n\u001b[1;32m----> 2\u001b[0m br_nuts\u001b[38;5;241m.\u001b[39mdescription \u001b[38;5;241m=\u001b[39m \u001b[38;5;124m'\u001b[39m\u001b[38;5;124m \u001b[39m\u001b[38;5;124m'\u001b[39m\n",
      "File \u001b[1;32m<string>:4\u001b[0m, in \u001b[0;36m__set__\u001b[1;34m(self, instance, value)\u001b[0m\n",
      "File \u001b[1;32m<string>:16\u001b[0m, in \u001b[0;36mvalidate\u001b[1;34m(self, instance, value)\u001b[0m\n",
      "\u001b[1;31mValueError\u001b[0m: ' ' is not valid."
     ]
    }
   ],
   "source": [
    ">>> br_nuts = LineItem('Brazil Nuts', 10, 34.95)\n",
    ">>> br_nuts.description = ' '"
   ]
  },
  {
   "cell_type": "code",
   "execution_count": 16,
   "id": "55e081be-e7ff-4cf3-87f0-35563d53dc45",
   "metadata": {},
   "outputs": [
    {
     "ename": "ValueError",
     "evalue": "'' is not valid.",
     "output_type": "error",
     "traceback": [
      "\u001b[1;31m---------------------------------------------------------------------------\u001b[0m",
      "\u001b[1;31mValueError\u001b[0m                                Traceback (most recent call last)",
      "Input \u001b[1;32mIn [16]\u001b[0m, in \u001b[0;36m<module>\u001b[1;34m\u001b[0m\n\u001b[1;32m----> 1\u001b[0m void \u001b[38;5;241m=\u001b[39m \u001b[43mLineItem\u001b[49m\u001b[43m(\u001b[49m\u001b[38;5;124;43m'\u001b[39;49m\u001b[38;5;124;43m'\u001b[39;49m\u001b[43m,\u001b[49m\u001b[43m \u001b[49m\u001b[38;5;241;43m1\u001b[39;49m\u001b[43m,\u001b[49m\u001b[43m \u001b[49m\u001b[38;5;241;43m1\u001b[39;49m\u001b[43m)\u001b[49m\n",
      "Input \u001b[1;32mIn [4]\u001b[0m, in \u001b[0;36mLineItem.__init__\u001b[1;34m(self, description, weight, price)\u001b[0m\n\u001b[0;32m      6\u001b[0m \u001b[38;5;28;01mdef\u001b[39;00m \u001b[38;5;21m__init__\u001b[39m(\u001b[38;5;28mself\u001b[39m, description, weight, price):\n\u001b[1;32m----> 7\u001b[0m     \u001b[38;5;28mself\u001b[39m\u001b[38;5;241m.\u001b[39mdescription \u001b[38;5;241m=\u001b[39m description\n\u001b[0;32m      8\u001b[0m     \u001b[38;5;28mself\u001b[39m\u001b[38;5;241m.\u001b[39mweight \u001b[38;5;241m=\u001b[39m weight\n\u001b[0;32m      9\u001b[0m     \u001b[38;5;28mself\u001b[39m\u001b[38;5;241m.\u001b[39mprice \u001b[38;5;241m=\u001b[39m price\n",
      "File \u001b[1;32m<string>:4\u001b[0m, in \u001b[0;36m__set__\u001b[1;34m(self, instance, value)\u001b[0m\n",
      "File \u001b[1;32m<string>:16\u001b[0m, in \u001b[0;36mvalidate\u001b[1;34m(self, instance, value)\u001b[0m\n",
      "\u001b[1;31mValueError\u001b[0m: '' is not valid."
     ]
    }
   ],
   "source": [
    ">>> void = LineItem('', 1, 1)"
   ]
  }
 ],
 "metadata": {
  "kernelspec": {
   "display_name": "Python 3 (ipykernel)",
   "language": "python",
   "name": "python3"
  },
  "language_info": {
   "codemirror_mode": {
    "name": "ipython",
    "version": 3
   },
   "file_extension": ".py",
   "mimetype": "text/x-python",
   "name": "python",
   "nbconvert_exporter": "python",
   "pygments_lexer": "ipython3",
   "version": "3.10.2"
  }
 },
 "nbformat": 4,
 "nbformat_minor": 5
}
