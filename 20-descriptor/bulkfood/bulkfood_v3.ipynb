{
 "cells": [
  {
   "cell_type": "code",
   "execution_count": 1,
   "id": "1aa7e22b-28e8-4c1c-8a51-20d4dc326c09",
   "metadata": {},
   "outputs": [],
   "source": [
    "class Quantity:  # <1>\n",
    "\n",
    "    def __init__(self, storage_name):\n",
    "        self.storage_name = storage_name  # <2>\n",
    "\n",
    "    def __set__(self, instance, value):  # <3>\n",
    "        if value > 0:\n",
    "            instance.__dict__[self.storage_name] = value  # <4>\n",
    "        else:\n",
    "            raise ValueError('value must be > 0')"
   ]
  },
  {
   "cell_type": "code",
   "execution_count": 2,
   "id": "1afc82ce-0c04-43ce-8df3-b8e335587daf",
   "metadata": {},
   "outputs": [],
   "source": [
    "class LineItem:\n",
    "    weight = Quantity('weight')  # <5>\n",
    "    price = Quantity('price')  # <6>\n",
    "\n",
    "    def __init__(self, description, weight, price):  # <7>\n",
    "        self.description = description\n",
    "        self.weight = weight\n",
    "        self.price = price\n",
    "\n",
    "    def subtotal(self):\n",
    "        return self.weight * self.price"
   ]
  },
  {
   "cell_type": "markdown",
   "id": "6f9d3ea1-82d4-4341-baf9-035a1915f509",
   "metadata": {},
   "source": [
    "#### A line item for a bulk food order has description, weight and price fields::"
   ]
  },
  {
   "cell_type": "code",
   "execution_count": 3,
   "id": "3ab29833-dab9-4ab1-b675-1efd5caff418",
   "metadata": {},
   "outputs": [
    {
     "data": {
      "text/plain": [
       "(10, 'Golden raisins', 6.95)"
      ]
     },
     "execution_count": 3,
     "metadata": {},
     "output_type": "execute_result"
    }
   ],
   "source": [
    ">>> raisins = LineItem('Golden raisins', 10, 6.95)\n",
    ">>> raisins.weight, raisins.description, raisins.price"
   ]
  },
  {
   "cell_type": "markdown",
   "id": "e6c0bacc-af05-4167-a8e1-dc4c7e8fc1a9",
   "metadata": {},
   "source": [
    "#### A ``subtotal`` method gives the total price for that line item::"
   ]
  },
  {
   "cell_type": "code",
   "execution_count": 4,
   "id": "37e330d0-0079-4327-ad4d-245a50da0c5a",
   "metadata": {},
   "outputs": [
    {
     "data": {
      "text/plain": [
       "69.5"
      ]
     },
     "execution_count": 4,
     "metadata": {},
     "output_type": "execute_result"
    }
   ],
   "source": [
    ">>> raisins.subtotal()"
   ]
  },
  {
   "cell_type": "markdown",
   "id": "d3c66e60-6781-4412-9caf-e0833c8360cf",
   "metadata": {},
   "source": [
    "#### The weight of a ``LineItem`` must be greater than 0::"
   ]
  },
  {
   "cell_type": "code",
   "execution_count": 5,
   "id": "0a0fc476-17eb-413e-bf97-61422acd3764",
   "metadata": {},
   "outputs": [
    {
     "ename": "ValueError",
     "evalue": "value must be > 0",
     "output_type": "error",
     "traceback": [
      "\u001b[1;31m---------------------------------------------------------------------------\u001b[0m",
      "\u001b[1;31mValueError\u001b[0m                                Traceback (most recent call last)",
      "Input \u001b[1;32mIn [5]\u001b[0m, in \u001b[0;36m<module>\u001b[1;34m\u001b[0m\n\u001b[1;32m----> 1\u001b[0m raisins\u001b[38;5;241m.\u001b[39mweight \u001b[38;5;241m=\u001b[39m \u001b[38;5;241m-\u001b[39m\u001b[38;5;241m20\u001b[39m\n",
      "Input \u001b[1;32mIn [1]\u001b[0m, in \u001b[0;36mQuantity.__set__\u001b[1;34m(self, instance, value)\u001b[0m\n\u001b[0;32m      8\u001b[0m     instance\u001b[38;5;241m.\u001b[39m\u001b[38;5;18m__dict__\u001b[39m[\u001b[38;5;28mself\u001b[39m\u001b[38;5;241m.\u001b[39mstorage_name] \u001b[38;5;241m=\u001b[39m value  \u001b[38;5;66;03m# <4>\u001b[39;00m\n\u001b[0;32m      9\u001b[0m \u001b[38;5;28;01melse\u001b[39;00m:\n\u001b[1;32m---> 10\u001b[0m     \u001b[38;5;28;01mraise\u001b[39;00m \u001b[38;5;167;01mValueError\u001b[39;00m(\u001b[38;5;124m'\u001b[39m\u001b[38;5;124mvalue must be > 0\u001b[39m\u001b[38;5;124m'\u001b[39m)\n",
      "\u001b[1;31mValueError\u001b[0m: value must be > 0"
     ]
    }
   ],
   "source": [
    ">>> raisins.weight = -20"
   ]
  },
  {
   "cell_type": "markdown",
   "id": "12fe4d51-6d71-423e-bb7d-a4a901016071",
   "metadata": {},
   "source": [
    "#### Negative or 0 price is not acceptable either::"
   ]
  },
  {
   "cell_type": "code",
   "execution_count": 6,
   "id": "85d6a350-0f1a-4790-bb50-63cf5ffd8b82",
   "metadata": {},
   "outputs": [
    {
     "ename": "ValueError",
     "evalue": "value must be > 0",
     "output_type": "error",
     "traceback": [
      "\u001b[1;31m---------------------------------------------------------------------------\u001b[0m",
      "\u001b[1;31mValueError\u001b[0m                                Traceback (most recent call last)",
      "Input \u001b[1;32mIn [6]\u001b[0m, in \u001b[0;36m<module>\u001b[1;34m\u001b[0m\n\u001b[1;32m----> 1\u001b[0m truffle \u001b[38;5;241m=\u001b[39m \u001b[43mLineItem\u001b[49m\u001b[43m(\u001b[49m\u001b[38;5;124;43m'\u001b[39;49m\u001b[38;5;124;43mWhite truffle\u001b[39;49m\u001b[38;5;124;43m'\u001b[39;49m\u001b[43m,\u001b[49m\u001b[43m \u001b[49m\u001b[38;5;241;43m100\u001b[39;49m\u001b[43m,\u001b[49m\u001b[43m \u001b[49m\u001b[38;5;241;43m0\u001b[39;49m\u001b[43m)\u001b[49m\n",
      "Input \u001b[1;32mIn [2]\u001b[0m, in \u001b[0;36mLineItem.__init__\u001b[1;34m(self, description, weight, price)\u001b[0m\n\u001b[0;32m      6\u001b[0m \u001b[38;5;28mself\u001b[39m\u001b[38;5;241m.\u001b[39mdescription \u001b[38;5;241m=\u001b[39m description\n\u001b[0;32m      7\u001b[0m \u001b[38;5;28mself\u001b[39m\u001b[38;5;241m.\u001b[39mweight \u001b[38;5;241m=\u001b[39m weight\n\u001b[1;32m----> 8\u001b[0m \u001b[38;5;28mself\u001b[39m\u001b[38;5;241m.\u001b[39mprice \u001b[38;5;241m=\u001b[39m price\n",
      "Input \u001b[1;32mIn [1]\u001b[0m, in \u001b[0;36mQuantity.__set__\u001b[1;34m(self, instance, value)\u001b[0m\n\u001b[0;32m      8\u001b[0m     instance\u001b[38;5;241m.\u001b[39m\u001b[38;5;18m__dict__\u001b[39m[\u001b[38;5;28mself\u001b[39m\u001b[38;5;241m.\u001b[39mstorage_name] \u001b[38;5;241m=\u001b[39m value  \u001b[38;5;66;03m# <4>\u001b[39;00m\n\u001b[0;32m      9\u001b[0m \u001b[38;5;28;01melse\u001b[39;00m:\n\u001b[1;32m---> 10\u001b[0m     \u001b[38;5;28;01mraise\u001b[39;00m \u001b[38;5;167;01mValueError\u001b[39;00m(\u001b[38;5;124m'\u001b[39m\u001b[38;5;124mvalue must be > 0\u001b[39m\u001b[38;5;124m'\u001b[39m)\n",
      "\u001b[1;31mValueError\u001b[0m: value must be > 0"
     ]
    }
   ],
   "source": [
    ">>> truffle = LineItem('White truffle', 100, 0)"
   ]
  },
  {
   "cell_type": "markdown",
   "id": "3b2ffcd3-4452-44f6-ada1-7cfd5ac95f59",
   "metadata": {},
   "source": [
    "#### No change was made::"
   ]
  },
  {
   "cell_type": "code",
   "execution_count": 7,
   "id": "e5fae07f-2a71-4100-a633-70c02042957a",
   "metadata": {},
   "outputs": [
    {
     "data": {
      "text/plain": [
       "10"
      ]
     },
     "execution_count": 7,
     "metadata": {},
     "output_type": "execute_result"
    }
   ],
   "source": [
    ">>> raisins.weight"
   ]
  }
 ],
 "metadata": {
  "kernelspec": {
   "display_name": "Python 3 (ipykernel)",
   "language": "python",
   "name": "python3"
  },
  "language_info": {
   "codemirror_mode": {
    "name": "ipython",
    "version": 3
   },
   "file_extension": ".py",
   "mimetype": "text/x-python",
   "name": "python",
   "nbconvert_exporter": "python",
   "pygments_lexer": "ipython3",
   "version": "3.10.2"
  }
 },
 "nbformat": 4,
 "nbformat_minor": 5
}
