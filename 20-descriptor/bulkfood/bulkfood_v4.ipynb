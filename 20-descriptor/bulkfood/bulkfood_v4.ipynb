{
 "cells": [
  {
   "cell_type": "code",
   "execution_count": 1,
   "id": "ccac1eca-de53-4c9c-8291-319051ba2ed2",
   "metadata": {},
   "outputs": [],
   "source": [
    "class Quantity:\n",
    "    __counter = 0  # <1>\n",
    "\n",
    "    def __init__(self):\n",
    "        cls = self.__class__  # <2>\n",
    "        prefix = cls.__name__\n",
    "        index = cls.__counter\n",
    "        self.storage_name = '_{}#{}'.format(prefix, index)  # <3>\n",
    "        cls.__counter += 1  # <4>\n",
    "\n",
    "    def __get__(self, instance, owner):  # <5>\n",
    "        return getattr(instance, self.storage_name)  # <6>\n",
    "\n",
    "    def __set__(self, instance, value):\n",
    "        if value > 0:\n",
    "            setattr(instance, self.storage_name, value)  # <7>\n",
    "        else:\n",
    "            raise ValueError('value must be > 0')"
   ]
  },
  {
   "cell_type": "code",
   "execution_count": 2,
   "id": "7e60266d-b657-41fa-b585-8de4549f6000",
   "metadata": {},
   "outputs": [],
   "source": [
    "class LineItem:\n",
    "    weight = Quantity()  # <8>\n",
    "    price = Quantity()\n",
    "\n",
    "    def __init__(self, description, weight, price):\n",
    "        self.description = description\n",
    "        self.weight = weight\n",
    "        self.price = price\n",
    "\n",
    "    def subtotal(self):\n",
    "        return self.weight * self.price"
   ]
  },
  {
   "cell_type": "markdown",
   "id": "ec5c93e6-dcd9-4b28-b923-78a8edee1cc2",
   "metadata": {},
   "source": [
    "#### A line item for a bulk food order has description, weight and price fields::"
   ]
  },
  {
   "cell_type": "code",
   "execution_count": 3,
   "id": "77e3c3b9-cb57-4a46-b5c3-e60a4452a219",
   "metadata": {},
   "outputs": [
    {
     "data": {
      "text/plain": [
       "(10, 'Golden raisins', 6.95)"
      ]
     },
     "execution_count": 3,
     "metadata": {},
     "output_type": "execute_result"
    }
   ],
   "source": [
    ">>> raisins = LineItem('Golden raisins', 10, 6.95)\n",
    ">>> raisins.weight, raisins.description, raisins.price"
   ]
  },
  {
   "cell_type": "markdown",
   "id": "3d7a75d1-3415-49d4-8fcc-a766bdf80570",
   "metadata": {},
   "source": [
    "#### A ``subtotal`` method gives the total price for that line item::"
   ]
  },
  {
   "cell_type": "code",
   "execution_count": 4,
   "id": "c7402d71-ab11-4301-8daf-9357481823e9",
   "metadata": {},
   "outputs": [
    {
     "data": {
      "text/plain": [
       "69.5"
      ]
     },
     "execution_count": 4,
     "metadata": {},
     "output_type": "execute_result"
    }
   ],
   "source": [
    ">>> raisins.subtotal()"
   ]
  },
  {
   "cell_type": "markdown",
   "id": "0cf6a037-edac-4095-b9ca-2f14f175f642",
   "metadata": {},
   "source": [
    "#### The weight of a ``LineItem`` must be greater than 0::"
   ]
  },
  {
   "cell_type": "code",
   "execution_count": 5,
   "id": "1ff0714f-ab88-438d-9bc2-3efa54c990bc",
   "metadata": {},
   "outputs": [
    {
     "ename": "ValueError",
     "evalue": "value must be > 0",
     "output_type": "error",
     "traceback": [
      "\u001b[1;31m---------------------------------------------------------------------------\u001b[0m",
      "\u001b[1;31mValueError\u001b[0m                                Traceback (most recent call last)",
      "Input \u001b[1;32mIn [5]\u001b[0m, in \u001b[0;36m<module>\u001b[1;34m\u001b[0m\n\u001b[1;32m----> 1\u001b[0m raisins\u001b[38;5;241m.\u001b[39mweight \u001b[38;5;241m=\u001b[39m \u001b[38;5;241m-\u001b[39m\u001b[38;5;241m20\u001b[39m\n",
      "Input \u001b[1;32mIn [1]\u001b[0m, in \u001b[0;36mQuantity.__set__\u001b[1;34m(self, instance, value)\u001b[0m\n\u001b[0;32m     16\u001b[0m     \u001b[38;5;28msetattr\u001b[39m(instance, \u001b[38;5;28mself\u001b[39m\u001b[38;5;241m.\u001b[39mstorage_name, value)  \u001b[38;5;66;03m# <7>\u001b[39;00m\n\u001b[0;32m     17\u001b[0m \u001b[38;5;28;01melse\u001b[39;00m:\n\u001b[1;32m---> 18\u001b[0m     \u001b[38;5;28;01mraise\u001b[39;00m \u001b[38;5;167;01mValueError\u001b[39;00m(\u001b[38;5;124m'\u001b[39m\u001b[38;5;124mvalue must be > 0\u001b[39m\u001b[38;5;124m'\u001b[39m)\n",
      "\u001b[1;31mValueError\u001b[0m: value must be > 0"
     ]
    }
   ],
   "source": [
    ">>> raisins.weight = -20"
   ]
  },
  {
   "cell_type": "markdown",
   "id": "3b8a7ec9-d37e-4dec-938a-794104a21bfc",
   "metadata": {},
   "source": [
    "#### No change was made::"
   ]
  },
  {
   "cell_type": "code",
   "execution_count": 6,
   "id": "b4dcda34-5865-4f2b-af43-387f615e1991",
   "metadata": {},
   "outputs": [
    {
     "data": {
      "text/plain": [
       "10"
      ]
     },
     "execution_count": 6,
     "metadata": {},
     "output_type": "execute_result"
    }
   ],
   "source": [
    ">>> raisins.weight"
   ]
  },
  {
   "cell_type": "markdown",
   "id": "a38553a6-8695-472d-8e07-f38b90f97db9",
   "metadata": {},
   "source": [
    "#### The value of the attributes managed by the descriptors are stored in alternate attributes, created by the descriptors in each ``LineItem`` instance::"
   ]
  },
  {
   "cell_type": "code",
   "execution_count": 7,
   "id": "7cb9c002-3d5a-4a02-be93-feb3397c1172",
   "metadata": {},
   "outputs": [
    {
     "data": {
      "text/plain": [
       "['_Quantity#0',\n",
       " '_Quantity#1',\n",
       " '__class__',\n",
       " '__delattr__',\n",
       " '__dict__',\n",
       " '__dir__',\n",
       " '__doc__',\n",
       " '__eq__',\n",
       " '__format__',\n",
       " '__ge__',\n",
       " '__getattribute__',\n",
       " '__gt__',\n",
       " '__hash__',\n",
       " '__init__',\n",
       " '__init_subclass__',\n",
       " '__le__',\n",
       " '__lt__',\n",
       " '__module__',\n",
       " '__ne__',\n",
       " '__new__',\n",
       " '__reduce__',\n",
       " '__reduce_ex__',\n",
       " '__repr__',\n",
       " '__setattr__',\n",
       " '__sizeof__',\n",
       " '__str__',\n",
       " '__subclasshook__',\n",
       " '__weakref__',\n",
       " 'description',\n",
       " 'price',\n",
       " 'subtotal',\n",
       " 'weight']"
      ]
     },
     "execution_count": 7,
     "metadata": {},
     "output_type": "execute_result"
    }
   ],
   "source": [
    ">>> raisins = LineItem('Golden raisins', 10, 6.95)\n",
    ">>> dir(raisins)  # doctest: +ELLIPSIS +NORMALIZE_WHITESPACE"
   ]
  },
  {
   "cell_type": "code",
   "execution_count": 8,
   "id": "d4b97858-3b6f-473e-ba2b-2f7e297c5774",
   "metadata": {},
   "outputs": [
    {
     "data": {
      "text/plain": [
       "10"
      ]
     },
     "execution_count": 8,
     "metadata": {},
     "output_type": "execute_result"
    }
   ],
   "source": [
    ">>> getattr(raisins, '_Quantity#0')"
   ]
  },
  {
   "cell_type": "code",
   "execution_count": 9,
   "id": "b575a30f-8a72-4008-bce5-1efbe62e8df7",
   "metadata": {},
   "outputs": [
    {
     "data": {
      "text/plain": [
       "6.95"
      ]
     },
     "execution_count": 9,
     "metadata": {},
     "output_type": "execute_result"
    }
   ],
   "source": [
    ">>> getattr(raisins, '_Quantity#1')"
   ]
  }
 ],
 "metadata": {
  "kernelspec": {
   "display_name": "Python 3 (ipykernel)",
   "language": "python",
   "name": "python3"
  },
  "language_info": {
   "codemirror_mode": {
    "name": "ipython",
    "version": 3
   },
   "file_extension": ".py",
   "mimetype": "text/x-python",
   "name": "python",
   "nbconvert_exporter": "python",
   "pygments_lexer": "ipython3",
   "version": "3.10.2"
  }
 },
 "nbformat": 4,
 "nbformat_minor": 5
}
