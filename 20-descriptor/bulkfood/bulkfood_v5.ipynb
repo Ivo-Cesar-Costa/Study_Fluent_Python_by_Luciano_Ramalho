{
 "cells": [
  {
   "cell_type": "code",
   "execution_count": 1,
   "id": "49021001-db34-4992-923a-7003e8c0dbd5",
   "metadata": {},
   "outputs": [
    {
     "name": "stdout",
     "output_type": "stream",
     "text": [
      "importing Jupyter notebook from model_v5.ipynb\n"
     ]
    }
   ],
   "source": [
    "import import_ipynb\n",
    "import model_v5 as model  # <1>"
   ]
  },
  {
   "cell_type": "code",
   "execution_count": 2,
   "id": "2546e7b9-03ed-42cc-bf7f-d666fe0d569d",
   "metadata": {},
   "outputs": [],
   "source": [
    "class LineItem:\n",
    "    description = model.NonBlank()  # <2>\n",
    "    weight = model.Quantity()\n",
    "    price = model.Quantity()\n",
    "\n",
    "    def __init__(self, description, weight, price):\n",
    "        self.description = description\n",
    "        self.weight = weight\n",
    "        self.price = price\n",
    "\n",
    "    def subtotal(self):\n",
    "        return self.weight * self.price"
   ]
  },
  {
   "cell_type": "markdown",
   "id": "3a21fa23-1223-4a14-89c6-1a3f0650f1dc",
   "metadata": {},
   "source": [
    "#### A line item for a bulk food order has description, weight and price fields::"
   ]
  },
  {
   "cell_type": "code",
   "execution_count": 3,
   "id": "b34a482f-7300-49ef-87e1-42edcbd89544",
   "metadata": {},
   "outputs": [
    {
     "data": {
      "text/plain": [
       "(10, 'Golden raisins', 6.95)"
      ]
     },
     "execution_count": 3,
     "metadata": {},
     "output_type": "execute_result"
    }
   ],
   "source": [
    ">>> raisins = LineItem('Golden raisins', 10, 6.95)\n",
    ">>> raisins.weight, raisins.description, raisins.price"
   ]
  },
  {
   "cell_type": "markdown",
   "id": "9bb4e9c8-29cd-458e-84a8-ad54a1ac2240",
   "metadata": {},
   "source": [
    "#### A ``subtotal`` method gives the total price for that line item::"
   ]
  },
  {
   "cell_type": "code",
   "execution_count": 4,
   "id": "59f78151-6414-4b2c-b70e-94e67c9b0b5d",
   "metadata": {},
   "outputs": [
    {
     "data": {
      "text/plain": [
       "69.5"
      ]
     },
     "execution_count": 4,
     "metadata": {},
     "output_type": "execute_result"
    }
   ],
   "source": [
    ">>> raisins.subtotal()"
   ]
  },
  {
   "cell_type": "markdown",
   "id": "ee23423d-b2f5-43e3-a11a-f44e56a70570",
   "metadata": {},
   "source": [
    "#### The weight of a ``LineItem`` must be greater than 0::"
   ]
  },
  {
   "cell_type": "code",
   "execution_count": 5,
   "id": "391a9526-e152-498a-b5f0-77a13ab751ea",
   "metadata": {},
   "outputs": [
    {
     "ename": "ValueError",
     "evalue": "value must be > 0",
     "output_type": "error",
     "traceback": [
      "\u001b[1;31m---------------------------------------------------------------------------\u001b[0m",
      "\u001b[1;31mValueError\u001b[0m                                Traceback (most recent call last)",
      "Input \u001b[1;32mIn [5]\u001b[0m, in \u001b[0;36m<module>\u001b[1;34m\u001b[0m\n\u001b[1;32m----> 1\u001b[0m raisins\u001b[38;5;241m.\u001b[39mweight \u001b[38;5;241m=\u001b[39m \u001b[38;5;241m-\u001b[39m\u001b[38;5;241m20\u001b[39m\n",
      "File \u001b[1;32m<string>:4\u001b[0m, in \u001b[0;36m__set__\u001b[1;34m(self, instance, value)\u001b[0m\n",
      "File \u001b[1;32m<string>:6\u001b[0m, in \u001b[0;36mvalidate\u001b[1;34m(self, instance, value)\u001b[0m\n",
      "\u001b[1;31mValueError\u001b[0m: value must be > 0"
     ]
    }
   ],
   "source": [
    ">>> raisins.weight = -20"
   ]
  },
  {
   "cell_type": "markdown",
   "id": "6b0d3044-588f-4e62-ab4e-3ad6978922ed",
   "metadata": {},
   "source": [
    "#### No change was made::"
   ]
  },
  {
   "cell_type": "code",
   "execution_count": 6,
   "id": "35238f2a-8674-49f5-95ec-e523972d9d77",
   "metadata": {},
   "outputs": [
    {
     "data": {
      "text/plain": [
       "10"
      ]
     },
     "execution_count": 6,
     "metadata": {},
     "output_type": "execute_result"
    }
   ],
   "source": [
    ">>> raisins.weight"
   ]
  },
  {
   "cell_type": "markdown",
   "id": "35b8a5b9-6cd0-4426-946b-3a857e3aa1a7",
   "metadata": {},
   "source": [
    "#### The value of the attributes managed by the descriptors are stored in alternate attributes, created by the descriptors in each ``LineItem`` instance::"
   ]
  },
  {
   "cell_type": "code",
   "execution_count": 7,
   "id": "87b9a90f-8dd3-4282-a606-d334b58e9c95",
   "metadata": {},
   "outputs": [
    {
     "data": {
      "text/plain": [
       "['_NonBlank#0',\n",
       " '_Quantity#0',\n",
       " '_Quantity#1',\n",
       " '__class__',\n",
       " '__delattr__',\n",
       " '__dict__',\n",
       " '__dir__',\n",
       " '__doc__',\n",
       " '__eq__',\n",
       " '__format__',\n",
       " '__ge__',\n",
       " '__getattribute__',\n",
       " '__gt__',\n",
       " '__hash__',\n",
       " '__init__',\n",
       " '__init_subclass__',\n",
       " '__le__',\n",
       " '__lt__',\n",
       " '__module__',\n",
       " '__ne__',\n",
       " '__new__',\n",
       " '__reduce__',\n",
       " '__reduce_ex__',\n",
       " '__repr__',\n",
       " '__setattr__',\n",
       " '__sizeof__',\n",
       " '__str__',\n",
       " '__subclasshook__',\n",
       " '__weakref__',\n",
       " 'description',\n",
       " 'price',\n",
       " 'subtotal',\n",
       " 'weight']"
      ]
     },
     "execution_count": 7,
     "metadata": {},
     "output_type": "execute_result"
    }
   ],
   "source": [
    ">>> raisins = LineItem('Golden raisins', 10, 6.95)\n",
    ">>> dir(raisins)  # doctest: +ELLIPSIS +NORMALIZE_WHITESPACE"
   ]
  },
  {
   "cell_type": "code",
   "execution_count": 8,
   "id": "b7959ba6-b266-4816-8f50-24eeb04c18af",
   "metadata": {},
   "outputs": [
    {
     "data": {
      "text/plain": [
       "10"
      ]
     },
     "execution_count": 8,
     "metadata": {},
     "output_type": "execute_result"
    }
   ],
   "source": [
    ">>> getattr(raisins, '_Quantity#0')"
   ]
  },
  {
   "cell_type": "code",
   "execution_count": 9,
   "id": "050b14e3-339a-4e2a-bd0e-2b8bb2d8d2cd",
   "metadata": {},
   "outputs": [
    {
     "data": {
      "text/plain": [
       "'Golden raisins'"
      ]
     },
     "execution_count": 9,
     "metadata": {},
     "output_type": "execute_result"
    }
   ],
   "source": [
    ">>> getattr(raisins, '_NonBlank#0')"
   ]
  },
  {
   "cell_type": "markdown",
   "id": "256add9e-fb83-4429-b2e3-ea414f3a3371",
   "metadata": {},
   "source": [
    "#### If the descriptor is accessed in the class, the descriptor object is returned:"
   ]
  },
  {
   "cell_type": "code",
   "execution_count": 10,
   "id": "767c1673-ddf9-4a19-91af-71fc195ec10e",
   "metadata": {},
   "outputs": [
    {
     "data": {
      "text/plain": [
       "<model_v5.Quantity at 0x24f5b94d720>"
      ]
     },
     "execution_count": 10,
     "metadata": {},
     "output_type": "execute_result"
    }
   ],
   "source": [
    ">>> LineItem.weight  # doctest: +ELLIPSIS"
   ]
  },
  {
   "cell_type": "code",
   "execution_count": 11,
   "id": "b43c7562-cbe1-4577-880f-a6d72f9a1df1",
   "metadata": {},
   "outputs": [
    {
     "data": {
      "text/plain": [
       "'_Quantity#0'"
      ]
     },
     "execution_count": 11,
     "metadata": {},
     "output_type": "execute_result"
    }
   ],
   "source": [
    ">>> LineItem.weight.storage_name"
   ]
  },
  {
   "cell_type": "code",
   "execution_count": 12,
   "id": "2b5c73a4-149a-41be-b86a-46ee9c4cb809",
   "metadata": {},
   "outputs": [
    {
     "data": {
      "text/plain": [
       "'_Quantity#1'"
      ]
     },
     "execution_count": 12,
     "metadata": {},
     "output_type": "execute_result"
    }
   ],
   "source": [
    ">>> LineItem.price.storage_name"
   ]
  },
  {
   "cell_type": "markdown",
   "id": "24be5c7b-14ca-489a-a889-535660bdaecc",
   "metadata": {},
   "source": [
    "#### The `NonBlank` descriptor prevents empty or blank strings to be used for the description:"
   ]
  },
  {
   "cell_type": "code",
   "execution_count": 13,
   "id": "0584e7c5-a859-4d55-ad41-1fb440b17234",
   "metadata": {},
   "outputs": [
    {
     "ename": "ValueError",
     "evalue": "value cannot be empty or blank",
     "output_type": "error",
     "traceback": [
      "\u001b[1;31m---------------------------------------------------------------------------\u001b[0m",
      "\u001b[1;31mValueError\u001b[0m                                Traceback (most recent call last)",
      "Input \u001b[1;32mIn [13]\u001b[0m, in \u001b[0;36m<module>\u001b[1;34m\u001b[0m\n\u001b[0;32m      1\u001b[0m br_nuts \u001b[38;5;241m=\u001b[39m LineItem(\u001b[38;5;124m'\u001b[39m\u001b[38;5;124mBrazil Nuts\u001b[39m\u001b[38;5;124m'\u001b[39m, \u001b[38;5;241m10\u001b[39m, \u001b[38;5;241m34.95\u001b[39m)\n\u001b[1;32m----> 2\u001b[0m br_nuts\u001b[38;5;241m.\u001b[39mdescription \u001b[38;5;241m=\u001b[39m \u001b[38;5;124m'\u001b[39m\u001b[38;5;124m \u001b[39m\u001b[38;5;124m'\u001b[39m\n",
      "File \u001b[1;32m<string>:4\u001b[0m, in \u001b[0;36m__set__\u001b[1;34m(self, instance, value)\u001b[0m\n",
      "File \u001b[1;32m<string>:7\u001b[0m, in \u001b[0;36mvalidate\u001b[1;34m(self, instance, value)\u001b[0m\n",
      "\u001b[1;31mValueError\u001b[0m: value cannot be empty or blank"
     ]
    }
   ],
   "source": [
    ">>> br_nuts = LineItem('Brazil Nuts', 10, 34.95)\n",
    ">>> br_nuts.description = ' '"
   ]
  },
  {
   "cell_type": "code",
   "execution_count": 14,
   "id": "570c610a-1d6a-4a68-ad53-0115c8c55fb5",
   "metadata": {},
   "outputs": [
    {
     "ename": "ValueError",
     "evalue": "value cannot be empty or blank",
     "output_type": "error",
     "traceback": [
      "\u001b[1;31m---------------------------------------------------------------------------\u001b[0m",
      "\u001b[1;31mValueError\u001b[0m                                Traceback (most recent call last)",
      "Input \u001b[1;32mIn [14]\u001b[0m, in \u001b[0;36m<module>\u001b[1;34m\u001b[0m\n\u001b[1;32m----> 1\u001b[0m void \u001b[38;5;241m=\u001b[39m \u001b[43mLineItem\u001b[49m\u001b[43m(\u001b[49m\u001b[38;5;124;43m'\u001b[39;49m\u001b[38;5;124;43m'\u001b[39;49m\u001b[43m,\u001b[49m\u001b[43m \u001b[49m\u001b[38;5;241;43m1\u001b[39;49m\u001b[43m,\u001b[49m\u001b[43m \u001b[49m\u001b[38;5;241;43m1\u001b[39;49m\u001b[43m)\u001b[49m\n",
      "Input \u001b[1;32mIn [2]\u001b[0m, in \u001b[0;36mLineItem.__init__\u001b[1;34m(self, description, weight, price)\u001b[0m\n\u001b[0;32m      6\u001b[0m \u001b[38;5;28;01mdef\u001b[39;00m \u001b[38;5;21m__init__\u001b[39m(\u001b[38;5;28mself\u001b[39m, description, weight, price):\n\u001b[1;32m----> 7\u001b[0m     \u001b[38;5;28mself\u001b[39m\u001b[38;5;241m.\u001b[39mdescription \u001b[38;5;241m=\u001b[39m description\n\u001b[0;32m      8\u001b[0m     \u001b[38;5;28mself\u001b[39m\u001b[38;5;241m.\u001b[39mweight \u001b[38;5;241m=\u001b[39m weight\n\u001b[0;32m      9\u001b[0m     \u001b[38;5;28mself\u001b[39m\u001b[38;5;241m.\u001b[39mprice \u001b[38;5;241m=\u001b[39m price\n",
      "File \u001b[1;32m<string>:4\u001b[0m, in \u001b[0;36m__set__\u001b[1;34m(self, instance, value)\u001b[0m\n",
      "File \u001b[1;32m<string>:7\u001b[0m, in \u001b[0;36mvalidate\u001b[1;34m(self, instance, value)\u001b[0m\n",
      "\u001b[1;31mValueError\u001b[0m: value cannot be empty or blank"
     ]
    }
   ],
   "source": [
    ">>> void = LineItem('', 1, 1)"
   ]
  }
 ],
 "metadata": {
  "kernelspec": {
   "display_name": "Python 3 (ipykernel)",
   "language": "python",
   "name": "python3"
  },
  "language_info": {
   "codemirror_mode": {
    "name": "ipython",
    "version": 3
   },
   "file_extension": ".py",
   "mimetype": "text/x-python",
   "name": "python",
   "nbconvert_exporter": "python",
   "pygments_lexer": "ipython3",
   "version": "3.10.2"
  }
 },
 "nbformat": 4,
 "nbformat_minor": 5
}
