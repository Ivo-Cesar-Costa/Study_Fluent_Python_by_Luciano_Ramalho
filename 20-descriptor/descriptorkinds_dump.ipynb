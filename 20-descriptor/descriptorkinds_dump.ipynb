{
 "cells": [
  {
   "cell_type": "code",
   "execution_count": 1,
   "id": "30a5abd5-8047-43b5-ac72-8b2f69e3b6b0",
   "metadata": {},
   "outputs": [],
   "source": [
    "def print_args(name, *args):  # <1>\n",
    "    cls_name = args[0].__class__.__name__\n",
    "    arg_names = ['self', 'instance', 'owner']\n",
    "    if name == 'set':\n",
    "        arg_names[-1] = 'value'\n",
    "    print('{}.__{}__() invoked with args:'.format(cls_name, name))\n",
    "    for arg_name, value in zip(arg_names, args):\n",
    "        print('    {:8} = {}'.format(arg_name, value))"
   ]
  },
  {
   "cell_type": "code",
   "execution_count": 2,
   "id": "7a550462-5740-4f00-a45b-29ccad7f41ed",
   "metadata": {},
   "outputs": [],
   "source": [
    "class Overriding:  # <2>\n",
    "    \"\"\"a.k.a. data descriptor or enforced descriptor\"\"\"\n",
    "\n",
    "    def __get__(self, instance, owner):\n",
    "        print_args('get', self, instance, owner)  # <3>\n",
    "\n",
    "    def __set__(self, instance, value):\n",
    "        print_args('set', self, instance, value)"
   ]
  },
  {
   "cell_type": "code",
   "execution_count": 3,
   "id": "63a5b90b-cc93-433d-91d2-dabdbba05dcd",
   "metadata": {},
   "outputs": [],
   "source": [
    "class OverridingNoGet:  # <4>\n",
    "    \"\"\"an overriding descriptor without ``__get__``\"\"\"\n",
    "\n",
    "    def __set__(self, instance, value):\n",
    "        print_args('set', self, instance, value)"
   ]
  },
  {
   "cell_type": "code",
   "execution_count": 4,
   "id": "bfc6bc0f-6216-4679-bf9e-97f07d8dbbae",
   "metadata": {},
   "outputs": [],
   "source": [
    "class NonOverriding:  # <5>\n",
    "    \"\"\"a.k.a. non-data or shadowable descriptor\"\"\"\n",
    "\n",
    "    def __get__(self, instance, owner):\n",
    "        print_args('get', self, instance, owner)"
   ]
  },
  {
   "cell_type": "code",
   "execution_count": 5,
   "id": "a176b6a2-9057-4f81-abca-6fbc1e52dfc1",
   "metadata": {},
   "outputs": [],
   "source": [
    "class Model:  # <6>\n",
    "    over = Overriding()\n",
    "    over_no_get = OverridingNoGet()\n",
    "    non_over = NonOverriding()\n",
    "\n",
    "    def spam(self):  # <7>\n",
    "        print('Model.spam() invoked with arg:')\n",
    "        print('    self =', self)"
   ]
  },
  {
   "cell_type": "markdown",
   "id": "b608f33f-56ef-4b88-b86b-39ae36fcc16f",
   "metadata": {},
   "source": [
    "#### Overriding descriptor (a.k.a. data descriptor or enforced descriptor):"
   ]
  },
  {
   "cell_type": "code",
   "execution_count": 6,
   "id": "bde8ca3c-1082-4858-ae45-cd7c403b610c",
   "metadata": {},
   "outputs": [
    {
     "name": "stdout",
     "output_type": "stream",
     "text": [
      "Overriding.__get__() invoked with args:\n",
      "    self     = <__main__.Overriding object at 0x0000028A90F81D80>\n",
      "    instance = <__main__.Model object at 0x0000028A90F82800>\n",
      "    owner    = <class '__main__.Model'>\n"
     ]
    }
   ],
   "source": [
    ">>> obj = Model()\n",
    ">>> obj.over  # doctest: +ELLIPSIS"
   ]
  },
  {
   "cell_type": "code",
   "execution_count": 7,
   "id": "e265cd65-74de-43ee-af86-a2ef0044113d",
   "metadata": {},
   "outputs": [
    {
     "name": "stdout",
     "output_type": "stream",
     "text": [
      "Overriding.__get__() invoked with args:\n",
      "    self     = <__main__.Overriding object at 0x0000028A90F81D80>\n",
      "    instance = None\n",
      "    owner    = <class '__main__.Model'>\n"
     ]
    }
   ],
   "source": [
    ">>> Model.over  # doctest: +ELLIPSIS"
   ]
  },
  {
   "cell_type": "markdown",
   "id": "9c7bff1a-1e3d-4c29-b149-c1e4e54b89f5",
   "metadata": {},
   "source": [
    "#### An overriding descriptor cannot be shadowed by assigning to an instance:"
   ]
  },
  {
   "cell_type": "code",
   "execution_count": 8,
   "id": "6ccf169d-2d1e-40e5-a951-21910df51821",
   "metadata": {},
   "outputs": [
    {
     "name": "stdout",
     "output_type": "stream",
     "text": [
      "Overriding.__set__() invoked with args:\n",
      "    self     = <__main__.Overriding object at 0x0000028A90F81D80>\n",
      "    instance = <__main__.Model object at 0x0000028A90F83AF0>\n",
      "    value    = 7\n"
     ]
    }
   ],
   "source": [
    ">>> obj = Model()\n",
    ">>> obj.over = 7  # doctest: +ELLIPSIS"
   ]
  },
  {
   "cell_type": "code",
   "execution_count": 9,
   "id": "64d03160-152b-4058-9066-da9e262cf963",
   "metadata": {},
   "outputs": [
    {
     "name": "stdout",
     "output_type": "stream",
     "text": [
      "Overriding.__get__() invoked with args:\n",
      "    self     = <__main__.Overriding object at 0x0000028A90F81D80>\n",
      "    instance = <__main__.Model object at 0x0000028A90F83AF0>\n",
      "    owner    = <class '__main__.Model'>\n"
     ]
    }
   ],
   "source": [
    ">>> obj.over  # doctest: +ELLIPSIS"
   ]
  },
  {
   "cell_type": "markdown",
   "id": "bec4da64-bcda-4d0d-a1c5-6d6febbe3266",
   "metadata": {},
   "source": [
    "#### Not even by poking the attribute into the instance ``__dict__``:"
   ]
  },
  {
   "cell_type": "code",
   "execution_count": 10,
   "id": "05e321ab-99dc-4fa9-b71f-a663a2450df0",
   "metadata": {},
   "outputs": [
    {
     "name": "stdout",
     "output_type": "stream",
     "text": [
      "Overriding.__get__() invoked with args:\n",
      "    self     = <__main__.Overriding object at 0x0000028A90F81D80>\n",
      "    instance = <__main__.Model object at 0x0000028A90F83AF0>\n",
      "    owner    = <class '__main__.Model'>\n"
     ]
    }
   ],
   "source": [
    ">>> obj.__dict__['over'] = 8\n",
    ">>> obj.over  # doctest: +ELLIPSIS"
   ]
  },
  {
   "cell_type": "code",
   "execution_count": 11,
   "id": "2e20f5a0-fe13-4a77-baaf-07e5d5463278",
   "metadata": {},
   "outputs": [
    {
     "data": {
      "text/plain": [
       "{'over': 8}"
      ]
     },
     "execution_count": 11,
     "metadata": {},
     "output_type": "execute_result"
    }
   ],
   "source": [
    ">>> vars(obj)"
   ]
  },
  {
   "cell_type": "markdown",
   "id": "9aa22308-405a-4bd0-a03b-a5677c8bb89a",
   "metadata": {},
   "source": [
    "#### Overriding descriptor without ``__get__``:"
   ]
  },
  {
   "cell_type": "code",
   "execution_count": 12,
   "id": "a9feb6df-d071-4738-a72c-2e16beb3b784",
   "metadata": {},
   "outputs": [
    {
     "data": {
      "text/plain": [
       "<__main__.OverridingNoGet at 0x28a90f829b0>"
      ]
     },
     "execution_count": 12,
     "metadata": {},
     "output_type": "execute_result"
    }
   ],
   "source": [
    ">>> obj.over_no_get  # doctest: +ELLIPSIS"
   ]
  },
  {
   "cell_type": "code",
   "execution_count": 13,
   "id": "1f0b1635-d0bc-4a3b-93a2-2610cfab82b5",
   "metadata": {},
   "outputs": [
    {
     "data": {
      "text/plain": [
       "<__main__.OverridingNoGet at 0x28a90f829b0>"
      ]
     },
     "execution_count": 13,
     "metadata": {},
     "output_type": "execute_result"
    }
   ],
   "source": [
    ">>> Model.over_no_get   # doctest: +ELLIPSIS"
   ]
  },
  {
   "cell_type": "code",
   "execution_count": 14,
   "id": "0d7fdc23-84e9-4407-ba58-96f49806dcff",
   "metadata": {},
   "outputs": [
    {
     "name": "stdout",
     "output_type": "stream",
     "text": [
      "OverridingNoGet.__set__() invoked with args:\n",
      "    self     = <__main__.OverridingNoGet object at 0x0000028A90F829B0>\n",
      "    instance = <__main__.Model object at 0x0000028A90F83AF0>\n",
      "    value    = 7\n"
     ]
    }
   ],
   "source": [
    ">>> obj.over_no_get = 7  # doctest: +ELLIPSIS"
   ]
  },
  {
   "cell_type": "code",
   "execution_count": 15,
   "id": "5b73a0ce-5037-44d1-8ea2-beb1ece505c9",
   "metadata": {},
   "outputs": [
    {
     "data": {
      "text/plain": [
       "<__main__.OverridingNoGet at 0x28a90f829b0>"
      ]
     },
     "execution_count": 15,
     "metadata": {},
     "output_type": "execute_result"
    }
   ],
   "source": [
    ">>> obj.over_no_get  # doctest: +ELLIPSIS"
   ]
  },
  {
   "cell_type": "markdown",
   "id": "bdeb3c5d-e5ba-43e4-9f40-6d6c10ee3d65",
   "metadata": {},
   "source": [
    "#### Poking the attribute into the instance ``__dict__`` means you can read the new value for the attribute, but setting it still triggers ``__set__``:"
   ]
  },
  {
   "cell_type": "code",
   "execution_count": 16,
   "id": "e17eb1ae-aa5b-44f7-a364-a27ee3cab7be",
   "metadata": {},
   "outputs": [
    {
     "data": {
      "text/plain": [
       "9"
      ]
     },
     "execution_count": 16,
     "metadata": {},
     "output_type": "execute_result"
    }
   ],
   "source": [
    ">>> obj.__dict__['over_no_get'] = 9\n",
    ">>> obj.over_no_get"
   ]
  },
  {
   "cell_type": "code",
   "execution_count": 17,
   "id": "6330e194-dfcc-4d1a-a02f-bc8cdf072f8c",
   "metadata": {},
   "outputs": [
    {
     "name": "stdout",
     "output_type": "stream",
     "text": [
      "OverridingNoGet.__set__() invoked with args:\n",
      "    self     = <__main__.OverridingNoGet object at 0x0000028A90F829B0>\n",
      "    instance = <__main__.Model object at 0x0000028A90F83AF0>\n",
      "    value    = 7\n"
     ]
    }
   ],
   "source": [
    ">>> obj.over_no_get = 7  # doctest: +ELLIPSIS"
   ]
  },
  {
   "cell_type": "code",
   "execution_count": 18,
   "id": "f351df50-246c-4d1e-a219-6629e4b01a4f",
   "metadata": {},
   "outputs": [
    {
     "data": {
      "text/plain": [
       "9"
      ]
     },
     "execution_count": 18,
     "metadata": {},
     "output_type": "execute_result"
    }
   ],
   "source": [
    ">>> obj.over_no_get"
   ]
  },
  {
   "cell_type": "markdown",
   "id": "704efd40-1c1b-4d37-b2d3-4441377cb7b0",
   "metadata": {},
   "source": [
    "#### Non-overriding descriptor (a.k.a. non-data descriptor or shadowable descriptor):"
   ]
  },
  {
   "cell_type": "code",
   "execution_count": 19,
   "id": "ffee5dd7-87ef-42e1-ac11-def9f537b965",
   "metadata": {},
   "outputs": [
    {
     "name": "stdout",
     "output_type": "stream",
     "text": [
      "NonOverriding.__get__() invoked with args:\n",
      "    self     = <__main__.NonOverriding object at 0x0000028A90F829E0>\n",
      "    instance = <__main__.Model object at 0x0000028A90F830D0>\n",
      "    owner    = <class '__main__.Model'>\n"
     ]
    }
   ],
   "source": [
    ">>> obj = Model()\n",
    ">>> obj.non_over  # doctest: +ELLIPSIS"
   ]
  },
  {
   "cell_type": "code",
   "execution_count": 20,
   "id": "d822a991-d57f-4e5c-b93d-9b67e0d73973",
   "metadata": {},
   "outputs": [
    {
     "name": "stdout",
     "output_type": "stream",
     "text": [
      "NonOverriding.__get__() invoked with args:\n",
      "    self     = <__main__.NonOverriding object at 0x0000028A90F829E0>\n",
      "    instance = None\n",
      "    owner    = <class '__main__.Model'>\n"
     ]
    }
   ],
   "source": [
    ">>> Model.non_over  # doctest: +ELLIPSIS"
   ]
  },
  {
   "cell_type": "markdown",
   "id": "c8600fec-5820-4db8-b302-c133a2613db4",
   "metadata": {},
   "source": [
    "#### A non-overriding descriptor can be shadowed by assigning to an instance:"
   ]
  },
  {
   "cell_type": "code",
   "execution_count": 21,
   "id": "80f50d0d-0ce7-494e-98ea-da88851a87a9",
   "metadata": {},
   "outputs": [
    {
     "data": {
      "text/plain": [
       "7"
      ]
     },
     "execution_count": 21,
     "metadata": {},
     "output_type": "execute_result"
    }
   ],
   "source": [
    ">>> obj.non_over = 7\n",
    ">>> obj.non_over"
   ]
  },
  {
   "cell_type": "markdown",
   "id": "df9e72bc-5679-4544-8e34-9f1181ac4ebd",
   "metadata": {},
   "source": [
    "#### Methods are non-over descriptors:"
   ]
  },
  {
   "cell_type": "code",
   "execution_count": 22,
   "id": "8bc51b33-4570-4c87-af7d-fc6e74366713",
   "metadata": {},
   "outputs": [
    {
     "data": {
      "text/plain": [
       "<bound method Model.spam of <__main__.Model object at 0x0000028A90F830D0>>"
      ]
     },
     "execution_count": 22,
     "metadata": {},
     "output_type": "execute_result"
    }
   ],
   "source": [
    ">>> obj.spam  # doctest: +ELLIPSIS"
   ]
  },
  {
   "cell_type": "code",
   "execution_count": 23,
   "id": "5a80139f-8115-4910-a56c-9bbd6ba0a00f",
   "metadata": {},
   "outputs": [
    {
     "data": {
      "text/plain": [
       "<function __main__.Model.spam(self)>"
      ]
     },
     "execution_count": 23,
     "metadata": {},
     "output_type": "execute_result"
    }
   ],
   "source": [
    ">>> Model.spam  # doctest: +ELLIPSIS"
   ]
  },
  {
   "cell_type": "code",
   "execution_count": 24,
   "id": "9b91a68c-25af-4d35-8287-8e71304bf687",
   "metadata": {},
   "outputs": [
    {
     "name": "stdout",
     "output_type": "stream",
     "text": [
      "Model.spam() invoked with arg:\n",
      "    self = <__main__.Model object at 0x0000028A90F830D0>\n"
     ]
    }
   ],
   "source": [
    ">>> obj.spam()  # doctest: +ELLIPSIS"
   ]
  },
  {
   "cell_type": "code",
   "execution_count": 25,
   "id": "373f1d4c-2ca1-48c5-8355-ea6c0ea7cce2",
   "metadata": {},
   "outputs": [
    {
     "data": {
      "text/plain": [
       "7"
      ]
     },
     "execution_count": 25,
     "metadata": {},
     "output_type": "execute_result"
    }
   ],
   "source": [
    ">>> obj.spam = 7\n",
    ">>> obj.spam"
   ]
  },
  {
   "cell_type": "markdown",
   "id": "4ff9964c-f244-4c0a-b59a-64506c4e8929",
   "metadata": {},
   "source": [
    "#### No descriptor type survives being overwritten on the class itself:"
   ]
  },
  {
   "cell_type": "code",
   "execution_count": 26,
   "id": "88e43d1b-3b13-449a-afd8-43332dfbafd9",
   "metadata": {},
   "outputs": [
    {
     "data": {
      "text/plain": [
       "1"
      ]
     },
     "execution_count": 26,
     "metadata": {},
     "output_type": "execute_result"
    }
   ],
   "source": [
    ">>> Model.over = 1\n",
    ">>> obj.over"
   ]
  },
  {
   "cell_type": "code",
   "execution_count": 27,
   "id": "ecd81110-bd6c-4044-921e-fc85a11bc2a8",
   "metadata": {},
   "outputs": [
    {
     "data": {
      "text/plain": [
       "2"
      ]
     },
     "execution_count": 27,
     "metadata": {},
     "output_type": "execute_result"
    }
   ],
   "source": [
    ">>> Model.over_no_get = 2\n",
    ">>> obj.over_no_get"
   ]
  },
  {
   "cell_type": "code",
   "execution_count": 28,
   "id": "2c14bd54-ddab-4087-bd2a-d1d8abeeb4bf",
   "metadata": {},
   "outputs": [
    {
     "data": {
      "text/plain": [
       "7"
      ]
     },
     "execution_count": 28,
     "metadata": {},
     "output_type": "execute_result"
    }
   ],
   "source": [
    ">>> Model.non_over = 3\n",
    ">>> obj.non_over"
   ]
  }
 ],
 "metadata": {
  "kernelspec": {
   "display_name": "Python 3 (ipykernel)",
   "language": "python",
   "name": "python3"
  },
  "language_info": {
   "codemirror_mode": {
    "name": "ipython",
    "version": 3
   },
   "file_extension": ".py",
   "mimetype": "text/x-python",
   "name": "python",
   "nbconvert_exporter": "python",
   "pygments_lexer": "ipython3",
   "version": "3.10.2"
  }
 },
 "nbformat": 4,
 "nbformat_minor": 5
}
