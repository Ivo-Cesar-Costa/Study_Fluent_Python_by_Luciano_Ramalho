{
 "cells": [
  {
   "cell_type": "code",
   "execution_count": 1,
   "id": "24e33d1f-fd24-4c7b-a8ff-ceeca21d7dbe",
   "metadata": {},
   "outputs": [],
   "source": [
    "import collections\n",
    "\n",
    "\n",
    "class Text(collections.UserString):\n",
    "\n",
    "    def __repr__(self):\n",
    "        return 'Text({!r})'.format(self.data)\n",
    "\n",
    "    def reverse(self):\n",
    "        return self[::-1]"
   ]
  },
  {
   "cell_type": "code",
   "execution_count": 2,
   "id": "fd5104d1-4136-4098-8b92-f05d4e948599",
   "metadata": {},
   "outputs": [
    {
     "data": {
      "text/plain": [
       "Text('forward')"
      ]
     },
     "execution_count": 2,
     "metadata": {},
     "output_type": "execute_result"
    }
   ],
   "source": [
    ">>> word = Text('forward')\n",
    ">>> word  # <1>"
   ]
  },
  {
   "cell_type": "code",
   "execution_count": 3,
   "id": "6aff4aa8-ee42-49a7-be5f-eda2aa47906a",
   "metadata": {},
   "outputs": [
    {
     "data": {
      "text/plain": [
       "Text('drawrof')"
      ]
     },
     "execution_count": 3,
     "metadata": {},
     "output_type": "execute_result"
    }
   ],
   "source": [
    ">>> word.reverse()  # <2>"
   ]
  },
  {
   "cell_type": "code",
   "execution_count": 4,
   "id": "0bea154a-036f-4570-a1f7-041589c3292e",
   "metadata": {},
   "outputs": [
    {
     "data": {
      "text/plain": [
       "Text('drawkcab')"
      ]
     },
     "execution_count": 4,
     "metadata": {},
     "output_type": "execute_result"
    }
   ],
   "source": [
    ">>> Text.reverse(Text('backward'))  # <3>"
   ]
  },
  {
   "cell_type": "code",
   "execution_count": 5,
   "id": "c7489714-52af-407a-abba-666ba7c7415b",
   "metadata": {},
   "outputs": [
    {
     "data": {
      "text/plain": [
       "(function, method)"
      ]
     },
     "execution_count": 5,
     "metadata": {},
     "output_type": "execute_result"
    }
   ],
   "source": [
    ">>> type(Text.reverse), type(word.reverse)  # <4>"
   ]
  },
  {
   "cell_type": "code",
   "execution_count": 6,
   "id": "b2e6fd36-ad96-4ea5-a173-2a7c496b53f1",
   "metadata": {},
   "outputs": [
    {
     "data": {
      "text/plain": [
       "['diaper', (30, 20, 10), Text('desserts')]"
      ]
     },
     "execution_count": 6,
     "metadata": {},
     "output_type": "execute_result"
    }
   ],
   "source": [
    ">>> list(map(Text.reverse, ['repaid', (10, 20, 30), Text('stressed')]))  # <5>"
   ]
  },
  {
   "cell_type": "code",
   "execution_count": 7,
   "id": "61b75d8d-6d3b-4551-b970-a078dcb2870a",
   "metadata": {},
   "outputs": [
    {
     "data": {
      "text/plain": [
       "<bound method Text.reverse of Text('forward')>"
      ]
     },
     "execution_count": 7,
     "metadata": {},
     "output_type": "execute_result"
    }
   ],
   "source": [
    ">>> Text.reverse.__get__(word)  # <6>"
   ]
  },
  {
   "cell_type": "code",
   "execution_count": 8,
   "id": "b3b22175-dfbe-49ac-ad44-a7af776ac933",
   "metadata": {},
   "outputs": [
    {
     "data": {
      "text/plain": [
       "<function __main__.Text.reverse(self)>"
      ]
     },
     "execution_count": 8,
     "metadata": {},
     "output_type": "execute_result"
    }
   ],
   "source": [
    ">>> Text.reverse.__get__(None, Text)  # <7>"
   ]
  },
  {
   "cell_type": "code",
   "execution_count": 9,
   "id": "8fc1b2c2-98d4-42a7-8d43-e4f046c0d1ad",
   "metadata": {},
   "outputs": [
    {
     "data": {
      "text/plain": [
       "<bound method Text.reverse of Text('forward')>"
      ]
     },
     "execution_count": 9,
     "metadata": {},
     "output_type": "execute_result"
    }
   ],
   "source": [
    ">>> word.reverse  # <8>"
   ]
  },
  {
   "cell_type": "code",
   "execution_count": 10,
   "id": "3be66b48-1ae3-4317-a902-dcd4a55f847a",
   "metadata": {},
   "outputs": [
    {
     "data": {
      "text/plain": [
       "Text('forward')"
      ]
     },
     "execution_count": 10,
     "metadata": {},
     "output_type": "execute_result"
    }
   ],
   "source": [
    ">>> word.reverse.__self__  # <9>"
   ]
  },
  {
   "cell_type": "code",
   "execution_count": 11,
   "id": "d9a2f6a2-49ab-413f-9a3a-a7fc8c283c7d",
   "metadata": {},
   "outputs": [
    {
     "data": {
      "text/plain": [
       "True"
      ]
     },
     "execution_count": 11,
     "metadata": {},
     "output_type": "execute_result"
    }
   ],
   "source": [
    ">>> word.reverse.__func__ is Text.reverse  # <10>"
   ]
  },
  {
   "cell_type": "code",
   "execution_count": 12,
   "id": "1487af68-bca1-4a42-9fe7-0079a6adf953",
   "metadata": {},
   "outputs": [
    {
     "name": "stdout",
     "output_type": "stream",
     "text": [
      "heloo\n"
     ]
    }
   ],
   "source": [
    "print(\"heloo\")"
   ]
  },
  {
   "cell_type": "code",
   "execution_count": null,
   "id": "e31875a6-2e95-4b9e-ad62-0b602f60d1d8",
   "metadata": {},
   "outputs": [],
   "source": []
  }
 ],
 "metadata": {
  "kernelspec": {
   "display_name": "Python 3 (ipykernel)",
   "language": "python",
   "name": "python3"
  },
  "language_info": {
   "codemirror_mode": {
    "name": "ipython",
    "version": 3
   },
   "file_extension": ".py",
   "mimetype": "text/x-python",
   "name": "python",
   "nbconvert_exporter": "python",
   "pygments_lexer": "ipython3",
   "version": "3.10.2"
  }
 },
 "nbformat": 4,
 "nbformat_minor": 5
}
