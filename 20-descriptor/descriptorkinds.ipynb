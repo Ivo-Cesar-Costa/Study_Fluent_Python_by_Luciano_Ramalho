{
 "cells": [
  {
   "cell_type": "code",
   "execution_count": 1,
   "id": "2af914ce-ca74-4fed-a71d-cac08c22d179",
   "metadata": {},
   "outputs": [],
   "source": [
    "def cls_name(obj_or_cls):\n",
    "    cls = type(obj_or_cls)\n",
    "    if cls is type:\n",
    "        cls = obj_or_cls\n",
    "    return cls.__name__.split('.')[-1]"
   ]
  },
  {
   "cell_type": "code",
   "execution_count": 2,
   "id": "cd630b5b-4819-459d-a66f-bdaf7b445b32",
   "metadata": {},
   "outputs": [],
   "source": [
    "def display(obj):\n",
    "    cls = type(obj)\n",
    "    if cls is type:\n",
    "        return '<class {}>'.format(obj.__name__)\n",
    "    elif cls in [type(None), int]:\n",
    "        return repr(obj)\n",
    "    else:\n",
    "        return '<{} object>'.format(cls_name(obj))"
   ]
  },
  {
   "cell_type": "code",
   "execution_count": 3,
   "id": "0060b266-31e2-4f27-85ba-791145f884bf",
   "metadata": {},
   "outputs": [],
   "source": [
    "def print_args(name, *args):\n",
    "    pseudo_args = ', '.join(display(x) for x in args)\n",
    "    print('-> {}.__{}__({})'.format(cls_name(args[0]), name, pseudo_args))"
   ]
  },
  {
   "cell_type": "code",
   "execution_count": 4,
   "id": "f8fc12a3-74cd-425e-9acc-780181c2c702",
   "metadata": {},
   "outputs": [],
   "source": [
    "class Overriding:  # <1>\n",
    "    \"\"\"a.k.a. data descriptor or enforced descriptor\"\"\"\n",
    "\n",
    "    def __get__(self, instance, owner):\n",
    "        print_args('get', self, instance, owner)  # <2>\n",
    "\n",
    "    def __set__(self, instance, value):\n",
    "        print_args('set', self, instance, value)"
   ]
  },
  {
   "cell_type": "code",
   "execution_count": 5,
   "id": "3bd1f013-25fc-4e28-acd2-32f5500f4145",
   "metadata": {},
   "outputs": [],
   "source": [
    "class OverridingNoGet:  # <3>\n",
    "    \"\"\"an overriding descriptor without ``__get__``\"\"\"\n",
    "\n",
    "    def __set__(self, instance, value):\n",
    "        print_args('set', self, instance, value)"
   ]
  },
  {
   "cell_type": "code",
   "execution_count": 6,
   "id": "fdd051ec-5715-4455-b370-2ca7f2b60ae7",
   "metadata": {},
   "outputs": [],
   "source": [
    "class NonOverriding:  # <4>\n",
    "    \"\"\"a.k.a. non-data or shadowable descriptor\"\"\"\n",
    "\n",
    "    def __get__(self, instance, owner):\n",
    "        print_args('get', self, instance, owner)"
   ]
  },
  {
   "cell_type": "code",
   "execution_count": 7,
   "id": "f0331d5b-5406-4e9c-84f0-8d3f46b3dab5",
   "metadata": {},
   "outputs": [],
   "source": [
    "class Managed:  # <5>\n",
    "    over = Overriding()\n",
    "    over_no_get = OverridingNoGet()\n",
    "    non_over = NonOverriding()\n",
    "\n",
    "    def spam(self):  # <6>\n",
    "        print('-> Managed.spam({})'.format(display(self)))"
   ]
  },
  {
   "cell_type": "markdown",
   "id": "63c4cfcf-f780-4eec-8c46-abb9f334d529",
   "metadata": {},
   "source": [
    "#### Overriding descriptor (a.k.a. data descriptor or enforced descriptor):"
   ]
  },
  {
   "cell_type": "code",
   "execution_count": 8,
   "id": "01cfbe36-3802-4e1a-906e-1492cdc69c78",
   "metadata": {},
   "outputs": [
    {
     "name": "stdout",
     "output_type": "stream",
     "text": [
      "-> Overriding.__get__(<Overriding object>, <Managed object>, <class Managed>)\n"
     ]
    }
   ],
   "source": [
    ">>> obj = Managed()  # <1>\n",
    ">>> obj.over  # <2>"
   ]
  },
  {
   "cell_type": "code",
   "execution_count": 9,
   "id": "4b750a48-fe10-49de-adf8-74207ad6ce2c",
   "metadata": {},
   "outputs": [
    {
     "name": "stdout",
     "output_type": "stream",
     "text": [
      "-> Overriding.__get__(<Overriding object>, None, <class Managed>)\n"
     ]
    }
   ],
   "source": [
    ">>> Managed.over  # <3>"
   ]
  },
  {
   "cell_type": "code",
   "execution_count": 10,
   "id": "347f1451-8d4b-4cf4-9ae6-0c01c6c7f806",
   "metadata": {},
   "outputs": [
    {
     "name": "stdout",
     "output_type": "stream",
     "text": [
      "-> Overriding.__set__(<Overriding object>, <Managed object>, 7)\n"
     ]
    }
   ],
   "source": [
    ">>> obj.over = 7  # <4>"
   ]
  },
  {
   "cell_type": "code",
   "execution_count": 11,
   "id": "b64ba82f-4316-45cb-b5bb-8d1152c329fa",
   "metadata": {},
   "outputs": [
    {
     "name": "stdout",
     "output_type": "stream",
     "text": [
      "-> Overriding.__get__(<Overriding object>, <Managed object>, <class Managed>)\n"
     ]
    }
   ],
   "source": [
    ">>> obj.over  # <5>"
   ]
  },
  {
   "cell_type": "code",
   "execution_count": 12,
   "id": "81c4a156-3c47-4d26-9c43-2af1ac01004d",
   "metadata": {},
   "outputs": [
    {
     "data": {
      "text/plain": [
       "{'over': 8}"
      ]
     },
     "execution_count": 12,
     "metadata": {},
     "output_type": "execute_result"
    }
   ],
   "source": [
    ">>> obj.__dict__['over'] = 8  # <6>\n",
    ">>> vars(obj)  # <7>"
   ]
  },
  {
   "cell_type": "code",
   "execution_count": 13,
   "id": "2c36da19-3fa9-4220-aae6-49f14728881c",
   "metadata": {},
   "outputs": [
    {
     "name": "stdout",
     "output_type": "stream",
     "text": [
      "-> Overriding.__get__(<Overriding object>, <Managed object>, <class Managed>)\n"
     ]
    }
   ],
   "source": [
    ">>> obj.over  # <8>"
   ]
  },
  {
   "cell_type": "markdown",
   "id": "c3f17a9a-f61d-4ca6-8e03-bc47de6fcd41",
   "metadata": {},
   "source": [
    "#### Overriding descriptor without ``__get__``:"
   ]
  },
  {
   "cell_type": "code",
   "execution_count": 14,
   "id": "e2734bb4-0e01-43c2-9701-9408e217ac8b",
   "metadata": {},
   "outputs": [
    {
     "data": {
      "text/plain": [
       "<__main__.OverridingNoGet at 0x2c3eb8524d0>"
      ]
     },
     "execution_count": 14,
     "metadata": {},
     "output_type": "execute_result"
    }
   ],
   "source": [
    ">>> obj.over_no_get  # doctest: +ELLIPSIS"
   ]
  },
  {
   "cell_type": "code",
   "execution_count": 15,
   "id": "d14cac1d-359f-422b-b616-ced6d0974f92",
   "metadata": {},
   "outputs": [
    {
     "data": {
      "text/plain": [
       "<__main__.OverridingNoGet at 0x2c3eb8524d0>"
      ]
     },
     "execution_count": 15,
     "metadata": {},
     "output_type": "execute_result"
    }
   ],
   "source": [
    ">>> Managed.over_no_get  # doctest: +ELLIPSIS"
   ]
  },
  {
   "cell_type": "code",
   "execution_count": 16,
   "id": "ec401a59-edd2-4540-9ff5-ab83713f3b54",
   "metadata": {},
   "outputs": [
    {
     "name": "stdout",
     "output_type": "stream",
     "text": [
      "-> OverridingNoGet.__set__(<OverridingNoGet object>, <Managed object>, 7)\n"
     ]
    }
   ],
   "source": [
    ">>> obj.over_no_get = 7"
   ]
  },
  {
   "cell_type": "code",
   "execution_count": 17,
   "id": "deab9197-335c-4c53-8206-261b49c17c31",
   "metadata": {},
   "outputs": [
    {
     "data": {
      "text/plain": [
       "<__main__.OverridingNoGet at 0x2c3eb8524d0>"
      ]
     },
     "execution_count": 17,
     "metadata": {},
     "output_type": "execute_result"
    }
   ],
   "source": [
    ">>> obj.over_no_get  # doctest: +ELLIPSIS"
   ]
  },
  {
   "cell_type": "code",
   "execution_count": 18,
   "id": "a0f03a6c-22ff-42a9-aa37-15e21b084aa8",
   "metadata": {},
   "outputs": [
    {
     "data": {
      "text/plain": [
       "9"
      ]
     },
     "execution_count": 18,
     "metadata": {},
     "output_type": "execute_result"
    }
   ],
   "source": [
    ">>> obj.__dict__['over_no_get'] = 9\n",
    ">>> obj.over_no_get"
   ]
  },
  {
   "cell_type": "code",
   "execution_count": 19,
   "id": "2a7f3c8e-76c4-4dec-8c04-61a709fc4f54",
   "metadata": {},
   "outputs": [
    {
     "name": "stdout",
     "output_type": "stream",
     "text": [
      "-> OverridingNoGet.__set__(<OverridingNoGet object>, <Managed object>, 7)\n"
     ]
    }
   ],
   "source": [
    ">>> obj.over_no_get = 7"
   ]
  },
  {
   "cell_type": "code",
   "execution_count": 20,
   "id": "685247c2-25fe-4e13-a1db-205781a91167",
   "metadata": {},
   "outputs": [
    {
     "data": {
      "text/plain": [
       "9"
      ]
     },
     "execution_count": 20,
     "metadata": {},
     "output_type": "execute_result"
    }
   ],
   "source": [
    ">>> obj.over_no_get"
   ]
  },
  {
   "cell_type": "markdown",
   "id": "75633e08-7744-4ec6-80ec-e36916f91b4b",
   "metadata": {},
   "source": [
    "#### Non-overriding descriptor (a.k.a. non-data descriptor or shadowable descriptor):"
   ]
  },
  {
   "cell_type": "code",
   "execution_count": 21,
   "id": "0e2de96c-ac80-4815-8c9a-a3ba25d12d48",
   "metadata": {},
   "outputs": [
    {
     "name": "stdout",
     "output_type": "stream",
     "text": [
      "-> NonOverriding.__get__(<NonOverriding object>, <Managed object>, <class Managed>)\n"
     ]
    }
   ],
   "source": [
    ">>> obj = Managed()\n",
    ">>> obj.non_over  # <1>"
   ]
  },
  {
   "cell_type": "code",
   "execution_count": 22,
   "id": "8d59fc2e-ecbb-4ec0-ade1-0f25e1c7f0b0",
   "metadata": {},
   "outputs": [
    {
     "data": {
      "text/plain": [
       "7"
      ]
     },
     "execution_count": 22,
     "metadata": {},
     "output_type": "execute_result"
    }
   ],
   "source": [
    ">>> obj.non_over = 7  # <2>\n",
    ">>> obj.non_over  # <3>"
   ]
  },
  {
   "cell_type": "code",
   "execution_count": 23,
   "id": "e6228bfa-24ea-40c4-928b-b96a3be67704",
   "metadata": {},
   "outputs": [
    {
     "name": "stdout",
     "output_type": "stream",
     "text": [
      "-> NonOverriding.__get__(<NonOverriding object>, None, <class Managed>)\n"
     ]
    }
   ],
   "source": [
    ">>> Managed.non_over  # <4>"
   ]
  },
  {
   "cell_type": "code",
   "execution_count": 24,
   "id": "29be4802-f7ae-4a2a-b806-c03d07475f01",
   "metadata": {},
   "outputs": [
    {
     "name": "stdout",
     "output_type": "stream",
     "text": [
      "-> NonOverriding.__get__(<NonOverriding object>, <Managed object>, <class Managed>)\n"
     ]
    }
   ],
   "source": [
    ">>> del obj.non_over  # <5>\n",
    ">>> obj.non_over  # <6>"
   ]
  },
  {
   "cell_type": "markdown",
   "id": "b765a2db-4b41-4123-b227-4923b341e780",
   "metadata": {},
   "source": [
    "#### No descriptor type survives being overwritten on the class itself:"
   ]
  },
  {
   "cell_type": "code",
   "execution_count": 25,
   "id": "f6f5a3e3-f57e-428d-aeb5-fdb337f51fe4",
   "metadata": {},
   "outputs": [
    {
     "data": {
      "text/plain": [
       "(1, 2, 3)"
      ]
     },
     "execution_count": 25,
     "metadata": {},
     "output_type": "execute_result"
    }
   ],
   "source": [
    ">>> obj = Managed()  # <1>\n",
    ">>> Managed.over = 1  # <2>\n",
    ">>> Managed.over_no_get = 2\n",
    ">>> Managed.non_over = 3\n",
    ">>> obj.over, obj.over_no_get, obj.non_over  # <3>"
   ]
  },
  {
   "cell_type": "markdown",
   "id": "7f6fb180-566b-44bc-98bf-dae55edb63fe",
   "metadata": {},
   "source": [
    "#### Methods are non-overriding descriptors:"
   ]
  },
  {
   "cell_type": "code",
   "execution_count": 26,
   "id": "26682b0a-7e86-4495-b1f5-19034726e8dd",
   "metadata": {},
   "outputs": [
    {
     "data": {
      "text/plain": [
       "<bound method Managed.spam of <__main__.Managed object at 0x000002C3EB8B9FF0>>"
      ]
     },
     "execution_count": 26,
     "metadata": {},
     "output_type": "execute_result"
    }
   ],
   "source": [
    ">>> obj.spam  # doctest: +ELLIPSIS"
   ]
  },
  {
   "cell_type": "code",
   "execution_count": 27,
   "id": "20603b2f-69d4-4fe6-9e39-7e229faffffd",
   "metadata": {},
   "outputs": [
    {
     "data": {
      "text/plain": [
       "<function __main__.Managed.spam(self)>"
      ]
     },
     "execution_count": 27,
     "metadata": {},
     "output_type": "execute_result"
    }
   ],
   "source": [
    ">>> Managed.spam  # doctest: +ELLIPSIS"
   ]
  },
  {
   "cell_type": "code",
   "execution_count": 28,
   "id": "4d941723-5f8b-4917-9bcc-a513253c5a6a",
   "metadata": {},
   "outputs": [
    {
     "name": "stdout",
     "output_type": "stream",
     "text": [
      "-> Managed.spam(<Managed object>)\n"
     ]
    }
   ],
   "source": [
    ">>> obj.spam()"
   ]
  },
  {
   "cell_type": "code",
   "execution_count": 29,
   "id": "e28cf5f2-b11c-4c9b-ba19-0c394d3472c8",
   "metadata": {},
   "outputs": [
    {
     "ename": "TypeError",
     "evalue": "Managed.spam() missing 1 required positional argument: 'self'",
     "output_type": "error",
     "traceback": [
      "\u001b[1;31m---------------------------------------------------------------------------\u001b[0m",
      "\u001b[1;31mTypeError\u001b[0m                                 Traceback (most recent call last)",
      "Input \u001b[1;32mIn [29]\u001b[0m, in \u001b[0;36m<module>\u001b[1;34m\u001b[0m\n\u001b[1;32m----> 1\u001b[0m \u001b[43mManaged\u001b[49m\u001b[38;5;241;43m.\u001b[39;49m\u001b[43mspam\u001b[49m\u001b[43m(\u001b[49m\u001b[43m)\u001b[49m\n",
      "\u001b[1;31mTypeError\u001b[0m: Managed.spam() missing 1 required positional argument: 'self'"
     ]
    }
   ],
   "source": [
    ">>> Managed.spam()"
   ]
  },
  {
   "cell_type": "code",
   "execution_count": 30,
   "id": "f4b50914-5f26-434c-becb-67e535cd8c0b",
   "metadata": {},
   "outputs": [
    {
     "name": "stdout",
     "output_type": "stream",
     "text": [
      "-> Managed.spam(<Managed object>)\n"
     ]
    }
   ],
   "source": [
    ">>> Managed.spam(obj)"
   ]
  },
  {
   "cell_type": "code",
   "execution_count": 31,
   "id": "61ae8b5c-c2b4-4be4-a1ab-aac4ca9e6d09",
   "metadata": {},
   "outputs": [
    {
     "data": {
      "text/plain": [
       "<bound method Managed.spam of <__main__.Managed object at 0x000002C3EB8B9FF0>>"
      ]
     },
     "execution_count": 31,
     "metadata": {},
     "output_type": "execute_result"
    }
   ],
   "source": [
    ">>> Managed.spam.__get__(obj)  # doctest: +ELLIPSIS"
   ]
  },
  {
   "cell_type": "code",
   "execution_count": 32,
   "id": "9ae01168-0aee-429b-93ec-b0f50ae30349",
   "metadata": {},
   "outputs": [
    {
     "data": {
      "text/plain": [
       "True"
      ]
     },
     "execution_count": 32,
     "metadata": {},
     "output_type": "execute_result"
    }
   ],
   "source": [
    ">>> obj.spam.__func__ is Managed.spam"
   ]
  },
  {
   "cell_type": "code",
   "execution_count": 33,
   "id": "1e168018-6a2c-449a-80da-13e6c410508e",
   "metadata": {},
   "outputs": [
    {
     "data": {
      "text/plain": [
       "7"
      ]
     },
     "execution_count": 33,
     "metadata": {},
     "output_type": "execute_result"
    }
   ],
   "source": [
    ">>> obj.spam = 7\n",
    ">>> obj.spam"
   ]
  },
  {
   "cell_type": "markdown",
   "id": "b7b1713b-84d0-4da9-8248-175f67345981",
   "metadata": {},
   "source": [
    "#### NOTE: These tests are here because I can't add callouts after +ELLIPSIS directives and if doctest runs them without +ELLIPSIS I get test failures.\n"
   ]
  },
  {
   "cell_type": "code",
   "execution_count": 34,
   "id": "ee3e92c9-fec9-4b1b-b92d-de785c5e485d",
   "metadata": {},
   "outputs": [
    {
     "data": {
      "text/plain": [
       "2"
      ]
     },
     "execution_count": 34,
     "metadata": {},
     "output_type": "execute_result"
    }
   ],
   "source": [
    ">>> obj.over_no_get  # <1>"
   ]
  },
  {
   "cell_type": "code",
   "execution_count": 35,
   "id": "370a0b1a-5763-4d2b-b226-fdf77ce71646",
   "metadata": {},
   "outputs": [
    {
     "data": {
      "text/plain": [
       "2"
      ]
     },
     "execution_count": 35,
     "metadata": {},
     "output_type": "execute_result"
    }
   ],
   "source": [
    ">>> Managed.over_no_get  # <2>"
   ]
  },
  {
   "cell_type": "code",
   "execution_count": 36,
   "id": "9bce7945-d559-4b57-abfc-69d11740d885",
   "metadata": {},
   "outputs": [],
   "source": [
    ">>> obj.over_no_get = 7  # <3>"
   ]
  },
  {
   "cell_type": "code",
   "execution_count": 37,
   "id": "6d1e09f7-a61e-4cfa-8427-eea50b9624e2",
   "metadata": {},
   "outputs": [
    {
     "data": {
      "text/plain": [
       "7"
      ]
     },
     "execution_count": 37,
     "metadata": {},
     "output_type": "execute_result"
    }
   ],
   "source": [
    ">>> obj.over_no_get  # <4>"
   ]
  },
  {
   "cell_type": "code",
   "execution_count": 38,
   "id": "f96aa5ce-a385-49f3-baa0-b7b1b56eed67",
   "metadata": {},
   "outputs": [
    {
     "data": {
      "text/plain": [
       "9"
      ]
     },
     "execution_count": 38,
     "metadata": {},
     "output_type": "execute_result"
    }
   ],
   "source": [
    ">>> obj.__dict__['over_no_get'] = 9  # <5>\n",
    ">>> obj.over_no_get  # <6>"
   ]
  },
  {
   "cell_type": "code",
   "execution_count": 39,
   "id": "d819aee8-590d-4efc-9e32-86f459d334e0",
   "metadata": {},
   "outputs": [],
   "source": [
    ">>> obj.over_no_get = 7  # <7>"
   ]
  },
  {
   "cell_type": "code",
   "execution_count": 40,
   "id": "846641b9-8303-45a3-a376-554bd265e75b",
   "metadata": {},
   "outputs": [
    {
     "data": {
      "text/plain": [
       "7"
      ]
     },
     "execution_count": 40,
     "metadata": {},
     "output_type": "execute_result"
    }
   ],
   "source": [
    ">>> obj.over_no_get  # <8>"
   ]
  },
  {
   "cell_type": "markdown",
   "id": "86688e95-9ec1-46ab-a415-af98cc08a336",
   "metadata": {},
   "source": [
    "#### Methods are non-overriding descriptors:"
   ]
  },
  {
   "cell_type": "code",
   "execution_count": 41,
   "id": "435e262d-1598-4232-ae16-eff1fd52dab7",
   "metadata": {},
   "outputs": [
    {
     "data": {
      "text/plain": [
       "<bound method Managed.spam of <__main__.Managed object at 0x000002C3ECB3A950>>"
      ]
     },
     "execution_count": 41,
     "metadata": {},
     "output_type": "execute_result"
    }
   ],
   "source": [
    ">>> obj = Managed()\n",
    ">>> obj.spam  # <1>"
   ]
  },
  {
   "cell_type": "code",
   "execution_count": 42,
   "id": "b7ac1a52-455d-4caa-a380-5c6912d6e158",
   "metadata": {},
   "outputs": [
    {
     "data": {
      "text/plain": [
       "<function __main__.Managed.spam(self)>"
      ]
     },
     "execution_count": 42,
     "metadata": {},
     "output_type": "execute_result"
    }
   ],
   "source": [
    ">>> Managed.spam  # <2>"
   ]
  },
  {
   "cell_type": "code",
   "execution_count": 43,
   "id": "585f7c60-a950-4176-954f-3bf761bd1f0b",
   "metadata": {},
   "outputs": [
    {
     "data": {
      "text/plain": [
       "7"
      ]
     },
     "execution_count": 43,
     "metadata": {},
     "output_type": "execute_result"
    }
   ],
   "source": [
    ">>> obj.spam = 7  # <3>\n",
    ">>> obj.spam"
   ]
  }
 ],
 "metadata": {
  "kernelspec": {
   "display_name": "Python 3 (ipykernel)",
   "language": "python",
   "name": "python3"
  },
  "language_info": {
   "codemirror_mode": {
    "name": "ipython",
    "version": 3
   },
   "file_extension": ".py",
   "mimetype": "text/x-python",
   "name": "python",
   "nbconvert_exporter": "python",
   "pygments_lexer": "ipython3",
   "version": "3.10.2"
  }
 },
 "nbformat": 4,
 "nbformat_minor": 5
}
