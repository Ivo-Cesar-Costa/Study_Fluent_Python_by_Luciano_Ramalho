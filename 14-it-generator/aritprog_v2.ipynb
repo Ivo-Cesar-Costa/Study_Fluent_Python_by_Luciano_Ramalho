{
 "cells": [
  {
   "cell_type": "code",
   "execution_count": 1,
   "id": "e9016255-88fe-4de8-82dc-ab803a9e5278",
   "metadata": {},
   "outputs": [],
   "source": [
    "def aritprog_gen(begin, step, end=None):\n",
    "    result = type(begin + step)(begin)\n",
    "    forever = end is None\n",
    "    index = 0\n",
    "    while forever or result < end:\n",
    "        yield result\n",
    "        index += 1\n",
    "        result = begin + step * index"
   ]
  },
  {
   "cell_type": "code",
   "execution_count": 2,
   "id": "e61db391-37f7-440f-9f6f-c6dc6ab9654c",
   "metadata": {},
   "outputs": [
    {
     "data": {
      "text/plain": [
       "[1.0, 1.5, 2.0, 2.5]"
      ]
     },
     "execution_count": 2,
     "metadata": {},
     "output_type": "execute_result"
    }
   ],
   "source": [
    ">>> ap = aritprog_gen(1, .5, 3)\n",
    ">>> list(ap)"
   ]
  },
  {
   "cell_type": "code",
   "execution_count": 3,
   "id": "900836ef-21fe-41b5-8cb0-831401a58af5",
   "metadata": {},
   "outputs": [
    {
     "data": {
      "text/plain": [
       "[0.0, 0.3333333333333333, 0.6666666666666666]"
      ]
     },
     "execution_count": 3,
     "metadata": {},
     "output_type": "execute_result"
    }
   ],
   "source": [
    ">>> ap = aritprog_gen(0, 1/3, 1)\n",
    ">>> list(ap)"
   ]
  },
  {
   "cell_type": "code",
   "execution_count": 4,
   "id": "cfb1956d-312c-42a4-86f0-573e8b322656",
   "metadata": {},
   "outputs": [
    {
     "data": {
      "text/plain": [
       "[Fraction(0, 1), Fraction(1, 3), Fraction(2, 3)]"
      ]
     },
     "execution_count": 4,
     "metadata": {},
     "output_type": "execute_result"
    }
   ],
   "source": [
    ">>> from fractions import Fraction\n",
    ">>> ap = aritprog_gen(0, Fraction(1, 3), 1)\n",
    ">>> list(ap)"
   ]
  },
  {
   "cell_type": "code",
   "execution_count": 5,
   "id": "02fd1937-acd9-4f1f-b300-2e700f0c6bca",
   "metadata": {},
   "outputs": [
    {
     "data": {
      "text/plain": [
       "[Decimal('0'), Decimal('0.1'), Decimal('0.2')]"
      ]
     },
     "execution_count": 5,
     "metadata": {},
     "output_type": "execute_result"
    }
   ],
   "source": [
    ">>> from decimal import Decimal\n",
    ">>> ap = aritprog_gen(0, Decimal('.1'), .3)\n",
    ">>> list(ap)"
   ]
  }
 ],
 "metadata": {
  "kernelspec": {
   "display_name": "Python 3 (ipykernel)",
   "language": "python",
   "name": "python3"
  },
  "language_info": {
   "codemirror_mode": {
    "name": "ipython",
    "version": 3
   },
   "file_extension": ".py",
   "mimetype": "text/x-python",
   "name": "python",
   "nbconvert_exporter": "python",
   "pygments_lexer": "ipython3",
   "version": "3.10.2"
  }
 },
 "nbformat": 4,
 "nbformat_minor": 5
}
