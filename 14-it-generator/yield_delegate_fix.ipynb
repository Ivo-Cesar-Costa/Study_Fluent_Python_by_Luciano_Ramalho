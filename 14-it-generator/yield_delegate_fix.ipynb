{
 "cells": [
  {
   "cell_type": "code",
   "execution_count": 1,
   "id": "bee2b45c-d6da-42b3-aad6-2980d1d86f67",
   "metadata": {},
   "outputs": [],
   "source": [
    "def f():\n",
    "    def do_yield(n):\n",
    "        yield n\n",
    "    x = 0\n",
    "    while True:\n",
    "        x += 1\n",
    "        yield from do_yield(x)"
   ]
  },
  {
   "cell_type": "code",
   "execution_count": 2,
   "id": "7886f65e-9390-4d78-bf74-6a8c5091bb7e",
   "metadata": {},
   "outputs": [
    {
     "name": "stdout",
     "output_type": "stream",
     "text": [
      "Invoking f() now produces a generator\n",
      "1\n",
      "2\n",
      "3\n"
     ]
    }
   ],
   "source": [
    "if __name__ == '__main__':\n",
    "    print('Invoking f() now produces a generator')\n",
    "    g = f()\n",
    "    print(next(g))\n",
    "    print(next(g))\n",
    "    print(next(g))"
   ]
  },
  {
   "cell_type": "code",
   "execution_count": 3,
   "id": "e375e23b-b2e2-407d-a0d8-6c5bc9fae373",
   "metadata": {},
   "outputs": [
    {
     "data": {
      "text/plain": [
       "' Example adapted from ``yield_delegate_fail.py``\\nThe following program performs a simple abstraction over the process of\\nyielding.\\n'"
      ]
     },
     "execution_count": 3,
     "metadata": {},
     "output_type": "execute_result"
    }
   ],
   "source": [
    "\"\"\" Example adapted from ``yield_delegate_fail.py``\n",
    "The following program performs a simple abstraction over the process of\n",
    "yielding.\n",
    "\"\"\""
   ]
  }
 ],
 "metadata": {
  "kernelspec": {
   "display_name": "Python 3 (ipykernel)",
   "language": "python",
   "name": "python3"
  },
  "language_info": {
   "codemirror_mode": {
    "name": "ipython",
    "version": 3
   },
   "file_extension": ".py",
   "mimetype": "text/x-python",
   "name": "python",
   "nbconvert_exporter": "python",
   "pygments_lexer": "ipython3",
   "version": "3.10.2"
  }
 },
 "nbformat": 4,
 "nbformat_minor": 5
}
