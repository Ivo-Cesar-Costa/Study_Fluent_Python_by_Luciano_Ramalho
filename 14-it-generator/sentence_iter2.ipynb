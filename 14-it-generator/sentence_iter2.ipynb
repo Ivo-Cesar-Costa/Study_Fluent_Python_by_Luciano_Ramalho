{
 "cells": [
  {
   "cell_type": "markdown",
   "id": "b5f502b3-bf1a-4d54-ae16-5bd14a4b355c",
   "metadata": {},
   "source": [
    "#### WARNING: the Iterator Pattern is much simpler in idiomatic Python;\n",
    "see: sentence_gen*.py."
   ]
  },
  {
   "cell_type": "code",
   "execution_count": 1,
   "id": "95f9ec58-ab5d-429e-bd23-22e1c681e9af",
   "metadata": {},
   "outputs": [],
   "source": [
    "import re\n",
    "import reprlib"
   ]
  },
  {
   "cell_type": "code",
   "execution_count": 2,
   "id": "09ca2ba0-1562-4810-92cd-80c779c13cae",
   "metadata": {},
   "outputs": [],
   "source": [
    "RE_WORD = re.compile(r'\\w+')"
   ]
  },
  {
   "cell_type": "code",
   "execution_count": 3,
   "id": "70aeae49-dbbc-402a-b4ab-4e231fe3045f",
   "metadata": {},
   "outputs": [],
   "source": [
    "class Sentence:\n",
    "\n",
    "    def __init__(self, text):\n",
    "        self.text = text\n",
    "\n",
    "    def __repr__(self):\n",
    "        return 'Sentence(%s)' % reprlib.repr(self.text)\n",
    "\n",
    "    def __iter__(self):\n",
    "        word_iter = RE_WORD.finditer(self.text)  # <1>\n",
    "        return SentenceIter(word_iter)  # <2>"
   ]
  },
  {
   "cell_type": "code",
   "execution_count": 4,
   "id": "5ca104f0-2707-4f36-b74b-2f92c827c8d9",
   "metadata": {},
   "outputs": [],
   "source": [
    "class SentenceIter():\n",
    "\n",
    "    def __init__(self, word_iter):\n",
    "        self.word_iter = word_iter  # <3>\n",
    "\n",
    "    def __next__(self):\n",
    "        match = next(self.word_iter)  # <4>\n",
    "        return match.group()  # <5>\n",
    "\n",
    "    def __iter__(self):\n",
    "        return self"
   ]
  }
 ],
 "metadata": {
  "kernelspec": {
   "display_name": "Python 3 (ipykernel)",
   "language": "python",
   "name": "python3"
  },
  "language_info": {
   "codemirror_mode": {
    "name": "ipython",
    "version": 3
   },
   "file_extension": ".py",
   "mimetype": "text/x-python",
   "name": "python",
   "nbconvert_exporter": "python",
   "pygments_lexer": "ipython3",
   "version": "3.10.2"
  }
 },
 "nbformat": 4,
 "nbformat_minor": 5
}
