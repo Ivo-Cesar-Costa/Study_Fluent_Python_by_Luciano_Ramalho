{
 "cells": [
  {
   "cell_type": "code",
   "execution_count": 1,
   "id": "7058dd8f-7583-4d57-b96f-fff517a05f15",
   "metadata": {},
   "outputs": [
    {
     "name": "stdout",
     "output_type": "stream",
     "text": [
      "importing Jupyter notebook from sentence.ipynb\n"
     ]
    }
   ],
   "source": [
    "import import_ipynb\n",
    "from sentence import Sentence"
   ]
  },
  {
   "cell_type": "markdown",
   "id": "2fd6c7d3-3f6b-4fe9-b5a6-cd65d9fca3fd",
   "metadata": {},
   "source": [
    "#### A Sentence is built from a str and allows iteration word-by-word."
   ]
  },
  {
   "cell_type": "code",
   "execution_count": 2,
   "id": "5d3958e1-4ac7-4a11-ae57-4dcdcd3acab4",
   "metadata": {},
   "outputs": [
    {
     "data": {
      "text/plain": [
       "Sentence('The time has come')"
      ]
     },
     "execution_count": 2,
     "metadata": {},
     "output_type": "execute_result"
    }
   ],
   "source": [
    ">>> s = Sentence('The time has come')\n",
    ">>> s"
   ]
  },
  {
   "cell_type": "code",
   "execution_count": 3,
   "id": "94addc09-b57d-4850-93f8-c2eb25531c8c",
   "metadata": {},
   "outputs": [
    {
     "data": {
      "text/plain": [
       "['The', 'time', 'has', 'come']"
      ]
     },
     "execution_count": 3,
     "metadata": {},
     "output_type": "execute_result"
    }
   ],
   "source": [
    ">>> list(s)"
   ]
  },
  {
   "cell_type": "code",
   "execution_count": 4,
   "id": "1d68825d-c876-46c3-b2d8-e44f58a23139",
   "metadata": {},
   "outputs": [
    {
     "data": {
      "text/plain": [
       "'The'"
      ]
     },
     "execution_count": 4,
     "metadata": {},
     "output_type": "execute_result"
    }
   ],
   "source": [
    ">>> it = iter(s)\n",
    ">>> next(it)"
   ]
  },
  {
   "cell_type": "code",
   "execution_count": 5,
   "id": "3643b3cc-c92c-45b3-af7f-00266cbfcc86",
   "metadata": {},
   "outputs": [
    {
     "data": {
      "text/plain": [
       "'time'"
      ]
     },
     "execution_count": 5,
     "metadata": {},
     "output_type": "execute_result"
    }
   ],
   "source": [
    ">>> next(it)"
   ]
  },
  {
   "cell_type": "code",
   "execution_count": 6,
   "id": "d8f392e5-bbe1-4834-a8f2-e7354312ca02",
   "metadata": {},
   "outputs": [
    {
     "data": {
      "text/plain": [
       "'has'"
      ]
     },
     "execution_count": 6,
     "metadata": {},
     "output_type": "execute_result"
    }
   ],
   "source": [
    ">>> next(it)"
   ]
  },
  {
   "cell_type": "code",
   "execution_count": 7,
   "id": "1fefa966-6982-4f98-afa0-f4d8dd44275b",
   "metadata": {},
   "outputs": [
    {
     "data": {
      "text/plain": [
       "'come'"
      ]
     },
     "execution_count": 7,
     "metadata": {},
     "output_type": "execute_result"
    }
   ],
   "source": [
    ">>> next(it)"
   ]
  },
  {
   "cell_type": "code",
   "execution_count": 8,
   "id": "cba8c154-7da1-4800-8949-a04aeefca700",
   "metadata": {},
   "outputs": [
    {
     "ename": "StopIteration",
     "evalue": "",
     "output_type": "error",
     "traceback": [
      "\u001b[1;31m---------------------------------------------------------------------------\u001b[0m",
      "\u001b[1;31mStopIteration\u001b[0m                             Traceback (most recent call last)",
      "Input \u001b[1;32mIn [8]\u001b[0m, in \u001b[0;36m<module>\u001b[1;34m\u001b[0m\n\u001b[1;32m----> 1\u001b[0m \u001b[38;5;28;43mnext\u001b[39;49m\u001b[43m(\u001b[49m\u001b[43mit\u001b[49m\u001b[43m)\u001b[49m\n",
      "\u001b[1;31mStopIteration\u001b[0m: "
     ]
    }
   ],
   "source": [
    ">>> next(it)"
   ]
  },
  {
   "cell_type": "markdown",
   "id": "79618cd5-eee3-4473-a474-7516ef256198",
   "metadata": {},
   "source": [
    "#### Any punctuation is skipped while iterating:"
   ]
  },
  {
   "cell_type": "code",
   "execution_count": 9,
   "id": "6747c9e7-5537-4df3-9cdd-8a7e67046767",
   "metadata": {},
   "outputs": [
    {
     "data": {
      "text/plain": [
       "Sentence('\"The time ha... Walrus said,')"
      ]
     },
     "execution_count": 9,
     "metadata": {},
     "output_type": "execute_result"
    }
   ],
   "source": [
    ">>> s = Sentence('\"The time has come,\" the Walrus said,')\n",
    ">>> s"
   ]
  },
  {
   "cell_type": "code",
   "execution_count": 10,
   "id": "9e090372-7829-4707-b547-76321c121f06",
   "metadata": {},
   "outputs": [
    {
     "data": {
      "text/plain": [
       "['The', 'time', 'has', 'come', 'the', 'Walrus', 'said']"
      ]
     },
     "execution_count": 10,
     "metadata": {},
     "output_type": "execute_result"
    }
   ],
   "source": [
    ">>> list(s)"
   ]
  },
  {
   "cell_type": "markdown",
   "id": "c8d3998a-ecdf-4a63-b014-15446842803b",
   "metadata": {},
   "source": [
    "#### White space including line breaks are also ignored:"
   ]
  },
  {
   "cell_type": "code",
   "execution_count": 11,
   "id": "acfb1695-5e5f-4b12-9bd6-85e0a67e9c91",
   "metadata": {},
   "outputs": [
    {
     "data": {
      "text/plain": [
       "Sentence('\"The time ha...many things:\"')"
      ]
     },
     "execution_count": 11,
     "metadata": {},
     "output_type": "execute_result"
    }
   ],
   "source": [
    ">>> s = Sentence('''\"The time has come,\" the Walrus said,\n",
    "...                 \"To talk of many things:\"''')\n",
    ">>> s"
   ]
  },
  {
   "cell_type": "code",
   "execution_count": 12,
   "id": "584b932a-3c46-4d1f-a890-9809e84625b2",
   "metadata": {},
   "outputs": [
    {
     "data": {
      "text/plain": [
       "['The',\n",
       " 'time',\n",
       " 'has',\n",
       " 'come',\n",
       " 'the',\n",
       " 'Walrus',\n",
       " 'said',\n",
       " 'To',\n",
       " 'talk',\n",
       " 'of',\n",
       " 'many',\n",
       " 'things']"
      ]
     },
     "execution_count": 12,
     "metadata": {},
     "output_type": "execute_result"
    }
   ],
   "source": [
    ">>> list(s)"
   ]
  },
  {
   "cell_type": "markdown",
   "id": "c24cd812-7a6b-4a7b-9c0e-b5b3effcf0c3",
   "metadata": {},
   "source": [
    "#### Accented Latin characters are also recognized as word characters:"
   ]
  },
  {
   "cell_type": "code",
   "execution_count": 13,
   "id": "e3597906-6681-40d5-aaad-ea6601dc91e2",
   "metadata": {},
   "outputs": [
    {
     "data": {
      "text/plain": [
       "Sentence('Agora vou-me. Ou me vão?')"
      ]
     },
     "execution_count": 13,
     "metadata": {},
     "output_type": "execute_result"
    }
   ],
   "source": [
    ">>> s = Sentence('Agora vou-me. Ou me vão?')\n",
    ">>> s"
   ]
  },
  {
   "cell_type": "code",
   "execution_count": 14,
   "id": "a0a72d01-beef-4ae0-bb05-c679c46c3ec4",
   "metadata": {},
   "outputs": [
    {
     "data": {
      "text/plain": [
       "['Agora', 'vou', 'me', 'Ou', 'me', 'vão']"
      ]
     },
     "execution_count": 14,
     "metadata": {},
     "output_type": "execute_result"
    }
   ],
   "source": [
    ">>> list(s)"
   ]
  }
 ],
 "metadata": {
  "kernelspec": {
   "display_name": "Python 3 (ipykernel)",
   "language": "python",
   "name": "python3"
  },
  "language_info": {
   "codemirror_mode": {
    "name": "ipython",
    "version": 3
   },
   "file_extension": ".py",
   "mimetype": "text/x-python",
   "name": "python",
   "nbconvert_exporter": "python",
   "pygments_lexer": "ipython3",
   "version": "3.10.2"
  }
 },
 "nbformat": 4,
 "nbformat_minor": 5
}
