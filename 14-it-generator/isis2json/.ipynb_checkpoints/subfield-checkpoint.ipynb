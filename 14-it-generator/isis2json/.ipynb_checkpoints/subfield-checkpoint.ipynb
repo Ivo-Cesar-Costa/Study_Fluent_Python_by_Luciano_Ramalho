{
 "cells": [
  {
   "cell_type": "code",
   "execution_count": 1,
   "id": "1f32b7d5-49af-45ed-8491-cb1609a73e9a",
   "metadata": {},
   "outputs": [],
   "source": [
    "from collections import namedtuple\n",
    "import re"
   ]
  },
  {
   "cell_type": "code",
   "execution_count": 2,
   "id": "2a9b7592-7acd-4b6b-98ba-12ec63b45008",
   "metadata": {},
   "outputs": [],
   "source": [
    "MAIN_SUBFIELD_KEY = '_'\n",
    "SUBFIELD_MARKER_RE = re.compile(r'\\^([a-z0-9])', re.IGNORECASE)\n",
    "DEFAULT_ENCODING = u'utf-8'"
   ]
  },
  {
   "cell_type": "code",
   "execution_count": 3,
   "id": "bddac1cb-d57a-405d-be4a-71bcefc51c1d",
   "metadata": {},
   "outputs": [],
   "source": [
    "def expand(content, subkeys=None):\n",
    "    ''' Parse a field into an association list of keys and subfields\n",
    "        >>> expand('zero^1one^2two^3three')\n",
    "        [('_', 'zero'), ('1', 'one'), ('2', 'two'), ('3', 'three')]\n",
    "    '''\n",
    "    if subkeys is None:\n",
    "        regex = SUBFIELD_MARKER_RE\n",
    "    elif subkeys == '':\n",
    "        return [(MAIN_SUBFIELD_KEY, content)]\n",
    "    else:\n",
    "        regex = re.compile(r'\\^(['+subkeys+'])', re.IGNORECASE)\n",
    "    content = content.replace('^^', '^^ ')\n",
    "    parts = []\n",
    "    start = 0\n",
    "    key = MAIN_SUBFIELD_KEY\n",
    "    while True:\n",
    "        found = regex.search(content, start)\n",
    "        if found is None: break\n",
    "        parts.append((key, content[start:found.start()].rstrip()))\n",
    "        key = found.group(1).lower()\n",
    "        start = found.end()\n",
    "    parts.append((key, content[start:].rstrip()))\n",
    "    return parts"
   ]
  },
  {
   "cell_type": "code",
   "execution_count": 4,
   "id": "108194b8-d368-43f5-9771-f62add9614cf",
   "metadata": {},
   "outputs": [
    {
     "data": {
      "text/plain": [
       "[('_', 'zero'), ('1', 'one'), ('2', 'two'), ('3', 'three')]"
      ]
     },
     "execution_count": 4,
     "metadata": {},
     "output_type": "execute_result"
    }
   ],
   "source": [
    "expand('zero^1one^2two^3three')"
   ]
  },
  {
   "cell_type": "code",
   "execution_count": 5,
   "id": "398f6ece-4d61-4afc-ac37-bbb319340225",
   "metadata": {},
   "outputs": [],
   "source": [
    "class CompositeString(object):\n",
    "    ''' Represent an Isis field, with subfields, using\n",
    "    Python native datastructures\n",
    "    >>> author = CompositeString('John Tenniel^xillustrator',\n",
    "    ... subkeys='x')\n",
    "    >>> unicode(author)\n",
    "    u'John Tenniel^xillustrator'\n",
    "    '''\n",
    "    \n",
    "    def __init__(self, isis_raw, subkeys=None, encoding=DEFAULT_ENCODING):\n",
    "        if not isinstance(isis_raw, basestring):\n",
    "            raise TypeError('%r value must be unicode or str instance' % isis_raw)\n",
    "\n",
    "        self.__isis_raw = isis_raw.decode(encoding)\n",
    "        self.__expanded = expand(self.__isis_raw, subkeys)\n",
    "\n",
    "    def __getitem__(self, key):\n",
    "        for subfield in self.__expanded:\n",
    "            if subfield[0] == key:\n",
    "                return subfield[1]\n",
    "        else:\n",
    "            raise KeyError(key)\n",
    "\n",
    "    def __iter__(self):\n",
    "        return (subfield[0] for subfield in self.__expanded)\n",
    "\n",
    "    def items(self):\n",
    "        return self.__expanded\n",
    "\n",
    "    def __unicode__(self):\n",
    "        return self.__isis_raw\n",
    "\n",
    "    def __str__(self):\n",
    "        return str(self.__isis_raw)"
   ]
  },
  {
   "cell_type": "code",
   "execution_count": 6,
   "id": "90347bab-e467-42a9-aee6-1f10ea25318e",
   "metadata": {},
   "outputs": [],
   "source": [
    "class CompositeField(object):\n",
    "    ''' Represent an Isis field, with subfields, using\n",
    "        Python native datastructures\n",
    "        >>> author = CompositeField( [('name','Braz, Marcelo'),('role','writer')] )\n",
    "        >>> print author['name']\n",
    "        Braz, Marcelo\n",
    "        >>> print author['role']\n",
    "        writer\n",
    "        >>> author\n",
    "        CompositeField((('name', 'Braz, Marcelo'), ('role', 'writer')))\n",
    "    '''\n",
    "\n",
    "    def __init__(self, value, subkeys=None):\n",
    "        if subkeys is None:\n",
    "            subkeys = [item[0] for item in value]\n",
    "        try:\n",
    "            value_as_dict = dict(value)\n",
    "        except TypeError:\n",
    "            raise TypeError('%r value must be a key-value structure' % self)\n",
    "        \n",
    "        for key in value_as_dict:\n",
    "            if key not in subkeys:\n",
    "                raise TypeError('Unexpected keyword %r' % key)\n",
    "    \n",
    "        self.value = tuple([(key, value_as_dict.get(key,None)) for key in subkeys])\n",
    "\n",
    "    def __getitem__(self, key):\n",
    "        return dict(self.value)[key]\n",
    "\n",
    "    def __repr__(self):\n",
    "        return \"CompositeField(%s)\" % str(self.items())\n",
    "\n",
    "    def items(self):\n",
    "        return self.value\n",
    "\n",
    "    def __unicode__(self):\n",
    "        unicode(self.items())\n",
    "\n",
    "    def __str__(self):\n",
    "        str(self.items())"
   ]
  },
  {
   "cell_type": "code",
   "execution_count": 7,
   "id": "bf4a4fe6-f088-4eea-a2d0-f5877744cde8",
   "metadata": {},
   "outputs": [
    {
     "data": {
      "text/plain": [
       "CompositeField((('name', 'Braz, Marcelo'), ('role', 'writer')))"
      ]
     },
     "execution_count": 7,
     "metadata": {},
     "output_type": "execute_result"
    }
   ],
   "source": [
    "author = CompositeField( [('name','Braz, Marcelo'),('role','writer')] )\n",
    "author"
   ]
  },
  {
   "cell_type": "code",
   "execution_count": 8,
   "id": "037662b3-df14-461b-9fac-5aa121daa420",
   "metadata": {},
   "outputs": [
    {
     "data": {
      "text/plain": [
       "'Braz, Marcelo'"
      ]
     },
     "execution_count": 8,
     "metadata": {},
     "output_type": "execute_result"
    }
   ],
   "source": [
    "author['name']"
   ]
  },
  {
   "cell_type": "code",
   "execution_count": 9,
   "id": "be02b8eb-0f09-4b03-ac80-862a2a332baa",
   "metadata": {},
   "outputs": [
    {
     "data": {
      "text/plain": [
       "'writer'"
      ]
     },
     "execution_count": 9,
     "metadata": {},
     "output_type": "execute_result"
    }
   ],
   "source": [
    "author['role']"
   ]
  },
  {
   "cell_type": "code",
   "execution_count": 10,
   "id": "ce14ea64-82b4-47b6-bddc-08b8bb7e94ac",
   "metadata": {},
   "outputs": [
    {
     "data": {
      "text/plain": [
       "CompositeField((('name', 'Braz, Marcelo'), ('role', 'writer')))"
      ]
     },
     "execution_count": 10,
     "metadata": {},
     "output_type": "execute_result"
    }
   ],
   "source": [
    "author"
   ]
  },
  {
   "cell_type": "code",
   "execution_count": 11,
   "id": "bee17cbe-244d-4d33-b1cb-53a300316a70",
   "metadata": {},
   "outputs": [],
   "source": [
    "def test():\n",
    "    import doctest\n",
    "    doctest.testmod()"
   ]
  },
  {
   "cell_type": "code",
   "execution_count": 12,
   "id": "e58fc463-f5b1-42af-8777-4d212f7cb2d9",
   "metadata": {},
   "outputs": [],
   "source": [
    "if __name__=='__main__':\n",
    "    test()"
   ]
  }
 ],
 "metadata": {
  "kernelspec": {
   "display_name": "Python 3 (ipykernel)",
   "language": "python",
   "name": "python3"
  },
  "language_info": {
   "codemirror_mode": {
    "name": "ipython",
    "version": 3
   },
   "file_extension": ".py",
   "mimetype": "text/x-python",
   "name": "python",
   "nbconvert_exporter": "python",
   "pygments_lexer": "ipython3",
   "version": "3.10.2"
  }
 },
 "nbformat": 4,
 "nbformat_minor": 5
}
