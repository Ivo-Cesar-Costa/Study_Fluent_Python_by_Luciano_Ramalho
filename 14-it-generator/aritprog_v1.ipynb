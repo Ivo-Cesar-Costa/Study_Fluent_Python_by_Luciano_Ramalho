{
 "cells": [
  {
   "cell_type": "code",
   "execution_count": 1,
   "id": "4e656093-8472-4ba2-8f45-ff4e2e102ea1",
   "metadata": {},
   "outputs": [],
   "source": [
    "class ArithmeticProgression:\n",
    "\n",
    "    def __init__(self, begin, step, end=None):  # <1>\n",
    "        self.begin = begin\n",
    "        self.step = step\n",
    "        self.end = end  # None -> \"infinite\" series\n",
    "\n",
    "    def __iter__(self):\n",
    "        result = type(self.begin + self.step)(self.begin)  # <2>\n",
    "        forever = self.end is None  # <3>\n",
    "        index = 0\n",
    "        while forever or result < self.end:  # <4>\n",
    "            yield result  # <5>\n",
    "            index += 1\n",
    "            result = self.begin + self.step * index  # <6>"
   ]
  },
  {
   "cell_type": "code",
   "execution_count": 2,
   "id": "b7ca781e-05b2-4bb6-b599-b14fa2ba4f94",
   "metadata": {},
   "outputs": [],
   "source": [
    "ap = ArithmeticProgression(0, 1, 3)"
   ]
  },
  {
   "cell_type": "code",
   "execution_count": 3,
   "id": "4aa2d57f-c7b9-431d-9b8d-47ffe5bd107d",
   "metadata": {},
   "outputs": [
    {
     "data": {
      "text/plain": [
       "[0, 1, 2]"
      ]
     },
     "execution_count": 3,
     "metadata": {},
     "output_type": "execute_result"
    }
   ],
   "source": [
    "list(ap)"
   ]
  },
  {
   "cell_type": "code",
   "execution_count": 4,
   "id": "ddd46a94-7880-4054-b18c-60a1f96dcc34",
   "metadata": {},
   "outputs": [],
   "source": [
    "ap = ArithmeticProgression(1, .5, 3)"
   ]
  },
  {
   "cell_type": "code",
   "execution_count": 5,
   "id": "3b5e2640-8cbb-4b9c-8fb6-399d5e5ea62e",
   "metadata": {},
   "outputs": [
    {
     "data": {
      "text/plain": [
       "[1.0, 1.5, 2.0, 2.5]"
      ]
     },
     "execution_count": 5,
     "metadata": {},
     "output_type": "execute_result"
    }
   ],
   "source": [
    "list(ap)"
   ]
  },
  {
   "cell_type": "code",
   "execution_count": 6,
   "id": "fc0ce44e-aa2b-4e17-a9e2-9c532766e7ed",
   "metadata": {},
   "outputs": [
    {
     "data": {
      "text/plain": [
       "[0.0, 0.3333333333333333, 0.6666666666666666]"
      ]
     },
     "execution_count": 6,
     "metadata": {},
     "output_type": "execute_result"
    }
   ],
   "source": [
    ">>> ap = ArithmeticProgression(0, 1/3, 1)\n",
    ">>> list(ap)"
   ]
  },
  {
   "cell_type": "code",
   "execution_count": 7,
   "id": "57b31362-8877-43f8-9138-bd4af6d7a3f8",
   "metadata": {},
   "outputs": [
    {
     "data": {
      "text/plain": [
       "[Fraction(0, 1), Fraction(1, 3), Fraction(2, 3)]"
      ]
     },
     "execution_count": 7,
     "metadata": {},
     "output_type": "execute_result"
    }
   ],
   "source": [
    ">>> from fractions import Fraction\n",
    ">>> ap = ArithmeticProgression(0, Fraction(1, 3), 1)\n",
    ">>> list(ap)"
   ]
  },
  {
   "cell_type": "code",
   "execution_count": 8,
   "id": "3378bfe2-5cba-4ecc-b737-4a6065a4139f",
   "metadata": {},
   "outputs": [
    {
     "data": {
      "text/plain": [
       "[Decimal('0'), Decimal('0.1'), Decimal('0.2')]"
      ]
     },
     "execution_count": 8,
     "metadata": {},
     "output_type": "execute_result"
    }
   ],
   "source": [
    ">>> from decimal import Decimal\n",
    ">>> ap = ArithmeticProgression(0, Decimal('.1'), .3)\n",
    ">>> list(ap)"
   ]
  }
 ],
 "metadata": {
  "kernelspec": {
   "display_name": "Python 3 (ipykernel)",
   "language": "python",
   "name": "python3"
  },
  "language_info": {
   "codemirror_mode": {
    "name": "ipython",
    "version": 3
   },
   "file_extension": ".py",
   "mimetype": "text/x-python",
   "name": "python",
   "nbconvert_exporter": "python",
   "pygments_lexer": "ipython3",
   "version": "3.10.2"
  }
 },
 "nbformat": 4,
 "nbformat_minor": 5
}
