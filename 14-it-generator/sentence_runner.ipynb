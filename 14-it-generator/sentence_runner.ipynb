{
 "cells": [
  {
   "cell_type": "code",
   "execution_count": 1,
   "id": "2d2560ef-c8b9-48e7-8585-cac5071b90d7",
   "metadata": {},
   "outputs": [],
   "source": [
    "import doctest\n",
    "import importlib\n",
    "import glob"
   ]
  },
  {
   "cell_type": "code",
   "execution_count": 2,
   "id": "01db6a77-4ddc-4adf-bf70-82c86b1fb813",
   "metadata": {},
   "outputs": [],
   "source": [
    "TARGET_GLOB = 'sentence*.py'\n",
    "TEST_FILE = 'sentence.rst'\n",
    "TEST_MSG = '{0:16} {1.attempted:2} tests, {1.failed:2} failed - {2}'"
   ]
  },
  {
   "cell_type": "code",
   "execution_count": 3,
   "id": "c6cd37fc-2abe-4bdf-84ab-02d3fc2d88b4",
   "metadata": {},
   "outputs": [],
   "source": [
    "def main(argv):\n",
    "    verbose = '-v' in argv\n",
    "    for module_file_name in sorted(glob.glob(TARGET_GLOB)):\n",
    "        module_name = module_file_name.replace('.py', '')\n",
    "        module = importlib.import_module(module_name)\n",
    "        try:\n",
    "            cls = getattr(module, 'Sentence')\n",
    "        except AttributeError:\n",
    "            continue\n",
    "        test(cls, verbose)"
   ]
  },
  {
   "cell_type": "code",
   "execution_count": 4,
   "id": "45c7231b-2fcd-4f9b-948f-4319285c28b1",
   "metadata": {},
   "outputs": [],
   "source": [
    "def test(cls, verbose=False):\n",
    "\n",
    "    res = doctest.testfile(\n",
    "            TEST_FILE,\n",
    "            globs={'Sentence': cls},\n",
    "            verbose=verbose,\n",
    "            optionflags=doctest.REPORT_ONLY_FIRST_FAILURE)\n",
    "    tag = 'FAIL' if res.failed else 'OK'\n",
    "    print(TEST_MSG.format(cls.__module__, res, tag))"
   ]
  },
  {
   "cell_type": "code",
   "execution_count": 5,
   "id": "26f146c2-7660-42c7-a77f-9c98b66dad46",
   "metadata": {},
   "outputs": [],
   "source": [
    "if __name__ == '__main__':\n",
    "    import sys\n",
    "    main(sys.argv)"
   ]
  }
 ],
 "metadata": {
  "kernelspec": {
   "display_name": "Python 3 (ipykernel)",
   "language": "python",
   "name": "python3"
  },
  "language_info": {
   "codemirror_mode": {
    "name": "ipython",
    "version": 3
   },
   "file_extension": ".py",
   "mimetype": "text/x-python",
   "name": "python",
   "nbconvert_exporter": "python",
   "pygments_lexer": "ipython3",
   "version": "3.10.2"
  }
 },
 "nbformat": 4,
 "nbformat_minor": 5
}
