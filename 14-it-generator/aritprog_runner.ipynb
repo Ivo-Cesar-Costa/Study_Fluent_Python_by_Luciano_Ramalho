{
 "cells": [
  {
   "cell_type": "code",
   "execution_count": 1,
   "id": "5938f0da-8194-46c8-abc7-6633a7b2dada",
   "metadata": {},
   "outputs": [],
   "source": [
    "import doctest\n",
    "import importlib\n",
    "import glob"
   ]
  },
  {
   "cell_type": "code",
   "execution_count": 2,
   "id": "2703e01e-9626-4d3b-a501-73711aafc62b",
   "metadata": {},
   "outputs": [],
   "source": [
    "TARGET_GLOB = 'aritprog*.py'\n",
    "TEST_FILE = 'aritprog.rst'\n",
    "TEST_MSG = '{0:16} {1.attempted:2} tests, {1.failed:2} failed - {2}'"
   ]
  },
  {
   "cell_type": "code",
   "execution_count": 3,
   "id": "6f2d44f8-f0ae-42a8-b1df-fd83a2d7e513",
   "metadata": {},
   "outputs": [],
   "source": [
    "def main(argv):\n",
    "    verbose = '-v' in argv\n",
    "    for module_file_name in sorted(glob.glob(TARGET_GLOB)):\n",
    "        module_name = module_file_name.replace('.py', '')\n",
    "        module = importlib.import_module(module_name)\n",
    "        gen_factory = getattr(module, 'ArithmeticProgression', None)\n",
    "        if gen_factory is None:\n",
    "            gen_factory = getattr(module, 'aritprog_gen', None)\n",
    "        if gen_factory is None:\n",
    "            continue\n",
    "\n",
    "        test(gen_factory, verbose)"
   ]
  },
  {
   "cell_type": "code",
   "execution_count": 4,
   "id": "be252a4b-bbc3-4e35-912d-3fbfa20202fa",
   "metadata": {},
   "outputs": [],
   "source": [
    "def test(gen_factory, verbose=False):\n",
    "    res = doctest.testfile(\n",
    "            TEST_FILE,\n",
    "            globs={'aritprog_gen': gen_factory},\n",
    "            verbose=verbose,\n",
    "            optionflags=doctest.REPORT_ONLY_FIRST_FAILURE)\n",
    "    tag = 'FAIL' if res.failed else 'OK'\n",
    "    print(TEST_MSG.format(gen_factory.__module__, res, tag))"
   ]
  },
  {
   "cell_type": "code",
   "execution_count": 5,
   "id": "fad40496-f0ae-4eca-8323-3d23c0c3424f",
   "metadata": {},
   "outputs": [],
   "source": [
    "if __name__ == '__main__':\n",
    "    import sys\n",
    "    main(sys.argv)"
   ]
  }
 ],
 "metadata": {
  "kernelspec": {
   "display_name": "Python 3 (ipykernel)",
   "language": "python",
   "name": "python3"
  },
  "language_info": {
   "codemirror_mode": {
    "name": "ipython",
    "version": 3
   },
   "file_extension": ".py",
   "mimetype": "text/x-python",
   "name": "python",
   "nbconvert_exporter": "python",
   "pygments_lexer": "ipython3",
   "version": "3.10.2"
  }
 },
 "nbformat": 4,
 "nbformat_minor": 5
}
