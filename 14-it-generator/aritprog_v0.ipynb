{
 "cells": [
  {
   "cell_type": "code",
   "execution_count": 1,
   "id": "68403955-d212-4676-97bb-3fe140b43b82",
   "metadata": {},
   "outputs": [],
   "source": [
    "class ArithmeticProgression:\n",
    "\n",
    "    def __init__(self, begin, step, end=None):\n",
    "        self.begin = begin\n",
    "        self.step = step\n",
    "        self.end = end  # None -> \"infinite\" series\n",
    "\n",
    "    def __iter__(self):\n",
    "        result = type(self.begin + self.step)(self.begin)\n",
    "        forever = self.end is None\n",
    "        while forever or result < self.end:\n",
    "            yield result\n",
    "            result += self.step"
   ]
  },
  {
   "cell_type": "code",
   "execution_count": 2,
   "id": "fd4e4264-9f26-49ba-9880-5fc7d020e1b1",
   "metadata": {},
   "outputs": [],
   "source": [
    "ap = ArithmeticProgression(1, .5, 3)"
   ]
  },
  {
   "cell_type": "code",
   "execution_count": 3,
   "id": "a06738fc-6bce-4e61-b2c3-95cf100283c2",
   "metadata": {},
   "outputs": [
    {
     "data": {
      "text/plain": [
       "[1.0, 1.5, 2.0, 2.5]"
      ]
     },
     "execution_count": 3,
     "metadata": {},
     "output_type": "execute_result"
    }
   ],
   "source": [
    "list(ap)"
   ]
  }
 ],
 "metadata": {
  "kernelspec": {
   "display_name": "Python 3 (ipykernel)",
   "language": "python",
   "name": "python3"
  },
  "language_info": {
   "codemirror_mode": {
    "name": "ipython",
    "version": 3
   },
   "file_extension": ".py",
   "mimetype": "text/x-python",
   "name": "python",
   "nbconvert_exporter": "python",
   "pygments_lexer": "ipython3",
   "version": "3.10.2"
  }
 },
 "nbformat": 4,
 "nbformat_minor": 5
}
