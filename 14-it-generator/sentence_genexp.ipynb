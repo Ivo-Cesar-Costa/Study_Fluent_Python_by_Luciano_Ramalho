{
 "cells": [
  {
   "cell_type": "markdown",
   "id": "19eee38b-9498-4c1f-b2b5-d9014e6311d6",
   "metadata": {},
   "source": [
    "#### Sentence: iterate over words using a generator expression"
   ]
  },
  {
   "cell_type": "code",
   "execution_count": 1,
   "id": "08e28056-6e66-4065-aea8-61183e66e5ee",
   "metadata": {},
   "outputs": [],
   "source": [
    "import re\n",
    "import reprlib"
   ]
  },
  {
   "cell_type": "code",
   "execution_count": 2,
   "id": "a10fd7f1-f29c-4e62-b927-bba0a898f342",
   "metadata": {},
   "outputs": [],
   "source": [
    "RE_WORD = re.compile(r'\\w+')"
   ]
  },
  {
   "cell_type": "code",
   "execution_count": 3,
   "id": "578cf4de-3a2e-4cb8-a22c-ea12e15dcb81",
   "metadata": {},
   "outputs": [],
   "source": [
    "class Sentence:\n",
    "\n",
    "    def __init__(self, text):\n",
    "        self.text = text\n",
    "\n",
    "    def __repr__(self):\n",
    "        return 'Sentence(%s)' % reprlib.repr(self.text)\n",
    "\n",
    "    def __iter__(self):\n",
    "        return (match.group() for match in RE_WORD.finditer(self.text))"
   ]
  },
  {
   "cell_type": "code",
   "execution_count": 4,
   "id": "ba274e71-86c7-44a6-9840-293ffd93e4ba",
   "metadata": {},
   "outputs": [],
   "source": [
    "def main():\n",
    "    import sys\n",
    "    import warnings\n",
    "    try:\n",
    "        filename = sys.argv[1]\n",
    "        word_number = int(sys.argv[2])\n",
    "    except (IndexError, ValueError):\n",
    "        print('Usage: %s <file-name> <word-number>' % sys.argv[0])\n",
    "        sys.exit(1)\n",
    "    with open(filename, 'rt', encoding='utf-8') as text_file:\n",
    "        s = Sentence(text_file.read())\n",
    "    for n, word in enumerate(s, 1):\n",
    "        if n == word_number:\n",
    "            print(word)\n",
    "            break\n",
    "    else:\n",
    "        warnings.warn('last word is #%d, \"%s\"' % (n, word))"
   ]
  },
  {
   "cell_type": "code",
   "execution_count": 5,
   "id": "53f97279-e703-400d-8a6e-cd6b141ac746",
   "metadata": {},
   "outputs": [],
   "source": [
    "# if __name__ == '__main__':\n",
    "#     main()"
   ]
  }
 ],
 "metadata": {
  "kernelspec": {
   "display_name": "Python 3 (ipykernel)",
   "language": "python",
   "name": "python3"
  },
  "language_info": {
   "codemirror_mode": {
    "name": "ipython",
    "version": 3
   },
   "file_extension": ".py",
   "mimetype": "text/x-python",
   "name": "python",
   "nbconvert_exporter": "python",
   "pygments_lexer": "ipython3",
   "version": "3.10.2"
  }
 },
 "nbformat": 4,
 "nbformat_minor": 5
}
