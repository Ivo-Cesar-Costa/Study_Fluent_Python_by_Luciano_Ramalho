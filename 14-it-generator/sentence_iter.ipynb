{
 "cells": [
  {
   "cell_type": "code",
   "execution_count": 1,
   "id": "e31600f5-2dac-4635-885f-604e6c765bd0",
   "metadata": {},
   "outputs": [],
   "source": [
    "import re\n",
    "import reprlib"
   ]
  },
  {
   "cell_type": "code",
   "execution_count": 2,
   "id": "d51ef814-1553-41e7-9caf-23442442b05b",
   "metadata": {},
   "outputs": [],
   "source": [
    "RE_WORD = re.compile(r'\\w+')"
   ]
  },
  {
   "cell_type": "code",
   "execution_count": 3,
   "id": "50b61d5e-9696-4126-ace1-760f192754c5",
   "metadata": {},
   "outputs": [],
   "source": [
    "class Sentence:\n",
    "\n",
    "    def __init__(self, text):\n",
    "        self.text = text\n",
    "        self.words = RE_WORD.findall(text)\n",
    "\n",
    "    def __repr__(self):\n",
    "        return 'Sentence(%s)' % reprlib.repr(self.text)\n",
    "\n",
    "    def __iter__(self):  # <1>\n",
    "        return SentenceIterator(self.words)  # <2>"
   ]
  },
  {
   "cell_type": "code",
   "execution_count": 4,
   "id": "f70df131-cef0-430c-999a-a50cb0e7000f",
   "metadata": {},
   "outputs": [],
   "source": [
    "class SentenceIterator:\n",
    "\n",
    "    def __init__(self, words):\n",
    "        self.words = words  # <3>\n",
    "        self.index = 0  # <4>\n",
    "\n",
    "    def __next__(self):\n",
    "        try:\n",
    "            word = self.words[self.index]  # <5>\n",
    "        except IndexError:\n",
    "            raise StopIteration()  # <6>\n",
    "        self.index += 1  # <7>\n",
    "        return word  # <8>\n",
    "\n",
    "    def __iter__(self):  # <9>\n",
    "        return self"
   ]
  },
  {
   "cell_type": "code",
   "execution_count": 5,
   "id": "ca0b94ca-f78a-4931-9b6a-ad4294ca4a3f",
   "metadata": {},
   "outputs": [],
   "source": [
    "def main():\n",
    "    import sys\n",
    "    import warnings\n",
    "    try:\n",
    "        filename = sys.argv[1]\n",
    "        word_number = int(sys.argv[2])\n",
    "    except (IndexError, ValueError):\n",
    "        print('Usage: %s <file-name> <word-number>' % sys.argv[0])\n",
    "        sys.exit(1)\n",
    "    with open(filename, 'rt', encoding='utf-8') as text_file:\n",
    "        s = Sentence(text_file.read())\n",
    "    for n, word in enumerate(s, 1):\n",
    "        if n == word_number:\n",
    "            print(word)\n",
    "            break\n",
    "    else:\n",
    "        warnings.warn('last word is #%d, \"%s\"' % (n, word))"
   ]
  },
  {
   "cell_type": "code",
   "execution_count": 6,
   "id": "97739e63-08f8-4bb8-baf8-244730543ab6",
   "metadata": {},
   "outputs": [],
   "source": [
    "# if __name__ == '__main__':\n",
    "#     main()"
   ]
  }
 ],
 "metadata": {
  "kernelspec": {
   "display_name": "Python 3 (ipykernel)",
   "language": "python",
   "name": "python3"
  },
  "language_info": {
   "codemirror_mode": {
    "name": "ipython",
    "version": 3
   },
   "file_extension": ".py",
   "mimetype": "text/x-python",
   "name": "python",
   "nbconvert_exporter": "python",
   "pygments_lexer": "ipython3",
   "version": "3.10.2"
  }
 },
 "nbformat": 4,
 "nbformat_minor": 5
}
