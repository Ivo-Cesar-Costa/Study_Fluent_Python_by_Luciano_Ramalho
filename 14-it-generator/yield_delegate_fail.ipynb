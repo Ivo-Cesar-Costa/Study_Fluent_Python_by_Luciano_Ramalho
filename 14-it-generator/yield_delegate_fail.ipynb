{
 "cells": [
  {
   "cell_type": "code",
   "execution_count": 1,
   "id": "85d95b85-1565-4bf2-9cbb-1bd037003af4",
   "metadata": {},
   "outputs": [],
   "source": [
    "def f():\n",
    "    def do_yield(n):\n",
    "        yield n\n",
    "    x = 0\n",
    "    while True:\n",
    "        x += 1\n",
    "        do_yield(x)"
   ]
  },
  {
   "cell_type": "code",
   "execution_count": 2,
   "id": "8a0f115b-7a03-4b31-834b-4322f6265809",
   "metadata": {},
   "outputs": [],
   "source": [
    "# if __name__ == '__main__':\n",
    "#     print('Invoking f() results in an infinite loop')\n",
    "#     f()"
   ]
  },
  {
   "cell_type": "code",
   "execution_count": 3,
   "id": "3b1e53f0-96d4-4d0e-a96f-8e3e4d282d23",
   "metadata": {},
   "outputs": [
    {
     "data": {
      "text/plain": [
       "' Example from `Python: The Full Monty`__ -- A Tested Semantics for the\\nPython Programming Language\\n__ http://cs.brown.edu/~sk/Publications/Papers/Published/pmmwplck-python-full-monty/\\n\"The following program, [...] seems to perform a simple abstraction over the\\nprocess of yielding:\"\\nCitation:\\nJoe Gibbs Politz, Alejandro Martinez, Matthew Milano, Sumner Warren,\\nDaniel Patterson, Junsong Li, Anand Chitipothu, and Shriram Krishnamurthi.\\n2013. Python: the full monty. SIGPLAN Not. 48, 10 (October 2013), 217-232.\\nDOI=10.1145/2544173.2509536 http://doi.acm.org/10.1145/2544173.2509536\\n'"
      ]
     },
     "execution_count": 3,
     "metadata": {},
     "output_type": "execute_result"
    }
   ],
   "source": [
    "\"\"\" Example from `Python: The Full Monty`__ -- A Tested Semantics for the\n",
    "Python Programming Language\n",
    "__ http://cs.brown.edu/~sk/Publications/Papers/Published/pmmwplck-python-full-monty/\n",
    "\"The following program, [...] seems to perform a simple abstraction over the\n",
    "process of yielding:\"\n",
    "Citation:\n",
    "Joe Gibbs Politz, Alejandro Martinez, Matthew Milano, Sumner Warren,\n",
    "Daniel Patterson, Junsong Li, Anand Chitipothu, and Shriram Krishnamurthi.\n",
    "2013. Python: the full monty. SIGPLAN Not. 48, 10 (October 2013), 217-232.\n",
    "DOI=10.1145/2544173.2509536 http://doi.acm.org/10.1145/2544173.2509536\n",
    "\"\"\""
   ]
  }
 ],
 "metadata": {
  "kernelspec": {
   "display_name": "Python 3 (ipykernel)",
   "language": "python",
   "name": "python3"
  },
  "language_info": {
   "codemirror_mode": {
    "name": "ipython",
    "version": 3
   },
   "file_extension": ".py",
   "mimetype": "text/x-python",
   "name": "python",
   "nbconvert_exporter": "python",
   "pygments_lexer": "ipython3",
   "version": "3.10.2"
  }
 },
 "nbformat": 4,
 "nbformat_minor": 5
}
