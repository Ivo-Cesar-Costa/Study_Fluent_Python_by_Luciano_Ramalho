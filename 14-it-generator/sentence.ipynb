{
 "cells": [
  {
   "cell_type": "code",
   "execution_count": 1,
   "id": "aa84051f-5c92-4902-bbc7-60d20a26f250",
   "metadata": {},
   "outputs": [],
   "source": [
    "import re\n",
    "import reprlib"
   ]
  },
  {
   "cell_type": "code",
   "execution_count": 2,
   "id": "585fae6e-2e4d-432a-af60-8a187a2558b1",
   "metadata": {},
   "outputs": [],
   "source": [
    "RE_WORD = re.compile(r'\\w+')"
   ]
  },
  {
   "cell_type": "code",
   "execution_count": 3,
   "id": "5d6048bc-197e-4ad3-a548-3049d1dd5287",
   "metadata": {},
   "outputs": [],
   "source": [
    "class Sentence:\n",
    "\n",
    "    def __init__(self, text):\n",
    "        self.text = text\n",
    "        self.words = RE_WORD.findall(text)  # <1>\n",
    "\n",
    "    def __getitem__(self, index):\n",
    "        return self.words[index]  # <2>\n",
    "\n",
    "    def __len__(self):  # <3>\n",
    "        return len(self.words)\n",
    "\n",
    "    def __repr__(self):\n",
    "        return 'Sentence(%s)' % reprlib.repr(self.text)  # <4>"
   ]
  }
 ],
 "metadata": {
  "kernelspec": {
   "display_name": "Python 3 (ipykernel)",
   "language": "python",
   "name": "python3"
  },
  "language_info": {
   "codemirror_mode": {
    "name": "ipython",
    "version": 3
   },
   "file_extension": ".py",
   "mimetype": "text/x-python",
   "name": "python",
   "nbconvert_exporter": "python",
   "pygments_lexer": "ipython3",
   "version": "3.10.2"
  }
 },
 "nbformat": 4,
 "nbformat_minor": 5
}
