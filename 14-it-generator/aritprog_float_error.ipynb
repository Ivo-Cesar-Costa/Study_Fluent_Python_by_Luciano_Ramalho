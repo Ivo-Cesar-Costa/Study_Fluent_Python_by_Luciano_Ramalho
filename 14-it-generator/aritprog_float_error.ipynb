{
 "cells": [
  {
   "cell_type": "markdown",
   "id": "f511cd74-fe14-4d58-b7ae-60a2f27736f5",
   "metadata": {},
   "source": [
    "' Demonstrate difference between Arithmetic Progression calculated\n",
    "as a series of increments accumulating errors versus one addition\n",
    "and one multiplication. '"
   ]
  },
  {
   "cell_type": "code",
   "execution_count": 1,
   "id": "aa1195e5-a192-4878-b06a-e0c52386058a",
   "metadata": {},
   "outputs": [
    {
     "name": "stdout",
     "output_type": "stream",
     "text": [
      "importing Jupyter notebook from aritprog_v0.ipynb\n",
      "importing Jupyter notebook from aritprog_v1.ipynb\n"
     ]
    }
   ],
   "source": [
    "import import_ipynb\n",
    "from fractions import Fraction\n",
    "from aritprog_v0 import ArithmeticProgression as APv0\n",
    "from aritprog_v1 import ArithmeticProgression as APv1"
   ]
  },
  {
   "cell_type": "code",
   "execution_count": 2,
   "id": "401cfc57-c940-40c3-ac9c-30c65af58a05",
   "metadata": {},
   "outputs": [
    {
     "name": "stdout",
     "output_type": "stream",
     "text": [
      "iteration: 7405\tfraction: 1483/2\tepsilon: 1e-10\tdelta: 1.000444171950221e-10\n"
     ]
    }
   ],
   "source": [
    "if __name__ == '__main__':\n",
    "\n",
    "    ap0 = iter(APv0(1, .1))\n",
    "    ap1 = iter(APv1(1, .1))\n",
    "    ap_frac = iter(APv1(Fraction(1, 1), Fraction(1, 10)))\n",
    "    epsilon = 10**-10\n",
    "    iteration = 0\n",
    "    delta = next(ap0) - next(ap1)\n",
    "    frac = next(ap_frac)\n",
    "    while abs(delta) <= epsilon:\n",
    "        delta = next(ap0) - next(ap1)\n",
    "        frac = next(ap_frac)\n",
    "        iteration +=1\n",
    "\n",
    "    print('iteration: {}\\tfraction: {}\\tepsilon: {}\\tdelta: {}'.\n",
    "          format(iteration, frac, epsilon, delta))"
   ]
  }
 ],
 "metadata": {
  "kernelspec": {
   "display_name": "Python 3 (ipykernel)",
   "language": "python",
   "name": "python3"
  },
  "language_info": {
   "codemirror_mode": {
    "name": "ipython",
    "version": 3
   },
   "file_extension": ".py",
   "mimetype": "text/x-python",
   "name": "python",
   "nbconvert_exporter": "python",
   "pygments_lexer": "ipython3",
   "version": "3.10.2"
  }
 },
 "nbformat": 4,
 "nbformat_minor": 5
}
