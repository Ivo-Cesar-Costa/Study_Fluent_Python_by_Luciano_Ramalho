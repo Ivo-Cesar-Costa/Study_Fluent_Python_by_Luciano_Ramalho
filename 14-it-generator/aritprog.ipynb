{
 "cells": [
  {
   "cell_type": "code",
   "execution_count": 1,
   "id": "097e70c9-844f-42ec-98ec-20bb5b925948",
   "metadata": {},
   "outputs": [
    {
     "name": "stdout",
     "output_type": "stream",
     "text": [
      "importing Jupyter notebook from aritprog_v2.ipynb\n"
     ]
    }
   ],
   "source": [
    "import import_ipynb\n",
    "from aritprog_v2 import aritprog_gen"
   ]
  },
  {
   "cell_type": "markdown",
   "id": "a61de64e-7206-414a-9365-35d5f4495e38",
   "metadata": {},
   "source": [
    "#### Tests with built-in numeric types:"
   ]
  },
  {
   "cell_type": "code",
   "execution_count": 2,
   "id": "03825591-8606-4c70-b717-4537ae1be625",
   "metadata": {},
   "outputs": [
    {
     "data": {
      "text/plain": [
       "[1.0, 1.5, 2.0, 2.5]"
      ]
     },
     "execution_count": 2,
     "metadata": {},
     "output_type": "execute_result"
    }
   ],
   "source": [
    ">>> ap = aritprog_gen(1, .5, 3)\n",
    ">>> list(ap)"
   ]
  },
  {
   "cell_type": "code",
   "execution_count": 3,
   "id": "96c4be4a-82aa-4e0d-ae46-aa0d4e71f666",
   "metadata": {},
   "outputs": [
    {
     "data": {
      "text/plain": [
       "[0.0, 0.3333333333333333, 0.6666666666666666]"
      ]
     },
     "execution_count": 3,
     "metadata": {},
     "output_type": "execute_result"
    }
   ],
   "source": [
    ">>> ap = aritprog_gen(0, 1/3, 1)\n",
    ">>> list(ap)"
   ]
  },
  {
   "cell_type": "markdown",
   "id": "14b2d34f-40d3-4e3e-b6ac-dadf0e35bc16",
   "metadata": {},
   "source": [
    "#### Tests with standard library numeric types:"
   ]
  },
  {
   "cell_type": "code",
   "execution_count": 4,
   "id": "9f467dc5-91ca-44d4-b4d2-ce2a3f7b85eb",
   "metadata": {},
   "outputs": [
    {
     "data": {
      "text/plain": [
       "[Fraction(0, 1), Fraction(1, 3), Fraction(2, 3)]"
      ]
     },
     "execution_count": 4,
     "metadata": {},
     "output_type": "execute_result"
    }
   ],
   "source": [
    ">>> from fractions import Fraction\n",
    ">>> ap = aritprog_gen(0, Fraction(1, 3), 1)\n",
    ">>> list(ap)"
   ]
  },
  {
   "cell_type": "code",
   "execution_count": 5,
   "id": "c59970d3-a398-40bd-8b2f-4b34e0da16d0",
   "metadata": {},
   "outputs": [
    {
     "data": {
      "text/plain": [
       "[Decimal('0'), Decimal('0.1'), Decimal('0.2')]"
      ]
     },
     "execution_count": 5,
     "metadata": {},
     "output_type": "execute_result"
    }
   ],
   "source": [
    ">>> from decimal import Decimal\n",
    ">>> ap = aritprog_gen(0, Decimal('.1'), .3)\n",
    ">>> list(ap)"
   ]
  },
  {
   "cell_type": "markdown",
   "id": "151de557-0632-4eed-b8f4-1eb9cdcec1f1",
   "metadata": {},
   "source": [
    "#### Test producing an empty series:"
   ]
  },
  {
   "cell_type": "code",
   "execution_count": 6,
   "id": "ba129043-aca2-46fd-a3e5-2d016e2421e8",
   "metadata": {},
   "outputs": [
    {
     "data": {
      "text/plain": [
       "[]"
      ]
     },
     "execution_count": 6,
     "metadata": {},
     "output_type": "execute_result"
    }
   ],
   "source": [
    ">>> ap = aritprog_gen(0, 1, 0)\n",
    ">>> list(ap)"
   ]
  }
 ],
 "metadata": {
  "kernelspec": {
   "display_name": "Python 3 (ipykernel)",
   "language": "python",
   "name": "python3"
  },
  "language_info": {
   "codemirror_mode": {
    "name": "ipython",
    "version": 3
   },
   "file_extension": ".py",
   "mimetype": "text/x-python",
   "name": "python",
   "nbconvert_exporter": "python",
   "pygments_lexer": "ipython3",
   "version": "3.10.2"
  }
 },
 "nbformat": 4,
 "nbformat_minor": 5
}
