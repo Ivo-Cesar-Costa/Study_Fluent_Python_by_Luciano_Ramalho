{
 "cells": [
  {
   "cell_type": "code",
   "execution_count": 1,
   "id": "2397e142-f0c8-4df1-a7b6-2d917f163531",
   "metadata": {},
   "outputs": [],
   "source": [
    "class Fibonacci:\n",
    "\n",
    "    def __iter__(self):\n",
    "        return FibonacciGenerator()"
   ]
  },
  {
   "cell_type": "code",
   "execution_count": 2,
   "id": "9005a01e-93c1-4e00-b444-ec980b94e541",
   "metadata": {},
   "outputs": [],
   "source": [
    "class FibonacciGenerator:\n",
    "\n",
    "    def __init__(self):\n",
    "        self.a = 0\n",
    "        self.b = 1\n",
    "\n",
    "    def __next__(self):\n",
    "        result = self.a\n",
    "        self.a, self.b = self.b, self.a + self.b\n",
    "        return result\n",
    "\n",
    "    def __iter__(self):\n",
    "        return self"
   ]
  },
  {
   "cell_type": "markdown",
   "id": "42d59d42-97c9-4af9-995f-11512b67c4ad",
   "metadata": {},
   "source": [
    "#### for comparison, this is the usual implementation of a Fibonacci generator in Python:"
   ]
  },
  {
   "cell_type": "code",
   "execution_count": 3,
   "id": "d7a5fccb-786e-4ff5-ac21-5eaed998f942",
   "metadata": {},
   "outputs": [],
   "source": [
    "def fibonacci():\n",
    "    a, b = 0, 1\n",
    "    while True:\n",
    "        yield a\n",
    "        a, b = b, a + b"
   ]
  },
  {
   "cell_type": "code",
   "execution_count": 4,
   "id": "988ea6b2-585e-463a-b97d-f006a8d30bb3",
   "metadata": {},
   "outputs": [
    {
     "name": "stdout",
     "output_type": "stream",
     "text": [
      "0\n",
      "1\n",
      "1\n",
      "2\n",
      "3\n",
      "5\n",
      "8\n",
      "13\n",
      "21\n",
      "34\n",
      "55\n",
      "89\n",
      "144\n",
      "233\n",
      "377\n",
      "610\n",
      "987\n",
      "1597\n",
      "2584\n",
      "4181\n",
      "6765\n",
      "10946\n",
      "17711\n",
      "28657\n",
      "46368\n",
      "75025\n",
      "121393\n",
      "196418\n",
      "317811\n",
      "514229\n",
      "832040\n",
      "1346269\n",
      "2178309\n",
      "3524578\n",
      "5702887\n",
      "9227465\n",
      "14930352\n",
      "24157817\n",
      "39088169\n",
      "63245986\n",
      "102334155\n",
      "165580141\n",
      "267914296\n",
      "433494437\n",
      "701408733\n",
      "1134903170\n",
      "1836311903\n",
      "2971215073\n",
      "4807526976\n",
      "7778742049\n",
      "12586269025\n",
      "etc...\n"
     ]
    }
   ],
   "source": [
    "if __name__ == '__main__':\n",
    "\n",
    "    for x, y in zip(Fibonacci(), fibonacci()):\n",
    "        assert x == y, '%s != %s' % (x, y)\n",
    "        print(x)\n",
    "        if x > 10**10:\n",
    "            break\n",
    "    print('etc...')"
   ]
  },
  {
   "cell_type": "markdown",
   "id": "e6a0222f-c18f-422c-9375-ac425e0534f1",
   "metadata": {},
   "source": [
    "#### Fibonacci generator implemented \"by hand\" without generator objects"
   ]
  },
  {
   "cell_type": "code",
   "execution_count": 5,
   "id": "2df4a810-4a7e-4b1f-ba55-fa28abae3041",
   "metadata": {},
   "outputs": [
    {
     "data": {
      "text/plain": [
       "[0, 1, 1, 2, 3, 5, 8, 13, 21, 34, 55, 89, 144, 233, 377]"
      ]
     },
     "execution_count": 5,
     "metadata": {},
     "output_type": "execute_result"
    }
   ],
   "source": [
    ">>> from itertools import islice\n",
    ">>> list(islice(Fibonacci(), 15))"
   ]
  }
 ],
 "metadata": {
  "kernelspec": {
   "display_name": "Python 3 (ipykernel)",
   "language": "python",
   "name": "python3"
  },
  "language_info": {
   "codemirror_mode": {
    "name": "ipython",
    "version": 3
   },
   "file_extension": ".py",
   "mimetype": "text/x-python",
   "name": "python",
   "nbconvert_exporter": "python",
   "pygments_lexer": "ipython3",
   "version": "3.10.2"
  }
 },
 "nbformat": 4,
 "nbformat_minor": 5
}
