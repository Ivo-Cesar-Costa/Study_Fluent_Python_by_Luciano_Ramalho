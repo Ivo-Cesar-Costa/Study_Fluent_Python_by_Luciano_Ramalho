{
 "cells": [
  {
   "cell_type": "code",
   "execution_count": 1,
   "id": "efdda943-7d8d-4d37-b66f-ef31ce93cde6",
   "metadata": {},
   "outputs": [],
   "source": [
    "import timeit"
   ]
  },
  {
   "cell_type": "code",
   "execution_count": 2,
   "id": "9d12aee8-6147-43dd-8dff-69834f1d7daf",
   "metadata": {},
   "outputs": [],
   "source": [
    "TIMES = 10000"
   ]
  },
  {
   "cell_type": "code",
   "execution_count": 3,
   "id": "41e05d13-9485-42c4-94d2-11fa77288efe",
   "metadata": {},
   "outputs": [
    {
     "data": {
      "text/plain": [
       "\"\\nsymbols = '$¢£¥€¤'\\ndef non_ascii(c):\\n    return c > 127\\n\""
      ]
     },
     "execution_count": 3,
     "metadata": {},
     "output_type": "execute_result"
    }
   ],
   "source": [
    "SETUP = \"\"\"\n",
    "symbols = '$¢£¥€¤'\n",
    "def non_ascii(c):\n",
    "    return c > 127\n",
    "\"\"\"\n",
    "SETUP"
   ]
  },
  {
   "cell_type": "code",
   "execution_count": 4,
   "id": "e54b6162-f95b-4ca0-b1fb-2884d94974b1",
   "metadata": {},
   "outputs": [],
   "source": [
    "def clock(label, cmd):\n",
    "    res = timeit.repeat(cmd, setup=SETUP, number=TIMES)\n",
    "    print(label, *('{:.3f}'.format(x) for x in res))"
   ]
  },
  {
   "cell_type": "code",
   "execution_count": 5,
   "id": "2ac53b35-2394-4523-911a-d57bf7ebfa18",
   "metadata": {},
   "outputs": [
    {
     "name": "stdout",
     "output_type": "stream",
     "text": [
      "listcomp        : 0.007 0.007 0.006 0.006 0.007\n"
     ]
    }
   ],
   "source": [
    "clock('listcomp        :', '[ord(s) for s in symbols if ord(s) > 127]')"
   ]
  },
  {
   "cell_type": "code",
   "execution_count": 6,
   "id": "f2c2ac93-c31a-408f-bebd-995bec71cfef",
   "metadata": {},
   "outputs": [
    {
     "name": "stdout",
     "output_type": "stream",
     "text": [
      "listcomp + func : 0.011 0.011 0.010 0.009 0.009\n"
     ]
    }
   ],
   "source": [
    "clock('listcomp + func :', '[ord(s) for s in symbols if non_ascii(ord(s))]')"
   ]
  },
  {
   "cell_type": "code",
   "execution_count": 7,
   "id": "674eb046-7bd0-4804-89fb-c7fbda50c1fb",
   "metadata": {},
   "outputs": [
    {
     "name": "stdout",
     "output_type": "stream",
     "text": [
      "filter + lambda : 0.009 0.009 0.009 0.010 0.008\n"
     ]
    }
   ],
   "source": [
    "clock('filter + lambda :', 'list(filter(lambda c: c > 127, map(ord, symbols)))')"
   ]
  },
  {
   "cell_type": "code",
   "execution_count": 8,
   "id": "10151465-c232-4cee-acce-02d465a51f98",
   "metadata": {},
   "outputs": [
    {
     "name": "stdout",
     "output_type": "stream",
     "text": [
      "filter + func   : 0.008 0.008 0.008 0.008 0.008\n"
     ]
    }
   ],
   "source": [
    "clock('filter + func   :', 'list(filter(non_ascii, map(ord, symbols)))')"
   ]
  }
 ],
 "metadata": {
  "kernelspec": {
   "display_name": "Python 3 (ipykernel)",
   "language": "python",
   "name": "python3"
  },
  "language_info": {
   "codemirror_mode": {
    "name": "ipython",
    "version": 3
   },
   "file_extension": ".py",
   "mimetype": "text/x-python",
   "name": "python",
   "nbconvert_exporter": "python",
   "pygments_lexer": "ipython3",
   "version": "3.10.2"
  }
 },
 "nbformat": 4,
 "nbformat_minor": 5
}
