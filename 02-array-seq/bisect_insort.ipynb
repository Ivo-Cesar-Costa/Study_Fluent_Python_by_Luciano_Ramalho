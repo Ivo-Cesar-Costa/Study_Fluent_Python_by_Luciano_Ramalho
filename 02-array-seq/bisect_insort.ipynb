{
 "cells": [
  {
   "cell_type": "code",
   "execution_count": 1,
   "id": "1836d67a-c4b0-4ef1-8f79-cfa55c23a3ef",
   "metadata": {},
   "outputs": [],
   "source": [
    "import bisect\n",
    "import random"
   ]
  },
  {
   "cell_type": "code",
   "execution_count": 2,
   "id": "ea949b90-2d28-4a1a-b282-83ed8826efd7",
   "metadata": {},
   "outputs": [],
   "source": [
    "SIZE = 7"
   ]
  },
  {
   "cell_type": "code",
   "execution_count": 3,
   "id": "c5ea76f5-7966-4d3e-9131-a3da8812dde9",
   "metadata": {},
   "outputs": [],
   "source": [
    "random.seed(1729)"
   ]
  },
  {
   "cell_type": "code",
   "execution_count": 4,
   "id": "ec543878-9261-4fc4-93a0-a98de9e94171",
   "metadata": {},
   "outputs": [],
   "source": [
    "my_list = []"
   ]
  },
  {
   "cell_type": "code",
   "execution_count": 5,
   "id": "67f7a488-4ad1-4cfa-bf3b-ef2eaf22b847",
   "metadata": {},
   "outputs": [
    {
     "name": "stdout",
     "output_type": "stream",
     "text": [
      "10 -> [10]\n",
      " 0 -> [0, 10]\n",
      " 6 -> [0, 6, 10]\n",
      " 8 -> [0, 6, 8, 10]\n",
      " 7 -> [0, 6, 7, 8, 10]\n",
      " 2 -> [0, 2, 6, 7, 8, 10]\n",
      "10 -> [0, 2, 6, 7, 8, 10, 10]\n"
     ]
    }
   ],
   "source": [
    "for i in range(SIZE):\n",
    "    new_item = random.randrange(SIZE*2)\n",
    "    bisect.insort(my_list, new_item)\n",
    "    print('%2d ->' % new_item, my_list)"
   ]
  }
 ],
 "metadata": {
  "kernelspec": {
   "display_name": "Python 3 (ipykernel)",
   "language": "python",
   "name": "python3"
  },
  "language_info": {
   "codemirror_mode": {
    "name": "ipython",
    "version": 3
   },
   "file_extension": ".py",
   "mimetype": "text/x-python",
   "name": "python",
   "nbconvert_exporter": "python",
   "pygments_lexer": "ipython3",
   "version": "3.10.2"
  }
 },
 "nbformat": 4,
 "nbformat_minor": 5
}
