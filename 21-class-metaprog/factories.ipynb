{
 "cells": [
  {
   "cell_type": "code",
   "execution_count": 1,
   "id": "7285109a-458e-4df5-b411-5e41f24e128f",
   "metadata": {},
   "outputs": [],
   "source": [
    "def record_factory(cls_name, field_names):\n",
    "    try:\n",
    "        field_names = field_names.replace(',', ' ').split()  # <1>\n",
    "    except AttributeError:  # no .replace or .split\n",
    "        pass  # assume it's already a sequence of identifiers\n",
    "    field_names = tuple(field_names)  # <2>\n",
    "\n",
    "    def __init__(self, *args, **kwargs):  # <3>\n",
    "        attrs = dict(zip(self.__slots__, args))\n",
    "        attrs.update(kwargs)\n",
    "        for name, value in attrs.items():\n",
    "            setattr(self, name, value)\n",
    "\n",
    "    def __iter__(self):  # <4>\n",
    "        for name in self.__slots__:\n",
    "            yield getattr(self, name)\n",
    "\n",
    "    def __repr__(self):  # <5>\n",
    "        values = ', '.join('{}={!r}'.format(*i) for i\n",
    "                           in zip(self.__slots__, self))\n",
    "        return '{}({})'.format(self.__class__.__name__, values)\n",
    "\n",
    "    cls_attrs = dict(__slots__ = field_names,  # <6>\n",
    "                     __init__  = __init__,\n",
    "                     __iter__  = __iter__,\n",
    "                     __repr__  = __repr__)\n",
    "\n",
    "    return type(cls_name, (object,), cls_attrs)  # <7>"
   ]
  },
  {
   "cell_type": "markdown",
   "id": "a6f4011a-4a85-412c-91a4-e9192ed82656",
   "metadata": {},
   "source": [
    "#### record_factory: create simple classes just for holding data fields"
   ]
  },
  {
   "cell_type": "code",
   "execution_count": 2,
   "id": "474e27cd-8412-4768-916a-d716276b3ee1",
   "metadata": {},
   "outputs": [
    {
     "data": {
      "text/plain": [
       "Dog(name='Rex', weight=30, owner='Bob')"
      ]
     },
     "execution_count": 2,
     "metadata": {},
     "output_type": "execute_result"
    }
   ],
   "source": [
    ">>> Dog = record_factory('Dog', 'name weight owner')  # <1>\n",
    ">>> rex = Dog('Rex', 30, 'Bob')\n",
    ">>> rex  # <2>"
   ]
  },
  {
   "cell_type": "code",
   "execution_count": 3,
   "id": "43e56dfd-3bbc-4987-b292-c434f2494507",
   "metadata": {},
   "outputs": [
    {
     "data": {
      "text/plain": [
       "('Rex', 30)"
      ]
     },
     "execution_count": 3,
     "metadata": {},
     "output_type": "execute_result"
    }
   ],
   "source": [
    ">>> name, weight, _ = rex  # <3>\n",
    ">>> name, weight"
   ]
  },
  {
   "cell_type": "code",
   "execution_count": 4,
   "id": "fb6c3169-89bb-49bc-85f8-d2ec2979fd0e",
   "metadata": {},
   "outputs": [
    {
     "data": {
      "text/plain": [
       "\"Bob's dog weighs 30kg\""
      ]
     },
     "execution_count": 4,
     "metadata": {},
     "output_type": "execute_result"
    }
   ],
   "source": [
    ">>> \"{2}'s dog weighs {1}kg\".format(*rex)  # <4>"
   ]
  },
  {
   "cell_type": "code",
   "execution_count": 5,
   "id": "29d13d13-06ba-48f2-809a-50a9434e7d24",
   "metadata": {},
   "outputs": [
    {
     "data": {
      "text/plain": [
       "Dog(name='Rex', weight=32, owner='Bob')"
      ]
     },
     "execution_count": 5,
     "metadata": {},
     "output_type": "execute_result"
    }
   ],
   "source": [
    ">>> rex.weight = 32  # <5>\n",
    ">>> rex"
   ]
  },
  {
   "cell_type": "code",
   "execution_count": 6,
   "id": "b5a7882b-d33c-4858-b4f0-cdb364e4ea1a",
   "metadata": {},
   "outputs": [
    {
     "data": {
      "text/plain": [
       "(__main__.Dog, object)"
      ]
     },
     "execution_count": 6,
     "metadata": {},
     "output_type": "execute_result"
    }
   ],
   "source": [
    ">>> Dog.__mro__  # <6>"
   ]
  },
  {
   "cell_type": "markdown",
   "id": "bb6a2204-4970-4f5e-b07e-491f45b267fe",
   "metadata": {},
   "source": [
    "#### The factory also accepts a list or tuple of identifiers:"
   ]
  },
  {
   "cell_type": "code",
   "execution_count": 7,
   "id": "a7454135-f399-4ed9-877c-1f233b308c2b",
   "metadata": {},
   "outputs": [
    {
     "data": {
      "text/plain": [
       "('name', 'weight', 'owner')"
      ]
     },
     "execution_count": 7,
     "metadata": {},
     "output_type": "execute_result"
    }
   ],
   "source": [
    ">>> Dog = record_factory('Dog', ['name', 'weight', 'owner'])\n",
    ">>> Dog.__slots__"
   ]
  },
  {
   "cell_type": "code",
   "execution_count": 8,
   "id": "4ceecbee-7fa3-48b2-92e4-a419be397523",
   "metadata": {},
   "outputs": [
    {
     "data": {
      "text/plain": [
       "mappingproxy({'__slots__': ('name', 'weight', 'owner'),\n",
       "              '__init__': <function __main__.record_factory.<locals>.__init__(self, *args, **kwargs)>,\n",
       "              '__iter__': <function __main__.record_factory.<locals>.__iter__(self)>,\n",
       "              '__repr__': <function __main__.record_factory.<locals>.__repr__(self)>,\n",
       "              '__module__': '__main__',\n",
       "              'name': <member 'name' of 'Dog' objects>,\n",
       "              'owner': <member 'owner' of 'Dog' objects>,\n",
       "              'weight': <member 'weight' of 'Dog' objects>,\n",
       "              '__doc__': None})"
      ]
     },
     "execution_count": 8,
     "metadata": {},
     "output_type": "execute_result"
    }
   ],
   "source": [
    "Dog.__dict__"
   ]
  }
 ],
 "metadata": {
  "kernelspec": {
   "display_name": "Python 3 (ipykernel)",
   "language": "python",
   "name": "python3"
  },
  "language_info": {
   "codemirror_mode": {
    "name": "ipython",
    "version": 3
   },
   "file_extension": ".py",
   "mimetype": "text/x-python",
   "name": "python",
   "nbconvert_exporter": "python",
   "pygments_lexer": "ipython3",
   "version": "3.10.2"
  }
 },
 "nbformat": 4,
 "nbformat_minor": 5
}
