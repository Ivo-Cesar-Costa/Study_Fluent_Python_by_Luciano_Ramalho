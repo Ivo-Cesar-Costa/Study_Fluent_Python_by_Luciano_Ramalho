{
 "cells": [
  {
   "cell_type": "code",
   "execution_count": 1,
   "id": "8eb6b439-5e35-42a9-a74a-cef7bf137c5d",
   "metadata": {},
   "outputs": [],
   "source": [
    "%%capture\n",
    "import import_ipynb\n",
    "from evalsupport import deco_alpha"
   ]
  },
  {
   "cell_type": "code",
   "execution_count": 2,
   "id": "5eccda58-361c-4545-8e57-cb225091ced9",
   "metadata": {},
   "outputs": [
    {
     "name": "stdout",
     "output_type": "stream",
     "text": [
      "<[1]> evaltime module start\n"
     ]
    }
   ],
   "source": [
    "print('<[1]> evaltime module start')"
   ]
  },
  {
   "cell_type": "code",
   "execution_count": 3,
   "id": "f848978f-2723-4e8f-8572-73b685e4467a",
   "metadata": {},
   "outputs": [
    {
     "name": "stdout",
     "output_type": "stream",
     "text": [
      "<[2]> ClassOne body\n",
      "<[6]> ClassTwo body\n"
     ]
    }
   ],
   "source": [
    "class ClassOne():\n",
    "    print('<[2]> ClassOne body')\n",
    "\n",
    "    def __init__(self):\n",
    "        print('<[3]> ClassOne.__init__')\n",
    "\n",
    "    def __del__(self):\n",
    "        print('<[4]> ClassOne.__del__')\n",
    "\n",
    "    def method_x(self):\n",
    "        print('<[5]> ClassOne.method_x')\n",
    "\n",
    "    class ClassTwo(object):\n",
    "        print('<[6]> ClassTwo body')"
   ]
  },
  {
   "cell_type": "code",
   "execution_count": 4,
   "id": "24d52f90-7106-476b-8fbe-24d88ad277fd",
   "metadata": {},
   "outputs": [
    {
     "name": "stdout",
     "output_type": "stream",
     "text": [
      "<[7]> ClassThree body\n",
      "<[200]> deco_alpha\n"
     ]
    }
   ],
   "source": [
    "@deco_alpha\n",
    "class ClassThree():\n",
    "    print('<[7]> ClassThree body')\n",
    "\n",
    "    def method_y(self):\n",
    "        print('<[8]> ClassThree.method_y')"
   ]
  },
  {
   "cell_type": "code",
   "execution_count": 5,
   "id": "022774fd-7294-4556-a049-dd8ae4c1287c",
   "metadata": {},
   "outputs": [
    {
     "name": "stdout",
     "output_type": "stream",
     "text": [
      "<[9]> ClassFour body\n"
     ]
    }
   ],
   "source": [
    "class ClassFour(ClassThree):\n",
    "    print('<[9]> ClassFour body')\n",
    "\n",
    "    def method_y(self):\n",
    "        print('<[10]> ClassFour.method_y')"
   ]
  },
  {
   "cell_type": "code",
   "execution_count": 6,
   "id": "4d242cc1-c910-4a78-ae64-b9d9925c4104",
   "metadata": {},
   "outputs": [
    {
     "name": "stdout",
     "output_type": "stream",
     "text": [
      "<[11]> ClassOne tests ..............................\n",
      "<[3]> ClassOne.__init__\n",
      "<[5]> ClassOne.method_x\n",
      "<[12]> ClassThree tests ..............................\n",
      "<[300]> deco_alpha:inner_1\n",
      "<[13]> ClassFour tests ..............................\n",
      "<[10]> ClassFour.method_y\n"
     ]
    }
   ],
   "source": [
    "if __name__ == '__main__':\n",
    "    print('<[11]> ClassOne tests', 30 * '.')\n",
    "    one = ClassOne()\n",
    "    one.method_x()\n",
    "    print('<[12]> ClassThree tests', 30 * '.')\n",
    "    three = ClassThree()\n",
    "    three.method_y()\n",
    "    print('<[13]> ClassFour tests', 30 * '.')\n",
    "    four = ClassFour()\n",
    "    four.method_y()"
   ]
  },
  {
   "cell_type": "code",
   "execution_count": 7,
   "id": "b48bcf59-ab53-46fe-b3d6-466a6ae1ca44",
   "metadata": {},
   "outputs": [
    {
     "name": "stdout",
     "output_type": "stream",
     "text": [
      "<[14]> evaltime module end\n"
     ]
    }
   ],
   "source": [
    "print('<[14]> evaltime module end')"
   ]
  }
 ],
 "metadata": {
  "kernelspec": {
   "display_name": "Python 3 (ipykernel)",
   "language": "python",
   "name": "python3"
  },
  "language_info": {
   "codemirror_mode": {
    "name": "ipython",
    "version": 3
   },
   "file_extension": ".py",
   "mimetype": "text/x-python",
   "name": "python",
   "nbconvert_exporter": "python",
   "pygments_lexer": "ipython3",
   "version": "3.10.2"
  }
 },
 "nbformat": 4,
 "nbformat_minor": 5
}
