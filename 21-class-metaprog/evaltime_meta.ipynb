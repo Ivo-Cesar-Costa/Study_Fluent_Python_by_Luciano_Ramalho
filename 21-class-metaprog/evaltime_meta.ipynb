{
 "cells": [
  {
   "cell_type": "code",
   "execution_count": 1,
   "id": "495df71f-a680-4bca-a8e3-1edf48e5ebaf",
   "metadata": {},
   "outputs": [
    {
     "name": "stdout",
     "output_type": "stream",
     "text": [
      "importing Jupyter notebook from evalsupport.ipynb\n",
      "<[100]> evalsupport module start\n",
      "<[400]> MetaAleph body\n",
      "<[700]> evalsupport module end\n"
     ]
    }
   ],
   "source": [
    "import import_ipynb\n",
    "from evalsupport import deco_alpha\n",
    "from evalsupport import MetaAleph"
   ]
  },
  {
   "cell_type": "code",
   "execution_count": 2,
   "id": "40da2008-d60b-44ae-ad3e-a63eabb52c03",
   "metadata": {},
   "outputs": [
    {
     "name": "stdout",
     "output_type": "stream",
     "text": [
      "<[1]> evaltime_meta module start\n"
     ]
    }
   ],
   "source": [
    "print('<[1]> evaltime_meta module start')"
   ]
  },
  {
   "cell_type": "code",
   "execution_count": 3,
   "id": "12c264a0-a86e-40ee-b200-e76fef1c6336",
   "metadata": {},
   "outputs": [
    {
     "name": "stdout",
     "output_type": "stream",
     "text": [
      "<[2]> ClassThree body\n",
      "<[200]> deco_alpha\n"
     ]
    }
   ],
   "source": [
    "@deco_alpha\n",
    "class ClassThree():\n",
    "    print('<[2]> ClassThree body')\n",
    "\n",
    "    def method_y(self):\n",
    "        print('<[3]> ClassThree.method_y')"
   ]
  },
  {
   "cell_type": "code",
   "execution_count": 4,
   "id": "961887bf-5994-4500-aa96-de2aa17ce01b",
   "metadata": {},
   "outputs": [
    {
     "name": "stdout",
     "output_type": "stream",
     "text": [
      "<[4]> ClassFour body\n"
     ]
    }
   ],
   "source": [
    "class ClassFour(ClassThree):\n",
    "    print('<[4]> ClassFour body')\n",
    "\n",
    "    def method_y(self):\n",
    "        print('<[5]> ClassFour.method_y')"
   ]
  },
  {
   "cell_type": "code",
   "execution_count": 5,
   "id": "56dcaccb-3f2a-4e57-93d3-9237ef54ed22",
   "metadata": {},
   "outputs": [
    {
     "name": "stdout",
     "output_type": "stream",
     "text": [
      "<[6]> ClassFive body\n",
      "<[500]> MetaAleph.__init__\n"
     ]
    }
   ],
   "source": [
    "class ClassFive(metaclass=MetaAleph):\n",
    "    print('<[6]> ClassFive body')\n",
    "\n",
    "    def __init__(self):\n",
    "        print('<[7]> ClassFive.__init__')\n",
    "\n",
    "    def method_z(self):\n",
    "        print('<[8]> ClassFive.method_y')"
   ]
  },
  {
   "cell_type": "code",
   "execution_count": 6,
   "id": "bbafba76-58ef-48b8-a994-4badfb439df9",
   "metadata": {},
   "outputs": [
    {
     "name": "stdout",
     "output_type": "stream",
     "text": [
      "<[9]> ClassSix body\n",
      "<[500]> MetaAleph.__init__\n"
     ]
    }
   ],
   "source": [
    "class ClassSix(ClassFive):\n",
    "    print('<[9]> ClassSix body')\n",
    "\n",
    "    def method_z(self):\n",
    "        print('<[10]> ClassSix.method_y')"
   ]
  },
  {
   "cell_type": "code",
   "execution_count": 7,
   "id": "38947829-5542-4975-acf2-905c6b9d377c",
   "metadata": {},
   "outputs": [
    {
     "name": "stdout",
     "output_type": "stream",
     "text": [
      "<[11]> ClassThree tests ..............................\n",
      "<[300]> deco_alpha:inner_1\n",
      "<[12]> ClassFour tests ..............................\n",
      "<[5]> ClassFour.method_y\n",
      "<[13]> ClassFive tests ..............................\n",
      "<[7]> ClassFive.__init__\n",
      "<[600]> MetaAleph.__init__:inner_2\n",
      "<[14]> ClassSix tests ..............................\n",
      "<[7]> ClassFive.__init__\n",
      "<[600]> MetaAleph.__init__:inner_2\n"
     ]
    }
   ],
   "source": [
    "if __name__ == '__main__':\n",
    "    print('<[11]> ClassThree tests', 30 * '.')\n",
    "    three = ClassThree()\n",
    "    three.method_y()\n",
    "    print('<[12]> ClassFour tests', 30 * '.')\n",
    "    four = ClassFour()\n",
    "    four.method_y()\n",
    "    print('<[13]> ClassFive tests', 30 * '.')\n",
    "    five = ClassFive()\n",
    "    five.method_z()\n",
    "    print('<[14]> ClassSix tests', 30 * '.')\n",
    "    six = ClassSix()\n",
    "    six.method_z()"
   ]
  },
  {
   "cell_type": "code",
   "execution_count": 8,
   "id": "9df7b23e-0e32-4986-9194-d00368d3d71d",
   "metadata": {},
   "outputs": [
    {
     "name": "stdout",
     "output_type": "stream",
     "text": [
      "<[15]> evaltime_meta module end\n"
     ]
    }
   ],
   "source": [
    "print('<[15]> evaltime_meta module end')"
   ]
  }
 ],
 "metadata": {
  "kernelspec": {
   "display_name": "Python 3 (ipykernel)",
   "language": "python",
   "name": "python3"
  },
  "language_info": {
   "codemirror_mode": {
    "name": "ipython",
    "version": 3
   },
   "file_extension": ".py",
   "mimetype": "text/x-python",
   "name": "python",
   "nbconvert_exporter": "python",
   "pygments_lexer": "ipython3",
   "version": "3.10.2"
  }
 },
 "nbformat": 4,
 "nbformat_minor": 5
}
