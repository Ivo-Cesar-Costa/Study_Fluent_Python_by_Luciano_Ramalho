{
 "cells": [
  {
   "cell_type": "code",
   "execution_count": 1,
   "id": "b0625d9e-1bab-4e34-b861-02d0efef4b50",
   "metadata": {},
   "outputs": [
    {
     "name": "stdout",
     "output_type": "stream",
     "text": [
      "importing Jupyter notebook from model_v7.ipynb\n"
     ]
    }
   ],
   "source": [
    "import import_ipynb\n",
    "import model_v7 as model"
   ]
  },
  {
   "cell_type": "code",
   "execution_count": 2,
   "id": "5c44c650-9dc1-4131-a105-09a90e57d111",
   "metadata": {},
   "outputs": [],
   "source": [
    "class LineItem(model.Entity):  # <1>\n",
    "    description = model.NonBlank()\n",
    "    weight = model.Quantity()\n",
    "    price = model.Quantity()\n",
    "\n",
    "    def __init__(self, description, weight, price):\n",
    "        self.description = description\n",
    "        self.weight = weight\n",
    "        self.price = price\n",
    "\n",
    "    def subtotal(self):\n",
    "        return self.weight * self.price"
   ]
  },
  {
   "cell_type": "markdown",
   "id": "0b6dd3bd-6971-4a0a-bb0f-63d43e65bbb8",
   "metadata": {},
   "source": [
    "#### A line item for a bulk food order has description, weight and price fields::"
   ]
  },
  {
   "cell_type": "code",
   "execution_count": 3,
   "id": "cf331efc-e4bd-47de-8a22-6aea91da61a0",
   "metadata": {},
   "outputs": [
    {
     "data": {
      "text/plain": [
       "(10, 'Golden raisins', 6.95)"
      ]
     },
     "execution_count": 3,
     "metadata": {},
     "output_type": "execute_result"
    }
   ],
   "source": [
    ">>> raisins = LineItem('Golden raisins', 10, 6.95)\n",
    ">>> raisins.weight, raisins.description, raisins.price"
   ]
  }
 ],
 "metadata": {
  "kernelspec": {
   "display_name": "Python 3 (ipykernel)",
   "language": "python",
   "name": "python3"
  },
  "language_info": {
   "codemirror_mode": {
    "name": "ipython",
    "version": 3
   },
   "file_extension": ".py",
   "mimetype": "text/x-python",
   "name": "python",
   "nbconvert_exporter": "python",
   "pygments_lexer": "ipython3",
   "version": "3.10.2"
  }
 },
 "nbformat": 4,
 "nbformat_minor": 5
}
