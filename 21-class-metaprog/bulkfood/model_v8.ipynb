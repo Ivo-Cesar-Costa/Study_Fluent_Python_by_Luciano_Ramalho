{
 "cells": [
  {
   "cell_type": "code",
   "execution_count": 1,
   "id": "f329b4ba-6316-43c9-854c-fcf690f1b71e",
   "metadata": {},
   "outputs": [],
   "source": [
    "import abc\n",
    "import collections"
   ]
  },
  {
   "cell_type": "code",
   "execution_count": 2,
   "id": "562c973c-16b5-4143-9fb9-0d7d46c212b5",
   "metadata": {},
   "outputs": [],
   "source": [
    "class AutoStorage:\n",
    "    __counter = 0\n",
    "\n",
    "    def __init__(self):\n",
    "        cls = self.__class__\n",
    "        prefix = cls.__name__\n",
    "        index = cls.__counter\n",
    "        self.storage_name = '_{}#{}'.format(prefix, index)\n",
    "        cls.__counter += 1\n",
    "\n",
    "    def __get__(self, instance, owner):\n",
    "        if instance is None:\n",
    "            return self\n",
    "        else:\n",
    "            return getattr(instance, self.storage_name)\n",
    "\n",
    "    def __set__(self, instance, value):\n",
    "        setattr(instance, self.storage_name, value)"
   ]
  },
  {
   "cell_type": "code",
   "execution_count": 3,
   "id": "51d8c572-f423-4d3d-acac-3a1869dd18c1",
   "metadata": {},
   "outputs": [],
   "source": [
    "class Validated(abc.ABC, AutoStorage):\n",
    "\n",
    "    def __set__(self, instance, value):\n",
    "        value = self.validate(instance, value)\n",
    "        super().__set__(instance, value)\n",
    "\n",
    "    @abc.abstractmethod\n",
    "    def validate(self, instance, value):\n",
    "        \"\"\"return validated value or raise ValueError\"\"\""
   ]
  },
  {
   "cell_type": "code",
   "execution_count": 4,
   "id": "d24b5667-6e74-4441-a7ba-d796f9b33e29",
   "metadata": {},
   "outputs": [],
   "source": [
    "class Quantity(Validated):\n",
    "    \"\"\"a number greater than zero\"\"\"\n",
    "\n",
    "    def validate(self, instance, value):\n",
    "        if value <= 0:\n",
    "            raise ValueError('value must be > 0')\n",
    "        return value"
   ]
  },
  {
   "cell_type": "code",
   "execution_count": 5,
   "id": "0179fbeb-d289-466e-aa22-daeac3fd1ee4",
   "metadata": {},
   "outputs": [],
   "source": [
    "class NonBlank(Validated):\n",
    "    \"\"\"a string with at least one non-space character\"\"\"\n",
    "\n",
    "    def validate(self, instance, value):\n",
    "        value = value.strip()\n",
    "        if len(value) == 0:\n",
    "            raise ValueError('value cannot be empty or blank')\n",
    "        return value"
   ]
  },
  {
   "cell_type": "code",
   "execution_count": 6,
   "id": "f58f638d-9cd7-4754-aec4-1b20f65ba07e",
   "metadata": {},
   "outputs": [],
   "source": [
    "class EntityMeta(type):\n",
    "    \"\"\"Metaclass for business entities with validated fields\"\"\"\n",
    "\n",
    "    @classmethod\n",
    "    def __prepare__(cls, name, bases):\n",
    "        return collections.OrderedDict()  # <1>\n",
    "\n",
    "    def __init__(cls, name, bases, attr_dict):\n",
    "        super().__init__(name, bases, attr_dict)\n",
    "        cls._field_names = []  # <2>\n",
    "        for key, attr in attr_dict.items():  # <3>\n",
    "            if isinstance(attr, Validated):\n",
    "                type_name = type(attr).__name__\n",
    "                attr.storage_name = '_{}#{}'.format(type_name, key)\n",
    "                cls._field_names.append(key)  # <4>"
   ]
  },
  {
   "cell_type": "code",
   "execution_count": 7,
   "id": "6c27ee5f-5b58-414a-8a0c-8220dbc8bf5a",
   "metadata": {},
   "outputs": [],
   "source": [
    "class Entity(metaclass=EntityMeta):\n",
    "    \"\"\"Business entity with validated fields\"\"\"\n",
    "\n",
    "    @classmethod\n",
    "    def field_names(cls):  # <5>\n",
    "        for name in cls._field_names:\n",
    "            yield name"
   ]
  }
 ],
 "metadata": {
  "kernelspec": {
   "display_name": "Python 3 (ipykernel)",
   "language": "python",
   "name": "python3"
  },
  "language_info": {
   "codemirror_mode": {
    "name": "ipython",
    "version": 3
   },
   "file_extension": ".py",
   "mimetype": "text/x-python",
   "name": "python",
   "nbconvert_exporter": "python",
   "pygments_lexer": "ipython3",
   "version": "3.10.2"
  }
 },
 "nbformat": 4,
 "nbformat_minor": 5
}
