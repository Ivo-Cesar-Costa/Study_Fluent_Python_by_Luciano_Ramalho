{
 "cells": [
  {
   "cell_type": "code",
   "execution_count": 1,
   "id": "37801cf2-5d15-455e-8916-5e410bbda1b2",
   "metadata": {},
   "outputs": [],
   "source": [
    "import abc"
   ]
  },
  {
   "cell_type": "code",
   "execution_count": 2,
   "id": "2510c91f-74d9-497e-8c7c-cc4c9bdd0499",
   "metadata": {},
   "outputs": [],
   "source": [
    "class AutoStorage:\n",
    "    __counter = 0\n",
    "\n",
    "    def __init__(self):\n",
    "        cls = self.__class__\n",
    "        prefix = cls.__name__\n",
    "        index = cls.__counter\n",
    "        self.storage_name = '_{}#{}'.format(prefix, index)\n",
    "        cls.__counter += 1\n",
    "\n",
    "    def __get__(self, instance, owner):\n",
    "        if instance is None:\n",
    "            return self\n",
    "        else:\n",
    "            return getattr(instance, self.storage_name)\n",
    "\n",
    "    def __set__(self, instance, value):\n",
    "        setattr(instance, self.storage_name, value)"
   ]
  },
  {
   "cell_type": "code",
   "execution_count": 3,
   "id": "ebd148d6-acf0-4740-a28f-18281706c801",
   "metadata": {},
   "outputs": [],
   "source": [
    "class Validated(abc.ABC, AutoStorage):\n",
    "\n",
    "    def __set__(self, instance, value):\n",
    "        value = self.validate(instance, value)\n",
    "        super().__set__(instance, value)\n",
    "\n",
    "    @abc.abstractmethod\n",
    "    def validate(self, instance, value):\n",
    "        \"\"\"return validated value or raise ValueError\"\"\""
   ]
  },
  {
   "cell_type": "code",
   "execution_count": 4,
   "id": "1e476a8d-fd78-4b4b-9f85-da5fa74a2efa",
   "metadata": {},
   "outputs": [],
   "source": [
    "class Quantity(Validated):\n",
    "    \"\"\"a number greater than zero\"\"\"\n",
    "\n",
    "    def validate(self, instance, value):\n",
    "        if value <= 0:\n",
    "            raise ValueError('value must be > 0')\n",
    "        return value"
   ]
  },
  {
   "cell_type": "code",
   "execution_count": 5,
   "id": "c92b9743-1476-4abb-9d01-17d92c503023",
   "metadata": {},
   "outputs": [],
   "source": [
    "class NonBlank(Validated):\n",
    "    \"\"\"a string with at least one non-space character\"\"\"\n",
    "\n",
    "    def validate(self, instance, value):\n",
    "        value = value.strip()\n",
    "        if len(value) == 0:\n",
    "            raise ValueError('value cannot be empty or blank')\n",
    "        return value"
   ]
  },
  {
   "cell_type": "code",
   "execution_count": 6,
   "id": "2d128e30-7774-4231-bc20-615a6c932ffe",
   "metadata": {},
   "outputs": [],
   "source": [
    "class EntityMeta(type):\n",
    "    \"\"\"Metaclass for business entities with validated fields\"\"\"\n",
    "\n",
    "    def __init__(cls, name, bases, attr_dict):\n",
    "        super().__init__(name, bases, attr_dict)  # <1>\n",
    "        for key, attr in attr_dict.items():  # <2>\n",
    "            if isinstance(attr, Validated):\n",
    "                type_name = type(attr).__name__\n",
    "                attr.storage_name = '_{}#{}'.format(type_name, key)\n"
   ]
  },
  {
   "cell_type": "code",
   "execution_count": 7,
   "id": "ca2b6647-0f2b-4a66-b8b2-7e9c2bdf70d0",
   "metadata": {},
   "outputs": [],
   "source": [
    "class Entity(metaclass=EntityMeta):  # <3>\n",
    "    \"\"\"Business entity with validated fields\"\"\""
   ]
  }
 ],
 "metadata": {
  "kernelspec": {
   "display_name": "Python 3 (ipykernel)",
   "language": "python",
   "name": "python3"
  },
  "language_info": {
   "codemirror_mode": {
    "name": "ipython",
    "version": 3
   },
   "file_extension": ".py",
   "mimetype": "text/x-python",
   "name": "python",
   "nbconvert_exporter": "python",
   "pygments_lexer": "ipython3",
   "version": "3.10.2"
  }
 },
 "nbformat": 4,
 "nbformat_minor": 5
}
