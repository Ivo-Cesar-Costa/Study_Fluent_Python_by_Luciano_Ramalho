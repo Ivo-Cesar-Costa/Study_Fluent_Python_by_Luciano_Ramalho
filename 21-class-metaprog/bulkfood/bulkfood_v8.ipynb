{
 "cells": [
  {
   "cell_type": "code",
   "execution_count": 1,
   "id": "53c23b5b-b36d-4a4f-a1ae-53bc60f75ac1",
   "metadata": {},
   "outputs": [
    {
     "name": "stdout",
     "output_type": "stream",
     "text": [
      "importing Jupyter notebook from model_v8.ipynb\n"
     ]
    }
   ],
   "source": [
    "import import_ipynb\n",
    "import model_v8 as model"
   ]
  },
  {
   "cell_type": "code",
   "execution_count": 2,
   "id": "a3df3212-4d15-472d-abbc-b3affab20d5b",
   "metadata": {},
   "outputs": [],
   "source": [
    "class LineItem(model.Entity):\n",
    "    description = model.NonBlank()\n",
    "    weight = model.Quantity()\n",
    "    price = model.Quantity()\n",
    "\n",
    "    def __init__(self, description, weight, price):\n",
    "        self.description = description\n",
    "        self.weight = weight\n",
    "        self.price = price\n",
    "\n",
    "    def subtotal(self):\n",
    "        return self.weight * self.price"
   ]
  },
  {
   "cell_type": "markdown",
   "id": "daaf5ca8-bda0-4018-ade3-a17122250fd3",
   "metadata": {},
   "source": [
    "#### A line item for a bulk food order has description, weight and price fields::"
   ]
  },
  {
   "cell_type": "code",
   "execution_count": 3,
   "id": "ba85a600-a183-4ff9-89da-497e2c4842d6",
   "metadata": {},
   "outputs": [
    {
     "data": {
      "text/plain": [
       "(10, 'Golden raisins', 6.95)"
      ]
     },
     "execution_count": 3,
     "metadata": {},
     "output_type": "execute_result"
    }
   ],
   "source": [
    ">>> raisins = LineItem('Golden raisins', 10, 6.95)\n",
    ">>> raisins.weight, raisins.description, raisins.price"
   ]
  },
  {
   "cell_type": "markdown",
   "id": "c024a455-ad18-4c4c-9e90-084748aae540",
   "metadata": {},
   "source": [
    "#### A ``subtotal`` method gives the total price for that line item::"
   ]
  },
  {
   "cell_type": "code",
   "execution_count": 4,
   "id": "b80ac2e3-93ee-4634-a97d-f5c54df05391",
   "metadata": {},
   "outputs": [
    {
     "data": {
      "text/plain": [
       "69.5"
      ]
     },
     "execution_count": 4,
     "metadata": {},
     "output_type": "execute_result"
    }
   ],
   "source": [
    ">>> raisins.subtotal()"
   ]
  },
  {
   "cell_type": "markdown",
   "id": "db8f6615-9ee8-43ef-9c07-e7fc00af5336",
   "metadata": {},
   "source": [
    "#### The weight of a ``LineItem`` must be greater than 0::"
   ]
  },
  {
   "cell_type": "code",
   "execution_count": 5,
   "id": "49c93e29-3720-4e4c-bce0-e052f17189e1",
   "metadata": {},
   "outputs": [
    {
     "ename": "ValueError",
     "evalue": "value must be > 0",
     "output_type": "error",
     "traceback": [
      "\u001b[1;31m---------------------------------------------------------------------------\u001b[0m",
      "\u001b[1;31mValueError\u001b[0m                                Traceback (most recent call last)",
      "Input \u001b[1;32mIn [5]\u001b[0m, in \u001b[0;36m<module>\u001b[1;34m\u001b[0m\n\u001b[1;32m----> 1\u001b[0m raisins\u001b[38;5;241m.\u001b[39mweight \u001b[38;5;241m=\u001b[39m \u001b[38;5;241m-\u001b[39m\u001b[38;5;241m20\u001b[39m\n",
      "File \u001b[1;32m<string>:4\u001b[0m, in \u001b[0;36m__set__\u001b[1;34m(self, instance, value)\u001b[0m\n",
      "File \u001b[1;32m<string>:6\u001b[0m, in \u001b[0;36mvalidate\u001b[1;34m(self, instance, value)\u001b[0m\n",
      "\u001b[1;31mValueError\u001b[0m: value must be > 0"
     ]
    }
   ],
   "source": [
    ">>> raisins.weight = -20"
   ]
  },
  {
   "cell_type": "markdown",
   "id": "9f97451e-d6c9-47a9-b8bc-14abb04399ef",
   "metadata": {},
   "source": [
    "#### No change was made::"
   ]
  },
  {
   "cell_type": "code",
   "execution_count": 6,
   "id": "56433c65-73e6-420e-94e6-b4b6b218fb46",
   "metadata": {},
   "outputs": [
    {
     "data": {
      "text/plain": [
       "10"
      ]
     },
     "execution_count": 6,
     "metadata": {},
     "output_type": "execute_result"
    }
   ],
   "source": [
    ">>> raisins.weight"
   ]
  },
  {
   "cell_type": "code",
   "execution_count": 7,
   "id": "ff2b6806-0b11-43a9-b5d8-5c598a02f8bb",
   "metadata": {},
   "outputs": [
    {
     "data": {
      "text/plain": [
       "['_NonBlank#description', '_Quantity#price', '_Quantity#weight']"
      ]
     },
     "execution_count": 7,
     "metadata": {},
     "output_type": "execute_result"
    }
   ],
   "source": [
    ">>> raisins = LineItem('Golden raisins', 10, 6.95)\n",
    ">>> dir(raisins)[:3]"
   ]
  },
  {
   "cell_type": "code",
   "execution_count": 8,
   "id": "f6ed2c30-811d-4f23-bacd-f20bf9526b91",
   "metadata": {},
   "outputs": [
    {
     "data": {
      "text/plain": [
       "'_NonBlank#description'"
      ]
     },
     "execution_count": 8,
     "metadata": {},
     "output_type": "execute_result"
    }
   ],
   "source": [
    ">>> LineItem.description.storage_name"
   ]
  },
  {
   "cell_type": "code",
   "execution_count": 9,
   "id": "5f7ec3de-19e5-4143-8267-f389b9a646bf",
   "metadata": {},
   "outputs": [
    {
     "data": {
      "text/plain": [
       "'Golden raisins'"
      ]
     },
     "execution_count": 9,
     "metadata": {},
     "output_type": "execute_result"
    }
   ],
   "source": [
    ">>> raisins.description"
   ]
  },
  {
   "cell_type": "code",
   "execution_count": 10,
   "id": "53e85bc0-7c27-47cf-a00e-fdd7fcde3b65",
   "metadata": {},
   "outputs": [
    {
     "data": {
      "text/plain": [
       "'Golden raisins'"
      ]
     },
     "execution_count": 10,
     "metadata": {},
     "output_type": "execute_result"
    }
   ],
   "source": [
    ">>> getattr(raisins, '_NonBlank#description')"
   ]
  },
  {
   "cell_type": "markdown",
   "id": "a8471394-d2b5-48fd-8929-d5be3e0bb66c",
   "metadata": {},
   "source": [
    "#### If the descriptor is accessed in the class, the descriptor object is returned:"
   ]
  },
  {
   "cell_type": "code",
   "execution_count": 11,
   "id": "15c071b8-69c8-47b7-be30-9eba177b11f4",
   "metadata": {},
   "outputs": [
    {
     "data": {
      "text/plain": [
       "<model_v8.Quantity at 0x1ed0e0a6500>"
      ]
     },
     "execution_count": 11,
     "metadata": {},
     "output_type": "execute_result"
    }
   ],
   "source": [
    ">>> LineItem.weight  # doctest: +ELLIPSIS"
   ]
  },
  {
   "cell_type": "code",
   "execution_count": 12,
   "id": "e6b123cb-cde5-47b6-a17e-1340d0758c76",
   "metadata": {},
   "outputs": [
    {
     "data": {
      "text/plain": [
       "'_Quantity#weight'"
      ]
     },
     "execution_count": 12,
     "metadata": {},
     "output_type": "execute_result"
    }
   ],
   "source": [
    ">>> LineItem.weight.storage_name"
   ]
  },
  {
   "cell_type": "markdown",
   "id": "a6a55672-92fa-4586-935a-4da580aa0824",
   "metadata": {},
   "source": [
    "#### The `NonBlank` descriptor prevents empty or blank strings to be used for the description:"
   ]
  },
  {
   "cell_type": "code",
   "execution_count": 13,
   "id": "abb83010-8caa-487b-9faf-12c85d1df1e4",
   "metadata": {},
   "outputs": [
    {
     "ename": "ValueError",
     "evalue": "value cannot be empty or blank",
     "output_type": "error",
     "traceback": [
      "\u001b[1;31m---------------------------------------------------------------------------\u001b[0m",
      "\u001b[1;31mValueError\u001b[0m                                Traceback (most recent call last)",
      "Input \u001b[1;32mIn [13]\u001b[0m, in \u001b[0;36m<module>\u001b[1;34m\u001b[0m\n\u001b[0;32m      1\u001b[0m br_nuts \u001b[38;5;241m=\u001b[39m LineItem(\u001b[38;5;124m'\u001b[39m\u001b[38;5;124mBrazil Nuts\u001b[39m\u001b[38;5;124m'\u001b[39m, \u001b[38;5;241m10\u001b[39m, \u001b[38;5;241m34.95\u001b[39m)\n\u001b[1;32m----> 2\u001b[0m br_nuts\u001b[38;5;241m.\u001b[39mdescription \u001b[38;5;241m=\u001b[39m \u001b[38;5;124m'\u001b[39m\u001b[38;5;124m \u001b[39m\u001b[38;5;124m'\u001b[39m\n",
      "File \u001b[1;32m<string>:4\u001b[0m, in \u001b[0;36m__set__\u001b[1;34m(self, instance, value)\u001b[0m\n",
      "File \u001b[1;32m<string>:7\u001b[0m, in \u001b[0;36mvalidate\u001b[1;34m(self, instance, value)\u001b[0m\n",
      "\u001b[1;31mValueError\u001b[0m: value cannot be empty or blank"
     ]
    }
   ],
   "source": [
    ">>> br_nuts = LineItem('Brazil Nuts', 10, 34.95)\n",
    ">>> br_nuts.description = ' '"
   ]
  },
  {
   "cell_type": "code",
   "execution_count": 14,
   "id": "6cb67439-5c39-48f5-9fdc-615c5fc5d6bf",
   "metadata": {},
   "outputs": [
    {
     "ename": "ValueError",
     "evalue": "value cannot be empty or blank",
     "output_type": "error",
     "traceback": [
      "\u001b[1;31m---------------------------------------------------------------------------\u001b[0m",
      "\u001b[1;31mValueError\u001b[0m                                Traceback (most recent call last)",
      "Input \u001b[1;32mIn [14]\u001b[0m, in \u001b[0;36m<module>\u001b[1;34m\u001b[0m\n\u001b[1;32m----> 1\u001b[0m void \u001b[38;5;241m=\u001b[39m \u001b[43mLineItem\u001b[49m\u001b[43m(\u001b[49m\u001b[38;5;124;43m'\u001b[39;49m\u001b[38;5;124;43m'\u001b[39;49m\u001b[43m,\u001b[49m\u001b[43m \u001b[49m\u001b[38;5;241;43m1\u001b[39;49m\u001b[43m,\u001b[49m\u001b[43m \u001b[49m\u001b[38;5;241;43m1\u001b[39;49m\u001b[43m)\u001b[49m\n",
      "Input \u001b[1;32mIn [2]\u001b[0m, in \u001b[0;36mLineItem.__init__\u001b[1;34m(self, description, weight, price)\u001b[0m\n\u001b[0;32m      6\u001b[0m \u001b[38;5;28;01mdef\u001b[39;00m \u001b[38;5;21m__init__\u001b[39m(\u001b[38;5;28mself\u001b[39m, description, weight, price):\n\u001b[1;32m----> 7\u001b[0m     \u001b[38;5;28mself\u001b[39m\u001b[38;5;241m.\u001b[39mdescription \u001b[38;5;241m=\u001b[39m description\n\u001b[0;32m      8\u001b[0m     \u001b[38;5;28mself\u001b[39m\u001b[38;5;241m.\u001b[39mweight \u001b[38;5;241m=\u001b[39m weight\n\u001b[0;32m      9\u001b[0m     \u001b[38;5;28mself\u001b[39m\u001b[38;5;241m.\u001b[39mprice \u001b[38;5;241m=\u001b[39m price\n",
      "File \u001b[1;32m<string>:4\u001b[0m, in \u001b[0;36m__set__\u001b[1;34m(self, instance, value)\u001b[0m\n",
      "File \u001b[1;32m<string>:7\u001b[0m, in \u001b[0;36mvalidate\u001b[1;34m(self, instance, value)\u001b[0m\n",
      "\u001b[1;31mValueError\u001b[0m: value cannot be empty or blank"
     ]
    }
   ],
   "source": [
    ">>> void = LineItem('', 1, 1)"
   ]
  },
  {
   "cell_type": "markdown",
   "id": "f4194de0-2f3c-40d7-a6e2-bd6c14697b80",
   "metadata": {},
   "source": [
    "#### Fields can be retrieved in the order they were declared:"
   ]
  },
  {
   "cell_type": "code",
   "execution_count": 15,
   "id": "5049f989-fd9f-49ce-a961-1d4c9b91b554",
   "metadata": {},
   "outputs": [
    {
     "name": "stdout",
     "output_type": "stream",
     "text": [
      "description\n",
      "weight\n",
      "price\n"
     ]
    }
   ],
   "source": [
    ">>> for name in LineItem.field_names():\n",
    "...     print(name)"
   ]
  }
 ],
 "metadata": {
  "kernelspec": {
   "display_name": "Python 3 (ipykernel)",
   "language": "python",
   "name": "python3"
  },
  "language_info": {
   "codemirror_mode": {
    "name": "ipython",
    "version": 3
   },
   "file_extension": ".py",
   "mimetype": "text/x-python",
   "name": "python",
   "nbconvert_exporter": "python",
   "pygments_lexer": "ipython3",
   "version": "3.10.2"
  }
 },
 "nbformat": 4,
 "nbformat_minor": 5
}
