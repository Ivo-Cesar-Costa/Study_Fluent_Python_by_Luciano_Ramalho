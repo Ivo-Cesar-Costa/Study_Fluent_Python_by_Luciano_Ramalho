{
 "cells": [
  {
   "cell_type": "code",
   "execution_count": 1,
   "id": "6a3be701-800f-4b0f-b778-38f321ac061c",
   "metadata": {},
   "outputs": [
    {
     "name": "stdout",
     "output_type": "stream",
     "text": [
      "<[100]> evalsupport module start\n"
     ]
    }
   ],
   "source": [
    "print('<[100]> evalsupport module start')"
   ]
  },
  {
   "cell_type": "code",
   "execution_count": 2,
   "id": "3f092ad1-6b73-40fe-b4df-174b2ac91d7d",
   "metadata": {},
   "outputs": [],
   "source": [
    "def deco_alpha(cls):\n",
    "    print('<[200]> deco_alpha')\n",
    "\n",
    "    def inner_1(self):\n",
    "        print('<[300]> deco_alpha:inner_1')\n",
    "\n",
    "    cls.method_y = inner_1\n",
    "    return cls"
   ]
  },
  {
   "cell_type": "code",
   "execution_count": 3,
   "id": "49f7943a-1582-4486-a103-73882fea0d47",
   "metadata": {},
   "outputs": [
    {
     "name": "stdout",
     "output_type": "stream",
     "text": [
      "<[400]> MetaAleph body\n"
     ]
    }
   ],
   "source": [
    "class MetaAleph(type):\n",
    "    print('<[400]> MetaAleph body')\n",
    "\n",
    "    def __init__(cls, name, bases, dic):\n",
    "        print('<[500]> MetaAleph.__init__')\n",
    "\n",
    "        def inner_2(self):\n",
    "            print('<[600]> MetaAleph.__init__:inner_2')\n",
    "\n",
    "        cls.method_z = inner_2"
   ]
  },
  {
   "cell_type": "code",
   "execution_count": 4,
   "id": "cd64d7c7-5434-4a6b-85f3-8ef6b9fa91c0",
   "metadata": {},
   "outputs": [
    {
     "name": "stdout",
     "output_type": "stream",
     "text": [
      "<[700]> evalsupport module end\n"
     ]
    }
   ],
   "source": [
    "print('<[700]> evalsupport module end')"
   ]
  }
 ],
 "metadata": {
  "kernelspec": {
   "display_name": "Python 3 (ipykernel)",
   "language": "python",
   "name": "python3"
  },
  "language_info": {
   "codemirror_mode": {
    "name": "ipython",
    "version": 3
   },
   "file_extension": ".py",
   "mimetype": "text/x-python",
   "name": "python",
   "nbconvert_exporter": "python",
   "pygments_lexer": "ipython3",
   "version": "3.10.2"
  }
 },
 "nbformat": 4,
 "nbformat_minor": 5
}
