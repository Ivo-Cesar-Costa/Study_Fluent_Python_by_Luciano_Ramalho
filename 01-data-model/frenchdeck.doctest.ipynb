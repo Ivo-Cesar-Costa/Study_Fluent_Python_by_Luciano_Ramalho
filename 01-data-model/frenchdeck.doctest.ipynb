{
 "cells": [
  {
   "cell_type": "code",
   "execution_count": 1,
   "id": "8ac0a702-77b6-4fd8-bc14-89375bc7ca2b",
   "metadata": {},
   "outputs": [
    {
     "name": "stdout",
     "output_type": "stream",
     "text": [
      "importing Jupyter notebook from frenchdeck.ipynb\n"
     ]
    }
   ],
   "source": [
    "import import_ipynb\n",
    "from frenchdeck import FrenchDeck, Card"
   ]
  },
  {
   "cell_type": "code",
   "execution_count": 2,
   "id": "652c4461-cdc4-41aa-9412-7ecfc6493bdb",
   "metadata": {},
   "outputs": [
    {
     "data": {
      "text/plain": [
       "Card(rank='7', suit='diamonds')"
      ]
     },
     "execution_count": 2,
     "metadata": {},
     "output_type": "execute_result"
    }
   ],
   "source": [
    ">>> beer_card = Card('7', 'diamonds')\n",
    ">>> beer_card"
   ]
  },
  {
   "cell_type": "code",
   "execution_count": 3,
   "id": "e05ebc26-9c84-450a-a532-da886c24e9d2",
   "metadata": {},
   "outputs": [
    {
     "data": {
      "text/plain": [
       "52"
      ]
     },
     "execution_count": 3,
     "metadata": {},
     "output_type": "execute_result"
    }
   ],
   "source": [
    ">>> deck = FrenchDeck()\n",
    ">>> len(deck)"
   ]
  },
  {
   "cell_type": "code",
   "execution_count": 4,
   "id": "db5ccc32-3d3f-4951-b41d-961b33690543",
   "metadata": {},
   "outputs": [
    {
     "data": {
      "text/plain": [
       "[Card(rank='2', suit='spades'),\n",
       " Card(rank='3', suit='spades'),\n",
       " Card(rank='4', suit='spades')]"
      ]
     },
     "execution_count": 4,
     "metadata": {},
     "output_type": "execute_result"
    }
   ],
   "source": [
    ">>> deck[:3]"
   ]
  },
  {
   "cell_type": "code",
   "execution_count": 5,
   "id": "a9efc942-7270-40d5-9379-07a371b69ece",
   "metadata": {},
   "outputs": [
    {
     "data": {
      "text/plain": [
       "[Card(rank='A', suit='spades'),\n",
       " Card(rank='A', suit='diamonds'),\n",
       " Card(rank='A', suit='clubs'),\n",
       " Card(rank='A', suit='hearts')]"
      ]
     },
     "execution_count": 5,
     "metadata": {},
     "output_type": "execute_result"
    }
   ],
   "source": [
    ">>> deck[12::13]"
   ]
  },
  {
   "cell_type": "code",
   "execution_count": 6,
   "id": "9555c73e-496e-4332-a162-ed8b891e1d94",
   "metadata": {},
   "outputs": [
    {
     "data": {
      "text/plain": [
       "True"
      ]
     },
     "execution_count": 6,
     "metadata": {},
     "output_type": "execute_result"
    }
   ],
   "source": [
    ">>> Card('Q', 'hearts') in deck"
   ]
  },
  {
   "cell_type": "code",
   "execution_count": 7,
   "id": "8a4c4679-62b8-4044-9dd5-5901d41531c3",
   "metadata": {},
   "outputs": [
    {
     "data": {
      "text/plain": [
       "False"
      ]
     },
     "execution_count": 7,
     "metadata": {},
     "output_type": "execute_result"
    }
   ],
   "source": [
    ">>> Card('Z', 'clubs') in deck"
   ]
  },
  {
   "cell_type": "code",
   "execution_count": 8,
   "id": "415d4b35-cb50-40cc-b905-dfabd052291e",
   "metadata": {},
   "outputs": [
    {
     "name": "stdout",
     "output_type": "stream",
     "text": [
      "Card(rank='2', suit='spades')\n",
      "Card(rank='3', suit='spades')\n",
      "Card(rank='4', suit='spades')\n",
      "Card(rank='5', suit='spades')\n",
      "Card(rank='6', suit='spades')\n",
      "Card(rank='7', suit='spades')\n",
      "Card(rank='8', suit='spades')\n",
      "Card(rank='9', suit='spades')\n",
      "Card(rank='10', suit='spades')\n",
      "Card(rank='J', suit='spades')\n",
      "Card(rank='Q', suit='spades')\n",
      "Card(rank='K', suit='spades')\n",
      "Card(rank='A', suit='spades')\n",
      "Card(rank='2', suit='diamonds')\n",
      "Card(rank='3', suit='diamonds')\n",
      "Card(rank='4', suit='diamonds')\n",
      "Card(rank='5', suit='diamonds')\n",
      "Card(rank='6', suit='diamonds')\n",
      "Card(rank='7', suit='diamonds')\n",
      "Card(rank='8', suit='diamonds')\n",
      "Card(rank='9', suit='diamonds')\n",
      "Card(rank='10', suit='diamonds')\n",
      "Card(rank='J', suit='diamonds')\n",
      "Card(rank='Q', suit='diamonds')\n",
      "Card(rank='K', suit='diamonds')\n",
      "Card(rank='A', suit='diamonds')\n",
      "Card(rank='2', suit='clubs')\n",
      "Card(rank='3', suit='clubs')\n",
      "Card(rank='4', suit='clubs')\n",
      "Card(rank='5', suit='clubs')\n",
      "Card(rank='6', suit='clubs')\n",
      "Card(rank='7', suit='clubs')\n",
      "Card(rank='8', suit='clubs')\n",
      "Card(rank='9', suit='clubs')\n",
      "Card(rank='10', suit='clubs')\n",
      "Card(rank='J', suit='clubs')\n",
      "Card(rank='Q', suit='clubs')\n",
      "Card(rank='K', suit='clubs')\n",
      "Card(rank='A', suit='clubs')\n",
      "Card(rank='2', suit='hearts')\n",
      "Card(rank='3', suit='hearts')\n",
      "Card(rank='4', suit='hearts')\n",
      "Card(rank='5', suit='hearts')\n",
      "Card(rank='6', suit='hearts')\n",
      "Card(rank='7', suit='hearts')\n",
      "Card(rank='8', suit='hearts')\n",
      "Card(rank='9', suit='hearts')\n",
      "Card(rank='10', suit='hearts')\n",
      "Card(rank='J', suit='hearts')\n",
      "Card(rank='Q', suit='hearts')\n",
      "Card(rank='K', suit='hearts')\n",
      "Card(rank='A', suit='hearts')\n"
     ]
    }
   ],
   "source": [
    ">>> for card in deck:  # doctest: +ELLIPSIS\n",
    "...   print(card)"
   ]
  },
  {
   "cell_type": "code",
   "execution_count": 9,
   "id": "d685e898-b78e-470f-a7c9-332ddbf2e83e",
   "metadata": {},
   "outputs": [
    {
     "name": "stdout",
     "output_type": "stream",
     "text": [
      "Card(rank='A', suit='hearts')\n",
      "Card(rank='K', suit='hearts')\n",
      "Card(rank='Q', suit='hearts')\n",
      "Card(rank='J', suit='hearts')\n",
      "Card(rank='10', suit='hearts')\n",
      "Card(rank='9', suit='hearts')\n",
      "Card(rank='8', suit='hearts')\n",
      "Card(rank='7', suit='hearts')\n",
      "Card(rank='6', suit='hearts')\n",
      "Card(rank='5', suit='hearts')\n",
      "Card(rank='4', suit='hearts')\n",
      "Card(rank='3', suit='hearts')\n",
      "Card(rank='2', suit='hearts')\n",
      "Card(rank='A', suit='clubs')\n",
      "Card(rank='K', suit='clubs')\n",
      "Card(rank='Q', suit='clubs')\n",
      "Card(rank='J', suit='clubs')\n",
      "Card(rank='10', suit='clubs')\n",
      "Card(rank='9', suit='clubs')\n",
      "Card(rank='8', suit='clubs')\n",
      "Card(rank='7', suit='clubs')\n",
      "Card(rank='6', suit='clubs')\n",
      "Card(rank='5', suit='clubs')\n",
      "Card(rank='4', suit='clubs')\n",
      "Card(rank='3', suit='clubs')\n",
      "Card(rank='2', suit='clubs')\n",
      "Card(rank='A', suit='diamonds')\n",
      "Card(rank='K', suit='diamonds')\n",
      "Card(rank='Q', suit='diamonds')\n",
      "Card(rank='J', suit='diamonds')\n",
      "Card(rank='10', suit='diamonds')\n",
      "Card(rank='9', suit='diamonds')\n",
      "Card(rank='8', suit='diamonds')\n",
      "Card(rank='7', suit='diamonds')\n",
      "Card(rank='6', suit='diamonds')\n",
      "Card(rank='5', suit='diamonds')\n",
      "Card(rank='4', suit='diamonds')\n",
      "Card(rank='3', suit='diamonds')\n",
      "Card(rank='2', suit='diamonds')\n",
      "Card(rank='A', suit='spades')\n",
      "Card(rank='K', suit='spades')\n",
      "Card(rank='Q', suit='spades')\n",
      "Card(rank='J', suit='spades')\n",
      "Card(rank='10', suit='spades')\n",
      "Card(rank='9', suit='spades')\n",
      "Card(rank='8', suit='spades')\n",
      "Card(rank='7', suit='spades')\n",
      "Card(rank='6', suit='spades')\n",
      "Card(rank='5', suit='spades')\n",
      "Card(rank='4', suit='spades')\n",
      "Card(rank='3', suit='spades')\n",
      "Card(rank='2', suit='spades')\n"
     ]
    }
   ],
   "source": [
    ">>> for card in reversed(deck):  # doctest: +ELLIPSIS\n",
    "...   print(card)"
   ]
  },
  {
   "cell_type": "code",
   "execution_count": 10,
   "id": "93e361e0-0c5f-4762-a477-5f3097b63556",
   "metadata": {},
   "outputs": [
    {
     "name": "stdout",
     "output_type": "stream",
     "text": [
      "1 Card(rank='2', suit='spades')\n",
      "2 Card(rank='3', suit='spades')\n",
      "3 Card(rank='4', suit='spades')\n",
      "4 Card(rank='5', suit='spades')\n",
      "5 Card(rank='6', suit='spades')\n",
      "6 Card(rank='7', suit='spades')\n",
      "7 Card(rank='8', suit='spades')\n",
      "8 Card(rank='9', suit='spades')\n",
      "9 Card(rank='10', suit='spades')\n",
      "10 Card(rank='J', suit='spades')\n",
      "11 Card(rank='Q', suit='spades')\n",
      "12 Card(rank='K', suit='spades')\n",
      "13 Card(rank='A', suit='spades')\n",
      "14 Card(rank='2', suit='diamonds')\n",
      "15 Card(rank='3', suit='diamonds')\n",
      "16 Card(rank='4', suit='diamonds')\n",
      "17 Card(rank='5', suit='diamonds')\n",
      "18 Card(rank='6', suit='diamonds')\n",
      "19 Card(rank='7', suit='diamonds')\n",
      "20 Card(rank='8', suit='diamonds')\n",
      "21 Card(rank='9', suit='diamonds')\n",
      "22 Card(rank='10', suit='diamonds')\n",
      "23 Card(rank='J', suit='diamonds')\n",
      "24 Card(rank='Q', suit='diamonds')\n",
      "25 Card(rank='K', suit='diamonds')\n",
      "26 Card(rank='A', suit='diamonds')\n",
      "27 Card(rank='2', suit='clubs')\n",
      "28 Card(rank='3', suit='clubs')\n",
      "29 Card(rank='4', suit='clubs')\n",
      "30 Card(rank='5', suit='clubs')\n",
      "31 Card(rank='6', suit='clubs')\n",
      "32 Card(rank='7', suit='clubs')\n",
      "33 Card(rank='8', suit='clubs')\n",
      "34 Card(rank='9', suit='clubs')\n",
      "35 Card(rank='10', suit='clubs')\n",
      "36 Card(rank='J', suit='clubs')\n",
      "37 Card(rank='Q', suit='clubs')\n",
      "38 Card(rank='K', suit='clubs')\n",
      "39 Card(rank='A', suit='clubs')\n",
      "40 Card(rank='2', suit='hearts')\n",
      "41 Card(rank='3', suit='hearts')\n",
      "42 Card(rank='4', suit='hearts')\n",
      "43 Card(rank='5', suit='hearts')\n",
      "44 Card(rank='6', suit='hearts')\n",
      "45 Card(rank='7', suit='hearts')\n",
      "46 Card(rank='8', suit='hearts')\n",
      "47 Card(rank='9', suit='hearts')\n",
      "48 Card(rank='10', suit='hearts')\n",
      "49 Card(rank='J', suit='hearts')\n",
      "50 Card(rank='Q', suit='hearts')\n",
      "51 Card(rank='K', suit='hearts')\n",
      "52 Card(rank='A', suit='hearts')\n"
     ]
    }
   ],
   "source": [
    ">>> for n, card in enumerate(deck, 1):  # doctest: +ELLIPSIS\n",
    "...   print(n, card)"
   ]
  },
  {
   "cell_type": "code",
   "execution_count": 11,
   "id": "d4796c70-9928-46f2-83b9-c16b45c35eef",
   "metadata": {},
   "outputs": [
    {
     "data": {
      "text/plain": [
       "{'spades': 3, 'hearts': 2, 'diamonds': 1, 'clubs': 0}"
      ]
     },
     "execution_count": 11,
     "metadata": {},
     "output_type": "execute_result"
    }
   ],
   "source": [
    ">>> suit_values = dict(spades=3, hearts=2, diamonds=1, clubs=0)\n",
    "suit_values"
   ]
  },
  {
   "cell_type": "code",
   "execution_count": 12,
   "id": "c0f11a16-0d9e-4d03-ae6d-c9c347e6f4c9",
   "metadata": {},
   "outputs": [],
   "source": [
    ">>> def spades_high(card):\n",
    "...     rank_value = FrenchDeck.ranks.index(card.rank)\n",
    "...     return rank_value * len(suit_values) + suit_values[card.suit]"
   ]
  },
  {
   "cell_type": "code",
   "execution_count": 13,
   "id": "ffa5fc9d-af45-4833-b073-cd2a890c6c03",
   "metadata": {},
   "outputs": [],
   "source": [
    "# Rank test:"
   ]
  },
  {
   "cell_type": "code",
   "execution_count": 14,
   "id": "bd34717a-b361-4b99-8c3e-384fa2fd4ea5",
   "metadata": {},
   "outputs": [
    {
     "data": {
      "text/plain": [
       "0"
      ]
     },
     "execution_count": 14,
     "metadata": {},
     "output_type": "execute_result"
    }
   ],
   "source": [
    ">>> spades_high(Card('2', 'clubs'))"
   ]
  },
  {
   "cell_type": "code",
   "execution_count": 15,
   "id": "bfdfb070-7112-4cc3-9a31-b6b0453d4008",
   "metadata": {},
   "outputs": [
    {
     "data": {
      "text/plain": [
       "51"
      ]
     },
     "execution_count": 15,
     "metadata": {},
     "output_type": "execute_result"
    }
   ],
   "source": [
    ">>> spades_high(Card('A', 'spades'))"
   ]
  },
  {
   "cell_type": "code",
   "execution_count": 16,
   "id": "7844ee29-c119-440d-82cf-8a07750f3cfa",
   "metadata": {},
   "outputs": [
    {
     "name": "stdout",
     "output_type": "stream",
     "text": [
      "Card(rank='2', suit='clubs')\n",
      "Card(rank='2', suit='diamonds')\n",
      "Card(rank='2', suit='hearts')\n",
      "Card(rank='2', suit='spades')\n",
      "Card(rank='3', suit='clubs')\n",
      "Card(rank='3', suit='diamonds')\n",
      "Card(rank='3', suit='hearts')\n",
      "Card(rank='3', suit='spades')\n",
      "Card(rank='4', suit='clubs')\n",
      "Card(rank='4', suit='diamonds')\n",
      "Card(rank='4', suit='hearts')\n",
      "Card(rank='4', suit='spades')\n",
      "Card(rank='5', suit='clubs')\n",
      "Card(rank='5', suit='diamonds')\n",
      "Card(rank='5', suit='hearts')\n",
      "Card(rank='5', suit='spades')\n",
      "Card(rank='6', suit='clubs')\n",
      "Card(rank='6', suit='diamonds')\n",
      "Card(rank='6', suit='hearts')\n",
      "Card(rank='6', suit='spades')\n",
      "Card(rank='7', suit='clubs')\n",
      "Card(rank='7', suit='diamonds')\n",
      "Card(rank='7', suit='hearts')\n",
      "Card(rank='7', suit='spades')\n",
      "Card(rank='8', suit='clubs')\n",
      "Card(rank='8', suit='diamonds')\n",
      "Card(rank='8', suit='hearts')\n",
      "Card(rank='8', suit='spades')\n",
      "Card(rank='9', suit='clubs')\n",
      "Card(rank='9', suit='diamonds')\n",
      "Card(rank='9', suit='hearts')\n",
      "Card(rank='9', suit='spades')\n",
      "Card(rank='10', suit='clubs')\n",
      "Card(rank='10', suit='diamonds')\n",
      "Card(rank='10', suit='hearts')\n",
      "Card(rank='10', suit='spades')\n",
      "Card(rank='J', suit='clubs')\n",
      "Card(rank='J', suit='diamonds')\n",
      "Card(rank='J', suit='hearts')\n",
      "Card(rank='J', suit='spades')\n",
      "Card(rank='Q', suit='clubs')\n",
      "Card(rank='Q', suit='diamonds')\n",
      "Card(rank='Q', suit='hearts')\n",
      "Card(rank='Q', suit='spades')\n",
      "Card(rank='K', suit='clubs')\n",
      "Card(rank='K', suit='diamonds')\n",
      "Card(rank='K', suit='hearts')\n",
      "Card(rank='K', suit='spades')\n",
      "Card(rank='A', suit='clubs')\n",
      "Card(rank='A', suit='diamonds')\n",
      "Card(rank='A', suit='hearts')\n",
      "Card(rank='A', suit='spades')\n"
     ]
    }
   ],
   "source": [
    ">>> for card in sorted(deck, key=spades_high):  # doctest: +ELLIPSIS\n",
    "...      print(card)"
   ]
  }
 ],
 "metadata": {
  "kernelspec": {
   "display_name": "Python 3 (ipykernel)",
   "language": "python",
   "name": "python3"
  },
  "language_info": {
   "codemirror_mode": {
    "name": "ipython",
    "version": 3
   },
   "file_extension": ".py",
   "mimetype": "text/x-python",
   "name": "python",
   "nbconvert_exporter": "python",
   "pygments_lexer": "ipython3",
   "version": "3.10.2"
  }
 },
 "nbformat": 4,
 "nbformat_minor": 5
}
