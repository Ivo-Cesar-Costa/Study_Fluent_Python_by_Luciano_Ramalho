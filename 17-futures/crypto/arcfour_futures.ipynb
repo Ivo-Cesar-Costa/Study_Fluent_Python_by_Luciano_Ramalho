{
 "cells": [
  {
   "cell_type": "code",
   "execution_count": 1,
   "id": "64e3328c-5170-4e6c-91f5-0b4c3da1965d",
   "metadata": {},
   "outputs": [
    {
     "name": "stdout",
     "output_type": "stream",
     "text": [
      "importing Jupyter notebook from arcfour.ipynb\n"
     ]
    }
   ],
   "source": [
    "import sys\n",
    "import time\n",
    "from concurrent import futures\n",
    "from random import randrange\n",
    "import import_ipynb\n",
    "from arcfour import arcfour"
   ]
  },
  {
   "cell_type": "code",
   "execution_count": 2,
   "id": "228a1145-0d58-4c10-aab1-42984a2b1e81",
   "metadata": {},
   "outputs": [],
   "source": [
    "JOBS = 12\n",
    "SIZE = 2**18\n",
    "\n",
    "KEY = b\"'Twas brillig, and the slithy toves\\nDid gyre\"\n",
    "STATUS = '{} workers, elapsed time: {:.2f}s'"
   ]
  },
  {
   "cell_type": "code",
   "execution_count": 3,
   "id": "68e50337-7e4f-4e55-a396-e6ee04f0a298",
   "metadata": {},
   "outputs": [],
   "source": [
    "def arcfour_test(size, key):\n",
    "    in_text = bytearray(randrange(256) for i in range(size))\n",
    "    cypher_text = arcfour(key, in_text)\n",
    "    out_text = arcfour(key, cypher_text)\n",
    "    assert in_text == out_text, 'Failed arcfour_test'\n",
    "    return size"
   ]
  },
  {
   "cell_type": "code",
   "execution_count": 4,
   "id": "c5943edc-10f4-4ad2-bb17-6f48a73d5e2b",
   "metadata": {},
   "outputs": [],
   "source": [
    "def main(workers=None):\n",
    "    if workers:\n",
    "        workers = int(workers)\n",
    "    t0 = time.time()\n",
    "\n",
    "    with futures.ProcessPoolExecutor(workers) as executor:\n",
    "        actual_workers = executor._max_workers\n",
    "        to_do = []\n",
    "        for i in range(JOBS, 0, -1):\n",
    "            size = SIZE + int(SIZE / JOBS * (i - JOBS/2))\n",
    "            job = executor.submit(arcfour_test, size, KEY)\n",
    "            to_do.append(job)\n",
    "\n",
    "        for future in futures.as_completed(to_do):\n",
    "            res = future.result()\n",
    "            print('{:.1f} KB'.format(res/2**10))\n",
    "\n",
    "    print(STATUS.format(actual_workers, time.time() - t0))"
   ]
  },
  {
   "cell_type": "code",
   "execution_count": 5,
   "id": "88faac92-4136-42a0-bbcb-fa1ead56d1bb",
   "metadata": {},
   "outputs": [],
   "source": [
    "if __name__ == '__main__':\n",
    "    if len(sys.argv) == 2:\n",
    "        workers = int(sys.argv[1])\n",
    "    else:\n",
    "        workers = None\n",
    "    main(workers)"
   ]
  }
 ],
 "metadata": {
  "kernelspec": {
   "display_name": "Python 3 (ipykernel)",
   "language": "python",
   "name": "python3"
  },
  "language_info": {
   "codemirror_mode": {
    "name": "ipython",
    "version": 3
   },
   "file_extension": ".py",
   "mimetype": "text/x-python",
   "name": "python",
   "nbconvert_exporter": "python",
   "pygments_lexer": "ipython3",
   "version": "3.10.2"
  }
 },
 "nbformat": 4,
 "nbformat_minor": 5
}
