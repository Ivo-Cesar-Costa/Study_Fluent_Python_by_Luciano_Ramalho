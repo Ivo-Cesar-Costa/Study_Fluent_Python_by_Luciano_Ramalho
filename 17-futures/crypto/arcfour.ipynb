{
 "cells": [
  {
   "cell_type": "code",
   "execution_count": 1,
   "id": "8d2ad394-5cdf-44c3-ad2d-322a61d90bae",
   "metadata": {},
   "outputs": [],
   "source": [
    "def arcfour(key, in_bytes, loops=20):\n",
    "\n",
    "    kbox = bytearray(256)  # create key box\n",
    "    for i, car in enumerate(key):  # copy key and vector\n",
    "        kbox[i] = car\n",
    "    j = len(key)\n",
    "    for i in range(j, 256):  # repeat until full\n",
    "        kbox[i] = kbox[i-j]\n",
    "\n",
    "    # [1] initialize sbox\n",
    "    sbox = bytearray(range(256))\n",
    "\n",
    "    # repeat sbox mixing loop, as recommened in CipherSaber-2\n",
    "    # http://ciphersaber.gurus.com/faq.html#cs2\n",
    "    j = 0\n",
    "    for k in range(loops):\n",
    "        for i in range(256):\n",
    "            j = (j + sbox[i] + kbox[i]) % 256\n",
    "            sbox[i], sbox[j] = sbox[j], sbox[i]\n",
    "\n",
    "    # main loop\n",
    "    i = 0\n",
    "    j = 0\n",
    "    out_bytes = bytearray()\n",
    "\n",
    "    for car in in_bytes:\n",
    "        i = (i + 1) % 256\n",
    "        # [2] shuffle sbox\n",
    "        j = (j + sbox[i]) % 256\n",
    "        sbox[i], sbox[j] = sbox[j], sbox[i]\n",
    "        # [3] compute t\n",
    "        t = (sbox[i] + sbox[j]) % 256\n",
    "        k = sbox[t]\n",
    "        car = car ^ k\n",
    "        out_bytes.append(car)\n",
    "\n",
    "    return out_bytes"
   ]
  },
  {
   "cell_type": "code",
   "execution_count": 2,
   "id": "860f700b-5c5a-4578-8940-afb4fbf6e001",
   "metadata": {},
   "outputs": [],
   "source": [
    "def test():\n",
    "    from time import time\n",
    "    clear = bytearray(b'1234567890' * 100000)\n",
    "    t0 = time()\n",
    "    cipher = arcfour(b'key', clear)\n",
    "    print('elapsed time: %.2fs' % (time() - t0))\n",
    "    result = arcfour(b'key', cipher)\n",
    "    assert result == clear, '%r != %r' % (result, clear)\n",
    "    print('elapsed time: %.2fs' % (time() - t0))\n",
    "    print('OK')"
   ]
  },
  {
   "cell_type": "code",
   "execution_count": 3,
   "id": "d830c232-2835-436b-8983-b5c5f6189ece",
   "metadata": {},
   "outputs": [
    {
     "name": "stdout",
     "output_type": "stream",
     "text": [
      "elapsed time: 0.43s\n",
      "elapsed time: 0.79s\n",
      "OK\n"
     ]
    }
   ],
   "source": [
    "if __name__ == '__main__':\n",
    "    test()"
   ]
  }
 ],
 "metadata": {
  "kernelspec": {
   "display_name": "Python 3 (ipykernel)",
   "language": "python",
   "name": "python3"
  },
  "language_info": {
   "codemirror_mode": {
    "name": "ipython",
    "version": 3
   },
   "file_extension": ".py",
   "mimetype": "text/x-python",
   "name": "python",
   "nbconvert_exporter": "python",
   "pygments_lexer": "ipython3",
   "version": "3.10.2"
  }
 },
 "nbformat": 4,
 "nbformat_minor": 5
}
