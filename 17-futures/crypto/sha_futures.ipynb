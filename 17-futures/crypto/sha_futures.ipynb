{
 "cells": [
  {
   "cell_type": "code",
   "execution_count": 1,
   "id": "495ab499-64ea-44bb-ba05-08d56a042a03",
   "metadata": {},
   "outputs": [],
   "source": [
    "import sys\n",
    "import time\n",
    "import hashlib\n",
    "from concurrent import futures\n",
    "from random import randrange"
   ]
  },
  {
   "cell_type": "code",
   "execution_count": 2,
   "id": "245f45f8-1396-432b-b5e4-1cdea1d67eaa",
   "metadata": {},
   "outputs": [],
   "source": [
    "JOBS = 12\n",
    "SIZE = 2**20\n",
    "STATUS = '{} workers, elapsed time: {:.2f}s'"
   ]
  },
  {
   "cell_type": "code",
   "execution_count": 3,
   "id": "5f8da249-93b3-49ab-ae3f-b96dc34ab046",
   "metadata": {},
   "outputs": [],
   "source": [
    "def sha(size):\n",
    "    data = bytearray(randrange(256) for i in range(size))\n",
    "    algo = hashlib.new('sha256')\n",
    "    algo.update(data)\n",
    "    return algo.hexdigest()"
   ]
  },
  {
   "cell_type": "code",
   "execution_count": 4,
   "id": "dabf7881-156d-40b5-b0fe-0857108abb0c",
   "metadata": {},
   "outputs": [],
   "source": [
    "def main(workers=None):\n",
    "    if workers:\n",
    "        workers = int(workers)\n",
    "    t0 = time.time()\n",
    "\n",
    "    with futures.ProcessPoolExecutor(workers) as executor:\n",
    "        actual_workers = executor._max_workers\n",
    "        to_do = (executor.submit(sha, SIZE) for i in range(JOBS))\n",
    "        for future in futures.as_completed(to_do):\n",
    "            res = future.result()\n",
    "            print(res)\n",
    "\n",
    "    print(STATUS.format(actual_workers, time.time() - t0))"
   ]
  },
  {
   "cell_type": "code",
   "execution_count": 5,
   "id": "dd313554-4115-4acb-baca-66476b76edd4",
   "metadata": {},
   "outputs": [],
   "source": [
    "if __name__ == '__main__':\n",
    "    if len(sys.argv) == 2:\n",
    "        workers = int(sys.argv[1])\n",
    "    else:\n",
    "        workers = None\n",
    "    main(workers)"
   ]
  }
 ],
 "metadata": {
  "kernelspec": {
   "display_name": "Python 3 (ipykernel)",
   "language": "python",
   "name": "python3"
  },
  "language_info": {
   "codemirror_mode": {
    "name": "ipython",
    "version": 3
   },
   "file_extension": ".py",
   "mimetype": "text/x-python",
   "name": "python",
   "nbconvert_exporter": "python",
   "pygments_lexer": "ipython3",
   "version": "3.10.2"
  }
 },
 "nbformat": 4,
 "nbformat_minor": 5
}
