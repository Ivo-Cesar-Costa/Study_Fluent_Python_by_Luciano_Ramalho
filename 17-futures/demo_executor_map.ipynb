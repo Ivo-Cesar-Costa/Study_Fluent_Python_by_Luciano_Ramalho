{
 "cells": [
  {
   "cell_type": "code",
   "execution_count": 1,
   "id": "d1629ade-64ab-425f-8766-94e1058ce579",
   "metadata": {},
   "outputs": [],
   "source": [
    "from time import sleep, strftime\n",
    "from concurrent import futures"
   ]
  },
  {
   "cell_type": "code",
   "execution_count": 2,
   "id": "cad8b32a-330e-4520-8f4d-06f51406785c",
   "metadata": {},
   "outputs": [],
   "source": [
    "def display(*args):  # <1>\n",
    "    print(strftime('[%H:%M:%S]'), end=' ')\n",
    "    print(*args)"
   ]
  },
  {
   "cell_type": "code",
   "execution_count": 3,
   "id": "444995f4-92d5-48d9-81ec-10a8ef6d832b",
   "metadata": {},
   "outputs": [],
   "source": [
    "def loiter(n):  # <2>\n",
    "    msg = '{}loiter({}): doing nothing for {}s...'\n",
    "    display(msg.format('\\t'*n, n, n))\n",
    "    sleep(n)\n",
    "    msg = '{}loiter({}): done.'\n",
    "    display(msg.format('\\t'*n, n))\n",
    "    return n * 10  # <3>"
   ]
  },
  {
   "cell_type": "code",
   "execution_count": 4,
   "id": "11b3c9e9-5a75-4746-b775-2e4c63896f23",
   "metadata": {},
   "outputs": [],
   "source": [
    "def main():\n",
    "    display('Script starting.')\n",
    "    executor = futures.ThreadPoolExecutor(max_workers=3)  # <4>\n",
    "    results = executor.map(loiter, range(5))  # <5>\n",
    "    display('results:', results)  # <6>.\n",
    "    display('Waiting for individual results:')\n",
    "    for i, result in enumerate(results):  # <7>\n",
    "        display('result {}: {}'.format(i, result))"
   ]
  },
  {
   "cell_type": "code",
   "execution_count": 5,
   "id": "407849f6-84d3-43c3-9ee9-0f4974089209",
   "metadata": {},
   "outputs": [
    {
     "name": "stdout",
     "output_type": "stream",
     "text": [
      "[11:42:08] Script starting.\n",
      "[11:42:08] loiter(0): doing nothing for 0s...\n",
      "[11:42:08] loiter(0): done.\n",
      "[11:42:08] \tloiter(1): doing nothing for 1s...\n",
      "[11:42:08] \t\tloiter(2): doing nothing for 2s...[11:42:08] results: <generator object Executor.map.<locals>.result_iterator at 0x00000210A9F815B0>\n",
      "[11:42:08] Waiting for individual results:\n",
      "[11:42:08] result 0: 0\n",
      "[11:42:08] \t\t\tloiter(3): doing nothing for 3s...\n",
      "\n",
      "[11:42:09] \tloiter(1): done.\n",
      "[11:42:09] \t\t\t\tloiter(4): doing nothing for 4s...[11:42:09] result 1: 10\n",
      "\n",
      "[11:42:10] \t\tloiter(2): done.\n",
      "[11:42:10] result 2: 20\n",
      "[11:42:11] \t\t\tloiter(3): done.\n",
      "[11:42:11] result 3: 30\n",
      "[11:42:13] \t\t\t\tloiter(4): done.\n",
      "[11:42:13] result 4: 40\n"
     ]
    }
   ],
   "source": [
    "main()"
   ]
  }
 ],
 "metadata": {
  "kernelspec": {
   "display_name": "Python 3 (ipykernel)",
   "language": "python",
   "name": "python3"
  },
  "language_info": {
   "codemirror_mode": {
    "name": "ipython",
    "version": 3
   },
   "file_extension": ".py",
   "mimetype": "text/x-python",
   "name": "python",
   "nbconvert_exporter": "python",
   "pygments_lexer": "ipython3",
   "version": "3.10.2"
  }
 },
 "nbformat": 4,
 "nbformat_minor": 5
}
