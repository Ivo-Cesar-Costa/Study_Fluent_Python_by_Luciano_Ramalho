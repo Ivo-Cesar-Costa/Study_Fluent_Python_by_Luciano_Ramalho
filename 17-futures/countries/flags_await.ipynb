{
 "cells": [
  {
   "cell_type": "code",
   "execution_count": 1,
   "id": "7cc19043-03ce-4804-89b9-0c3affe95a73",
   "metadata": {},
   "outputs": [
    {
     "name": "stdout",
     "output_type": "stream",
     "text": [
      "BD BR CD CN DE EG ET FR ID IN IR JP MX NG PH PK RU TR US VN \n",
      "20 flags downloaded in 11.37s\n"
     ]
    }
   ],
   "source": [
    "import asyncio\n",
    "\n",
    "import aiohttp  # <1>\n",
    "\n",
    "%run flags.ipynb import BASE_URL, save_flag, show, main  # <2>"
   ]
  },
  {
   "cell_type": "code",
   "execution_count": 2,
   "id": "c1aca4d8-931c-4b79-a271-9e192a1d1998",
   "metadata": {},
   "outputs": [],
   "source": [
    "async def get_flag(cc):  # <3>\n",
    "    url = '{}/{cc}/{cc}.gif'.format(BASE_URL, cc=cc.lower())\n",
    "    resp = await aiohttp.request('GET', url)  # <4>\n",
    "    image = await resp.read()  # <5>\n",
    "    return image"
   ]
  },
  {
   "cell_type": "code",
   "execution_count": 3,
   "id": "1c82f17b-b017-4f64-858c-32bf86cd8e22",
   "metadata": {},
   "outputs": [],
   "source": [
    "async def download_one(cc):  # <6>\n",
    "    image = await get_flag(cc)  # <7>\n",
    "    show(cc)\n",
    "    save_flag(image, cc.lower() + '.gif')\n",
    "    return cc"
   ]
  },
  {
   "cell_type": "code",
   "execution_count": 4,
   "id": "88a7c183-828b-4ec7-9c1b-871525cfa7e7",
   "metadata": {},
   "outputs": [],
   "source": [
    "def download_many(cc_list):\n",
    "    loop = asyncio.get_event_loop()  # <8>\n",
    "    to_do = [download_one(cc) for cc in sorted(cc_list)]  # <9>\n",
    "    wait_coro = asyncio.wait(to_do)  # <10>\n",
    "    res, _ = loop.run_until_complete(wait_coro)  # <11>\n",
    "    loop.close() # <12>\n",
    "\n",
    "    return len(res)"
   ]
  },
  {
   "cell_type": "code",
   "execution_count": 5,
   "id": "b90eee6d-24d7-4420-9aab-575be9cf136a",
   "metadata": {},
   "outputs": [],
   "source": [
    "if __name__ == '__main__':\n",
    "    main(download_many)"
   ]
  }
 ],
 "metadata": {
  "kernelspec": {
   "display_name": "Python 3 (ipykernel)",
   "language": "python",
   "name": "python3"
  },
  "language_info": {
   "codemirror_mode": {
    "name": "ipython",
    "version": 3
   },
   "file_extension": ".py",
   "mimetype": "text/x-python",
   "name": "python",
   "nbconvert_exporter": "python",
   "pygments_lexer": "ipython3",
   "version": "3.10.2"
  }
 },
 "nbformat": 4,
 "nbformat_minor": 5
}
