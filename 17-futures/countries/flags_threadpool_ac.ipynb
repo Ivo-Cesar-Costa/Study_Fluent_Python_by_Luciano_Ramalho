{
 "cells": [
  {
   "cell_type": "code",
   "execution_count": 1,
   "id": "f4d7e318-2c1d-473e-9c5b-6f8a31c1e56b",
   "metadata": {},
   "outputs": [
    {
     "name": "stdout",
     "output_type": "stream",
     "text": [
      "BD BR CD CN DE EG ET FR ID IN IR JP MX NG PH PK RU TR US VN \n",
      "20 flags downloaded in 11.18s\n"
     ]
    }
   ],
   "source": [
    "from concurrent import futures\n",
    "\n",
    "%run flags.ipynb import save_flag, get_flag, show, main\n"
   ]
  },
  {
   "cell_type": "code",
   "execution_count": 2,
   "id": "8b5ece34-c80f-445e-a197-ff8ee526df49",
   "metadata": {},
   "outputs": [],
   "source": [
    "MAX_WORKERS = 20"
   ]
  },
  {
   "cell_type": "code",
   "execution_count": 3,
   "id": "d325a8cb-8560-4391-9636-d45203bf73be",
   "metadata": {},
   "outputs": [],
   "source": [
    "def download_one(cc):\n",
    "    image = get_flag(cc)\n",
    "    show(cc)\n",
    "    save_flag(image, cc.lower() + '.gif')\n",
    "    return cc"
   ]
  },
  {
   "cell_type": "code",
   "execution_count": 4,
   "id": "fbfe0d3d-2c94-4b7a-8f90-53affe9a3007",
   "metadata": {},
   "outputs": [],
   "source": [
    "def download_many(cc_list):\n",
    "    cc_list = cc_list[:5]  # <1>\n",
    "    with futures.ThreadPoolExecutor(max_workers=3) as executor:  # <2>\n",
    "        to_do = []\n",
    "        for cc in sorted(cc_list):  # <3>\n",
    "            future = executor.submit(download_one, cc)  # <4>\n",
    "            to_do.append(future)  # <5>\n",
    "            msg = 'Scheduled for {}: {}'\n",
    "            print(msg.format(cc, future))  # <6>\n",
    "\n",
    "        results = []\n",
    "        for future in futures.as_completed(to_do):  # <7>\n",
    "            res = future.result()  # <8>\n",
    "            msg = '{} result: {!r}'\n",
    "            print(msg.format(future, res)) # <9>\n",
    "            results.append(res)\n",
    "\n",
    "    return len(results)"
   ]
  },
  {
   "cell_type": "code",
   "execution_count": 5,
   "id": "4e604556-f57f-47c4-b228-33e5125232f9",
   "metadata": {},
   "outputs": [
    {
     "name": "stdout",
     "output_type": "stream",
     "text": [
      "Scheduled for BR: <Future at 0x196c9f3cf10 state=running>\n",
      "Scheduled for CN: <Future at 0x196c9c76200 state=running>\n",
      "Scheduled for ID: <Future at 0x196ca0e0c70 state=running>\n",
      "Scheduled for IN: <Future at 0x196ca0e2f20 state=pending>\n",
      "Scheduled for US: <Future at 0x196ca0e2710 state=pending>\n",
      "BR CN<Future at 0x196c9f3cf10 state=finished returned str> result: 'BR' \n",
      "<Future at 0x196c9c76200 state=finished returned str> result: 'CN'\n",
      "ID <Future at 0x196ca0e0c70 state=finished returned str> result: 'ID'\n",
      "US <Future at 0x196ca0e2710 state=finished returned str> result: 'US'\n",
      "IN <Future at 0x196ca0e2f20 state=finished returned str> result: 'IN'\n",
      "\n",
      "5 flags downloaded in 1.07s\n"
     ]
    }
   ],
   "source": [
    "if __name__ == '__main__':\n",
    "    main(download_many)"
   ]
  }
 ],
 "metadata": {
  "kernelspec": {
   "display_name": "Python 3 (ipykernel)",
   "language": "python",
   "name": "python3"
  },
  "language_info": {
   "codemirror_mode": {
    "name": "ipython",
    "version": 3
   },
   "file_extension": ".py",
   "mimetype": "text/x-python",
   "name": "python",
   "nbconvert_exporter": "python",
   "pygments_lexer": "ipython3",
   "version": "3.10.2"
  }
 },
 "nbformat": 4,
 "nbformat_minor": 5
}
