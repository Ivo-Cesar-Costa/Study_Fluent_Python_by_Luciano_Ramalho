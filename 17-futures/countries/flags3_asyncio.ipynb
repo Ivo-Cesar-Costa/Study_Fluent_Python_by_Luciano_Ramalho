{
 "cells": [
  {
   "cell_type": "code",
   "execution_count": 1,
   "id": "d22710c4-dfae-4439-a619-df9e5f4d4b52",
   "metadata": {},
   "outputs": [],
   "source": [
    "import asyncio\n",
    "import collections\n",
    "\n",
    "import aiohttp\n",
    "from aiohttp import web\n",
    "import tqdm\n",
    "\n",
    "%run flags2_common.ipynb import main, HTTPStatus, Result, save_flag"
   ]
  },
  {
   "cell_type": "code",
   "execution_count": 2,
   "id": "6ed6a53b-d81b-49cb-b495-e10a60410498",
   "metadata": {},
   "outputs": [],
   "source": [
    "DEFAULT_CONCUR_REQ = 5\n",
    "MAX_CONCUR_REQ = 1000"
   ]
  },
  {
   "cell_type": "code",
   "execution_count": 3,
   "id": "4a3aecce-e2d9-440e-acb0-b7b11da6daba",
   "metadata": {},
   "outputs": [],
   "source": [
    "class FetchError(Exception):\n",
    "    def __init__(self, country_code):\n",
    "        self.country_code = country_code"
   ]
  },
  {
   "cell_type": "code",
   "execution_count": 4,
   "id": "cf907915-6381-4a66-8ec9-be7c96149e93",
   "metadata": {},
   "outputs": [
    {
     "name": "stderr",
     "output_type": "stream",
     "text": [
      "C:\\Users\\Ivo\\AppData\\Local\\Temp\\ipykernel_12628\\422895157.py:2: DeprecationWarning: \"@coroutine\" decorator is deprecated since Python 3.8, use \"async def\" instead\n",
      "  def http_get(url):\n"
     ]
    }
   ],
   "source": [
    "@asyncio.coroutine\n",
    "def http_get(url):\n",
    "    res = yield from aiohttp.request('GET', url)\n",
    "    if res.status == 200:\n",
    "        ctype = res.headers.get('Content-type', '').lower()\n",
    "        if 'json' in ctype or url.endswith('json'):\n",
    "            data = yield from res.json()  # <1>\n",
    "        else:\n",
    "            data = yield from res.read()  # <2>\n",
    "        return data\n",
    "\n",
    "    elif res.status == 404:\n",
    "        raise web.HTTPNotFound()\n",
    "    else:\n",
    "        raise aiohttp.errors.HttpProcessingError(\n",
    "            code=res.status, message=res.reason,\n",
    "            headers=res.headers)\n"
   ]
  },
  {
   "cell_type": "code",
   "execution_count": 5,
   "id": "5e1eaad2-4d31-48c4-98c2-cba31b2f5ebe",
   "metadata": {},
   "outputs": [
    {
     "name": "stderr",
     "output_type": "stream",
     "text": [
      "C:\\Users\\Ivo\\AppData\\Local\\Temp\\ipykernel_12628\\4263828679.py:2: DeprecationWarning: \"@coroutine\" decorator is deprecated since Python 3.8, use \"async def\" instead\n",
      "  def get_country(base_url, cc):\n"
     ]
    }
   ],
   "source": [
    "@asyncio.coroutine\n",
    "def get_country(base_url, cc):\n",
    "    url = '{}/{cc}/metadata.json'.format(base_url, cc=cc.lower())\n",
    "    metadata = yield from http_get(url)  # <3>\n",
    "    return metadata['country']"
   ]
  },
  {
   "cell_type": "code",
   "execution_count": 6,
   "id": "6d191a54-31a9-47f0-8326-1b8edfe457c4",
   "metadata": {},
   "outputs": [
    {
     "name": "stderr",
     "output_type": "stream",
     "text": [
      "C:\\Users\\Ivo\\AppData\\Local\\Temp\\ipykernel_12628\\4078728701.py:2: DeprecationWarning: \"@coroutine\" decorator is deprecated since Python 3.8, use \"async def\" instead\n",
      "  def get_flag(base_url, cc):\n"
     ]
    }
   ],
   "source": [
    "@asyncio.coroutine\n",
    "def get_flag(base_url, cc):\n",
    "    url = '{}/{cc}/{cc}.gif'.format(base_url, cc=cc.lower())\n",
    "    return (yield from http_get(url)) # <4>"
   ]
  },
  {
   "cell_type": "code",
   "execution_count": 7,
   "id": "0c7dbb09-4267-4f6e-a0c7-cb7c593244cc",
   "metadata": {},
   "outputs": [
    {
     "name": "stderr",
     "output_type": "stream",
     "text": [
      "C:\\Users\\Ivo\\AppData\\Local\\Temp\\ipykernel_12628\\3710002885.py:2: DeprecationWarning: \"@coroutine\" decorator is deprecated since Python 3.8, use \"async def\" instead\n",
      "  def download_one(cc, base_url, semaphore, verbose):\n"
     ]
    }
   ],
   "source": [
    "@asyncio.coroutine\n",
    "def download_one(cc, base_url, semaphore, verbose):\n",
    "    try:\n",
    "        with (yield from semaphore): # <5>\n",
    "            image = yield from get_flag(base_url, cc)\n",
    "        with (yield from semaphore):\n",
    "            country = yield from get_country(base_url, cc)\n",
    "    except web.HTTPNotFound:\n",
    "        status = HTTPStatus.not_found\n",
    "        msg = 'not found'\n",
    "    except Exception as exc:\n",
    "        raise FetchError(cc) from exc\n",
    "    else:\n",
    "        country = country.replace(' ', '_')\n",
    "        filename = '{}-{}.gif'.format(country, cc)\n",
    "        loop = asyncio.get_event_loop()\n",
    "        loop.run_in_executor(None, save_flag, image, filename)\n",
    "        status = HTTPStatus.ok\n",
    "        msg = 'OK'\n",
    "\n",
    "    if verbose and msg:\n",
    "        print(cc, msg)\n",
    "\n",
    "    return Result(status, cc)"
   ]
  },
  {
   "cell_type": "code",
   "execution_count": 8,
   "id": "47c9c5cc-f5c1-44f8-93a4-5ed41dc80225",
   "metadata": {},
   "outputs": [
    {
     "name": "stderr",
     "output_type": "stream",
     "text": [
      "C:\\Users\\Ivo\\AppData\\Local\\Temp\\ipykernel_12628\\2807612423.py:2: DeprecationWarning: \"@coroutine\" decorator is deprecated since Python 3.8, use \"async def\" instead\n",
      "  def downloader_coro(cc_list, base_url, verbose, concur_req):\n"
     ]
    }
   ],
   "source": [
    "@asyncio.coroutine\n",
    "def downloader_coro(cc_list, base_url, verbose, concur_req):\n",
    "    counter = collections.Counter()\n",
    "    semaphore = asyncio.Semaphore(concur_req)\n",
    "    to_do = [download_one(cc, base_url, semaphore, verbose)\n",
    "             for cc in sorted(cc_list)]\n",
    "\n",
    "    to_do_iter = asyncio.as_completed(to_do)\n",
    "    if not verbose:\n",
    "        to_do_iter = tqdm.tqdm(to_do_iter, total=len(cc_list))\n",
    "    for future in to_do_iter:\n",
    "        try:\n",
    "            res = yield from future\n",
    "        except FetchError as exc:\n",
    "            country_code = exc.country_code\n",
    "            try:\n",
    "                error_msg = exc.__cause__.args[0]\n",
    "            except IndexError:\n",
    "                error_msg = exc.__cause__.__class__.__name__\n",
    "            if verbose and error_msg:\n",
    "                msg = '*** Error for {}: {}'\n",
    "                print(msg.format(country_code, error_msg))\n",
    "            status = HTTPStatus.error\n",
    "        else:\n",
    "            status = res.status\n",
    "\n",
    "        counter[status] += 1\n",
    "\n",
    "    return "
   ]
  },
  {
   "cell_type": "code",
   "execution_count": 9,
   "id": "fa540d66-2573-4fa7-98e7-e258aa87d360",
   "metadata": {},
   "outputs": [],
   "source": [
    "def download_many(cc_list, base_url, verbose, concur_req):\n",
    "    loop = asyncio.get_event_loop()\n",
    "    coro = downloader_coro(cc_list, base_url, verbose, concur_req)\n",
    "    counts = loop.run_until_complete(coro)\n",
    "    loop.close()\n",
    "\n",
    "    return counts"
   ]
  },
  {
   "cell_type": "code",
   "execution_count": 10,
   "id": "9b3eb3a9-990c-4b86-9d44-75c7dbb30db8",
   "metadata": {},
   "outputs": [
    {
     "name": "stderr",
     "output_type": "stream",
     "text": [
      "usage: ipykernel_launcher.py [-h] [-a] [-e] [-l N] [-m CONCURRENT] [-s LABEL] [-v] [CC ...]\n",
      "ipykernel_launcher.py: error: unrecognized arguments: -f\n"
     ]
    },
    {
     "ename": "SystemExit",
     "evalue": "2",
     "output_type": "error",
     "traceback": [
      "An exception has occurred, use %tb to see the full traceback.\n",
      "\u001b[1;31mSystemExit\u001b[0m\u001b[1;31m:\u001b[0m 2\n"
     ]
    },
    {
     "name": "stderr",
     "output_type": "stream",
     "text": [
      "C:\\Users\\Ivo\\AppData\\Local\\Programs\\Python\\Python310\\lib\\site-packages\\IPython\\core\\interactiveshell.py:3259: UserWarning: To exit: use 'exit', 'quit', or Ctrl-D.\n",
      "  warn(\"To exit: use 'exit', 'quit', or Ctrl-D.\", stacklevel=1)\n"
     ]
    }
   ],
   "source": [
    "if __name__ == '__main__':\n",
    "    main(download_many, DEFAULT_CONCUR_REQ, MAX_CONCUR_REQ)"
   ]
  }
 ],
 "metadata": {
  "kernelspec": {
   "display_name": "Python 3 (ipykernel)",
   "language": "python",
   "name": "python3"
  },
  "language_info": {
   "codemirror_mode": {
    "name": "ipython",
    "version": 3
   },
   "file_extension": ".py",
   "mimetype": "text/x-python",
   "name": "python",
   "nbconvert_exporter": "python",
   "pygments_lexer": "ipython3",
   "version": "3.10.2"
  }
 },
 "nbformat": 4,
 "nbformat_minor": 5
}
