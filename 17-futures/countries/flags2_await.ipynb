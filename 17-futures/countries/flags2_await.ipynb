{
 "cells": [
  {
   "cell_type": "code",
   "execution_count": 1,
   "id": "08e5b3cf-46ef-449a-b9a9-129c53e97247",
   "metadata": {},
   "outputs": [],
   "source": [
    "import asyncio\n",
    "import collections\n",
    "from contextlib import closing\n",
    "\n",
    "import aiohttp\n",
    "from aiohttp import web\n",
    "import tqdm\n",
    "\n",
    "%run flags2_common.ipynb import main, HTTPStatus, Result, save_flag"
   ]
  },
  {
   "cell_type": "code",
   "execution_count": 2,
   "id": "44e881b4-1d19-45ea-88a6-a47ffcc9177a",
   "metadata": {},
   "outputs": [],
   "source": [
    "DEFAULT_CONCUR_REQ = 5\n",
    "MAX_CONCUR_REQ = 1000"
   ]
  },
  {
   "cell_type": "code",
   "execution_count": 3,
   "id": "408a6980-9ed8-4e18-823c-5c2634cc0e6e",
   "metadata": {},
   "outputs": [],
   "source": [
    "class FetchError(Exception):  # <1>\n",
    "    def __init__(self, country_code):\n",
    "        self.country_code = country_code"
   ]
  },
  {
   "cell_type": "code",
   "execution_count": 4,
   "id": "ceaee5d1-4a02-465d-97b0-209cdd9c6b1b",
   "metadata": {},
   "outputs": [],
   "source": [
    "async def get_flag(base_url, cc): # <2>\n",
    "    url = '{}/{cc}/{cc}.gif'.format(base_url, cc=cc.lower())\n",
    "    with closing(await aiohttp.request('GET', url)) as resp:\n",
    "        if resp.status == 200:\n",
    "            image = await resp.read()\n",
    "            return image\n",
    "        elif resp.status == 404:\n",
    "            raise web.HTTPNotFound()\n",
    "        else:\n",
    "            raise aiohttp.HttpProcessingError(\n",
    "                code=resp.status, message=resp.reason,\n",
    "                headers=resp.headers)"
   ]
  },
  {
   "cell_type": "code",
   "execution_count": 5,
   "id": "d0bde6ec-1851-49c4-bdec-a89f5f6ec87e",
   "metadata": {},
   "outputs": [],
   "source": [
    "async def download_one(cc, base_url, semaphore, verbose):  # <3>\n",
    "    try:\n",
    "        with (await semaphore):  # <4>\n",
    "            image = await get_flag(base_url, cc)  # <5>\n",
    "    except web.HTTPNotFound:  # <6>\n",
    "        status = HTTPStatus.not_found\n",
    "        msg = 'not found'\n",
    "    except Exception as exc:\n",
    "        raise FetchError(cc) from exc  # <7>\n",
    "    else:\n",
    "        save_flag(image, cc.lower() + '.gif')  # <8>\n",
    "        status = HTTPStatus.ok\n",
    "        msg = 'OK'\n",
    "\n",
    "    if verbose and msg:\n",
    "        print(cc, msg)\n",
    "\n",
    "    return Result(status, cc)"
   ]
  },
  {
   "cell_type": "code",
   "execution_count": 6,
   "id": "e14af832-f261-45f4-8acf-c0f234b529df",
   "metadata": {},
   "outputs": [],
   "source": [
    "async def downloader_coro(cc_list, base_url, verbose, concur_req):  # <1>\n",
    "    counter = collections.Counter()\n",
    "    semaphore = asyncio.Semaphore(concur_req)  # <2>\n",
    "    to_do = [download_one(cc, base_url, semaphore, verbose)\n",
    "             for cc in sorted(cc_list)]  # <3>\n",
    "\n",
    "    to_do_iter = asyncio.as_completed(to_do)  # <4>\n",
    "    if not verbose:\n",
    "        to_do_iter = tqdm.tqdm(to_do_iter, total=len(cc_list))  # <5>\n",
    "    for future in to_do_iter:  # <6>\n",
    "        try:\n",
    "            res = await future  # <7>\n",
    "        except FetchError as exc:  # <8>\n",
    "            country_code = exc.country_code  # <9>\n",
    "            try:\n",
    "                error_msg = exc.__cause__.args[0]  # <10>\n",
    "            except IndexError:\n",
    "                error_msg = exc.__cause__.__class__.__name__  # <11>\n",
    "            if verbose and error_msg:\n",
    "                msg = '*** Error for {}: {}'\n",
    "                print(msg.format(country_code, error_msg))\n",
    "            status = HTTPStatus.error\n",
    "        else:\n",
    "            status = res.status\n",
    "\n",
    "        counter[status] += 1  # <12>\n",
    "\n",
    "    return counter  # <13>\n"
   ]
  },
  {
   "cell_type": "code",
   "execution_count": 7,
   "id": "fa12dd5e-bc5c-4528-845f-dbc981ca8d32",
   "metadata": {},
   "outputs": [],
   "source": [
    "def download_many(cc_list, base_url, verbose, concur_req):\n",
    "    loop = asyncio.get_event_loop()\n",
    "    coro = downloader_coro(cc_list, base_url, verbose, concur_req)\n",
    "    counts = loop.run_until_complete(coro)  # <14>\n",
    "    loop.close()  # <15>\n",
    "\n",
    "    return counts"
   ]
  },
  {
   "cell_type": "code",
   "execution_count": 8,
   "id": "8b04360b-647f-4e66-899a-a2c6f000b3b8",
   "metadata": {},
   "outputs": [
    {
     "name": "stderr",
     "output_type": "stream",
     "text": [
      "usage: ipykernel_launcher.py [-h] [-a] [-e] [-l N] [-m CONCURRENT] [-s LABEL] [-v] [CC ...]\n",
      "ipykernel_launcher.py: error: unrecognized arguments: -f\n"
     ]
    },
    {
     "ename": "SystemExit",
     "evalue": "2",
     "output_type": "error",
     "traceback": [
      "An exception has occurred, use %tb to see the full traceback.\n",
      "\u001b[1;31mSystemExit\u001b[0m\u001b[1;31m:\u001b[0m 2\n"
     ]
    },
    {
     "name": "stderr",
     "output_type": "stream",
     "text": [
      "C:\\Users\\Ivo\\AppData\\Local\\Programs\\Python\\Python310\\lib\\site-packages\\IPython\\core\\interactiveshell.py:3259: UserWarning: To exit: use 'exit', 'quit', or Ctrl-D.\n",
      "  warn(\"To exit: use 'exit', 'quit', or Ctrl-D.\", stacklevel=1)\n"
     ]
    }
   ],
   "source": [
    "if __name__ == '__main__':\n",
    "    main(download_many, DEFAULT_CONCUR_REQ, MAX_CONCUR_REQ)"
   ]
  },
  {
   "cell_type": "code",
   "execution_count": 9,
   "id": "09ae387c-3004-421a-958e-29ab49c6518f",
   "metadata": {},
   "outputs": [
    {
     "name": "stdout",
     "output_type": "stream",
     "text": [
      "def main(download_many, default_concur_req, max_concur_req):\n",
      "    args, cc_list = process_args(default_concur_req)\n",
      "    actual_req = min(args.max_req, max_concur_req, len(cc_list))\n",
      "    initial_report(cc_list, actual_req, args.server)\n",
      "    base_url = SERVERS[args.server]\n",
      "    t0 = time.time()\n",
      "    counter = download_many(cc_list, base_url, args.verbose, actual_req)\n",
      "    assert sum(counter.values()) == len(cc_list), \\\n",
      "        'some downloads are unaccounted for'\n",
      "    final_report(cc_list, counter, t0)\n",
      "\n"
     ]
    }
   ],
   "source": [
    "import inspect\n",
    "lines = inspect.getsource(main)\n",
    "print(lines)"
   ]
  },
  {
   "cell_type": "code",
   "execution_count": 10,
   "id": "725caf1b-2b09-49cf-a970-d8208061a5e1",
   "metadata": {},
   "outputs": [
    {
     "name": "stdout",
     "output_type": "stream",
     "text": [
      "def process_args(default_concur_req):\n",
      "    server_options = ', '.join(sorted(SERVERS))\n",
      "    parser = argparse.ArgumentParser(\n",
      "                description='Download flags for country codes. '\n",
      "                'Default: top 20 countries by population.')\n",
      "    parser.add_argument('cc', metavar='CC', nargs='*',\n",
      "                help='country code or 1st letter (eg. B for BA...BZ)')\n",
      "    parser.add_argument('-a', '--all', action='store_true',\n",
      "                help='get all available flags (AD to ZW)')\n",
      "    parser.add_argument('-e', '--every', action='store_true',\n",
      "                help='get flags for every possible code (AA...ZZ)')\n",
      "    parser.add_argument('-l', '--limit', metavar='N', type=int,\n",
      "                help='limit to N first codes', default=sys.maxsize)\n",
      "    parser.add_argument('-m', '--max_req', metavar='CONCURRENT', type=int,\n",
      "                default=default_concur_req,\n",
      "                help='maximum concurrent requests (default={})'\n",
      "                      .format(default_concur_req))\n",
      "    parser.add_argument('-s', '--server', metavar='LABEL',\n",
      "                default=DEFAULT_SERVER,\n",
      "                help='Server to hit; one of {} (default={})'\n",
      "                      .format(server_options, DEFAULT_SERVER))\n",
      "    parser.add_argument('-v', '--verbose', action='store_true',\n",
      "                help='output detailed progress info')\n",
      "    args = parser.parse_args()\n",
      "    if args.max_req < 1:\n",
      "        print('*** Usage error: --max_req CONCURRENT must be >= 1')\n",
      "        parser.print_usage()\n",
      "        sys.exit(1)\n",
      "    if args.limit < 1:\n",
      "        print('*** Usage error: --limit N must be >= 1')\n",
      "        parser.print_usage()\n",
      "        sys.exit(1)\n",
      "    args.server = args.server.upper()\n",
      "    if args.server not in SERVERS:\n",
      "        print('*** Usage error: --server LABEL must be one of',\n",
      "              server_options)\n",
      "        parser.print_usage()\n",
      "        sys.exit(1)\n",
      "    try:\n",
      "        cc_list = expand_cc_args(args.every, args.all, args.cc, args.limit)\n",
      "    except ValueError as exc:\n",
      "        print(exc.args[0])\n",
      "        parser.print_usage()\n",
      "        sys.exit(1)\n",
      "\n",
      "    if not cc_list:\n",
      "        cc_list = sorted(POP20_CC)\n",
      "    return args, cc_list \n",
      "\n"
     ]
    }
   ],
   "source": [
    "process_as = inspect.getsource(process_args)\n",
    "print(process_as)"
   ]
  },
  {
   "cell_type": "code",
   "execution_count": 11,
   "id": "22a14ef6-f33a-432b-9fc3-0821894aa294",
   "metadata": {},
   "outputs": [
    {
     "name": "stdout",
     "output_type": "stream",
     "text": [
      "def save_flag(img, filename):\n",
      "    path = os.path.join(DEST_DIR, filename)\n",
      "    with open(path, 'wb') as fp:\n",
      "        fp.write(img)\n",
      "\n"
     ]
    }
   ],
   "source": [
    "saves = inspect.getsource(save_flag)\n",
    "print(saves)"
   ]
  },
  {
   "cell_type": "code",
   "execution_count": 12,
   "id": "5a4f0e56-ba83-4c9d-8839-2ab164485de5",
   "metadata": {},
   "outputs": [
    {
     "data": {
      "text/plain": [
       "'C:\\\\Users\\\\Ivo\\\\Downloads\\\\Genius\\\\fluent_python\\\\17-futures\\\\countries\\\\flags2_common'"
      ]
     },
     "execution_count": 12,
     "metadata": {},
     "output_type": "execute_result"
    }
   ],
   "source": [
    "DEST_DIR"
   ]
  }
 ],
 "metadata": {
  "kernelspec": {
   "display_name": "Python 3 (ipykernel)",
   "language": "python",
   "name": "python3"
  },
  "language_info": {
   "codemirror_mode": {
    "name": "ipython",
    "version": 3
   },
   "file_extension": ".py",
   "mimetype": "text/x-python",
   "name": "python",
   "nbconvert_exporter": "python",
   "pygments_lexer": "ipython3",
   "version": "3.10.2"
  }
 },
 "nbformat": 4,
 "nbformat_minor": 5
}
