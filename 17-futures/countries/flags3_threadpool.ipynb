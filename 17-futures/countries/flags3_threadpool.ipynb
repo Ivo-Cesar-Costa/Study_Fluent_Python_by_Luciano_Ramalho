{
 "cells": [
  {
   "cell_type": "code",
   "execution_count": 1,
   "id": "492a47ae-333d-42d6-acf5-9f149e00d026",
   "metadata": {},
   "outputs": [
    {
     "name": "stdout",
     "output_type": "stream",
     "text": [
      "importing Jupyter notebook from flags2_sequential.ipynb\n"
     ]
    }
   ],
   "source": [
    "import collections\n",
    "from concurrent import futures\n",
    "\n",
    "import requests\n",
    "import tqdm\n",
    "import import_ipynb\n",
    "%run flags2_common.ipynb import main, save_flag, HTTPStatus, Result\n",
    "from flags2_sequential import get_flag"
   ]
  },
  {
   "cell_type": "code",
   "execution_count": 2,
   "id": "eebb0acb-c866-49d6-a95f-9e1ddd04f0bf",
   "metadata": {},
   "outputs": [],
   "source": [
    "DEFAULT_CONCUR_REQ = 30\n",
    "MAX_CONCUR_REQ = 1000"
   ]
  },
  {
   "cell_type": "code",
   "execution_count": 3,
   "id": "d8de708b-6d6c-4f98-96ed-65b0e3f769e7",
   "metadata": {},
   "outputs": [],
   "source": [
    "def get_country(base_url, cc):\n",
    "    url = '{}/{cc}/metadata.json'.format(base_url, cc=cc.lower())\n",
    "    res = requests.get(url)\n",
    "    if res.status_code != 200:\n",
    "        res.raise_for_status()\n",
    "    return res.json()['country']"
   ]
  },
  {
   "cell_type": "code",
   "execution_count": 4,
   "id": "3b18e602-9857-454c-aa84-e692dd0bb691",
   "metadata": {},
   "outputs": [],
   "source": [
    "def download_one(cc, base_url, verbose=False):\n",
    "    try:\n",
    "        image = get_flag(base_url, cc)\n",
    "        country = get_country(base_url, cc)\n",
    "    except requests.exceptions.HTTPError as exc:\n",
    "        res = exc.response\n",
    "        if res.status_code == 404:\n",
    "            status = HTTPStatus.not_found\n",
    "            msg = 'not found'\n",
    "        else:  # <4>\n",
    "            raise\n",
    "    else:\n",
    "        country = country.replace(' ', '_')\n",
    "        save_flag(image, '{}-{}.gif'.format(country, cc))\n",
    "        status = HTTPStatus.ok\n",
    "        msg = 'OK'\n",
    "\n",
    "    if verbose:\n",
    "        print(cc, msg)\n",
    "\n",
    "    return Result(status, cc)"
   ]
  },
  {
   "cell_type": "code",
   "execution_count": 5,
   "id": "a0868b78-ed85-4e59-b9a5-17490455e4c4",
   "metadata": {},
   "outputs": [],
   "source": [
    "def download_many(cc_list, base_url, verbose, concur_req):\n",
    "    counter = collections.Counter()\n",
    "    with futures.ThreadPoolExecutor(concur_req) as executor:\n",
    "        to_do_map = {}\n",
    "        for cc in sorted(cc_list):\n",
    "            future = executor.submit(download_one,\n",
    "                            cc, base_url, verbose)\n",
    "            to_do_map[future] = cc\n",
    "        to_do_iter = futures.as_completed(to_do_map)\n",
    "        if not verbose:\n",
    "            to_do_iter = tqdm.tqdm(to_do_iter, total=len(cc_list))\n",
    "        for future in to_do_iter:\n",
    "            try:\n",
    "                res = future.result()\n",
    "            except requests.exceptions.HTTPError as exc:\n",
    "                error_msg = 'HTTP {res.status_code} - {res.reason}'\n",
    "                error_msg = error_msg.format(res=exc.response)\n",
    "            except requests.exceptions.ConnectionError as exc:\n",
    "                error_msg = 'Connection error'\n",
    "            else:\n",
    "                error_msg = ''\n",
    "                status = res.status\n",
    "\n",
    "            if error_msg:\n",
    "                status = HTTPStatus.error\n",
    "            counter[status] += 1\n",
    "            if verbose and error_msg:\n",
    "                cc = to_do_map[future]\n",
    "                print('*** Error for {}: {}'.format(cc, error_msg))\n",
    "\n",
    "    return counter"
   ]
  },
  {
   "cell_type": "code",
   "execution_count": 6,
   "id": "e1f2bd93-be2d-459d-ac4d-3bcf80d17c42",
   "metadata": {},
   "outputs": [
    {
     "name": "stderr",
     "output_type": "stream",
     "text": [
      "usage: ipykernel_launcher.py [-h] [-a] [-e] [-l N] [-m CONCURRENT] [-s LABEL] [-v] [CC ...]\n",
      "ipykernel_launcher.py: error: unrecognized arguments: -f\n"
     ]
    },
    {
     "ename": "SystemExit",
     "evalue": "2",
     "output_type": "error",
     "traceback": [
      "An exception has occurred, use %tb to see the full traceback.\n",
      "\u001b[1;31mSystemExit\u001b[0m\u001b[1;31m:\u001b[0m 2\n"
     ]
    },
    {
     "name": "stderr",
     "output_type": "stream",
     "text": [
      "C:\\Users\\Ivo\\AppData\\Local\\Programs\\Python\\Python310\\lib\\site-packages\\IPython\\core\\interactiveshell.py:3259: UserWarning: To exit: use 'exit', 'quit', or Ctrl-D.\n",
      "  warn(\"To exit: use 'exit', 'quit', or Ctrl-D.\", stacklevel=1)\n"
     ]
    }
   ],
   "source": [
    "if __name__ == '__main__':\n",
    "    main(download_many, DEFAULT_CONCUR_REQ, MAX_CONCUR_REQ)"
   ]
  }
 ],
 "metadata": {
  "kernelspec": {
   "display_name": "Python 3 (ipykernel)",
   "language": "python",
   "name": "python3"
  },
  "language_info": {
   "codemirror_mode": {
    "name": "ipython",
    "version": 3
   },
   "file_extension": ".py",
   "mimetype": "text/x-python",
   "name": "python",
   "nbconvert_exporter": "python",
   "pygments_lexer": "ipython3",
   "version": "3.10.2"
  }
 },
 "nbformat": 4,
 "nbformat_minor": 5
}
