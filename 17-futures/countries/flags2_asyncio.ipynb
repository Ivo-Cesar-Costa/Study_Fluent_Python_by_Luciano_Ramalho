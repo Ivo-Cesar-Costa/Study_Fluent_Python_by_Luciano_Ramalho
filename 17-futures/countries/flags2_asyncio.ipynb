{
 "cells": [
  {
   "cell_type": "code",
   "execution_count": 1,
   "id": "351acf75-1cf1-4165-82e0-e9eca5c70fd8",
   "metadata": {},
   "outputs": [],
   "source": [
    "import asyncio\n",
    "import collections\n",
    "import contextlib\n",
    "\n",
    "import aiohttp\n",
    "from aiohttp import web\n",
    "import tqdm\n",
    "\n",
    "#from flags2_common import main, HTTPStatus, Result, save_flag\n",
    "%run flags2_common.ipynb import main, HTTPStatus, Result, save_flag"
   ]
  },
  {
   "cell_type": "code",
   "execution_count": 2,
   "id": "47d9698a-3cb2-4dc0-b65a-4d5925ebacd6",
   "metadata": {},
   "outputs": [],
   "source": [
    "DEFAULT_CONCUR_REQ = 5\n",
    "MAX_CONCUR_REQ = 1000"
   ]
  },
  {
   "cell_type": "code",
   "execution_count": 3,
   "id": "f34bc2ee-9ee1-4739-9500-d9d4d5aa713d",
   "metadata": {},
   "outputs": [],
   "source": [
    "class FetchError(Exception):  # <1>\n",
    "    def __init__(self, country_code):\n",
    "        self.country_code = country_code"
   ]
  },
  {
   "cell_type": "code",
   "execution_count": 4,
   "id": "355186f1-45dd-4ff6-8851-35cba76b87cd",
   "metadata": {},
   "outputs": [
    {
     "name": "stderr",
     "output_type": "stream",
     "text": [
      "C:\\Users\\Ivo\\AppData\\Local\\Temp\\ipykernel_1600\\907234227.py:2: DeprecationWarning: \"@coroutine\" decorator is deprecated since Python 3.8, use \"async def\" instead\n",
      "  def get_flag(base_url, cc): # <2>\n"
     ]
    }
   ],
   "source": [
    "@asyncio.coroutine\n",
    "def get_flag(base_url, cc): # <2>\n",
    "    url = '{}/{cc}/{cc}.gif'.format(base_url, cc=cc.lower())\n",
    "    resp = yield from aiohttp.request('GET', url)\n",
    "    with contextlib.closing(resp):\n",
    "        if resp.status == 200:\n",
    "            image = yield from resp.read()\n",
    "            return image\n",
    "        elif resp.status == 404:\n",
    "            raise web.HTTPNotFound()\n",
    "        else:\n",
    "            raise aiohttp.HttpProcessingError(\n",
    "                code=resp.status, message=resp.reason,\n",
    "                headers=resp.headers)"
   ]
  },
  {
   "cell_type": "code",
   "execution_count": 5,
   "id": "244a556a-6ea9-4876-b360-f67da0c6e4e7",
   "metadata": {},
   "outputs": [
    {
     "name": "stderr",
     "output_type": "stream",
     "text": [
      "C:\\Users\\Ivo\\AppData\\Local\\Temp\\ipykernel_1600\\1303436378.py:2: DeprecationWarning: \"@coroutine\" decorator is deprecated since Python 3.8, use \"async def\" instead\n",
      "  def download_one(cc, base_url, semaphore, verbose):  # <3>\n"
     ]
    }
   ],
   "source": [
    "@asyncio.coroutine\n",
    "def download_one(cc, base_url, semaphore, verbose):  # <3>\n",
    "    try:\n",
    "        with (yield from semaphore):  # <4>\n",
    "            image = yield from get_flag(base_url, cc)  # <5>\n",
    "    except web.HTTPNotFound:  # <6>\n",
    "        status = HTTPStatus.not_found\n",
    "        msg = 'not found'\n",
    "    except Exception as exc:\n",
    "        raise FetchError(cc) from exc  # <7>\n",
    "    else:\n",
    "        save_flag(image, cc.lower() + '.gif')  # <8>\n",
    "        status = HTTPStatus.ok\n",
    "        msg = 'OK'\n",
    "\n",
    "    if verbose and msg:\n",
    "        print(cc, msg)\n",
    "\n",
    "    return Result(status, cc)"
   ]
  },
  {
   "cell_type": "code",
   "execution_count": 6,
   "id": "028268df-3999-4e66-924d-ab2af834c897",
   "metadata": {},
   "outputs": [
    {
     "name": "stderr",
     "output_type": "stream",
     "text": [
      "C:\\Users\\Ivo\\AppData\\Local\\Temp\\ipykernel_1600\\2350976735.py:2: DeprecationWarning: \"@coroutine\" decorator is deprecated since Python 3.8, use \"async def\" instead\n",
      "  def downloader_coro(cc_list, base_url, verbose, concur_req):  # <1>\n"
     ]
    }
   ],
   "source": [
    "@asyncio.coroutine\n",
    "def downloader_coro(cc_list, base_url, verbose, concur_req):  # <1>\n",
    "    counter = collections.Counter()\n",
    "    semaphore = asyncio.Semaphore(concur_req)  # <2>\n",
    "    to_do = [download_one(cc, base_url, semaphore, verbose)\n",
    "             for cc in sorted(cc_list)]  # <3>\n",
    "\n",
    "    to_do_iter = asyncio.as_completed(to_do)  # <4>\n",
    "    if not verbose:\n",
    "        to_do_iter = tqdm.tqdm(to_do_iter, total=len(cc_list))  # <5>\n",
    "    for future in to_do_iter:  # <6>\n",
    "        try:\n",
    "            res = yield from future  # <7>\n",
    "        except FetchError as exc:  # <8>\n",
    "            country_code = exc.country_code  # <9>\n",
    "            try:\n",
    "                error_msg = exc.__cause__.args[0]  # <10>\n",
    "            except IndexError:\n",
    "                error_msg = exc.__cause__.__class__.__name__  # <11>\n",
    "            if verbose and error_msg:\n",
    "                msg = '*** Error for {}: {}'\n",
    "                print(msg.format(country_code, error_msg))\n",
    "            status = HTTPStatus.error\n",
    "        else:\n",
    "            status = res.status\n",
    "\n",
    "        counter[status] += 1  # <12>\n",
    "\n",
    "    return counter  # <13>"
   ]
  },
  {
   "cell_type": "code",
   "execution_count": 7,
   "id": "c91c3467-f5a0-4661-bbcf-5784f751e016",
   "metadata": {},
   "outputs": [],
   "source": [
    "def download_many(cc_list, base_url, verbose, concur_req):\n",
    "    loop = asyncio.get_event_loop()\n",
    "    coro = downloader_coro(cc_list, base_url, verbose, concur_req)\n",
    "    counts = loop.run_until_complete(coro)  # <14>\n",
    "    loop.close()  # <15>\n",
    "\n",
    "    return counts"
   ]
  },
  {
   "cell_type": "code",
   "execution_count": 8,
   "id": "7e8b654e-996d-4f1c-8f15-388419984fc3",
   "metadata": {},
   "outputs": [
    {
     "name": "stderr",
     "output_type": "stream",
     "text": [
      "usage: ipykernel_launcher.py [-h] [-a] [-e] [-l N] [-m CONCURRENT] [-s LABEL] [-v] [CC ...]\n",
      "ipykernel_launcher.py: error: unrecognized arguments: -f\n"
     ]
    },
    {
     "ename": "SystemExit",
     "evalue": "2",
     "output_type": "error",
     "traceback": [
      "An exception has occurred, use %tb to see the full traceback.\n",
      "\u001b[1;31mSystemExit\u001b[0m\u001b[1;31m:\u001b[0m 2\n"
     ]
    },
    {
     "name": "stderr",
     "output_type": "stream",
     "text": [
      "C:\\Users\\Ivo\\AppData\\Local\\Programs\\Python\\Python310\\lib\\site-packages\\IPython\\core\\interactiveshell.py:3259: UserWarning: To exit: use 'exit', 'quit', or Ctrl-D.\n",
      "  warn(\"To exit: use 'exit', 'quit', or Ctrl-D.\", stacklevel=1)\n"
     ]
    }
   ],
   "source": [
    "if __name__ == '__main__':\n",
    "    main(download_many, DEFAULT_CONCUR_REQ, MAX_CONCUR_REQ)"
   ]
  }
 ],
 "metadata": {
  "kernelspec": {
   "display_name": "Python 3 (ipykernel)",
   "language": "python",
   "name": "python3"
  },
  "language_info": {
   "codemirror_mode": {
    "name": "ipython",
    "version": 3
   },
   "file_extension": ".py",
   "mimetype": "text/x-python",
   "name": "python",
   "nbconvert_exporter": "python",
   "pygments_lexer": "ipython3",
   "version": "3.10.2"
  }
 },
 "nbformat": 4,
 "nbformat_minor": 5
}
