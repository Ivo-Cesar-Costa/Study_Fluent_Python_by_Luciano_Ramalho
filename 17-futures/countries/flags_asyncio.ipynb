{
 "cells": [
  {
   "cell_type": "code",
   "execution_count": 1,
   "id": "493b4a19-fed6-411c-ac37-2cdfeacd5efe",
   "metadata": {},
   "outputs": [],
   "source": [
    "%%capture\n",
    "import asyncio\n",
    "\n",
    "import aiohttp  # <1>\n",
    "import import_ipynb\n",
    "%run flags.ipynb import BASE_URL, save_flag, show, main  # <2>"
   ]
  },
  {
   "cell_type": "code",
   "execution_count": 2,
   "id": "a0d7a787-2d9e-4cdd-b636-fe6ee4122fcb",
   "metadata": {},
   "outputs": [
    {
     "name": "stderr",
     "output_type": "stream",
     "text": [
      "C:\\Users\\Ivo\\AppData\\Local\\Temp\\ipykernel_10308\\3129637675.py:2: DeprecationWarning: \"@coroutine\" decorator is deprecated since Python 3.8, use \"async def\" instead\n",
      "  def get_flag(cc):\n"
     ]
    }
   ],
   "source": [
    "@asyncio.coroutine  # <3>\n",
    "def get_flag(cc):\n",
    "    url = '{}/{cc}/{cc}.gif'.format(BASE_URL, cc=cc.lower())\n",
    "    resp = yield from aiohttp.request('GET', url)  # <4>\n",
    "    image = yield from resp.read()  # <5>\n",
    "    return image"
   ]
  },
  {
   "cell_type": "code",
   "execution_count": 3,
   "id": "090d5a7d-ec54-4c00-ba44-76ee33723e66",
   "metadata": {},
   "outputs": [
    {
     "name": "stderr",
     "output_type": "stream",
     "text": [
      "C:\\Users\\Ivo\\AppData\\Local\\Temp\\ipykernel_10308\\1059873369.py:2: DeprecationWarning: \"@coroutine\" decorator is deprecated since Python 3.8, use \"async def\" instead\n",
      "  def download_one(cc):  # <6>\n"
     ]
    }
   ],
   "source": [
    "@asyncio.coroutine\n",
    "def download_one(cc):  # <6>\n",
    "    image = yield from get_flag(cc)  # <7>\n",
    "    show(cc)\n",
    "    save_flag(image, cc.lower() + '.gif')\n",
    "    return cc"
   ]
  },
  {
   "cell_type": "code",
   "execution_count": 4,
   "id": "bb329f43-a4e5-40d3-855d-7fd4c49d2ba8",
   "metadata": {},
   "outputs": [],
   "source": [
    "def download_many(cc_list):\n",
    "    loop = asyncio.get_event_loop()  # <8>\n",
    "    to_do = [download_one(cc) for cc in sorted(cc_list)]  # <9>\n",
    "    wait_coro = asyncio.wait(to_do)  # <10>\n",
    "    res, _ = loop.run_until_complete(wait_coro)  # <11>\n",
    "    loop.close() # <12>\n",
    "\n",
    "    return len(res)"
   ]
  },
  {
   "cell_type": "code",
   "execution_count": 5,
   "id": "236e65d5-ee11-4dc0-aaca-99802b5bdf2d",
   "metadata": {},
   "outputs": [],
   "source": [
    "if __name__ == '__main__':\n",
    "    main(download_many)"
   ]
  }
 ],
 "metadata": {
  "kernelspec": {
   "display_name": "Python 3 (ipykernel)",
   "language": "python",
   "name": "python3"
  },
  "language_info": {
   "codemirror_mode": {
    "name": "ipython",
    "version": 3
   },
   "file_extension": ".py",
   "mimetype": "text/x-python",
   "name": "python",
   "nbconvert_exporter": "python",
   "pygments_lexer": "ipython3",
   "version": "3.10.2"
  }
 },
 "nbformat": 4,
 "nbformat_minor": 5
}
