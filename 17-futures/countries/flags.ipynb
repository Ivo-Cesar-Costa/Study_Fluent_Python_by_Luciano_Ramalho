{
 "cells": [
  {
   "cell_type": "code",
   "execution_count": 1,
   "id": "46583e18-af61-41fe-82f1-1487e1a89cca",
   "metadata": {},
   "outputs": [],
   "source": [
    "import os\n",
    "import time\n",
    "import sys\n",
    "import requests  # <1>"
   ]
  },
  {
   "cell_type": "code",
   "execution_count": 2,
   "id": "5b51c05d-3924-4f44-a1c8-dbaa5f256515",
   "metadata": {},
   "outputs": [],
   "source": [
    "POP20_CC = ('CN IN US ID BR PK NG BD RU JP '\n",
    "            'MX PH VN ET EG DE IR TR CD FR').split()  # <2>\n",
    "BASE_URL = 'http://flupy.org/data/flags'  # <3>\n",
    "DEST_DIR = r'C:\\Users\\Ivo\\Downloads\\Genius\\fluent_python\\17-futures\\countries\\flags' #'downloads/'  # <4>"
   ]
  },
  {
   "cell_type": "code",
   "execution_count": 3,
   "id": "dc1920db-04fc-4bb3-a665-eb415e91add1",
   "metadata": {},
   "outputs": [],
   "source": [
    "def save_flag(img, filename):  # <5>\n",
    "    path = os.path.join(DEST_DIR, filename)\n",
    "    with open(path, 'wb') as fp:\n",
    "        fp.write(img)"
   ]
  },
  {
   "cell_type": "code",
   "execution_count": 4,
   "id": "2abac7d9-c48c-41f2-bb7e-ff6903ce5355",
   "metadata": {},
   "outputs": [],
   "source": [
    "def get_flag(cc):  # <6>\n",
    "    url = '{}/{cc}/{cc}.gif'.format(BASE_URL, cc=cc.lower())\n",
    "    resp = requests.get(url)\n",
    "    return resp.content"
   ]
  },
  {
   "cell_type": "code",
   "execution_count": 5,
   "id": "3cf59c93-ed05-497f-a0c8-1d0768dd28f8",
   "metadata": {},
   "outputs": [],
   "source": [
    "def show(text):  # <7>\n",
    "    print(text, end=' ')\n",
    "    sys.stdout.flush()"
   ]
  },
  {
   "cell_type": "code",
   "execution_count": 6,
   "id": "9e1006aa-14c2-44dc-9544-e50403231896",
   "metadata": {},
   "outputs": [],
   "source": [
    "def download_many(cc_list):  # <8>\n",
    "    for cc in sorted(cc_list):  # <9>\n",
    "        image = get_flag(cc)\n",
    "        show(cc)\n",
    "        save_flag(image, cc.lower() + '.gif')\n",
    "\n",
    "    return len(cc_list)"
   ]
  },
  {
   "cell_type": "code",
   "execution_count": 7,
   "id": "f89e56ba-dfbe-4b9f-97fa-3d559382a5b7",
   "metadata": {},
   "outputs": [],
   "source": [
    "def main(download_many):  # <10>\n",
    "    t0 = time.time()\n",
    "    count = download_many(POP20_CC)\n",
    "    elapsed = time.time() - t0\n",
    "    msg = '\\n{} flags downloaded in {:.2f}s'\n",
    "    print(msg.format(count, elapsed))"
   ]
  },
  {
   "cell_type": "code",
   "execution_count": 8,
   "id": "48d7d7da-23a3-4c80-adbf-2c3364c94ae7",
   "metadata": {},
   "outputs": [
    {
     "name": "stdout",
     "output_type": "stream",
     "text": [
      "BD BR CD CN DE EG ET FR ID IN IR JP MX NG PH PK RU TR US VN \n",
      "20 flags downloaded in 12.39s\n"
     ]
    }
   ],
   "source": [
    "if __name__ == '__main__':\n",
    "    main(download_many)"
   ]
  }
 ],
 "metadata": {
  "kernelspec": {
   "display_name": "Python 3 (ipykernel)",
   "language": "python",
   "name": "python3"
  },
  "language_info": {
   "codemirror_mode": {
    "name": "ipython",
    "version": 3
   },
   "file_extension": ".py",
   "mimetype": "text/x-python",
   "name": "python",
   "nbconvert_exporter": "python",
   "pygments_lexer": "ipython3",
   "version": "3.10.2"
  }
 },
 "nbformat": 4,
 "nbformat_minor": 5
}
