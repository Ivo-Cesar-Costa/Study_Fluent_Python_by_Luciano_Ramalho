{
 "cells": [
  {
   "cell_type": "code",
   "execution_count": 1,
   "id": "d0bfe43b-dcc9-4c00-aaee-8511c6b4613d",
   "metadata": {},
   "outputs": [
    {
     "name": "stdout",
     "output_type": "stream",
     "text": [
      "BD BR CD CN DE EG ET FR ID IN IR JP MX NG PH PK RU TR US VN \n",
      "20 flags downloaded in 11.12s\n"
     ]
    }
   ],
   "source": [
    "from concurrent import futures\n",
    "\n",
    "%run flags.ipynb import save_flag, get_flag, show, main  # <1>"
   ]
  },
  {
   "cell_type": "code",
   "execution_count": 2,
   "id": "82865eac-7115-4c73-b473-3a624838ca32",
   "metadata": {},
   "outputs": [],
   "source": [
    "MAX_WORKERS = 20  # <2>"
   ]
  },
  {
   "cell_type": "code",
   "execution_count": 3,
   "id": "d424d397-3339-4873-a957-16fa1b1c54ef",
   "metadata": {},
   "outputs": [],
   "source": [
    "def download_one(cc):  # <3>\n",
    "    image = get_flag(cc)\n",
    "    show(cc)\n",
    "    save_flag(image, cc.lower() + '.gif')\n",
    "    return cc"
   ]
  },
  {
   "cell_type": "code",
   "execution_count": 4,
   "id": "d1b80dbb-b93f-4699-8307-40748486a938",
   "metadata": {},
   "outputs": [],
   "source": [
    "def download_many(cc_list):\n",
    "    workers = min(MAX_WORKERS, len(cc_list))  # <4>\n",
    "    with futures.ThreadPoolExecutor(workers) as executor:  # <5>\n",
    "        res = executor.map(download_one, sorted(cc_list))  # <6>\n",
    "\n",
    "    return len(list(res))  # <7>"
   ]
  },
  {
   "cell_type": "code",
   "execution_count": 5,
   "id": "260f138c-a28b-4254-9d2f-1e08200651cd",
   "metadata": {},
   "outputs": [
    {
     "name": "stdout",
     "output_type": "stream",
     "text": [
      "PK ID JPRU  CN BD FR EGMXNG   INBR PH VNET TR   US CD IR DE \n",
      "20 flags downloaded in 1.44s\n"
     ]
    }
   ],
   "source": [
    "if __name__ == '__main__':\n",
    "    main(download_many)  # <8>"
   ]
  },
  {
   "cell_type": "code",
   "execution_count": 6,
   "id": "1fb1c80e-7908-4519-a60f-b41226c100e1",
   "metadata": {},
   "outputs": [
    {
     "name": "stdout",
     "output_type": "stream",
     "text": [
      "class ThreadPoolExecutor(_base.Executor):\n",
      "\n",
      "    # Used to assign unique thread names when thread_name_prefix is not supplied.\n",
      "    _counter = itertools.count().__next__\n",
      "\n",
      "    def __init__(self, max_workers=None, thread_name_prefix='',\n",
      "                 initializer=None, initargs=()):\n",
      "        \"\"\"Initializes a new ThreadPoolExecutor instance.\n",
      "\n",
      "        Args:\n",
      "            max_workers: The maximum number of threads that can be used to\n",
      "                execute the given calls.\n",
      "            thread_name_prefix: An optional name prefix to give our threads.\n",
      "            initializer: A callable used to initialize worker threads.\n",
      "            initargs: A tuple of arguments to pass to the initializer.\n",
      "        \"\"\"\n",
      "        if max_workers is None:\n",
      "            # ThreadPoolExecutor is often used to:\n",
      "            # * CPU bound task which releases GIL\n",
      "            # * I/O bound task (which releases GIL, of course)\n",
      "            #\n",
      "            # We use cpu_count + 4 for both types of tasks.\n",
      "            # But we limit it to 32 to avoid consuming surprisingly large resource\n",
      "            # on many core machine.\n",
      "            max_workers = min(32, (os.cpu_count() or 1) + 4)\n",
      "        if max_workers <= 0:\n",
      "            raise ValueError(\"max_workers must be greater than 0\")\n",
      "\n",
      "        if initializer is not None and not callable(initializer):\n",
      "            raise TypeError(\"initializer must be a callable\")\n",
      "\n",
      "        self._max_workers = max_workers\n",
      "        self._work_queue = queue.SimpleQueue()\n",
      "        self._idle_semaphore = threading.Semaphore(0)\n",
      "        self._threads = set()\n",
      "        self._broken = False\n",
      "        self._shutdown = False\n",
      "        self._shutdown_lock = threading.Lock()\n",
      "        self._thread_name_prefix = (thread_name_prefix or\n",
      "                                    (\"ThreadPoolExecutor-%d\" % self._counter()))\n",
      "        self._initializer = initializer\n",
      "        self._initargs = initargs\n",
      "\n",
      "    def submit(self, fn, /, *args, **kwargs):\n",
      "        with self._shutdown_lock, _global_shutdown_lock:\n",
      "            if self._broken:\n",
      "                raise BrokenThreadPool(self._broken)\n",
      "\n",
      "            if self._shutdown:\n",
      "                raise RuntimeError('cannot schedule new futures after shutdown')\n",
      "            if _shutdown:\n",
      "                raise RuntimeError('cannot schedule new futures after '\n",
      "                                   'interpreter shutdown')\n",
      "\n",
      "            f = _base.Future()\n",
      "            w = _WorkItem(f, fn, args, kwargs)\n",
      "\n",
      "            self._work_queue.put(w)\n",
      "            self._adjust_thread_count()\n",
      "            return f\n",
      "    submit.__doc__ = _base.Executor.submit.__doc__\n",
      "\n",
      "    def _adjust_thread_count(self):\n",
      "        # if idle threads are available, don't spin new threads\n",
      "        if self._idle_semaphore.acquire(timeout=0):\n",
      "            return\n",
      "\n",
      "        # When the executor gets lost, the weakref callback will wake up\n",
      "        # the worker threads.\n",
      "        def weakref_cb(_, q=self._work_queue):\n",
      "            q.put(None)\n",
      "\n",
      "        num_threads = len(self._threads)\n",
      "        if num_threads < self._max_workers:\n",
      "            thread_name = '%s_%d' % (self._thread_name_prefix or self,\n",
      "                                     num_threads)\n",
      "            t = threading.Thread(name=thread_name, target=_worker,\n",
      "                                 args=(weakref.ref(self, weakref_cb),\n",
      "                                       self._work_queue,\n",
      "                                       self._initializer,\n",
      "                                       self._initargs))\n",
      "            t.start()\n",
      "            self._threads.add(t)\n",
      "            _threads_queues[t] = self._work_queue\n",
      "\n",
      "    def _initializer_failed(self):\n",
      "        with self._shutdown_lock:\n",
      "            self._broken = ('A thread initializer failed, the thread pool '\n",
      "                            'is not usable anymore')\n",
      "            # Drain work queue and mark pending futures failed\n",
      "            while True:\n",
      "                try:\n",
      "                    work_item = self._work_queue.get_nowait()\n",
      "                except queue.Empty:\n",
      "                    break\n",
      "                if work_item is not None:\n",
      "                    work_item.future.set_exception(BrokenThreadPool(self._broken))\n",
      "\n",
      "    def shutdown(self, wait=True, *, cancel_futures=False):\n",
      "        with self._shutdown_lock:\n",
      "            self._shutdown = True\n",
      "            if cancel_futures:\n",
      "                # Drain all work items from the queue, and then cancel their\n",
      "                # associated futures.\n",
      "                while True:\n",
      "                    try:\n",
      "                        work_item = self._work_queue.get_nowait()\n",
      "                    except queue.Empty:\n",
      "                        break\n",
      "                    if work_item is not None:\n",
      "                        work_item.future.cancel()\n",
      "\n",
      "            # Send a wake-up to prevent threads calling\n",
      "            # _work_queue.get(block=True) from permanently blocking.\n",
      "            self._work_queue.put(None)\n",
      "        if wait:\n",
      "            for t in self._threads:\n",
      "                t.join()\n",
      "    shutdown.__doc__ = _base.Executor.shutdown.__doc__\n",
      "\n"
     ]
    }
   ],
   "source": [
    "import inspect\n",
    "lines = inspect.getsource(futures.ThreadPoolExecutor)\n",
    "print(lines)"
   ]
  }
 ],
 "metadata": {
  "kernelspec": {
   "display_name": "Python 3 (ipykernel)",
   "language": "python",
   "name": "python3"
  },
  "language_info": {
   "codemirror_mode": {
    "name": "ipython",
    "version": 3
   },
   "file_extension": ".py",
   "mimetype": "text/x-python",
   "name": "python",
   "nbconvert_exporter": "python",
   "pygments_lexer": "ipython3",
   "version": "3.10.2"
  }
 },
 "nbformat": 4,
 "nbformat_minor": 5
}
