{
 "cells": [
  {
   "cell_type": "code",
   "execution_count": 1,
   "id": "b4d53045-b2d1-486b-a6b4-bd84560749c7",
   "metadata": {},
   "outputs": [],
   "source": [
    "from array import array\n",
    "import math"
   ]
  },
  {
   "cell_type": "code",
   "execution_count": 2,
   "id": "b243ed87-d0db-4461-8053-78752d27878a",
   "metadata": {},
   "outputs": [],
   "source": [
    "class Vector2d:\n",
    "    typecode = 'd'\n",
    "\n",
    "    def __init__(self, x, y):\n",
    "        self.__x = float(x)  # <1>\n",
    "        self.__y = float(y)\n",
    "\n",
    "    @property  # <2>\n",
    "    def x(self):  # <3>\n",
    "        return self.__x  # <4>\n",
    "\n",
    "    @property  # <5>\n",
    "    def y(self):\n",
    "        return self.__y\n",
    "\n",
    "    def __iter__(self):\n",
    "        return (i for i in (self.x, self.y))  # <6>\n",
    "\n",
    "    # remaining methods follow (omitted in book listing)\n",
    "# END VECTOR2D_V3_PROP\n",
    "\n",
    "    def __repr__(self):\n",
    "        class_name = type(self).__name__\n",
    "        return '{}({!r}, {!r})'.format(class_name, *self)\n",
    "\n",
    "    def __str__(self):\n",
    "        return str(tuple(self))\n",
    "\n",
    "    def __bytes__(self):\n",
    "        return (bytes([ord(self.typecode)]) +\n",
    "                bytes(array(self.typecode, self)))\n",
    "\n",
    "    def __eq__(self, other):\n",
    "        return tuple(self) == tuple(other)\n",
    "\n",
    "# BEGIN VECTOR_V3_HASH\n",
    "    def __hash__(self):\n",
    "        return hash(self.x) ^ hash(self.y)\n",
    "# END VECTOR_V3_HASH\n",
    "\n",
    "    def __abs__(self):\n",
    "        return math.hypot(self.x, self.y)\n",
    "\n",
    "    def __bool__(self):\n",
    "        return bool(abs(self))\n",
    "\n",
    "    def angle(self):\n",
    "        return math.atan2(self.y, self.x)\n",
    "\n",
    "    def __format__(self, fmt_spec=''):\n",
    "        if fmt_spec.endswith('p'):\n",
    "            fmt_spec = fmt_spec[:-1]\n",
    "            coords = (abs(self), self.angle())\n",
    "            outer_fmt = '<{}, {}>'\n",
    "        else:\n",
    "            coords = self\n",
    "            outer_fmt = '({}, {})'\n",
    "        components = (format(c, fmt_spec) for c in coords)\n",
    "        return outer_fmt.format(*components)\n",
    "    \n",
    "    @classmethod\n",
    "    def frombytes(cls, octets):\n",
    "        typecode = chr(octets[0])\n",
    "        memv = memoryview(octets[1:]).cast(typecode)\n",
    "        return cls(*memv)"
   ]
  },
  {
   "cell_type": "markdown",
   "id": "63d686aa-70ab-448d-b3c3-106d5bb61434",
   "metadata": {},
   "source": [
    "#### A 2-dimensional vector class"
   ]
  },
  {
   "cell_type": "code",
   "execution_count": 3,
   "id": "2a4df60d-2dea-49eb-9466-98dccf0546b7",
   "metadata": {},
   "outputs": [
    {
     "name": "stdout",
     "output_type": "stream",
     "text": [
      "3.0 4.0\n"
     ]
    }
   ],
   "source": [
    ">>> v1 = Vector2d(3, 4)\n",
    ">>> print(v1.x, v1.y)"
   ]
  },
  {
   "cell_type": "code",
   "execution_count": 4,
   "id": "1dcca026-19cc-400d-88cd-aaf59dd8fdc1",
   "metadata": {},
   "outputs": [
    {
     "data": {
      "text/plain": [
       "(3.0, 4.0)"
      ]
     },
     "execution_count": 4,
     "metadata": {},
     "output_type": "execute_result"
    }
   ],
   "source": [
    ">>> x, y = v1\n",
    ">>> x, y"
   ]
  },
  {
   "cell_type": "code",
   "execution_count": 5,
   "id": "5264b452-b237-43e7-a979-24888a63e0d5",
   "metadata": {},
   "outputs": [
    {
     "data": {
      "text/plain": [
       "Vector2d(3.0, 4.0)"
      ]
     },
     "execution_count": 5,
     "metadata": {},
     "output_type": "execute_result"
    }
   ],
   "source": [
    ">>> v1"
   ]
  },
  {
   "cell_type": "code",
   "execution_count": 6,
   "id": "b27c843d-a15d-4072-accf-9f19a291e8d5",
   "metadata": {},
   "outputs": [
    {
     "data": {
      "text/plain": [
       "True"
      ]
     },
     "execution_count": 6,
     "metadata": {},
     "output_type": "execute_result"
    }
   ],
   "source": [
    ">>> v1_clone = eval(repr(v1))\n",
    ">>> v1 == v1_clone"
   ]
  },
  {
   "cell_type": "code",
   "execution_count": 7,
   "id": "ef9f0f22-d246-4c68-973d-6dce0d737145",
   "metadata": {},
   "outputs": [
    {
     "name": "stdout",
     "output_type": "stream",
     "text": [
      "(3.0, 4.0)\n"
     ]
    }
   ],
   "source": [
    ">>> print(v1)"
   ]
  },
  {
   "cell_type": "code",
   "execution_count": 8,
   "id": "bc5a312d-e942-4a6d-bb4e-78f56aaca829",
   "metadata": {},
   "outputs": [
    {
     "data": {
      "text/plain": [
       "b'd\\x00\\x00\\x00\\x00\\x00\\x00\\x08@\\x00\\x00\\x00\\x00\\x00\\x00\\x10@'"
      ]
     },
     "execution_count": 8,
     "metadata": {},
     "output_type": "execute_result"
    }
   ],
   "source": [
    ">>> octets = bytes(v1)\n",
    ">>> octets"
   ]
  },
  {
   "cell_type": "code",
   "execution_count": 9,
   "id": "b676a5f9-c99a-46b5-8f0f-f8d2e1532498",
   "metadata": {},
   "outputs": [
    {
     "data": {
      "text/plain": [
       "5.0"
      ]
     },
     "execution_count": 9,
     "metadata": {},
     "output_type": "execute_result"
    }
   ],
   "source": [
    ">>> abs(v1)"
   ]
  },
  {
   "cell_type": "code",
   "execution_count": 10,
   "id": "43a1976b-9f16-4990-8f88-d7685b9762eb",
   "metadata": {},
   "outputs": [
    {
     "data": {
      "text/plain": [
       "(True, False)"
      ]
     },
     "execution_count": 10,
     "metadata": {},
     "output_type": "execute_result"
    }
   ],
   "source": [
    ">>> bool(v1), bool(Vector2d(0, 0))"
   ]
  },
  {
   "cell_type": "markdown",
   "id": "b2385481-d464-4a0a-8523-ddf0285f5808",
   "metadata": {},
   "source": [
    "#### Test of ``.frombytes()`` class method:"
   ]
  },
  {
   "cell_type": "code",
   "execution_count": 11,
   "id": "e514f38a-fb35-4a06-b07e-7378bf496d8d",
   "metadata": {},
   "outputs": [],
   "source": [
    "v1_clone = Vector2d.frombytes(bytes(v1))"
   ]
  },
  {
   "cell_type": "code",
   "execution_count": 12,
   "id": "25ccb79e-eb1f-4119-a377-731090d48d9c",
   "metadata": {},
   "outputs": [
    {
     "data": {
      "text/plain": [
       "Vector2d(3.0, 4.0)"
      ]
     },
     "execution_count": 12,
     "metadata": {},
     "output_type": "execute_result"
    }
   ],
   "source": [
    ">>> v1_clone"
   ]
  },
  {
   "cell_type": "code",
   "execution_count": 13,
   "id": "868b704b-4670-4a30-ae28-ea70becd2342",
   "metadata": {},
   "outputs": [
    {
     "data": {
      "text/plain": [
       "True"
      ]
     },
     "execution_count": 13,
     "metadata": {},
     "output_type": "execute_result"
    }
   ],
   "source": [
    ">>> v1 == v1_clone"
   ]
  },
  {
   "cell_type": "markdown",
   "id": "a03ac27b-ea52-4c18-8ba2-4e70c95cf4f8",
   "metadata": {},
   "source": [
    "#### Tests of ``format()`` with Cartesian coordinates:"
   ]
  },
  {
   "cell_type": "code",
   "execution_count": 14,
   "id": "10e3da8a-b6b5-41fe-bbb1-564eef420476",
   "metadata": {},
   "outputs": [
    {
     "data": {
      "text/plain": [
       "'(3.0, 4.0)'"
      ]
     },
     "execution_count": 14,
     "metadata": {},
     "output_type": "execute_result"
    }
   ],
   "source": [
    ">>> format(v1)"
   ]
  },
  {
   "cell_type": "code",
   "execution_count": 15,
   "id": "2afc0750-05f8-41a5-9c8c-1bb856d37fb6",
   "metadata": {},
   "outputs": [
    {
     "data": {
      "text/plain": [
       "'(3.00, 4.00)'"
      ]
     },
     "execution_count": 15,
     "metadata": {},
     "output_type": "execute_result"
    }
   ],
   "source": [
    ">>> format(v1, '.2f')"
   ]
  },
  {
   "cell_type": "code",
   "execution_count": 16,
   "id": "765dff90-47b8-4503-b626-071b38b294c3",
   "metadata": {},
   "outputs": [
    {
     "data": {
      "text/plain": [
       "'(3.000e+00, 4.000e+00)'"
      ]
     },
     "execution_count": 16,
     "metadata": {},
     "output_type": "execute_result"
    }
   ],
   "source": [
    ">>> format(v1, '.3e')"
   ]
  },
  {
   "cell_type": "markdown",
   "id": "5911f066-f3b5-49ca-8835-607279eb1af9",
   "metadata": {},
   "source": [
    "#### Tests of the ``angle`` method::"
   ]
  },
  {
   "cell_type": "code",
   "execution_count": 17,
   "id": "3174aa1a-6e7c-4262-81f8-0d6df4066a7a",
   "metadata": {},
   "outputs": [
    {
     "data": {
      "text/plain": [
       "0.0"
      ]
     },
     "execution_count": 17,
     "metadata": {},
     "output_type": "execute_result"
    }
   ],
   "source": [
    ">>> Vector2d(0, 0).angle()"
   ]
  },
  {
   "cell_type": "code",
   "execution_count": 18,
   "id": "083036ff-0c3a-454e-821b-180f22dd1700",
   "metadata": {},
   "outputs": [
    {
     "data": {
      "text/plain": [
       "0.0"
      ]
     },
     "execution_count": 18,
     "metadata": {},
     "output_type": "execute_result"
    }
   ],
   "source": [
    ">>> Vector2d(1, 0).angle()"
   ]
  },
  {
   "cell_type": "code",
   "execution_count": 19,
   "id": "75050d92-e867-44d0-9485-88c34736d539",
   "metadata": {},
   "outputs": [
    {
     "data": {
      "text/plain": [
       "True"
      ]
     },
     "execution_count": 19,
     "metadata": {},
     "output_type": "execute_result"
    }
   ],
   "source": [
    ">>> epsilon = 10**-8\n",
    ">>> abs(Vector2d(0, 1).angle() - math.pi/2) < epsilon"
   ]
  },
  {
   "cell_type": "code",
   "execution_count": 20,
   "id": "998664c0-2047-4957-9ad8-bb66c4d29a6d",
   "metadata": {},
   "outputs": [
    {
     "data": {
      "text/plain": [
       "True"
      ]
     },
     "execution_count": 20,
     "metadata": {},
     "output_type": "execute_result"
    }
   ],
   "source": [
    ">>> abs(Vector2d(1, 1).angle() - math.pi/4) < epsilon"
   ]
  },
  {
   "cell_type": "markdown",
   "id": "a5fd1360-0fbc-44ac-8639-b4d306090c27",
   "metadata": {},
   "source": [
    "#### Tests of ``format()`` with polar coordinates:"
   ]
  },
  {
   "cell_type": "code",
   "execution_count": 21,
   "id": "6dbb912c-93e7-41c4-98fa-3ba873943e71",
   "metadata": {},
   "outputs": [
    {
     "data": {
      "text/plain": [
       "'<1.4142135623730951, 0.7853981633974483>'"
      ]
     },
     "execution_count": 21,
     "metadata": {},
     "output_type": "execute_result"
    }
   ],
   "source": [
    ">>> format(Vector2d(1, 1), 'p')  # doctest:+ELLIPSIS"
   ]
  },
  {
   "cell_type": "code",
   "execution_count": 22,
   "id": "96a0e48e-f107-4fd6-b1e4-ea63518fd245",
   "metadata": {},
   "outputs": [
    {
     "data": {
      "text/plain": [
       "'<1.414e+00, 7.854e-01>'"
      ]
     },
     "execution_count": 22,
     "metadata": {},
     "output_type": "execute_result"
    }
   ],
   "source": [
    ">>> format(Vector2d(1, 1), '.3ep')"
   ]
  },
  {
   "cell_type": "code",
   "execution_count": 23,
   "id": "edbbf658-6307-471d-9a01-254e0e6fb09d",
   "metadata": {},
   "outputs": [
    {
     "data": {
      "text/plain": [
       "'<1.41421, 0.78540>'"
      ]
     },
     "execution_count": 23,
     "metadata": {},
     "output_type": "execute_result"
    }
   ],
   "source": [
    ">>> format(Vector2d(1, 1), '0.5fp')"
   ]
  },
  {
   "cell_type": "markdown",
   "id": "b9ca95b6-fe0f-461c-8f3a-9a260136cf8f",
   "metadata": {},
   "source": [
    "#### Tests of `x` and `y` read-only properties:"
   ]
  },
  {
   "cell_type": "code",
   "execution_count": 24,
   "id": "00056223-4afa-4317-9c95-cbf35f9c020c",
   "metadata": {},
   "outputs": [
    {
     "data": {
      "text/plain": [
       "(3.0, 4.0)"
      ]
     },
     "execution_count": 24,
     "metadata": {},
     "output_type": "execute_result"
    }
   ],
   "source": [
    ">>> v1.x, v1.y"
   ]
  },
  {
   "cell_type": "code",
   "execution_count": 25,
   "id": "de32d482-f2a2-4d81-9b33-7b969c05cb20",
   "metadata": {},
   "outputs": [
    {
     "ename": "AttributeError",
     "evalue": "can't set attribute 'x'",
     "output_type": "error",
     "traceback": [
      "\u001b[1;31m---------------------------------------------------------------------------\u001b[0m",
      "\u001b[1;31mAttributeError\u001b[0m                            Traceback (most recent call last)",
      "Input \u001b[1;32mIn [25]\u001b[0m, in \u001b[0;36m<module>\u001b[1;34m\u001b[0m\n\u001b[1;32m----> 1\u001b[0m v1\u001b[38;5;241m.\u001b[39mx \u001b[38;5;241m=\u001b[39m \u001b[38;5;241m123\u001b[39m\n",
      "\u001b[1;31mAttributeError\u001b[0m: can't set attribute 'x'"
     ]
    }
   ],
   "source": [
    ">>> v1.x = 123"
   ]
  },
  {
   "cell_type": "markdown",
   "id": "ce44c378-0f11-4d9b-a675-cafba816a134",
   "metadata": {},
   "source": [
    "#### Tests of hashing:"
   ]
  },
  {
   "cell_type": "code",
   "execution_count": 26,
   "id": "9b27f627-9bf2-4c91-b17c-e68e69b250ef",
   "metadata": {},
   "outputs": [
    {
     "data": {
      "text/plain": [
       "(7, 384307168202284039)"
      ]
     },
     "execution_count": 26,
     "metadata": {},
     "output_type": "execute_result"
    }
   ],
   "source": [
    ">>> v1 = Vector2d(3, 4)\n",
    ">>> v2 = Vector2d(3.1, 4.2)\n",
    ">>> hash(v1), hash(v2)"
   ]
  },
  {
   "cell_type": "code",
   "execution_count": 27,
   "id": "cc091d2e-7618-42e6-9d95-fd2456d85741",
   "metadata": {},
   "outputs": [
    {
     "data": {
      "text/plain": [
       "2"
      ]
     },
     "execution_count": 27,
     "metadata": {},
     "output_type": "execute_result"
    }
   ],
   "source": [
    ">>> len(set([v1, v2]))"
   ]
  }
 ],
 "metadata": {
  "kernelspec": {
   "display_name": "Python 3 (ipykernel)",
   "language": "python",
   "name": "python3"
  },
  "language_info": {
   "codemirror_mode": {
    "name": "ipython",
    "version": 3
   },
   "file_extension": ".py",
   "mimetype": "text/x-python",
   "name": "python",
   "nbconvert_exporter": "python",
   "pygments_lexer": "ipython3",
   "version": "3.10.2"
  }
 },
 "nbformat": 4,
 "nbformat_minor": 5
}
