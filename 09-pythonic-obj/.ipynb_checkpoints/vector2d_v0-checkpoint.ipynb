{
 "cells": [
  {
   "cell_type": "code",
   "execution_count": 1,
   "id": "d75d959b-381d-408a-839d-64043042da22",
   "metadata": {},
   "outputs": [],
   "source": [
    "from array import array\n",
    "import math"
   ]
  },
  {
   "cell_type": "code",
   "execution_count": 2,
   "id": "dab65659-aead-4438-a5ce-61fa4fc35f25",
   "metadata": {},
   "outputs": [],
   "source": [
    "class Vector2d:\n",
    "    typecode = 'd'  # <1>\n",
    "\n",
    "    def __init__(self, x, y):\n",
    "        self.x = float(x)    # <2>\n",
    "        self.y = float(y)\n",
    "\n",
    "    def __iter__(self):\n",
    "        return (i for i in (self.x, self.y))  # <3>\n",
    "\n",
    "    def __repr__(self):\n",
    "        class_name = type(self).__name__\n",
    "        return '{}({!r}, {!r})'.format(class_name, *self)  # <4>\n",
    "\n",
    "    def __str__(self):\n",
    "        return str(tuple(self))  # <5>\n",
    "\n",
    "    def __bytes__(self):\n",
    "        return (bytes([ord(self.typecode)]) +  # <6>\n",
    "                bytes(array(self.typecode, self)))  # <7>\n",
    "\n",
    "    def __eq__(self, other):\n",
    "        return tuple(self) == tuple(other)  # <8>\n",
    "\n",
    "    def __abs__(self):\n",
    "        return math.hypot(self.x, self.y)  # <9>\n",
    "\n",
    "    def __bool__(self):\n",
    "        return bool(abs(self))  # <10>"
   ]
  },
  {
   "cell_type": "code",
   "execution_count": 7,
   "id": "8151c890-cccc-41c7-9b89-2991f464ac4f",
   "metadata": {},
   "outputs": [
    {
     "name": "stdout",
     "output_type": "stream",
     "text": [
      "3.0 4.0\n"
     ]
    }
   ],
   "source": [
    ">>> v1 = Vector2d(3, 4)\n",
    ">>> print(v1.x, v1.y)  # <1>"
   ]
  },
  {
   "cell_type": "code",
   "execution_count": 8,
   "id": "a99a4972-8825-4385-9560-3d4e10d510be",
   "metadata": {},
   "outputs": [
    {
     "data": {
      "text/plain": [
       "(3.0, 4.0)"
      ]
     },
     "execution_count": 8,
     "metadata": {},
     "output_type": "execute_result"
    }
   ],
   "source": [
    ">>> x, y = v1  # <2>\n",
    ">>> x, y"
   ]
  },
  {
   "cell_type": "code",
   "execution_count": 9,
   "id": "90ab1a9d-2c29-45a9-85ae-18a20cfb7982",
   "metadata": {},
   "outputs": [
    {
     "data": {
      "text/plain": [
       "Vector2d(3.0, 4.0)"
      ]
     },
     "execution_count": 9,
     "metadata": {},
     "output_type": "execute_result"
    }
   ],
   "source": [
    ">>> v1  # <3>"
   ]
  },
  {
   "cell_type": "code",
   "execution_count": 10,
   "id": "3002b746-93f4-4f55-90f2-b31f47db73e3",
   "metadata": {},
   "outputs": [
    {
     "data": {
      "text/plain": [
       "True"
      ]
     },
     "execution_count": 10,
     "metadata": {},
     "output_type": "execute_result"
    }
   ],
   "source": [
    ">>> v1_clone = eval(repr(v1))  # <4>\n",
    ">>> v1 == v1_clone  # <5>"
   ]
  },
  {
   "cell_type": "code",
   "execution_count": 15,
   "id": "9617d6bf-608e-49ed-92da-9b1f24529bc7",
   "metadata": {},
   "outputs": [
    {
     "name": "stdout",
     "output_type": "stream",
     "text": [
      "(3.0, 4.0)\n"
     ]
    }
   ],
   "source": [
    " >>> print(v1)  # <6>"
   ]
  },
  {
   "cell_type": "code",
   "execution_count": 16,
   "id": "683d634c-966e-49fd-b3b0-ae05f847429b",
   "metadata": {},
   "outputs": [],
   "source": [
    ">>> octets = bytes(v1)  # <7>\n",
    "    >>> octets"
   ]
  },
  {
   "cell_type": "code",
   "execution_count": null,
   "id": "68a4f9b5-ad56-4de8-a61d-638c04773886",
   "metadata": {},
   "outputs": [],
   "source": []
  }
 ],
 "metadata": {
  "kernelspec": {
   "display_name": "Python 3 (ipykernel)",
   "language": "python",
   "name": "python3"
  },
  "language_info": {
   "codemirror_mode": {
    "name": "ipython",
    "version": 3
   },
   "file_extension": ".py",
   "mimetype": "text/x-python",
   "name": "python",
   "nbconvert_exporter": "python",
   "pygments_lexer": "ipython3",
   "version": "3.10.2"
  }
 },
 "nbformat": 4,
 "nbformat_minor": 5
}
