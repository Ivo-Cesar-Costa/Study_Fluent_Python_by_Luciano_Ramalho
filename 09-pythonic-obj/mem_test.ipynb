{
 "cells": [
  {
   "cell_type": "code",
   "execution_count": 1,
   "id": "1c00ecf9-c73d-49da-a8b4-d03cda7cfbbb",
   "metadata": {},
   "outputs": [],
   "source": [
    "import importlib\n",
    "import sys\n",
    "import resource\n",
    "\n",
    "NUM_VECTORS = 10**7\n",
    "\n",
    "if len(sys.argv) == 2:\n",
    "    module_name = sys.argv[1].replace('.py', '')\n",
    "    module = importlib.import_module(module_name)\n",
    "else:\n",
    "    print('Usage: {} <vector-module-to-test>'.format())\n",
    "    sys.exit(1)\n",
    "\n",
    "fmt = 'Selected Vector2d type: {.__name__}.{.__name__}'\n",
    "print(fmt.format(module, module.Vector2d))\n",
    "\n",
    "mem_init = resource.getrusage(resource.RUSAGE_SELF).ru_maxrss\n",
    "print('Creating {:,} Vector2d instances'.format(NUM_VECTORS))\n",
    "\n",
    "vectors = [module.Vector2d(3.0, 4.0) for i in range(NUM_VECTORS)]\n",
    "\n",
    "mem_final = resource.getrusage(resource.RUSAGE_SELF).ru_maxrss\n",
    "print('Initial RAM usage: {:14,}'.format(mem_init))\n",
    "print('  Final RAM usage: {:14,}'.format(mem_final))"
   ]
  }
 ],
 "metadata": {
  "kernelspec": {
   "display_name": "Python 3 (ipykernel)",
   "language": "python",
   "name": "python3"
  },
  "language_info": {
   "codemirror_mode": {
    "name": "ipython",
    "version": 3
   },
   "file_extension": ".py",
   "mimetype": "text/x-python",
   "name": "python",
   "nbconvert_exporter": "python",
   "pygments_lexer": "ipython3",
   "version": "3.10.2"
  }
 },
 "nbformat": 4,
 "nbformat_minor": 5
}
