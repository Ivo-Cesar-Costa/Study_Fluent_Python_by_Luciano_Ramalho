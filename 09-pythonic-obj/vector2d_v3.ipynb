{
 "cells": [
  {
   "cell_type": "code",
   "execution_count": 1,
   "id": "9ba0825e-39b6-4ab3-862a-133a52c30845",
   "metadata": {},
   "outputs": [],
   "source": [
    "from array import array\n",
    "import math"
   ]
  },
  {
   "cell_type": "code",
   "execution_count": 2,
   "id": "0f2ff0a1-b014-49d4-8cae-d2eeee42893b",
   "metadata": {},
   "outputs": [],
   "source": [
    "class Vector2d:\n",
    "    typecode = 'd'\n",
    "\n",
    "    def __init__(self, x, y):\n",
    "        self.__x = float(x)\n",
    "        self.__y = float(y)\n",
    "\n",
    "    @property\n",
    "    def x(self):\n",
    "        return self.__x\n",
    "\n",
    "    @property\n",
    "    def y(self):\n",
    "        return self.__y\n",
    "\n",
    "    def __iter__(self):\n",
    "        return (i for i in (self.x, self.y))\n",
    "\n",
    "    def __repr__(self):\n",
    "        class_name = type(self).__name__\n",
    "        return '{}({!r}, {!r})'.format(class_name, *self)\n",
    "\n",
    "    def __str__(self):\n",
    "        return str(tuple(self))\n",
    "\n",
    "    def __bytes__(self):\n",
    "        return (bytes([ord(self.typecode)]) +\n",
    "                bytes(array(self.typecode, self)))\n",
    "\n",
    "    def __eq__(self, other):\n",
    "        return tuple(self) == tuple(other)\n",
    "\n",
    "    def __hash__(self):\n",
    "        return hash(self.x) ^ hash(self.y)\n",
    "\n",
    "    def __abs__(self):\n",
    "        return math.hypot(self.x, self.y)\n",
    "\n",
    "    def __bool__(self):\n",
    "        return bool(abs(self))\n",
    "\n",
    "    def angle(self):\n",
    "        return math.atan2(self.y, self.x)\n",
    "\n",
    "    def __format__(self, fmt_spec=''):\n",
    "        if fmt_spec.endswith('p'):\n",
    "            fmt_spec = fmt_spec[:-1]\n",
    "            coords = (abs(self), self.angle())\n",
    "            outer_fmt = '<{}, {}>'\n",
    "        else:\n",
    "            coords = self\n",
    "            outer_fmt = '({}, {})'\n",
    "        components = (format(c, fmt_spec) for c in coords)\n",
    "        return outer_fmt.format(*components)\n",
    "    \n",
    "    @classmethod\n",
    "    def frombytes(cls, octets):\n",
    "        typecode = chr(octets[0])\n",
    "        memv = memoryview(octets[1:]).cast(typecode)\n",
    "        return cls(*memv)"
   ]
  },
  {
   "cell_type": "markdown",
   "id": "1d22f2c0-0cb3-44dd-aed1-75489624667d",
   "metadata": {},
   "source": [
    "#### A 2-dimensional vector class"
   ]
  },
  {
   "cell_type": "code",
   "execution_count": 3,
   "id": "323033c1-351e-44be-ac81-a6e2ad408ffd",
   "metadata": {},
   "outputs": [
    {
     "name": "stdout",
     "output_type": "stream",
     "text": [
      "3.0 4.0\n"
     ]
    }
   ],
   "source": [
    ">>> v1 = Vector2d(3, 4)\n",
    ">>> print(v1.x, v1.y)"
   ]
  },
  {
   "cell_type": "code",
   "execution_count": 4,
   "id": "00c1e508-07d3-40f9-9c80-e61b3aad5e62",
   "metadata": {},
   "outputs": [
    {
     "data": {
      "text/plain": [
       "(3.0, 4.0)"
      ]
     },
     "execution_count": 4,
     "metadata": {},
     "output_type": "execute_result"
    }
   ],
   "source": [
    ">>> x, y = v1\n",
    ">>> x, y"
   ]
  },
  {
   "cell_type": "code",
   "execution_count": 5,
   "id": "9e434912-3b67-454b-b44d-13b57995f781",
   "metadata": {},
   "outputs": [
    {
     "data": {
      "text/plain": [
       "Vector2d(3.0, 4.0)"
      ]
     },
     "execution_count": 5,
     "metadata": {},
     "output_type": "execute_result"
    }
   ],
   "source": [
    ">>> v1"
   ]
  },
  {
   "cell_type": "code",
   "execution_count": 6,
   "id": "aaa9d13d-3938-46c8-a8a9-b2fb55ca22f2",
   "metadata": {},
   "outputs": [
    {
     "data": {
      "text/plain": [
       "True"
      ]
     },
     "execution_count": 6,
     "metadata": {},
     "output_type": "execute_result"
    }
   ],
   "source": [
    ">>> v1_clone = eval(repr(v1))\n",
    ">>> v1 == v1_clone"
   ]
  },
  {
   "cell_type": "code",
   "execution_count": 7,
   "id": "320804c8-e6f3-4e46-a68b-b6211747d8bb",
   "metadata": {},
   "outputs": [
    {
     "name": "stdout",
     "output_type": "stream",
     "text": [
      "(3.0, 4.0)\n"
     ]
    }
   ],
   "source": [
    ">>> print(v1)"
   ]
  },
  {
   "cell_type": "code",
   "execution_count": 8,
   "id": "3a06e4ca-759f-48a1-86cb-e8986d42d532",
   "metadata": {},
   "outputs": [
    {
     "data": {
      "text/plain": [
       "b'd\\x00\\x00\\x00\\x00\\x00\\x00\\x08@\\x00\\x00\\x00\\x00\\x00\\x00\\x10@'"
      ]
     },
     "execution_count": 8,
     "metadata": {},
     "output_type": "execute_result"
    }
   ],
   "source": [
    ">>> octets = bytes(v1)\n",
    ">>> octets"
   ]
  },
  {
   "cell_type": "code",
   "execution_count": 9,
   "id": "11d3a278-6cc8-4bfb-ad69-b87ee269a360",
   "metadata": {},
   "outputs": [
    {
     "data": {
      "text/plain": [
       "5.0"
      ]
     },
     "execution_count": 9,
     "metadata": {},
     "output_type": "execute_result"
    }
   ],
   "source": [
    ">>> abs(v1)"
   ]
  },
  {
   "cell_type": "code",
   "execution_count": 10,
   "id": "f2aae683-6e0d-495c-bce8-3cb8ba3a60cc",
   "metadata": {},
   "outputs": [
    {
     "data": {
      "text/plain": [
       "(True, False)"
      ]
     },
     "execution_count": 10,
     "metadata": {},
     "output_type": "execute_result"
    }
   ],
   "source": [
    ">>> bool(v1), bool(Vector2d(0, 0))"
   ]
  },
  {
   "cell_type": "markdown",
   "id": "c027c703-8052-4cae-af92-4ff8494b9dd0",
   "metadata": {},
   "source": [
    "#### Test of ``.frombytes()`` class method:"
   ]
  },
  {
   "cell_type": "code",
   "execution_count": 11,
   "id": "24cd60bb-fb02-48ec-87ea-41102e8e3083",
   "metadata": {},
   "outputs": [],
   "source": [
    "v1_clone = Vector2d.frombytes(bytes(v1))"
   ]
  },
  {
   "cell_type": "code",
   "execution_count": 12,
   "id": "f735cd5f-fdf2-49e8-aafb-9c8e6c1190c5",
   "metadata": {},
   "outputs": [
    {
     "data": {
      "text/plain": [
       "Vector2d(3.0, 4.0)"
      ]
     },
     "execution_count": 12,
     "metadata": {},
     "output_type": "execute_result"
    }
   ],
   "source": [
    ">>> v1_clone"
   ]
  },
  {
   "cell_type": "code",
   "execution_count": 13,
   "id": "5afc1551-2027-40be-9eee-9bc382537036",
   "metadata": {},
   "outputs": [
    {
     "data": {
      "text/plain": [
       "True"
      ]
     },
     "execution_count": 13,
     "metadata": {},
     "output_type": "execute_result"
    }
   ],
   "source": [
    ">>> v1 == v1_clone"
   ]
  },
  {
   "cell_type": "markdown",
   "id": "3d9b99d6-cdc5-4811-b172-a924a9041e86",
   "metadata": {},
   "source": [
    "#### Tests of ``format()`` with Cartesian coordinates:"
   ]
  },
  {
   "cell_type": "code",
   "execution_count": 14,
   "id": "1cfffbf5-1c94-4919-8cb9-0bd4f970f3a6",
   "metadata": {},
   "outputs": [
    {
     "data": {
      "text/plain": [
       "'(3.0, 4.0)'"
      ]
     },
     "execution_count": 14,
     "metadata": {},
     "output_type": "execute_result"
    }
   ],
   "source": [
    ">>> format(v1)"
   ]
  },
  {
   "cell_type": "code",
   "execution_count": 15,
   "id": "3cac7f16-1aa6-47e4-844a-9e489f203e4e",
   "metadata": {},
   "outputs": [
    {
     "data": {
      "text/plain": [
       "'(3.00, 4.00)'"
      ]
     },
     "execution_count": 15,
     "metadata": {},
     "output_type": "execute_result"
    }
   ],
   "source": [
    ">>> format(v1, '.2f')"
   ]
  },
  {
   "cell_type": "code",
   "execution_count": 16,
   "id": "d39bebbe-6d3e-49eb-aca1-9b296d42e89c",
   "metadata": {},
   "outputs": [
    {
     "data": {
      "text/plain": [
       "'(3.000e+00, 4.000e+00)'"
      ]
     },
     "execution_count": 16,
     "metadata": {},
     "output_type": "execute_result"
    }
   ],
   "source": [
    ">>> format(v1, '.3e')"
   ]
  },
  {
   "cell_type": "markdown",
   "id": "8b5d2b31-9295-4a4d-bb68-cb597bb10a61",
   "metadata": {},
   "source": [
    "#### Tests of the ``angle`` method::"
   ]
  },
  {
   "cell_type": "code",
   "execution_count": 17,
   "id": "0f42e05f-db60-4702-bf18-561272319a0f",
   "metadata": {},
   "outputs": [
    {
     "data": {
      "text/plain": [
       "0.0"
      ]
     },
     "execution_count": 17,
     "metadata": {},
     "output_type": "execute_result"
    }
   ],
   "source": [
    ">>> Vector2d(0, 0).angle()"
   ]
  },
  {
   "cell_type": "code",
   "execution_count": 18,
   "id": "3186f93e-81d8-4aa2-a979-f0c9d691c442",
   "metadata": {},
   "outputs": [
    {
     "data": {
      "text/plain": [
       "0.0"
      ]
     },
     "execution_count": 18,
     "metadata": {},
     "output_type": "execute_result"
    }
   ],
   "source": [
    ">>> Vector2d(1, 0).angle()"
   ]
  },
  {
   "cell_type": "code",
   "execution_count": 19,
   "id": "7bb30435-2916-4b1d-ae43-8f517b95e0cf",
   "metadata": {},
   "outputs": [
    {
     "data": {
      "text/plain": [
       "True"
      ]
     },
     "execution_count": 19,
     "metadata": {},
     "output_type": "execute_result"
    }
   ],
   "source": [
    ">>> epsilon = 10**-8\n",
    ">>> abs(Vector2d(0, 1).angle() - math.pi/2) < epsilon"
   ]
  },
  {
   "cell_type": "code",
   "execution_count": 20,
   "id": "4e3b0c2d-c287-470f-a041-3e6c89910a65",
   "metadata": {},
   "outputs": [
    {
     "data": {
      "text/plain": [
       "True"
      ]
     },
     "execution_count": 20,
     "metadata": {},
     "output_type": "execute_result"
    }
   ],
   "source": [
    ">>> abs(Vector2d(1, 1).angle() - math.pi/4) < epsilon"
   ]
  },
  {
   "cell_type": "markdown",
   "id": "77efba62-07d4-47fa-a568-9b370c441f7d",
   "metadata": {},
   "source": [
    "#### Tests of ``format()`` with polar coordinates:"
   ]
  },
  {
   "cell_type": "code",
   "execution_count": 21,
   "id": "4af5c387-38c7-4919-957a-d1ea1f7e33e6",
   "metadata": {},
   "outputs": [
    {
     "data": {
      "text/plain": [
       "'<1.4142135623730951, 0.7853981633974483>'"
      ]
     },
     "execution_count": 21,
     "metadata": {},
     "output_type": "execute_result"
    }
   ],
   "source": [
    ">>> format(Vector2d(1, 1), 'p')  # doctest:+ELLIPSIS"
   ]
  },
  {
   "cell_type": "code",
   "execution_count": 22,
   "id": "97457537-1b7c-4c5f-973f-68da6a0ec71a",
   "metadata": {},
   "outputs": [
    {
     "data": {
      "text/plain": [
       "'<1.414e+00, 7.854e-01>'"
      ]
     },
     "execution_count": 22,
     "metadata": {},
     "output_type": "execute_result"
    }
   ],
   "source": [
    ">>> format(Vector2d(1, 1), '.3ep')"
   ]
  },
  {
   "cell_type": "code",
   "execution_count": 23,
   "id": "c04652a7-2cf0-4372-8909-54a958e21465",
   "metadata": {},
   "outputs": [
    {
     "data": {
      "text/plain": [
       "'<1.41421, 0.78540>'"
      ]
     },
     "execution_count": 23,
     "metadata": {},
     "output_type": "execute_result"
    }
   ],
   "source": [
    ">>> format(Vector2d(1, 1), '0.5fp')"
   ]
  },
  {
   "cell_type": "markdown",
   "id": "f6a55d71-c68a-401e-ba68-0fb5aa99ef6a",
   "metadata": {},
   "source": [
    "#### Tests of `x` and `y` read-only properties:"
   ]
  },
  {
   "cell_type": "code",
   "execution_count": 24,
   "id": "1023413c-42ff-4043-9c18-3612e3c0ab27",
   "metadata": {},
   "outputs": [
    {
     "data": {
      "text/plain": [
       "(3.0, 4.0)"
      ]
     },
     "execution_count": 24,
     "metadata": {},
     "output_type": "execute_result"
    }
   ],
   "source": [
    ">>> v1.x, v1.y"
   ]
  },
  {
   "cell_type": "code",
   "execution_count": 25,
   "id": "8e57ff92-c6bb-473e-8d48-9d9a9d876521",
   "metadata": {},
   "outputs": [
    {
     "ename": "AttributeError",
     "evalue": "can't set attribute 'x'",
     "output_type": "error",
     "traceback": [
      "\u001b[1;31m---------------------------------------------------------------------------\u001b[0m",
      "\u001b[1;31mAttributeError\u001b[0m                            Traceback (most recent call last)",
      "Input \u001b[1;32mIn [25]\u001b[0m, in \u001b[0;36m<module>\u001b[1;34m\u001b[0m\n\u001b[1;32m----> 1\u001b[0m v1\u001b[38;5;241m.\u001b[39mx \u001b[38;5;241m=\u001b[39m \u001b[38;5;241m123\u001b[39m\n",
      "\u001b[1;31mAttributeError\u001b[0m: can't set attribute 'x'"
     ]
    }
   ],
   "source": [
    ">>> v1.x = 123"
   ]
  },
  {
   "cell_type": "markdown",
   "id": "c3497240-8b17-4f4a-88e4-063a884769a0",
   "metadata": {},
   "source": [
    "#### Tests of hashing:"
   ]
  },
  {
   "cell_type": "code",
   "execution_count": 26,
   "id": "557f2842-de3a-4bcc-9302-e4ee882da423",
   "metadata": {},
   "outputs": [
    {
     "data": {
      "text/plain": [
       "(7, 384307168202284039)"
      ]
     },
     "execution_count": 26,
     "metadata": {},
     "output_type": "execute_result"
    }
   ],
   "source": [
    ">>> v1 = Vector2d(3, 4)\n",
    ">>> v2 = Vector2d(3.1, 4.2)\n",
    ">>> hash(v1), hash(v2)"
   ]
  },
  {
   "cell_type": "code",
   "execution_count": 27,
   "id": "bdfa217a-0434-4960-9f9e-809b796f7335",
   "metadata": {},
   "outputs": [
    {
     "data": {
      "text/plain": [
       "2"
      ]
     },
     "execution_count": 27,
     "metadata": {},
     "output_type": "execute_result"
    }
   ],
   "source": [
    ">>> len(set([v1, v2]))"
   ]
  }
 ],
 "metadata": {
  "kernelspec": {
   "display_name": "Python 3 (ipykernel)",
   "language": "python",
   "name": "python3"
  },
  "language_info": {
   "codemirror_mode": {
    "name": "ipython",
    "version": 3
   },
   "file_extension": ".py",
   "mimetype": "text/x-python",
   "name": "python",
   "nbconvert_exporter": "python",
   "pygments_lexer": "ipython3",
   "version": "3.10.2"
  }
 },
 "nbformat": 4,
 "nbformat_minor": 5
}
