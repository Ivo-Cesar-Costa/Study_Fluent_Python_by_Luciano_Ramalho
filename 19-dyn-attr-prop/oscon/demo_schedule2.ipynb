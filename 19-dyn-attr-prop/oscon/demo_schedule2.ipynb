{
 "cells": [
  {
   "cell_type": "code",
   "execution_count": 1,
   "id": "4a6b983d-2b35-488f-b944-90ebe38122aa",
   "metadata": {},
   "outputs": [],
   "source": [
    "%%capture\n",
    "import shelve\n",
    "import import_ipynb\n",
    "\n",
    "# from schedule2 import DB_NAME, CONFERENCE, load_db\n",
    "# from schedule2 import DbRecord, Event\n",
    "%run schedule2.ipynb import DB_NAME, CONFERENCE, load_db, DbRecord, Event"
   ]
  },
  {
   "cell_type": "code",
   "execution_count": 2,
   "id": "9e386ea5-a28c-4714-b4d1-c6c0931f29b9",
   "metadata": {},
   "outputs": [
    {
     "name": "stdout",
     "output_type": "stream",
     "text": [
      "<Event 'There *Will* Be Bugs'>\n",
      "<DbRecord serial='venue.1449'>\n",
      "Portland 251\n",
      "speaker.3471: Anna Martelli Ravenscroft\n",
      "speaker.5199: Alex Martelli\n",
      "<property object at 0x000001F3655C0220>\n",
      "<Event 'Migrating to the Web Using Dart and Polymer - A Guide for Legacy OOP Developers'>\n",
      "<bound method DbRecord.fetch of <class '__main__.Event'>>\n",
      "<DbRecord serial='venue.1458'>\n"
     ]
    }
   ],
   "source": [
    "with shelve.open(DB_NAME) as db:\n",
    "    if CONFERENCE not in db:\n",
    "        load_db(db)\n",
    "    \n",
    "    DbRecord.set_db(db)\n",
    "    event = DbRecord.fetch('event.33950')\n",
    "    print(event)\n",
    "    print(event.venue)\n",
    "    print(event.venue.name)\n",
    "    for spkr in event.speakers:\n",
    "        print('{0.serial}: {0.name}'.format(spkr))\n",
    "        \n",
    "    print(repr(Event.venue))\n",
    "    \n",
    "    event2 = DbRecord.fetch('event.33451')\n",
    "    print(event2)\n",
    "    print(event2.fetch)\n",
    "    print(event2.venue)"
   ]
  }
 ],
 "metadata": {
  "kernelspec": {
   "display_name": "Python 3 (ipykernel)",
   "language": "python",
   "name": "python3"
  },
  "language_info": {
   "codemirror_mode": {
    "name": "ipython",
    "version": 3
   },
   "file_extension": ".py",
   "mimetype": "text/x-python",
   "name": "python",
   "nbconvert_exporter": "python",
   "pygments_lexer": "ipython3",
   "version": "3.10.2"
  }
 },
 "nbformat": 4,
 "nbformat_minor": 5
}
