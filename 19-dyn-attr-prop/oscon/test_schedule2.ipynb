{
 "cells": [
  {
   "cell_type": "code",
   "execution_count": 1,
   "id": "a4178867-ff5a-4f88-a369-c78c384c2a8e",
   "metadata": {},
   "outputs": [],
   "source": [
    "%%capture\n",
    "import os\n",
    "import shelve\n",
    "\n",
    "import pytest\n",
    "# import import_ipynb\n",
    "# import schedule2 as schedule\n",
    "%run schedule2.ipynb as schedule"
   ]
  },
  {
   "cell_type": "code",
   "execution_count": 2,
   "id": "7cde0095-b414-4bb9-bd54-df2a2bcf696e",
   "metadata": {},
   "outputs": [],
   "source": [
    "@pytest.fixture(scope='module')\n",
    "def db():\n",
    "    with shelve.open(DB_NAME) as the_db:\n",
    "        if schedule.CONFERENCE not in the_db:\n",
    "            schedule.load_db(the_db)\n",
    "        yield the_db\n",
    "        os.remove(DB_NAME)"
   ]
  },
  {
   "cell_type": "code",
   "execution_count": 3,
   "id": "69b00a0e-3719-44b6-9dc4-fa8fce0e7009",
   "metadata": {},
   "outputs": [],
   "source": [
    "def test_record_attr_access():\n",
    "    rec = schedule.Record(spam=99, eggs=12)\n",
    "    assert rec.spam == 99\n",
    "    assert rec.eggs == 12"
   ]
  },
  {
   "cell_type": "code",
   "execution_count": 4,
   "id": "0549464e-9edd-4f55-ba61-30121b9dec1b",
   "metadata": {},
   "outputs": [],
   "source": [
    "def test_record_repr():\n",
    "    rec = schedule.DbRecord(spam=99, eggs=12)\n",
    "    assert 'DbRecord object at 0x' in repr(rec)\n",
    "    rec2 = schedule.DbRecord(serial=13)\n",
    "    assert repr(rec2) == \"<DbRecord serial=13>\""
   ]
  },
  {
   "cell_type": "code",
   "execution_count": 5,
   "id": "12857594-dcf9-42f5-b4f5-be82e49e3720",
   "metadata": {},
   "outputs": [],
   "source": [
    "def test_conference_record(db):\n",
    "    assert schedule.CONFERENCE in db"
   ]
  },
  {
   "cell_type": "code",
   "execution_count": 6,
   "id": "7a86d2e6-eaf7-4473-9317-5835cae29f50",
   "metadata": {},
   "outputs": [],
   "source": [
    "def test_speaker_record(db):\n",
    "    speaker = db['speaker.3471']\n",
    "    assert speaker.name == 'Anna Martelli Ravenscroft'"
   ]
  },
  {
   "cell_type": "code",
   "execution_count": 7,
   "id": "1a3e99d6-e7e8-45bf-8eb7-f153dec72ecf",
   "metadata": {},
   "outputs": [],
   "source": [
    "def test_missing_db_exception():\n",
    "    with pytest.raises(schedule.MissingDatabaseError):\n",
    "        schedule.DbRecord.fetch('venue.1585')"
   ]
  },
  {
   "cell_type": "code",
   "execution_count": 8,
   "id": "a726f509-de21-49be-a47f-e64f779b4295",
   "metadata": {},
   "outputs": [],
   "source": [
    "def test_dbrecord(db):\n",
    "    schedule.DbRecord.set_db(db)\n",
    "    venue = schedule.DbRecord.fetch('venue.1585')\n",
    "    assert venue.name == 'Exhibit Hall B'"
   ]
  },
  {
   "cell_type": "code",
   "execution_count": 9,
   "id": "799c3028-dd1a-4a0a-9ae0-1a2ca1c1f059",
   "metadata": {},
   "outputs": [],
   "source": [
    "def test_event_record(db):\n",
    "    event = db['event.33950']\n",
    "    assert repr(event) == \"<Event 'There *Will* Be Bugs'>\""
   ]
  },
  {
   "cell_type": "code",
   "execution_count": 10,
   "id": "da945de2-ad42-4209-91f8-ba3589dace26",
   "metadata": {},
   "outputs": [],
   "source": [
    "def test_event_venue(db):\n",
    "    schedule.Event.set_db(db)\n",
    "    event = db['event.33950']\n",
    "    assert event.venue_serial == 1449\n",
    "    assert event.venue == db['venue.1449']\n",
    "    assert event.venue.name == 'Portland 251'"
   ]
  },
  {
   "cell_type": "code",
   "execution_count": 11,
   "id": "66ed6c21-ddeb-4caf-8cc4-8e868d10a199",
   "metadata": {},
   "outputs": [],
   "source": [
    "def test_event_speakers(db):\n",
    "    schedule.Event.set_db(db)\n",
    "    event = db['event.33950']\n",
    "    assert len(event.speakers) == 2\n",
    "    anna_and_alex = [db['speaker.3471'], db['speaker.5199']]\n",
    "    assert event.speakers == anna_and_alex"
   ]
  },
  {
   "cell_type": "code",
   "execution_count": 12,
   "id": "9d4a4be2-a1af-4228-8da8-b2a062f3dc21",
   "metadata": {},
   "outputs": [],
   "source": [
    "def test_event_no_speakers(db):\n",
    "    schedule.Event.set_db(db)\n",
    "    event = db['event.36848']\n",
    "    assert len(event.speakers) == 0"
   ]
  }
 ],
 "metadata": {
  "kernelspec": {
   "display_name": "Python 3 (ipykernel)",
   "language": "python",
   "name": "python3"
  },
  "language_info": {
   "codemirror_mode": {
    "name": "ipython",
    "version": 3
   },
   "file_extension": ".py",
   "mimetype": "text/x-python",
   "name": "python",
   "nbconvert_exporter": "python",
   "pygments_lexer": "ipython3",
   "version": "3.10.2"
  }
 },
 "nbformat": 4,
 "nbformat_minor": 5
}
