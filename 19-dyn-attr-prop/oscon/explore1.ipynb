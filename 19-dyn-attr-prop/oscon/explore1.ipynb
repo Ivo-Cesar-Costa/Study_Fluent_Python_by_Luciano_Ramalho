{
 "cells": [
  {
   "cell_type": "code",
   "execution_count": 1,
   "id": "b1a5d2e8-fc33-413a-aa48-15be0b57dfbb",
   "metadata": {},
   "outputs": [],
   "source": [
    "from collections import abc\n",
    "import keyword"
   ]
  },
  {
   "cell_type": "code",
   "execution_count": 2,
   "id": "a9935328-8225-4097-beb3-1c9e34a51113",
   "metadata": {},
   "outputs": [],
   "source": [
    "class FrozenJSON:\n",
    "    \"\"\"A read-only façade for navigating a JSON-like object\n",
    "       using attribute notation\n",
    "    \"\"\"\n",
    "\n",
    "# BEGIN EXPLORE1\n",
    "    def __init__(self, mapping):\n",
    "        self.__data = {}\n",
    "        for key, value in mapping.items():\n",
    "            if keyword.iskeyword(key):  # <1>\n",
    "                key += '_'\n",
    "            self.__data[key] = value\n",
    "# END EXPLORE1\n",
    "\n",
    "    def __getattr__(self, name):\n",
    "        if hasattr(self.__data, name):\n",
    "            return getattr(self.__data, name)\n",
    "        else:\n",
    "            return FrozenJSON.build(self.__data[name])\n",
    "\n",
    "    @classmethod\n",
    "    def build(cls, obj):\n",
    "        if isinstance(obj, abc.Mapping):\n",
    "            return cls(obj)\n",
    "        elif isinstance(obj, abc.MutableSequence):\n",
    "            return [cls.build(item) for item in obj]\n",
    "        else:  # <8>\n",
    "            return obj"
   ]
  },
  {
   "cell_type": "markdown",
   "id": "0d92622a-59d3-4e5e-9806-0d94fa349e42",
   "metadata": {},
   "source": [
    "#### explore1.py: Script to explore the OSCON schedule feed"
   ]
  },
  {
   "cell_type": "code",
   "execution_count": 3,
   "id": "bbebd35f-f4f0-40f3-86f7-e9b30a5c8518",
   "metadata": {},
   "outputs": [
    {
     "name": "stdout",
     "output_type": "stream",
     "text": [
      "importing Jupyter notebook from osconfeed.ipynb\n",
      "  1 conferences\n",
      "484 events\n",
      "357 speakers\n",
      " 53 venues\n"
     ]
    }
   ],
   "source": [
    "import import_ipynb\n",
    "from osconfeed import load"
   ]
  },
  {
   "cell_type": "code",
   "execution_count": 4,
   "id": "769c62bf-ae85-4f3e-a985-d9abaae865d6",
   "metadata": {},
   "outputs": [
    {
     "data": {
      "text/plain": [
       "357"
      ]
     },
     "execution_count": 4,
     "metadata": {},
     "output_type": "execute_result"
    }
   ],
   "source": [
    ">>> raw_feed = load()\n",
    ">>> feed = FrozenJSON(raw_feed)\n",
    ">>> len(feed.Schedule.speakers)"
   ]
  },
  {
   "cell_type": "code",
   "execution_count": 5,
   "id": "4ffb8546-78d2-4662-aab6-9a1ebd77d0a5",
   "metadata": {},
   "outputs": [
    {
     "data": {
      "text/plain": [
       "['conferences', 'events', 'speakers', 'venues']"
      ]
     },
     "execution_count": 5,
     "metadata": {},
     "output_type": "execute_result"
    }
   ],
   "source": [
    ">>> sorted(feed.Schedule.keys())"
   ]
  },
  {
   "cell_type": "code",
   "execution_count": 6,
   "id": "f2228583-90c2-4b33-af98-82245ac0b45d",
   "metadata": {},
   "outputs": [
    {
     "name": "stdout",
     "output_type": "stream",
     "text": [
      "  1 conferences\n",
      "484 events\n",
      "357 speakers\n",
      " 53 venues\n"
     ]
    }
   ],
   "source": [
    ">>> for key, value in sorted(feed.Schedule.items()):\n",
    "...     print('{:3} {}'.format(len(value), key))"
   ]
  },
  {
   "cell_type": "code",
   "execution_count": 7,
   "id": "3e879983-64f7-45d6-913e-4e1e714321c0",
   "metadata": {},
   "outputs": [
    {
     "data": {
      "text/plain": [
       "'Carina C. Zona'"
      ]
     },
     "execution_count": 7,
     "metadata": {},
     "output_type": "execute_result"
    }
   ],
   "source": [
    ">>> feed.Schedule.speakers[-1].name"
   ]
  },
  {
   "cell_type": "code",
   "execution_count": 8,
   "id": "4b948abd-f07a-4022-ad09-fb546ed755f1",
   "metadata": {},
   "outputs": [
    {
     "data": {
      "text/plain": [
       "__main__.FrozenJSON"
      ]
     },
     "execution_count": 8,
     "metadata": {},
     "output_type": "execute_result"
    }
   ],
   "source": [
    ">>> talk = feed.Schedule.events[40]\n",
    ">>> type(talk)"
   ]
  },
  {
   "cell_type": "code",
   "execution_count": 9,
   "id": "f97389b3-9fce-4577-ad99-d93b7f250ee5",
   "metadata": {},
   "outputs": [
    {
     "data": {
      "text/plain": [
       "'There *Will* Be Bugs'"
      ]
     },
     "execution_count": 9,
     "metadata": {},
     "output_type": "execute_result"
    }
   ],
   "source": [
    ">>> talk.name"
   ]
  },
  {
   "cell_type": "code",
   "execution_count": 10,
   "id": "0976850d-c191-49c7-a54e-eb721db75184",
   "metadata": {},
   "outputs": [
    {
     "data": {
      "text/plain": [
       "[3471, 5199]"
      ]
     },
     "execution_count": 10,
     "metadata": {},
     "output_type": "execute_result"
    }
   ],
   "source": [
    ">>> talk.speakers"
   ]
  },
  {
   "cell_type": "code",
   "execution_count": 11,
   "id": "322c4562-8aca-4643-8e10-d7cf4fd4cd74",
   "metadata": {},
   "outputs": [
    {
     "ename": "KeyError",
     "evalue": "'flavor'",
     "output_type": "error",
     "traceback": [
      "\u001b[1;31m---------------------------------------------------------------------------\u001b[0m",
      "\u001b[1;31mKeyError\u001b[0m                                  Traceback (most recent call last)",
      "Input \u001b[1;32mIn [11]\u001b[0m, in \u001b[0;36m<module>\u001b[1;34m\u001b[0m\n\u001b[1;32m----> 1\u001b[0m \u001b[43mtalk\u001b[49m\u001b[38;5;241;43m.\u001b[39;49m\u001b[43mflavor\u001b[49m\n",
      "Input \u001b[1;32mIn [2]\u001b[0m, in \u001b[0;36mFrozenJSON.__getattr__\u001b[1;34m(self, name)\u001b[0m\n\u001b[0;32m     17\u001b[0m     \u001b[38;5;28;01mreturn\u001b[39;00m \u001b[38;5;28mgetattr\u001b[39m(\u001b[38;5;28mself\u001b[39m\u001b[38;5;241m.\u001b[39m__data, name)\n\u001b[0;32m     18\u001b[0m \u001b[38;5;28;01melse\u001b[39;00m:\n\u001b[1;32m---> 19\u001b[0m     \u001b[38;5;28;01mreturn\u001b[39;00m FrozenJSON\u001b[38;5;241m.\u001b[39mbuild(\u001b[38;5;28;43mself\u001b[39;49m\u001b[38;5;241;43m.\u001b[39;49m\u001b[43m__data\u001b[49m\u001b[43m[\u001b[49m\u001b[43mname\u001b[49m\u001b[43m]\u001b[49m)\n",
      "\u001b[1;31mKeyError\u001b[0m: 'flavor'"
     ]
    }
   ],
   "source": [
    ">>> talk.flavor"
   ]
  },
  {
   "cell_type": "markdown",
   "id": "df588b22-aae0-45d4-8c43-c4000f9f4cca",
   "metadata": {},
   "source": [
    "#### Handle keywords by appending a `_`."
   ]
  },
  {
   "cell_type": "code",
   "execution_count": 12,
   "id": "eb23d420-9c0e-4e84-8602-700b898210c9",
   "metadata": {},
   "outputs": [
    {
     "data": {
      "text/plain": [
       "'Jim Bo'"
      ]
     },
     "execution_count": 12,
     "metadata": {},
     "output_type": "execute_result"
    }
   ],
   "source": [
    ">>> grad = FrozenJSON({'name': 'Jim Bo', 'class': 1982})\n",
    ">>> grad.name"
   ]
  },
  {
   "cell_type": "code",
   "execution_count": 13,
   "id": "b24d35b5-6f99-4ff6-bc5f-67c83784496e",
   "metadata": {},
   "outputs": [
    {
     "data": {
      "text/plain": [
       "1982"
      ]
     },
     "execution_count": 13,
     "metadata": {},
     "output_type": "execute_result"
    }
   ],
   "source": [
    ">>> grad.class_"
   ]
  }
 ],
 "metadata": {
  "kernelspec": {
   "display_name": "Python 3 (ipykernel)",
   "language": "python",
   "name": "python3"
  },
  "language_info": {
   "codemirror_mode": {
    "name": "ipython",
    "version": 3
   },
   "file_extension": ".py",
   "mimetype": "text/x-python",
   "name": "python",
   "nbconvert_exporter": "python",
   "pygments_lexer": "ipython3",
   "version": "3.10.2"
  }
 },
 "nbformat": 4,
 "nbformat_minor": 5
}
