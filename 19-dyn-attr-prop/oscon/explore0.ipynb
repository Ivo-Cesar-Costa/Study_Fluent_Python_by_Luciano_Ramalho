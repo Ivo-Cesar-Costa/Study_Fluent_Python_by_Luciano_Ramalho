{
 "cells": [
  {
   "cell_type": "code",
   "execution_count": 1,
   "id": "418cf2cb-dcc5-4a61-9384-ba2c2d9bc3ae",
   "metadata": {},
   "outputs": [],
   "source": [
    "from collections import abc"
   ]
  },
  {
   "cell_type": "code",
   "execution_count": 2,
   "id": "fd4e7cbd-fb4c-42ff-ab35-f694329b5686",
   "metadata": {},
   "outputs": [],
   "source": [
    "class FrozenJSON:\n",
    "    \"\"\"A read-only façade for navigating a JSON-like object\n",
    "       using attribute notation\n",
    "    \"\"\"\n",
    "\n",
    "    def __init__(self, mapping):\n",
    "        self.__data = dict(mapping)  # <1>\n",
    "\n",
    "    def __getattr__(self, name):  # <2>\n",
    "        if hasattr(self.__data, name):\n",
    "            return getattr(self.__data, name)  # <3>\n",
    "        else:\n",
    "            return FrozenJSON.build(self.__data[name])  # <4>\n",
    "\n",
    "    @classmethod\n",
    "    def build(cls, obj):  # <5>\n",
    "        if isinstance(obj, abc.Mapping):  # <6>\n",
    "            return cls(obj)\n",
    "        elif isinstance(obj, abc.MutableSequence):  # <7>\n",
    "            return [cls.build(item) for item in obj]\n",
    "        else:  # <8>\n",
    "            return obj"
   ]
  },
  {
   "cell_type": "markdown",
   "id": "386f35ea-ce84-492f-b3c9-3dea25b2c5c7",
   "metadata": {},
   "source": [
    "#### explore0.py: Script to explore the OSCON schedule feed"
   ]
  },
  {
   "cell_type": "code",
   "execution_count": 3,
   "id": "8a9331b3-7b60-440e-9995-ff898ba0a851",
   "metadata": {},
   "outputs": [
    {
     "name": "stdout",
     "output_type": "stream",
     "text": [
      "importing Jupyter notebook from osconfeed.ipynb\n",
      "  1 conferences\n",
      "484 events\n",
      "357 speakers\n",
      " 53 venues\n"
     ]
    }
   ],
   "source": [
    "import import_ipynb\n",
    "from osconfeed import load"
   ]
  },
  {
   "cell_type": "code",
   "execution_count": 4,
   "id": "e1a5399c-25a8-4b2b-93a7-c2044987e948",
   "metadata": {},
   "outputs": [
    {
     "data": {
      "text/plain": [
       "357"
      ]
     },
     "execution_count": 4,
     "metadata": {},
     "output_type": "execute_result"
    }
   ],
   "source": [
    "raw_feed = load()\n",
    "feed = FrozenJSON(raw_feed)  # <1>\n",
    "len(feed.Schedule.speakers)  # <2>"
   ]
  },
  {
   "cell_type": "code",
   "execution_count": 5,
   "id": "c7c30f8c-41ad-4b0c-a4ff-9a7802ab5c1a",
   "metadata": {},
   "outputs": [
    {
     "data": {
      "text/plain": [
       "['conferences', 'events', 'speakers', 'venues']"
      ]
     },
     "execution_count": 5,
     "metadata": {},
     "output_type": "execute_result"
    }
   ],
   "source": [
    ">>> sorted(feed.Schedule.keys())  # <3>"
   ]
  },
  {
   "cell_type": "code",
   "execution_count": 6,
   "id": "2a745aa0-31ca-4d6c-8ffa-4a85616a0446",
   "metadata": {},
   "outputs": [
    {
     "name": "stdout",
     "output_type": "stream",
     "text": [
      "  1 conferences\n",
      "484 events\n",
      "357 speakers\n",
      " 53 venues\n"
     ]
    }
   ],
   "source": [
    ">>> for key, value in sorted(feed.Schedule.items()): # <4>\n",
    "...     print('{:3} {}'.format(len(value), key))"
   ]
  },
  {
   "cell_type": "code",
   "execution_count": 7,
   "id": "22022f58-6e94-4455-859d-ae887bb4bab3",
   "metadata": {},
   "outputs": [
    {
     "data": {
      "text/plain": [
       "'Carina C. Zona'"
      ]
     },
     "execution_count": 7,
     "metadata": {},
     "output_type": "execute_result"
    }
   ],
   "source": [
    ">>> feed.Schedule.speakers[-1].name  # <5>"
   ]
  },
  {
   "cell_type": "code",
   "execution_count": 8,
   "id": "044ac9ca-f5cf-4170-8a25-f4d733fd277e",
   "metadata": {},
   "outputs": [
    {
     "data": {
      "text/plain": [
       "__main__.FrozenJSON"
      ]
     },
     "execution_count": 8,
     "metadata": {},
     "output_type": "execute_result"
    }
   ],
   "source": [
    ">>> talk = feed.Schedule.events[40]\n",
    ">>> type(talk)  # <6>"
   ]
  },
  {
   "cell_type": "code",
   "execution_count": 9,
   "id": "377fa02d-ef33-49d8-9cd7-fddd412509fe",
   "metadata": {},
   "outputs": [
    {
     "data": {
      "text/plain": [
       "'There *Will* Be Bugs'"
      ]
     },
     "execution_count": 9,
     "metadata": {},
     "output_type": "execute_result"
    }
   ],
   "source": [
    ">>> talk.name"
   ]
  },
  {
   "cell_type": "code",
   "execution_count": 10,
   "id": "0cbc00b0-c8cc-4a63-8f37-af3b305da7c8",
   "metadata": {},
   "outputs": [
    {
     "data": {
      "text/plain": [
       "[3471, 5199]"
      ]
     },
     "execution_count": 10,
     "metadata": {},
     "output_type": "execute_result"
    }
   ],
   "source": [
    ">>> talk.speakers  # <7>"
   ]
  },
  {
   "cell_type": "code",
   "execution_count": 11,
   "id": "148d9e97-5eb2-4236-b560-7b7d0f03a7e1",
   "metadata": {},
   "outputs": [
    {
     "ename": "KeyError",
     "evalue": "'flavor'",
     "output_type": "error",
     "traceback": [
      "\u001b[1;31m---------------------------------------------------------------------------\u001b[0m",
      "\u001b[1;31mKeyError\u001b[0m                                  Traceback (most recent call last)",
      "Input \u001b[1;32mIn [11]\u001b[0m, in \u001b[0;36m<module>\u001b[1;34m\u001b[0m\n\u001b[1;32m----> 1\u001b[0m \u001b[43mtalk\u001b[49m\u001b[38;5;241;43m.\u001b[39;49m\u001b[43mflavor\u001b[49m\n",
      "Input \u001b[1;32mIn [2]\u001b[0m, in \u001b[0;36mFrozenJSON.__getattr__\u001b[1;34m(self, name)\u001b[0m\n\u001b[0;32m     11\u001b[0m     \u001b[38;5;28;01mreturn\u001b[39;00m \u001b[38;5;28mgetattr\u001b[39m(\u001b[38;5;28mself\u001b[39m\u001b[38;5;241m.\u001b[39m__data, name)  \u001b[38;5;66;03m# <3>\u001b[39;00m\n\u001b[0;32m     12\u001b[0m \u001b[38;5;28;01melse\u001b[39;00m:\n\u001b[1;32m---> 13\u001b[0m     \u001b[38;5;28;01mreturn\u001b[39;00m FrozenJSON\u001b[38;5;241m.\u001b[39mbuild(\u001b[38;5;28;43mself\u001b[39;49m\u001b[38;5;241;43m.\u001b[39;49m\u001b[43m__data\u001b[49m\u001b[43m[\u001b[49m\u001b[43mname\u001b[49m\u001b[43m]\u001b[49m)\n",
      "\u001b[1;31mKeyError\u001b[0m: 'flavor'"
     ]
    }
   ],
   "source": [
    ">>> talk.flavor  # <8>"
   ]
  }
 ],
 "metadata": {
  "kernelspec": {
   "display_name": "Python 3 (ipykernel)",
   "language": "python",
   "name": "python3"
  },
  "language_info": {
   "codemirror_mode": {
    "name": "ipython",
    "version": 3
   },
   "file_extension": ".py",
   "mimetype": "text/x-python",
   "name": "python",
   "nbconvert_exporter": "python",
   "pygments_lexer": "ipython3",
   "version": "3.10.2"
  }
 },
 "nbformat": 4,
 "nbformat_minor": 5
}
