{
 "cells": [
  {
   "cell_type": "code",
   "execution_count": 1,
   "id": "47d830e6-1e50-400e-8cbf-36a03a0aaad0",
   "metadata": {},
   "outputs": [],
   "source": [
    "from collections import abc\n",
    "import keyword"
   ]
  },
  {
   "cell_type": "code",
   "execution_count": 2,
   "id": "225747d9-d45d-4618-ba97-d5c793282b7e",
   "metadata": {},
   "outputs": [],
   "source": [
    "class FrozenJSON:\n",
    "    \"\"\"A read-only façade for navigating a JSON-like object\n",
    "       using attribute notation\n",
    "    \"\"\"\n",
    "\n",
    "    def __new__(cls, arg):  # <1>\n",
    "        if isinstance(arg, abc.Mapping):\n",
    "            return super().__new__(cls)  # <2>\n",
    "        elif isinstance(arg, abc.MutableSequence):  # <3>\n",
    "            return [cls(item) for item in arg]\n",
    "        else:\n",
    "            return arg\n",
    "\n",
    "    def __init__(self, mapping):\n",
    "        self.__data = {}\n",
    "        for key, value in mapping.items():\n",
    "            if keyword.iskeyword(key):\n",
    "                key += '_'\n",
    "            self.__data[key] = value\n",
    "\n",
    "    def __getattr__(self, name):\n",
    "        if hasattr(self.__data, name):\n",
    "            return getattr(self.__data, name)\n",
    "        else:\n",
    "            return FrozenJSON(self.__data[name])  # <4>"
   ]
  },
  {
   "cell_type": "markdown",
   "id": "308bfb2d-9ad4-4d66-900e-0bac4c497a46",
   "metadata": {},
   "source": [
    "#### explore2.py: Script to explore the OSCON schedule feed"
   ]
  },
  {
   "cell_type": "code",
   "execution_count": 3,
   "id": "4e97b75f-6fb7-4f96-a857-5b7849a49a09",
   "metadata": {},
   "outputs": [
    {
     "name": "stdout",
     "output_type": "stream",
     "text": [
      "importing Jupyter notebook from osconfeed.ipynb\n",
      "  1 conferences\n",
      "484 events\n",
      "357 speakers\n",
      " 53 venues\n"
     ]
    }
   ],
   "source": [
    "import import_ipynb\n",
    "from osconfeed import load"
   ]
  },
  {
   "cell_type": "code",
   "execution_count": 4,
   "id": "1b6fa944-00aa-4725-885c-55b8bbfdc3df",
   "metadata": {},
   "outputs": [
    {
     "data": {
      "text/plain": [
       "357"
      ]
     },
     "execution_count": 4,
     "metadata": {},
     "output_type": "execute_result"
    }
   ],
   "source": [
    ">>> raw_feed = load()\n",
    ">>> feed = FrozenJSON(raw_feed)\n",
    ">>> len(feed.Schedule.speakers)"
   ]
  },
  {
   "cell_type": "code",
   "execution_count": 5,
   "id": "a2ea05df-39a1-45aa-bd38-f2a957a0e314",
   "metadata": {},
   "outputs": [
    {
     "data": {
      "text/plain": [
       "['conferences', 'events', 'speakers', 'venues']"
      ]
     },
     "execution_count": 5,
     "metadata": {},
     "output_type": "execute_result"
    }
   ],
   "source": [
    ">>> sorted(feed.Schedule.keys())"
   ]
  },
  {
   "cell_type": "code",
   "execution_count": 6,
   "id": "301112ca-1b59-4e42-8b37-07fa90be61c8",
   "metadata": {},
   "outputs": [
    {
     "data": {
      "text/plain": [
       "'Carina C. Zona'"
      ]
     },
     "execution_count": 6,
     "metadata": {},
     "output_type": "execute_result"
    }
   ],
   "source": [
    ">>> feed.Schedule.speakers[-1].name"
   ]
  },
  {
   "cell_type": "code",
   "execution_count": 7,
   "id": "82251f07-507a-488a-a6a3-738a5461bf6f",
   "metadata": {},
   "outputs": [
    {
     "data": {
      "text/plain": [
       "'There *Will* Be Bugs'"
      ]
     },
     "execution_count": 7,
     "metadata": {},
     "output_type": "execute_result"
    }
   ],
   "source": [
    ">>> talk = feed.Schedule.events[40]\n",
    ">>> talk.name"
   ]
  },
  {
   "cell_type": "code",
   "execution_count": 8,
   "id": "7d79c5f0-544c-45c0-b510-d4d345fd1f6b",
   "metadata": {},
   "outputs": [
    {
     "data": {
      "text/plain": [
       "[3471, 5199]"
      ]
     },
     "execution_count": 8,
     "metadata": {},
     "output_type": "execute_result"
    }
   ],
   "source": [
    ">>> talk.speakers"
   ]
  },
  {
   "cell_type": "code",
   "execution_count": 9,
   "id": "98c6ebd9-b163-4160-8594-670416343a06",
   "metadata": {},
   "outputs": [
    {
     "ename": "KeyError",
     "evalue": "'flavor'",
     "output_type": "error",
     "traceback": [
      "\u001b[1;31m---------------------------------------------------------------------------\u001b[0m",
      "\u001b[1;31mKeyError\u001b[0m                                  Traceback (most recent call last)",
      "Input \u001b[1;32mIn [9]\u001b[0m, in \u001b[0;36m<module>\u001b[1;34m\u001b[0m\n\u001b[1;32m----> 1\u001b[0m \u001b[43mtalk\u001b[49m\u001b[38;5;241;43m.\u001b[39;49m\u001b[43mflavor\u001b[49m\n",
      "Input \u001b[1;32mIn [2]\u001b[0m, in \u001b[0;36mFrozenJSON.__getattr__\u001b[1;34m(self, name)\u001b[0m\n\u001b[0;32m     23\u001b[0m     \u001b[38;5;28;01mreturn\u001b[39;00m \u001b[38;5;28mgetattr\u001b[39m(\u001b[38;5;28mself\u001b[39m\u001b[38;5;241m.\u001b[39m__data, name)\n\u001b[0;32m     24\u001b[0m \u001b[38;5;28;01melse\u001b[39;00m:\n\u001b[1;32m---> 25\u001b[0m     \u001b[38;5;28;01mreturn\u001b[39;00m FrozenJSON(\u001b[38;5;28;43mself\u001b[39;49m\u001b[38;5;241;43m.\u001b[39;49m\u001b[43m__data\u001b[49m\u001b[43m[\u001b[49m\u001b[43mname\u001b[49m\u001b[43m]\u001b[49m)\n",
      "\u001b[1;31mKeyError\u001b[0m: 'flavor'"
     ]
    }
   ],
   "source": [
    ">>> talk.flavor"
   ]
  }
 ],
 "metadata": {
  "kernelspec": {
   "display_name": "Python 3 (ipykernel)",
   "language": "python",
   "name": "python3"
  },
  "language_info": {
   "codemirror_mode": {
    "name": "ipython",
    "version": 3
   },
   "file_extension": ".py",
   "mimetype": "text/x-python",
   "name": "python",
   "nbconvert_exporter": "python",
   "pygments_lexer": "ipython3",
   "version": "3.10.2"
  }
 },
 "nbformat": 4,
 "nbformat_minor": 5
}
