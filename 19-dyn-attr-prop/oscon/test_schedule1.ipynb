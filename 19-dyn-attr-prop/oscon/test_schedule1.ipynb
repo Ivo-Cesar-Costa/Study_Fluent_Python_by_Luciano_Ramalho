{
 "cells": [
  {
   "cell_type": "code",
   "execution_count": 1,
   "id": "bb596d4d-80ec-4f1f-a151-efff19a871f9",
   "metadata": {},
   "outputs": [],
   "source": [
    "import os\n",
    "import shelve\n",
    "\n",
    "import pytest\n",
    "\n",
    "import import_ipynb\n",
    "%run schedule1.ipynb as schedule"
   ]
  },
  {
   "cell_type": "code",
   "execution_count": 2,
   "id": "dd489d03-5730-4fa3-a20b-02dd81df24af",
   "metadata": {},
   "outputs": [],
   "source": [
    "DB_NAME = 'data/test_db'"
   ]
  },
  {
   "cell_type": "code",
   "execution_count": 3,
   "id": "50482907-e054-43ac-9978-1972451f16c9",
   "metadata": {},
   "outputs": [],
   "source": [
    "@pytest.fixture(scope='module')\n",
    "def db():\n",
    "    with shelve.open(DB_NAME) as the_db:\n",
    "        if schedule.CONFERENCE not in the_db:\n",
    "            schedule.load_db(the_db)\n",
    "        yield the_db\n",
    "        os.remove(DB_NAME)"
   ]
  },
  {
   "cell_type": "code",
   "execution_count": 4,
   "id": "9dfda931-8e66-47b6-9d63-70058d42b517",
   "metadata": {},
   "outputs": [],
   "source": [
    "def test_record_class():\n",
    "    rec = schedule.Record(spam=99, eggs=12)\n",
    "    assert rec.spam == 99\n",
    "    assert rec.eggs == 12"
   ]
  },
  {
   "cell_type": "code",
   "execution_count": 5,
   "id": "4cb7e966-453e-40af-ad45-951281d0fea5",
   "metadata": {},
   "outputs": [],
   "source": [
    "def test_conference_record(db):\n",
    "    assert schedule.CONFERENCE in db"
   ]
  },
  {
   "cell_type": "code",
   "execution_count": 6,
   "id": "46a2c003-e58e-4eeb-b742-31169b5e0bac",
   "metadata": {},
   "outputs": [],
   "source": [
    "def test_speaker_record(db):\n",
    "    speaker = db['speaker.3471']\n",
    "    assert speaker.name == 'Anna Martelli Ravenscroft'"
   ]
  },
  {
   "cell_type": "code",
   "execution_count": 7,
   "id": "80b0e6e4-a9da-46ac-8ac6-8a0f7aecf686",
   "metadata": {},
   "outputs": [],
   "source": [
    "def test_event_record(db):\n",
    "    event = db['event.33950']\n",
    "    assert event.name == 'There *Will* Be Bugs'"
   ]
  },
  {
   "cell_type": "code",
   "execution_count": 8,
   "id": "4772a926-c726-473f-8a80-56b24f6b9cae",
   "metadata": {},
   "outputs": [],
   "source": [
    "def test_event_venue(db):\n",
    "    event = db['event.33950']\n",
    "    assert event.venue_serial == 1449"
   ]
  }
 ],
 "metadata": {
  "kernelspec": {
   "display_name": "Python 3 (ipykernel)",
   "language": "python",
   "name": "python3"
  },
  "language_info": {
   "codemirror_mode": {
    "name": "ipython",
    "version": 3
   },
   "file_extension": ".py",
   "mimetype": "text/x-python",
   "name": "python",
   "nbconvert_exporter": "python",
   "pygments_lexer": "ipython3",
   "version": "3.10.2"
  }
 },
 "nbformat": 4,
 "nbformat_minor": 5
}
