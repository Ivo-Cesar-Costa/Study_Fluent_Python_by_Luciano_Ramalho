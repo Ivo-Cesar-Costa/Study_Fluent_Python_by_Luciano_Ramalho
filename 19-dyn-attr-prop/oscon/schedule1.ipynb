{
 "cells": [
  {
   "cell_type": "code",
   "execution_count": 1,
   "id": "8696b7c9-a38a-4bbf-aee6-f0aa24348b7b",
   "metadata": {},
   "outputs": [],
   "source": [
    "%%capture\n",
    "import warnings\n",
    "\n",
    "import import_ipynb\n",
    "import osconfeed  # <1>\n",
    "\n",
    "DB_NAME = 'data/schedule1_db'\n",
    "CONFERENCE = 'conference.115'\n"
   ]
  },
  {
   "cell_type": "code",
   "execution_count": 2,
   "id": "804bc7ff-514e-4742-a424-960f4feaf6f9",
   "metadata": {},
   "outputs": [],
   "source": [
    "class Record:\n",
    "    def __init__(self, **kwargs):\n",
    "        self.__dict__.update(kwargs)  # <2>"
   ]
  },
  {
   "cell_type": "code",
   "execution_count": 3,
   "id": "4305bf7e-6162-4fec-9414-ca637b964be9",
   "metadata": {},
   "outputs": [],
   "source": [
    "def load_db(db):\n",
    "    raw_data = osconfeed.load()  # <3>\n",
    "    warnings.warn('loading ' + DB_NAME)\n",
    "    for collection, rec_list in raw_data['Schedule'].items():  # <4>\n",
    "        record_type = collection[:-1]  # <5>\n",
    "        for record in rec_list:\n",
    "            key = '{}.{}'.format(record_type, record['serial'])  # <6>\n",
    "            record['serial'] = key  # <7>\n",
    "            db[key] = Record(**record)  # <8>"
   ]
  },
  {
   "cell_type": "markdown",
   "id": "c4083b2a-4b4f-4bc2-a72b-8783ab2466af",
   "metadata": {},
   "source": [
    "#### schedule1.py: traversing OSCON schedule data"
   ]
  },
  {
   "cell_type": "code",
   "execution_count": 4,
   "id": "5915a8f7-df52-47e4-8373-283f2d40a428",
   "metadata": {},
   "outputs": [],
   "source": [
    ">>> import shelve\n",
    ">>> db = shelve.open(DB_NAME)  # <1>\n",
    ">>> if CONFERENCE not in db:  # <2>\n",
    "...     load_db(db)  # <3>"
   ]
  },
  {
   "cell_type": "code",
   "execution_count": 5,
   "id": "ded6cb6e-e893-43b2-833b-5f6dd6c0b738",
   "metadata": {},
   "outputs": [
    {
     "data": {
      "text/plain": [
       "__main__.Record"
      ]
     },
     "execution_count": 5,
     "metadata": {},
     "output_type": "execute_result"
    }
   ],
   "source": [
    ">>> speaker = db['speaker.3471']  # <4>\n",
    ">>> type(speaker)  # <5>"
   ]
  },
  {
   "cell_type": "code",
   "execution_count": 6,
   "id": "39b91576-eda9-4348-b9aa-f318ecbc78e2",
   "metadata": {},
   "outputs": [
    {
     "data": {
      "text/plain": [
       "('Anna Martelli Ravenscroft', 'annaraven')"
      ]
     },
     "execution_count": 6,
     "metadata": {},
     "output_type": "execute_result"
    }
   ],
   "source": [
    ">>> speaker.name, speaker.twitter  # <6>"
   ]
  },
  {
   "cell_type": "code",
   "execution_count": 7,
   "id": "e7905f31-2f88-43f6-9b67-6400d59915a7",
   "metadata": {},
   "outputs": [],
   "source": [
    ">>> db.close() "
   ]
  }
 ],
 "metadata": {
  "kernelspec": {
   "display_name": "Python 3 (ipykernel)",
   "language": "python",
   "name": "python3"
  },
  "language_info": {
   "codemirror_mode": {
    "name": "ipython",
    "version": 3
   },
   "file_extension": ".py",
   "mimetype": "text/x-python",
   "name": "python",
   "nbconvert_exporter": "python",
   "pygments_lexer": "ipython3",
   "version": "3.10.2"
  }
 },
 "nbformat": 4,
 "nbformat_minor": 5
}
