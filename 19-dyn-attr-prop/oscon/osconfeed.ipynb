{
 "cells": [
  {
   "cell_type": "code",
   "execution_count": 1,
   "id": "fdba63e9-3dd8-4339-8594-79dfacfafc1c",
   "metadata": {},
   "outputs": [],
   "source": [
    "from urllib.request import urlopen\n",
    "import warnings\n",
    "import os\n",
    "import json\n",
    "\n",
    "URL = 'http://www.oreilly.com/pub/sc/osconfeed'\n",
    "JSON = 'data/osconfeed.json'"
   ]
  },
  {
   "cell_type": "code",
   "execution_count": 2,
   "id": "08dc83b9-b3c5-48f5-9733-f0f6ed8fafb9",
   "metadata": {},
   "outputs": [],
   "source": [
    "def load():\n",
    "    if not os.path.exists(JSON):\n",
    "        msg = 'downloading {} to {}'.format(URL, JSON)\n",
    "        warnings.warn(msg)  # <1>\n",
    "        with urlopen(URL) as remote, open(JSON, 'wb') as local:  # <2>\n",
    "            local.write(remote.read())\n",
    "\n",
    "    with open(JSON) as fp:\n",
    "        return json.load(fp)  # <3>"
   ]
  },
  {
   "cell_type": "markdown",
   "id": "4da1b1a2-b72e-4b22-8d16-b1a4b1c4980d",
   "metadata": {},
   "source": [
    "#### osconfeed.py: Script to download the OSCON schedule feed"
   ]
  },
  {
   "cell_type": "code",
   "execution_count": 3,
   "id": "4c211819-46fa-43e0-acea-6a9e403863b0",
   "metadata": {},
   "outputs": [
    {
     "data": {
      "text/plain": [
       "['conferences', 'events', 'speakers', 'venues']"
      ]
     },
     "execution_count": 3,
     "metadata": {},
     "output_type": "execute_result"
    }
   ],
   "source": [
    ">>> feed = load()  # <1>\n",
    ">>> sorted(feed['Schedule'].keys())  # <2>"
   ]
  },
  {
   "cell_type": "code",
   "execution_count": 4,
   "id": "a1791661-fe97-41e8-9700-4fadfa09c71f",
   "metadata": {},
   "outputs": [
    {
     "name": "stdout",
     "output_type": "stream",
     "text": [
      "  1 conferences\n",
      "484 events\n",
      "357 speakers\n",
      " 53 venues\n"
     ]
    }
   ],
   "source": [
    ">>> for key, value in sorted(feed['Schedule'].items()):\n",
    "...     print('{:3} {}'.format(len(value), key))  # <3>"
   ]
  },
  {
   "cell_type": "code",
   "execution_count": 5,
   "id": "94dc2646-62bc-45a4-bf87-e59b6ac00bce",
   "metadata": {},
   "outputs": [
    {
     "data": {
      "text/plain": [
       "'Carina C. Zona'"
      ]
     },
     "execution_count": 5,
     "metadata": {},
     "output_type": "execute_result"
    }
   ],
   "source": [
    ">>> feed['Schedule']['speakers'][-1]['name']  # <4>"
   ]
  },
  {
   "cell_type": "code",
   "execution_count": 6,
   "id": "bda0b59c-43fc-48b4-b700-2495d024ccf2",
   "metadata": {},
   "outputs": [
    {
     "data": {
      "text/plain": [
       "141590"
      ]
     },
     "execution_count": 6,
     "metadata": {},
     "output_type": "execute_result"
    }
   ],
   "source": [
    ">>> feed['Schedule']['speakers'][-1]['serial']  # <5>"
   ]
  },
  {
   "cell_type": "code",
   "execution_count": 7,
   "id": "16e3ccb4-6b17-45ac-87d0-f7bb5df51b31",
   "metadata": {},
   "outputs": [
    {
     "data": {
      "text/plain": [
       "'There *Will* Be Bugs'"
      ]
     },
     "execution_count": 7,
     "metadata": {},
     "output_type": "execute_result"
    }
   ],
   "source": [
    ">>> feed['Schedule']['events'][40]['name']"
   ]
  },
  {
   "cell_type": "code",
   "execution_count": 8,
   "id": "b36a5993-34ff-40a0-a9a7-574119f4f815",
   "metadata": {},
   "outputs": [
    {
     "data": {
      "text/plain": [
       "[3471, 5199]"
      ]
     },
     "execution_count": 8,
     "metadata": {},
     "output_type": "execute_result"
    }
   ],
   "source": [
    ">>> feed['Schedule']['events'][40]['speakers']  # <6>"
   ]
  }
 ],
 "metadata": {
  "kernelspec": {
   "display_name": "Python 3 (ipykernel)",
   "language": "python",
   "name": "python3"
  },
  "language_info": {
   "codemirror_mode": {
    "name": "ipython",
    "version": 3
   },
   "file_extension": ".py",
   "mimetype": "text/x-python",
   "name": "python",
   "nbconvert_exporter": "python",
   "pygments_lexer": "ipython3",
   "version": "3.10.2"
  }
 },
 "nbformat": 4,
 "nbformat_minor": 5
}
