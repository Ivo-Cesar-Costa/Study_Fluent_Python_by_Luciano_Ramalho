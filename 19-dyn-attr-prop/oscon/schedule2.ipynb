{
 "cells": [
  {
   "cell_type": "code",
   "execution_count": 1,
   "id": "a810ce89-84fb-4c0c-8b7b-9a376f277fae",
   "metadata": {},
   "outputs": [],
   "source": [
    "%%capture\n",
    "import warnings\n",
    "import inspect  # <1>\n",
    "\n",
    "import import_ipynb\n",
    "import osconfeed\n",
    "\n",
    "DB_NAME = 'data/schedule2_db'  # <2>\n",
    "CONFERENCE = 'conference.115'"
   ]
  },
  {
   "cell_type": "code",
   "execution_count": 2,
   "id": "c82ba527-d765-49b5-8abb-3108eb6987a1",
   "metadata": {},
   "outputs": [],
   "source": [
    "class Record:\n",
    "    def __init__(self, **kwargs):\n",
    "        self.__dict__.update(kwargs)\n",
    "\n",
    "    def __eq__(self, other):  # <3>\n",
    "        if isinstance(other, Record):\n",
    "            return self.__dict__ == other.__dict__\n",
    "        else:\n",
    "            return NotImplemented"
   ]
  },
  {
   "cell_type": "code",
   "execution_count": 3,
   "id": "acf57264-6c99-404f-9905-a814efb36320",
   "metadata": {},
   "outputs": [],
   "source": [
    "class MissingDatabaseError(RuntimeError):\n",
    "    \"\"\"Raised when a database is required but was not set.\"\"\"  # <1>"
   ]
  },
  {
   "cell_type": "code",
   "execution_count": 4,
   "id": "53d8b5c0-8810-4d5d-bcbc-144cea036bea",
   "metadata": {},
   "outputs": [],
   "source": [
    "class DbRecord(Record):  # <2>\n",
    "\n",
    "    __db = None  # <3>\n",
    "\n",
    "    @staticmethod  # <4>\n",
    "    def set_db(db):\n",
    "        DbRecord.__db = db  # <5>\n",
    "\n",
    "    @staticmethod  # <6>\n",
    "    def get_db():\n",
    "        return DbRecord.__db\n",
    "\n",
    "    @classmethod  # <7>\n",
    "    def fetch(cls, ident):\n",
    "        db = cls.get_db()\n",
    "        try:\n",
    "            return db[ident]  # <8>\n",
    "        except TypeError:\n",
    "            if db is None:  # <9>\n",
    "                msg = \"database not set; call '{}.set_db(my_db)'\"\n",
    "                raise MissingDatabaseError(msg.format(cls.__name__))\n",
    "            else:  # <10>\n",
    "                raise\n",
    "\n",
    "    def __repr__(self):\n",
    "        if hasattr(self, 'serial'):  # <11>\n",
    "            cls_name = self.__class__.__name__\n",
    "            return '<{} serial={!r}>'.format(cls_name, self.serial)\n",
    "        else:\n",
    "            return super().__repr__()  # <12>"
   ]
  },
  {
   "cell_type": "code",
   "execution_count": 5,
   "id": "05f3b07d-0476-4e7e-9996-c4f85a90e6fe",
   "metadata": {},
   "outputs": [],
   "source": [
    "class Event(DbRecord):  # <1>\n",
    "\n",
    "    @property\n",
    "    def venue(self):\n",
    "        key = 'venue.{}'.format(self.venue_serial)\n",
    "        return self.__class__.fetch(key)  # <2>\n",
    "\n",
    "    @property\n",
    "    def speakers(self):\n",
    "        if not hasattr(self, '_speaker_objs'):  # <3>\n",
    "            spkr_serials = self.__dict__['speakers']  # <4>\n",
    "            fetch = self.__class__.fetch  # <5>\n",
    "            self._speaker_objs = [fetch('speaker.{}'.format(key))\n",
    "                                  for key in spkr_serials]  # <6>\n",
    "        return self._speaker_objs  # <7>\n",
    "\n",
    "    def __repr__(self):\n",
    "        if hasattr(self, 'name'):  # <8>\n",
    "            cls_name = self.__class__.__name__\n",
    "            return '<{} {!r}>'.format(cls_name, self.name)\n",
    "        else:\n",
    "            return super().__repr__()  # <9>"
   ]
  },
  {
   "cell_type": "code",
   "execution_count": 6,
   "id": "94518177-d7a7-4a23-8a9c-f3d5cb1f00a8",
   "metadata": {},
   "outputs": [],
   "source": [
    "def load_db(db):\n",
    "    raw_data = osconfeed.load()\n",
    "    warnings.warn('loading ' + DB_NAME)\n",
    "    for collection, rec_list in raw_data['Schedule'].items():\n",
    "        record_type = collection[:-1]  # <1>\n",
    "        cls_name = record_type.capitalize()  # <2>\n",
    "        cls = globals().get(cls_name, DbRecord)  # <3>\n",
    "        if inspect.isclass(cls) and issubclass(cls, DbRecord):  # <4>\n",
    "            factory = cls  # <5>\n",
    "        else:\n",
    "            factory = DbRecord  # <6>\n",
    "        for record in rec_list:  # <7>\n",
    "            key = '{}.{}'.format(record_type, record['serial'])\n",
    "            record['serial'] = key\n",
    "            db[key] = factory(**record)  # <8>"
   ]
  },
  {
   "cell_type": "markdown",
   "id": "6f9baeff-6288-4335-85a1-20278df29a3d",
   "metadata": {},
   "source": [
    "#### schedule2.py: traversing OSCON schedule data"
   ]
  },
  {
   "cell_type": "code",
   "execution_count": 7,
   "id": "82a8358d-f1de-4ac0-b7f5-a4e2d7625f40",
   "metadata": {},
   "outputs": [],
   "source": [
    ">>> import shelve\n",
    ">>> db = shelve.open(DB_NAME)\n",
    ">>> if CONFERENCE not in db: load_db(db)"
   ]
  },
  {
   "cell_type": "code",
   "execution_count": 8,
   "id": "8eafc0d6-a735-44c9-b779-155753cb40b6",
   "metadata": {},
   "outputs": [
    {
     "data": {
      "text/plain": [
       "<Event 'There *Will* Be Bugs'>"
      ]
     },
     "execution_count": 8,
     "metadata": {},
     "output_type": "execute_result"
    }
   ],
   "source": [
    ">>> DbRecord.set_db(db)  # <1>\n",
    ">>> event = DbRecord.fetch('event.33950')  # <2>\n",
    ">>> event  # <3>"
   ]
  },
  {
   "cell_type": "code",
   "execution_count": 9,
   "id": "837b841a-0694-4742-a6b6-5c43b3c43c73",
   "metadata": {},
   "outputs": [
    {
     "data": {
      "text/plain": [
       "<DbRecord serial='venue.1449'>"
      ]
     },
     "execution_count": 9,
     "metadata": {},
     "output_type": "execute_result"
    }
   ],
   "source": [
    ">>> event.venue  # <4>"
   ]
  },
  {
   "cell_type": "code",
   "execution_count": 10,
   "id": "49e3d440-a894-4caf-85ed-25505186e8f7",
   "metadata": {},
   "outputs": [
    {
     "data": {
      "text/plain": [
       "'Portland 251'"
      ]
     },
     "execution_count": 10,
     "metadata": {},
     "output_type": "execute_result"
    }
   ],
   "source": [
    ">>> event.venue.name  # <5>"
   ]
  },
  {
   "cell_type": "code",
   "execution_count": 11,
   "id": "3e8a82a9-6e47-42c0-a9fc-ef8ead391887",
   "metadata": {},
   "outputs": [
    {
     "name": "stdout",
     "output_type": "stream",
     "text": [
      "speaker.3471: Anna Martelli Ravenscroft\n",
      "speaker.5199: Alex Martelli\n"
     ]
    }
   ],
   "source": [
    ">>> for spkr in event.speakers:  # <6>\n",
    "...     print('{0.serial}: {0.name}'.format(spkr))"
   ]
  },
  {
   "cell_type": "code",
   "execution_count": 12,
   "id": "c85e7c39-6a81-41ec-a47a-ac08f5b84baa",
   "metadata": {},
   "outputs": [],
   "source": [
    ">>> db.close()"
   ]
  }
 ],
 "metadata": {
  "kernelspec": {
   "display_name": "Python 3 (ipykernel)",
   "language": "python",
   "name": "python3"
  },
  "language_info": {
   "codemirror_mode": {
    "name": "ipython",
    "version": 3
   },
   "file_extension": ".py",
   "mimetype": "text/x-python",
   "name": "python",
   "nbconvert_exporter": "python",
   "pygments_lexer": "ipython3",
   "version": "3.10.2"
  }
 },
 "nbformat": 4,
 "nbformat_minor": 5
}
