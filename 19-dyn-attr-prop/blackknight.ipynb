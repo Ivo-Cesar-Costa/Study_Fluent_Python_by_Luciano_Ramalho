{
 "cells": [
  {
   "cell_type": "code",
   "execution_count": 1,
   "id": "9e23a34a-2e10-4744-88b8-c48f9758a72c",
   "metadata": {},
   "outputs": [],
   "source": [
    "class BlackKnight:\n",
    "\n",
    "    def __init__(self):\n",
    "        self.members = ['an arm', 'another arm',\n",
    "                        'a leg', 'another leg']\n",
    "        self.phrases = [\"'Tis but a scratch.\",\n",
    "                        \"It's just a flesh wound.\",\n",
    "                        \"I'm invincible!\",\n",
    "                        \"All right, we'll call it a draw.\"]\n",
    "\n",
    "    @property\n",
    "    def member(self):\n",
    "        print('next member is:')\n",
    "        return self.members[0]\n",
    "\n",
    "    @member.deleter\n",
    "    def member(self):\n",
    "        text = 'BLACK KNIGHT (loses {})\\n-- {}'\n",
    "        print(text.format(self.members.pop(0), self.phrases.pop(0)))"
   ]
  },
  {
   "cell_type": "code",
   "execution_count": 2,
   "id": "0fee27cd-630f-4190-92a1-c09bd09282f5",
   "metadata": {},
   "outputs": [
    {
     "name": "stdout",
     "output_type": "stream",
     "text": [
      "next member is:\n"
     ]
    },
    {
     "data": {
      "text/plain": [
       "'an arm'"
      ]
     },
     "execution_count": 2,
     "metadata": {},
     "output_type": "execute_result"
    }
   ],
   "source": [
    ">>> knight = BlackKnight()\n",
    ">>> knight.member"
   ]
  },
  {
   "cell_type": "code",
   "execution_count": 3,
   "id": "f58f002b-cbe5-4a43-b488-15aee1bf4a38",
   "metadata": {},
   "outputs": [
    {
     "name": "stdout",
     "output_type": "stream",
     "text": [
      "BLACK KNIGHT (loses an arm)\n",
      "-- 'Tis but a scratch.\n"
     ]
    }
   ],
   "source": [
    ">>> del knight.member"
   ]
  },
  {
   "cell_type": "code",
   "execution_count": 4,
   "id": "64757e91-f1e9-4ec1-bf96-bc3de36bf65c",
   "metadata": {},
   "outputs": [
    {
     "name": "stdout",
     "output_type": "stream",
     "text": [
      "BLACK KNIGHT (loses another arm)\n",
      "-- It's just a flesh wound.\n"
     ]
    }
   ],
   "source": [
    ">>> del knight.member"
   ]
  },
  {
   "cell_type": "code",
   "execution_count": 5,
   "id": "5b566545-95d4-4060-b2f2-ab3450993611",
   "metadata": {},
   "outputs": [
    {
     "name": "stdout",
     "output_type": "stream",
     "text": [
      "BLACK KNIGHT (loses a leg)\n",
      "-- I'm invincible!\n"
     ]
    }
   ],
   "source": [
    ">>> del knight.member"
   ]
  },
  {
   "cell_type": "code",
   "execution_count": 6,
   "id": "b1d41be0-3498-4f34-9546-8e42bb0cd556",
   "metadata": {},
   "outputs": [
    {
     "name": "stdout",
     "output_type": "stream",
     "text": [
      "BLACK KNIGHT (loses another leg)\n",
      "-- All right, we'll call it a draw.\n"
     ]
    }
   ],
   "source": [
    ">>> del knight.member"
   ]
  }
 ],
 "metadata": {
  "kernelspec": {
   "display_name": "Python 3 (ipykernel)",
   "language": "python",
   "name": "python3"
  },
  "language_info": {
   "codemirror_mode": {
    "name": "ipython",
    "version": 3
   },
   "file_extension": ".py",
   "mimetype": "text/x-python",
   "name": "python",
   "nbconvert_exporter": "python",
   "pygments_lexer": "ipython3",
   "version": "3.10.2"
  }
 },
 "nbformat": 4,
 "nbformat_minor": 5
}
