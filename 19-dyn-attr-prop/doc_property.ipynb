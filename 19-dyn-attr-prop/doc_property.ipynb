{
 "cells": [
  {
   "cell_type": "code",
   "execution_count": 1,
   "id": "70c7e559-f3d9-4ac1-9f88-29229d2b5185",
   "metadata": {},
   "outputs": [],
   "source": [
    "class Foo:\n",
    "\n",
    "    @property\n",
    "    def bar(self):\n",
    "        '''The bar attribute'''\n",
    "        return self.__dict__['bar']\n",
    "\n",
    "    @bar.setter\n",
    "    def bar(self, value):\n",
    "        self.__dict__['bar'] = value"
   ]
  },
  {
   "cell_type": "code",
   "execution_count": 2,
   "id": "8b84fb41-2677-48a8-9a29-185dc2bb7da1",
   "metadata": {},
   "outputs": [
    {
     "data": {
      "text/plain": [
       "77"
      ]
     },
     "execution_count": 2,
     "metadata": {},
     "output_type": "execute_result"
    }
   ],
   "source": [
    ">>> f = Foo()\n",
    ">>> f.bar = 77\n",
    ">>> f.bar"
   ]
  },
  {
   "cell_type": "code",
   "execution_count": 3,
   "id": "84b3c25b-71c5-4a35-9369-ff7bb8554557",
   "metadata": {},
   "outputs": [
    {
     "data": {
      "text/plain": [
       "'The bar attribute'"
      ]
     },
     "execution_count": 3,
     "metadata": {},
     "output_type": "execute_result"
    }
   ],
   "source": [
    ">>> Foo.bar.__doc__"
   ]
  }
 ],
 "metadata": {
  "kernelspec": {
   "display_name": "Python 3 (ipykernel)",
   "language": "python",
   "name": "python3"
  },
  "language_info": {
   "codemirror_mode": {
    "name": "ipython",
    "version": 3
   },
   "file_extension": ".py",
   "mimetype": "text/x-python",
   "name": "python",
   "nbconvert_exporter": "python",
   "pygments_lexer": "ipython3",
   "version": "3.10.2"
  }
 },
 "nbformat": 4,
 "nbformat_minor": 5
}
