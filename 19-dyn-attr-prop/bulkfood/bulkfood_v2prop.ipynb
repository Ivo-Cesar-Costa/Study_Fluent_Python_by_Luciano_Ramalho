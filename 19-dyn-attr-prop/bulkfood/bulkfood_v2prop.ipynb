{
 "cells": [
  {
   "cell_type": "code",
   "execution_count": 1,
   "id": "35de3a1e-2c5b-47a1-942e-9d3d71d9430f",
   "metadata": {},
   "outputs": [],
   "source": [
    "def quantity(storage_name):  # <1>\n",
    "\n",
    "    def qty_getter(instance):  # <2>\n",
    "        return instance.__dict__[storage_name]  # <3>\n",
    "\n",
    "    def qty_setter(instance, value):  # <4>\n",
    "        if value > 0:\n",
    "            instance.__dict__[storage_name] = value  # <5>\n",
    "        else:\n",
    "            raise ValueError('value must be > 0')\n",
    "\n",
    "    return property(qty_getter, qty_setter)  # <6>"
   ]
  },
  {
   "cell_type": "code",
   "execution_count": 2,
   "id": "ec9f0e5c-f93c-4ce0-b374-e217176d559a",
   "metadata": {},
   "outputs": [],
   "source": [
    "class LineItem:\n",
    "    weight = quantity('weight')  # <1>\n",
    "    price = quantity('price')  # <2>\n",
    "\n",
    "    def __init__(self, description, weight, price):\n",
    "        self.description = description\n",
    "        self.weight = weight  # <3>\n",
    "        self.price = price\n",
    "\n",
    "    def subtotal(self):\n",
    "        return self.weight * self.price  # <4>"
   ]
  },
  {
   "cell_type": "markdown",
   "id": "928b43f0-0492-4bef-8533-1dd9c43e2ea4",
   "metadata": {},
   "source": [
    "#### A line item for a bulk food order has description, weight and price fields::"
   ]
  },
  {
   "cell_type": "code",
   "execution_count": 3,
   "id": "4f24ef2a-b77b-44f3-b444-d79cdc2e828e",
   "metadata": {},
   "outputs": [
    {
     "data": {
      "text/plain": [
       "(10, 'Golden raisins', 6.95)"
      ]
     },
     "execution_count": 3,
     "metadata": {},
     "output_type": "execute_result"
    }
   ],
   "source": [
    ">>> raisins = LineItem('Golden raisins', 10, 6.95)\n",
    ">>> raisins.weight, raisins.description, raisins.price"
   ]
  },
  {
   "cell_type": "markdown",
   "id": "bad4076f-72fd-47ea-a93f-548b52e5c13b",
   "metadata": {},
   "source": [
    "#### A ``subtotal`` method gives the total price for that line item::"
   ]
  },
  {
   "cell_type": "code",
   "execution_count": 4,
   "id": "64e0bc73-3368-4c16-9b3d-7f2f3e83819c",
   "metadata": {},
   "outputs": [
    {
     "data": {
      "text/plain": [
       "69.5"
      ]
     },
     "execution_count": 4,
     "metadata": {},
     "output_type": "execute_result"
    }
   ],
   "source": [
    ">>> raisins.subtotal()"
   ]
  },
  {
   "cell_type": "markdown",
   "id": "ff177c78-5275-481e-91d1-6a7d68c0e686",
   "metadata": {},
   "source": [
    "#### The weight of a ``LineItem`` must be greater than 0::"
   ]
  },
  {
   "cell_type": "code",
   "execution_count": 5,
   "id": "6dd184c2-2e0a-4c3c-9cb5-a2f55110ef3f",
   "metadata": {},
   "outputs": [
    {
     "ename": "ValueError",
     "evalue": "value must be > 0",
     "output_type": "error",
     "traceback": [
      "\u001b[1;31m---------------------------------------------------------------------------\u001b[0m",
      "\u001b[1;31mValueError\u001b[0m                                Traceback (most recent call last)",
      "Input \u001b[1;32mIn [5]\u001b[0m, in \u001b[0;36m<module>\u001b[1;34m\u001b[0m\n\u001b[1;32m----> 1\u001b[0m raisins\u001b[38;5;241m.\u001b[39mweight \u001b[38;5;241m=\u001b[39m \u001b[38;5;241m-\u001b[39m\u001b[38;5;241m20\u001b[39m\n",
      "Input \u001b[1;32mIn [1]\u001b[0m, in \u001b[0;36mquantity.<locals>.qty_setter\u001b[1;34m(instance, value)\u001b[0m\n\u001b[0;32m      8\u001b[0m     instance\u001b[38;5;241m.\u001b[39m\u001b[38;5;18m__dict__\u001b[39m[storage_name] \u001b[38;5;241m=\u001b[39m value  \u001b[38;5;66;03m# <5>\u001b[39;00m\n\u001b[0;32m      9\u001b[0m \u001b[38;5;28;01melse\u001b[39;00m:\n\u001b[1;32m---> 10\u001b[0m     \u001b[38;5;28;01mraise\u001b[39;00m \u001b[38;5;167;01mValueError\u001b[39;00m(\u001b[38;5;124m'\u001b[39m\u001b[38;5;124mvalue must be > 0\u001b[39m\u001b[38;5;124m'\u001b[39m)\n",
      "\u001b[1;31mValueError\u001b[0m: value must be > 0"
     ]
    }
   ],
   "source": [
    ">>> raisins.weight = -20"
   ]
  },
  {
   "cell_type": "markdown",
   "id": "9b135be1-18e3-49b4-8b18-6437b2ec07c9",
   "metadata": {},
   "source": [
    "#### No change was made::"
   ]
  },
  {
   "cell_type": "code",
   "execution_count": 6,
   "id": "9cbac6cc-b9ff-4268-b459-b0b11754cb70",
   "metadata": {},
   "outputs": [
    {
     "data": {
      "text/plain": [
       "10"
      ]
     },
     "execution_count": 6,
     "metadata": {},
     "output_type": "execute_result"
    }
   ],
   "source": [
    ">>> raisins.weight"
   ]
  },
  {
   "cell_type": "markdown",
   "id": "5e3de838-98ac-4ce2-9811-45cb22b92279",
   "metadata": {},
   "source": [
    "#### The value of the attributes managed by the properties are stored in instance attributes, created in each ``LineItem`` instance::"
   ]
  },
  {
   "cell_type": "code",
   "execution_count": 7,
   "id": "c942ec33-4529-41cb-951a-283d3ea8d6f4",
   "metadata": {},
   "outputs": [
    {
     "data": {
      "text/plain": [
       "(8, 13.95)"
      ]
     },
     "execution_count": 7,
     "metadata": {},
     "output_type": "execute_result"
    }
   ],
   "source": [
    ">>> nutmeg = LineItem('Moluccan nutmeg', 8, 13.95)\n",
    ">>> nutmeg.weight, nutmeg.price  # <1>"
   ]
  },
  {
   "cell_type": "code",
   "execution_count": 8,
   "id": "1b18d0a0-0f17-499d-81df-e0f7090f7712",
   "metadata": {},
   "outputs": [
    {
     "data": {
      "text/plain": [
       "[('description', 'Moluccan nutmeg'), ('price', 13.95), ('weight', 8)]"
      ]
     },
     "execution_count": 8,
     "metadata": {},
     "output_type": "execute_result"
    }
   ],
   "source": [
    ">>> sorted(vars(nutmeg).items())"
   ]
  }
 ],
 "metadata": {
  "kernelspec": {
   "display_name": "Python 3 (ipykernel)",
   "language": "python",
   "name": "python3"
  },
  "language_info": {
   "codemirror_mode": {
    "name": "ipython",
    "version": 3
   },
   "file_extension": ".py",
   "mimetype": "text/x-python",
   "name": "python",
   "nbconvert_exporter": "python",
   "pygments_lexer": "ipython3",
   "version": "3.10.2"
  }
 },
 "nbformat": 4,
 "nbformat_minor": 5
}
