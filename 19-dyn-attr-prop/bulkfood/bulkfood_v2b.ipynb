{
 "cells": [
  {
   "cell_type": "code",
   "execution_count": 1,
   "id": "777ec9d0-ce12-455f-886e-06330fc80f88",
   "metadata": {},
   "outputs": [],
   "source": [
    "class LineItem:\n",
    "\n",
    "    def __init__(self, description, weight, price):\n",
    "        self.description = description\n",
    "        self.weight = weight\n",
    "        self.price = price\n",
    "\n",
    "    def subtotal(self):\n",
    "        return self.weight * self.price\n",
    "\n",
    "    def get_weight(self):  # <1>\n",
    "        return self.__weight\n",
    "\n",
    "    def set_weight(self, value):  # <2>\n",
    "        if value > 0:\n",
    "            self.__weight = value\n",
    "        else:\n",
    "            raise ValueError('value must be > 0')\n",
    "\n",
    "    weight = property(get_weight, set_weight)  # <3>\n"
   ]
  },
  {
   "cell_type": "markdown",
   "id": "c66fda01-d2ff-48df-8ced-baa87a5dfdf5",
   "metadata": {},
   "source": [
    "#### A line item for a bulk food order has description, weight and price fields::"
   ]
  },
  {
   "cell_type": "code",
   "execution_count": 2,
   "id": "ae8d0c81-43db-44aa-9a78-7af88bc18b1b",
   "metadata": {},
   "outputs": [
    {
     "data": {
      "text/plain": [
       "(10, 'Golden raisins', 6.95)"
      ]
     },
     "execution_count": 2,
     "metadata": {},
     "output_type": "execute_result"
    }
   ],
   "source": [
    ">>> raisins = LineItem('Golden raisins', 10, 6.95)\n",
    ">>> raisins.weight, raisins.description, raisins.price"
   ]
  },
  {
   "cell_type": "markdown",
   "id": "76c40545-c1d0-4e0a-b28e-a29cab1538ec",
   "metadata": {},
   "source": [
    "#### A ``subtotal`` method gives the total price for that line item::"
   ]
  },
  {
   "cell_type": "code",
   "execution_count": 3,
   "id": "808597ed-ac71-4a9b-b73b-38bb232f2921",
   "metadata": {},
   "outputs": [
    {
     "data": {
      "text/plain": [
       "69.5"
      ]
     },
     "execution_count": 3,
     "metadata": {},
     "output_type": "execute_result"
    }
   ],
   "source": [
    ">>> raisins.subtotal()"
   ]
  },
  {
   "cell_type": "markdown",
   "id": "b9ca51d8-e8ca-42f4-be2f-b68b86021f16",
   "metadata": {},
   "source": [
    "#### The weight of a ``LineItem`` must be greater than 0::"
   ]
  },
  {
   "cell_type": "code",
   "execution_count": 4,
   "id": "ac2dcf44-176f-4398-9fd0-abe9f7b14430",
   "metadata": {},
   "outputs": [
    {
     "ename": "ValueError",
     "evalue": "value must be > 0",
     "output_type": "error",
     "traceback": [
      "\u001b[1;31m---------------------------------------------------------------------------\u001b[0m",
      "\u001b[1;31mValueError\u001b[0m                                Traceback (most recent call last)",
      "Input \u001b[1;32mIn [4]\u001b[0m, in \u001b[0;36m<module>\u001b[1;34m\u001b[0m\n\u001b[1;32m----> 1\u001b[0m raisins\u001b[38;5;241m.\u001b[39mweight \u001b[38;5;241m=\u001b[39m \u001b[38;5;241m-\u001b[39m\u001b[38;5;241m20\u001b[39m\n",
      "Input \u001b[1;32mIn [1]\u001b[0m, in \u001b[0;36mLineItem.set_weight\u001b[1;34m(self, value)\u001b[0m\n\u001b[0;32m     16\u001b[0m     \u001b[38;5;28mself\u001b[39m\u001b[38;5;241m.\u001b[39m__weight \u001b[38;5;241m=\u001b[39m value\n\u001b[0;32m     17\u001b[0m \u001b[38;5;28;01melse\u001b[39;00m:\n\u001b[1;32m---> 18\u001b[0m     \u001b[38;5;28;01mraise\u001b[39;00m \u001b[38;5;167;01mValueError\u001b[39;00m(\u001b[38;5;124m'\u001b[39m\u001b[38;5;124mvalue must be > 0\u001b[39m\u001b[38;5;124m'\u001b[39m)\n",
      "\u001b[1;31mValueError\u001b[0m: value must be > 0"
     ]
    }
   ],
   "source": [
    ">>> raisins.weight = -20"
   ]
  },
  {
   "cell_type": "markdown",
   "id": "789e1376-34cd-4d4b-85aa-ddd90bad426b",
   "metadata": {},
   "source": [
    "#### No change was made::"
   ]
  },
  {
   "cell_type": "code",
   "execution_count": 5,
   "id": "b12e1f1a-501c-4ce4-9851-3216e3149b0e",
   "metadata": {},
   "outputs": [
    {
     "data": {
      "text/plain": [
       "10"
      ]
     },
     "execution_count": 5,
     "metadata": {},
     "output_type": "execute_result"
    }
   ],
   "source": [
    ">>> raisins.weight"
   ]
  },
  {
   "cell_type": "markdown",
   "id": "86167641-2a34-45be-bcbe-c270363b49bd",
   "metadata": {},
   "source": [
    "#### The check is also performed on instantiation::"
   ]
  },
  {
   "cell_type": "code",
   "execution_count": 6,
   "id": "bd9c0cfb-c78a-4ccd-a0c3-d63bb49bd52c",
   "metadata": {},
   "outputs": [
    {
     "ename": "ValueError",
     "evalue": "value must be > 0",
     "output_type": "error",
     "traceback": [
      "\u001b[1;31m---------------------------------------------------------------------------\u001b[0m",
      "\u001b[1;31mValueError\u001b[0m                                Traceback (most recent call last)",
      "Input \u001b[1;32mIn [6]\u001b[0m, in \u001b[0;36m<module>\u001b[1;34m\u001b[0m\n\u001b[1;32m----> 1\u001b[0m walnuts \u001b[38;5;241m=\u001b[39m \u001b[43mLineItem\u001b[49m\u001b[43m(\u001b[49m\u001b[38;5;124;43m'\u001b[39;49m\u001b[38;5;124;43mwalnuts\u001b[39;49m\u001b[38;5;124;43m'\u001b[39;49m\u001b[43m,\u001b[49m\u001b[43m \u001b[49m\u001b[38;5;241;43m0\u001b[39;49m\u001b[43m,\u001b[49m\u001b[43m \u001b[49m\u001b[38;5;241;43m10.00\u001b[39;49m\u001b[43m)\u001b[49m\n",
      "Input \u001b[1;32mIn [1]\u001b[0m, in \u001b[0;36mLineItem.__init__\u001b[1;34m(self, description, weight, price)\u001b[0m\n\u001b[0;32m      3\u001b[0m \u001b[38;5;28;01mdef\u001b[39;00m \u001b[38;5;21m__init__\u001b[39m(\u001b[38;5;28mself\u001b[39m, description, weight, price):\n\u001b[0;32m      4\u001b[0m     \u001b[38;5;28mself\u001b[39m\u001b[38;5;241m.\u001b[39mdescription \u001b[38;5;241m=\u001b[39m description\n\u001b[1;32m----> 5\u001b[0m     \u001b[38;5;28mself\u001b[39m\u001b[38;5;241m.\u001b[39mweight \u001b[38;5;241m=\u001b[39m weight\n\u001b[0;32m      6\u001b[0m     \u001b[38;5;28mself\u001b[39m\u001b[38;5;241m.\u001b[39mprice \u001b[38;5;241m=\u001b[39m price\n",
      "Input \u001b[1;32mIn [1]\u001b[0m, in \u001b[0;36mLineItem.set_weight\u001b[1;34m(self, value)\u001b[0m\n\u001b[0;32m     16\u001b[0m     \u001b[38;5;28mself\u001b[39m\u001b[38;5;241m.\u001b[39m__weight \u001b[38;5;241m=\u001b[39m value\n\u001b[0;32m     17\u001b[0m \u001b[38;5;28;01melse\u001b[39;00m:\n\u001b[1;32m---> 18\u001b[0m     \u001b[38;5;28;01mraise\u001b[39;00m \u001b[38;5;167;01mValueError\u001b[39;00m(\u001b[38;5;124m'\u001b[39m\u001b[38;5;124mvalue must be > 0\u001b[39m\u001b[38;5;124m'\u001b[39m)\n",
      "\u001b[1;31mValueError\u001b[0m: value must be > 0"
     ]
    }
   ],
   "source": [
    ">>> walnuts = LineItem('walnuts', 0, 10.00)"
   ]
  },
  {
   "cell_type": "markdown",
   "id": "f914be7b-737a-41f2-8433-9a3ae985c31d",
   "metadata": {},
   "source": [
    "#### The proteced attribute can still be accessed if needed for some reason, such as white box testing)::"
   ]
  },
  {
   "cell_type": "code",
   "execution_count": 7,
   "id": "dc5c0a56-6f0f-4f53-a9b0-533717aef101",
   "metadata": {},
   "outputs": [
    {
     "data": {
      "text/plain": [
       "10"
      ]
     },
     "execution_count": 7,
     "metadata": {},
     "output_type": "execute_result"
    }
   ],
   "source": [
    ">>> raisins._LineItem__weight"
   ]
  }
 ],
 "metadata": {
  "kernelspec": {
   "display_name": "Python 3 (ipykernel)",
   "language": "python",
   "name": "python3"
  },
  "language_info": {
   "codemirror_mode": {
    "name": "ipython",
    "version": 3
   },
   "file_extension": ".py",
   "mimetype": "text/x-python",
   "name": "python",
   "nbconvert_exporter": "python",
   "pygments_lexer": "ipython3",
   "version": "3.10.2"
  }
 },
 "nbformat": 4,
 "nbformat_minor": 5
}
