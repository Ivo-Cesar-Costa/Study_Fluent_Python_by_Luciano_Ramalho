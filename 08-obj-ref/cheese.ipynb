{
 "cells": [
  {
   "cell_type": "code",
   "execution_count": 1,
   "id": "2ec4b68f-aa3c-476e-9c3a-ef3047f7052f",
   "metadata": {},
   "outputs": [],
   "source": [
    "class Cheese:\n",
    "\n",
    "    def __init__(self, kind):\n",
    "        self.kind = kind\n",
    "\n",
    "    def __repr__(self):\n",
    "        return 'Cheese(%r)' % self.kind"
   ]
  },
  {
   "cell_type": "code",
   "execution_count": 2,
   "id": "6b9f749a-2b72-4f3b-8a19-e6cb88d8a1f5",
   "metadata": {},
   "outputs": [
    {
     "data": {
      "text/plain": [
       "['Brie', 'Parmesan', 'Red Leicester', 'Tilsit']"
      ]
     },
     "execution_count": 2,
     "metadata": {},
     "output_type": "execute_result"
    }
   ],
   "source": [
    ">>> import weakref\n",
    ">>> stock = weakref.WeakValueDictionary()\n",
    ">>> catalog = [Cheese('Red Leicester'), Cheese('Tilsit'),\n",
    "...                 Cheese('Brie'), Cheese('Parmesan')]\n",
    "...\n",
    ">>> for cheese in catalog:\n",
    "...     stock[cheese.kind] = cheese\n",
    "...\n",
    ">>> sorted(stock.keys())"
   ]
  },
  {
   "cell_type": "code",
   "execution_count": 3,
   "id": "0f8317dc-d9fc-462a-8ea2-8d54bec13803",
   "metadata": {},
   "outputs": [
    {
     "data": {
      "text/plain": [
       "['Parmesan']"
      ]
     },
     "execution_count": 3,
     "metadata": {},
     "output_type": "execute_result"
    }
   ],
   "source": [
    ">>> del catalog\n",
    ">>> sorted(stock.keys())"
   ]
  },
  {
   "cell_type": "code",
   "execution_count": 4,
   "id": "bd7cfb3e-5bbb-456a-973d-c20848cb7376",
   "metadata": {},
   "outputs": [
    {
     "data": {
      "text/plain": [
       "[]"
      ]
     },
     "execution_count": 4,
     "metadata": {},
     "output_type": "execute_result"
    }
   ],
   "source": [
    ">>> del cheese\n",
    ">>> sorted(stock.keys())"
   ]
  }
 ],
 "metadata": {
  "kernelspec": {
   "display_name": "Python 3 (ipykernel)",
   "language": "python",
   "name": "python3"
  },
  "language_info": {
   "codemirror_mode": {
    "name": "ipython",
    "version": 3
   },
   "file_extension": ".py",
   "mimetype": "text/x-python",
   "name": "python",
   "nbconvert_exporter": "python",
   "pygments_lexer": "ipython3",
   "version": "3.10.2"
  }
 },
 "nbformat": 4,
 "nbformat_minor": 5
}
