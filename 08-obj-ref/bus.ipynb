{
 "cells": [
  {
   "cell_type": "code",
   "execution_count": 1,
   "id": "7eaf74e0-fd37-4631-8e6e-08bde5868da4",
   "metadata": {},
   "outputs": [],
   "source": [
    "class Bus:\n",
    "\n",
    "    def __init__(self, passengers=None):\n",
    "        if passengers is None:\n",
    "            self.passengers = []\n",
    "        else:\n",
    "            self.passengers = list(passengers)\n",
    "\n",
    "    def pick(self, name):\n",
    "        self.passengers.append(name)\n",
    "\n",
    "    def drop(self, name):\n",
    "        self.passengers.remove(name)"
   ]
  },
  {
   "cell_type": "code",
   "execution_count": 2,
   "id": "dae28d96-3b68-4436-b565-efba674dedee",
   "metadata": {},
   "outputs": [],
   "source": [
    ">>> import copy"
   ]
  },
  {
   "cell_type": "code",
   "execution_count": 3,
   "id": "9816d5a7-78ce-4c34-8791-c062f6293f9d",
   "metadata": {},
   "outputs": [
    {
     "data": {
      "text/plain": [
       "['Alice', 'Claire', 'David']"
      ]
     },
     "execution_count": 3,
     "metadata": {},
     "output_type": "execute_result"
    }
   ],
   "source": [
    ">>> bus1 = Bus(['Alice', 'Bill', 'Claire', 'David'])\n",
    ">>> bus2 = copy.copy(bus1)\n",
    ">>> bus3 = copy.deepcopy(bus1)\n",
    ">>> bus1.drop('Bill')\n",
    ">>> bus2.passengers"
   ]
  },
  {
   "cell_type": "code",
   "execution_count": 4,
   "id": "3977b443-c6e7-42a0-bcb3-1f80ac6c5a16",
   "metadata": {},
   "outputs": [
    {
     "data": {
      "text/plain": [
       "['Alice', 'Bill', 'Claire', 'David']"
      ]
     },
     "execution_count": 4,
     "metadata": {},
     "output_type": "execute_result"
    }
   ],
   "source": [
    ">>> bus3.passengers"
   ]
  }
 ],
 "metadata": {
  "kernelspec": {
   "display_name": "Python 3 (ipykernel)",
   "language": "python",
   "name": "python3"
  },
  "language_info": {
   "codemirror_mode": {
    "name": "ipython",
    "version": 3
   },
   "file_extension": ".py",
   "mimetype": "text/x-python",
   "name": "python",
   "nbconvert_exporter": "python",
   "pygments_lexer": "ipython3",
   "version": "3.10.2"
  }
 },
 "nbformat": 4,
 "nbformat_minor": 5
}
