{
 "cells": [
  {
   "cell_type": "code",
   "execution_count": 1,
   "id": "98b94a3f-f36e-4609-8095-1b09749b40b0",
   "metadata": {},
   "outputs": [],
   "source": [
    "class TwilightBus:\n",
    "    \"\"\"A bus model that makes passengers vanish\"\"\"\n",
    "\n",
    "    def __init__(self, passengers=None):\n",
    "        if passengers is None:\n",
    "            self.passengers = []  # <1>\n",
    "        else:\n",
    "            self.passengers = passengers  #<2>\n",
    "\n",
    "    def pick(self, name):\n",
    "        self.passengers.append(name)\n",
    "\n",
    "    def drop(self, name):\n",
    "        self.passengers.remove(name)  # <3>"
   ]
  },
  {
   "cell_type": "code",
   "execution_count": 2,
   "id": "44540a5e-25ec-4109-b293-6180e5f5cad5",
   "metadata": {},
   "outputs": [
    {
     "data": {
      "text/plain": [
       "['Sue', 'Maya', 'Diana']"
      ]
     },
     "execution_count": 2,
     "metadata": {},
     "output_type": "execute_result"
    }
   ],
   "source": [
    ">>> basketball_team = ['Sue', 'Tina', 'Maya', 'Diana', 'Pat']\n",
    ">>> bus = TwilightBus(basketball_team)\n",
    ">>> bus.drop('Tina')\n",
    ">>> bus.drop('Pat')\n",
    ">>> basketball_team"
   ]
  }
 ],
 "metadata": {
  "kernelspec": {
   "display_name": "Python 3 (ipykernel)",
   "language": "python",
   "name": "python3"
  },
  "language_info": {
   "codemirror_mode": {
    "name": "ipython",
    "version": 3
   },
   "file_extension": ".py",
   "mimetype": "text/x-python",
   "name": "python",
   "nbconvert_exporter": "python",
   "pygments_lexer": "ipython3",
   "version": "3.10.2"
  }
 },
 "nbformat": 4,
 "nbformat_minor": 5
}
