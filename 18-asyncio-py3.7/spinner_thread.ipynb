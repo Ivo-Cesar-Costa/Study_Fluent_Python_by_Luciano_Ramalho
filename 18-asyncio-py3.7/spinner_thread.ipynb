{
 "cells": [
  {
   "cell_type": "code",
   "execution_count": 1,
   "id": "18242a75-4367-45e4-b019-ca2d3bfb3c3c",
   "metadata": {},
   "outputs": [],
   "source": [
    "import threading\n",
    "import itertools\n",
    "import time"
   ]
  },
  {
   "cell_type": "code",
   "execution_count": 2,
   "id": "1ae1bc42-4627-4202-93b0-08c31703e3df",
   "metadata": {},
   "outputs": [],
   "source": [
    "def spin(msg, done):  # <1>\n",
    "    for char in itertools.cycle('|/-\\\\'):  # <3>\n",
    "        status = char + ' ' + msg\n",
    "        print(status, flush=True, end='\\r')\n",
    "        if done.wait(.1):  # <5>\n",
    "            break\n",
    "    print(' ' * len(status), end='\\r')"
   ]
  },
  {
   "cell_type": "code",
   "execution_count": 3,
   "id": "a8eb6244-eb7a-4954-9f18-2fd263039b57",
   "metadata": {},
   "outputs": [],
   "source": [
    "def slow_function():  # <7>\n",
    "    # pretend waiting a long time for I/O\n",
    "    time.sleep(3)  # <8>\n",
    "    return 42"
   ]
  },
  {
   "cell_type": "code",
   "execution_count": 4,
   "id": "3123d393-7d8c-4864-b288-ab2979e8effa",
   "metadata": {},
   "outputs": [],
   "source": [
    "def supervisor():  # <9>\n",
    "    done = threading.Event()\n",
    "    spinner = threading.Thread(target=spin,\n",
    "                               args=('thinking!', done))\n",
    "    print('spinner object:', spinner)  # <10>\n",
    "    spinner.start()  # <11>\n",
    "    result = slow_function()  # <12>\n",
    "    done.set()  # <13>\n",
    "    spinner.join()  # <14>\n",
    "    return result"
   ]
  },
  {
   "cell_type": "code",
   "execution_count": 5,
   "id": "97971636-37d2-45a1-b579-0c31fd827c4b",
   "metadata": {},
   "outputs": [],
   "source": [
    "def main():\n",
    "    result = supervisor()  # <15>\n",
    "    print('Answer:', result)"
   ]
  },
  {
   "cell_type": "code",
   "execution_count": 6,
   "id": "9698c805-1c45-4aef-a02c-85baeff94c6f",
   "metadata": {},
   "outputs": [
    {
     "name": "stdout",
     "output_type": "stream",
     "text": [
      "spinner object: <Thread(Thread-8 (spin), initial)>\n",
      "Answer: 42 \n"
     ]
    }
   ],
   "source": [
    "if __name__ == '__main__':\n",
    "    main()"
   ]
  }
 ],
 "metadata": {
  "kernelspec": {
   "display_name": "Python 3 (ipykernel)",
   "language": "python",
   "name": "python3"
  },
  "language_info": {
   "codemirror_mode": {
    "name": "ipython",
    "version": 3
   },
   "file_extension": ".py",
   "mimetype": "text/x-python",
   "name": "python",
   "nbconvert_exporter": "python",
   "pygments_lexer": "ipython3",
   "version": "3.10.2"
  }
 },
 "nbformat": 4,
 "nbformat_minor": 5
}
