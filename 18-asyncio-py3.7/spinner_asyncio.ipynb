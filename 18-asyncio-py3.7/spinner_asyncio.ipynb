{
 "cells": [
  {
   "cell_type": "code",
   "execution_count": 1,
   "id": "b1721cd1-1a80-44bc-86b7-23d6fc672432",
   "metadata": {},
   "outputs": [],
   "source": [
    "import asyncio\n",
    "import itertools"
   ]
  },
  {
   "cell_type": "code",
   "execution_count": 2,
   "id": "10494419-4651-41fb-95a9-9d87a5cc57ec",
   "metadata": {},
   "outputs": [],
   "source": [
    "async def spin(msg):  # <1>\n",
    "    for char in itertools.cycle('|/-\\\\'):\n",
    "        status = char + ' ' + msg\n",
    "        print(status, flush=True, end='\\r')\n",
    "        try:\n",
    "            await asyncio.sleep(.1)  # <2>\n",
    "        except asyncio.CancelledError:  # <3>\n",
    "            break\n",
    "    print(' ' * len(status), end='\\r')"
   ]
  },
  {
   "cell_type": "code",
   "execution_count": 3,
   "id": "4fecc857-7d71-4b9e-af85-d0f540435797",
   "metadata": {},
   "outputs": [],
   "source": [
    "async def slow_function():  # <4>\n",
    "    # pretend waiting a long time for I/O\n",
    "    await asyncio.sleep(3)  # <5>\n",
    "    return 42"
   ]
  },
  {
   "cell_type": "code",
   "execution_count": 4,
   "id": "61118b94-2ac4-45c4-8f0d-a2955116c496",
   "metadata": {},
   "outputs": [],
   "source": [
    "async def supervisor():  # <6>\n",
    "    spinner = asyncio.create_task(spin('thinking!'))  # <7>\n",
    "    print('spinner object:', spinner)  # <8>\n",
    "    result = await slow_function()  # <9>\n",
    "    spinner.cancel()  # <10>\n",
    "    return result"
   ]
  },
  {
   "cell_type": "code",
   "execution_count": 5,
   "id": "70edff22-7b02-4796-8827-63a7ac64c51d",
   "metadata": {},
   "outputs": [],
   "source": [
    "def main():\n",
    "    result = asyncio.run(supervisor())  # <11>\n",
    "    print('Answer:', result)"
   ]
  },
  {
   "cell_type": "code",
   "execution_count": 6,
   "id": "ec2e3d66-ebca-4dcf-8203-bdea8e42756e",
   "metadata": {},
   "outputs": [],
   "source": [
    "if __name__ == '__main__':\n",
    "    main()"
   ]
  }
 ],
 "metadata": {
  "kernelspec": {
   "display_name": "Python 3 (ipykernel)",
   "language": "python",
   "name": "python3"
  },
  "language_info": {
   "codemirror_mode": {
    "name": "ipython",
    "version": 3
   },
   "file_extension": ".py",
   "mimetype": "text/x-python",
   "name": "python",
   "nbconvert_exporter": "python",
   "pygments_lexer": "ipython3",
   "version": "3.10.2"
  }
 },
 "nbformat": 4,
 "nbformat_minor": 5
}
