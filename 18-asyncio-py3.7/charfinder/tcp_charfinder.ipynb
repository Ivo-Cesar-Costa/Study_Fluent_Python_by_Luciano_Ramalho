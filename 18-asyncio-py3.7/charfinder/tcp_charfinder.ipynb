{
 "cells": [
  {
   "cell_type": "code",
   "execution_count": 1,
   "id": "5170bd25-1da7-4ac6-a6ef-4f2bc7d71ad7",
   "metadata": {},
   "outputs": [],
   "source": [
    "%%capture\n",
    "import sys\n",
    "import asyncio\n",
    "import import_ipynb\n",
    "from charfinder import UnicodeNameIndex"
   ]
  },
  {
   "cell_type": "code",
   "execution_count": 2,
   "id": "aa2eccc3-a662-494b-a457-00411ced7b44",
   "metadata": {},
   "outputs": [],
   "source": [
    "CRLF = b'\\r\\n'\n",
    "PROMPT = b'?> '\n",
    "\n",
    "index = UnicodeNameIndex()  "
   ]
  },
  {
   "cell_type": "code",
   "execution_count": 3,
   "id": "a0e4420b-0375-4d10-bfb5-0f536a194197",
   "metadata": {},
   "outputs": [],
   "source": [
    "async def handle_queries(reader, writer):  # <3>\n",
    "    while True:  # <4>\n",
    "        writer.write(PROMPT)  # can't await!  # <5>\n",
    "        await writer.drain()  # must await!  # <6>\n",
    "        data = await reader.readline()  # <7>\n",
    "        try:\n",
    "            query = data.decode().strip()\n",
    "        except UnicodeDecodeError:  # <8>\n",
    "            query = '\\x00'\n",
    "        client = writer.get_extra_info('peername')  # <9>\n",
    "        print('Received from {}: {!r}'.format(client, query))  # <10>\n",
    "        if query:\n",
    "            if ord(query[:1]) < 32:  # <11>\n",
    "                break\n",
    "            lines = list(index.find_description_strs(query)) # <12>\n",
    "            if lines:\n",
    "                writer.writelines(line.encode() + CRLF for line in lines) # <13>\n",
    "            writer.write(index.status(query, len(lines)).encode() + CRLF) # <14>\n",
    "\n",
    "            await writer.drain()  # <15>\n",
    "            print('Sent {} results'.format(len(lines)))  # <16>\n",
    "\n",
    "    print('Close the client socket')  # <17>\n",
    "    writer.close()  # <18>"
   ]
  },
  {
   "cell_type": "code",
   "execution_count": 4,
   "id": "4fd5da88-9dfd-48f9-9c40-a68971ffbef6",
   "metadata": {},
   "outputs": [],
   "source": [
    "async def main(address='127.0.0.1', port=2323):  # <1>\n",
    "    port = int(port)\n",
    "    server = await asyncio.start_server(handle_queries, address, port) # <2>\n",
    "\n",
    "    host = server.sockets[0].getsockname()  # <3>\n",
    "    print('Serving on {}. Hit CTRL-C to stop.'.format(host))  # <4>\n",
    "\n",
    "    async with server:\n",
    "        await server.serve_forever()"
   ]
  },
  {
   "cell_type": "code",
   "execution_count": 5,
   "id": "6750a15a-416b-498c-8f8b-9f39a020d587",
   "metadata": {},
   "outputs": [],
   "source": [
    "if __name__ == '__main__':\n",
    "    asyncio.run(main(*sys.argv[1:]))"
   ]
  }
 ],
 "metadata": {
  "kernelspec": {
   "display_name": "Python 3 (ipykernel)",
   "language": "python",
   "name": "python3"
  },
  "language_info": {
   "codemirror_mode": {
    "name": "ipython",
    "version": 3
   },
   "file_extension": ".py",
   "mimetype": "text/x-python",
   "name": "python",
   "nbconvert_exporter": "python",
   "pygments_lexer": "ipython3",
   "version": "3.10.2"
  }
 },
 "nbformat": 4,
 "nbformat_minor": 5
}
