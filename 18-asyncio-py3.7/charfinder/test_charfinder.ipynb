{
 "cells": [
  {
   "cell_type": "code",
   "execution_count": 1,
   "id": "fcb51329-66a2-4fb6-9402-84468aec6b1c",
   "metadata": {},
   "outputs": [],
   "source": [
    "%%capture\n",
    "import pytest\n",
    "import import_ipynb\n",
    "from charfinder import UnicodeNameIndex, tokenize, sample_chars, query_type\n",
    "from unicodedata import name"
   ]
  },
  {
   "cell_type": "code",
   "execution_count": 2,
   "id": "c0e2cdbe-aca7-44e0-a3dc-038f3c7169c5",
   "metadata": {},
   "outputs": [],
   "source": [
    "@pytest.fixture\n",
    "def sample_index():\n",
    "    return UnicodeNameIndex(sample_chars)"
   ]
  },
  {
   "cell_type": "code",
   "execution_count": 3,
   "id": "2de93da4-fa5c-4df4-97ad-c6fdea9fabaa",
   "metadata": {},
   "outputs": [],
   "source": [
    "@pytest.fixture(scope=\"module\")\n",
    "def full_index():\n",
    "    return UnicodeNameIndex()"
   ]
  },
  {
   "cell_type": "code",
   "execution_count": 4,
   "id": "1bc1553a-6882-403d-8143-768b6a2c2361",
   "metadata": {},
   "outputs": [],
   "source": [
    "def test_query_type():\n",
    "    assert query_type('blue') == 'NAME'"
   ]
  },
  {
   "cell_type": "code",
   "execution_count": 5,
   "id": "36c02fe8-2221-48ec-a520-4db5760532b4",
   "metadata": {},
   "outputs": [],
   "source": [
    "def test_tokenize():\n",
    "    assert list(tokenize('')) == []\n",
    "    assert list(tokenize('a b')) == ['A', 'B']\n",
    "    assert list(tokenize('a-b')) == ['A', 'B']\n",
    "    assert list(tokenize('abc')) == ['ABC']\n",
    "    assert list(tokenize('café')) == ['CAFÉ']"
   ]
  },
  {
   "cell_type": "code",
   "execution_count": 6,
   "id": "020b7d12-bfb4-41f7-b6f5-203da28bd834",
   "metadata": {},
   "outputs": [],
   "source": [
    "def test_index():\n",
    "    sample_index = UnicodeNameIndex(sample_chars)\n",
    "    assert len(sample_index.index) == 9"
   ]
  },
  {
   "cell_type": "code",
   "execution_count": 7,
   "id": "d9309df8-95a3-4c46-9853-2a42e05dc79e",
   "metadata": {},
   "outputs": [],
   "source": [
    "def test_find_word_no_match(sample_index):\n",
    "    res = sample_index.find_chars('qwertyuiop')\n",
    "    assert len(res.items) == 0"
   ]
  },
  {
   "cell_type": "code",
   "execution_count": 8,
   "id": "f37e1028-3cd0-49f6-9eb1-dafc2dd4ec3e",
   "metadata": {},
   "outputs": [],
   "source": [
    "def test_find_word_1_match(sample_index):\n",
    "    res = [(ord(char), name(char))\n",
    "           for char in sample_index.find_chars('currency').items]\n",
    "    assert res == [(8352, 'EURO-CURRENCY SIGN')]"
   ]
  },
  {
   "cell_type": "code",
   "execution_count": 9,
   "id": "ded30893-275a-48f1-9dea-4082de265539",
   "metadata": {},
   "outputs": [],
   "source": [
    "def test_find_word_1_match_character_result(sample_index):\n",
    "    res = [name(char) for char in\n",
    "           sample_index.find_chars('currency').items]\n",
    "    assert res == ['EURO-CURRENCY SIGN']"
   ]
  },
  {
   "cell_type": "code",
   "execution_count": 10,
   "id": "3787206d-4cbc-44af-827b-25b8d53e1d09",
   "metadata": {},
   "outputs": [],
   "source": [
    "def test_find_word_2_matches(sample_index):\n",
    "    res = [(ord(char), name(char))\n",
    "           for char in sample_index.find_chars('Euro').items]\n",
    "    assert res == [(8352, 'EURO-CURRENCY SIGN'),\n",
    "                   (8364, 'EURO SIGN')]"
   ]
  },
  {
   "cell_type": "code",
   "execution_count": 11,
   "id": "3efe0b49-8964-453b-b500-9833ac680c5f",
   "metadata": {},
   "outputs": [],
   "source": [
    "def test_find_2_words_no_matches(sample_index):\n",
    "    res = sample_index.find_chars('Euro letter')\n",
    "    assert res.count == 0"
   ]
  },
  {
   "cell_type": "code",
   "execution_count": 12,
   "id": "ebfd8d9d-935b-422e-9d00-590e038f1d96",
   "metadata": {},
   "outputs": [],
   "source": [
    "def test_find_2_words_no_matches_because_one_not_found(sample_index):\n",
    "    res = sample_index.find_chars('letter qwertyuiop')\n",
    "    assert res.count == 0"
   ]
  },
  {
   "cell_type": "code",
   "execution_count": 13,
   "id": "89ffbb17-da99-477f-aa99-a239cc848b18",
   "metadata": {},
   "outputs": [],
   "source": [
    "def test_find_2_words_1_match(sample_index):\n",
    "    res = sample_index.find_chars('sign dollar')\n",
    "    assert res.count == 1"
   ]
  },
  {
   "cell_type": "code",
   "execution_count": 14,
   "id": "f70f7e51-5836-49e0-8219-3c323103f005",
   "metadata": {},
   "outputs": [],
   "source": [
    "def test_find_2_words_2_matches(sample_index):\n",
    "    res = sample_index.find_chars('latin letter')\n",
    "    assert res.count == 2"
   ]
  },
  {
   "cell_type": "code",
   "execution_count": 15,
   "id": "c784f39f-4192-4747-9413-6b78c54e121c",
   "metadata": {},
   "outputs": [],
   "source": [
    "def test_find_chars_many_matches_full(full_index):\n",
    "    res = full_index.find_chars('letter')\n",
    "    assert res.count > 7000"
   ]
  },
  {
   "cell_type": "code",
   "execution_count": 16,
   "id": "e83a7262-b583-4641-86ca-a57da781f62c",
   "metadata": {},
   "outputs": [],
   "source": [
    "def test_find_1_word_1_match_full(full_index):\n",
    "    res = [(ord(char), name(char))\n",
    "           for char in full_index.find_chars('registered').items]\n",
    "    assert res == [(174, 'REGISTERED SIGN')]"
   ]
  },
  {
   "cell_type": "code",
   "execution_count": 17,
   "id": "a77a29f3-1540-4737-b925-e83afd735039",
   "metadata": {},
   "outputs": [],
   "source": [
    "def test_find_1_word_2_matches_full(full_index):\n",
    "    res = full_index.find_chars('rook')\n",
    "    assert res.count == 2"
   ]
  },
  {
   "cell_type": "code",
   "execution_count": 18,
   "id": "9bd09d67-f2db-4dd6-a80e-e4dbc24e664f",
   "metadata": {},
   "outputs": [],
   "source": [
    "def test_find_3_words_no_matches_full(full_index):\n",
    "    res = full_index.find_chars('no such character')\n",
    "    assert res.count == 0"
   ]
  },
  {
   "cell_type": "code",
   "execution_count": 19,
   "id": "81deea94-2522-4ab8-babd-8665c2e71488",
   "metadata": {},
   "outputs": [],
   "source": [
    "def test_find_with_start(sample_index):\n",
    "    res = [(ord(char), name(char))\n",
    "           for char in sample_index.find_chars('sign', 1).items]\n",
    "    assert res == [(8352, 'EURO-CURRENCY SIGN'), (8364, 'EURO SIGN')]"
   ]
  },
  {
   "cell_type": "code",
   "execution_count": 20,
   "id": "86c5cb7b-7c6c-49d4-a36f-16bb899c75d8",
   "metadata": {},
   "outputs": [],
   "source": [
    "def test_find_with_stop(sample_index):\n",
    "    res = [(ord(char), name(char))\n",
    "           for char in sample_index.find_chars('sign', 0, 2).items]\n",
    "    assert res == [(36, 'DOLLAR SIGN'), (8352, 'EURO-CURRENCY SIGN')]"
   ]
  },
  {
   "cell_type": "code",
   "execution_count": 21,
   "id": "2d9a4544-cddf-4200-a642-3bf1e1296ee1",
   "metadata": {},
   "outputs": [],
   "source": [
    "def test_find_with_start_stop(sample_index):\n",
    "    res = [(ord(char), name(char))\n",
    "           for char in sample_index.find_chars('sign', 1, 2).items]\n",
    "    assert res == [(8352, 'EURO-CURRENCY SIGN')]"
   ]
  }
 ],
 "metadata": {
  "kernelspec": {
   "display_name": "Python 3 (ipykernel)",
   "language": "python",
   "name": "python3"
  },
  "language_info": {
   "codemirror_mode": {
    "name": "ipython",
    "version": 3
   },
   "file_extension": ".py",
   "mimetype": "text/x-python",
   "name": "python",
   "nbconvert_exporter": "python",
   "pygments_lexer": "ipython3",
   "version": "3.10.2"
  }
 },
 "nbformat": 4,
 "nbformat_minor": 5
}
