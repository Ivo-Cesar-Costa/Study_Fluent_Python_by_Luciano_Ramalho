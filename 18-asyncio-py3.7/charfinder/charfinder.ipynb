{
 "cells": [
  {
   "cell_type": "code",
   "execution_count": 1,
   "id": "0bf8c0e2-994a-4fcc-aa8e-23b5652f9ebf",
   "metadata": {},
   "outputs": [],
   "source": [
    "import sys\n",
    "import re\n",
    "import unicodedata\n",
    "import pickle\n",
    "import warnings\n",
    "import itertools\n",
    "import functools\n",
    "from collections import namedtuple"
   ]
  },
  {
   "cell_type": "code",
   "execution_count": 2,
   "id": "8f29264d-64fd-4653-89c6-68db0fdb2793",
   "metadata": {},
   "outputs": [],
   "source": [
    "RE_WORD = re.compile(r'\\w+')\n",
    "RE_UNICODE_NAME = re.compile('^[A-Z0-9 -]+$')\n",
    "RE_CODEPOINT = re.compile(r'U\\+([0-9A-F]{4,6})')\n",
    "\n",
    "INDEX_NAME = 'charfinder_index.pickle'\n",
    "MINIMUM_SAVE_LEN = 10000\n",
    "CJK_UNI_PREFIX = 'CJK UNIFIED IDEOGRAPH'\n",
    "CJK_CMP_PREFIX = 'CJK COMPATIBILITY IDEOGRAPH'"
   ]
  },
  {
   "cell_type": "code",
   "execution_count": 3,
   "id": "7c624fdd-157b-4098-8d9d-dfce46df02ab",
   "metadata": {},
   "outputs": [],
   "source": [
    "sample_chars = [\n",
    "    '$',  # DOLLAR SIGN\n",
    "    'A',  # LATIN CAPITAL LETTER A\n",
    "    'a',  # LATIN SMALL LETTER A\n",
    "    '\\u20a0',  # EURO-CURRENCY SIGN\n",
    "    '\\u20ac',  # EURO SIGN\n",
    "]"
   ]
  },
  {
   "cell_type": "code",
   "execution_count": 4,
   "id": "98110bb4-6117-47e6-8e73-eaa4c22ea5ef",
   "metadata": {},
   "outputs": [],
   "source": [
    "CharDescription = namedtuple('CharDescription', 'code_str char name')\n",
    "\n",
    "QueryResult = namedtuple('QueryResult', 'count items')"
   ]
  },
  {
   "cell_type": "code",
   "execution_count": 5,
   "id": "018e08a7-c599-43d2-ac8b-345571d3dcdb",
   "metadata": {},
   "outputs": [],
   "source": [
    "def tokenize(text):\n",
    "    \"\"\"return iterable of uppercased words\"\"\"\n",
    "    for match in RE_WORD.finditer(text):\n",
    "        yield match.group().upper()"
   ]
  },
  {
   "cell_type": "code",
   "execution_count": 6,
   "id": "121d4745-9875-4c27-8b94-d5c19bd3cf0d",
   "metadata": {},
   "outputs": [],
   "source": [
    "def query_type(text):\n",
    "    text_upper = text.upper()\n",
    "    if 'U+' in text_upper:\n",
    "        return 'CODEPOINT'\n",
    "    elif RE_UNICODE_NAME.match(text_upper):\n",
    "        return 'NAME'\n",
    "    else:\n",
    "        return 'CHARACTERS'"
   ]
  },
  {
   "cell_type": "code",
   "execution_count": 7,
   "id": "1abec3c0-adf3-4e3b-a40e-d04bd684e81e",
   "metadata": {},
   "outputs": [],
   "source": [
    "class UnicodeNameIndex:\n",
    "\n",
    "    def __init__(self, chars=None):\n",
    "        self.load(chars)\n",
    "\n",
    "    def load(self, chars=None):\n",
    "        self.index = None\n",
    "        if chars is None:\n",
    "            try:\n",
    "                with open(INDEX_NAME, 'rb') as fp:\n",
    "                    self.index = pickle.load(fp)\n",
    "            except OSError:\n",
    "                pass\n",
    "        if self.index is None:\n",
    "            self.build_index(chars)\n",
    "        if len(self.index) > MINIMUM_SAVE_LEN:\n",
    "            try:\n",
    "                self.save()\n",
    "            except OSError as exc:\n",
    "                warnings.warn('Could not save {!r}: {}'\n",
    "                              .format(INDEX_NAME, exc))\n",
    "\n",
    "    def save(self):\n",
    "        with open(INDEX_NAME, 'wb') as fp:\n",
    "            pickle.dump(self.index, fp)\n",
    "\n",
    "    def build_index(self, chars=None):\n",
    "        if chars is None:\n",
    "            chars = (chr(i) for i in range(32, sys.maxunicode))\n",
    "        index = {}\n",
    "        for char in chars:\n",
    "            try:\n",
    "                name = unicodedata.name(char)\n",
    "            except ValueError:\n",
    "                continue\n",
    "            if name.startswith(CJK_UNI_PREFIX):\n",
    "                name = CJK_UNI_PREFIX\n",
    "            elif name.startswith(CJK_CMP_PREFIX):\n",
    "                name = CJK_CMP_PREFIX\n",
    "\n",
    "            for word in tokenize(name):\n",
    "                index.setdefault(word, set()).add(char)\n",
    "\n",
    "        self.index = index\n",
    "\n",
    "    def word_rank(self, top=None):\n",
    "        res = [(len(self.index[key]), key) for key in self.index]\n",
    "        res.sort(key=lambda item: (-item[0], item[1]))\n",
    "        if top is not None:\n",
    "            res = res[:top]\n",
    "        return res\n",
    "\n",
    "    def word_report(self, top=None):\n",
    "        for postings, key in self.word_rank(top):\n",
    "            print('{:5} {}'.format(postings, key))\n",
    "\n",
    "    def find_chars(self, query, start=0, stop=None):\n",
    "        stop = sys.maxsize if stop is None else stop\n",
    "        result_sets = []\n",
    "        for word in tokenize(query):\n",
    "            chars = self.index.get(word)\n",
    "            if chars is None:  # shorcut: no such word\n",
    "                result_sets = []\n",
    "                break\n",
    "            result_sets.append(chars)\n",
    "\n",
    "        if not result_sets:\n",
    "            return QueryResult(0, ())\n",
    "\n",
    "        result = functools.reduce(set.intersection, result_sets)\n",
    "        result = sorted(result)  # must sort to support start, stop\n",
    "        result_iter = itertools.islice(result, start, stop)\n",
    "        return QueryResult(len(result),\n",
    "                           (char for char in result_iter))\n",
    "\n",
    "    def describe(self, char):\n",
    "        code_str = 'U+{:04X}'.format(ord(char))\n",
    "        name = unicodedata.name(char)\n",
    "        return CharDescription(code_str, char, name)\n",
    "\n",
    "    def find_descriptions(self, query, start=0, stop=None):\n",
    "        for char in self.find_chars(query, start, stop).items:\n",
    "            yield self.describe(char)\n",
    "\n",
    "    def get_descriptions(self, chars):\n",
    "        for char in chars:\n",
    "            yield self.describe(char)\n",
    "\n",
    "    def describe_str(self, char):\n",
    "        return '{:7}\\t{}\\t{}'.format(*self.describe(char))\n",
    "\n",
    "    def find_description_strs(self, query, start=0, stop=None):\n",
    "        for char in self.find_chars(query, start, stop).items:\n",
    "            yield self.describe_str(char)\n",
    "\n",
    "    @staticmethod  # not an instance method due to concurrency\n",
    "    def status(query, counter):\n",
    "        if counter == 0:\n",
    "            msg = 'No match'\n",
    "        elif counter == 1:\n",
    "            msg = '1 match'\n",
    "        else:\n",
    "            msg = '{} matches'.format(counter)\n",
    "        return '{} for {!r}'.format(msg, query)"
   ]
  },
  {
   "cell_type": "code",
   "execution_count": 8,
   "id": "03f356a8-c405-47ba-9115-f61ede60b695",
   "metadata": {},
   "outputs": [],
   "source": [
    "def main(*args):\n",
    "    index = UnicodeNameIndex()\n",
    "    query = ' '.join(args)\n",
    "    n = 0\n",
    "    for n, line in enumerate(index.find_description_strs(query), 1):\n",
    "        print(line)\n",
    "    print('({})'.format(index.status(query, n)))"
   ]
  },
  {
   "cell_type": "code",
   "execution_count": 9,
   "id": "e472cfda-eedb-43fe-87e1-023d92a475db",
   "metadata": {},
   "outputs": [
    {
     "name": "stdout",
     "output_type": "stream",
     "text": [
      "(No match for '-f C:\\\\Users\\\\Ivo\\\\AppData\\\\Roaming\\\\jupyter\\\\runtime\\\\kernel-d7bbb0d2-3052-410d-8482-f8b5584698d0.json')\n"
     ]
    }
   ],
   "source": [
    "if __name__ == '__main__':\n",
    "    if len(sys.argv) > 1:\n",
    "        main(*sys.argv[1:])\n",
    "    else:\n",
    "        print('Usage: {} word1 [word2]...'.format(sys.argv[0]))"
   ]
  },
  {
   "cell_type": "code",
   "execution_count": null,
   "id": "533b8070-ac64-418b-9103-fb88372ac089",
   "metadata": {},
   "outputs": [],
   "source": []
  },
  {
   "cell_type": "markdown",
   "id": "285b9d5b-7792-470b-9199-9bf3060bd873",
   "metadata": {},
   "source": [
    "#### Here is the ``main`` function which makes it happen::"
   ]
  },
  {
   "cell_type": "code",
   "execution_count": 10,
   "id": "29fdf2dc-11a3-4fbe-a166-ce695f269966",
   "metadata": {},
   "outputs": [
    {
     "name": "stdout",
     "output_type": "stream",
     "text": [
      "U+2656 \t♖\tWHITE CHESS ROOK\n",
      "U+265C \t♜\tBLACK CHESS ROOK\n",
      "U+1FA02\t🨂\tNEUTRAL CHESS ROOK\n",
      "U+1FA0B\t🨋\tWHITE CHESS ROOK ROTATED NINETY DEGREES\n",
      "U+1FA11\t🨑\tBLACK CHESS ROOK ROTATED NINETY DEGREES\n",
      "U+1FA17\t🨗\tNEUTRAL CHESS ROOK ROTATED NINETY DEGREES\n",
      "U+1FA20\t🨠\tWHITE CHESS TURNED ROOK\n",
      "U+1FA26\t🨦\tBLACK CHESS TURNED ROOK\n",
      "U+1FA2C\t🨬\tNEUTRAL CHESS TURNED ROOK\n",
      "U+1FA35\t🨵\tWHITE CHESS ROOK ROTATED TWO HUNDRED SEVENTY DEGREES\n",
      "U+1FA3B\t🨻\tBLACK CHESS ROOK ROTATED TWO HUNDRED SEVENTY DEGREES\n",
      "U+1FA41\t🩁\tNEUTRAL CHESS ROOK ROTATED TWO HUNDRED SEVENTY DEGREES\n",
      "U+1FA4F\t🩏\tWHITE CHESS KNIGHT-ROOK\n",
      "U+1FA52\t🩒\tBLACK CHESS KNIGHT-ROOK\n",
      "(14 matches for 'rook')\n"
     ]
    }
   ],
   "source": [
    "main('rook')"
   ]
  },
  {
   "cell_type": "code",
   "execution_count": 11,
   "id": "39d593dd-742f-474b-a1c7-446c733684ac",
   "metadata": {},
   "outputs": [
    {
     "name": "stdout",
     "output_type": "stream",
     "text": [
      "U+265C \t♜\tBLACK CHESS ROOK\n",
      "U+1FA11\t🨑\tBLACK CHESS ROOK ROTATED NINETY DEGREES\n",
      "U+1FA26\t🨦\tBLACK CHESS TURNED ROOK\n",
      "U+1FA3B\t🨻\tBLACK CHESS ROOK ROTATED TWO HUNDRED SEVENTY DEGREES\n",
      "U+1FA52\t🩒\tBLACK CHESS KNIGHT-ROOK\n",
      "(5 matches for 'rook black')\n"
     ]
    }
   ],
   "source": [
    "main('rook', 'black')"
   ]
  },
  {
   "cell_type": "code",
   "execution_count": 12,
   "id": "66fdd74e-5e1b-4b85-a831-639dfbf0224c",
   "metadata": {},
   "outputs": [
    {
     "name": "stdout",
     "output_type": "stream",
     "text": [
      "U+2657 \t♗\tWHITE CHESS BISHOP\n",
      "U+1FA0C\t🨌\tWHITE CHESS BISHOP ROTATED NINETY DEGREES\n",
      "U+1FA21\t🨡\tWHITE CHESS TURNED BISHOP\n",
      "U+1FA36\t🨶\tWHITE CHESS BISHOP ROTATED TWO HUNDRED SEVENTY DEGREES\n",
      "U+1FA50\t🩐\tWHITE CHESS KNIGHT-BISHOP\n",
      "(5 matches for 'white bishop')\n"
     ]
    }
   ],
   "source": [
    "main('white bishop')"
   ]
  },
  {
   "cell_type": "code",
   "execution_count": 13,
   "id": "22998d33-895c-4aac-8575-50cbe35a0ad1",
   "metadata": {},
   "outputs": [
    {
     "name": "stdout",
     "output_type": "stream",
     "text": [
      "(No match for \"jabberwocky's vest\")\n"
     ]
    }
   ],
   "source": [
    "main(\"jabberwocky's vest\")"
   ]
  },
  {
   "cell_type": "markdown",
   "id": "620fa717-2a6e-4f96-bc5e-18cdd09d3392",
   "metadata": {},
   "source": [
    "#### For exploring words that occur in the character names, there is the\n",
    "``word_report`` function::"
   ]
  },
  {
   "cell_type": "code",
   "execution_count": 14,
   "id": "8a9a0790-aa45-487f-abc5-29596516c15d",
   "metadata": {},
   "outputs": [],
   "source": [
    "index = UnicodeNameIndex(sample_chars)"
   ]
  },
  {
   "cell_type": "code",
   "execution_count": 15,
   "id": "8c9ae51b-964a-4f19-ab48-618ed92ca665",
   "metadata": {},
   "outputs": [
    {
     "name": "stdout",
     "output_type": "stream",
     "text": [
      "    3 SIGN\n",
      "    2 A\n",
      "    2 EURO\n",
      "    2 LATIN\n",
      "    2 LETTER\n",
      "    1 CAPITAL\n",
      "    1 CURRENCY\n",
      "    1 DOLLAR\n",
      "    1 SMALL\n"
     ]
    }
   ],
   "source": [
    "index.word_report()"
   ]
  },
  {
   "cell_type": "code",
   "execution_count": 16,
   "id": "1610eb43-79a6-4f63-af91-b91808748011",
   "metadata": {},
   "outputs": [],
   "source": [
    "index = UnicodeNameIndex()"
   ]
  },
  {
   "cell_type": "code",
   "execution_count": 17,
   "id": "6d51998a-e7c5-466f-bd06-95bb31fbc0ab",
   "metadata": {},
   "outputs": [
    {
     "name": "stdout",
     "output_type": "stream",
     "text": [
      "94061 CJK\n",
      "94001 IDEOGRAPH\n",
      "92896 UNIFIED\n",
      "13394 SYLLABLE\n",
      "11735 HANGUL\n",
      "10350 LETTER\n",
      " 3245 SIGN\n",
      " 3090 SMALL\n",
      " 2524 WITH\n",
      " 1977 CAPITAL\n"
     ]
    }
   ],
   "source": [
    "index.word_report(10)"
   ]
  }
 ],
 "metadata": {
  "kernelspec": {
   "display_name": "Python 3 (ipykernel)",
   "language": "python",
   "name": "python3"
  },
  "language_info": {
   "codemirror_mode": {
    "name": "ipython",
    "version": 3
   },
   "file_extension": ".py",
   "mimetype": "text/x-python",
   "name": "python",
   "nbconvert_exporter": "python",
   "pygments_lexer": "ipython3",
   "version": "3.10.2"
  }
 },
 "nbformat": 4,
 "nbformat_minor": 5
}
