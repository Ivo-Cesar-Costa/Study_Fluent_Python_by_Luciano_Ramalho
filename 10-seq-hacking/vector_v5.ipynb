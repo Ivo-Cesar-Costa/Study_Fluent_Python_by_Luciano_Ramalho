{
 "cells": [
  {
   "cell_type": "code",
   "execution_count": 1,
   "id": "5ff81d4e-e0d8-4eb0-afa0-de31c0ffe32f",
   "metadata": {},
   "outputs": [],
   "source": [
    "from array import array\n",
    "import reprlib\n",
    "import math\n",
    "import numbers\n",
    "import functools\n",
    "import operator\n",
    "import itertools"
   ]
  },
  {
   "cell_type": "code",
   "execution_count": 2,
   "id": "186f0f69-e399-45ca-9e06-30b802946469",
   "metadata": {},
   "outputs": [],
   "source": [
    "class Vector:\n",
    "    typecode = 'd'\n",
    "\n",
    "    def __init__(self, components):\n",
    "        self._components = array(self.typecode, components)\n",
    "\n",
    "    def __iter__(self):\n",
    "        return iter(self._components)\n",
    "\n",
    "    def __repr__(self):\n",
    "        components = reprlib.repr(self._components)\n",
    "        components = components[components.find('['):-1]\n",
    "        return 'Vector({})'.format(components)\n",
    "\n",
    "    def __str__(self):\n",
    "        return str(tuple(self))\n",
    "\n",
    "    def __bytes__(self):\n",
    "        return (bytes([ord(self.typecode)]) +\n",
    "                bytes(self._components))\n",
    "\n",
    "    def __eq__(self, other):\n",
    "        return (len(self) == len(other) and\n",
    "                all(a == b for a, b in zip(self, other)))\n",
    "\n",
    "    def __hash__(self):\n",
    "        hashes = (hash(x) for x in self)\n",
    "        return functools.reduce(operator.xor, hashes, 0)\n",
    "\n",
    "    def __abs__(self):\n",
    "        return math.sqrt(sum(x * x for x in self))\n",
    "\n",
    "    def __bool__(self):\n",
    "        return bool(abs(self))\n",
    "\n",
    "    def __len__(self):\n",
    "        return len(self._components)\n",
    "\n",
    "    def __getitem__(self, index):\n",
    "        cls = type(self)\n",
    "        if isinstance(index, slice):\n",
    "            return cls(self._components[index])\n",
    "        elif isinstance(index, numbers.Integral):\n",
    "            return self._components[index]\n",
    "        else:\n",
    "            msg = '{.__name__} indices must be integers'\n",
    "            raise TypeError(msg.format(cls))\n",
    "\n",
    "    shortcut_names = 'xyzt'\n",
    "\n",
    "    def __getattr__(self, name):\n",
    "        cls = type(self)\n",
    "        if len(name) == 1:\n",
    "            pos = cls.shortcut_names.find(name)\n",
    "            if 0 <= pos < len(self._components):\n",
    "                return self._components[pos]\n",
    "        msg = '{.__name__!r} object has no attribute {!r}'\n",
    "        raise AttributeError(msg.format(cls, name))\n",
    "\n",
    "    def angle(self, n):  # <2>\n",
    "        r = math.sqrt(sum(x * x for x in self[n:]))\n",
    "        a = math.atan2(r, self[n-1])\n",
    "        if (n == len(self) - 1) and (self[-1] < 0):\n",
    "            return math.pi * 2 - a\n",
    "        else:\n",
    "            return a\n",
    "\n",
    "    def angles(self):  # <3>\n",
    "        return (self.angle(n) for n in range(1, len(self)))\n",
    "\n",
    "    def __format__(self, fmt_spec=''):\n",
    "        if fmt_spec.endswith('h'):  # hyperspherical coordinates\n",
    "            fmt_spec = fmt_spec[:-1]\n",
    "            coords = itertools.chain([abs(self)],\n",
    "                                     self.angles())  # <4>\n",
    "            outer_fmt = '<{}>'  # <5>\n",
    "        else:\n",
    "            coords = self\n",
    "            outer_fmt = '({})'  # <6>\n",
    "        components = (format(c, fmt_spec) for c in coords)  # <7>\n",
    "        return outer_fmt.format(', '.join(components))  # <8>\n",
    "\n",
    "    @classmethod\n",
    "    def frombytes(cls, octets):\n",
    "        typecode = chr(octets[0])\n",
    "        memv = memoryview(octets[1:]).cast(typecode)\n",
    "        return cls(memv)"
   ]
  },
  {
   "cell_type": "markdown",
   "id": "cf50b119-1eb0-441e-bf56-14cf7c697d8d",
   "metadata": {},
   "source": [
    "#### A multi-dimensional ``Vector`` class, take 5\n",
    "#### A ``Vector`` is built from an iterable of numbers::"
   ]
  },
  {
   "cell_type": "code",
   "execution_count": 3,
   "id": "a2755b6f-6f4b-4259-99b6-4665a316dd5e",
   "metadata": {},
   "outputs": [
    {
     "data": {
      "text/plain": [
       "Vector([3.1, 4.2])"
      ]
     },
     "execution_count": 3,
     "metadata": {},
     "output_type": "execute_result"
    }
   ],
   "source": [
    ">>> Vector([3.1, 4.2])"
   ]
  },
  {
   "cell_type": "code",
   "execution_count": 4,
   "id": "214b4a35-ffa7-452c-bc28-1fa0a66e2cdc",
   "metadata": {},
   "outputs": [
    {
     "data": {
      "text/plain": [
       "Vector([3.0, 4.0, 5.0])"
      ]
     },
     "execution_count": 4,
     "metadata": {},
     "output_type": "execute_result"
    }
   ],
   "source": [
    ">>> Vector((3, 4, 5))"
   ]
  },
  {
   "cell_type": "code",
   "execution_count": 5,
   "id": "b04bd5ff-1cf5-4ea1-99db-bc5b7c1d374c",
   "metadata": {},
   "outputs": [
    {
     "data": {
      "text/plain": [
       "Vector([0.0, 1.0, 2.0, 3.0, 4.0, ...])"
      ]
     },
     "execution_count": 5,
     "metadata": {},
     "output_type": "execute_result"
    }
   ],
   "source": [
    ">>> Vector(range(10))"
   ]
  },
  {
   "cell_type": "markdown",
   "id": "ff84c7b4-6065-44c1-9434-4fff989f7cbe",
   "metadata": {},
   "source": [
    "#### Tests with 2-dimensions (same results as ``vector2d_v1.py``)::"
   ]
  },
  {
   "cell_type": "code",
   "execution_count": 6,
   "id": "33943ecf-f082-4108-8f7c-03b824740719",
   "metadata": {},
   "outputs": [
    {
     "data": {
      "text/plain": [
       "(3.0, 4.0)"
      ]
     },
     "execution_count": 6,
     "metadata": {},
     "output_type": "execute_result"
    }
   ],
   "source": [
    ">>> v1 = Vector([3, 4])\n",
    ">>> x, y = v1\n",
    ">>> x, y"
   ]
  },
  {
   "cell_type": "code",
   "execution_count": 7,
   "id": "c1607e7b-0411-4c39-b396-9d984b02302b",
   "metadata": {},
   "outputs": [
    {
     "data": {
      "text/plain": [
       "Vector([3.0, 4.0])"
      ]
     },
     "execution_count": 7,
     "metadata": {},
     "output_type": "execute_result"
    }
   ],
   "source": [
    ">>> v1"
   ]
  },
  {
   "cell_type": "code",
   "execution_count": 8,
   "id": "0d296c1c-02f7-4666-b6a4-d30538f2102d",
   "metadata": {},
   "outputs": [
    {
     "data": {
      "text/plain": [
       "True"
      ]
     },
     "execution_count": 8,
     "metadata": {},
     "output_type": "execute_result"
    }
   ],
   "source": [
    ">>> v1_clone = eval(repr(v1))\n",
    ">>> v1 == v1_clone"
   ]
  },
  {
   "cell_type": "code",
   "execution_count": 9,
   "id": "b4fa10e5-b583-4c0d-8405-1aba470e9128",
   "metadata": {},
   "outputs": [
    {
     "name": "stdout",
     "output_type": "stream",
     "text": [
      "(3.0, 4.0)\n"
     ]
    }
   ],
   "source": [
    ">>> print(v1)"
   ]
  },
  {
   "cell_type": "code",
   "execution_count": 10,
   "id": "39ada0bb-56f3-4bce-b6f5-b9652714d9a1",
   "metadata": {},
   "outputs": [
    {
     "data": {
      "text/plain": [
       "b'd\\x00\\x00\\x00\\x00\\x00\\x00\\x08@\\x00\\x00\\x00\\x00\\x00\\x00\\x10@'"
      ]
     },
     "execution_count": 10,
     "metadata": {},
     "output_type": "execute_result"
    }
   ],
   "source": [
    ">>> octets = bytes(v1)\n",
    ">>> octets"
   ]
  },
  {
   "cell_type": "code",
   "execution_count": 11,
   "id": "fdbbdc82-42e2-401e-b3c9-8ae4bf31bab4",
   "metadata": {},
   "outputs": [
    {
     "data": {
      "text/plain": [
       "5.0"
      ]
     },
     "execution_count": 11,
     "metadata": {},
     "output_type": "execute_result"
    }
   ],
   "source": [
    ">>> abs(v1)"
   ]
  },
  {
   "cell_type": "code",
   "execution_count": 12,
   "id": "06e29e6a-a814-4013-ac1d-b3718cf8c89c",
   "metadata": {},
   "outputs": [
    {
     "data": {
      "text/plain": [
       "(True, False)"
      ]
     },
     "execution_count": 12,
     "metadata": {},
     "output_type": "execute_result"
    }
   ],
   "source": [
    ">>> bool(v1), bool(Vector([0, 0]))"
   ]
  },
  {
   "cell_type": "markdown",
   "id": "3d39fc31-362d-4898-b548-e5febec75eef",
   "metadata": {},
   "source": [
    "#### Test of ``.frombytes()`` class method:"
   ]
  },
  {
   "cell_type": "code",
   "execution_count": 13,
   "id": "59eb937c-6a30-47b5-ae14-892d40a78217",
   "metadata": {},
   "outputs": [
    {
     "data": {
      "text/plain": [
       "Vector([3.0, 4.0])"
      ]
     },
     "execution_count": 13,
     "metadata": {},
     "output_type": "execute_result"
    }
   ],
   "source": [
    ">>> v1_clone = Vector.frombytes(bytes(v1))\n",
    ">>> v1_clone"
   ]
  },
  {
   "cell_type": "code",
   "execution_count": 14,
   "id": "aa91ca38-42e2-4bd5-b548-f8014c4b49c3",
   "metadata": {},
   "outputs": [
    {
     "data": {
      "text/plain": [
       "True"
      ]
     },
     "execution_count": 14,
     "metadata": {},
     "output_type": "execute_result"
    }
   ],
   "source": [
    ">>> v1 == v1_clone"
   ]
  },
  {
   "cell_type": "markdown",
   "id": "a9a623a3-29cc-4c0a-9506-9a2d6700da2e",
   "metadata": {},
   "source": [
    "#### Tests with 3-dimensions::"
   ]
  },
  {
   "cell_type": "code",
   "execution_count": 15,
   "id": "8c645e82-50e1-4365-82e5-42589aed8350",
   "metadata": {},
   "outputs": [
    {
     "data": {
      "text/plain": [
       "(3.0, 4.0, 5.0)"
      ]
     },
     "execution_count": 15,
     "metadata": {},
     "output_type": "execute_result"
    }
   ],
   "source": [
    ">>> v1 = Vector([3, 4, 5])\n",
    ">>> x, y, z = v1\n",
    ">>> x, y, z"
   ]
  },
  {
   "cell_type": "code",
   "execution_count": 16,
   "id": "6ab3b3b2-86ce-4f59-88aa-e6fefa44bb57",
   "metadata": {},
   "outputs": [
    {
     "data": {
      "text/plain": [
       "Vector([3.0, 4.0, 5.0])"
      ]
     },
     "execution_count": 16,
     "metadata": {},
     "output_type": "execute_result"
    }
   ],
   "source": [
    ">>> v1"
   ]
  },
  {
   "cell_type": "code",
   "execution_count": 17,
   "id": "b10bc9a1-ae32-4c78-bdc9-c1164dd4fd23",
   "metadata": {},
   "outputs": [
    {
     "data": {
      "text/plain": [
       "True"
      ]
     },
     "execution_count": 17,
     "metadata": {},
     "output_type": "execute_result"
    }
   ],
   "source": [
    ">>> v1_clone = eval(repr(v1))\n",
    ">>> v1 == v1_clone"
   ]
  },
  {
   "cell_type": "code",
   "execution_count": 18,
   "id": "1b20a438-0238-4f6c-ac88-4b67a65a856b",
   "metadata": {},
   "outputs": [
    {
     "name": "stdout",
     "output_type": "stream",
     "text": [
      "(3.0, 4.0, 5.0)\n"
     ]
    }
   ],
   "source": [
    ">>> print(v1)"
   ]
  },
  {
   "cell_type": "code",
   "execution_count": 19,
   "id": "fc922da0-6b8d-46c0-affc-d9a17d599cbe",
   "metadata": {},
   "outputs": [
    {
     "data": {
      "text/plain": [
       "7.0710678118654755"
      ]
     },
     "execution_count": 19,
     "metadata": {},
     "output_type": "execute_result"
    }
   ],
   "source": [
    ">>> abs(v1)  # doctest:+ELLIPSIS"
   ]
  },
  {
   "cell_type": "code",
   "execution_count": 20,
   "id": "78ed5b07-9d38-431d-bc4f-f3c16a35c010",
   "metadata": {},
   "outputs": [
    {
     "data": {
      "text/plain": [
       "(True, False)"
      ]
     },
     "execution_count": 20,
     "metadata": {},
     "output_type": "execute_result"
    }
   ],
   "source": [
    ">>> bool(v1), bool(Vector([0, 0, 0]))"
   ]
  },
  {
   "cell_type": "markdown",
   "id": "1bd7c888-53a0-4fe2-a04f-8933f954cb3e",
   "metadata": {},
   "source": [
    "#### Tests with many dimensions::"
   ]
  },
  {
   "cell_type": "code",
   "execution_count": 21,
   "id": "4d8f2913-95b9-4eec-9075-aef0826ef188",
   "metadata": {},
   "outputs": [
    {
     "data": {
      "text/plain": [
       "Vector([0.0, 1.0, 2.0, 3.0, 4.0, ...])"
      ]
     },
     "execution_count": 21,
     "metadata": {},
     "output_type": "execute_result"
    }
   ],
   "source": [
    ">>> v7 = Vector(range(7))\n",
    ">>> v7"
   ]
  },
  {
   "cell_type": "code",
   "execution_count": 22,
   "id": "2711a0e6-a3d6-4a3f-885f-70681a6f0d77",
   "metadata": {},
   "outputs": [
    {
     "data": {
      "text/plain": [
       "9.539392014169456"
      ]
     },
     "execution_count": 22,
     "metadata": {},
     "output_type": "execute_result"
    }
   ],
   "source": [
    ">>> abs(v7)  # doctest:+ELLIPSIS"
   ]
  },
  {
   "cell_type": "markdown",
   "id": "889193f5-ed6b-414d-a7db-e3c26ce6da8b",
   "metadata": {},
   "source": [
    "#### Test of ``.__bytes__`` and ``.frombytes()`` methods::"
   ]
  },
  {
   "cell_type": "code",
   "execution_count": 23,
   "id": "e0b3dc58-4336-4ca8-a024-42145267756f",
   "metadata": {},
   "outputs": [
    {
     "data": {
      "text/plain": [
       "Vector([3.0, 4.0, 5.0])"
      ]
     },
     "execution_count": 23,
     "metadata": {},
     "output_type": "execute_result"
    }
   ],
   "source": [
    ">>> v1 = Vector([3, 4, 5])\n",
    ">>> v1_clone = Vector.frombytes(bytes(v1))\n",
    ">>> v1_clone"
   ]
  },
  {
   "cell_type": "code",
   "execution_count": 24,
   "id": "f10a801c-d072-4a40-a2d4-73402e632ea5",
   "metadata": {},
   "outputs": [
    {
     "data": {
      "text/plain": [
       "True"
      ]
     },
     "execution_count": 24,
     "metadata": {},
     "output_type": "execute_result"
    }
   ],
   "source": [
    ">>> v1 == v1_clone"
   ]
  },
  {
   "cell_type": "markdown",
   "id": "c8528c96-698d-4982-9ebb-fe78784fba6b",
   "metadata": {},
   "source": [
    "#### Tests of sequence behavior::"
   ]
  },
  {
   "cell_type": "code",
   "execution_count": 25,
   "id": "1c4e11d9-1e6c-4b17-889e-4a8fabb2b2e2",
   "metadata": {},
   "outputs": [
    {
     "data": {
      "text/plain": [
       "3"
      ]
     },
     "execution_count": 25,
     "metadata": {},
     "output_type": "execute_result"
    }
   ],
   "source": [
    ">>> v1 = Vector([3, 4, 5])\n",
    ">>> len(v1)"
   ]
  },
  {
   "cell_type": "code",
   "execution_count": 26,
   "id": "ef20b5e7-6b5f-42de-81a7-79916b091596",
   "metadata": {},
   "outputs": [
    {
     "data": {
      "text/plain": [
       "(3.0, 5.0, 5.0)"
      ]
     },
     "execution_count": 26,
     "metadata": {},
     "output_type": "execute_result"
    }
   ],
   "source": [
    ">>> v1[0], v1[len(v1)-1], v1[-1]"
   ]
  },
  {
   "cell_type": "markdown",
   "id": "1d94c0c9-4d0a-4f39-95b8-41cb520d4a51",
   "metadata": {},
   "source": [
    "#### Test of slicing::"
   ]
  },
  {
   "cell_type": "code",
   "execution_count": 27,
   "id": "238174f8-c150-454c-beb7-cf9cc9b75da5",
   "metadata": {},
   "outputs": [
    {
     "data": {
      "text/plain": [
       "6.0"
      ]
     },
     "execution_count": 27,
     "metadata": {},
     "output_type": "execute_result"
    }
   ],
   "source": [
    ">>> v7 = Vector(range(7))\n",
    ">>> v7[-1]"
   ]
  },
  {
   "cell_type": "code",
   "execution_count": 28,
   "id": "33deaf8e-c311-43ce-9b71-e14130c57ead",
   "metadata": {},
   "outputs": [
    {
     "data": {
      "text/plain": [
       "Vector([1.0, 2.0, 3.0])"
      ]
     },
     "execution_count": 28,
     "metadata": {},
     "output_type": "execute_result"
    }
   ],
   "source": [
    ">>> v7[1:4]"
   ]
  },
  {
   "cell_type": "code",
   "execution_count": 29,
   "id": "bf1527dd-9142-4a1e-b9b2-3922464e7f10",
   "metadata": {},
   "outputs": [
    {
     "data": {
      "text/plain": [
       "Vector([6.0])"
      ]
     },
     "execution_count": 29,
     "metadata": {},
     "output_type": "execute_result"
    }
   ],
   "source": [
    ">>> v7[-1:]"
   ]
  },
  {
   "cell_type": "code",
   "execution_count": 30,
   "id": "b046d352-19b3-46ab-973e-aa02d690c8da",
   "metadata": {},
   "outputs": [
    {
     "ename": "TypeError",
     "evalue": "Vector indices must be integers",
     "output_type": "error",
     "traceback": [
      "\u001b[1;31m---------------------------------------------------------------------------\u001b[0m",
      "\u001b[1;31mTypeError\u001b[0m                                 Traceback (most recent call last)",
      "Input \u001b[1;32mIn [30]\u001b[0m, in \u001b[0;36m<module>\u001b[1;34m\u001b[0m\n\u001b[1;32m----> 1\u001b[0m \u001b[43mv7\u001b[49m\u001b[43m[\u001b[49m\u001b[38;5;241;43m1\u001b[39;49m\u001b[43m,\u001b[49m\u001b[38;5;241;43m2\u001b[39;49m\u001b[43m]\u001b[49m\n",
      "Input \u001b[1;32mIn [2]\u001b[0m, in \u001b[0;36mVector.__getitem__\u001b[1;34m(self, index)\u001b[0m\n\u001b[0;32m     45\u001b[0m \u001b[38;5;28;01melse\u001b[39;00m:\n\u001b[0;32m     46\u001b[0m     msg \u001b[38;5;241m=\u001b[39m \u001b[38;5;124m'\u001b[39m\u001b[38;5;124m{\u001b[39m\u001b[38;5;124m.__name__} indices must be integers\u001b[39m\u001b[38;5;124m'\u001b[39m\n\u001b[1;32m---> 47\u001b[0m     \u001b[38;5;28;01mraise\u001b[39;00m \u001b[38;5;167;01mTypeError\u001b[39;00m(msg\u001b[38;5;241m.\u001b[39mformat(\u001b[38;5;28mcls\u001b[39m))\n",
      "\u001b[1;31mTypeError\u001b[0m: Vector indices must be integers"
     ]
    }
   ],
   "source": [
    ">>> v7[1,2]"
   ]
  },
  {
   "cell_type": "markdown",
   "id": "974c6fdd-5fe1-4e15-95ee-3a67ec7ebae6",
   "metadata": {},
   "source": [
    "#### Tests of dynamic attribute access::"
   ]
  },
  {
   "cell_type": "code",
   "execution_count": 31,
   "id": "8010faba-dce1-414e-b8b0-b5b01ff26eed",
   "metadata": {},
   "outputs": [
    {
     "data": {
      "text/plain": [
       "0.0"
      ]
     },
     "execution_count": 31,
     "metadata": {},
     "output_type": "execute_result"
    }
   ],
   "source": [
    ">>> v7 = Vector(range(10))\n",
    ">>> v7.x"
   ]
  },
  {
   "cell_type": "code",
   "execution_count": 32,
   "id": "2e74fe99-5c68-4d9c-a695-0702f49560ac",
   "metadata": {},
   "outputs": [
    {
     "data": {
      "text/plain": [
       "(1.0, 2.0, 3.0)"
      ]
     },
     "execution_count": 32,
     "metadata": {},
     "output_type": "execute_result"
    }
   ],
   "source": [
    ">>> v7.y, v7.z, v7.t"
   ]
  },
  {
   "cell_type": "markdown",
   "id": "1d225840-0e4e-4e40-95f5-3eac27410ba8",
   "metadata": {},
   "source": [
    "#### Dynamic attribute lookup failures::"
   ]
  },
  {
   "cell_type": "code",
   "execution_count": 33,
   "id": "5d0d2771-62cc-40f4-b487-bdd159b6d062",
   "metadata": {},
   "outputs": [
    {
     "ename": "AttributeError",
     "evalue": "'Vector' object has no attribute 'k'",
     "output_type": "error",
     "traceback": [
      "\u001b[1;31m---------------------------------------------------------------------------\u001b[0m",
      "\u001b[1;31mAttributeError\u001b[0m                            Traceback (most recent call last)",
      "Input \u001b[1;32mIn [33]\u001b[0m, in \u001b[0;36m<module>\u001b[1;34m\u001b[0m\n\u001b[1;32m----> 1\u001b[0m \u001b[43mv7\u001b[49m\u001b[38;5;241;43m.\u001b[39;49m\u001b[43mk\u001b[49m\n",
      "Input \u001b[1;32mIn [2]\u001b[0m, in \u001b[0;36mVector.__getattr__\u001b[1;34m(self, name)\u001b[0m\n\u001b[0;32m     56\u001b[0m         \u001b[38;5;28;01mreturn\u001b[39;00m \u001b[38;5;28mself\u001b[39m\u001b[38;5;241m.\u001b[39m_components[pos]\n\u001b[0;32m     57\u001b[0m msg \u001b[38;5;241m=\u001b[39m \u001b[38;5;124m'\u001b[39m\u001b[38;5;124m{\u001b[39m\u001b[38;5;124m.__name__!r} object has no attribute \u001b[39m\u001b[38;5;132;01m{!r}\u001b[39;00m\u001b[38;5;124m'\u001b[39m\n\u001b[1;32m---> 58\u001b[0m \u001b[38;5;28;01mraise\u001b[39;00m \u001b[38;5;167;01mAttributeError\u001b[39;00m(msg\u001b[38;5;241m.\u001b[39mformat(\u001b[38;5;28mcls\u001b[39m, name))\n",
      "\u001b[1;31mAttributeError\u001b[0m: 'Vector' object has no attribute 'k'"
     ]
    }
   ],
   "source": [
    ">>> v7.k"
   ]
  },
  {
   "cell_type": "code",
   "execution_count": 34,
   "id": "ba145e49-1b73-47c0-b91b-866dce9f6762",
   "metadata": {},
   "outputs": [
    {
     "ename": "AttributeError",
     "evalue": "'Vector' object has no attribute 't'",
     "output_type": "error",
     "traceback": [
      "\u001b[1;31m---------------------------------------------------------------------------\u001b[0m",
      "\u001b[1;31mAttributeError\u001b[0m                            Traceback (most recent call last)",
      "Input \u001b[1;32mIn [34]\u001b[0m, in \u001b[0;36m<module>\u001b[1;34m\u001b[0m\n\u001b[0;32m      1\u001b[0m v3 \u001b[38;5;241m=\u001b[39m Vector(\u001b[38;5;28mrange\u001b[39m(\u001b[38;5;241m3\u001b[39m))\n\u001b[1;32m----> 2\u001b[0m \u001b[43mv3\u001b[49m\u001b[38;5;241;43m.\u001b[39;49m\u001b[43mt\u001b[49m\n",
      "Input \u001b[1;32mIn [2]\u001b[0m, in \u001b[0;36mVector.__getattr__\u001b[1;34m(self, name)\u001b[0m\n\u001b[0;32m     56\u001b[0m         \u001b[38;5;28;01mreturn\u001b[39;00m \u001b[38;5;28mself\u001b[39m\u001b[38;5;241m.\u001b[39m_components[pos]\n\u001b[0;32m     57\u001b[0m msg \u001b[38;5;241m=\u001b[39m \u001b[38;5;124m'\u001b[39m\u001b[38;5;124m{\u001b[39m\u001b[38;5;124m.__name__!r} object has no attribute \u001b[39m\u001b[38;5;132;01m{!r}\u001b[39;00m\u001b[38;5;124m'\u001b[39m\n\u001b[1;32m---> 58\u001b[0m \u001b[38;5;28;01mraise\u001b[39;00m \u001b[38;5;167;01mAttributeError\u001b[39;00m(msg\u001b[38;5;241m.\u001b[39mformat(\u001b[38;5;28mcls\u001b[39m, name))\n",
      "\u001b[1;31mAttributeError\u001b[0m: 'Vector' object has no attribute 't'"
     ]
    }
   ],
   "source": [
    ">>> v3 = Vector(range(3))\n",
    ">>> v3.t"
   ]
  },
  {
   "cell_type": "code",
   "execution_count": 35,
   "id": "4a63cd81-376f-4911-a627-bb971e1bf741",
   "metadata": {},
   "outputs": [
    {
     "ename": "AttributeError",
     "evalue": "'Vector' object has no attribute 'spam'",
     "output_type": "error",
     "traceback": [
      "\u001b[1;31m---------------------------------------------------------------------------\u001b[0m",
      "\u001b[1;31mAttributeError\u001b[0m                            Traceback (most recent call last)",
      "Input \u001b[1;32mIn [35]\u001b[0m, in \u001b[0;36m<module>\u001b[1;34m\u001b[0m\n\u001b[1;32m----> 1\u001b[0m \u001b[43mv3\u001b[49m\u001b[38;5;241;43m.\u001b[39;49m\u001b[43mspam\u001b[49m\n",
      "Input \u001b[1;32mIn [2]\u001b[0m, in \u001b[0;36mVector.__getattr__\u001b[1;34m(self, name)\u001b[0m\n\u001b[0;32m     56\u001b[0m         \u001b[38;5;28;01mreturn\u001b[39;00m \u001b[38;5;28mself\u001b[39m\u001b[38;5;241m.\u001b[39m_components[pos]\n\u001b[0;32m     57\u001b[0m msg \u001b[38;5;241m=\u001b[39m \u001b[38;5;124m'\u001b[39m\u001b[38;5;124m{\u001b[39m\u001b[38;5;124m.__name__!r} object has no attribute \u001b[39m\u001b[38;5;132;01m{!r}\u001b[39;00m\u001b[38;5;124m'\u001b[39m\n\u001b[1;32m---> 58\u001b[0m \u001b[38;5;28;01mraise\u001b[39;00m \u001b[38;5;167;01mAttributeError\u001b[39;00m(msg\u001b[38;5;241m.\u001b[39mformat(\u001b[38;5;28mcls\u001b[39m, name))\n",
      "\u001b[1;31mAttributeError\u001b[0m: 'Vector' object has no attribute 'spam'"
     ]
    }
   ],
   "source": [
    ">>> v3.spam"
   ]
  },
  {
   "cell_type": "markdown",
   "id": "6e29580c-1eba-446e-a47d-50d6c7df66c4",
   "metadata": {},
   "source": [
    "#### Tests of hashing::"
   ]
  },
  {
   "cell_type": "code",
   "execution_count": 36,
   "id": "3e6bf142-a1a7-4710-91e5-d2b4503f4b2b",
   "metadata": {},
   "outputs": [
    {
     "data": {
      "text/plain": [
       "(7, 2, 1)"
      ]
     },
     "execution_count": 36,
     "metadata": {},
     "output_type": "execute_result"
    }
   ],
   "source": [
    ">>> v1 = Vector([3, 4])\n",
    ">>> v2 = Vector([3.1, 4.2])\n",
    ">>> v3 = Vector([3, 4, 5])\n",
    ">>> v6 = Vector(range(6))\n",
    ">>> hash(v1), hash(v3), hash(v6)"
   ]
  },
  {
   "cell_type": "markdown",
   "id": "98e1c685-6804-4870-b5ef-e3b8fd7442ab",
   "metadata": {},
   "source": [
    "#### Most hash values of non-integers vary from a 32-bit to 64-bit CPython build::"
   ]
  },
  {
   "cell_type": "code",
   "execution_count": 37,
   "id": "596ee284-c163-451b-9e83-088101c5a5d7",
   "metadata": {},
   "outputs": [
    {
     "data": {
      "text/plain": [
       "True"
      ]
     },
     "execution_count": 37,
     "metadata": {},
     "output_type": "execute_result"
    }
   ],
   "source": [
    ">>> import sys\n",
    ">>> hash(v2) == (384307168202284039 if sys.maxsize > 2**32 else 357915986)"
   ]
  },
  {
   "cell_type": "markdown",
   "id": "6d68cdf7-73c4-477d-941e-e93a30231bec",
   "metadata": {},
   "source": [
    "#### Tests of ``format()`` with Cartesian coordinates in 2D::"
   ]
  },
  {
   "cell_type": "code",
   "execution_count": 38,
   "id": "72c45a2e-c1bd-406c-a469-b3dd208dd84b",
   "metadata": {},
   "outputs": [
    {
     "data": {
      "text/plain": [
       "'(3.0, 4.0)'"
      ]
     },
     "execution_count": 38,
     "metadata": {},
     "output_type": "execute_result"
    }
   ],
   "source": [
    ">>> v1 = Vector([3, 4])\n",
    ">>> format(v1)"
   ]
  },
  {
   "cell_type": "code",
   "execution_count": 39,
   "id": "c7912723-db52-4899-b5be-862faf2ad1f6",
   "metadata": {},
   "outputs": [
    {
     "data": {
      "text/plain": [
       "'(3.00, 4.00)'"
      ]
     },
     "execution_count": 39,
     "metadata": {},
     "output_type": "execute_result"
    }
   ],
   "source": [
    ">>> format(v1, '.2f')"
   ]
  },
  {
   "cell_type": "code",
   "execution_count": 40,
   "id": "29bc18f7-d791-43f7-a410-5dbb5b2934aa",
   "metadata": {},
   "outputs": [
    {
     "data": {
      "text/plain": [
       "'(3.000e+00, 4.000e+00)'"
      ]
     },
     "execution_count": 40,
     "metadata": {},
     "output_type": "execute_result"
    }
   ],
   "source": [
    ">>> format(v1, '.3e')"
   ]
  },
  {
   "cell_type": "markdown",
   "id": "812edd42-a19e-4f45-98fc-817e4621e7f5",
   "metadata": {},
   "source": [
    "#### Tests of ``format()`` with Cartesian coordinates in 3D and 7D::"
   ]
  },
  {
   "cell_type": "code",
   "execution_count": 41,
   "id": "6b539723-551b-4658-820a-3923de6cbe4c",
   "metadata": {},
   "outputs": [
    {
     "data": {
      "text/plain": [
       "'(3.0, 4.0, 5.0)'"
      ]
     },
     "execution_count": 41,
     "metadata": {},
     "output_type": "execute_result"
    }
   ],
   "source": [
    ">>> v3 = Vector([3, 4, 5])\n",
    ">>> format(v3)"
   ]
  },
  {
   "cell_type": "code",
   "execution_count": 42,
   "id": "5404c2e8-42a3-4271-a523-735cb39b9552",
   "metadata": {},
   "outputs": [
    {
     "data": {
      "text/plain": [
       "'(0.0, 1.0, 2.0, 3.0, 4.0, 5.0, 6.0)'"
      ]
     },
     "execution_count": 42,
     "metadata": {},
     "output_type": "execute_result"
    }
   ],
   "source": [
    ">>> format(Vector(range(7)))"
   ]
  },
  {
   "cell_type": "markdown",
   "id": "08a2e91a-4e14-4759-948e-580050721abd",
   "metadata": {},
   "source": [
    "#### Tests of ``format()`` with spherical coordinates in 2D, 3D and 4D::"
   ]
  },
  {
   "cell_type": "code",
   "execution_count": 43,
   "id": "5b58ce8a-3b42-4968-85ae-7b9b2bfbc3ab",
   "metadata": {},
   "outputs": [
    {
     "data": {
      "text/plain": [
       "'<1.4142135623730951, 0.7853981633974483>'"
      ]
     },
     "execution_count": 43,
     "metadata": {},
     "output_type": "execute_result"
    }
   ],
   "source": [
    ">>> format(Vector([1, 1]), 'h')  # doctest:+ELLIPSIS"
   ]
  },
  {
   "cell_type": "code",
   "execution_count": 44,
   "id": "dcc849b4-f7c2-41d3-8b57-d3e53d860fba",
   "metadata": {},
   "outputs": [
    {
     "data": {
      "text/plain": [
       "'<1.414e+00, 7.854e-01>'"
      ]
     },
     "execution_count": 44,
     "metadata": {},
     "output_type": "execute_result"
    }
   ],
   "source": [
    ">>> format(Vector([1, 1]), '.3eh')"
   ]
  },
  {
   "cell_type": "code",
   "execution_count": 45,
   "id": "574dc0f7-21e6-48be-9519-e1bf0783b9aa",
   "metadata": {},
   "outputs": [
    {
     "data": {
      "text/plain": [
       "'<1.41421, 0.78540>'"
      ]
     },
     "execution_count": 45,
     "metadata": {},
     "output_type": "execute_result"
    }
   ],
   "source": [
    ">>> format(Vector([1, 1]), '0.5fh')"
   ]
  },
  {
   "cell_type": "code",
   "execution_count": 46,
   "id": "d573e647-836d-4b6c-80f8-cda2f3ca8f3e",
   "metadata": {},
   "outputs": [
    {
     "data": {
      "text/plain": [
       "'<1.7320508075688772, 0.9553166181245093, 0.7853981633974483>'"
      ]
     },
     "execution_count": 46,
     "metadata": {},
     "output_type": "execute_result"
    }
   ],
   "source": [
    ">>> format(Vector([1, 1, 1]), 'h')  # doctest:+ELLIPSIS"
   ]
  },
  {
   "cell_type": "code",
   "execution_count": 47,
   "id": "d81b4b6b-0b70-41b3-9999-2cc5a8f997df",
   "metadata": {},
   "outputs": [
    {
     "data": {
      "text/plain": [
       "'<3.464e+00, 9.553e-01, 7.854e-01>'"
      ]
     },
     "execution_count": 47,
     "metadata": {},
     "output_type": "execute_result"
    }
   ],
   "source": [
    ">>> format(Vector([2, 2, 2]), '.3eh')"
   ]
  },
  {
   "cell_type": "code",
   "execution_count": 48,
   "id": "a7444082-29ae-4b87-a450-f42c7dfccce3",
   "metadata": {},
   "outputs": [
    {
     "data": {
      "text/plain": [
       "'<0.00000, 0.00000, 0.00000>'"
      ]
     },
     "execution_count": 48,
     "metadata": {},
     "output_type": "execute_result"
    }
   ],
   "source": [
    ">>> format(Vector([0, 0, 0]), '0.5fh')"
   ]
  },
  {
   "cell_type": "code",
   "execution_count": 49,
   "id": "c8a4559b-8ed5-4efe-b510-4894204c703e",
   "metadata": {},
   "outputs": [
    {
     "data": {
      "text/plain": [
       "'<2.0, 2.0943951023931957, 2.186276035465284, 3.9269908169872414>'"
      ]
     },
     "execution_count": 49,
     "metadata": {},
     "output_type": "execute_result"
    }
   ],
   "source": [
    ">>> format(Vector([-1, -1, -1, -1]), 'h')  # doctest:+ELLIPSIS"
   ]
  },
  {
   "cell_type": "code",
   "execution_count": 50,
   "id": "595f0e90-5272-413c-84cd-011350166f33",
   "metadata": {},
   "outputs": [
    {
     "data": {
      "text/plain": [
       "'<4.000e+00, 1.047e+00, 9.553e-01, 7.854e-01>'"
      ]
     },
     "execution_count": 50,
     "metadata": {},
     "output_type": "execute_result"
    }
   ],
   "source": [
    ">>> format(Vector([2, 2, 2, 2]), '.3eh')"
   ]
  },
  {
   "cell_type": "code",
   "execution_count": 51,
   "id": "aa0d6e54-f784-4220-9014-fb46fc6c2f82",
   "metadata": {},
   "outputs": [
    {
     "data": {
      "text/plain": [
       "'<1.00000, 1.57080, 0.00000, 0.00000>'"
      ]
     },
     "execution_count": 51,
     "metadata": {},
     "output_type": "execute_result"
    }
   ],
   "source": [
    ">>> format(Vector([0, 1, 0, 0]), '0.5fh')"
   ]
  }
 ],
 "metadata": {
  "kernelspec": {
   "display_name": "Python 3 (ipykernel)",
   "language": "python",
   "name": "python3"
  },
  "language_info": {
   "codemirror_mode": {
    "name": "ipython",
    "version": 3
   },
   "file_extension": ".py",
   "mimetype": "text/x-python",
   "name": "python",
   "nbconvert_exporter": "python",
   "pygments_lexer": "ipython3",
   "version": "3.10.2"
  }
 },
 "nbformat": 4,
 "nbformat_minor": 5
}
