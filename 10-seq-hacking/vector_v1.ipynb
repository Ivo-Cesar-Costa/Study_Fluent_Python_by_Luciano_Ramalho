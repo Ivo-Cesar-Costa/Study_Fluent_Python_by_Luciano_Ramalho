{
 "cells": [
  {
   "cell_type": "code",
   "execution_count": 1,
   "id": "9d692319-fd0c-49b9-9f6f-8dd1a490fbd7",
   "metadata": {},
   "outputs": [],
   "source": [
    "from array import array\n",
    "import reprlib\n",
    "import math"
   ]
  },
  {
   "cell_type": "code",
   "execution_count": 2,
   "id": "ee3b0d8b-4560-4a7f-b160-d0719143d29e",
   "metadata": {},
   "outputs": [],
   "source": [
    "class Vector:\n",
    "    typecode = 'd'\n",
    "\n",
    "    def __init__(self, components):\n",
    "        self._components = array(self.typecode, components)  # <1>\n",
    "\n",
    "    def __iter__(self):\n",
    "        return iter(self._components)  # <2>\n",
    "\n",
    "    def __repr__(self):\n",
    "        components = reprlib.repr(self._components)  # <3>\n",
    "        components = components[components.find('['):-1]  # <4>\n",
    "        return 'Vector({})'.format(components)\n",
    "\n",
    "    def __str__(self):\n",
    "        return str(tuple(self))\n",
    "\n",
    "    def __bytes__(self):\n",
    "        return (bytes([ord(self.typecode)]) +\n",
    "                bytes(self._components))  # <5>\n",
    "\n",
    "    def __eq__(self, other):\n",
    "        return tuple(self) == tuple(other)\n",
    "\n",
    "    def __abs__(self):\n",
    "        return math.sqrt(sum(x * x for x in self))  # <6>\n",
    "\n",
    "    def __bool__(self):\n",
    "        return bool(abs(self))\n",
    "\n",
    "    @classmethod\n",
    "    def frombytes(cls, octets):\n",
    "        typecode = chr(octets[0])\n",
    "        memv = memoryview(octets[1:]).cast(typecode)\n",
    "        return cls(memv)  # <7>"
   ]
  },
  {
   "cell_type": "markdown",
   "id": "5ef76fbc-d670-4915-9f20-165a31a5fc86",
   "metadata": {},
   "source": [
    "#### A multi-dimensional ``Vector`` class, take 1\n",
    "#### A ``Vector`` is built from an iterable of numbers::"
   ]
  },
  {
   "cell_type": "code",
   "execution_count": 3,
   "id": "97229271-1bbd-47fb-b92a-e62fbf570f72",
   "metadata": {},
   "outputs": [
    {
     "data": {
      "text/plain": [
       "Vector([3.1, 4.2])"
      ]
     },
     "execution_count": 3,
     "metadata": {},
     "output_type": "execute_result"
    }
   ],
   "source": [
    ">>> Vector([3.1, 4.2])"
   ]
  },
  {
   "cell_type": "code",
   "execution_count": 4,
   "id": "8617f60f-f0aa-4960-90d5-43b3599454d5",
   "metadata": {},
   "outputs": [
    {
     "data": {
      "text/plain": [
       "Vector([3.0, 4.0, 5.0])"
      ]
     },
     "execution_count": 4,
     "metadata": {},
     "output_type": "execute_result"
    }
   ],
   "source": [
    ">>> Vector((3, 4, 5))"
   ]
  },
  {
   "cell_type": "code",
   "execution_count": 5,
   "id": "456605c4-af2e-492c-a501-722a5d3e6fba",
   "metadata": {},
   "outputs": [
    {
     "data": {
      "text/plain": [
       "Vector([0.0, 1.0, 2.0, 3.0, 4.0, ...])"
      ]
     },
     "execution_count": 5,
     "metadata": {},
     "output_type": "execute_result"
    }
   ],
   "source": [
    ">>> Vector(range(10))"
   ]
  },
  {
   "cell_type": "markdown",
   "id": "84b62ce3-327f-4a66-8007-57e2763d3f76",
   "metadata": {},
   "source": [
    "#### Tests with 2-dimensions (same results as ``vector2d_v1.py``)::"
   ]
  },
  {
   "cell_type": "code",
   "execution_count": 6,
   "id": "608778b6-7bb2-4ec7-a79b-d7b872dd5d31",
   "metadata": {},
   "outputs": [
    {
     "data": {
      "text/plain": [
       "(3.0, 4.0)"
      ]
     },
     "execution_count": 6,
     "metadata": {},
     "output_type": "execute_result"
    }
   ],
   "source": [
    ">>> v1 = Vector([3, 4])\n",
    ">>> x, y = v1\n",
    ">>> x, y"
   ]
  },
  {
   "cell_type": "code",
   "execution_count": 7,
   "id": "43e081fa-981f-4ee1-84d3-4c9641bf41c7",
   "metadata": {},
   "outputs": [
    {
     "data": {
      "text/plain": [
       "Vector([3.0, 4.0])"
      ]
     },
     "execution_count": 7,
     "metadata": {},
     "output_type": "execute_result"
    }
   ],
   "source": [
    ">>> v1"
   ]
  },
  {
   "cell_type": "code",
   "execution_count": 8,
   "id": "66cb0516-76a2-42b8-b0a4-b15ed1e3b6e7",
   "metadata": {},
   "outputs": [
    {
     "data": {
      "text/plain": [
       "True"
      ]
     },
     "execution_count": 8,
     "metadata": {},
     "output_type": "execute_result"
    }
   ],
   "source": [
    ">>> v1_clone = eval(repr(v1))\n",
    ">>> v1 == v1_clone"
   ]
  },
  {
   "cell_type": "code",
   "execution_count": 9,
   "id": "9de59fb9-f6e2-42a2-b67c-2764a9364ca4",
   "metadata": {},
   "outputs": [
    {
     "name": "stdout",
     "output_type": "stream",
     "text": [
      "(3.0, 4.0)\n"
     ]
    }
   ],
   "source": [
    ">>> print(v1)"
   ]
  },
  {
   "cell_type": "code",
   "execution_count": 10,
   "id": "dffad17b-58ac-4f4d-90c2-07543eb0c3c0",
   "metadata": {},
   "outputs": [
    {
     "data": {
      "text/plain": [
       "b'd\\x00\\x00\\x00\\x00\\x00\\x00\\x08@\\x00\\x00\\x00\\x00\\x00\\x00\\x10@'"
      ]
     },
     "execution_count": 10,
     "metadata": {},
     "output_type": "execute_result"
    }
   ],
   "source": [
    ">>> octets = bytes(v1)\n",
    ">>> octets"
   ]
  },
  {
   "cell_type": "code",
   "execution_count": 11,
   "id": "75d9df45-5863-47a1-9205-ad2675d31001",
   "metadata": {},
   "outputs": [
    {
     "data": {
      "text/plain": [
       "5.0"
      ]
     },
     "execution_count": 11,
     "metadata": {},
     "output_type": "execute_result"
    }
   ],
   "source": [
    ">>> abs(v1)"
   ]
  },
  {
   "cell_type": "code",
   "execution_count": 12,
   "id": "acb6d54b-50d9-420e-be2b-4d7324739804",
   "metadata": {},
   "outputs": [
    {
     "data": {
      "text/plain": [
       "(True, False)"
      ]
     },
     "execution_count": 12,
     "metadata": {},
     "output_type": "execute_result"
    }
   ],
   "source": [
    ">>> bool(v1), bool(Vector([0, 0]))"
   ]
  },
  {
   "cell_type": "markdown",
   "id": "4e54a9e7-4ded-4066-a971-9cca5cc525fc",
   "metadata": {},
   "source": [
    "#### Test of ``.frombytes()`` class method:"
   ]
  },
  {
   "cell_type": "code",
   "execution_count": 13,
   "id": "ca0486ef-94c1-497e-bca8-dbd77b392488",
   "metadata": {},
   "outputs": [
    {
     "data": {
      "text/plain": [
       "Vector([3.0, 4.0])"
      ]
     },
     "execution_count": 13,
     "metadata": {},
     "output_type": "execute_result"
    }
   ],
   "source": [
    ">>> v1_clone = Vector.frombytes(bytes(v1))\n",
    ">>> v1_clone"
   ]
  },
  {
   "cell_type": "code",
   "execution_count": 14,
   "id": "e150b2df-c7c0-4047-81b4-cccba20c4068",
   "metadata": {},
   "outputs": [
    {
     "data": {
      "text/plain": [
       "True"
      ]
     },
     "execution_count": 14,
     "metadata": {},
     "output_type": "execute_result"
    }
   ],
   "source": [
    ">>> v1 == v1_clone"
   ]
  },
  {
   "cell_type": "markdown",
   "id": "aa234719-8da0-4555-92eb-fd390df7aa56",
   "metadata": {},
   "source": [
    "#### Tests with 3-dimensions::"
   ]
  },
  {
   "cell_type": "code",
   "execution_count": 15,
   "id": "94ccd3a2-3415-49f5-953c-a7bf80543c23",
   "metadata": {},
   "outputs": [
    {
     "data": {
      "text/plain": [
       "(3.0, 4.0, 5.0)"
      ]
     },
     "execution_count": 15,
     "metadata": {},
     "output_type": "execute_result"
    }
   ],
   "source": [
    ">>> v1 = Vector([3, 4, 5])\n",
    ">>> x, y, z = v1\n",
    ">>> x, y, z"
   ]
  },
  {
   "cell_type": "code",
   "execution_count": 16,
   "id": "f0c6e5c2-ad8b-42a2-9732-5dbf862ef818",
   "metadata": {},
   "outputs": [
    {
     "data": {
      "text/plain": [
       "Vector([3.0, 4.0, 5.0])"
      ]
     },
     "execution_count": 16,
     "metadata": {},
     "output_type": "execute_result"
    }
   ],
   "source": [
    ">>> v1"
   ]
  },
  {
   "cell_type": "code",
   "execution_count": 17,
   "id": "2930daea-6b54-48b1-9202-7b80777e895b",
   "metadata": {},
   "outputs": [
    {
     "data": {
      "text/plain": [
       "True"
      ]
     },
     "execution_count": 17,
     "metadata": {},
     "output_type": "execute_result"
    }
   ],
   "source": [
    ">>> v1_clone = eval(repr(v1))\n",
    ">>> v1 == v1_clone"
   ]
  },
  {
   "cell_type": "code",
   "execution_count": 18,
   "id": "79b0a98d-3b55-4d05-be54-57748f584dae",
   "metadata": {},
   "outputs": [
    {
     "name": "stdout",
     "output_type": "stream",
     "text": [
      "(3.0, 4.0, 5.0)\n"
     ]
    }
   ],
   "source": [
    ">>> print(v1)"
   ]
  },
  {
   "cell_type": "code",
   "execution_count": 19,
   "id": "712731d1-4e4e-4f93-bcef-5141b2d84752",
   "metadata": {},
   "outputs": [
    {
     "data": {
      "text/plain": [
       "7.0710678118654755"
      ]
     },
     "execution_count": 19,
     "metadata": {},
     "output_type": "execute_result"
    }
   ],
   "source": [
    ">>> abs(v1)  # doctest:+ELLIPSIS"
   ]
  },
  {
   "cell_type": "code",
   "execution_count": 20,
   "id": "b9866f0a-dc80-4872-bd4d-509ce4c702e7",
   "metadata": {},
   "outputs": [
    {
     "data": {
      "text/plain": [
       "(True, False)"
      ]
     },
     "execution_count": 20,
     "metadata": {},
     "output_type": "execute_result"
    }
   ],
   "source": [
    ">>> bool(v1), bool(Vector([0, 0, 0]))"
   ]
  },
  {
   "cell_type": "markdown",
   "id": "c43167be-838e-4cf9-94bc-dd7070b3650f",
   "metadata": {},
   "source": [
    "#### Tests with many dimensions::"
   ]
  },
  {
   "cell_type": "code",
   "execution_count": 21,
   "id": "8d43fde5-e2d7-45c1-8b5e-13d904d2058c",
   "metadata": {},
   "outputs": [
    {
     "data": {
      "text/plain": [
       "Vector([0.0, 1.0, 2.0, 3.0, 4.0, ...])"
      ]
     },
     "execution_count": 21,
     "metadata": {},
     "output_type": "execute_result"
    }
   ],
   "source": [
    ">>> v7 = Vector(range(7))\n",
    ">>> v7"
   ]
  },
  {
   "cell_type": "code",
   "execution_count": 22,
   "id": "d4ac3838-2f2e-451b-a280-4bb391a2aab5",
   "metadata": {},
   "outputs": [
    {
     "data": {
      "text/plain": [
       "9.539392014169456"
      ]
     },
     "execution_count": 22,
     "metadata": {},
     "output_type": "execute_result"
    }
   ],
   "source": [
    ">>> abs(v7)  # doctest:+ELLIPSIS"
   ]
  },
  {
   "cell_type": "markdown",
   "id": "b1fc485d-5aa5-4c9c-992f-98882f5c27c3",
   "metadata": {},
   "source": [
    "#### Test of ``.__bytes__`` and ``.frombytes()`` methods::"
   ]
  },
  {
   "cell_type": "code",
   "execution_count": 23,
   "id": "9efa9036-e817-4158-bf0d-bacea3735753",
   "metadata": {},
   "outputs": [
    {
     "data": {
      "text/plain": [
       "Vector([3.0, 4.0, 5.0])"
      ]
     },
     "execution_count": 23,
     "metadata": {},
     "output_type": "execute_result"
    }
   ],
   "source": [
    ">>> v1 = Vector([3, 4, 5])\n",
    ">>> v1_clone = Vector.frombytes(bytes(v1))\n",
    ">>> v1_clone"
   ]
  },
  {
   "cell_type": "code",
   "execution_count": 24,
   "id": "f149816a-def8-4119-9a43-52437f8e69a2",
   "metadata": {},
   "outputs": [
    {
     "data": {
      "text/plain": [
       "True"
      ]
     },
     "execution_count": 24,
     "metadata": {},
     "output_type": "execute_result"
    }
   ],
   "source": [
    ">>> v1 == v1_clone"
   ]
  }
 ],
 "metadata": {
  "kernelspec": {
   "display_name": "Python 3 (ipykernel)",
   "language": "python",
   "name": "python3"
  },
  "language_info": {
   "codemirror_mode": {
    "name": "ipython",
    "version": 3
   },
   "file_extension": ".py",
   "mimetype": "text/x-python",
   "name": "python",
   "nbconvert_exporter": "python",
   "pygments_lexer": "ipython3",
   "version": "3.10.2"
  }
 },
 "nbformat": 4,
 "nbformat_minor": 5
}
