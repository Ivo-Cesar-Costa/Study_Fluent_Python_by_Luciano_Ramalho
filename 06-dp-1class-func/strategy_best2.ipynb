{
 "cells": [
  {
   "cell_type": "code",
   "execution_count": 1,
   "id": "6fd98f3b-5853-4417-ba55-6a7558476f4c",
   "metadata": {},
   "outputs": [],
   "source": [
    "from collections import namedtuple"
   ]
  },
  {
   "cell_type": "code",
   "execution_count": 2,
   "id": "3d3b8f15-8b91-40d0-9193-0b644b18ff67",
   "metadata": {},
   "outputs": [],
   "source": [
    "Customer = namedtuple('Customer', 'name fidelity')"
   ]
  },
  {
   "cell_type": "code",
   "execution_count": 3,
   "id": "ad00e9a7-15e6-462a-bd78-7e2eaade8336",
   "metadata": {},
   "outputs": [],
   "source": [
    "class LineItem:\n",
    "\n",
    "    def __init__(self, product, quantity, price):\n",
    "        self.product = product\n",
    "        self.quantity = quantity\n",
    "        self.price = price\n",
    "\n",
    "    def total(self):\n",
    "        return self.price * self.quantity"
   ]
  },
  {
   "cell_type": "code",
   "execution_count": 4,
   "id": "62a66397-3378-4453-b251-74b93f3c44a0",
   "metadata": {},
   "outputs": [],
   "source": [
    "class Order:  # the Context\n",
    "\n",
    "    def __init__(self, customer, cart, promotion=None):\n",
    "        self.customer = customer\n",
    "        self.cart = list(cart)\n",
    "        self.promotion = promotion\n",
    "\n",
    "    def total(self):\n",
    "        if not hasattr(self, '__total'):\n",
    "            self.__total = sum(item.total() for item in self.cart)\n",
    "        return self.__total\n",
    "\n",
    "    def due(self):\n",
    "        if self.promotion is None:\n",
    "            discount = 0\n",
    "        else:\n",
    "            discount = self.promotion(self)\n",
    "        return self.total() - discount\n",
    "\n",
    "    def __repr__(self):\n",
    "        fmt = '<Order total: {:.2f} due: {:.2f}>'\n",
    "        return fmt.format(self.total(), self.due())"
   ]
  },
  {
   "cell_type": "code",
   "execution_count": 5,
   "id": "e840319c-eb44-4ce1-8cca-c41e0a3b26e1",
   "metadata": {},
   "outputs": [],
   "source": [
    "def fidelity_promo(order):\n",
    "    \"\"\"5% discount for customers with 1000 or more fidelity points\"\"\"\n",
    "    return order.total() * .05 if order.customer.fidelity >= 1000 else 0"
   ]
  },
  {
   "cell_type": "code",
   "execution_count": 6,
   "id": "91384c90-3729-4d11-aaf1-75a9db9badd4",
   "metadata": {},
   "outputs": [],
   "source": [
    "def bulk_item_promo(order):\n",
    "    \"\"\"10% discount for each LineItem with 20 or more units\"\"\"\n",
    "    discount = 0\n",
    "    for item in order.cart:\n",
    "        if item.quantity >= 20:\n",
    "            discount += item.total() * .1\n",
    "    return discount"
   ]
  },
  {
   "cell_type": "code",
   "execution_count": 7,
   "id": "3d637910-86e2-4feb-a2b0-fd662fa9f7b9",
   "metadata": {},
   "outputs": [],
   "source": [
    "def large_order_promo(order):\n",
    "    \"\"\"7% discount for orders with 10 or more distinct items\"\"\"\n",
    "    distinct_items = {item.product for item in order.cart}\n",
    "    if len(distinct_items) >= 10:\n",
    "        return order.total() * .07\n",
    "    return 0"
   ]
  },
  {
   "cell_type": "code",
   "execution_count": 8,
   "id": "8ae7626f-6e20-4650-9fcf-593d5781898c",
   "metadata": {},
   "outputs": [],
   "source": [
    "promos = [globals()[name] for name in globals()  # <1>\n",
    "            if name.endswith('_promo')  # <2>\n",
    "            and name != 'best_promo']   # <3>"
   ]
  },
  {
   "cell_type": "code",
   "execution_count": 9,
   "id": "1111f65b-bee2-4949-9423-917a3b04ffe1",
   "metadata": {},
   "outputs": [
    {
     "data": {
      "text/plain": [
       "[<function __main__.fidelity_promo(order)>,\n",
       " <function __main__.bulk_item_promo(order)>,\n",
       " <function __main__.large_order_promo(order)>]"
      ]
     },
     "execution_count": 9,
     "metadata": {},
     "output_type": "execute_result"
    }
   ],
   "source": [
    "promos"
   ]
  },
  {
   "cell_type": "code",
   "execution_count": 10,
   "id": "d2147b34-5ff0-44b7-8176-aa3af708d731",
   "metadata": {},
   "outputs": [],
   "source": [
    "def best_promo(order):\n",
    "    \"\"\"Select best discount available\n",
    "    \"\"\"\n",
    "    return max(promo(order) for promo in promos)  # <4>"
   ]
  },
  {
   "cell_type": "code",
   "execution_count": 11,
   "id": "5ed8475f-697b-49b2-abd5-b49290d3052f",
   "metadata": {},
   "outputs": [],
   "source": [
    ">>> joe = Customer('John Doe', 0)\n",
    ">>> ann = Customer('Ann Smith', 1100)\n",
    ">>> cart = [LineItem('banana', 4, .5),\n",
    "...         LineItem('apple', 10, 1.5),\n",
    "...         LineItem('watermellon', 5, 5.0)]"
   ]
  },
  {
   "cell_type": "code",
   "execution_count": 12,
   "id": "a6c3062d-d640-4a9e-923f-9391bbeba0da",
   "metadata": {},
   "outputs": [
    {
     "data": {
      "text/plain": [
       "<Order total: 42.00 due: 42.00>"
      ]
     },
     "execution_count": 12,
     "metadata": {},
     "output_type": "execute_result"
    }
   ],
   "source": [
    ">>> Order(joe, cart, fidelity_promo)"
   ]
  },
  {
   "cell_type": "code",
   "execution_count": 13,
   "id": "e4d24c6a-6eac-4cb9-8362-bc5bdcfd8907",
   "metadata": {},
   "outputs": [
    {
     "data": {
      "text/plain": [
       "<Order total: 42.00 due: 39.90>"
      ]
     },
     "execution_count": 13,
     "metadata": {},
     "output_type": "execute_result"
    }
   ],
   "source": [
    ">>> Order(ann, cart, fidelity_promo)"
   ]
  },
  {
   "cell_type": "code",
   "execution_count": 14,
   "id": "1ac9091b-a3bc-4267-baba-aba96d9b3d7e",
   "metadata": {},
   "outputs": [
    {
     "data": {
      "text/plain": [
       "<Order total: 30.00 due: 28.50>"
      ]
     },
     "execution_count": 14,
     "metadata": {},
     "output_type": "execute_result"
    }
   ],
   "source": [
    ">>> banana_cart = [LineItem('banana', 30, .5),\n",
    "...                LineItem('apple', 10, 1.5)]\n",
    ">>> Order(joe, banana_cart, bulk_item_promo)"
   ]
  },
  {
   "cell_type": "code",
   "execution_count": 15,
   "id": "1cbe5db1-75b7-4ecf-85c5-4ad09b02a39a",
   "metadata": {},
   "outputs": [
    {
     "data": {
      "text/plain": [
       "<Order total: 10.00 due: 9.30>"
      ]
     },
     "execution_count": 15,
     "metadata": {},
     "output_type": "execute_result"
    }
   ],
   "source": [
    ">>> long_order = [LineItem(str(item_code), 1, 1.0)\n",
    "...               for item_code in range(10)]\n",
    ">>> Order(joe, long_order, large_order_promo)"
   ]
  },
  {
   "cell_type": "code",
   "execution_count": 16,
   "id": "b10ff54f-6836-4003-88c2-1d07bf1c91d1",
   "metadata": {},
   "outputs": [
    {
     "data": {
      "text/plain": [
       "<Order total: 42.00 due: 42.00>"
      ]
     },
     "execution_count": 16,
     "metadata": {},
     "output_type": "execute_result"
    }
   ],
   "source": [
    " >>> Order(joe, cart, large_order_promo)"
   ]
  },
  {
   "cell_type": "code",
   "execution_count": 17,
   "id": "830086b5-c420-4ef3-a9d3-6977b9c30486",
   "metadata": {},
   "outputs": [
    {
     "data": {
      "text/plain": [
       "<Order total: 10.00 due: 9.30>"
      ]
     },
     "execution_count": 17,
     "metadata": {},
     "output_type": "execute_result"
    }
   ],
   "source": [
    " >>> Order(joe, long_order, best_promo)"
   ]
  },
  {
   "cell_type": "code",
   "execution_count": 18,
   "id": "b3ac38d9-5544-41b0-8825-d5d5ce2b1ffa",
   "metadata": {},
   "outputs": [
    {
     "data": {
      "text/plain": [
       "<Order total: 30.00 due: 28.50>"
      ]
     },
     "execution_count": 18,
     "metadata": {},
     "output_type": "execute_result"
    }
   ],
   "source": [
    ">>> Order(joe, banana_cart, best_promo)"
   ]
  },
  {
   "cell_type": "code",
   "execution_count": 19,
   "id": "9514d888-9472-4e88-aa31-1a8372d4c60d",
   "metadata": {},
   "outputs": [
    {
     "data": {
      "text/plain": [
       "<Order total: 42.00 due: 39.90>"
      ]
     },
     "execution_count": 19,
     "metadata": {},
     "output_type": "execute_result"
    }
   ],
   "source": [
    ">>> Order(ann, cart, best_promo)"
   ]
  }
 ],
 "metadata": {
  "kernelspec": {
   "display_name": "Python 3 (ipykernel)",
   "language": "python",
   "name": "python3"
  },
  "language_info": {
   "codemirror_mode": {
    "name": "ipython",
    "version": 3
   },
   "file_extension": ".py",
   "mimetype": "text/x-python",
   "name": "python",
   "nbconvert_exporter": "python",
   "pygments_lexer": "ipython3",
   "version": "3.10.2"
  }
 },
 "nbformat": 4,
 "nbformat_minor": 5
}
