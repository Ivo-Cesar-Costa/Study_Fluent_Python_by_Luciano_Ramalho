{
 "cells": [
  {
   "cell_type": "code",
   "execution_count": 1,
   "id": "fb674231-6fc1-466e-8b8f-ce955561594f",
   "metadata": {},
   "outputs": [],
   "source": [
    "from abc import ABC, abstractmethod\n",
    "from collections import namedtuple"
   ]
  },
  {
   "cell_type": "code",
   "execution_count": 2,
   "id": "59d5465f-81e0-4a7a-9d58-5a3d2ba1542d",
   "metadata": {},
   "outputs": [
    {
     "data": {
      "text/plain": [
       "__main__.Customer"
      ]
     },
     "execution_count": 2,
     "metadata": {},
     "output_type": "execute_result"
    }
   ],
   "source": [
    "Customer = namedtuple('Customer', 'name fidelity')\n",
    "Customer"
   ]
  },
  {
   "cell_type": "code",
   "execution_count": 3,
   "id": "4eb70859-65c4-48d1-b3f9-77ce0b799617",
   "metadata": {},
   "outputs": [],
   "source": [
    "class LineItem:\n",
    "\n",
    "    def __init__(self, product, quantity, price):\n",
    "        self.product = product\n",
    "        self.quantity = quantity\n",
    "        self.price = price\n",
    "\n",
    "    def total(self):\n",
    "        return self.price * self.quantity"
   ]
  },
  {
   "cell_type": "code",
   "execution_count": 4,
   "id": "9375b877-9a97-44e4-acac-45e145986f64",
   "metadata": {},
   "outputs": [],
   "source": [
    "class Order:  # the Context\n",
    "\n",
    "    def __init__(self, customer, cart, promotion=None):\n",
    "        self.customer = customer\n",
    "        self.cart = list(cart)\n",
    "        self.promotion = promotion\n",
    "\n",
    "    def total(self):\n",
    "        if not hasattr(self, '__total'):\n",
    "            self.__total = sum(item.total() for item in self.cart)\n",
    "        return self.__total\n",
    "\n",
    "    def due(self):\n",
    "        if self.promotion is None:\n",
    "            discount = 0\n",
    "        else:\n",
    "            discount = self.promotion.discount(self)\n",
    "        return self.total() - discount\n",
    "\n",
    "    def __repr__(self):\n",
    "        fmt = '<Order total: {:.2f} due: {:.2f}>'\n",
    "        return fmt.format(self.total(), self.due())"
   ]
  },
  {
   "cell_type": "code",
   "execution_count": 5,
   "id": "2ef4d762-a444-4747-9d37-7380065d1b6f",
   "metadata": {},
   "outputs": [],
   "source": [
    "class Promotion(ABC):  # the Strategy: an Abstract Base Class\n",
    "\n",
    "    @abstractmethod\n",
    "    def discount(self, order):\n",
    "        \"\"\"Return discount as a positive dollar amount\"\"\""
   ]
  },
  {
   "cell_type": "code",
   "execution_count": 6,
   "id": "88307423-1779-44e2-a8fd-057510b570e6",
   "metadata": {},
   "outputs": [],
   "source": [
    "class FidelityPromo(Promotion):  # first Concrete Strategy\n",
    "    \"\"\"5% discount for customers with 1000 or more fidelity points\"\"\"\n",
    "\n",
    "    def discount(self, order):\n",
    "        return order.total() * .05 if order.customer.fidelity >= 1000 else 0"
   ]
  },
  {
   "cell_type": "code",
   "execution_count": 7,
   "id": "66bf2ac8-0065-4ea9-92f1-c33b9e8db9af",
   "metadata": {},
   "outputs": [],
   "source": [
    "class BulkItemPromo(Promotion):  # second Concrete Strategy\n",
    "    \"\"\"10% discount for each LineItem with 20 or more units\"\"\"\n",
    "\n",
    "    def discount(self, order):\n",
    "        discount = 0\n",
    "        for item in order.cart:\n",
    "            if item.quantity >= 20:\n",
    "                discount += item.total() * .1\n",
    "        return discount"
   ]
  },
  {
   "cell_type": "code",
   "execution_count": 8,
   "id": "83271c4f-bef7-4889-b9c2-26157a95c86a",
   "metadata": {},
   "outputs": [],
   "source": [
    "class LargeOrderPromo(Promotion):  # third Concrete Strategy\n",
    "    \"\"\"7% discount for orders with 10 or more distinct items\"\"\"\n",
    "\n",
    "    def discount(self, order):\n",
    "        distinct_items = {item.product for item in order.cart}\n",
    "        if len(distinct_items) >= 10:\n",
    "            return order.total() * .07\n",
    "        return 0"
   ]
  },
  {
   "cell_type": "code",
   "execution_count": 9,
   "id": "1205233a-0fa9-4007-8a0e-ec6b4905e48b",
   "metadata": {},
   "outputs": [],
   "source": [
    ">>> joe = Customer('John Doe', 0)  # <1>\n",
    ">>> ann = Customer('Ann Smith', 1100)\n",
    ">>> cart = [LineItem('banana', 4, .5),  # <2>\n",
    "...         LineItem('apple', 10, 1.5),\n",
    "...         LineItem('watermellon', 5, 5.0)]"
   ]
  },
  {
   "cell_type": "code",
   "execution_count": 10,
   "id": "01f1517d-de32-41a4-bdbb-e3ca09a401bd",
   "metadata": {},
   "outputs": [
    {
     "data": {
      "text/plain": [
       "<Order total: 42.00 due: 42.00>"
      ]
     },
     "execution_count": 10,
     "metadata": {},
     "output_type": "execute_result"
    }
   ],
   "source": [
    ">>> Order(joe, cart, FidelityPromo())  # <3>"
   ]
  },
  {
   "cell_type": "code",
   "execution_count": 11,
   "id": "31c74d10-fb94-444a-9a67-f9a6960c3dd9",
   "metadata": {},
   "outputs": [
    {
     "data": {
      "text/plain": [
       "<Order total: 42.00 due: 39.90>"
      ]
     },
     "execution_count": 11,
     "metadata": {},
     "output_type": "execute_result"
    }
   ],
   "source": [
    ">>> Order(ann, cart, FidelityPromo())  # <4>"
   ]
  },
  {
   "cell_type": "code",
   "execution_count": 12,
   "id": "930e5419-e019-4977-83e8-61c58e1ab202",
   "metadata": {},
   "outputs": [],
   "source": [
    ">>> banana_cart = [LineItem('banana', 30, .5),  # <5>\n",
    "...                LineItem('apple', 10, 1.5)]"
   ]
  },
  {
   "cell_type": "code",
   "execution_count": 13,
   "id": "a432b782-cb67-4b52-9d78-051048ee5f77",
   "metadata": {},
   "outputs": [
    {
     "data": {
      "text/plain": [
       "<Order total: 30.00 due: 28.50>"
      ]
     },
     "execution_count": 13,
     "metadata": {},
     "output_type": "execute_result"
    }
   ],
   "source": [
    ">>> Order(joe, banana_cart, BulkItemPromo())  # <6>"
   ]
  },
  {
   "cell_type": "code",
   "execution_count": 14,
   "id": "31cf53ea-7fcf-45aa-b8fc-d73524daa898",
   "metadata": {},
   "outputs": [],
   "source": [
    ">>> long_order = [LineItem(str(item_code), 1, 1.0) # <7>\n",
    "...               for item_code in range(10)]"
   ]
  },
  {
   "cell_type": "code",
   "execution_count": 15,
   "id": "9f403f7f-3d00-4cc7-815a-d012f39b7a1b",
   "metadata": {},
   "outputs": [
    {
     "data": {
      "text/plain": [
       "<Order total: 10.00 due: 9.30>"
      ]
     },
     "execution_count": 15,
     "metadata": {},
     "output_type": "execute_result"
    }
   ],
   "source": [
    ">>> Order(joe, long_order, LargeOrderPromo())  # <8>"
   ]
  },
  {
   "cell_type": "code",
   "execution_count": 16,
   "id": "24e29f47-47a3-4934-897c-080b44f410e1",
   "metadata": {},
   "outputs": [
    {
     "data": {
      "text/plain": [
       "<Order total: 42.00 due: 42.00>"
      ]
     },
     "execution_count": 16,
     "metadata": {},
     "output_type": "execute_result"
    }
   ],
   "source": [
    ">>> Order(joe, cart, LargeOrderPromo())"
   ]
  }
 ],
 "metadata": {
  "kernelspec": {
   "display_name": "Python 3 (ipykernel)",
   "language": "python",
   "name": "python3"
  },
  "language_info": {
   "codemirror_mode": {
    "name": "ipython",
    "version": 3
   },
   "file_extension": ".py",
   "mimetype": "text/x-python",
   "name": "python",
   "nbconvert_exporter": "python",
   "pygments_lexer": "ipython3",
   "version": "3.10.2"
  }
 },
 "nbformat": 4,
 "nbformat_minor": 5
}
