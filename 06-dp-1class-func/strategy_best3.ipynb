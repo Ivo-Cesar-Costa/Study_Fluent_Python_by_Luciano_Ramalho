{
 "cells": [
  {
   "cell_type": "code",
   "execution_count": 1,
   "id": "e49aa35b-a7ba-4194-b08a-dad816f8a4f7",
   "metadata": {},
   "outputs": [],
   "source": [
    "from collections import namedtuple\n",
    "import inspect"
   ]
  },
  {
   "cell_type": "code",
   "execution_count": 2,
   "id": "5ac8c60f-9840-4663-b947-e4e4b0192113",
   "metadata": {},
   "outputs": [
    {
     "name": "stdout",
     "output_type": "stream",
     "text": [
      "importing Jupyter notebook from promotions.ipynb\n"
     ]
    }
   ],
   "source": [
    "import import_ipynb\n",
    "import promotions"
   ]
  },
  {
   "cell_type": "code",
   "execution_count": 3,
   "id": "d325a44b-d687-4888-ab32-96904feab0fc",
   "metadata": {},
   "outputs": [],
   "source": [
    "Customer = namedtuple('Customer', 'name fidelity')"
   ]
  },
  {
   "cell_type": "code",
   "execution_count": 4,
   "id": "f25dfc53-8e35-44f2-abf6-7a1cf8b5ebe9",
   "metadata": {},
   "outputs": [],
   "source": [
    "class LineItem:\n",
    "\n",
    "    def __init__(self, product, quantity, price):\n",
    "        self.product = product\n",
    "        self.quantity = quantity\n",
    "        self.price = price\n",
    "\n",
    "    def total(self):\n",
    "        return self.price * self.quantity"
   ]
  },
  {
   "cell_type": "code",
   "execution_count": 5,
   "id": "7b00ce31-f8fe-4a98-8c63-51373f715aef",
   "metadata": {},
   "outputs": [],
   "source": [
    "class Order:  # the Context\n",
    "\n",
    "    def __init__(self, customer, cart, promotion=None):\n",
    "        self.customer = customer\n",
    "        self.cart = list(cart)\n",
    "        self.promotion = promotion\n",
    "\n",
    "    def total(self):\n",
    "        if not hasattr(self, '__total'):\n",
    "            self.__total = sum(item.total() for item in self.cart)\n",
    "        return self.__total\n",
    "\n",
    "    def due(self):\n",
    "        if self.promotion is None:\n",
    "            discount = 0\n",
    "        else:\n",
    "            discount = self.promotion(self)\n",
    "        return self.total() - discount\n",
    "\n",
    "    def __repr__(self):\n",
    "        fmt = '<Order total: {:.2f} due: {:.2f}>'\n",
    "        return fmt.format(self.total(), self.due())"
   ]
  },
  {
   "cell_type": "code",
   "execution_count": 6,
   "id": "94e65435-9576-4e5f-8b32-d2dc089242cb",
   "metadata": {},
   "outputs": [
    {
     "data": {
      "text/plain": [
       "[<function promotions.bulk_item_promo(order)>,\n",
       " <function promotions.fidelity_promo(order)>,\n",
       " <function IPython.core.getipython.get_ipython()>,\n",
       " <function promotions.large_order_promo(order)>]"
      ]
     },
     "execution_count": 6,
     "metadata": {},
     "output_type": "execute_result"
    }
   ],
   "source": [
    "promos = [func for name, func in\n",
    "                inspect.getmembers(promotions, inspect.isfunction)]\n",
    "promos"
   ]
  },
  {
   "cell_type": "code",
   "execution_count": 7,
   "id": "11a43f60-25ed-44bb-8c6c-9ae489f38e9d",
   "metadata": {},
   "outputs": [],
   "source": [
    "def best_promo(order):\n",
    "    \"\"\"Select best discount available\n",
    "    \"\"\"\n",
    "    return max(promo(order) for promo in promos)"
   ]
  },
  {
   "cell_type": "code",
   "execution_count": 8,
   "id": "97efeb50-210d-43c4-9e88-06ac9a619402",
   "metadata": {},
   "outputs": [],
   "source": [
    ">>> from promotions import *\n",
    ">>> joe = Customer('John Doe', 0)\n",
    ">>> ann = Customer('Ann Smith', 1100)\n",
    ">>> cart = [LineItem('banana', 4, .5),\n",
    "...         LineItem('apple', 10, 1.5),\n",
    "...         LineItem('watermellon', 5, 5.0)]"
   ]
  },
  {
   "cell_type": "code",
   "execution_count": 9,
   "id": "1b8f35a5-0f65-45e4-84da-930ef03a7d53",
   "metadata": {},
   "outputs": [
    {
     "data": {
      "text/plain": [
       "<Order total: 42.00 due: 42.00>"
      ]
     },
     "execution_count": 9,
     "metadata": {},
     "output_type": "execute_result"
    }
   ],
   "source": [
    ">>> Order(joe, cart, fidelity_promo)"
   ]
  },
  {
   "cell_type": "code",
   "execution_count": 10,
   "id": "e8670c2f-6471-4c40-b921-2fb0c3b9d460",
   "metadata": {},
   "outputs": [
    {
     "data": {
      "text/plain": [
       "<Order total: 42.00 due: 39.90>"
      ]
     },
     "execution_count": 10,
     "metadata": {},
     "output_type": "execute_result"
    }
   ],
   "source": [
    ">>> Order(ann, cart, fidelity_promo)"
   ]
  },
  {
   "cell_type": "code",
   "execution_count": 11,
   "id": "f1fcc0ad-17d0-41c2-b609-6ab2ddb60933",
   "metadata": {},
   "outputs": [
    {
     "data": {
      "text/plain": [
       "<Order total: 30.00 due: 28.50>"
      ]
     },
     "execution_count": 11,
     "metadata": {},
     "output_type": "execute_result"
    }
   ],
   "source": [
    ">>> banana_cart = [LineItem('banana', 30, .5),\n",
    "...                LineItem('apple', 10, 1.5)]\n",
    ">>> Order(joe, banana_cart, bulk_item_promo)"
   ]
  },
  {
   "cell_type": "code",
   "execution_count": 12,
   "id": "1c6fadc7-0c82-4b4d-b0b9-4188488106be",
   "metadata": {},
   "outputs": [
    {
     "data": {
      "text/plain": [
       "<Order total: 10.00 due: 9.30>"
      ]
     },
     "execution_count": 12,
     "metadata": {},
     "output_type": "execute_result"
    }
   ],
   "source": [
    ">>> long_order = [LineItem(str(item_code), 1, 1.0)\n",
    "...               for item_code in range(10)]\n",
    ">>> Order(joe, long_order, large_order_promo)"
   ]
  },
  {
   "cell_type": "code",
   "execution_count": 13,
   "id": "8cf6468a-7d71-417b-b548-291be5b121a3",
   "metadata": {},
   "outputs": [
    {
     "data": {
      "text/plain": [
       "<Order total: 42.00 due: 42.00>"
      ]
     },
     "execution_count": 13,
     "metadata": {},
     "output_type": "execute_result"
    }
   ],
   "source": [
    ">>> Order(joe, cart, large_order_promo)"
   ]
  },
  {
   "cell_type": "code",
   "execution_count": 14,
   "id": "54889389-6544-4014-8137-f1a8b1a06b4e",
   "metadata": {},
   "outputs": [],
   "source": [
    "#>>> Order(joe, long_order, best_promo)"
   ]
  },
  {
   "cell_type": "code",
   "execution_count": 15,
   "id": "1c312f8e-0580-4b2f-bad6-bca3e5d83601",
   "metadata": {},
   "outputs": [],
   "source": [
    "# >>> Order(joe, banana_cart, best_promo)"
   ]
  },
  {
   "cell_type": "code",
   "execution_count": 16,
   "id": "a86fd76e-0f27-429f-82d1-f0a2ae005b4c",
   "metadata": {},
   "outputs": [],
   "source": [
    "#>>> Order(ann, cart, best_promo)"
   ]
  }
 ],
 "metadata": {
  "kernelspec": {
   "display_name": "Python 3 (ipykernel)",
   "language": "python",
   "name": "python3"
  },
  "language_info": {
   "codemirror_mode": {
    "name": "ipython",
    "version": 3
   },
   "file_extension": ".py",
   "mimetype": "text/x-python",
   "name": "python",
   "nbconvert_exporter": "python",
   "pygments_lexer": "ipython3",
   "version": "3.10.2"
  }
 },
 "nbformat": 4,
 "nbformat_minor": 5
}
