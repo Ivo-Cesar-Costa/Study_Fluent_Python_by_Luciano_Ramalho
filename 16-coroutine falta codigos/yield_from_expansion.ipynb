{
 "cells": [
  {
   "cell_type": "code",
   "execution_count": 1,
   "id": "6f72a676-630b-47b4-810b-ab572cde1988",
   "metadata": {},
   "outputs": [],
   "source": [
    "_i = iter(EXPR)  # <1>\n",
    "try:\n",
    "    _y = next(_i)  # <2>\n",
    "except StopIteration as _e:\n",
    "    _r = _e.value  # <3>\n",
    "else:\n",
    "    while 1:  # <4>\n",
    "        try:\n",
    "            _s = yield _y  # <5>\n",
    "        except GeneratorExit as _e:  # <6>\n",
    "            try:\n",
    "                _m = _i.close\n",
    "            except AttributeError:\n",
    "                pass\n",
    "            else:\n",
    "                _m()\n",
    "            raise _e\n",
    "        except BaseException as _e:  # <7>\n",
    "            _x = sys.exc_info()\n",
    "            try:\n",
    "                _m = _i.throw\n",
    "            except AttributeError:\n",
    "                raise _e\n",
    "            else:  # <8>\n",
    "                try:\n",
    "                    _y = _m(*_x)\n",
    "                except StopIteration as _e:\n",
    "                    _r = _e.value\n",
    "                    break\n",
    "        else:  # <9>\n",
    "            try:  # <10>\n",
    "                if _s is None:  # <11>\n",
    "                    _y = next(_i)\n",
    "                else:\n",
    "                    _y = _i.send(_s)\n",
    "            except StopIteration as _e:  # <12>\n",
    "                _r = _e.value\n",
    "                break\n",
    "\n",
    "RESULT = _r  # <13>"
   ]
  }
 ],
 "metadata": {
  "kernelspec": {
   "display_name": "Python 3 (ipykernel)",
   "language": "python",
   "name": "python3"
  },
  "language_info": {
   "codemirror_mode": {
    "name": "ipython",
    "version": 3
   },
   "file_extension": ".py",
   "mimetype": "text/x-python",
   "name": "python",
   "nbconvert_exporter": "python",
   "pygments_lexer": "ipython3",
   "version": "3.10.2"
  }
 },
 "nbformat": 4,
 "nbformat_minor": 5
}
