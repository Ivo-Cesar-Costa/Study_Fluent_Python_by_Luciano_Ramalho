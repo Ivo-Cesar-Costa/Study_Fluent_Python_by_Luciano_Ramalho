{
 "cells": [
  {
   "cell_type": "code",
   "execution_count": 1,
   "id": "122ab3a6-0caf-4868-8dae-20e9ac9c73e9",
   "metadata": {},
   "outputs": [],
   "source": [
    "# BEGIN TAXI_PROCESS\n",
    "def taxi_process(ident, trips, start_time=0):  # <1>\n",
    "    \"\"\"Yield to simulator issuing event at each state change\"\"\"\n",
    "    time = yield Event(start_time, ident, 'leave garage')  # <2>\n",
    "    for i in range(trips):  # <3>\n",
    "        time = yield Event(time, ident, 'pick up passenger')  # <4>\n",
    "        time = yield Event(time, ident, 'drop off passenger')  # <5>\n",
    "\n",
    "    yield Event(time, ident, 'going home')  # <6>\n",
    "    # end of taxi process # <7>\n",
    "# END TAXI_PROCESS"
   ]
  }
 ],
 "metadata": {
  "kernelspec": {
   "display_name": "Python 3 (ipykernel)",
   "language": "python",
   "name": "python3"
  },
  "language_info": {
   "codemirror_mode": {
    "name": "ipython",
    "version": 3
   },
   "file_extension": ".py",
   "mimetype": "text/x-python",
   "name": "python",
   "nbconvert_exporter": "python",
   "pygments_lexer": "ipython3",
   "version": "3.10.2"
  }
 },
 "nbformat": 4,
 "nbformat_minor": 5
}
