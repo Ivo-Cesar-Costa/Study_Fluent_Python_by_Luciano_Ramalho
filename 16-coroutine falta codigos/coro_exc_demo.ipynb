{
 "cells": [
  {
   "cell_type": "code",
   "execution_count": 1,
   "id": "9e9bda05-8bcb-4287-995f-d347e9b80fb4",
   "metadata": {},
   "outputs": [],
   "source": [
    "class DemoException(Exception):\n",
    "    \"\"\"An exception type for the demonstration.\"\"\""
   ]
  },
  {
   "cell_type": "code",
   "execution_count": 2,
   "id": "db3148ea-dc41-403a-95f1-155463d315a4",
   "metadata": {},
   "outputs": [],
   "source": [
    "def demo_exc_handling():\n",
    "    print('-> coroutine started')\n",
    "    while True:\n",
    "        try:\n",
    "            x = yield\n",
    "        except DemoException:  # <1>\n",
    "            print('*** DemoException handled. Continuing...')\n",
    "        else:  # <2>\n",
    "            print('-> coroutine received: {!r}'.format(x))\n",
    "    raise RuntimeError('This line should never run.')  # <3>"
   ]
  },
  {
   "cell_type": "markdown",
   "id": "16344291-001d-4eca-aad6-150d052c2c6f",
   "metadata": {},
   "source": [
    "#### Coroutine closing demonstration::"
   ]
  },
  {
   "cell_type": "markdown",
   "id": "3bd430c4-07f0-4c8f-bc72-d9c993396d47",
   "metadata": {},
   "source": [
    "#### # BEGIN DEMO_CORO_EXC_1"
   ]
  },
  {
   "cell_type": "code",
   "execution_count": 3,
   "id": "5efe38c5-e394-4057-9b1c-e13cd125e273",
   "metadata": {},
   "outputs": [
    {
     "name": "stdout",
     "output_type": "stream",
     "text": [
      "-> coroutine started\n"
     ]
    }
   ],
   "source": [
    ">>> exc_coro = demo_exc_handling()\n",
    ">>> next(exc_coro)"
   ]
  },
  {
   "cell_type": "code",
   "execution_count": 4,
   "id": "a1981428-bf95-4bf0-ac6b-7a8817791614",
   "metadata": {},
   "outputs": [
    {
     "name": "stdout",
     "output_type": "stream",
     "text": [
      "-> coroutine received: 11\n"
     ]
    }
   ],
   "source": [
    ">>> exc_coro.send(11)"
   ]
  },
  {
   "cell_type": "code",
   "execution_count": 5,
   "id": "bcdcfcff-6c1e-4b72-8608-59f46300a143",
   "metadata": {},
   "outputs": [
    {
     "name": "stdout",
     "output_type": "stream",
     "text": [
      "-> coroutine received: 22\n"
     ]
    }
   ],
   "source": [
    ">>> exc_coro.send(22)"
   ]
  },
  {
   "cell_type": "code",
   "execution_count": 6,
   "id": "7af13a7a-1eaf-4ba2-b6f1-4967c3f715a5",
   "metadata": {},
   "outputs": [
    {
     "data": {
      "text/plain": [
       "'GEN_CLOSED'"
      ]
     },
     "execution_count": 6,
     "metadata": {},
     "output_type": "execute_result"
    }
   ],
   "source": [
    ">>> exc_coro.close()\n",
    ">>> from inspect import getgeneratorstate\n",
    ">>> getgeneratorstate(exc_coro)"
   ]
  },
  {
   "cell_type": "markdown",
   "id": "5198a461-054c-48eb-ad11-d2eae058997f",
   "metadata": {},
   "source": [
    "#### # BEGIN DEMO_CORO_EXC_2"
   ]
  },
  {
   "cell_type": "code",
   "execution_count": 7,
   "id": "432d5700-1f76-4e8b-a1fd-90ccc6ee1909",
   "metadata": {},
   "outputs": [
    {
     "name": "stdout",
     "output_type": "stream",
     "text": [
      "-> coroutine started\n"
     ]
    }
   ],
   "source": [
    ">>> exc_coro = demo_exc_handling()\n",
    ">>> next(exc_coro)"
   ]
  },
  {
   "cell_type": "code",
   "execution_count": 8,
   "id": "3cc85462-1b69-44a8-9baf-106a6dc8fae6",
   "metadata": {},
   "outputs": [
    {
     "name": "stdout",
     "output_type": "stream",
     "text": [
      "-> coroutine received: 11\n"
     ]
    }
   ],
   "source": [
    ">>> exc_coro.send(11)"
   ]
  },
  {
   "cell_type": "code",
   "execution_count": 9,
   "id": "3277dc68-f2ee-4656-8071-d35085488b38",
   "metadata": {},
   "outputs": [
    {
     "name": "stdout",
     "output_type": "stream",
     "text": [
      "*** DemoException handled. Continuing...\n"
     ]
    }
   ],
   "source": [
    ">>> exc_coro.throw(DemoException)"
   ]
  },
  {
   "cell_type": "code",
   "execution_count": 10,
   "id": "c671f9ae-973d-4ea3-9c68-ccfa60d1ec6f",
   "metadata": {},
   "outputs": [
    {
     "data": {
      "text/plain": [
       "'GEN_SUSPENDED'"
      ]
     },
     "execution_count": 10,
     "metadata": {},
     "output_type": "execute_result"
    }
   ],
   "source": [
    ">>> getgeneratorstate(exc_coro)"
   ]
  },
  {
   "cell_type": "markdown",
   "id": "1b7fedd3-dd38-45a4-be6d-54f22cb21795",
   "metadata": {},
   "source": [
    "#### Coroutine not handling exception::"
   ]
  },
  {
   "cell_type": "markdown",
   "id": "5df0563d-af02-4035-867a-2894a4e28a75",
   "metadata": {},
   "source": [
    "#### # BEGIN DEMO_CORO_EXC_3"
   ]
  },
  {
   "cell_type": "code",
   "execution_count": 11,
   "id": "5018b38f-2599-4b84-881e-21ad48679436",
   "metadata": {},
   "outputs": [
    {
     "name": "stdout",
     "output_type": "stream",
     "text": [
      "-> coroutine started\n"
     ]
    }
   ],
   "source": [
    ">>> exc_coro = demo_exc_handling()\n",
    ">>> next(exc_coro)"
   ]
  },
  {
   "cell_type": "code",
   "execution_count": 12,
   "id": "744c21f0-b6cf-4c78-bc37-1635a7c5be0c",
   "metadata": {},
   "outputs": [
    {
     "name": "stdout",
     "output_type": "stream",
     "text": [
      "-> coroutine received: 11\n"
     ]
    }
   ],
   "source": [
    ">>> exc_coro.send(11)"
   ]
  },
  {
   "cell_type": "code",
   "execution_count": 13,
   "id": "1eeaee90-aaa6-4f12-b5a8-8078871094af",
   "metadata": {},
   "outputs": [
    {
     "ename": "ZeroDivisionError",
     "evalue": "",
     "output_type": "error",
     "traceback": [
      "\u001b[1;31m---------------------------------------------------------------------------\u001b[0m",
      "\u001b[1;31mZeroDivisionError\u001b[0m                         Traceback (most recent call last)",
      "Input \u001b[1;32mIn [13]\u001b[0m, in \u001b[0;36m<module>\u001b[1;34m\u001b[0m\n\u001b[1;32m----> 1\u001b[0m \u001b[43mexc_coro\u001b[49m\u001b[38;5;241;43m.\u001b[39;49m\u001b[43mthrow\u001b[49m\u001b[43m(\u001b[49m\u001b[38;5;167;43;01mZeroDivisionError\u001b[39;49;00m\u001b[43m)\u001b[49m\n",
      "Input \u001b[1;32mIn [2]\u001b[0m, in \u001b[0;36mdemo_exc_handling\u001b[1;34m()\u001b[0m\n\u001b[0;32m      3\u001b[0m \u001b[38;5;28;01mwhile\u001b[39;00m \u001b[38;5;28;01mTrue\u001b[39;00m:\n\u001b[0;32m      4\u001b[0m     \u001b[38;5;28;01mtry\u001b[39;00m:\n\u001b[1;32m----> 5\u001b[0m         x \u001b[38;5;241m=\u001b[39m \u001b[38;5;28;01myield\u001b[39;00m\n\u001b[0;32m      6\u001b[0m     \u001b[38;5;28;01mexcept\u001b[39;00m DemoException:  \u001b[38;5;66;03m# <1>\u001b[39;00m\n\u001b[0;32m      7\u001b[0m         \u001b[38;5;28mprint\u001b[39m(\u001b[38;5;124m'\u001b[39m\u001b[38;5;124m*** DemoException handled. Continuing...\u001b[39m\u001b[38;5;124m'\u001b[39m)\n",
      "\u001b[1;31mZeroDivisionError\u001b[0m: "
     ]
    }
   ],
   "source": [
    ">>> exc_coro.throw(ZeroDivisionError)"
   ]
  },
  {
   "cell_type": "code",
   "execution_count": 14,
   "id": "a6ba3df6-8726-4886-aab7-0d505a86fd8c",
   "metadata": {},
   "outputs": [
    {
     "data": {
      "text/plain": [
       "'GEN_CLOSED'"
      ]
     },
     "execution_count": 14,
     "metadata": {},
     "output_type": "execute_result"
    }
   ],
   "source": [
    ">>> getgeneratorstate(exc_coro)"
   ]
  }
 ],
 "metadata": {
  "kernelspec": {
   "display_name": "Python 3 (ipykernel)",
   "language": "python",
   "name": "python3"
  },
  "language_info": {
   "codemirror_mode": {
    "name": "ipython",
    "version": 3
   },
   "file_extension": ".py",
   "mimetype": "text/x-python",
   "name": "python",
   "nbconvert_exporter": "python",
   "pygments_lexer": "ipython3",
   "version": "3.10.2"
  }
 },
 "nbformat": 4,
 "nbformat_minor": 5
}
