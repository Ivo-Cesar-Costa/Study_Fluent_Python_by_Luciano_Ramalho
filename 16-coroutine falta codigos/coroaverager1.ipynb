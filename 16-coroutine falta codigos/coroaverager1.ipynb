{
 "cells": [
  {
   "cell_type": "code",
   "execution_count": 1,
   "id": "0bcba93c-d2af-407a-ad6b-5a324e611321",
   "metadata": {},
   "outputs": [
    {
     "name": "stdout",
     "output_type": "stream",
     "text": [
      "importing Jupyter notebook from coroutil.ipynb\n"
     ]
    }
   ],
   "source": [
    "import import_ipynb\n",
    "from coroutil import coroutine  # <4>"
   ]
  },
  {
   "cell_type": "code",
   "execution_count": 2,
   "id": "82924873-a14b-4373-bb06-dc219ad29d3e",
   "metadata": {},
   "outputs": [],
   "source": [
    "@coroutine  # <5>\n",
    "def averager():  # <6>\n",
    "    total = 0.0\n",
    "    count = 0\n",
    "    average = None\n",
    "    while True:\n",
    "        term = yield average\n",
    "        total += term\n",
    "        count += 1\n",
    "        average = total/count"
   ]
  },
  {
   "cell_type": "markdown",
   "id": "a2e161b2-3ad2-47e8-88bb-18123bfec060",
   "metadata": {},
   "source": [
    "#### A coroutine to compute a running average"
   ]
  },
  {
   "cell_type": "code",
   "execution_count": 3,
   "id": "0121dff1-f7be-4f5e-a6ed-5bcb187e2389",
   "metadata": {},
   "outputs": [
    {
     "data": {
      "text/plain": [
       "'GEN_SUSPENDED'"
      ]
     },
     "execution_count": 3,
     "metadata": {},
     "output_type": "execute_result"
    }
   ],
   "source": [
    ">>> coro_avg = averager()  # <1>\n",
    ">>> from inspect import getgeneratorstate\n",
    ">>> getgeneratorstate(coro_avg)  # <2>"
   ]
  },
  {
   "cell_type": "code",
   "execution_count": 4,
   "id": "54103f9d-c570-4b66-8e83-cb7000b7949e",
   "metadata": {},
   "outputs": [
    {
     "data": {
      "text/plain": [
       "10.0"
      ]
     },
     "execution_count": 4,
     "metadata": {},
     "output_type": "execute_result"
    }
   ],
   "source": [
    ">>> coro_avg.send(10)  # <3>"
   ]
  },
  {
   "cell_type": "code",
   "execution_count": 5,
   "id": "8060f3ba-bc85-4169-b1f0-98238e06eead",
   "metadata": {},
   "outputs": [
    {
     "data": {
      "text/plain": [
       "20.0"
      ]
     },
     "execution_count": 5,
     "metadata": {},
     "output_type": "execute_result"
    }
   ],
   "source": [
    ">>> coro_avg.send(30)"
   ]
  },
  {
   "cell_type": "code",
   "execution_count": 6,
   "id": "34acb35d-2dbb-4bb7-a710-5b6c4e926ac5",
   "metadata": {},
   "outputs": [
    {
     "data": {
      "text/plain": [
       "15.0"
      ]
     },
     "execution_count": 6,
     "metadata": {},
     "output_type": "execute_result"
    }
   ],
   "source": [
    ">>> coro_avg.send(5)"
   ]
  }
 ],
 "metadata": {
  "kernelspec": {
   "display_name": "Python 3 (ipykernel)",
   "language": "python",
   "name": "python3"
  },
  "language_info": {
   "codemirror_mode": {
    "name": "ipython",
    "version": 3
   },
   "file_extension": ".py",
   "mimetype": "text/x-python",
   "name": "python",
   "nbconvert_exporter": "python",
   "pygments_lexer": "ipython3",
   "version": "3.10.2"
  }
 },
 "nbformat": 4,
 "nbformat_minor": 5
}
