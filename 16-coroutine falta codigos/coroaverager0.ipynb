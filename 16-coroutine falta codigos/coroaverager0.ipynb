{
 "cells": [
  {
   "cell_type": "code",
   "execution_count": 1,
   "id": "1497f4ef-b4ed-41df-96b6-8b38e50e4168",
   "metadata": {},
   "outputs": [],
   "source": [
    "def averager():\n",
    "    total = 0.0\n",
    "    count = 0\n",
    "    average = None\n",
    "    while True:  # <1>\n",
    "        term = yield average  # <2>\n",
    "        total += term\n",
    "        count += 1\n",
    "        average = total/count"
   ]
  },
  {
   "cell_type": "markdown",
   "id": "5234c790-47d8-44c4-a411-d024cddccff7",
   "metadata": {},
   "source": [
    "#### A coroutine to compute a running average"
   ]
  },
  {
   "cell_type": "code",
   "execution_count": 2,
   "id": "535c66d6-793f-443a-8c73-53da26015c60",
   "metadata": {},
   "outputs": [],
   "source": [
    ">>> coro_avg = averager()  # <1>\n",
    ">>> next(coro_avg)  # <2>"
   ]
  },
  {
   "cell_type": "code",
   "execution_count": 3,
   "id": "211743fa-b773-48bc-8864-3607435e59f7",
   "metadata": {},
   "outputs": [
    {
     "data": {
      "text/plain": [
       "10.0"
      ]
     },
     "execution_count": 3,
     "metadata": {},
     "output_type": "execute_result"
    }
   ],
   "source": [
    ">>> coro_avg.send(10)"
   ]
  },
  {
   "cell_type": "code",
   "execution_count": 4,
   "id": "1379e051-7782-4118-8587-5de4fe034c86",
   "metadata": {},
   "outputs": [
    {
     "data": {
      "text/plain": [
       "20.0"
      ]
     },
     "execution_count": 4,
     "metadata": {},
     "output_type": "execute_result"
    }
   ],
   "source": [
    ">>> coro_avg.send(30)"
   ]
  },
  {
   "cell_type": "code",
   "execution_count": 5,
   "id": "0e6f0043-1dbc-4871-913c-40983797990f",
   "metadata": {},
   "outputs": [
    {
     "data": {
      "text/plain": [
       "15.0"
      ]
     },
     "execution_count": 5,
     "metadata": {},
     "output_type": "execute_result"
    }
   ],
   "source": [
    ">>> coro_avg.send(5)"
   ]
  }
 ],
 "metadata": {
  "kernelspec": {
   "display_name": "Python 3 (ipykernel)",
   "language": "python",
   "name": "python3"
  },
  "language_info": {
   "codemirror_mode": {
    "name": "ipython",
    "version": 3
   },
   "file_extension": ".py",
   "mimetype": "text/x-python",
   "name": "python",
   "nbconvert_exporter": "python",
   "pygments_lexer": "ipython3",
   "version": "3.10.2"
  }
 },
 "nbformat": 4,
 "nbformat_minor": 5
}
