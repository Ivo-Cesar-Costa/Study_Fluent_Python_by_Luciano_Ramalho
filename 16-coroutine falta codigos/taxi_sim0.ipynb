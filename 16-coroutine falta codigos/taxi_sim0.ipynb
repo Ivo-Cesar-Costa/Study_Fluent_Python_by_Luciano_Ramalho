{
 "cells": [
  {
   "cell_type": "code",
   "execution_count": 1,
   "id": "64db69c6-cb98-4ecf-a637-e1e02dcf53cf",
   "metadata": {},
   "outputs": [],
   "source": [
    "import sys\n",
    "import random\n",
    "import collections\n",
    "import queue\n",
    "import argparse"
   ]
  },
  {
   "cell_type": "code",
   "execution_count": 2,
   "id": "147f94b7-9617-4ef2-a646-89edc9189da7",
   "metadata": {},
   "outputs": [],
   "source": [
    "DEFAULT_NUMBER_OF_TAXIS = 3\n",
    "DEFAULT_END_TIME = 80\n",
    "SEARCH_DURATION = 4\n",
    "TRIP_DURATION = 10\n",
    "DEPARTURE_INTERVAL = 5"
   ]
  },
  {
   "cell_type": "code",
   "execution_count": 3,
   "id": "83a1332d-4a91-48f5-ae35-fcb9e5860333",
   "metadata": {},
   "outputs": [],
   "source": [
    "Event = collections.namedtuple('Event', 'time proc action')"
   ]
  },
  {
   "cell_type": "code",
   "execution_count": 4,
   "id": "de51f9e0-a6d3-4fb5-a2ad-ed8c70d2efca",
   "metadata": {},
   "outputs": [],
   "source": [
    "def compute_delay(interval):\n",
    "    \"\"\"Compute action delay using exponential distribution\"\"\"\n",
    "    return int(random.expovariate(1/interval)) + 1"
   ]
  },
  {
   "cell_type": "code",
   "execution_count": 5,
   "id": "521a6597-7717-49b1-9efd-84af03095310",
   "metadata": {},
   "outputs": [],
   "source": [
    "# BEGIN TAXI_PROCESS\n",
    "def taxi_process(ident, trips, start_time=0):  # <1>\n",
    "    \"\"\"Yield to simulator issuing event at each state change\"\"\"\n",
    "    time = yield Event(start_time, ident, 'leave garage')  # <2>\n",
    "    for i in range(trips):  # <3>\n",
    "        prowling_ends = time + compute_delay(SEARCH_DURATION)  # <4>\n",
    "        time = yield Event(prowling_ends, ident, 'pick up passenger')  # <5>\n",
    "\n",
    "        trip_ends = time + compute_delay(TRIP_DURATION)  # <6>\n",
    "        time = yield Event(trip_ends, ident, 'drop off passenger')  # <7>\n",
    "\n",
    "    yield Event(time + 1, ident, 'going home')  # <8>\n",
    "    # end of taxi process # <9>\n",
    "# END TAXI_PROCESS"
   ]
  },
  {
   "cell_type": "code",
   "execution_count": 6,
   "id": "d01a36d2-1e25-4b74-b8d7-4b1a3a3e6618",
   "metadata": {},
   "outputs": [],
   "source": [
    "# BEGIN TAXI_SIMULATOR\n",
    "class Simulator:\n",
    "\n",
    "    def __init__(self, procs_map):\n",
    "        self.events = queue.PriorityQueue()\n",
    "        self.procs = dict(procs_map)\n",
    "\n",
    "\n",
    "    def run(self, end_time):  # <1>\n",
    "        \"\"\"Schedule and display events until time is up\"\"\"\n",
    "        # schedule the first event for each cab\n",
    "        for _, proc in sorted(self.procs.items()):  # <2>\n",
    "            first_event = next(proc)  # <3>\n",
    "            self.events.put(first_event)  # <4>\n",
    "\n",
    "        # main loop of the simulation\n",
    "        time = 0\n",
    "        while time < end_time:  # <5>\n",
    "            if self.events.empty():  # <6>\n",
    "                print('*** end of events ***')\n",
    "                break\n",
    "\n",
    "            # get and display current event\n",
    "            current_event = self.events.get()  # <7>\n",
    "            print('taxi:', current_event.proc,  # <8>\n",
    "                  current_event.proc * '   ', current_event)\n",
    "\n",
    "            # schedule next action for current proc\n",
    "            time = current_event.time  # <9>\n",
    "            proc = self.procs[current_event.proc]  # <10>\n",
    "            try:\n",
    "                next_event = proc.send(time)  # <11>\n",
    "            except StopIteration:\n",
    "                del self.procs[current_event.proc]  # <12>\n",
    "            else:\n",
    "                self.events.put(next_event)  # <13>\n",
    "        else:  # <14>\n",
    "            msg = '*** end of simulation time: {} events pending ***'\n",
    "            print(msg.format(self.events.qsize()))\n",
    "# END TAXI_SIMULATOR"
   ]
  },
  {
   "cell_type": "code",
   "execution_count": 7,
   "id": "7b5433db-807f-4571-8de7-38205b557b31",
   "metadata": {},
   "outputs": [],
   "source": [
    "def main(end_time=DEFAULT_END_TIME, num_taxis=DEFAULT_NUMBER_OF_TAXIS,\n",
    "         seed=None):\n",
    "    \"\"\"Initialize random generator, build procs and run simulation\"\"\"\n",
    "    if seed is not None:\n",
    "        random.seed(seed)  # get reproducible results\n",
    "\n",
    "    taxis = {i: taxi_process(i, (i+1)*2, i*DEPARTURE_INTERVAL)\n",
    "             for i in range(num_taxis)}\n",
    "    sim = Simulator(taxis)\n",
    "    sim.run(end_time)"
   ]
  },
  {
   "cell_type": "code",
   "execution_count": 8,
   "id": "16feace5-f163-49b2-a8f8-58f392c600e3",
   "metadata": {},
   "outputs": [
    {
     "name": "stderr",
     "output_type": "stream",
     "text": [
      "usage: ipykernel_launcher.py [-h] [-e END_TIME] [-t TAXIS] [-s SEED]\n",
      "ipykernel_launcher.py: error: unrecognized arguments: -f C:\\Users\\Ivo\\AppData\\Roaming\\jupyter\\runtime\\kernel-20ff8ff1-fd7b-4f8a-970f-b6d238b24c24.json\n"
     ]
    },
    {
     "ename": "SystemExit",
     "evalue": "2",
     "output_type": "error",
     "traceback": [
      "An exception has occurred, use %tb to see the full traceback.\n",
      "\u001b[1;31mSystemExit\u001b[0m\u001b[1;31m:\u001b[0m 2\n"
     ]
    },
    {
     "name": "stderr",
     "output_type": "stream",
     "text": [
      "C:\\Users\\Ivo\\AppData\\Local\\Programs\\Python\\Python310\\lib\\site-packages\\IPython\\core\\interactiveshell.py:3259: UserWarning: To exit: use 'exit', 'quit', or Ctrl-D.\n",
      "  warn(\"To exit: use 'exit', 'quit', or Ctrl-D.\", stacklevel=1)\n"
     ]
    }
   ],
   "source": [
    "if __name__ == '__main__':\n",
    "\n",
    "    parser = argparse.ArgumentParser(\n",
    "                        description='Taxi fleet simulator.')\n",
    "    parser.add_argument('-e', '--end-time', type=int,\n",
    "                        default=DEFAULT_END_TIME,\n",
    "                        help='simulation end time; default = %s'\n",
    "                        % DEFAULT_END_TIME)\n",
    "    parser.add_argument('-t', '--taxis', type=int,\n",
    "                        default=DEFAULT_NUMBER_OF_TAXIS,\n",
    "                        help='number of taxis running; default = %s'\n",
    "                        % DEFAULT_NUMBER_OF_TAXIS)\n",
    "    parser.add_argument('-s', '--seed', type=int, default=None,\n",
    "                        help='random generator seed (for testing)')\n",
    "\n",
    "    args = parser.parse_args()\n",
    "    main(args.end_time, args.taxis, args.seed)"
   ]
  },
  {
   "cell_type": "markdown",
   "id": "08c4306b-9394-4c95-a0d5-7c4918a0cdba",
   "metadata": {},
   "source": [
    "#### Taxi simulator\n",
    "#### Sample run with two cars, random seed 10. This is a valid doctest."
   ]
  },
  {
   "cell_type": "code",
   "execution_count": 9,
   "id": "8ec427f3-f63c-4fc9-81fc-89ac7396792f",
   "metadata": {},
   "outputs": [
    {
     "name": "stdout",
     "output_type": "stream",
     "text": [
      "taxi: 0  Event(time=0, proc=0, action='leave garage')\n",
      "taxi: 0  Event(time=4, proc=0, action='pick up passenger')\n",
      "taxi: 1     Event(time=5, proc=1, action='leave garage')\n",
      "taxi: 1     Event(time=9, proc=1, action='pick up passenger')\n",
      "taxi: 0  Event(time=10, proc=0, action='drop off passenger')\n",
      "taxi: 1     Event(time=12, proc=1, action='drop off passenger')\n",
      "taxi: 0  Event(time=17, proc=0, action='pick up passenger')\n",
      "taxi: 1     Event(time=19, proc=1, action='pick up passenger')\n",
      "taxi: 1     Event(time=21, proc=1, action='drop off passenger')\n",
      "taxi: 1     Event(time=24, proc=1, action='pick up passenger')\n",
      "taxi: 0  Event(time=28, proc=0, action='drop off passenger')\n",
      "taxi: 1     Event(time=28, proc=1, action='drop off passenger')\n",
      "taxi: 0  Event(time=29, proc=0, action='going home')\n",
      "taxi: 1     Event(time=30, proc=1, action='pick up passenger')\n",
      "taxi: 1     Event(time=61, proc=1, action='drop off passenger')\n",
      "taxi: 1     Event(time=62, proc=1, action='going home')\n",
      "*** end of events ***\n"
     ]
    }
   ],
   "source": [
    ">>> main(num_taxis=2, seed=10)"
   ]
  },
  {
   "cell_type": "code",
   "execution_count": 10,
   "id": "1c1d7f96-1acc-4dc0-a453-20107851a900",
   "metadata": {},
   "outputs": [
    {
     "name": "stdout",
     "output_type": "stream",
     "text": [
      "taxi: 0  Event(time=0, proc=0, action='leave garage')\n",
      "taxi: 0  Event(time=4, proc=0, action='pick up passenger')\n",
      "taxi: 1     Event(time=5, proc=1, action='leave garage')\n",
      "taxi: 1     Event(time=9, proc=1, action='pick up passenger')\n",
      "taxi: 0  Event(time=10, proc=0, action='drop off passenger')\n",
      "taxi: 1     Event(time=12, proc=1, action='drop off passenger')\n",
      "taxi: 0  Event(time=17, proc=0, action='pick up passenger')\n",
      "taxi: 1     Event(time=19, proc=1, action='pick up passenger')\n",
      "taxi: 1     Event(time=21, proc=1, action='drop off passenger')\n",
      "taxi: 1     Event(time=24, proc=1, action='pick up passenger')\n",
      "taxi: 0  Event(time=28, proc=0, action='drop off passenger')\n",
      "taxi: 1     Event(time=28, proc=1, action='drop off passenger')\n",
      "taxi: 0  Event(time=29, proc=0, action='going home')\n",
      "taxi: 1     Event(time=30, proc=1, action='pick up passenger')\n",
      "taxi: 1     Event(time=61, proc=1, action='drop off passenger')\n",
      "taxi: 1     Event(time=62, proc=1, action='going home')\n",
      "*** end of events ***\n"
     ]
    }
   ],
   "source": [
    "end_time=DEFAULT_END_TIME\n",
    "num_taxis=2\n",
    "seed=10\n",
    "if seed is not None:\n",
    "    random.seed(seed)  # get reproducible results\n",
    "\n",
    "taxis = {i: taxi_process(i, (i+1)*2, i*DEPARTURE_INTERVAL)\n",
    "         for i in range(num_taxis)}\n",
    "sim = Simulator(taxis)\n",
    "sim.run(end_time)"
   ]
  }
 ],
 "metadata": {
  "kernelspec": {
   "display_name": "Python 3 (ipykernel)",
   "language": "python",
   "name": "python3"
  },
  "language_info": {
   "codemirror_mode": {
    "name": "ipython",
    "version": 3
   },
   "file_extension": ".py",
   "mimetype": "text/x-python",
   "name": "python",
   "nbconvert_exporter": "python",
   "pygments_lexer": "ipython3",
   "version": "3.10.2"
  }
 },
 "nbformat": 4,
 "nbformat_minor": 5
}
