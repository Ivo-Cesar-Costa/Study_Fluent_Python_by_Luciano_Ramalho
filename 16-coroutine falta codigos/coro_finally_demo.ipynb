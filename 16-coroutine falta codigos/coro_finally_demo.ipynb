{
 "cells": [
  {
   "cell_type": "code",
   "execution_count": 1,
   "id": "b7e1d1d8-6b3e-4cac-a71a-4a9dd5ab20f4",
   "metadata": {},
   "outputs": [],
   "source": [
    "class DemoException(Exception):\n",
    "    \"\"\"An exception type for the demonstration.\"\"\""
   ]
  },
  {
   "cell_type": "code",
   "execution_count": 2,
   "id": "acb19da6-20a2-41a1-8b20-cc6020635465",
   "metadata": {},
   "outputs": [],
   "source": [
    "def demo_finally():\n",
    "    print('-> coroutine started')\n",
    "    try:\n",
    "        while True:\n",
    "            try:\n",
    "                x = yield\n",
    "            except DemoException:\n",
    "                print('*** DemoException handled. Continuing...')\n",
    "            else:\n",
    "                print('-> coroutine received: {!r}'.format(x))\n",
    "    finally:\n",
    "        print('-> coroutine ending')"
   ]
  },
  {
   "cell_type": "markdown",
   "id": "43b50d54-2d43-4bc3-8afd-684d23128eac",
   "metadata": {},
   "source": [
    "#### Second coroutine closing demonstration::"
   ]
  },
  {
   "cell_type": "code",
   "execution_count": 3,
   "id": "d4a28e18-644d-4f5e-9531-7683ac7f5278",
   "metadata": {},
   "outputs": [
    {
     "name": "stdout",
     "output_type": "stream",
     "text": [
      "-> coroutine started\n"
     ]
    }
   ],
   "source": [
    ">>> fin_coro = demo_finally()\n",
    ">>> next(fin_coro)"
   ]
  },
  {
   "cell_type": "code",
   "execution_count": 4,
   "id": "d8411e1a-aee0-4e5b-91d4-65e55edf572f",
   "metadata": {},
   "outputs": [
    {
     "name": "stdout",
     "output_type": "stream",
     "text": [
      "-> coroutine received: 11\n"
     ]
    }
   ],
   "source": [
    ">>> fin_coro.send(11)"
   ]
  },
  {
   "cell_type": "code",
   "execution_count": 5,
   "id": "fcc0240d-8abc-43c2-a79b-cdffe735eb69",
   "metadata": {},
   "outputs": [
    {
     "name": "stdout",
     "output_type": "stream",
     "text": [
      "-> coroutine received: 22\n"
     ]
    }
   ],
   "source": [
    ">>> fin_coro.send(22)"
   ]
  },
  {
   "cell_type": "code",
   "execution_count": 6,
   "id": "5183f83a-2518-45ba-a38f-0f88c45bc806",
   "metadata": {},
   "outputs": [
    {
     "name": "stdout",
     "output_type": "stream",
     "text": [
      "-> coroutine ending\n"
     ]
    }
   ],
   "source": [
    ">>> fin_coro.close()"
   ]
  },
  {
   "cell_type": "markdown",
   "id": "23e069aa-5bb4-438b-8898-f43914536d78",
   "metadata": {},
   "source": [
    "#### Second coroutine not handling exception::"
   ]
  },
  {
   "cell_type": "code",
   "execution_count": 7,
   "id": "d5742b1c-049c-4aae-b48a-fb2e10845223",
   "metadata": {},
   "outputs": [
    {
     "name": "stdout",
     "output_type": "stream",
     "text": [
      "-> coroutine started\n"
     ]
    }
   ],
   "source": [
    ">>> fin_coro = demo_finally()\n",
    ">>> next(fin_coro)"
   ]
  },
  {
   "cell_type": "code",
   "execution_count": 8,
   "id": "cfaf5467-9818-437f-b712-d20c97ce5a83",
   "metadata": {},
   "outputs": [
    {
     "name": "stdout",
     "output_type": "stream",
     "text": [
      "-> coroutine received: 11\n"
     ]
    }
   ],
   "source": [
    ">>> fin_coro.send(11)"
   ]
  },
  {
   "cell_type": "code",
   "execution_count": 9,
   "id": "b383bd95-6500-44b5-af31-77294ad63c70",
   "metadata": {},
   "outputs": [
    {
     "name": "stdout",
     "output_type": "stream",
     "text": [
      "-> coroutine ending\n"
     ]
    },
    {
     "ename": "ZeroDivisionError",
     "evalue": "",
     "output_type": "error",
     "traceback": [
      "\u001b[1;31m---------------------------------------------------------------------------\u001b[0m",
      "\u001b[1;31mZeroDivisionError\u001b[0m                         Traceback (most recent call last)",
      "Input \u001b[1;32mIn [9]\u001b[0m, in \u001b[0;36m<module>\u001b[1;34m\u001b[0m\n\u001b[1;32m----> 1\u001b[0m \u001b[43mfin_coro\u001b[49m\u001b[38;5;241;43m.\u001b[39;49m\u001b[43mthrow\u001b[49m\u001b[43m(\u001b[49m\u001b[38;5;167;43;01mZeroDivisionError\u001b[39;49;00m\u001b[43m)\u001b[49m\n",
      "Input \u001b[1;32mIn [2]\u001b[0m, in \u001b[0;36mdemo_finally\u001b[1;34m()\u001b[0m\n\u001b[0;32m      4\u001b[0m \u001b[38;5;28;01mwhile\u001b[39;00m \u001b[38;5;28;01mTrue\u001b[39;00m:\n\u001b[0;32m      5\u001b[0m     \u001b[38;5;28;01mtry\u001b[39;00m:\n\u001b[1;32m----> 6\u001b[0m         x \u001b[38;5;241m=\u001b[39m \u001b[38;5;28;01myield\u001b[39;00m\n\u001b[0;32m      7\u001b[0m     \u001b[38;5;28;01mexcept\u001b[39;00m DemoException:\n\u001b[0;32m      8\u001b[0m         \u001b[38;5;28mprint\u001b[39m(\u001b[38;5;124m'\u001b[39m\u001b[38;5;124m*** DemoException handled. Continuing...\u001b[39m\u001b[38;5;124m'\u001b[39m)\n",
      "\u001b[1;31mZeroDivisionError\u001b[0m: "
     ]
    }
   ],
   "source": [
    ">>> fin_coro.throw(ZeroDivisionError)  # doctest: +SKIP"
   ]
  },
  {
   "cell_type": "code",
   "execution_count": 10,
   "id": "02b8e4b9-4da0-479f-9711-72257638d720",
   "metadata": {},
   "outputs": [
    {
     "data": {
      "text/plain": [
       "'The last test above must be skipped because the output \\'-> coroutine ending\\'\\nis not detected by doctest, which raises a false error. However, if you\\nrun this file as shown below, you\\'ll see that output \"leak\" into standard\\noutput:: '"
      ]
     },
     "execution_count": 10,
     "metadata": {},
     "output_type": "execute_result"
    }
   ],
   "source": [
    "'''The last test above must be skipped because the output '-> coroutine ending'\n",
    "is not detected by doctest, which raises a false error. However, if you\n",
    "run this file as shown below, you'll see that output \"leak\" into standard\n",
    "output:: '''"
   ]
  }
 ],
 "metadata": {
  "kernelspec": {
   "display_name": "Python 3 (ipykernel)",
   "language": "python",
   "name": "python3"
  },
  "language_info": {
   "codemirror_mode": {
    "name": "ipython",
    "version": 3
   },
   "file_extension": ".py",
   "mimetype": "text/x-python",
   "name": "python",
   "nbconvert_exporter": "python",
   "pygments_lexer": "ipython3",
   "version": "3.10.2"
  }
 },
 "nbformat": 4,
 "nbformat_minor": 5
}
