{
 "cells": [
  {
   "cell_type": "code",
   "execution_count": 1,
   "id": "f5ca8888-f64a-4f5e-aa14-c723697eef50",
   "metadata": {},
   "outputs": [],
   "source": [
    "from collections import namedtuple"
   ]
  },
  {
   "cell_type": "code",
   "execution_count": 2,
   "id": "ea476841-a987-4934-a913-c9267f4768e4",
   "metadata": {},
   "outputs": [],
   "source": [
    "Result = namedtuple('Result', 'count average')"
   ]
  },
  {
   "cell_type": "markdown",
   "id": "d443148d-a27f-4594-abee-ff2e4e8ba81e",
   "metadata": {},
   "source": [
    "#### # the subgenerator"
   ]
  },
  {
   "cell_type": "code",
   "execution_count": 3,
   "id": "5c198c25-8c72-4cf1-8781-3f53c43d313a",
   "metadata": {},
   "outputs": [],
   "source": [
    "def averager():  # <1>\n",
    "    total = 0.0\n",
    "    count = 0\n",
    "    average = None\n",
    "    while True:\n",
    "        term = yield  # <2>\n",
    "        if term is None:  # <3>\n",
    "            break\n",
    "        total += term\n",
    "        count += 1\n",
    "        average = total/count\n",
    "    return Result(count, average)  # <4"
   ]
  },
  {
   "cell_type": "markdown",
   "id": "cc79ca1e-e523-47be-a687-1be0ab6791a5",
   "metadata": {},
   "source": [
    "#### # the delegating generator"
   ]
  },
  {
   "cell_type": "code",
   "execution_count": 4,
   "id": "4d2abd1c-873f-4fd8-a0bf-d6999871d635",
   "metadata": {},
   "outputs": [],
   "source": [
    "def grouper(results, key):  # <5>\n",
    "    while True:  # <6>\n",
    "        results[key] = yield from averager()  # <7>"
   ]
  },
  {
   "cell_type": "markdown",
   "id": "543be3ec-9919-4b02-9464-82de8103ff5d",
   "metadata": {},
   "source": [
    "#### # the client code, a.k.a. the caller"
   ]
  },
  {
   "cell_type": "code",
   "execution_count": 5,
   "id": "608d4afd-5f48-4607-b67b-95a420ac524d",
   "metadata": {},
   "outputs": [],
   "source": [
    "def main(data):  # <8>\n",
    "    results = {}\n",
    "    for key, values in data.items():\n",
    "        group = grouper(results, key)  # <9>\n",
    "        next(group)  # <10>\n",
    "        for value in values:\n",
    "            group.send(value)  # <11>\n",
    "        group.send(None)  # important! <12>\n",
    "\n",
    "    # print(results)  # uncomment to debug\n",
    "    report(results)"
   ]
  },
  {
   "cell_type": "markdown",
   "id": "aafdc3d7-acae-43fb-b125-8214eb414788",
   "metadata": {},
   "source": [
    "#### # output report"
   ]
  },
  {
   "cell_type": "code",
   "execution_count": 6,
   "id": "c7b03775-4a71-4a89-b6f7-1b5f3e15f8ee",
   "metadata": {},
   "outputs": [],
   "source": [
    "def report(results):\n",
    "    for key, result in sorted(results.items()):\n",
    "        group, unit = key.split(';')\n",
    "        print('{:2} {:5} averaging {:.2f}{}'.format(\n",
    "              result.count, group, result.average, unit))"
   ]
  },
  {
   "cell_type": "code",
   "execution_count": 7,
   "id": "58b5360f-2c90-4a85-981c-6b9904b37a23",
   "metadata": {},
   "outputs": [],
   "source": [
    "data = {\n",
    "    'girls;kg':\n",
    "        [40.9, 38.5, 44.3, 42.2, 45.2, 41.7, 44.5, 38.0, 40.6, 44.5],\n",
    "    'girls;m':\n",
    "        [1.6, 1.51, 1.4, 1.3, 1.41, 1.39, 1.33, 1.46, 1.45, 1.43],\n",
    "    'boys;kg':\n",
    "        [39.0, 40.8, 43.2, 40.8, 43.1, 38.6, 41.4, 40.6, 36.3],\n",
    "    'boys;m':\n",
    "        [1.38, 1.5, 1.32, 1.25, 1.37, 1.48, 1.25, 1.49, 1.46],\n",
    "}"
   ]
  },
  {
   "cell_type": "code",
   "execution_count": 8,
   "id": "70c89ec7-078b-4595-8155-5cb776b49442",
   "metadata": {},
   "outputs": [
    {
     "name": "stdout",
     "output_type": "stream",
     "text": [
      " 9 boys  averaging 40.42kg\n",
      " 9 boys  averaging 1.39m\n",
      "10 girls averaging 42.04kg\n",
      "10 girls averaging 1.43m\n"
     ]
    }
   ],
   "source": [
    "if __name__ == '__main__':\n",
    "    main(data)"
   ]
  },
  {
   "cell_type": "markdown",
   "id": "fe9c1cdd-efbf-444e-b681-92bd3029bad7",
   "metadata": {},
   "source": [
    "#### A coroutine to compute a running average.\n",
    "#### Testing ``averager`` by itself::"
   ]
  },
  {
   "cell_type": "code",
   "execution_count": 9,
   "id": "f404f72a-8baa-4b05-9239-c4e73df877ba",
   "metadata": {},
   "outputs": [
    {
     "ename": "StopIteration",
     "evalue": "Result(count=3, average=15.5)",
     "output_type": "error",
     "traceback": [
      "\u001b[1;31m---------------------------------------------------------------------------\u001b[0m",
      "\u001b[1;31mStopIteration\u001b[0m                             Traceback (most recent call last)",
      "Input \u001b[1;32mIn [9]\u001b[0m, in \u001b[0;36m<module>\u001b[1;34m\u001b[0m\n\u001b[0;32m      4\u001b[0m coro_avg\u001b[38;5;241m.\u001b[39msend(\u001b[38;5;241m30\u001b[39m)\n\u001b[0;32m      5\u001b[0m coro_avg\u001b[38;5;241m.\u001b[39msend(\u001b[38;5;241m6.5\u001b[39m)\n\u001b[1;32m----> 6\u001b[0m \u001b[43mcoro_avg\u001b[49m\u001b[38;5;241;43m.\u001b[39;49m\u001b[43msend\u001b[49m\u001b[43m(\u001b[49m\u001b[38;5;28;43;01mNone\u001b[39;49;00m\u001b[43m)\u001b[49m\n",
      "\u001b[1;31mStopIteration\u001b[0m: Result(count=3, average=15.5)"
     ]
    }
   ],
   "source": [
    ">>> coro_avg = averager()\n",
    ">>> next(coro_avg)\n",
    ">>> coro_avg.send(10)\n",
    ">>> coro_avg.send(30)\n",
    ">>> coro_avg.send(6.5)\n",
    ">>> coro_avg.send(None)"
   ]
  },
  {
   "cell_type": "markdown",
   "id": "c225cd11-02f6-46bf-bcf0-91f88322a0c1",
   "metadata": {},
   "source": [
    "#### Driving it with ``yield from``::"
   ]
  },
  {
   "cell_type": "code",
   "execution_count": 10,
   "id": "e6aa6c6c-d3b7-44e4-b10a-760884ea0a62",
   "metadata": {},
   "outputs": [],
   "source": [
    "def summarize(results):\n",
    "     while True:\n",
    "            result = yield from averager()\n",
    "            results.append(result)"
   ]
  },
  {
   "cell_type": "code",
   "execution_count": 11,
   "id": "85f8ee73-d35c-4ebc-b0c7-05c3bfcbc3ed",
   "metadata": {},
   "outputs": [],
   "source": [
    "results = []"
   ]
  },
  {
   "cell_type": "code",
   "execution_count": 12,
   "id": "c6f577ec-f48f-4341-96c7-1d3f83c7dd76",
   "metadata": {},
   "outputs": [],
   "source": [
    "summary = summarize(results)\n",
    "next(summary)\n",
    "for height in data['girls;m']:\n",
    "     summary.send(height)"
   ]
  },
  {
   "cell_type": "code",
   "execution_count": 13,
   "id": "cbf70a11-58c0-4d36-a5b6-c5ace4c514f7",
   "metadata": {},
   "outputs": [],
   "source": [
    "summary.send(None)\n",
    "for height in data['boys;m']:\n",
    "     summary.send(height)"
   ]
  },
  {
   "cell_type": "code",
   "execution_count": 14,
   "id": "36e18e13-15ce-43ee-800a-c94ff2da7941",
   "metadata": {},
   "outputs": [
    {
     "data": {
      "text/plain": [
       "True"
      ]
     },
     "execution_count": 14,
     "metadata": {},
     "output_type": "execute_result"
    }
   ],
   "source": [
    ">>> summary.send(None)\n",
    ">>> results == [\n",
    "...     Result(count=10, average=1.4279999999999997),\n",
    "...     Result(count=9, average=1.3888888888888888)\n",
    "... ]"
   ]
  }
 ],
 "metadata": {
  "kernelspec": {
   "display_name": "Python 3 (ipykernel)",
   "language": "python",
   "name": "python3"
  },
  "language_info": {
   "codemirror_mode": {
    "name": "ipython",
    "version": 3
   },
   "file_extension": ".py",
   "mimetype": "text/x-python",
   "name": "python",
   "nbconvert_exporter": "python",
   "pygments_lexer": "ipython3",
   "version": "3.10.2"
  }
 },
 "nbformat": 4,
 "nbformat_minor": 5
}
