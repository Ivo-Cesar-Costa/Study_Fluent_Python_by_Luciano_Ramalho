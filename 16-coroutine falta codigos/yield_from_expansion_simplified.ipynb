{
 "cells": [
  {
   "cell_type": "code",
   "execution_count": 1,
   "id": "d5c44d69-fdd8-46d7-8f6d-7bc7e95f5e28",
   "metadata": {},
   "outputs": [],
   "source": [
    "_i = iter(EXPR)  # <1>\n",
    "try:\n",
    "    _y = next(_i)  # <2>\n",
    "except StopIteration as _e:\n",
    "    _r = _e.value  # <3>\n",
    "else:\n",
    "    while 1:  # <4>\n",
    "        _s = yield _y  # <5>\n",
    "        try:\n",
    "            _y = _i.send(_s)  # <6>\n",
    "        except StopIteration as _e:  # <7>\n",
    "            _r = _e.value\n",
    "            break\n",
    "\n",
    "RESULT = _r  # <8>"
   ]
  }
 ],
 "metadata": {
  "kernelspec": {
   "display_name": "Python 3 (ipykernel)",
   "language": "python",
   "name": "python3"
  },
  "language_info": {
   "codemirror_mode": {
    "name": "ipython",
    "version": 3
   },
   "file_extension": ".py",
   "mimetype": "text/x-python",
   "name": "python",
   "nbconvert_exporter": "python",
   "pygments_lexer": "ipython3",
   "version": "3.10.2"
  }
 },
 "nbformat": 4,
 "nbformat_minor": 5
}
