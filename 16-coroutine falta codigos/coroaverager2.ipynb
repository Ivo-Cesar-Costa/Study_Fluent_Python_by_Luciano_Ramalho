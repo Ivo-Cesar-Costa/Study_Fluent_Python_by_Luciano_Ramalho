{
 "cells": [
  {
   "cell_type": "code",
   "execution_count": 1,
   "id": "47a500ba-7323-428c-89c4-ef4aca84eaf9",
   "metadata": {},
   "outputs": [],
   "source": [
    "from collections import namedtuple"
   ]
  },
  {
   "cell_type": "code",
   "execution_count": 2,
   "id": "f18e1aa8-4402-49b1-9163-6872318efb85",
   "metadata": {},
   "outputs": [],
   "source": [
    "Result = namedtuple('Result', 'count average')"
   ]
  },
  {
   "cell_type": "code",
   "execution_count": 3,
   "id": "7a509a83-f65d-495d-8fe7-81de99438e91",
   "metadata": {},
   "outputs": [],
   "source": [
    "def averager():\n",
    "    total = 0.0\n",
    "    count = 0\n",
    "    average = None\n",
    "    while True:\n",
    "        term = yield\n",
    "        if term is None:\n",
    "            break  # <1>\n",
    "        total += term\n",
    "        count += 1\n",
    "        average = total/count\n",
    "    return Result(count, average)  # <2>"
   ]
  },
  {
   "cell_type": "markdown",
   "id": "608ea769-6bbe-4c23-9e09-1da4084df274",
   "metadata": {},
   "source": [
    "#### A coroutine to compute a running average.\n",
    "#### Testing ``averager`` by itself::"
   ]
  },
  {
   "cell_type": "code",
   "execution_count": 4,
   "id": "469bacf9-cd65-4828-9f91-709240b42642",
   "metadata": {},
   "outputs": [
    {
     "ename": "StopIteration",
     "evalue": "Result(count=3, average=15.5)",
     "output_type": "error",
     "traceback": [
      "\u001b[1;31m---------------------------------------------------------------------------\u001b[0m",
      "\u001b[1;31mStopIteration\u001b[0m                             Traceback (most recent call last)",
      "Input \u001b[1;32mIn [4]\u001b[0m, in \u001b[0;36m<module>\u001b[1;34m\u001b[0m\n\u001b[0;32m      4\u001b[0m coro_avg\u001b[38;5;241m.\u001b[39msend(\u001b[38;5;241m30\u001b[39m)\n\u001b[0;32m      5\u001b[0m coro_avg\u001b[38;5;241m.\u001b[39msend(\u001b[38;5;241m6.5\u001b[39m)\n\u001b[1;32m----> 6\u001b[0m \u001b[43mcoro_avg\u001b[49m\u001b[38;5;241;43m.\u001b[39;49m\u001b[43msend\u001b[49m\u001b[43m(\u001b[49m\u001b[38;5;28;43;01mNone\u001b[39;49;00m\u001b[43m)\u001b[49m\n",
      "\u001b[1;31mStopIteration\u001b[0m: Result(count=3, average=15.5)"
     ]
    }
   ],
   "source": [
    ">>> coro_avg = averager()\n",
    ">>> next(coro_avg)\n",
    ">>> coro_avg.send(10)  # <1>\n",
    ">>> coro_avg.send(30)\n",
    ">>> coro_avg.send(6.5)\n",
    ">>> coro_avg.send(None)  # <2>"
   ]
  },
  {
   "cell_type": "markdown",
   "id": "1c9d9dcf-5751-4a6c-9113-bd09480e7d74",
   "metadata": {},
   "source": [
    "#### Catching `StopIteration` to extract the value returned by\n",
    "#### the coroutine::"
   ]
  },
  {
   "cell_type": "code",
   "execution_count": 5,
   "id": "73e6e97e-4031-403d-a394-84156b3cee65",
   "metadata": {},
   "outputs": [
    {
     "data": {
      "text/plain": [
       "Result(count=3, average=15.5)"
      ]
     },
     "execution_count": 5,
     "metadata": {},
     "output_type": "execute_result"
    }
   ],
   "source": [
    ">>> coro_avg = averager()\n",
    ">>> next(coro_avg)\n",
    ">>> coro_avg.send(10)\n",
    ">>> coro_avg.send(30)\n",
    ">>> coro_avg.send(6.5)\n",
    ">>> try:\n",
    "...     coro_avg.send(None)\n",
    "... except StopIteration as exc:\n",
    "...     result = exc.value\n",
    "...\n",
    ">>> result"
   ]
  }
 ],
 "metadata": {
  "kernelspec": {
   "display_name": "Python 3 (ipykernel)",
   "language": "python",
   "name": "python3"
  },
  "language_info": {
   "codemirror_mode": {
    "name": "ipython",
    "version": 3
   },
   "file_extension": ".py",
   "mimetype": "text/x-python",
   "name": "python",
   "nbconvert_exporter": "python",
   "pygments_lexer": "ipython3",
   "version": "3.10.2"
  }
 },
 "nbformat": 4,
 "nbformat_minor": 5
}
