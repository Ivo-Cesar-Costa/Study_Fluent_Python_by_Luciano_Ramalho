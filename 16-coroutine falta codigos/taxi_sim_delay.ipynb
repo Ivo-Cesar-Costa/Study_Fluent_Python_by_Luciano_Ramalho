{
 "cells": [
  {
   "cell_type": "code",
   "execution_count": 1,
   "id": "1ee84a69-556b-435e-931b-a827af420995",
   "metadata": {},
   "outputs": [],
   "source": [
    "import random\n",
    "import collections\n",
    "import queue\n",
    "import argparse\n",
    "import time"
   ]
  },
  {
   "cell_type": "code",
   "execution_count": 2,
   "id": "87456830-606f-4119-ba6f-0edd981ec343",
   "metadata": {},
   "outputs": [],
   "source": [
    "DEFAULT_NUMBER_OF_TAXIS = 3\n",
    "DEFAULT_END_TIME = 180\n",
    "SEARCH_DURATION = 5\n",
    "TRIP_DURATION = 20\n",
    "DEPARTURE_INTERVAL = 5"
   ]
  },
  {
   "cell_type": "code",
   "execution_count": 3,
   "id": "db7c441f-eecf-4704-aa50-4fca7ef00a59",
   "metadata": {},
   "outputs": [],
   "source": [
    "Event = collections.namedtuple('Event', 'time proc action')"
   ]
  },
  {
   "cell_type": "code",
   "execution_count": 4,
   "id": "1150900b-8a40-4419-8f5e-d09ce003a1d7",
   "metadata": {},
   "outputs": [],
   "source": [
    "# BEGIN TAXI_PROCESS\n",
    "def taxi_process(ident, trips, start_time=0):  # <1>\n",
    "    \"\"\"Yield to simulator issuing event at each state change\"\"\"\n",
    "    time = yield Event(start_time, ident, 'leave garage')  # <2>\n",
    "    for i in range(trips):  # <3>\n",
    "        time = yield Event(time, ident, 'pick up passenger')  # <4>\n",
    "        time = yield Event(time, ident, 'drop off passenger')  # <5>\n",
    "\n",
    "    yield Event(time, ident, 'going home')  # <6>\n",
    "    # end of taxi process # <7>\n",
    "# END TAXI_PROCESS"
   ]
  },
  {
   "cell_type": "code",
   "execution_count": 5,
   "id": "b25ef47d-de85-4c16-b104-33abe1abd81f",
   "metadata": {},
   "outputs": [],
   "source": [
    "# BEGIN TAXI_SIMULATOR\n",
    "class Simulator:\n",
    "\n",
    "    def __init__(self, procs_map):\n",
    "        self.events = queue.PriorityQueue()\n",
    "        self.procs = dict(procs_map)\n",
    "\n",
    "    def run(self, end_time, delay=False):  # <1>\n",
    "        \"\"\"Schedule and display events until time is up\"\"\"\n",
    "        # schedule the first event for each cab\n",
    "        for _, proc in sorted(self.procs.items()):  # <2>\n",
    "            first_event = next(proc)  # <3>\n",
    "            self.events.put(first_event)  # <4>\n",
    "\n",
    "        # main loop of the simulation\n",
    "        sim_time = 0  # <5>\n",
    "        while sim_time < end_time:  # <6>\n",
    "            if self.events.empty():  # <7>\n",
    "                print('*** end of events ***')\n",
    "                break\n",
    "\n",
    "            # get and display current event\n",
    "            current_event = self.events.get()  # <8>\n",
    "            if delay:\n",
    "                time.sleep((current_event.time - sim_time) / 2)\n",
    "            # update the simulation time\n",
    "            sim_time, proc_id, previous_action = current_event\n",
    "            print('taxi:', proc_id, proc_id * '   ', current_event)\n",
    "            active_proc = self.procs[proc_id]\n",
    "            # schedule next action for current proc\n",
    "            next_time = sim_time + compute_duration(previous_action)\n",
    "            try:\n",
    "                next_event = active_proc.send(next_time)  # <12>\n",
    "            except StopIteration:\n",
    "                del self.procs[proc_id]  # <13>\n",
    "            else:\n",
    "                self.events.put(next_event)  # <14>\n",
    "        else:  # <15>\n",
    "            msg = '*** end of simulation time: {} events pending ***'\n",
    "            print(msg.format(self.events.qsize()))\n",
    "# END TAXI_SIMULATOR"
   ]
  },
  {
   "cell_type": "code",
   "execution_count": 6,
   "id": "4dd25eae-a64b-4803-a3d2-7a1e936169a1",
   "metadata": {},
   "outputs": [],
   "source": [
    "def compute_duration(previous_action):\n",
    "    \"\"\"Compute action duration using exponential distribution\"\"\"\n",
    "    if previous_action in ['leave garage', 'drop off passenger']:\n",
    "        # new state is prowling\n",
    "        interval = SEARCH_DURATION\n",
    "    elif previous_action == 'pick up passenger':\n",
    "        # new state is trip\n",
    "        interval = TRIP_DURATION\n",
    "    elif previous_action == 'going home':\n",
    "        interval = 1\n",
    "    else:\n",
    "        raise ValueError('Unknown previous_action: %s' % previous_action)\n",
    "    return int(random.expovariate(1/interval)) + 1"
   ]
  },
  {
   "cell_type": "code",
   "execution_count": 7,
   "id": "d064bc31-23fc-43f7-baa2-16fb90e35361",
   "metadata": {},
   "outputs": [],
   "source": [
    "def main(end_time=DEFAULT_END_TIME, num_taxis=DEFAULT_NUMBER_OF_TAXIS,\n",
    "         seed=None, delay=False):\n",
    "    \"\"\"Initialize random generator, build procs and run simulation\"\"\"\n",
    "    if seed is not None:\n",
    "        random.seed(seed)  # get reproducible results\n",
    "\n",
    "    taxis = {i: taxi_process(i, (i+1)*2, i*DEPARTURE_INTERVAL)\n",
    "             for i in range(num_taxis)}\n",
    "    sim = Simulator(taxis)\n",
    "    sim.run(end_time, delay)"
   ]
  },
  {
   "cell_type": "code",
   "execution_count": 8,
   "id": "6f69f079-44f2-46ee-aa2e-309586f7c76f",
   "metadata": {},
   "outputs": [
    {
     "name": "stderr",
     "output_type": "stream",
     "text": [
      "usage: ipykernel_launcher.py [-h] [-e END_TIME] [-t TAXIS] [-s SEED] [-d]\n",
      "ipykernel_launcher.py: error: unrecognized arguments: -f C:\\Users\\Ivo\\AppData\\Roaming\\jupyter\\runtime\\kernel-1f0467d4-cce6-4dd4-a0fb-b49d574d3680.json\n"
     ]
    },
    {
     "ename": "SystemExit",
     "evalue": "2",
     "output_type": "error",
     "traceback": [
      "An exception has occurred, use %tb to see the full traceback.\n",
      "\u001b[1;31mSystemExit\u001b[0m\u001b[1;31m:\u001b[0m 2\n"
     ]
    },
    {
     "name": "stderr",
     "output_type": "stream",
     "text": [
      "C:\\Users\\Ivo\\AppData\\Local\\Programs\\Python\\Python310\\lib\\site-packages\\IPython\\core\\interactiveshell.py:3259: UserWarning: To exit: use 'exit', 'quit', or Ctrl-D.\n",
      "  warn(\"To exit: use 'exit', 'quit', or Ctrl-D.\", stacklevel=1)\n"
     ]
    }
   ],
   "source": [
    "if __name__ == '__main__':\n",
    "\n",
    "    parser = argparse.ArgumentParser(\n",
    "                        description='Taxi fleet simulator.')\n",
    "    parser.add_argument('-e', '--end-time', type=int,\n",
    "                        default=DEFAULT_END_TIME,\n",
    "                        help='simulation end time; default = %s'\n",
    "                        % DEFAULT_END_TIME)\n",
    "    parser.add_argument('-t', '--taxis', type=int,\n",
    "                        default=DEFAULT_NUMBER_OF_TAXIS,\n",
    "                        help='number of taxis running; default = %s'\n",
    "                        % DEFAULT_NUMBER_OF_TAXIS)\n",
    "    parser.add_argument('-s', '--seed', type=int, default=None,\n",
    "                        help='random generator seed (for testing)')\n",
    "    parser.add_argument('-d', '--delay', action='store_true',\n",
    "                        help='introduce delay proportional to simulation time')\n",
    "\n",
    "    args = parser.parse_args()\n",
    "    main(args.end_time, args.taxis, args.seed, args.delay)"
   ]
  },
  {
   "cell_type": "markdown",
   "id": "35824017-fd70-4412-a22b-1bbd6df4112c",
   "metadata": {},
   "source": [
    "#### Driving a taxi from the console::"
   ]
  },
  {
   "cell_type": "code",
   "execution_count": 9,
   "id": "71687e2b-3e6e-4ac9-b41a-61d380ce6c48",
   "metadata": {},
   "outputs": [
    {
     "data": {
      "text/plain": [
       "Event(time=0, proc=13, action='leave garage')"
      ]
     },
     "execution_count": 9,
     "metadata": {},
     "output_type": "execute_result"
    }
   ],
   "source": [
    ">>> taxi = taxi_process(ident=13, trips=2, start_time=0)\n",
    ">>> next(taxi)"
   ]
  },
  {
   "cell_type": "code",
   "execution_count": 10,
   "id": "b1501776-f6c6-4429-8905-967d91af0d7e",
   "metadata": {},
   "outputs": [
    {
     "data": {
      "text/plain": [
       "Event(time=7, proc=13, action='pick up passenger')"
      ]
     },
     "execution_count": 10,
     "metadata": {},
     "output_type": "execute_result"
    }
   ],
   "source": [
    ">>> taxi.send(_.time + 7)"
   ]
  },
  {
   "cell_type": "code",
   "execution_count": 11,
   "id": "ea39ac32-35f1-4357-a993-ba94108724de",
   "metadata": {},
   "outputs": [
    {
     "data": {
      "text/plain": [
       "Event(time=30, proc=13, action='drop off passenger')"
      ]
     },
     "execution_count": 11,
     "metadata": {},
     "output_type": "execute_result"
    }
   ],
   "source": [
    ">>> taxi.send(_.time + 23)"
   ]
  },
  {
   "cell_type": "code",
   "execution_count": 12,
   "id": "7237d451-f32c-44f0-a696-f0913a6c5e92",
   "metadata": {},
   "outputs": [
    {
     "data": {
      "text/plain": [
       "Event(time=35, proc=13, action='pick up passenger')"
      ]
     },
     "execution_count": 12,
     "metadata": {},
     "output_type": "execute_result"
    }
   ],
   "source": [
    ">>> taxi.send(_.time + 5)"
   ]
  },
  {
   "cell_type": "code",
   "execution_count": 13,
   "id": "5c1d2cb8-73d4-450f-aa4c-3b0cbbd829b3",
   "metadata": {},
   "outputs": [
    {
     "data": {
      "text/plain": [
       "Event(time=83, proc=13, action='drop off passenger')"
      ]
     },
     "execution_count": 13,
     "metadata": {},
     "output_type": "execute_result"
    }
   ],
   "source": [
    ">>> taxi.send(_.time + 48)"
   ]
  },
  {
   "cell_type": "code",
   "execution_count": 14,
   "id": "de156cd2-dbb0-4f3e-828c-2771c344c525",
   "metadata": {},
   "outputs": [
    {
     "data": {
      "text/plain": [
       "Event(time=84, proc=13, action='going home')"
      ]
     },
     "execution_count": 14,
     "metadata": {},
     "output_type": "execute_result"
    }
   ],
   "source": [
    ">>> taxi.send(_.time + 1)"
   ]
  },
  {
   "cell_type": "code",
   "execution_count": 15,
   "id": "d15cd115-843d-49b6-a676-2968917ac09c",
   "metadata": {},
   "outputs": [
    {
     "ename": "StopIteration",
     "evalue": "",
     "output_type": "error",
     "traceback": [
      "\u001b[1;31m---------------------------------------------------------------------------\u001b[0m",
      "\u001b[1;31mStopIteration\u001b[0m                             Traceback (most recent call last)",
      "Input \u001b[1;32mIn [15]\u001b[0m, in \u001b[0;36m<module>\u001b[1;34m\u001b[0m\n\u001b[1;32m----> 1\u001b[0m \u001b[43mtaxi\u001b[49m\u001b[38;5;241;43m.\u001b[39;49m\u001b[43msend\u001b[49m\u001b[43m(\u001b[49m\u001b[43m_\u001b[49m\u001b[38;5;241;43m.\u001b[39;49m\u001b[43mtime\u001b[49m\u001b[43m \u001b[49m\u001b[38;5;241;43m+\u001b[39;49m\u001b[43m \u001b[49m\u001b[38;5;241;43m10\u001b[39;49m\u001b[43m)\u001b[49m\n",
      "\u001b[1;31mStopIteration\u001b[0m: "
     ]
    }
   ],
   "source": [
    ">>> taxi.send(_.time + 10)"
   ]
  },
  {
   "cell_type": "markdown",
   "id": "841d7aab-3c12-48b4-82d9-f9cafb55b838",
   "metadata": {},
   "source": [
    "#### Sample run with two cars, random seed 10. This is a valid doctest::"
   ]
  },
  {
   "cell_type": "code",
   "execution_count": 16,
   "id": "855e696e-1391-4add-bf7f-dacfe07ab724",
   "metadata": {},
   "outputs": [
    {
     "name": "stdout",
     "output_type": "stream",
     "text": [
      "taxi: 0  Event(time=0, proc=0, action='leave garage')\n",
      "taxi: 0  Event(time=5, proc=0, action='pick up passenger')\n",
      "taxi: 1     Event(time=5, proc=1, action='leave garage')\n",
      "taxi: 1     Event(time=10, proc=1, action='pick up passenger')\n",
      "taxi: 1     Event(time=15, proc=1, action='drop off passenger')\n",
      "taxi: 0  Event(time=17, proc=0, action='drop off passenger')\n",
      "taxi: 1     Event(time=24, proc=1, action='pick up passenger')\n",
      "taxi: 0  Event(time=26, proc=0, action='pick up passenger')\n",
      "taxi: 0  Event(time=30, proc=0, action='drop off passenger')\n",
      "taxi: 0  Event(time=34, proc=0, action='going home')\n",
      "taxi: 1     Event(time=46, proc=1, action='drop off passenger')\n",
      "taxi: 1     Event(time=48, proc=1, action='pick up passenger')\n",
      "taxi: 1     Event(time=110, proc=1, action='drop off passenger')\n",
      "taxi: 1     Event(time=139, proc=1, action='pick up passenger')\n",
      "taxi: 1     Event(time=140, proc=1, action='drop off passenger')\n",
      "taxi: 1     Event(time=150, proc=1, action='going home')\n",
      "*** end of events ***\n"
     ]
    }
   ],
   "source": [
    ">>> main(num_taxis=2, seed=10)"
   ]
  }
 ],
 "metadata": {
  "kernelspec": {
   "display_name": "Python 3 (ipykernel)",
   "language": "python",
   "name": "python3"
  },
  "language_info": {
   "codemirror_mode": {
    "name": "ipython",
    "version": 3
   },
   "file_extension": ".py",
   "mimetype": "text/x-python",
   "name": "python",
   "nbconvert_exporter": "python",
   "pygments_lexer": "ipython3",
   "version": "3.10.2"
  }
 },
 "nbformat": 4,
 "nbformat_minor": 5
}
