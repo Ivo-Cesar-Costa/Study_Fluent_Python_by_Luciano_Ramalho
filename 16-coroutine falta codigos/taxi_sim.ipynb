{
 "cells": [
  {
   "cell_type": "code",
   "execution_count": 1,
   "id": "4fa109e9-31b5-4998-8486-dc07ed0b3b34",
   "metadata": {},
   "outputs": [],
   "source": [
    "import random\n",
    "import collections\n",
    "import queue\n",
    "import argparse"
   ]
  },
  {
   "cell_type": "code",
   "execution_count": 2,
   "id": "c6dabd5c-bb34-4803-a13a-23c8257de023",
   "metadata": {},
   "outputs": [],
   "source": [
    "DEFAULT_NUMBER_OF_TAXIS = 3\n",
    "DEFAULT_END_TIME = 180\n",
    "SEARCH_DURATION = 5\n",
    "TRIP_DURATION = 20\n",
    "DEPARTURE_INTERVAL = 5"
   ]
  },
  {
   "cell_type": "code",
   "execution_count": 3,
   "id": "de87efee-2306-48f5-ac68-4bf2aa9b4c83",
   "metadata": {},
   "outputs": [],
   "source": [
    "Event = collections.namedtuple('Event', 'time proc action')"
   ]
  },
  {
   "cell_type": "markdown",
   "id": "df2cadf0-be3a-4278-9538-2127383263e2",
   "metadata": {},
   "source": [
    "#### # BEGIN TAXI_PROCESS"
   ]
  },
  {
   "cell_type": "code",
   "execution_count": 4,
   "id": "d5ea923e-5d0f-45e9-b6ed-9eb19cb507b1",
   "metadata": {},
   "outputs": [],
   "source": [
    "def taxi_process(ident, trips, start_time=0):  # <1>\n",
    "    \"\"\"Yield to simulator issuing event at each state change\"\"\"\n",
    "    time = yield Event(start_time, ident, 'leave garage')  # <2>\n",
    "    for i in range(trips):  # <3>\n",
    "        time = yield Event(time, ident, 'pick up passenger')  # <4>\n",
    "        time = yield Event(time, ident, 'drop off passenger')  # <5>\n",
    "\n",
    "    yield Event(time, ident, 'going home')  # <6>\n",
    "    # end of taxi process # <7>"
   ]
  },
  {
   "cell_type": "markdown",
   "id": "c782e9de-ddb7-459f-ab4a-7f4829b71f63",
   "metadata": {},
   "source": [
    "#### # BEGIN TAXI_SIMULATOR"
   ]
  },
  {
   "cell_type": "code",
   "execution_count": 5,
   "id": "29a275be-3de4-4d01-bd88-d3f163127531",
   "metadata": {},
   "outputs": [],
   "source": [
    "class Simulator:\n",
    "\n",
    "    def __init__(self, procs_map):\n",
    "        self.events = queue.PriorityQueue()\n",
    "        self.procs = dict(procs_map)\n",
    "\n",
    "    def run(self, end_time):  # <1>\n",
    "        \"\"\"Schedule and display events until time is up\"\"\"\n",
    "        # schedule the first event for each cab\n",
    "        for _, proc in sorted(self.procs.items()):  # <2>\n",
    "            first_event = next(proc)  # <3>\n",
    "            self.events.put(first_event)  # <4>\n",
    "\n",
    "        # main loop of the simulation\n",
    "        sim_time = 0  # <5>\n",
    "        while sim_time < end_time:  # <6>\n",
    "            if self.events.empty():  # <7>\n",
    "                print('*** end of events ***')\n",
    "                break\n",
    "\n",
    "            current_event = self.events.get()  # <8>\n",
    "            sim_time, proc_id, previous_action = current_event  # <9>\n",
    "            print('taxi:', proc_id, proc_id * '   ', current_event)  # <10>\n",
    "            active_proc = self.procs[proc_id]  # <11>\n",
    "            next_time = sim_time + compute_duration(previous_action)  # <12>\n",
    "            try:\n",
    "                next_event = active_proc.send(next_time)  # <13>\n",
    "            except StopIteration:\n",
    "                del self.procs[proc_id]  # <14>\n",
    "            else:\n",
    "                self.events.put(next_event)  # <15>\n",
    "        else:  # <16>\n",
    "            msg = '*** end of simulation time: {} events pending ***'\n",
    "            print(msg.format(self.events.qsize()))\n",
    "# END TAXI_SIMULATOR"
   ]
  },
  {
   "cell_type": "code",
   "execution_count": 6,
   "id": "579740a8-5340-4403-b6f4-3ce06996c847",
   "metadata": {},
   "outputs": [],
   "source": [
    "def compute_duration(previous_action):\n",
    "    \"\"\"Compute action duration using exponential distribution\"\"\"\n",
    "    if previous_action in ['leave garage', 'drop off passenger']:\n",
    "        # new state is prowling\n",
    "        interval = SEARCH_DURATION\n",
    "    elif previous_action == 'pick up passenger':\n",
    "        # new state is trip\n",
    "        interval = TRIP_DURATION\n",
    "    elif previous_action == 'going home':\n",
    "        interval = 1\n",
    "    else:\n",
    "        raise ValueError('Unknown previous_action: %s' % previous_action)\n",
    "    return int(random.expovariate(1/interval)) + 1"
   ]
  },
  {
   "cell_type": "code",
   "execution_count": 7,
   "id": "e6e4000f-c833-41eb-8d67-f9ca5e22a9c0",
   "metadata": {},
   "outputs": [],
   "source": [
    "def main(end_time=DEFAULT_END_TIME, num_taxis=DEFAULT_NUMBER_OF_TAXIS,\n",
    "         seed=None):\n",
    "    \"\"\"Initialize random generator, build procs and run simulation\"\"\"\n",
    "    if seed is not None:\n",
    "        random.seed(seed)  # get reproducible results\n",
    "\n",
    "    taxis = {i: taxi_process(i, (i+1)*2, i*DEPARTURE_INTERVAL)\n",
    "             for i in range(num_taxis)}\n",
    "    sim = Simulator(taxis)\n",
    "    sim.run(end_time)"
   ]
  },
  {
   "cell_type": "code",
   "execution_count": 8,
   "id": "2b136d28-155f-4ae7-add1-9ff6919b76e3",
   "metadata": {},
   "outputs": [
    {
     "name": "stderr",
     "output_type": "stream",
     "text": [
      "usage: ipykernel_launcher.py [-h] [-e END_TIME] [-t TAXIS] [-s SEED]\n",
      "ipykernel_launcher.py: error: unrecognized arguments: -f C:\\Users\\Ivo\\AppData\\Roaming\\jupyter\\runtime\\kernel-c6c6125f-ba25-4951-971d-c68e52f6a6b7.json\n"
     ]
    },
    {
     "ename": "SystemExit",
     "evalue": "2",
     "output_type": "error",
     "traceback": [
      "An exception has occurred, use %tb to see the full traceback.\n",
      "\u001b[1;31mSystemExit\u001b[0m\u001b[1;31m:\u001b[0m 2\n"
     ]
    },
    {
     "name": "stderr",
     "output_type": "stream",
     "text": [
      "C:\\Users\\Ivo\\AppData\\Local\\Programs\\Python\\Python310\\lib\\site-packages\\IPython\\core\\interactiveshell.py:3259: UserWarning: To exit: use 'exit', 'quit', or Ctrl-D.\n",
      "  warn(\"To exit: use 'exit', 'quit', or Ctrl-D.\", stacklevel=1)\n"
     ]
    }
   ],
   "source": [
    "if __name__ == '__main__':\n",
    "\n",
    "    parser = argparse.ArgumentParser(\n",
    "                        description='Taxi fleet simulator.')\n",
    "    parser.add_argument('-e', '--end-time', type=int,\n",
    "                        default=DEFAULT_END_TIME,\n",
    "                        help='simulation end time; default = %s'\n",
    "                        % DEFAULT_END_TIME)\n",
    "    parser.add_argument('-t', '--taxis', type=int,\n",
    "                        default=DEFAULT_NUMBER_OF_TAXIS,\n",
    "                        help='number of taxis running; default = %s'\n",
    "                        % DEFAULT_NUMBER_OF_TAXIS)\n",
    "    parser.add_argument('-s', '--seed', type=int, default=None,\n",
    "                        help='random generator seed (for testing)')\n",
    "\n",
    "    args = parser.parse_args()\n",
    "    main(args.end_time, args.taxis, args.seed)"
   ]
  },
  {
   "cell_type": "markdown",
   "id": "064fcd72-d8b2-4e9a-875a-03823287dfec",
   "metadata": {},
   "source": [
    "#### Taxi simulator\n",
    "#### Driving a taxi from the console::"
   ]
  },
  {
   "cell_type": "code",
   "execution_count": 9,
   "id": "67b37c05-d957-4b3b-9e5b-951a026af7f1",
   "metadata": {},
   "outputs": [
    {
     "data": {
      "text/plain": [
       "Event(time=0, proc=13, action='leave garage')"
      ]
     },
     "execution_count": 9,
     "metadata": {},
     "output_type": "execute_result"
    }
   ],
   "source": [
    ">>> taxi = taxi_process(ident=13, trips=2, start_time=0)\n",
    ">>> next(taxi)"
   ]
  },
  {
   "cell_type": "code",
   "execution_count": 10,
   "id": "d09eb705-1fa9-42f4-9d5c-d51b67f1dbaf",
   "metadata": {},
   "outputs": [
    {
     "data": {
      "text/plain": [
       "Event(time=7, proc=13, action='pick up passenger')"
      ]
     },
     "execution_count": 10,
     "metadata": {},
     "output_type": "execute_result"
    }
   ],
   "source": [
    ">>> taxi.send(_.time + 7)"
   ]
  },
  {
   "cell_type": "code",
   "execution_count": 11,
   "id": "4469f30b-f33e-4212-bf0e-9a023c9eca23",
   "metadata": {},
   "outputs": [
    {
     "data": {
      "text/plain": [
       "Event(time=30, proc=13, action='drop off passenger')"
      ]
     },
     "execution_count": 11,
     "metadata": {},
     "output_type": "execute_result"
    }
   ],
   "source": [
    ">>> taxi.send(_.time + 23)"
   ]
  },
  {
   "cell_type": "code",
   "execution_count": 12,
   "id": "354e1486-1179-4fca-b0d7-e9db1f46c1a2",
   "metadata": {},
   "outputs": [
    {
     "data": {
      "text/plain": [
       "Event(time=35, proc=13, action='pick up passenger')"
      ]
     },
     "execution_count": 12,
     "metadata": {},
     "output_type": "execute_result"
    }
   ],
   "source": [
    ">>> taxi.send(_.time + 5)"
   ]
  },
  {
   "cell_type": "code",
   "execution_count": 13,
   "id": "8121cd03-480a-45c9-8498-5f459335bc24",
   "metadata": {},
   "outputs": [
    {
     "data": {
      "text/plain": [
       "Event(time=83, proc=13, action='drop off passenger')"
      ]
     },
     "execution_count": 13,
     "metadata": {},
     "output_type": "execute_result"
    }
   ],
   "source": [
    ">>> taxi.send(_.time + 48)"
   ]
  },
  {
   "cell_type": "code",
   "execution_count": 14,
   "id": "77a967eb-51db-49c8-a3d9-202b0b307236",
   "metadata": {},
   "outputs": [
    {
     "data": {
      "text/plain": [
       "Event(time=84, proc=13, action='going home')"
      ]
     },
     "execution_count": 14,
     "metadata": {},
     "output_type": "execute_result"
    }
   ],
   "source": [
    ">>> taxi.send(_.time + 1)"
   ]
  },
  {
   "cell_type": "code",
   "execution_count": 15,
   "id": "dac6e32e-ef61-4f3e-9b9d-9a2ee1e84772",
   "metadata": {},
   "outputs": [
    {
     "ename": "StopIteration",
     "evalue": "",
     "output_type": "error",
     "traceback": [
      "\u001b[1;31m---------------------------------------------------------------------------\u001b[0m",
      "\u001b[1;31mStopIteration\u001b[0m                             Traceback (most recent call last)",
      "Input \u001b[1;32mIn [15]\u001b[0m, in \u001b[0;36m<module>\u001b[1;34m\u001b[0m\n\u001b[1;32m----> 1\u001b[0m \u001b[43mtaxi\u001b[49m\u001b[38;5;241;43m.\u001b[39;49m\u001b[43msend\u001b[49m\u001b[43m(\u001b[49m\u001b[43m_\u001b[49m\u001b[38;5;241;43m.\u001b[39;49m\u001b[43mtime\u001b[49m\u001b[43m \u001b[49m\u001b[38;5;241;43m+\u001b[39;49m\u001b[43m \u001b[49m\u001b[38;5;241;43m10\u001b[39;49m\u001b[43m)\u001b[49m\n",
      "\u001b[1;31mStopIteration\u001b[0m: "
     ]
    }
   ],
   "source": [
    ">>> taxi.send(_.time + 10)"
   ]
  },
  {
   "cell_type": "markdown",
   "id": "3a315195-4b7e-498d-94e4-0cfed5bdc3cd",
   "metadata": {},
   "source": [
    "#### Sample run with two cars, random seed 10. This is a valid doctest::"
   ]
  },
  {
   "cell_type": "code",
   "execution_count": 16,
   "id": "34c6020d-8404-48bf-bdef-007b14ad6a5e",
   "metadata": {},
   "outputs": [
    {
     "name": "stdout",
     "output_type": "stream",
     "text": [
      "taxi: 0  Event(time=0, proc=0, action='leave garage')\n",
      "taxi: 0  Event(time=5, proc=0, action='pick up passenger')\n",
      "taxi: 1     Event(time=5, proc=1, action='leave garage')\n",
      "taxi: 1     Event(time=10, proc=1, action='pick up passenger')\n",
      "taxi: 1     Event(time=15, proc=1, action='drop off passenger')\n",
      "taxi: 0  Event(time=17, proc=0, action='drop off passenger')\n",
      "taxi: 1     Event(time=24, proc=1, action='pick up passenger')\n",
      "taxi: 0  Event(time=26, proc=0, action='pick up passenger')\n",
      "taxi: 0  Event(time=30, proc=0, action='drop off passenger')\n",
      "taxi: 0  Event(time=34, proc=0, action='going home')\n",
      "taxi: 1     Event(time=46, proc=1, action='drop off passenger')\n",
      "taxi: 1     Event(time=48, proc=1, action='pick up passenger')\n",
      "taxi: 1     Event(time=110, proc=1, action='drop off passenger')\n",
      "taxi: 1     Event(time=139, proc=1, action='pick up passenger')\n",
      "taxi: 1     Event(time=140, proc=1, action='drop off passenger')\n",
      "taxi: 1     Event(time=150, proc=1, action='going home')\n",
      "*** end of events ***\n"
     ]
    }
   ],
   "source": [
    ">>> main(num_taxis=2, seed=10)"
   ]
  },
  {
   "cell_type": "markdown",
   "id": "67c4050f-176a-47f4-9781-8c6146914d52",
   "metadata": {},
   "source": [
    "#### See longer sample run at the end of this module."
   ]
  }
 ],
 "metadata": {
  "kernelspec": {
   "display_name": "Python 3 (ipykernel)",
   "language": "python",
   "name": "python3"
  },
  "language_info": {
   "codemirror_mode": {
    "name": "ipython",
    "version": 3
   },
   "file_extension": ".py",
   "mimetype": "text/x-python",
   "name": "python",
   "nbconvert_exporter": "python",
   "pygments_lexer": "ipython3",
   "version": "3.10.2"
  }
 },
 "nbformat": 4,
 "nbformat_minor": 5
}
