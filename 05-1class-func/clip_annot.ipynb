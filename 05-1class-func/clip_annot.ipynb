{
 "cells": [
  {
   "cell_type": "code",
   "execution_count": 1,
   "id": "abe33da5-d82a-4852-8282-e1507d60abcd",
   "metadata": {},
   "outputs": [],
   "source": [
    "# BEGIN CLIP_ANNOT\n",
    "\n",
    "def clip(text:str, max_len:'int > 0'=80) -> str:  # <1>\n",
    "    \"\"\"Return text clipped at the last space before or after max_len\n",
    "    \"\"\"\n",
    "    end = None\n",
    "    if len(text) > max_len:\n",
    "        space_before = text.rfind(' ', 0, max_len)\n",
    "        if space_before >= 0:\n",
    "            end = space_before\n",
    "        else:\n",
    "            space_after = text.rfind(' ', max_len)\n",
    "            if space_after >= 0:\n",
    "                end = space_after\n",
    "    if end is None:  # no spaces were found\n",
    "        end = len(text)\n",
    "    return text[:end].rstrip()\n",
    "\n",
    "# END CLIP_ANNOT"
   ]
  },
  {
   "cell_type": "code",
   "execution_count": 2,
   "id": "4fdd6473-277f-40e7-8aeb-7b184f5cf51e",
   "metadata": {},
   "outputs": [
    {
     "data": {
      "text/plain": [
       "'banana'"
      ]
     },
     "execution_count": 2,
     "metadata": {},
     "output_type": "execute_result"
    }
   ],
   "source": [
    ">>> clip('banana ', 6)"
   ]
  },
  {
   "cell_type": "code",
   "execution_count": 3,
   "id": "1bf35d21-5931-45d1-987f-b5b528cb6c81",
   "metadata": {},
   "outputs": [
    {
     "data": {
      "text/plain": [
       "'banana'"
      ]
     },
     "execution_count": 3,
     "metadata": {},
     "output_type": "execute_result"
    }
   ],
   "source": [
    ">>> clip('banana ', 7)"
   ]
  },
  {
   "cell_type": "code",
   "execution_count": 4,
   "id": "8350667a-82c4-4868-b8e9-ba11708ed94f",
   "metadata": {},
   "outputs": [
    {
     "data": {
      "text/plain": [
       "'banana'"
      ]
     },
     "execution_count": 4,
     "metadata": {},
     "output_type": "execute_result"
    }
   ],
   "source": [
    ">>> clip('banana ', 5)"
   ]
  },
  {
   "cell_type": "code",
   "execution_count": 5,
   "id": "bc2b4ce7-1028-497d-81af-dc4af6314064",
   "metadata": {},
   "outputs": [
    {
     "data": {
      "text/plain": [
       "'banana'"
      ]
     },
     "execution_count": 5,
     "metadata": {},
     "output_type": "execute_result"
    }
   ],
   "source": [
    ">>> clip('banana split', 6)"
   ]
  },
  {
   "cell_type": "code",
   "execution_count": 6,
   "id": "ad167e25-1905-4a1c-a778-43ae5c42a0ba",
   "metadata": {},
   "outputs": [
    {
     "data": {
      "text/plain": [
       "'banana'"
      ]
     },
     "execution_count": 6,
     "metadata": {},
     "output_type": "execute_result"
    }
   ],
   "source": [
    ">>> clip('banana split', 7)"
   ]
  },
  {
   "cell_type": "code",
   "execution_count": 7,
   "id": "32359194-4136-4d82-92ee-b29fecd7e956",
   "metadata": {},
   "outputs": [
    {
     "data": {
      "text/plain": [
       "'banana'"
      ]
     },
     "execution_count": 7,
     "metadata": {},
     "output_type": "execute_result"
    }
   ],
   "source": [
    ">>> clip('banana split', 10)"
   ]
  },
  {
   "cell_type": "code",
   "execution_count": 8,
   "id": "fb2099b9-a581-4e91-9f71-f42fe1988833",
   "metadata": {},
   "outputs": [
    {
     "data": {
      "text/plain": [
       "'banana'"
      ]
     },
     "execution_count": 8,
     "metadata": {},
     "output_type": "execute_result"
    }
   ],
   "source": [
    ">>> clip('banana split', 11)"
   ]
  },
  {
   "cell_type": "code",
   "execution_count": 9,
   "id": "ec608aa6-9b53-41e6-8f41-ec60456acac7",
   "metadata": {},
   "outputs": [
    {
     "data": {
      "text/plain": [
       "'banana split'"
      ]
     },
     "execution_count": 9,
     "metadata": {},
     "output_type": "execute_result"
    }
   ],
   "source": [
    ">>> clip('banana split', 12)"
   ]
  }
 ],
 "metadata": {
  "kernelspec": {
   "display_name": "Python 3 (ipykernel)",
   "language": "python",
   "name": "python3"
  },
  "language_info": {
   "codemirror_mode": {
    "name": "ipython",
    "version": 3
   },
   "file_extension": ".py",
   "mimetype": "text/x-python",
   "name": "python",
   "nbconvert_exporter": "python",
   "pygments_lexer": "ipython3",
   "version": "3.10.2"
  }
 },
 "nbformat": 4,
 "nbformat_minor": 5
}
