{
 "cells": [
  {
   "cell_type": "code",
   "execution_count": 1,
   "id": "eed4aa1f-cc90-4462-aa3c-596755a31e0e",
   "metadata": {},
   "outputs": [
    {
     "name": "stdout",
     "output_type": "stream",
     "text": [
      "importing Jupyter notebook from clip.ipynb\n"
     ]
    }
   ],
   "source": [
    "import import_ipynb\n",
    "from clip import clip"
   ]
  },
  {
   "cell_type": "code",
   "execution_count": 2,
   "id": "26142ea0-1624-449c-a0aa-7195cfff1740",
   "metadata": {},
   "outputs": [],
   "source": [
    "from inspect import signature"
   ]
  },
  {
   "cell_type": "code",
   "execution_count": 3,
   "id": "4925936b-0935-4e99-8c16-e9aa2817ddad",
   "metadata": {},
   "outputs": [
    {
     "data": {
      "text/plain": [
       "<Signature (text, max_len=80)>"
      ]
     },
     "execution_count": 3,
     "metadata": {},
     "output_type": "execute_result"
    }
   ],
   "source": [
    "sig = signature(clip)\n",
    "sig"
   ]
  },
  {
   "cell_type": "code",
   "execution_count": 4,
   "id": "790bb71b-f96c-46e0-9d8e-c256fb9a2066",
   "metadata": {},
   "outputs": [
    {
     "data": {
      "text/plain": [
       "<Signature (text, max_len=80)>"
      ]
     },
     "execution_count": 4,
     "metadata": {},
     "output_type": "execute_result"
    }
   ],
   "source": [
    "sig  # doctest: +ELLIPSIS"
   ]
  },
  {
   "cell_type": "code",
   "execution_count": 5,
   "id": "e48b5f51-3478-4686-9e53-0db7874e25e4",
   "metadata": {},
   "outputs": [
    {
     "data": {
      "text/plain": [
       "'(text, max_len=80)'"
      ]
     },
     "execution_count": 5,
     "metadata": {},
     "output_type": "execute_result"
    }
   ],
   "source": [
    "str(sig)"
   ]
  },
  {
   "cell_type": "code",
   "execution_count": 6,
   "id": "58414e7a-8ec6-458d-9d44-301a119b8cfa",
   "metadata": {},
   "outputs": [
    {
     "name": "stdout",
     "output_type": "stream",
     "text": [
      "POSITIONAL_OR_KEYWORD : text = <class 'inspect._empty'>\n",
      "POSITIONAL_OR_KEYWORD : max_len = 80\n"
     ]
    }
   ],
   "source": [
    ">>> for name, param in sig.parameters.items():\n",
    "...     print(param.kind, ':', name, '=', param.default)"
   ]
  }
 ],
 "metadata": {
  "kernelspec": {
   "display_name": "Python 3 (ipykernel)",
   "language": "python",
   "name": "python3"
  },
  "language_info": {
   "codemirror_mode": {
    "name": "ipython",
    "version": 3
   },
   "file_extension": ".py",
   "mimetype": "text/x-python",
   "name": "python",
   "nbconvert_exporter": "python",
   "pygments_lexer": "ipython3",
   "version": "3.10.2"
  }
 },
 "nbformat": 4,
 "nbformat_minor": 5
}
