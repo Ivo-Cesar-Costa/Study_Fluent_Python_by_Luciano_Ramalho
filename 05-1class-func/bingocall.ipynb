{
 "cells": [
  {
   "cell_type": "code",
   "execution_count": 1,
   "id": "2bfb5204-edf6-488c-9f76-47023ab7d765",
   "metadata": {},
   "outputs": [],
   "source": [
    "import random"
   ]
  },
  {
   "cell_type": "code",
   "execution_count": 2,
   "id": "332f1d4b-60dc-4eb8-a152-994db58ffbcb",
   "metadata": {},
   "outputs": [],
   "source": [
    "class BingoCage:\n",
    "\n",
    "    def __init__(self, items):\n",
    "        self._items = list(items)  # <1>\n",
    "        random.shuffle(self._items)  # <2>\n",
    "\n",
    "    def pick(self):  # <3>\n",
    "        try:\n",
    "            return self._items.pop()\n",
    "        except IndexError:\n",
    "            raise LookupError('pick from empty BingoCage')  # <4>\n",
    "\n",
    "    def __call__(self):  # <5>\n",
    "        return self.pick()\n",
    "\n",
    "# END BINGO"
   ]
  },
  {
   "cell_type": "markdown",
   "id": "e6793d9f-426a-497f-9e74-4f5a49c9e5ef",
   "metadata": {},
   "source": [
    "#### # BEGIN BINGO_DEMO"
   ]
  },
  {
   "cell_type": "code",
   "execution_count": 3,
   "id": "eeb70268-2631-4879-a17a-b5f90f576f9d",
   "metadata": {},
   "outputs": [
    {
     "data": {
      "text/plain": [
       "2"
      ]
     },
     "execution_count": 3,
     "metadata": {},
     "output_type": "execute_result"
    }
   ],
   "source": [
    ">>> bingo = BingoCage(range(3))\n",
    ">>> bingo.pick()"
   ]
  },
  {
   "cell_type": "code",
   "execution_count": 4,
   "id": "23fedb13-8f53-407a-9d8a-40c6d56fb82a",
   "metadata": {},
   "outputs": [
    {
     "data": {
      "text/plain": [
       "0"
      ]
     },
     "execution_count": 4,
     "metadata": {},
     "output_type": "execute_result"
    }
   ],
   "source": [
    ">>> bingo()"
   ]
  },
  {
   "cell_type": "code",
   "execution_count": 5,
   "id": "a40bf68f-7742-4aa7-af3a-ac9b5698c60c",
   "metadata": {},
   "outputs": [
    {
     "data": {
      "text/plain": [
       "True"
      ]
     },
     "execution_count": 5,
     "metadata": {},
     "output_type": "execute_result"
    }
   ],
   "source": [
    ">>> callable(bingo)"
   ]
  },
  {
   "cell_type": "markdown",
   "id": "37256338-2837-4db4-b3cd-8b4adb812925",
   "metadata": {},
   "source": [
    "#### # END BINGO_DEMO"
   ]
  }
 ],
 "metadata": {
  "kernelspec": {
   "display_name": "Python 3 (ipykernel)",
   "language": "python",
   "name": "python3"
  },
  "language_info": {
   "codemirror_mode": {
    "name": "ipython",
    "version": 3
   },
   "file_extension": ".py",
   "mimetype": "text/x-python",
   "name": "python",
   "nbconvert_exporter": "python",
   "pygments_lexer": "ipython3",
   "version": "3.10.2"
  }
 },
 "nbformat": 4,
 "nbformat_minor": 5
}
