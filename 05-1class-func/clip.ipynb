{
 "cells": [
  {
   "cell_type": "markdown",
   "id": "df20090c-2a92-427c-8d71-3dd3d2227592",
   "metadata": {},
   "source": [
    "#### # BEGIN CLIP"
   ]
  },
  {
   "cell_type": "code",
   "execution_count": 1,
   "id": "cf48ecf4-a29f-436a-b3f0-fc33b5beb862",
   "metadata": {},
   "outputs": [],
   "source": [
    "def clip(text, max_len=80):\n",
    "    \"\"\"Return text clipped at the last space before or after max_len\n",
    "    \"\"\"\n",
    "    end = None\n",
    "    if len(text) > max_len:\n",
    "        space_before = text.rfind(' ', 0, max_len)\n",
    "        if space_before >= 0:\n",
    "            end = space_before\n",
    "        else:\n",
    "            space_after = text.rfind(' ', max_len)\n",
    "            if space_after >= 0:\n",
    "                end = space_after\n",
    "    if end is None:  # no spaces were found\n",
    "        end = len(text)\n",
    "    return text[:end].rstrip()\n",
    "\n",
    "# END CLIP"
   ]
  },
  {
   "cell_type": "code",
   "execution_count": 2,
   "id": "97814df3-c7a9-47bf-90e1-d8ad0deec6d8",
   "metadata": {},
   "outputs": [
    {
     "data": {
      "text/plain": [
       "'banana'"
      ]
     },
     "execution_count": 2,
     "metadata": {},
     "output_type": "execute_result"
    }
   ],
   "source": [
    ">>> clip('banana ', 6)"
   ]
  },
  {
   "cell_type": "code",
   "execution_count": 3,
   "id": "d04a746c-7e2b-4c9f-a56b-05ff6d66221c",
   "metadata": {},
   "outputs": [
    {
     "data": {
      "text/plain": [
       "'banana'"
      ]
     },
     "execution_count": 3,
     "metadata": {},
     "output_type": "execute_result"
    }
   ],
   "source": [
    ">>> clip('banana ', 7)"
   ]
  },
  {
   "cell_type": "code",
   "execution_count": 4,
   "id": "aa6a1e20-a23f-4994-a396-3650572fe77f",
   "metadata": {},
   "outputs": [
    {
     "data": {
      "text/plain": [
       "'banana'"
      ]
     },
     "execution_count": 4,
     "metadata": {},
     "output_type": "execute_result"
    }
   ],
   "source": [
    ">>> clip('banana ', 5)"
   ]
  },
  {
   "cell_type": "code",
   "execution_count": 5,
   "id": "b9bdbb73-af5c-4927-92e1-0974b7abb0ec",
   "metadata": {},
   "outputs": [
    {
     "data": {
      "text/plain": [
       "'banana'"
      ]
     },
     "execution_count": 5,
     "metadata": {},
     "output_type": "execute_result"
    }
   ],
   "source": [
    ">>> clip('banana split', 6)"
   ]
  },
  {
   "cell_type": "code",
   "execution_count": 6,
   "id": "953d9515-c1b6-4da4-b69c-c38f5e4e8dba",
   "metadata": {},
   "outputs": [
    {
     "data": {
      "text/plain": [
       "'banana'"
      ]
     },
     "execution_count": 6,
     "metadata": {},
     "output_type": "execute_result"
    }
   ],
   "source": [
    ">>> clip('banana split', 7)"
   ]
  },
  {
   "cell_type": "code",
   "execution_count": 7,
   "id": "aabff5cc-178c-4fba-bb4a-755e2de56b9a",
   "metadata": {},
   "outputs": [
    {
     "data": {
      "text/plain": [
       "'banana'"
      ]
     },
     "execution_count": 7,
     "metadata": {},
     "output_type": "execute_result"
    }
   ],
   "source": [
    ">>> clip('banana split', 10)"
   ]
  },
  {
   "cell_type": "code",
   "execution_count": 8,
   "id": "6c52d7a2-7ee0-494a-8520-00ad248b9b1b",
   "metadata": {},
   "outputs": [
    {
     "data": {
      "text/plain": [
       "'banana'"
      ]
     },
     "execution_count": 8,
     "metadata": {},
     "output_type": "execute_result"
    }
   ],
   "source": [
    ">>> clip('banana split', 11)"
   ]
  },
  {
   "cell_type": "code",
   "execution_count": 9,
   "id": "a9bb6fa9-194f-44df-8078-5e2b666afe98",
   "metadata": {},
   "outputs": [
    {
     "data": {
      "text/plain": [
       "'banana split'"
      ]
     },
     "execution_count": 9,
     "metadata": {},
     "output_type": "execute_result"
    }
   ],
   "source": [
    ">>> clip('banana split', 12)"
   ]
  }
 ],
 "metadata": {
  "kernelspec": {
   "display_name": "Python 3 (ipykernel)",
   "language": "python",
   "name": "python3"
  },
  "language_info": {
   "codemirror_mode": {
    "name": "ipython",
    "version": 3
   },
   "file_extension": ".py",
   "mimetype": "text/x-python",
   "name": "python",
   "nbconvert_exporter": "python",
   "pygments_lexer": "ipython3",
   "version": "3.10.2"
  }
 },
 "nbformat": 4,
 "nbformat_minor": 5
}
