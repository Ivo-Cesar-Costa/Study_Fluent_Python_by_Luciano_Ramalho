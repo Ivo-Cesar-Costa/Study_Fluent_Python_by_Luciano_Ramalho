{
 "cells": [
  {
   "cell_type": "code",
   "execution_count": 1,
   "id": "7cc15eb0-98aa-4ca9-8eae-754d5f50f2ca",
   "metadata": {},
   "outputs": [],
   "source": [
    "# BEGIN TAG_FUNC\n",
    "def tag(name, *content, cls=None, **attrs):\n",
    "    \"\"\"Generate one or more HTML tags\"\"\"\n",
    "    if cls is not None:\n",
    "        attrs['class'] = cls\n",
    "    if attrs:\n",
    "        attr_str = ''.join(' %s=\"%s\"' % (attr, value)\n",
    "                           for attr, value\n",
    "                           in sorted(attrs.items()))\n",
    "    else:\n",
    "        attr_str = ''\n",
    "    if content:\n",
    "        return '\\n'.join('<%s%s>%s</%s>' %\n",
    "                         (name, attr_str, c, name) for c in content)\n",
    "    else:\n",
    "        return '<%s%s />' % (name, attr_str)\n",
    "# END TAG_FUNC"
   ]
  },
  {
   "cell_type": "code",
   "execution_count": 2,
   "id": "e187785c-03b1-4b4e-afa9-4cb2ae0d6b21",
   "metadata": {},
   "outputs": [
    {
     "data": {
      "text/plain": [
       "'<br />'"
      ]
     },
     "execution_count": 2,
     "metadata": {},
     "output_type": "execute_result"
    }
   ],
   "source": [
    ">>> tag('br')  # <1>"
   ]
  },
  {
   "cell_type": "code",
   "execution_count": 3,
   "id": "88e0862d-73aa-4609-83dd-54fa18144b2d",
   "metadata": {},
   "outputs": [
    {
     "data": {
      "text/plain": [
       "'<p>hello</p>'"
      ]
     },
     "execution_count": 3,
     "metadata": {},
     "output_type": "execute_result"
    }
   ],
   "source": [
    ">>> tag('p', 'hello')  # <2>"
   ]
  },
  {
   "cell_type": "code",
   "execution_count": 4,
   "id": "80a773a1-2d20-42e9-ae1f-a7ff267accf9",
   "metadata": {},
   "outputs": [
    {
     "name": "stdout",
     "output_type": "stream",
     "text": [
      "<p>hello</p>\n",
      "<p>world</p>\n"
     ]
    }
   ],
   "source": [
    ">>> print(tag('p', 'hello', 'world'))"
   ]
  },
  {
   "cell_type": "code",
   "execution_count": 5,
   "id": "27fff777-603b-4c83-9c35-5021fcaca6af",
   "metadata": {},
   "outputs": [
    {
     "data": {
      "text/plain": [
       "'<p id=\"33\">hello</p>'"
      ]
     },
     "execution_count": 5,
     "metadata": {},
     "output_type": "execute_result"
    }
   ],
   "source": [
    ">>> tag('p', 'hello', id=33)  # <3>"
   ]
  },
  {
   "cell_type": "code",
   "execution_count": 6,
   "id": "f2491288-a698-4584-9b1f-c42cbcc380f4",
   "metadata": {},
   "outputs": [
    {
     "name": "stdout",
     "output_type": "stream",
     "text": [
      "<p class=\"sidebar\">hello</p>\n",
      "<p class=\"sidebar\">world</p>\n"
     ]
    }
   ],
   "source": [
    ">>> print(tag('p', 'hello', 'world', cls='sidebar'))  # <4>"
   ]
  },
  {
   "cell_type": "code",
   "execution_count": 7,
   "id": "8efd93f7-f868-40da-b4ab-7a21a9964f47",
   "metadata": {},
   "outputs": [
    {
     "data": {
      "text/plain": [
       "'<img content=\"testing\" />'"
      ]
     },
     "execution_count": 7,
     "metadata": {},
     "output_type": "execute_result"
    }
   ],
   "source": [
    ">>> tag(content='testing', name=\"img\")  # <5>"
   ]
  },
  {
   "cell_type": "code",
   "execution_count": 8,
   "id": "60569c2e-52cd-498e-9b9c-7ecd064418e9",
   "metadata": {},
   "outputs": [],
   "source": [
    ">>> my_tag = {'name': 'img', 'title': 'Sunset Boulevard',\n",
    "...           'src': 'sunset.jpg', 'cls': 'framed'}"
   ]
  },
  {
   "cell_type": "code",
   "execution_count": 9,
   "id": "4bcbe8af-684b-401f-ad3e-71ed148810b4",
   "metadata": {},
   "outputs": [
    {
     "data": {
      "text/plain": [
       "'<img class=\"framed\" src=\"sunset.jpg\" title=\"Sunset Boulevard\" />'"
      ]
     },
     "execution_count": 9,
     "metadata": {},
     "output_type": "execute_result"
    }
   ],
   "source": [
    ">>> tag(**my_tag)  # <6>"
   ]
  }
 ],
 "metadata": {
  "kernelspec": {
   "display_name": "Python 3 (ipykernel)",
   "language": "python",
   "name": "python3"
  },
  "language_info": {
   "codemirror_mode": {
    "name": "ipython",
    "version": 3
   },
   "file_extension": ".py",
   "mimetype": "text/x-python",
   "name": "python",
   "nbconvert_exporter": "python",
   "pygments_lexer": "ipython3",
   "version": "3.10.2"
  }
 },
 "nbformat": 4,
 "nbformat_minor": 5
}
