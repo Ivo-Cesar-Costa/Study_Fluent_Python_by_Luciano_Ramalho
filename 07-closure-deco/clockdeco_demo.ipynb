{
 "cells": [
  {
   "cell_type": "code",
   "execution_count": 1,
   "id": "3dda0aae-62cd-4add-840d-fe14ce982f6d",
   "metadata": {},
   "outputs": [
    {
     "name": "stdout",
     "output_type": "stream",
     "text": [
      "importing Jupyter notebook from clockdeco.ipynb\n"
     ]
    }
   ],
   "source": [
    "import time\n",
    "import import_ipynb\n",
    "from clockdeco import clock"
   ]
  },
  {
   "cell_type": "code",
   "execution_count": 2,
   "id": "1610d4ba-07d5-4401-8972-22df4cc9d461",
   "metadata": {},
   "outputs": [],
   "source": [
    "@clock\n",
    "def snooze(seconds):\n",
    "    time.sleep(seconds)"
   ]
  },
  {
   "cell_type": "code",
   "execution_count": 3,
   "id": "83eccddb-df7f-4b96-9b2b-af4608c6803b",
   "metadata": {},
   "outputs": [],
   "source": [
    "@clock\n",
    "def factorial(n):\n",
    "    return 1 if n < 2 else n*factorial(n-1)"
   ]
  },
  {
   "cell_type": "code",
   "execution_count": 4,
   "id": "6280abe0-dc00-469f-9f28-fbf3a61ff0dc",
   "metadata": {},
   "outputs": [
    {
     "name": "stdout",
     "output_type": "stream",
     "text": [
      "**************************************** Calling snooze(.123)\n",
      "[0.13565302s] snooze(0.123) -> None\n",
      "**************************************** Calling factorial(6)\n",
      "[0.00000000s] factorial(1) -> 1\n",
      "[0.00000000s] factorial(2) -> 2\n",
      "[0.00000000s] factorial(3) -> 6\n",
      "[0.00000000s] factorial(4) -> 24\n",
      "[0.00000000s] factorial(5) -> 120\n",
      "[0.00000000s] factorial(6) -> 720\n",
      "6! = 720\n"
     ]
    }
   ],
   "source": [
    "if __name__=='__main__':\n",
    "    print('*' * 40, 'Calling snooze(.123)')\n",
    "    snooze(.123)\n",
    "    print('*' * 40, 'Calling factorial(6)')\n",
    "    print('6! =', factorial(6))"
   ]
  }
 ],
 "metadata": {
  "kernelspec": {
   "display_name": "Python 3 (ipykernel)",
   "language": "python",
   "name": "python3"
  },
  "language_info": {
   "codemirror_mode": {
    "name": "ipython",
    "version": 3
   },
   "file_extension": ".py",
   "mimetype": "text/x-python",
   "name": "python",
   "nbconvert_exporter": "python",
   "pygments_lexer": "ipython3",
   "version": "3.10.2"
  }
 },
 "nbformat": 4,
 "nbformat_minor": 5
}
