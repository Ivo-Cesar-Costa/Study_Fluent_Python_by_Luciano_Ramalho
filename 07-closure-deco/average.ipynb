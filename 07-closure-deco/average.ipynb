{
 "cells": [
  {
   "cell_type": "code",
   "execution_count": 1,
   "id": "0ed6d3cf-7f4c-4168-b534-cd795c0392f0",
   "metadata": {},
   "outputs": [],
   "source": [
    "DEMO = \"\"\"\n",
    ">>> avg.__closure__\n",
    "(<cell at 0x107a44f78: list object at 0x107a91a48>,)\n",
    "\"\"\""
   ]
  },
  {
   "cell_type": "code",
   "execution_count": 2,
   "id": "c66a08aa-1c47-44fb-97cf-77b47fb55509",
   "metadata": {},
   "outputs": [],
   "source": [
    "def make_averager():\n",
    "    series = []\n",
    "\n",
    "    def averager(new_value):\n",
    "        series.append(new_value)\n",
    "        total = sum(series)\n",
    "        return total/len(series)\n",
    "\n",
    "    return averager"
   ]
  },
  {
   "cell_type": "code",
   "execution_count": 3,
   "id": "01243dd4-16d3-4197-ac27-09cba1f6e9be",
   "metadata": {},
   "outputs": [
    {
     "data": {
      "text/plain": [
       "10.0"
      ]
     },
     "execution_count": 3,
     "metadata": {},
     "output_type": "execute_result"
    }
   ],
   "source": [
    ">>> avg = make_averager()\n",
    ">>> avg(10)"
   ]
  },
  {
   "cell_type": "code",
   "execution_count": 4,
   "id": "a478fade-6aa3-490f-9741-b5aa013ca488",
   "metadata": {},
   "outputs": [
    {
     "data": {
      "text/plain": [
       "10.5"
      ]
     },
     "execution_count": 4,
     "metadata": {},
     "output_type": "execute_result"
    }
   ],
   "source": [
    ">>> avg(11)"
   ]
  },
  {
   "cell_type": "code",
   "execution_count": 5,
   "id": "08c82f8a-c3fd-427a-aee4-a1fd470b24f1",
   "metadata": {},
   "outputs": [
    {
     "data": {
      "text/plain": [
       "11.0"
      ]
     },
     "execution_count": 5,
     "metadata": {},
     "output_type": "execute_result"
    }
   ],
   "source": [
    ">>> avg(12)"
   ]
  },
  {
   "cell_type": "code",
   "execution_count": 6,
   "id": "43bff16a-38ac-471b-bb1e-e7d569d165f4",
   "metadata": {},
   "outputs": [
    {
     "data": {
      "text/plain": [
       "('new_value', 'total')"
      ]
     },
     "execution_count": 6,
     "metadata": {},
     "output_type": "execute_result"
    }
   ],
   "source": [
    ">>> avg.__code__.co_varnames"
   ]
  },
  {
   "cell_type": "code",
   "execution_count": 7,
   "id": "7e043b74-d0b4-4fc0-ad56-9fc94887d237",
   "metadata": {},
   "outputs": [
    {
     "data": {
      "text/plain": [
       "('series',)"
      ]
     },
     "execution_count": 7,
     "metadata": {},
     "output_type": "execute_result"
    }
   ],
   "source": [
    ">>> avg.__code__.co_freevars"
   ]
  },
  {
   "cell_type": "code",
   "execution_count": 8,
   "id": "002a8b72-d1d4-4763-b56a-a4b5749e6a68",
   "metadata": {},
   "outputs": [
    {
     "data": {
      "text/plain": [
       "(<cell at 0x000001FFBF895840: list object at 0x000001FFBF981440>,)"
      ]
     },
     "execution_count": 8,
     "metadata": {},
     "output_type": "execute_result"
    }
   ],
   "source": [
    ">>> avg.__closure__  # doctest: +ELLIPSIS"
   ]
  },
  {
   "cell_type": "code",
   "execution_count": 9,
   "id": "e974362c-205a-4226-a152-ef01e5ab7f30",
   "metadata": {},
   "outputs": [
    {
     "data": {
      "text/plain": [
       "[10, 11, 12]"
      ]
     },
     "execution_count": 9,
     "metadata": {},
     "output_type": "execute_result"
    }
   ],
   "source": [
    ">>> avg.__closure__[0].cell_contents"
   ]
  }
 ],
 "metadata": {
  "kernelspec": {
   "display_name": "Python 3 (ipykernel)",
   "language": "python",
   "name": "python3"
  },
  "language_info": {
   "codemirror_mode": {
    "name": "ipython",
    "version": 3
   },
   "file_extension": ".py",
   "mimetype": "text/x-python",
   "name": "python",
   "nbconvert_exporter": "python",
   "pygments_lexer": "ipython3",
   "version": "3.10.2"
  }
 },
 "nbformat": 4,
 "nbformat_minor": 5
}
