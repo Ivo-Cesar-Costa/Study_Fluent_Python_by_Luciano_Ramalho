{
 "cells": [
  {
   "cell_type": "code",
   "execution_count": 1,
   "id": "d74010b4-d8f0-4451-96e2-37858a34ab37",
   "metadata": {},
   "outputs": [],
   "source": [
    "import time"
   ]
  },
  {
   "cell_type": "code",
   "execution_count": 2,
   "id": "53ba7a5d-3a83-4f82-a564-24dc9b75cb21",
   "metadata": {},
   "outputs": [],
   "source": [
    "DEFAULT_FMT = '[{elapsed:0.8f}s] {name}({args}) -> {result}'"
   ]
  },
  {
   "cell_type": "code",
   "execution_count": 3,
   "id": "a553a671-4dc6-4c63-9277-3e6669166ab2",
   "metadata": {},
   "outputs": [],
   "source": [
    "def clock(fmt=DEFAULT_FMT):  # <1>\n",
    "    def decorate(func):      # <2>\n",
    "        def clocked(*_args): # <3>\n",
    "            t0 = time.time()\n",
    "            _result = func(*_args)  # <4>\n",
    "            elapsed = time.time() - t0\n",
    "            name = func.__name__\n",
    "            args = ', '.join(repr(arg) for arg in _args)  # <5>\n",
    "            result = repr(_result)  # <6>\n",
    "            print(fmt.format(**locals()))  # <7>\n",
    "            return _result  # <8>\n",
    "        return clocked  # <9>\n",
    "    return decorate  # <10>"
   ]
  },
  {
   "cell_type": "code",
   "execution_count": 4,
   "id": "f7e2893b-6f10-4539-b345-8d0a0066030a",
   "metadata": {},
   "outputs": [
    {
     "name": "stdout",
     "output_type": "stream",
     "text": [
      "[0.13517499s] snooze(0.123) -> None\n",
      "[0.12470460s] snooze(0.123) -> None\n",
      "[0.12552214s] snooze(0.123) -> None\n"
     ]
    }
   ],
   "source": [
    "if __name__ == '__main__':\n",
    "\n",
    "    @clock()  # <11>\n",
    "    def snooze(seconds):\n",
    "        time.sleep(seconds)\n",
    "\n",
    "    for i in range(3):\n",
    "        snooze(.123)"
   ]
  },
  {
   "cell_type": "code",
   "execution_count": 5,
   "id": "4cb8a225-a7bc-4508-ae20-c65cf7e9acac",
   "metadata": {},
   "outputs": [
    {
     "name": "stdout",
     "output_type": "stream",
     "text": [
      "[0.11549020s] snooze(0.1) -> None\n"
     ]
    }
   ],
   "source": [
    ">>> snooze(.1)  # doctest: +ELLIPSIS"
   ]
  },
  {
   "cell_type": "code",
   "execution_count": 6,
   "id": "49b12bee-f5db-47df-9f9c-648d5eaf1bac",
   "metadata": {},
   "outputs": [
    {
     "name": "stdout",
     "output_type": "stream",
     "text": [
      "sleep: 0.20076751708984375\n"
     ]
    }
   ],
   "source": [
    ">>> clock('{name}: {elapsed}')(time.sleep)(.2)  # doctest: +ELLIPSIS"
   ]
  },
  {
   "cell_type": "code",
   "execution_count": 7,
   "id": "f0794663-0faf-4d36-8b17-c00dfe38b816",
   "metadata": {},
   "outputs": [
    {
     "name": "stdout",
     "output_type": "stream",
     "text": [
      "sleep(0.2) dt=0.203s\n"
     ]
    }
   ],
   "source": [
    ">>> clock('{name}({args}) dt={elapsed:0.3f}s')(time.sleep)(.2)"
   ]
  }
 ],
 "metadata": {
  "kernelspec": {
   "display_name": "Python 3 (ipykernel)",
   "language": "python",
   "name": "python3"
  },
  "language_info": {
   "codemirror_mode": {
    "name": "ipython",
    "version": 3
   },
   "file_extension": ".py",
   "mimetype": "text/x-python",
   "name": "python",
   "nbconvert_exporter": "python",
   "pygments_lexer": "ipython3",
   "version": "3.10.2"
  }
 },
 "nbformat": 4,
 "nbformat_minor": 5
}
