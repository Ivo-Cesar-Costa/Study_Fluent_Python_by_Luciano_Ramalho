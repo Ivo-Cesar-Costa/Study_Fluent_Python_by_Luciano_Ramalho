{
 "cells": [
  {
   "cell_type": "code",
   "execution_count": 2,
   "id": "6afdb0d6-d505-417f-bed7-6c908fbbdf3e",
   "metadata": {},
   "outputs": [],
   "source": [
    "import time\n",
    "import import_ipynb\n",
    "from clockdeco_param import clock"
   ]
  },
  {
   "cell_type": "code",
   "execution_count": 3,
   "id": "d435ca8d-2eee-42e7-9888-782daecfa29a",
   "metadata": {},
   "outputs": [
    {
     "name": "stdout",
     "output_type": "stream",
     "text": [
      "snooze: 0.1244807243347168s\n",
      "snooze: 0.12573838233947754s\n",
      "snooze: 0.12465572357177734s\n"
     ]
    }
   ],
   "source": [
    "@clock('{name}: {elapsed}s')\n",
    "def snooze(seconds):\n",
    "    time.sleep(seconds)\n",
    "\n",
    "for i in range(3):\n",
    "    snooze(.123)"
   ]
  }
 ],
 "metadata": {
  "kernelspec": {
   "display_name": "Python 3 (ipykernel)",
   "language": "python",
   "name": "python3"
  },
  "language_info": {
   "codemirror_mode": {
    "name": "ipython",
    "version": 3
   },
   "file_extension": ".py",
   "mimetype": "text/x-python",
   "name": "python",
   "nbconvert_exporter": "python",
   "pygments_lexer": "ipython3",
   "version": "3.10.2"
  }
 },
 "nbformat": 4,
 "nbformat_minor": 5
}
