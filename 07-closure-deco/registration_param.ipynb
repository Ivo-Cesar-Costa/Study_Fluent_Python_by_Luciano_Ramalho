{
 "cells": [
  {
   "cell_type": "code",
   "execution_count": 1,
   "id": "3f207c60-8163-4b5f-80e5-e08eac4d3ffb",
   "metadata": {},
   "outputs": [],
   "source": [
    "registry = set()"
   ]
  },
  {
   "cell_type": "code",
   "execution_count": 2,
   "id": "9a76123f-e7d2-4da1-ae9f-938fab0456e0",
   "metadata": {},
   "outputs": [],
   "source": [
    "def register(active=True):  # <2>\n",
    "    def decorate(func):  # <3>\n",
    "        print('running register(active=%s)->decorate(%s)'\n",
    "              % (active, func))\n",
    "        if active:   # <4>\n",
    "            registry.add(func)\n",
    "        else:\n",
    "            registry.discard(func)  # <5>\n",
    "\n",
    "        return func  # <6>\n",
    "    return decorate  # <7>"
   ]
  },
  {
   "cell_type": "code",
   "execution_count": 3,
   "id": "ec501d48-855d-4aaa-b81d-e4166f56ceaf",
   "metadata": {},
   "outputs": [
    {
     "name": "stdout",
     "output_type": "stream",
     "text": [
      "running register(active=False)->decorate(<function f1 at 0x0000025C450A9510>)\n"
     ]
    }
   ],
   "source": [
    "@register(active=False)  # <8>\n",
    "def f1():\n",
    "    print('running f1()')"
   ]
  },
  {
   "cell_type": "code",
   "execution_count": 4,
   "id": "4cdd7cad-d3a1-4981-8838-88fdd899fd22",
   "metadata": {},
   "outputs": [
    {
     "name": "stdout",
     "output_type": "stream",
     "text": [
      "running register(active=True)->decorate(<function f2 at 0x0000025C450A8430>)\n"
     ]
    }
   ],
   "source": [
    "@register()  # <9>\n",
    "def f2():\n",
    "    print('running f2()')"
   ]
  },
  {
   "cell_type": "code",
   "execution_count": 5,
   "id": "0530d439-c425-4dc4-b988-14e6cb9a67e7",
   "metadata": {},
   "outputs": [],
   "source": [
    "def f3():\n",
    "    print('running f3()')"
   ]
  }
 ],
 "metadata": {
  "kernelspec": {
   "display_name": "Python 3 (ipykernel)",
   "language": "python",
   "name": "python3"
  },
  "language_info": {
   "codemirror_mode": {
    "name": "ipython",
    "version": 3
   },
   "file_extension": ".py",
   "mimetype": "text/x-python",
   "name": "python",
   "nbconvert_exporter": "python",
   "pygments_lexer": "ipython3",
   "version": "3.10.2"
  }
 },
 "nbformat": 4,
 "nbformat_minor": 5
}
