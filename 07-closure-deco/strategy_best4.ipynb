{
 "cells": [
  {
   "cell_type": "code",
   "execution_count": 1,
   "id": "427826bf-7fb8-4a9f-8f87-3fce965d71f7",
   "metadata": {},
   "outputs": [],
   "source": [
    "from collections import namedtuple"
   ]
  },
  {
   "cell_type": "code",
   "execution_count": 2,
   "id": "cbeedf91-e138-4612-b60d-9267ab508409",
   "metadata": {},
   "outputs": [],
   "source": [
    "Customer = namedtuple('Customer', 'name fidelity')"
   ]
  },
  {
   "cell_type": "code",
   "execution_count": 3,
   "id": "1128d6c9-8dcf-4a06-8f3b-0b8e619eb856",
   "metadata": {},
   "outputs": [],
   "source": [
    "class LineItem:\n",
    "\n",
    "    def __init__(self, product, quantity, price):\n",
    "        self.product = product\n",
    "        self.quantity = quantity\n",
    "        self.price = price\n",
    "\n",
    "    def total(self):\n",
    "        return self.price * self.quantity"
   ]
  },
  {
   "cell_type": "code",
   "execution_count": 4,
   "id": "4b8a2464-a8d7-4e72-b211-a16f53981bce",
   "metadata": {},
   "outputs": [],
   "source": [
    "class Order:  # the Context\n",
    "\n",
    "    def __init__(self, customer, cart, promotion=None):\n",
    "        self.customer = customer\n",
    "        self.cart = list(cart)\n",
    "        self.promotion = promotion\n",
    "\n",
    "    def total(self):\n",
    "        if not hasattr(self, '__total'):\n",
    "            self.__total = sum(item.total() for item in self.cart)\n",
    "        return self.__total\n",
    "\n",
    "    def due(self):\n",
    "        if self.promotion is None:\n",
    "            discount = 0\n",
    "        else:\n",
    "            discount = self.promotion(self)\n",
    "        return self.total() - discount\n",
    "\n",
    "    def __repr__(self):\n",
    "        fmt = '<Order total: {:.2f} due: {:.2f}>'\n",
    "        return fmt.format(self.total(), self.due())"
   ]
  },
  {
   "cell_type": "code",
   "execution_count": 5,
   "id": "a0c1fea6-af4f-432a-b301-341874b02888",
   "metadata": {},
   "outputs": [],
   "source": [
    "promos = [] "
   ]
  },
  {
   "cell_type": "code",
   "execution_count": 6,
   "id": "f0669de7-eddd-4d2d-a040-64cf3b27c8e7",
   "metadata": {},
   "outputs": [],
   "source": [
    "def promotion(promo_func):  # <2>\n",
    "    promos.append(promo_func)\n",
    "    return promo_func"
   ]
  },
  {
   "cell_type": "code",
   "execution_count": 7,
   "id": "e77fe697-f07c-4886-8fea-bd0061cbdcd9",
   "metadata": {},
   "outputs": [],
   "source": [
    "@promotion  # <3>\n",
    "def fidelity(order):\n",
    "    \"\"\"5% discount for customers with 1000 or more fidelity points\"\"\"\n",
    "    return order.total() * .05 if order.customer.fidelity >= 1000 else 0"
   ]
  },
  {
   "cell_type": "code",
   "execution_count": 8,
   "id": "1b9adacb-80ab-4bc1-8d20-c3d0830cee4d",
   "metadata": {},
   "outputs": [],
   "source": [
    "@promotion\n",
    "def bulk_item(order):\n",
    "    \"\"\"10% discount for each LineItem with 20 or more units\"\"\"\n",
    "    discount = 0\n",
    "    for item in order.cart:\n",
    "        if item.quantity >= 20:\n",
    "            discount += item.total() * .1\n",
    "    return discount"
   ]
  },
  {
   "cell_type": "code",
   "execution_count": 9,
   "id": "c8779936-177e-420c-9a88-8f4ec89c96a8",
   "metadata": {},
   "outputs": [],
   "source": [
    "@promotion\n",
    "def large_order(order):\n",
    "    \"\"\"7% discount for orders with 10 or more distinct items\"\"\"\n",
    "    distinct_items = {item.product for item in order.cart}\n",
    "    if len(distinct_items) >= 10:\n",
    "        return order.total() * .07\n",
    "    return 0"
   ]
  },
  {
   "cell_type": "code",
   "execution_count": 10,
   "id": "41b696cc-c581-40e8-b337-d2e3ccfc0b1b",
   "metadata": {},
   "outputs": [],
   "source": [
    "def best_promo(order):  # <4>\n",
    "    \"\"\"Select best discount available\n",
    "    \"\"\"\n",
    "    return max(promo(order) for promo in promos)"
   ]
  },
  {
   "cell_type": "code",
   "execution_count": 11,
   "id": "2239217f-e57a-4a88-ae87-b8e4547f25f8",
   "metadata": {},
   "outputs": [
    {
     "data": {
      "text/plain": [
       "<Order total: 42.00 due: 42.00>"
      ]
     },
     "execution_count": 11,
     "metadata": {},
     "output_type": "execute_result"
    }
   ],
   "source": [
    ">>> joe = Customer('John Doe', 0)\n",
    ">>> ann = Customer('Ann Smith', 1100)\n",
    ">>> cart = [LineItem('banana', 4, .5),\n",
    "...         LineItem('apple', 10, 1.5),\n",
    "...         LineItem('watermellon', 5, 5.0)]\n",
    ">>> Order(joe, cart, fidelity)"
   ]
  },
  {
   "cell_type": "code",
   "execution_count": 12,
   "id": "030fbecf-153f-4c43-9e37-d4fda7449e81",
   "metadata": {},
   "outputs": [
    {
     "data": {
      "text/plain": [
       "<Order total: 42.00 due: 39.90>"
      ]
     },
     "execution_count": 12,
     "metadata": {},
     "output_type": "execute_result"
    }
   ],
   "source": [
    " >>> Order(ann, cart, fidelity)"
   ]
  },
  {
   "cell_type": "code",
   "execution_count": 13,
   "id": "cd61eeb3-bfab-4a96-8946-1add87771e8f",
   "metadata": {},
   "outputs": [
    {
     "data": {
      "text/plain": [
       "<Order total: 30.00 due: 28.50>"
      ]
     },
     "execution_count": 13,
     "metadata": {},
     "output_type": "execute_result"
    }
   ],
   "source": [
    ">>> banana_cart = [LineItem('banana', 30, .5),\n",
    "...                LineItem('apple', 10, 1.5)]\n",
    ">>> Order(joe, banana_cart, bulk_item)"
   ]
  },
  {
   "cell_type": "code",
   "execution_count": 14,
   "id": "c05f042d-497d-4898-9498-c07bf595bf17",
   "metadata": {},
   "outputs": [
    {
     "data": {
      "text/plain": [
       "<Order total: 10.00 due: 9.30>"
      ]
     },
     "execution_count": 14,
     "metadata": {},
     "output_type": "execute_result"
    }
   ],
   "source": [
    ">>> long_order = [LineItem(str(item_code), 1, 1.0)\n",
    "...               for item_code in range(10)]\n",
    ">>> Order(joe, long_order, large_order)"
   ]
  },
  {
   "cell_type": "code",
   "execution_count": 15,
   "id": "12856a99-afd9-434a-a623-5e2ac28e8624",
   "metadata": {},
   "outputs": [
    {
     "data": {
      "text/plain": [
       "<Order total: 42.00 due: 42.00>"
      ]
     },
     "execution_count": 15,
     "metadata": {},
     "output_type": "execute_result"
    }
   ],
   "source": [
    " >>> Order(joe, cart, large_order)"
   ]
  },
  {
   "cell_type": "code",
   "execution_count": 16,
   "id": "2cd61c25-63d8-4034-a669-257f15dacb07",
   "metadata": {},
   "outputs": [
    {
     "data": {
      "text/plain": [
       "<Order total: 10.00 due: 9.30>"
      ]
     },
     "execution_count": 16,
     "metadata": {},
     "output_type": "execute_result"
    }
   ],
   "source": [
    ">>> Order(joe, long_order, best_promo)"
   ]
  },
  {
   "cell_type": "code",
   "execution_count": 17,
   "id": "74648946-59a1-485f-a5d1-fab8450c53cb",
   "metadata": {},
   "outputs": [
    {
     "data": {
      "text/plain": [
       "<Order total: 30.00 due: 28.50>"
      ]
     },
     "execution_count": 17,
     "metadata": {},
     "output_type": "execute_result"
    }
   ],
   "source": [
    ">>> Order(joe, banana_cart, best_promo)"
   ]
  },
  {
   "cell_type": "code",
   "execution_count": 18,
   "id": "1737fc0d-ea33-42a9-a13a-e6b8eb5f819b",
   "metadata": {},
   "outputs": [
    {
     "data": {
      "text/plain": [
       "<Order total: 42.00 due: 39.90>"
      ]
     },
     "execution_count": 18,
     "metadata": {},
     "output_type": "execute_result"
    }
   ],
   "source": [
    ">>> Order(ann, cart, best_promo)"
   ]
  }
 ],
 "metadata": {
  "kernelspec": {
   "display_name": "Python 3 (ipykernel)",
   "language": "python",
   "name": "python3"
  },
  "language_info": {
   "codemirror_mode": {
    "name": "ipython",
    "version": 3
   },
   "file_extension": ".py",
   "mimetype": "text/x-python",
   "name": "python",
   "nbconvert_exporter": "python",
   "pygments_lexer": "ipython3",
   "version": "3.10.2"
  }
 },
 "nbformat": 4,
 "nbformat_minor": 5
}
