{
 "cells": [
  {
   "cell_type": "code",
   "execution_count": 1,
   "id": "6e8a9e2f-ca44-410e-8128-9a2b2776eabc",
   "metadata": {},
   "outputs": [],
   "source": [
    "import functools"
   ]
  },
  {
   "cell_type": "code",
   "execution_count": 2,
   "id": "b34ad4db-b254-4650-ae79-e3bb6b8dc05f",
   "metadata": {},
   "outputs": [
    {
     "name": "stdout",
     "output_type": "stream",
     "text": [
      "importing Jupyter notebook from clockdeco.ipynb\n"
     ]
    }
   ],
   "source": [
    "import import_ipynb\n",
    "from clockdeco import clock"
   ]
  },
  {
   "cell_type": "code",
   "execution_count": 3,
   "id": "bf452234-c67d-40b5-96a3-339c64c2202a",
   "metadata": {},
   "outputs": [],
   "source": [
    "@functools.lru_cache() # <1>\n",
    "@clock  # <2>\n",
    "def fibonacci(n):\n",
    "    if n < 2:\n",
    "        return n\n",
    "    return fibonacci(n-2) + fibonacci(n-1)"
   ]
  },
  {
   "cell_type": "code",
   "execution_count": 4,
   "id": "21f3abec-da77-4aef-b2c5-dcb2aadd82a4",
   "metadata": {},
   "outputs": [
    {
     "name": "stdout",
     "output_type": "stream",
     "text": [
      "[0.00000000s] fibonacci(0) -> 0\n",
      "[0.00000000s] fibonacci(1) -> 1\n",
      "[0.00000000s] fibonacci(2) -> 1\n",
      "[0.00000000s] fibonacci(3) -> 2\n",
      "[0.00000000s] fibonacci(4) -> 3\n",
      "[0.00000000s] fibonacci(5) -> 5\n",
      "[0.00000000s] fibonacci(6) -> 8\n",
      "8\n"
     ]
    }
   ],
   "source": [
    "if __name__=='__main__':\n",
    "    print(fibonacci(6))"
   ]
  }
 ],
 "metadata": {
  "kernelspec": {
   "display_name": "Python 3 (ipykernel)",
   "language": "python",
   "name": "python3"
  },
  "language_info": {
   "codemirror_mode": {
    "name": "ipython",
    "version": 3
   },
   "file_extension": ".py",
   "mimetype": "text/x-python",
   "name": "python",
   "nbconvert_exporter": "python",
   "pygments_lexer": "ipython3",
   "version": "3.10.2"
  }
 },
 "nbformat": 4,
 "nbformat_minor": 5
}
