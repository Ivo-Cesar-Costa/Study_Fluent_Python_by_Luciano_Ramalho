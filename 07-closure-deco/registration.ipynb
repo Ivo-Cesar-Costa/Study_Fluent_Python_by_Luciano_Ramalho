{
 "cells": [
  {
   "cell_type": "code",
   "execution_count": 1,
   "id": "a163580c-e4f7-4517-a15c-4b52efc3f201",
   "metadata": {},
   "outputs": [],
   "source": [
    "registry = []  # <1>"
   ]
  },
  {
   "cell_type": "code",
   "execution_count": 2,
   "id": "90c30a3d-a173-4ab7-923c-025b9dc9d5d7",
   "metadata": {},
   "outputs": [],
   "source": [
    "def register(func):  # <2>\n",
    "    print('running register(%s)' % func)  # <3>\n",
    "    registry.append(func)  # <4>\n",
    "    return func  # <5>"
   ]
  },
  {
   "cell_type": "code",
   "execution_count": 3,
   "id": "b6165b05-9b91-497a-8389-db48bc85ece8",
   "metadata": {},
   "outputs": [
    {
     "name": "stdout",
     "output_type": "stream",
     "text": [
      "running register(<function f1 at 0x000001D882D69240>)\n"
     ]
    }
   ],
   "source": [
    "@register  # <6>\n",
    "def f1():\n",
    "    print('running f1()')"
   ]
  },
  {
   "cell_type": "code",
   "execution_count": 4,
   "id": "0988d900-db28-41f8-b281-4a9a3703f301",
   "metadata": {},
   "outputs": [
    {
     "name": "stdout",
     "output_type": "stream",
     "text": [
      "running register(<function f2 at 0x000001D882D69090>)\n"
     ]
    }
   ],
   "source": [
    "@register\n",
    "def f2():\n",
    "    print('running f2()')"
   ]
  },
  {
   "cell_type": "code",
   "execution_count": 5,
   "id": "304cfef3-6d5f-4612-80b3-5cc47abfabc4",
   "metadata": {},
   "outputs": [],
   "source": [
    "def f3():  # <7>\n",
    "    print('running f3()')"
   ]
  },
  {
   "cell_type": "code",
   "execution_count": 6,
   "id": "56dbecca-3f73-4f75-afb9-dca761f4a5a5",
   "metadata": {},
   "outputs": [],
   "source": [
    "def main():  # <8>\n",
    "    print('running main()')\n",
    "    print('registry ->', registry)\n",
    "    f1()\n",
    "    f2()\n",
    "    f3()"
   ]
  },
  {
   "cell_type": "code",
   "execution_count": 7,
   "id": "d321e63d-73e1-47bf-98f9-4eea33f1f8c7",
   "metadata": {},
   "outputs": [
    {
     "name": "stdout",
     "output_type": "stream",
     "text": [
      "running main()\n",
      "registry -> [<function f1 at 0x000001D882D69240>, <function f2 at 0x000001D882D69090>]\n",
      "running f1()\n",
      "running f2()\n",
      "running f3()\n"
     ]
    }
   ],
   "source": [
    "if __name__=='__main__':\n",
    "    main()  # <9>"
   ]
  }
 ],
 "metadata": {
  "kernelspec": {
   "display_name": "Python 3 (ipykernel)",
   "language": "python",
   "name": "python3"
  },
  "language_info": {
   "codemirror_mode": {
    "name": "ipython",
    "version": 3
   },
   "file_extension": ".py",
   "mimetype": "text/x-python",
   "name": "python",
   "nbconvert_exporter": "python",
   "pygments_lexer": "ipython3",
   "version": "3.10.2"
  }
 },
 "nbformat": 4,
 "nbformat_minor": 5
}
