{
 "cells": [
  {
   "cell_type": "code",
   "execution_count": 1,
   "id": "856be059-2ecb-4ef2-a106-8340e6459871",
   "metadata": {},
   "outputs": [
    {
     "name": "stdout",
     "output_type": "stream",
     "text": [
      "importing Jupyter notebook from clockdeco.ipynb\n"
     ]
    }
   ],
   "source": [
    "import import_ipynb\n",
    "from clockdeco import clock"
   ]
  },
  {
   "cell_type": "code",
   "execution_count": 2,
   "id": "06066141-1a58-46bd-98d6-6b6f0a6f849a",
   "metadata": {},
   "outputs": [
    {
     "name": "stdout",
     "output_type": "stream",
     "text": [
      "[0.00000000s] fibonacci(0) -> 0\n",
      "[0.00000000s] fibonacci(1) -> 1\n",
      "[0.00000000s] fibonacci(2) -> 1\n",
      "[0.00000000s] fibonacci(1) -> 1\n",
      "[0.00000000s] fibonacci(0) -> 0\n",
      "[0.00000000s] fibonacci(1) -> 1\n",
      "[0.00000000s] fibonacci(2) -> 1\n",
      "[0.00000000s] fibonacci(3) -> 2\n",
      "[0.00000000s] fibonacci(4) -> 3\n",
      "[0.00000000s] fibonacci(1) -> 1\n",
      "[0.00000000s] fibonacci(0) -> 0\n",
      "[0.00000000s] fibonacci(1) -> 1\n",
      "[0.00000000s] fibonacci(2) -> 1\n",
      "[0.00000000s] fibonacci(3) -> 2\n",
      "[0.00000000s] fibonacci(0) -> 0\n",
      "[0.00000000s] fibonacci(1) -> 1\n",
      "[0.00000000s] fibonacci(2) -> 1\n",
      "[0.00000000s] fibonacci(1) -> 1\n",
      "[0.00000000s] fibonacci(0) -> 0\n",
      "[0.00000000s] fibonacci(1) -> 1\n",
      "[0.00000000s] fibonacci(2) -> 1\n",
      "[0.00099826s] fibonacci(3) -> 2\n",
      "[0.00099826s] fibonacci(4) -> 3\n",
      "[0.00099826s] fibonacci(5) -> 5\n",
      "[0.00099826s] fibonacci(6) -> 8\n",
      "8\n"
     ]
    }
   ],
   "source": [
    "@clock\n",
    "def fibonacci(n):\n",
    "    if n < 2:\n",
    "        return n\n",
    "    return fibonacci(n-2) + fibonacci(n-1)\n",
    "\n",
    "if __name__=='__main__':\n",
    "    print(fibonacci(6))"
   ]
  }
 ],
 "metadata": {
  "kernelspec": {
   "display_name": "Python 3 (ipykernel)",
   "language": "python",
   "name": "python3"
  },
  "language_info": {
   "codemirror_mode": {
    "name": "ipython",
    "version": 3
   },
   "file_extension": ".py",
   "mimetype": "text/x-python",
   "name": "python",
   "nbconvert_exporter": "python",
   "pygments_lexer": "ipython3",
   "version": "3.10.2"
  }
 },
 "nbformat": 4,
 "nbformat_minor": 5
}
