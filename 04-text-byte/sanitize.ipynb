{
 "cells": [
  {
   "cell_type": "code",
   "execution_count": 1,
   "id": "b567f39e-4e8d-443f-9d5e-1685e7364aa2",
   "metadata": {},
   "outputs": [],
   "source": [
    "# BEGIN SHAVE_MARKS\n",
    "import unicodedata\n",
    "import string"
   ]
  },
  {
   "cell_type": "code",
   "execution_count": 2,
   "id": "3573ac42-f5f9-4a2c-abab-d63104b40b1b",
   "metadata": {},
   "outputs": [],
   "source": [
    "def shave_marks(txt):\n",
    "    \"\"\"Remove all diacritic marks\"\"\"\n",
    "    norm_txt = unicodedata.normalize('NFD', txt)  # <1>\n",
    "    shaved = ''.join(c for c in norm_txt\n",
    "                     if not unicodedata.combining(c))  # <2>\n",
    "    return unicodedata.normalize('NFC', shaved)  # <3>\n",
    "# END SHAVE_MARKS"
   ]
  },
  {
   "cell_type": "code",
   "execution_count": 3,
   "id": "42053065-2184-41f6-bebb-43cb3f82fd4f",
   "metadata": {},
   "outputs": [],
   "source": [
    "# BEGIN SHAVE_MARKS_LATIN\n",
    "def shave_marks_latin(txt):\n",
    "    \"\"\"Remove all diacritic marks from Latin base characters\"\"\"\n",
    "    norm_txt = unicodedata.normalize('NFD', txt)  # <1>\n",
    "    latin_base = False\n",
    "    keepers = []\n",
    "    for c in norm_txt:\n",
    "        if unicodedata.combining(c) and latin_base:   # <2>\n",
    "            continue  # ignore diacritic on Latin base char\n",
    "        keepers.append(c)                             # <3>\n",
    "        # if it isn't combining char, it's a new base char\n",
    "        if not unicodedata.combining(c):              # <4>\n",
    "            latin_base = c in string.ascii_letters\n",
    "    shaved = ''.join(keepers)\n",
    "    return unicodedata.normalize('NFC', shaved)   # <5>\n",
    "# END SHAVE_MARKS_LATIN"
   ]
  },
  {
   "cell_type": "code",
   "execution_count": 4,
   "id": "5983ec8c-8b0f-46fb-b35a-1c9bd9861ac0",
   "metadata": {},
   "outputs": [],
   "source": [
    "# BEGIN ASCIIZE\n",
    "single_map = str.maketrans(\"\"\"‚ƒ„†ˆ‹‘’“”•–—˜›\"\"\",  # <1>\n",
    "                           \"\"\"'f\"*^<''\"\"---~>\"\"\")"
   ]
  },
  {
   "cell_type": "code",
   "execution_count": 5,
   "id": "a0fdc1c3-416c-4c09-90af-db8db5f7b858",
   "metadata": {},
   "outputs": [],
   "source": [
    "multi_map = str.maketrans({  # <2>\n",
    "    '€': '<euro>',\n",
    "    '…': '...',\n",
    "    'Œ': 'OE',\n",
    "    '™': '(TM)',\n",
    "    'œ': 'oe',\n",
    "    '‰': '<per mille>',\n",
    "    '‡': '**',\n",
    "})"
   ]
  },
  {
   "cell_type": "code",
   "execution_count": 6,
   "id": "5bb6d434-59a6-4a23-9ce4-92354982de4b",
   "metadata": {},
   "outputs": [],
   "source": [
    "multi_map.update(single_map)  # <3>"
   ]
  },
  {
   "cell_type": "code",
   "execution_count": 7,
   "id": "7bd9b7cf-16f8-4923-a853-900a9e7ac041",
   "metadata": {},
   "outputs": [],
   "source": [
    "def dewinize(txt):\n",
    "    \"\"\"Replace Win1252 symbols with ASCII chars or sequences\"\"\"\n",
    "    return txt.translate(multi_map)  # <4>"
   ]
  },
  {
   "cell_type": "code",
   "execution_count": 8,
   "id": "2f467c7d-746d-4d1d-8a8a-c31b5c4997bf",
   "metadata": {},
   "outputs": [],
   "source": [
    "def asciize(txt):\n",
    "    no_marks = shave_marks_latin(dewinize(txt))     # <5>\n",
    "    no_marks = no_marks.replace('ß', 'ss')          # <6>\n",
    "    return unicodedata.normalize('NFKC', no_marks)  # <7>\n",
    "# END ASCIIZE"
   ]
  },
  {
   "cell_type": "markdown",
   "id": "d74c311f-dc66-4b57-a1ef-61080d48619d",
   "metadata": {},
   "source": [
    "#### Radical folding and text sanitizing."
   ]
  },
  {
   "cell_type": "markdown",
   "id": "3ec57ea9-9e4b-4ed0-a3c6-525a1a4f9236",
   "metadata": {},
   "source": [
    "#### Handling a string with `cp1252` symbols:"
   ]
  },
  {
   "cell_type": "code",
   "execution_count": 9,
   "id": "725256fb-d57a-48e7-94f3-1c2654a232b7",
   "metadata": {},
   "outputs": [
    {
     "data": {
      "text/plain": [
       "'“Herr Voß: • ½ cup of Œtker™ caffe latte • bowl of acai.”'"
      ]
     },
     "execution_count": 9,
     "metadata": {},
     "output_type": "execute_result"
    }
   ],
   "source": [
    ">>> order = '“Herr Voß: • ½ cup of Œtker™ caffè latte • bowl of açaí.”'\n",
    ">>> shave_marks(order)"
   ]
  },
  {
   "cell_type": "code",
   "execution_count": 10,
   "id": "c182d555-5de6-46ed-8814-3dd0cd90c165",
   "metadata": {},
   "outputs": [
    {
     "data": {
      "text/plain": [
       "'“Herr Voß: • ½ cup of Œtker™ caffe latte • bowl of acai.”'"
      ]
     },
     "execution_count": 10,
     "metadata": {},
     "output_type": "execute_result"
    }
   ],
   "source": [
    ">>> shave_marks_latin(order)"
   ]
  },
  {
   "cell_type": "code",
   "execution_count": 11,
   "id": "6965021f-b91b-45ad-9881-34724c76f4a6",
   "metadata": {},
   "outputs": [
    {
     "data": {
      "text/plain": [
       "'\"Herr Voß: - ½ cup of OEtker(TM) caffè latte - bowl of açaí.\"'"
      ]
     },
     "execution_count": 11,
     "metadata": {},
     "output_type": "execute_result"
    }
   ],
   "source": [
    ">>> dewinize(order)"
   ]
  },
  {
   "cell_type": "code",
   "execution_count": 12,
   "id": "ba35b3fe-407c-4a33-a33f-cc93a8ee619c",
   "metadata": {},
   "outputs": [
    {
     "data": {
      "text/plain": [
       "'\"Herr Voss: - 1⁄2 cup of OEtker(TM) caffe latte - bowl of acai.\"'"
      ]
     },
     "execution_count": 12,
     "metadata": {},
     "output_type": "execute_result"
    }
   ],
   "source": [
    ">>> asciize(order)"
   ]
  },
  {
   "cell_type": "markdown",
   "id": "a92ef763-7446-4f4b-9127-4c4ab71d414a",
   "metadata": {},
   "source": [
    "#### Handling a string with Greek and Latin accented characters:"
   ]
  },
  {
   "cell_type": "code",
   "execution_count": 13,
   "id": "15b5944b-6bc4-4454-9606-7c33f9fb7720",
   "metadata": {},
   "outputs": [
    {
     "data": {
      "text/plain": [
       "'Ζεφυρος, Zefiro'"
      ]
     },
     "execution_count": 13,
     "metadata": {},
     "output_type": "execute_result"
    }
   ],
   "source": [
    ">>> greek = 'Ζέφυρος, Zéfiro'\n",
    ">>> shave_marks(greek)"
   ]
  },
  {
   "cell_type": "code",
   "execution_count": 14,
   "id": "d206aac3-4af3-4b79-8117-5da658a4d369",
   "metadata": {},
   "outputs": [
    {
     "data": {
      "text/plain": [
       "'Ζέφυρος, Zefiro'"
      ]
     },
     "execution_count": 14,
     "metadata": {},
     "output_type": "execute_result"
    }
   ],
   "source": [
    ">>> shave_marks_latin(greek)"
   ]
  },
  {
   "cell_type": "code",
   "execution_count": 15,
   "id": "693689ca-21bc-4665-8920-b627327f9eb9",
   "metadata": {},
   "outputs": [
    {
     "data": {
      "text/plain": [
       "'Ζέφυρος, Zéfiro'"
      ]
     },
     "execution_count": 15,
     "metadata": {},
     "output_type": "execute_result"
    }
   ],
   "source": [
    ">>> dewinize(greek)"
   ]
  },
  {
   "cell_type": "code",
   "execution_count": 16,
   "id": "fb9dcbfe-a031-43d5-9431-5353844284ea",
   "metadata": {},
   "outputs": [
    {
     "data": {
      "text/plain": [
       "'Ζέφυρος, Zefiro'"
      ]
     },
     "execution_count": 16,
     "metadata": {},
     "output_type": "execute_result"
    }
   ],
   "source": [
    ">>> asciize(greek)"
   ]
  }
 ],
 "metadata": {
  "kernelspec": {
   "display_name": "Python 3 (ipykernel)",
   "language": "python",
   "name": "python3"
  },
  "language_info": {
   "codemirror_mode": {
    "name": "ipython",
    "version": 3
   },
   "file_extension": ".py",
   "mimetype": "text/x-python",
   "name": "python",
   "nbconvert_exporter": "python",
   "pygments_lexer": "ipython3",
   "version": "3.10.2"
  }
 },
 "nbformat": 4,
 "nbformat_minor": 5
}
