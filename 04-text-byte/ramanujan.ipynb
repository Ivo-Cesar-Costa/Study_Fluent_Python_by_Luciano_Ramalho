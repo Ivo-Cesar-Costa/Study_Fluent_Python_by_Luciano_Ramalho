{
 "cells": [
  {
   "cell_type": "code",
   "execution_count": 1,
   "id": "14952b6f-7c75-4044-834e-52e569afb9ee",
   "metadata": {},
   "outputs": [],
   "source": [
    "# BEGIN RE_DEMO\n",
    "import re"
   ]
  },
  {
   "cell_type": "code",
   "execution_count": 2,
   "id": "ff4b3d9b-d81d-4892-aeac-a509bfae1a25",
   "metadata": {},
   "outputs": [],
   "source": [
    "re_numbers_str = re.compile(r'\\d+')     # <1>\n",
    "re_words_str = re.compile(r'\\w+')\n",
    "re_numbers_bytes = re.compile(rb'\\d+')  # <2>\n",
    "re_words_bytes = re.compile(rb'\\w+')"
   ]
  },
  {
   "cell_type": "code",
   "execution_count": 3,
   "id": "01500b0a-348e-4562-a646-b62ea25e2dab",
   "metadata": {},
   "outputs": [],
   "source": [
    "text_str = (\"Ramanujan saw \\u0be7\\u0bed\\u0be8\\u0bef\"  # <3>\n",
    "            \" as 1729 = 1³ + 12³ = 9³ + 10³.\")        # <4>"
   ]
  },
  {
   "cell_type": "code",
   "execution_count": 4,
   "id": "aaebf829-e04d-46b2-8172-87c988e7f50b",
   "metadata": {},
   "outputs": [
    {
     "data": {
      "text/plain": [
       "'Ramanujan saw ௧௭௨௯ as 1729 = 1³ + 12³ = 9³ + 10³.'"
      ]
     },
     "execution_count": 4,
     "metadata": {},
     "output_type": "execute_result"
    }
   ],
   "source": [
    "text_str"
   ]
  },
  {
   "cell_type": "code",
   "execution_count": 5,
   "id": "d9d2a2f6-891a-468a-a254-c3b52b2147cd",
   "metadata": {},
   "outputs": [
    {
     "data": {
      "text/plain": [
       "b'Ramanujan saw \\xe0\\xaf\\xa7\\xe0\\xaf\\xad\\xe0\\xaf\\xa8\\xe0\\xaf\\xaf as 1729 = 1\\xc2\\xb3 + 12\\xc2\\xb3 = 9\\xc2\\xb3 + 10\\xc2\\xb3.'"
      ]
     },
     "execution_count": 5,
     "metadata": {},
     "output_type": "execute_result"
    }
   ],
   "source": [
    "text_bytes = text_str.encode('utf_8')  # <5>\n",
    "text_bytes"
   ]
  },
  {
   "cell_type": "code",
   "execution_count": 6,
   "id": "00bf994d-9674-4b87-976f-62a45917d90d",
   "metadata": {},
   "outputs": [
    {
     "name": "stdout",
     "output_type": "stream",
     "text": [
      "Text\n",
      "  'Ramanujan saw ௧௭௨௯ as 1729 = 1³ + 12³ = 9³ + 10³.'\n"
     ]
    }
   ],
   "source": [
    "print('Text', repr(text_str), sep='\\n  ')"
   ]
  },
  {
   "cell_type": "code",
   "execution_count": 7,
   "id": "8218a49d-cf2c-4731-bee4-20660af5d337",
   "metadata": {},
   "outputs": [
    {
     "name": "stdout",
     "output_type": "stream",
     "text": [
      "Numbers\n"
     ]
    }
   ],
   "source": [
    "print('Numbers')"
   ]
  },
  {
   "cell_type": "code",
   "execution_count": 8,
   "id": "7174d4c1-4318-41b0-81d7-3673a8b7b967",
   "metadata": {},
   "outputs": [
    {
     "name": "stdout",
     "output_type": "stream",
     "text": [
      "  str  : ['௧௭௨௯', '1729', '1', '12', '9', '10']\n"
     ]
    }
   ],
   "source": [
    "print('  str  :', re_numbers_str.findall(text_str))  "
   ]
  },
  {
   "cell_type": "code",
   "execution_count": 9,
   "id": "68bf6fc9-2c46-4cb6-8390-d134f8a58833",
   "metadata": {},
   "outputs": [
    {
     "name": "stdout",
     "output_type": "stream",
     "text": [
      "  bytes: [b'1729', b'1', b'12', b'9', b'10']\n"
     ]
    }
   ],
   "source": [
    "print('  bytes:', re_numbers_bytes.findall(text_bytes)) "
   ]
  },
  {
   "cell_type": "code",
   "execution_count": 10,
   "id": "6df014b3-3698-4a9e-98dd-ae68a37ab148",
   "metadata": {},
   "outputs": [
    {
     "name": "stdout",
     "output_type": "stream",
     "text": [
      "Words\n"
     ]
    }
   ],
   "source": [
    "print('Words')"
   ]
  },
  {
   "cell_type": "code",
   "execution_count": 11,
   "id": "87244c38-02f1-4276-a5c3-991ee1ab6ed7",
   "metadata": {},
   "outputs": [
    {
     "name": "stdout",
     "output_type": "stream",
     "text": [
      "  str  : ['Ramanujan', 'saw', '௧௭௨௯', 'as', '1729', '1³', '12³', '9³', '10³']\n"
     ]
    }
   ],
   "source": [
    "print('  str  :', re_words_str.findall(text_str)) "
   ]
  },
  {
   "cell_type": "code",
   "execution_count": 12,
   "id": "d1d81265-1a14-4b79-8455-c30390c45429",
   "metadata": {},
   "outputs": [
    {
     "name": "stdout",
     "output_type": "stream",
     "text": [
      "  bytes: [b'Ramanujan', b'saw', b'as', b'1729', b'1', b'12', b'9', b'10']\n"
     ]
    }
   ],
   "source": [
    "print('  bytes:', re_words_bytes.findall(text_bytes))    # <9>\n",
    "# END RE_DEMO"
   ]
  }
 ],
 "metadata": {
  "kernelspec": {
   "display_name": "Python 3 (ipykernel)",
   "language": "python",
   "name": "python3"
  },
  "language_info": {
   "codemirror_mode": {
    "name": "ipython",
    "version": 3
   },
   "file_extension": ".py",
   "mimetype": "text/x-python",
   "name": "python",
   "nbconvert_exporter": "python",
   "pygments_lexer": "ipython3",
   "version": "3.10.2"
  }
 },
 "nbformat": 4,
 "nbformat_minor": 5
}
