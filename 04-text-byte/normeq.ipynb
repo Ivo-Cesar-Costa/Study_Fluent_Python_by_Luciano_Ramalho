{
 "cells": [
  {
   "cell_type": "code",
   "execution_count": 1,
   "id": "bde4a4b1-83f3-4461-bb48-9075aa2e9663",
   "metadata": {},
   "outputs": [],
   "source": [
    "from unicodedata import normalize"
   ]
  },
  {
   "cell_type": "code",
   "execution_count": 2,
   "id": "3c1efd08-7adb-483e-9aba-1198f2370dfe",
   "metadata": {},
   "outputs": [],
   "source": [
    "def nfc_equal(str1, str2):\n",
    "    return normalize('NFC', str1) == normalize('NFC', str2)"
   ]
  },
  {
   "cell_type": "code",
   "execution_count": 3,
   "id": "ed9cacd4-5c8b-4659-9607-0ebd7e12b361",
   "metadata": {},
   "outputs": [],
   "source": [
    "def fold_equal(str1, str2):\n",
    "    return (normalize('NFC', str1).casefold() ==\n",
    "            normalize('NFC', str2).casefold())"
   ]
  },
  {
   "cell_type": "markdown",
   "id": "805b91bf-02ee-4278-8e45-b28552729039",
   "metadata": {},
   "source": [
    "#### Utility functions for normalized Unicode string comparison."
   ]
  },
  {
   "cell_type": "markdown",
   "id": "43443537-92d0-42fb-8a6f-b20b76398c66",
   "metadata": {},
   "source": [
    "#### Using Normal Form C, case sensitive:"
   ]
  },
  {
   "cell_type": "code",
   "execution_count": 4,
   "id": "01e506d4-43b6-4784-8549-51b5d013f3f5",
   "metadata": {},
   "outputs": [],
   "source": [
    ">>> s1 = 'café'"
   ]
  },
  {
   "cell_type": "code",
   "execution_count": 5,
   "id": "9710d409-727d-4ded-851d-d1c0073d10a6",
   "metadata": {},
   "outputs": [],
   "source": [
    " >>> s2 = 'cafe\\u0301'"
   ]
  },
  {
   "cell_type": "code",
   "execution_count": 6,
   "id": "620be257-500d-4af4-ad5e-55a688567d1b",
   "metadata": {},
   "outputs": [
    {
     "data": {
      "text/plain": [
       "False"
      ]
     },
     "execution_count": 6,
     "metadata": {},
     "output_type": "execute_result"
    }
   ],
   "source": [
    " >>> s1 == s2"
   ]
  },
  {
   "cell_type": "code",
   "execution_count": 7,
   "id": "1341f1ce-0528-442d-b7fd-062a3d84fc0b",
   "metadata": {},
   "outputs": [
    {
     "data": {
      "text/plain": [
       "True"
      ]
     },
     "execution_count": 7,
     "metadata": {},
     "output_type": "execute_result"
    }
   ],
   "source": [
    ">>> nfc_equal(s1, s2)"
   ]
  },
  {
   "cell_type": "code",
   "execution_count": 8,
   "id": "78db7045-1dc3-475d-bb8d-1853606d4224",
   "metadata": {},
   "outputs": [
    {
     "data": {
      "text/plain": [
       "False"
      ]
     },
     "execution_count": 8,
     "metadata": {},
     "output_type": "execute_result"
    }
   ],
   "source": [
    ">>> nfc_equal('A', 'a')"
   ]
  },
  {
   "cell_type": "markdown",
   "id": "bff011b2-50bf-48f1-9963-848089e72361",
   "metadata": {},
   "source": [
    "#### Using Normal Form C with case folding:"
   ]
  },
  {
   "cell_type": "code",
   "execution_count": 9,
   "id": "20f3d2d6-f26f-4c68-a581-97fd45652c3d",
   "metadata": {},
   "outputs": [
    {
     "data": {
      "text/plain": [
       "False"
      ]
     },
     "execution_count": 9,
     "metadata": {},
     "output_type": "execute_result"
    }
   ],
   "source": [
    ">>> s3 = 'Straße'\n",
    ">>> s4 = 'strasse'\n",
    ">>> s3 == s4"
   ]
  },
  {
   "cell_type": "code",
   "execution_count": 10,
   "id": "fdc9130e-7471-4f1b-bcd3-3b166688fc22",
   "metadata": {},
   "outputs": [
    {
     "data": {
      "text/plain": [
       "False"
      ]
     },
     "execution_count": 10,
     "metadata": {},
     "output_type": "execute_result"
    }
   ],
   "source": [
    ">>> nfc_equal(s3, s4)"
   ]
  },
  {
   "cell_type": "code",
   "execution_count": 11,
   "id": "9b75ce63-0e6b-472f-9c70-7522fb97d28f",
   "metadata": {},
   "outputs": [
    {
     "data": {
      "text/plain": [
       "True"
      ]
     },
     "execution_count": 11,
     "metadata": {},
     "output_type": "execute_result"
    }
   ],
   "source": [
    ">>> fold_equal(s3, s4)"
   ]
  },
  {
   "cell_type": "code",
   "execution_count": 12,
   "id": "392e8649-9288-401f-983c-f5de18a95348",
   "metadata": {},
   "outputs": [
    {
     "data": {
      "text/plain": [
       "True"
      ]
     },
     "execution_count": 12,
     "metadata": {},
     "output_type": "execute_result"
    }
   ],
   "source": [
    ">>> fold_equal(s1, s2)"
   ]
  },
  {
   "cell_type": "code",
   "execution_count": 13,
   "id": "603eaa65-4228-465b-b054-ed94993d23ad",
   "metadata": {},
   "outputs": [
    {
     "data": {
      "text/plain": [
       "True"
      ]
     },
     "execution_count": 13,
     "metadata": {},
     "output_type": "execute_result"
    }
   ],
   "source": [
    ">>> fold_equal('A', 'a')"
   ]
  }
 ],
 "metadata": {
  "kernelspec": {
   "display_name": "Python 3 (ipykernel)",
   "language": "python",
   "name": "python3"
  },
  "language_info": {
   "codemirror_mode": {
    "name": "ipython",
    "version": 3
   },
   "file_extension": ".py",
   "mimetype": "text/x-python",
   "name": "python",
   "nbconvert_exporter": "python",
   "pygments_lexer": "ipython3",
   "version": "3.10.2"
  }
 },
 "nbformat": 4,
 "nbformat_minor": 5
}
