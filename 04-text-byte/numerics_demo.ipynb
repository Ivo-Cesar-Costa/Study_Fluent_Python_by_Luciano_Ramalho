{
 "cells": [
  {
   "cell_type": "code",
   "execution_count": 1,
   "id": "f0387ec5-4a02-4244-8bbd-f35a23c4fac9",
   "metadata": {},
   "outputs": [],
   "source": [
    "# BEGIN NUMERICS_DEMO\n",
    "import unicodedata\n",
    "import re"
   ]
  },
  {
   "cell_type": "code",
   "execution_count": 2,
   "id": "6daf0ffd-0027-4764-a1a3-23e445198aec",
   "metadata": {},
   "outputs": [],
   "source": [
    "re_digit = re.compile(r'\\d')"
   ]
  },
  {
   "cell_type": "code",
   "execution_count": 3,
   "id": "a9b94ef9-9c16-44bf-8e65-e72d614b82a5",
   "metadata": {},
   "outputs": [],
   "source": [
    "sample = '1\\xbc\\xb2\\u0969\\u136b\\u216b\\u2466\\u2480\\u3285'"
   ]
  },
  {
   "cell_type": "code",
   "execution_count": 4,
   "id": "287bf507-db41-468f-96b9-278b473ea8d4",
   "metadata": {},
   "outputs": [
    {
     "name": "stdout",
     "output_type": "stream",
     "text": [
      "U+0031\t  1   \tre_dig\tisdig\tisnum\t 1.00\tDIGIT ONE\n",
      "U+00bc\t  ¼   \t-\t-\tisnum\t 0.25\tVULGAR FRACTION ONE QUARTER\n",
      "U+00b2\t  ²   \t-\tisdig\tisnum\t 2.00\tSUPERSCRIPT TWO\n",
      "U+0969\t  ३   \tre_dig\tisdig\tisnum\t 3.00\tDEVANAGARI DIGIT THREE\n",
      "U+136b\t  ፫   \t-\tisdig\tisnum\t 3.00\tETHIOPIC DIGIT THREE\n",
      "U+216b\t  Ⅻ   \t-\t-\tisnum\t12.00\tROMAN NUMERAL TWELVE\n",
      "U+2466\t  ⑦   \t-\tisdig\tisnum\t 7.00\tCIRCLED DIGIT SEVEN\n",
      "U+2480\t  ⒀   \t-\t-\tisnum\t13.00\tPARENTHESIZED NUMBER THIRTEEN\n",
      "U+3285\t  ㊅   \t-\t-\tisnum\t 6.00\tCIRCLED IDEOGRAPH SIX\n"
     ]
    }
   ],
   "source": [
    "for char in sample:\n",
    "    print('U+%04x' % ord(char),                       # <1>\n",
    "          char.center(6),                             # <2>\n",
    "          're_dig' if re_digit.match(char) else '-',  # <3>\n",
    "          'isdig' if char.isdigit() else '-',         # <4>\n",
    "          'isnum' if char.isnumeric() else '-',       # <5>\n",
    "          format(unicodedata.numeric(char), '5.2f'),  # <6>\n",
    "          unicodedata.name(char),                     # <7>\n",
    "          sep='\\t')\n",
    "# END NUMERICS_DEMO"
   ]
  }
 ],
 "metadata": {
  "kernelspec": {
   "display_name": "Python 3 (ipykernel)",
   "language": "python",
   "name": "python3"
  },
  "language_info": {
   "codemirror_mode": {
    "name": "ipython",
    "version": 3
   },
   "file_extension": ".py",
   "mimetype": "text/x-python",
   "name": "python",
   "nbconvert_exporter": "python",
   "pygments_lexer": "ipython3",
   "version": "3.10.2"
  }
 },
 "nbformat": 4,
 "nbformat_minor": 5
}
