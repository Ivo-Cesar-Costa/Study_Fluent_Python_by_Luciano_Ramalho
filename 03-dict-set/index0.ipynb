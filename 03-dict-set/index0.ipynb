{
 "cells": [
  {
   "cell_type": "code",
   "execution_count": 1,
   "id": "95d8e179-556e-43fc-9f8a-5b125606ef98",
   "metadata": {},
   "outputs": [
    {
     "data": {
      "text/plain": [
       "'Build an index mapping word -> list of occurrences'"
      ]
     },
     "execution_count": 1,
     "metadata": {},
     "output_type": "execute_result"
    }
   ],
   "source": [
    "# adapted from Alex Martelli's example in \"Re-learning Python\"\n",
    "# http://www.aleax.it/Python/accu04_Relearn_Python_alex.pdf\n",
    "# (slide 41) Ex: lines-by-word file index\n",
    "\n",
    "# BEGIN INDEX0\n",
    "\"\"\"Build an index mapping word -> list of occurrences\"\"\""
   ]
  },
  {
   "cell_type": "code",
   "execution_count": 2,
   "id": "b43d312b-a8c2-4f24-87a7-aa45c810bd75",
   "metadata": {},
   "outputs": [],
   "source": [
    "import sys\n",
    "import re"
   ]
  },
  {
   "cell_type": "code",
   "execution_count": 3,
   "id": "885d4251-85f7-4353-b7b1-29b8a797b587",
   "metadata": {},
   "outputs": [],
   "source": [
    "WORD_RE = re.compile(r'\\w+')"
   ]
  },
  {
   "cell_type": "code",
   "execution_count": 4,
   "id": "12dbf1da-52e6-47fb-a0b7-c28fd3666eed",
   "metadata": {},
   "outputs": [],
   "source": [
    "index = {}\n",
    "with open(sys.argv[2], encoding='utf-8') as fp:\n",
    "    for line_no, line in enumerate(fp, 1):\n",
    "        for match in WORD_RE.finditer(line):\n",
    "            word = match.group()\n",
    "            column_no = match.start()+1\n",
    "            location = (line_no, column_no)\n",
    "            # this is ugly; coded like this to make a point\n",
    "            occurrences = index.get(word, [])  # <1>\n",
    "            occurrences.append(location)       # <2>\n",
    "            index[word] = occurrences          # <3>"
   ]
  },
  {
   "cell_type": "code",
   "execution_count": 5,
   "id": "51658eda-2415-4c07-9080-02cb6add2989",
   "metadata": {},
   "outputs": [
    {
     "name": "stdout",
     "output_type": "stream",
     "text": [
      "0 [(7, 14), (7, 16)]\n",
      "1 [(7, 18)]\n",
      "127 [(7, 10)]\n",
      "64904 [(2, 17)]\n",
      "64905 [(3, 17)]\n",
      "64906 [(4, 17)]\n",
      "64907 [(6, 14)]\n",
      "64908 [(5, 19)]\n",
      "ae3e661a [(8, 11)]\n",
      "b83c71b8e951565cc9ce5b87 [(8, 20)]\n",
      "control_port [(5, 4)]\n",
      "hb_port [(6, 4)]\n",
      "hmac [(10, 24)]\n",
      "iopub_port [(3, 4)]\n",
      "ip [(7, 4)]\n",
      "kernel_name [(11, 4)]\n",
      "key [(8, 4)]\n",
      "sha256 [(10, 29)]\n",
      "shell_port [(2, 4)]\n",
      "signature_scheme [(10, 4)]\n",
      "stdin_port [(4, 4)]\n",
      "tcp [(9, 17)]\n",
      "transport [(9, 4)]\n"
     ]
    }
   ],
   "source": [
    "# print in alphabetical order\n",
    "for word in sorted(index, key=str.upper):  # <4>\n",
    "    print(word, index[word])\n",
    "# END INDEX0"
   ]
  }
 ],
 "metadata": {
  "kernelspec": {
   "display_name": "Python 3 (ipykernel)",
   "language": "python",
   "name": "python3"
  },
  "language_info": {
   "codemirror_mode": {
    "name": "ipython",
    "version": 3
   },
   "file_extension": ".py",
   "mimetype": "text/x-python",
   "name": "python",
   "nbconvert_exporter": "python",
   "pygments_lexer": "ipython3",
   "version": "3.10.2"
  }
 },
 "nbformat": 4,
 "nbformat_minor": 5
}
