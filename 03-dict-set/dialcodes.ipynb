{
 "cells": [
  {
   "cell_type": "code",
   "execution_count": 1,
   "id": "1ab616b5-eebe-4fbc-b6d9-5f85f5babe85",
   "metadata": {},
   "outputs": [],
   "source": [
    "# BEGIN DIALCODES\n",
    "# dial codes of the top 10 most populous countries\n",
    "DIAL_CODES = [\n",
    "        (86, 'China'),\n",
    "        (91, 'India'),\n",
    "        (1, 'United States'),\n",
    "        (62, 'Indonesia'),\n",
    "        (55, 'Brazil'),\n",
    "        (92, 'Pakistan'),\n",
    "        (880, 'Bangladesh'),\n",
    "        (234, 'Nigeria'),\n",
    "        (7, 'Russia'),\n",
    "        (81, 'Japan'),\n",
    "    ]"
   ]
  },
  {
   "cell_type": "code",
   "execution_count": 2,
   "id": "9f7ff90e-7c27-4693-92cc-ff8295d8acd1",
   "metadata": {},
   "outputs": [
    {
     "data": {
      "text/plain": [
       "{86: 'China',\n",
       " 91: 'India',\n",
       " 1: 'United States',\n",
       " 62: 'Indonesia',\n",
       " 55: 'Brazil',\n",
       " 92: 'Pakistan',\n",
       " 880: 'Bangladesh',\n",
       " 234: 'Nigeria',\n",
       " 7: 'Russia',\n",
       " 81: 'Japan'}"
      ]
     },
     "execution_count": 2,
     "metadata": {},
     "output_type": "execute_result"
    }
   ],
   "source": [
    "d1 = dict(DIAL_CODES)  # <1>\n",
    "d1"
   ]
  },
  {
   "cell_type": "code",
   "execution_count": 3,
   "id": "a0218cee-62a7-4fb2-b2a7-a4a2917e6bf8",
   "metadata": {},
   "outputs": [
    {
     "name": "stdout",
     "output_type": "stream",
     "text": [
      "d1: dict_keys([86, 91, 1, 62, 55, 92, 880, 234, 7, 81])\n"
     ]
    }
   ],
   "source": [
    "print('d1:', d1.keys())"
   ]
  },
  {
   "cell_type": "code",
   "execution_count": 4,
   "id": "dc299f1b-7315-423e-ac45-4e59f9a574a8",
   "metadata": {},
   "outputs": [
    {
     "data": {
      "text/plain": [
       "{1: 'United States',\n",
       " 7: 'Russia',\n",
       " 55: 'Brazil',\n",
       " 62: 'Indonesia',\n",
       " 81: 'Japan',\n",
       " 86: 'China',\n",
       " 91: 'India',\n",
       " 92: 'Pakistan',\n",
       " 234: 'Nigeria',\n",
       " 880: 'Bangladesh'}"
      ]
     },
     "execution_count": 4,
     "metadata": {},
     "output_type": "execute_result"
    }
   ],
   "source": [
    "d2 = dict(sorted(DIAL_CODES))  # <2>\n",
    "d2"
   ]
  },
  {
   "cell_type": "code",
   "execution_count": 5,
   "id": "83fb481b-ac1a-4546-a391-f020aa3caba8",
   "metadata": {},
   "outputs": [
    {
     "name": "stdout",
     "output_type": "stream",
     "text": [
      "d2: dict_keys([1, 7, 55, 62, 81, 86, 91, 92, 234, 880])\n"
     ]
    }
   ],
   "source": [
    "print('d2:', d2.keys())"
   ]
  },
  {
   "cell_type": "code",
   "execution_count": 6,
   "id": "660e7c6f-4ed6-48d4-b4bb-7eeb22320817",
   "metadata": {},
   "outputs": [
    {
     "data": {
      "text/plain": [
       "{880: 'Bangladesh',\n",
       " 55: 'Brazil',\n",
       " 86: 'China',\n",
       " 91: 'India',\n",
       " 62: 'Indonesia',\n",
       " 81: 'Japan',\n",
       " 234: 'Nigeria',\n",
       " 92: 'Pakistan',\n",
       " 7: 'Russia',\n",
       " 1: 'United States'}"
      ]
     },
     "execution_count": 6,
     "metadata": {},
     "output_type": "execute_result"
    }
   ],
   "source": [
    "d3 = dict(sorted(DIAL_CODES, key=lambda x:x[1]))  # <3>\n",
    "d3"
   ]
  },
  {
   "cell_type": "code",
   "execution_count": 7,
   "id": "a02184ae-b002-41d7-8ec7-529ee494b1da",
   "metadata": {},
   "outputs": [
    {
     "name": "stdout",
     "output_type": "stream",
     "text": [
      "d3: dict_keys([880, 55, 86, 91, 62, 81, 234, 92, 7, 1])\n"
     ]
    }
   ],
   "source": [
    "print('d3:', d3.keys())"
   ]
  },
  {
   "cell_type": "code",
   "execution_count": 8,
   "id": "27eecb14-dcc6-42c9-8faf-5fa2d3d37eaa",
   "metadata": {},
   "outputs": [],
   "source": [
    "assert d1 == d2 and d2 == d3  # <4>"
   ]
  },
  {
   "cell_type": "code",
   "execution_count": 9,
   "id": "b8cbf297-d53a-432b-a734-61071be48b1d",
   "metadata": {},
   "outputs": [
    {
     "data": {
      "text/plain": [
       "'\\n# BEGIN DIALCODES_OUTPUT\\nd1: dict_keys([880, 1, 86, 55, 7, 234, 91, 92, 62, 81])\\nd2: dict_keys([880, 1, 91, 86, 81, 55, 234, 7, 92, 62])\\nd3: dict_keys([880, 81, 1, 86, 55, 7, 234, 91, 92, 62])\\n# END DIALCODES_OUTPUT\\n'"
      ]
     },
     "execution_count": 9,
     "metadata": {},
     "output_type": "execute_result"
    }
   ],
   "source": [
    "# END DIALCODES\n",
    "\"\"\"\n",
    "# BEGIN DIALCODES_OUTPUT\n",
    "d1: dict_keys([880, 1, 86, 55, 7, 234, 91, 92, 62, 81])\n",
    "d2: dict_keys([880, 1, 91, 86, 81, 55, 234, 7, 92, 62])\n",
    "d3: dict_keys([880, 81, 1, 86, 55, 7, 234, 91, 92, 62])\n",
    "# END DIALCODES_OUTPUT\n",
    "\"\"\""
   ]
  }
 ],
 "metadata": {
  "kernelspec": {
   "display_name": "Python 3 (ipykernel)",
   "language": "python",
   "name": "python3"
  },
  "language_info": {
   "codemirror_mode": {
    "name": "ipython",
    "version": 3
   },
   "file_extension": ".py",
   "mimetype": "text/x-python",
   "name": "python",
   "nbconvert_exporter": "python",
   "pygments_lexer": "ipython3",
   "version": "3.10.2"
  }
 },
 "nbformat": 4,
 "nbformat_minor": 5
}
