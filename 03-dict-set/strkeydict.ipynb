{
 "cells": [
  {
   "cell_type": "code",
   "execution_count": 1,
   "id": "ae11b05d-b3f1-47ec-9293-5c0ae76c8226",
   "metadata": {},
   "outputs": [],
   "source": [
    "# BEGIN STRKEYDICT\n",
    "\n",
    "import collections"
   ]
  },
  {
   "cell_type": "code",
   "execution_count": 2,
   "id": "f6be9355-df43-4fba-91ac-4148f1ecb132",
   "metadata": {},
   "outputs": [],
   "source": [
    "class StrKeyDict(collections.UserDict):  # <1>\n",
    "\n",
    "    def __missing__(self, key):  # <2>\n",
    "        if isinstance(key, str):\n",
    "            raise KeyError(key)\n",
    "        return self[str(key)]\n",
    "\n",
    "    def __contains__(self, key):\n",
    "        return str(key) in self.data  # <3>\n",
    "\n",
    "    def __setitem__(self, key, item):\n",
    "        self.data[str(key)] = item   # <4>\n",
    "\n",
    "# END STRKEYDICT"
   ]
  },
  {
   "cell_type": "markdown",
   "id": "54888e4e-33c7-4fa5-b57b-fa03dc5b4a17",
   "metadata": {},
   "source": [
    "#### StrKeyDict always converts non-string keys to `str`\n",
    "#### Test for initializer: keys are converted to `str`."
   ]
  },
  {
   "cell_type": "code",
   "execution_count": 3,
   "id": "6e8c9969-5541-44ae-a758-003ea2aa194d",
   "metadata": {},
   "outputs": [
    {
     "data": {
      "text/plain": [
       "{'2': 'two', '4': 'four'}"
      ]
     },
     "execution_count": 3,
     "metadata": {},
     "output_type": "execute_result"
    }
   ],
   "source": [
    "d = StrKeyDict([(2, 'two'), ('4', 'four')])\n",
    "d"
   ]
  },
  {
   "cell_type": "code",
   "execution_count": 4,
   "id": "594e8131-a339-45d7-a212-1bbca7002613",
   "metadata": {},
   "outputs": [
    {
     "data": {
      "text/plain": [
       "['2', '4']"
      ]
     },
     "execution_count": 4,
     "metadata": {},
     "output_type": "execute_result"
    }
   ],
   "source": [
    ">>> sorted(d.keys())"
   ]
  },
  {
   "cell_type": "markdown",
   "id": "129cc52d-83b9-4835-b92f-892c06f8d134",
   "metadata": {},
   "source": [
    "#### Tests for item retrieval using `d[key]` notation::"
   ]
  },
  {
   "cell_type": "code",
   "execution_count": 5,
   "id": "7b226a90-86b8-446e-97df-774ceac0b8a4",
   "metadata": {},
   "outputs": [
    {
     "data": {
      "text/plain": [
       "'two'"
      ]
     },
     "execution_count": 5,
     "metadata": {},
     "output_type": "execute_result"
    }
   ],
   "source": [
    ">>> d['2']"
   ]
  },
  {
   "cell_type": "code",
   "execution_count": 6,
   "id": "a2ccfcc8-b994-4f44-a871-732423ff0cc0",
   "metadata": {},
   "outputs": [
    {
     "data": {
      "text/plain": [
       "'four'"
      ]
     },
     "execution_count": 6,
     "metadata": {},
     "output_type": "execute_result"
    }
   ],
   "source": [
    ">>> d[4]"
   ]
  },
  {
   "cell_type": "code",
   "execution_count": 7,
   "id": "2ed42b3a-227e-428c-beeb-58592f4a1ec5",
   "metadata": {},
   "outputs": [],
   "source": [
    "# >>> d[1] # KeyError: '1'"
   ]
  },
  {
   "cell_type": "markdown",
   "id": "bc433174-6492-4b59-a6bd-648b45d6c222",
   "metadata": {},
   "source": [
    "#### Tests for item retrieval using `d.get(key)` notation::"
   ]
  },
  {
   "cell_type": "code",
   "execution_count": 8,
   "id": "723f2f25-c763-4f0e-84d7-edf00e602dfd",
   "metadata": {},
   "outputs": [
    {
     "data": {
      "text/plain": [
       "'two'"
      ]
     },
     "execution_count": 8,
     "metadata": {},
     "output_type": "execute_result"
    }
   ],
   "source": [
    ">>> d.get('2')"
   ]
  },
  {
   "cell_type": "code",
   "execution_count": 9,
   "id": "87350958-cfe5-48f4-acda-aa53251db27a",
   "metadata": {},
   "outputs": [
    {
     "data": {
      "text/plain": [
       "'four'"
      ]
     },
     "execution_count": 9,
     "metadata": {},
     "output_type": "execute_result"
    }
   ],
   "source": [
    ">>> d.get(4)"
   ]
  },
  {
   "cell_type": "code",
   "execution_count": 10,
   "id": "c3e2f508-c2b1-495d-b6ce-b9c5f57b2a55",
   "metadata": {},
   "outputs": [
    {
     "data": {
      "text/plain": [
       "'N/A'"
      ]
     },
     "execution_count": 10,
     "metadata": {},
     "output_type": "execute_result"
    }
   ],
   "source": [
    ">>> d.get(1, 'N/A')"
   ]
  },
  {
   "cell_type": "markdown",
   "id": "7bc3592f-2a9d-43d9-b2d2-3f57ac3bd3d7",
   "metadata": {},
   "source": [
    "#### Tests for the `in` operator::"
   ]
  },
  {
   "cell_type": "code",
   "execution_count": 11,
   "id": "2e4551a9-447f-48b9-bc74-fa0f692809b3",
   "metadata": {},
   "outputs": [
    {
     "data": {
      "text/plain": [
       "True"
      ]
     },
     "execution_count": 11,
     "metadata": {},
     "output_type": "execute_result"
    }
   ],
   "source": [
    ">>> 2 in d"
   ]
  },
  {
   "cell_type": "code",
   "execution_count": 12,
   "id": "4c3d3e48-d2c4-4021-960c-229b5c53e158",
   "metadata": {},
   "outputs": [
    {
     "data": {
      "text/plain": [
       "False"
      ]
     },
     "execution_count": 12,
     "metadata": {},
     "output_type": "execute_result"
    }
   ],
   "source": [
    ">>> 1 in d"
   ]
  },
  {
   "cell_type": "markdown",
   "id": "1a68bf7b-97bb-467e-80a8-10189b6a9156",
   "metadata": {},
   "source": [
    "#### Test for item assignment using non-string key::"
   ]
  },
  {
   "cell_type": "code",
   "execution_count": 13,
   "id": "3da5e9b9-2ad6-41e1-8046-8aa8224b1388",
   "metadata": {},
   "outputs": [],
   "source": [
    ">>> d[0] = 'zero'"
   ]
  },
  {
   "cell_type": "code",
   "execution_count": 14,
   "id": "3ecd06af-a661-481b-b8bb-f44984237ebf",
   "metadata": {},
   "outputs": [
    {
     "data": {
      "text/plain": [
       "'zero'"
      ]
     },
     "execution_count": 14,
     "metadata": {},
     "output_type": "execute_result"
    }
   ],
   "source": [
    ">>> d['0']"
   ]
  },
  {
   "cell_type": "markdown",
   "id": "466f306b-91e8-4ad6-97b5-53426651849f",
   "metadata": {},
   "source": [
    "#### Tests for update using a `dict` or a sequence of pairs::"
   ]
  },
  {
   "cell_type": "code",
   "execution_count": 15,
   "id": "c33a055b-c86d-4ae0-a7a3-904e1372e4aa",
   "metadata": {},
   "outputs": [
    {
     "data": {
      "text/plain": [
       "{'2': 'two', '4': 'four', '0': 'zero', '6': 'six', '8': 'eight'}"
      ]
     },
     "execution_count": 15,
     "metadata": {},
     "output_type": "execute_result"
    }
   ],
   "source": [
    ">>> d.update({6:'six', '8':'eight'})\n",
    "d"
   ]
  },
  {
   "cell_type": "code",
   "execution_count": 16,
   "id": "774c6cab-d4f1-4fee-9d1a-aebe0b2f1ba2",
   "metadata": {},
   "outputs": [
    {
     "data": {
      "text/plain": [
       "['0', '2', '4', '6', '8']"
      ]
     },
     "execution_count": 16,
     "metadata": {},
     "output_type": "execute_result"
    }
   ],
   "source": [
    ">>> sorted(d.keys())"
   ]
  },
  {
   "cell_type": "code",
   "execution_count": 17,
   "id": "26196099-95ad-4cf8-ac5c-02d20ab2d674",
   "metadata": {},
   "outputs": [
    {
     "data": {
      "text/plain": [
       "{'2': 'two', '4': 'four', '0': 'zero', '6': 'six', '8': 'eight', '10': 'ten', '12': 'twelve'}"
      ]
     },
     "execution_count": 17,
     "metadata": {},
     "output_type": "execute_result"
    }
   ],
   "source": [
    ">>> d.update([(10, 'ten'), ('12', 'twelve')])\n",
    "d"
   ]
  },
  {
   "cell_type": "code",
   "execution_count": 18,
   "id": "51af8ec2-2bbb-48d1-9b55-6b8033f4a97d",
   "metadata": {},
   "outputs": [
    {
     "data": {
      "text/plain": [
       "['0', '10', '12', '2', '4', '6', '8']"
      ]
     },
     "execution_count": 18,
     "metadata": {},
     "output_type": "execute_result"
    }
   ],
   "source": [
    ">>> sorted(d.keys())"
   ]
  },
  {
   "cell_type": "code",
   "execution_count": 19,
   "id": "5c7f29ba-cd0b-40d5-ad19-5df5ea2c89ba",
   "metadata": {},
   "outputs": [],
   "source": [
    "# d.update([1, 3, 5]) TypeError: cannot unpack non-iterable int object"
   ]
  }
 ],
 "metadata": {
  "kernelspec": {
   "display_name": "Python 3 (ipykernel)",
   "language": "python",
   "name": "python3"
  },
  "language_info": {
   "codemirror_mode": {
    "name": "ipython",
    "version": 3
   },
   "file_extension": ".py",
   "mimetype": "text/x-python",
   "name": "python",
   "nbconvert_exporter": "python",
   "pygments_lexer": "ipython3",
   "version": "3.10.2"
  }
 },
 "nbformat": 4,
 "nbformat_minor": 5
}
