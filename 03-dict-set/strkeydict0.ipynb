{
 "cells": [
  {
   "cell_type": "code",
   "execution_count": 1,
   "id": "d91a3964-22be-45cb-9133-3dc7866ebf7b",
   "metadata": {},
   "outputs": [],
   "source": [
    "# BEGIN STRKEYDICT0\n",
    "class StrKeyDict0(dict):  # <1>\n",
    "\n",
    "    def __missing__(self, key):\n",
    "        if isinstance(key, str):  # <2>\n",
    "            raise KeyError(key)\n",
    "        return self[str(key)]  # <3>\n",
    "\n",
    "    def get(self, key, default=None):\n",
    "        try:\n",
    "            return self[key]  # <4>\n",
    "        except KeyError:\n",
    "            return default  # <5>\n",
    "\n",
    "    def __contains__(self, key):\n",
    "        return key in self.keys() or str(key) in self.keys()  # <6>"
   ]
  },
  {
   "cell_type": "markdown",
   "id": "b57ef13a-83cf-403e-896b-1c4923a05101",
   "metadata": {},
   "source": [
    "#### \"\"\"StrKeyDict0 converts non-string keys to `str` on lookup\n",
    "#### BEGIN STRKEYDICT0_TESTS"
   ]
  },
  {
   "cell_type": "markdown",
   "id": "e04da62d-860b-4b64-b121-61a259cee15c",
   "metadata": {},
   "source": [
    "#### Tests for item retrieval using `d[key]` notation::"
   ]
  },
  {
   "cell_type": "code",
   "execution_count": 2,
   "id": "2e4aef38-7cc3-4cae-88c6-a92b2fc47904",
   "metadata": {},
   "outputs": [
    {
     "data": {
      "text/plain": [
       "{'2': 'two', '4': 'four'}"
      ]
     },
     "execution_count": 2,
     "metadata": {},
     "output_type": "execute_result"
    }
   ],
   "source": [
    ">>> d = StrKeyDict0([('2', 'two'), ('4', 'four')])\n",
    "d"
   ]
  },
  {
   "cell_type": "code",
   "execution_count": 3,
   "id": "f72aa546-3a6d-4f76-9833-7a59168f611b",
   "metadata": {},
   "outputs": [
    {
     "data": {
      "text/plain": [
       "'two'"
      ]
     },
     "execution_count": 3,
     "metadata": {},
     "output_type": "execute_result"
    }
   ],
   "source": [
    ">>> d['2']"
   ]
  },
  {
   "cell_type": "code",
   "execution_count": 4,
   "id": "9c4b2a1a-1682-4079-bcc3-efc1a59655a5",
   "metadata": {},
   "outputs": [
    {
     "data": {
      "text/plain": [
       "'four'"
      ]
     },
     "execution_count": 4,
     "metadata": {},
     "output_type": "execute_result"
    }
   ],
   "source": [
    ">>> d[4]"
   ]
  },
  {
   "cell_type": "code",
   "execution_count": 5,
   "id": "6e0183fc-225a-4814-ae9b-2a06422ceb22",
   "metadata": {},
   "outputs": [],
   "source": [
    "#>>> d[1] KeyError: '1'"
   ]
  },
  {
   "cell_type": "markdown",
   "id": "171502d7-a58f-4685-87d6-5d0028f20d02",
   "metadata": {},
   "source": [
    "#### Tests for item retrieval using `d.get(key)` notation::"
   ]
  },
  {
   "cell_type": "code",
   "execution_count": 6,
   "id": "e707b23a-9ffc-469d-bb26-ec12d7fdb743",
   "metadata": {},
   "outputs": [
    {
     "data": {
      "text/plain": [
       "'two'"
      ]
     },
     "execution_count": 6,
     "metadata": {},
     "output_type": "execute_result"
    }
   ],
   "source": [
    ">>> d.get('2')"
   ]
  },
  {
   "cell_type": "code",
   "execution_count": 7,
   "id": "a74b0972-2a4d-4539-9ef1-8d89f1f64b1f",
   "metadata": {},
   "outputs": [
    {
     "data": {
      "text/plain": [
       "'four'"
      ]
     },
     "execution_count": 7,
     "metadata": {},
     "output_type": "execute_result"
    }
   ],
   "source": [
    ">>> d.get(4)"
   ]
  },
  {
   "cell_type": "code",
   "execution_count": 8,
   "id": "68fc0f9e-c104-48a6-8d82-5799e8cd22b4",
   "metadata": {},
   "outputs": [
    {
     "data": {
      "text/plain": [
       "'N/A'"
      ]
     },
     "execution_count": 8,
     "metadata": {},
     "output_type": "execute_result"
    }
   ],
   "source": [
    ">>> d.get(1, 'N/A')"
   ]
  },
  {
   "cell_type": "markdown",
   "id": "9fb6e99d-cc47-44b1-9949-2df267dd1a6b",
   "metadata": {},
   "source": [
    "#### Tests for the `in` operator::"
   ]
  },
  {
   "cell_type": "code",
   "execution_count": 9,
   "id": "9784217e-1267-4c1f-8a27-9068622bf172",
   "metadata": {},
   "outputs": [
    {
     "data": {
      "text/plain": [
       "True"
      ]
     },
     "execution_count": 9,
     "metadata": {},
     "output_type": "execute_result"
    }
   ],
   "source": [
    ">>> 2 in d"
   ]
  },
  {
   "cell_type": "code",
   "execution_count": 10,
   "id": "6d39ebcb-1b86-43da-b3e5-698de0cea776",
   "metadata": {},
   "outputs": [
    {
     "data": {
      "text/plain": [
       "False"
      ]
     },
     "execution_count": 10,
     "metadata": {},
     "output_type": "execute_result"
    }
   ],
   "source": [
    ">>> 1 in d"
   ]
  },
  {
   "cell_type": "markdown",
   "id": "6c3b52a3-cd02-4afb-9684-18cf33b3a075",
   "metadata": {},
   "source": [
    "#### # END STRKEYDICT0_TESTS"
   ]
  }
 ],
 "metadata": {
  "kernelspec": {
   "display_name": "Python 3 (ipykernel)",
   "language": "python",
   "name": "python3"
  },
  "language_info": {
   "codemirror_mode": {
    "name": "ipython",
    "version": 3
   },
   "file_extension": ".py",
   "mimetype": "text/x-python",
   "name": "python",
   "nbconvert_exporter": "python",
   "pygments_lexer": "ipython3",
   "version": "3.10.2"
  }
 },
 "nbformat": 4,
 "nbformat_minor": 5
}
