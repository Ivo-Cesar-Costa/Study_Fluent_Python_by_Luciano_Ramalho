{
 "cells": [
  {
   "cell_type": "code",
   "execution_count": 1,
   "id": "c8138f0a-32ad-4a96-9f52-809efe2f2980",
   "metadata": {},
   "outputs": [
    {
     "data": {
      "text/plain": [
       "'Build an index mapping word -> list of occurrences'"
      ]
     },
     "execution_count": 1,
     "metadata": {},
     "output_type": "execute_result"
    }
   ],
   "source": [
    "# adapted from Alex Martelli's example in \"Re-learning Python\"\n",
    "# http://www.aleax.it/Python/accu04_Relearn_Python_alex.pdf\n",
    "# (slide 41) Ex: lines-by-word file index\n",
    "\n",
    "# BEGIN INDEX\n",
    "\"\"\"Build an index mapping word -> list of occurrences\"\"\""
   ]
  },
  {
   "cell_type": "code",
   "execution_count": 2,
   "id": "d55f6d38-c64e-4799-b108-27d26d4334ee",
   "metadata": {},
   "outputs": [],
   "source": [
    "import sys\n",
    "import re"
   ]
  },
  {
   "cell_type": "code",
   "execution_count": 3,
   "id": "e2ba2326-dd6e-4c9c-8ec1-d03ff5785cf7",
   "metadata": {},
   "outputs": [
    {
     "data": {
      "text/plain": [
       "re.compile(r'\\w+', re.UNICODE)"
      ]
     },
     "execution_count": 3,
     "metadata": {},
     "output_type": "execute_result"
    }
   ],
   "source": [
    "WORD_RE = re.compile(r'\\w+')\n",
    "WORD_RE"
   ]
  },
  {
   "cell_type": "code",
   "execution_count": 4,
   "id": "a3cf3e44-53d1-4754-9e50-e089a29a83b9",
   "metadata": {},
   "outputs": [],
   "source": [
    "index = {}"
   ]
  },
  {
   "cell_type": "code",
   "execution_count": 5,
   "id": "bc57e50b-00ea-4759-a530-14aed3ab910a",
   "metadata": {},
   "outputs": [],
   "source": [
    "with open(sys.argv[2], encoding='utf-8') as fp:\n",
    "    for line_no, line in enumerate(fp, 1):\n",
    "        for match in WORD_RE.finditer(line):\n",
    "            word = match.group()\n",
    "            column_no = match.start()+1\n",
    "            location = (line_no, column_no)\n",
    "            index.setdefault(word, []).append(location)  # <1>"
   ]
  },
  {
   "cell_type": "code",
   "execution_count": 6,
   "id": "1d7e403f-a042-4a6e-8123-9d6b05bfa9c3",
   "metadata": {},
   "outputs": [
    {
     "name": "stdout",
     "output_type": "stream",
     "text": [
      "0 [(7, 14), (7, 16)]\n",
      "1 [(7, 18)]\n",
      "127 [(7, 10)]\n",
      "64862 [(2, 17)]\n",
      "64863 [(3, 17)]\n",
      "64864 [(4, 17)]\n",
      "64865 [(6, 14)]\n",
      "64866 [(5, 19)]\n",
      "80724575 [(8, 11)]\n",
      "8524050a2687da7afacc5317 [(8, 20)]\n",
      "control_port [(5, 4)]\n",
      "hb_port [(6, 4)]\n",
      "hmac [(10, 24)]\n",
      "iopub_port [(3, 4)]\n",
      "ip [(7, 4)]\n",
      "kernel_name [(11, 4)]\n",
      "key [(8, 4)]\n",
      "sha256 [(10, 29)]\n",
      "shell_port [(2, 4)]\n",
      "signature_scheme [(10, 4)]\n",
      "stdin_port [(4, 4)]\n",
      "tcp [(9, 17)]\n",
      "transport [(9, 4)]\n"
     ]
    }
   ],
   "source": [
    "# print in alphabetical order\n",
    "for word in sorted(index, key=str.upper):\n",
    "    print(word, index[word])\n",
    "# END INDEX"
   ]
  }
 ],
 "metadata": {
  "kernelspec": {
   "display_name": "Python 3 (ipykernel)",
   "language": "python",
   "name": "python3"
  },
  "language_info": {
   "codemirror_mode": {
    "name": "ipython",
    "version": 3
   },
   "file_extension": ".py",
   "mimetype": "text/x-python",
   "name": "python",
   "nbconvert_exporter": "python",
   "pygments_lexer": "ipython3",
   "version": "3.10.2"
  }
 },
 "nbformat": 4,
 "nbformat_minor": 5
}
