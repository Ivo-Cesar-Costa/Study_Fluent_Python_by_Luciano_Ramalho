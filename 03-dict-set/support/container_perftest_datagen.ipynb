{
 "cells": [
  {
   "cell_type": "code",
   "execution_count": 1,
   "id": "8bb430ab-ca64-4386-8413-e485fe2a1be8",
   "metadata": {},
   "outputs": [
    {
     "data": {
      "text/plain": [
       "'\\nGenerate data for container performance test\\n'"
      ]
     },
     "execution_count": 1,
     "metadata": {},
     "output_type": "execute_result"
    }
   ],
   "source": [
    "\"\"\"\n",
    "Generate data for container performance test\n",
    "\"\"\""
   ]
  },
  {
   "cell_type": "code",
   "execution_count": 2,
   "id": "3bc79524-91ec-46e2-abe5-4c5f02045cc4",
   "metadata": {},
   "outputs": [],
   "source": [
    "import random\n",
    "import array"
   ]
  },
  {
   "cell_type": "code",
   "execution_count": 3,
   "id": "32b75d0d-178b-48bd-8381-1f742ea9082b",
   "metadata": {},
   "outputs": [],
   "source": [
    "MAX_EXPONENT = 7\n",
    "HAYSTACK_LEN = 10 ** MAX_EXPONENT\n",
    "NEEDLES_LEN = 10 ** (MAX_EXPONENT - 1)\n",
    "SAMPLE_LEN = HAYSTACK_LEN + NEEDLES_LEN // 2"
   ]
  },
  {
   "cell_type": "code",
   "execution_count": 4,
   "id": "a5ca9459-7449-4061-8e55-1c08ccb056d9",
   "metadata": {},
   "outputs": [
    {
     "data": {
      "text/plain": [
       "(10000000, 1000000, 10500000)"
      ]
     },
     "execution_count": 4,
     "metadata": {},
     "output_type": "execute_result"
    }
   ],
   "source": [
    "HAYSTACK_LEN, NEEDLES_LEN, SAMPLE_LEN"
   ]
  },
  {
   "cell_type": "code",
   "execution_count": 5,
   "id": "9d36db2d-7c57-4227-9e8a-aab8841738b5",
   "metadata": {},
   "outputs": [
    {
     "data": {
      "text/plain": [
       "array('d')"
      ]
     },
     "execution_count": 5,
     "metadata": {},
     "output_type": "execute_result"
    }
   ],
   "source": [
    "needles = array.array('d')\n",
    "needles"
   ]
  },
  {
   "cell_type": "code",
   "execution_count": 6,
   "id": "fd296ac0-83f7-47e6-aebf-f7e0596bee4f",
   "metadata": {},
   "outputs": [],
   "source": [
    "sample = {1/random.random() for i in range(SAMPLE_LEN)}"
   ]
  },
  {
   "cell_type": "code",
   "execution_count": 7,
   "id": "65b2e96f-405c-44b5-a8e1-7401bf949bae",
   "metadata": {},
   "outputs": [
    {
     "data": {
      "text/plain": [
       "10499999"
      ]
     },
     "execution_count": 7,
     "metadata": {},
     "output_type": "execute_result"
    }
   ],
   "source": [
    "len(sample)"
   ]
  },
  {
   "cell_type": "code",
   "execution_count": 8,
   "id": "55cf0f5a-fde6-4c65-8df8-3b52b2778fa1",
   "metadata": {},
   "outputs": [
    {
     "name": "stdout",
     "output_type": "stream",
     "text": [
      "initial sample: 10499999 elements\n"
     ]
    }
   ],
   "source": [
    "print('initial sample: %d elements' % len(sample))"
   ]
  },
  {
   "cell_type": "code",
   "execution_count": 9,
   "id": "32056eda-de8b-4673-96bc-7345d00d0169",
   "metadata": {},
   "outputs": [],
   "source": [
    "# complete sample, in case duplicate random numbers were discarded\n",
    "while len(sample) < SAMPLE_LEN:\n",
    "    sample.add(1/random.random())"
   ]
  },
  {
   "cell_type": "code",
   "execution_count": 10,
   "id": "1e8ffbf7-e374-4b71-93b1-399fe935ebbb",
   "metadata": {},
   "outputs": [
    {
     "name": "stdout",
     "output_type": "stream",
     "text": [
      "complete sample: 10500000 elements\n"
     ]
    }
   ],
   "source": [
    "print('complete sample: %d elements' % len(sample))"
   ]
  },
  {
   "cell_type": "code",
   "execution_count": 11,
   "id": "a1cfcede-943c-459c-8b1f-d74787978dd1",
   "metadata": {},
   "outputs": [],
   "source": [
    "sample = array.array('d', sample)"
   ]
  },
  {
   "cell_type": "code",
   "execution_count": 12,
   "id": "3142eff4-3d68-4c9a-a0e4-50d64cedaeb4",
   "metadata": {},
   "outputs": [
    {
     "data": {
      "text/plain": [
       "10500000"
      ]
     },
     "execution_count": 12,
     "metadata": {},
     "output_type": "execute_result"
    }
   ],
   "source": [
    "len(sample)"
   ]
  },
  {
   "cell_type": "code",
   "execution_count": 13,
   "id": "3645e0a2-9348-4797-baec-818a6c4d8ac4",
   "metadata": {},
   "outputs": [],
   "source": [
    "random.shuffle(sample)"
   ]
  },
  {
   "cell_type": "code",
   "execution_count": 14,
   "id": "ecb66b2a-38b6-40a8-9e63-9d68690f9eab",
   "metadata": {},
   "outputs": [],
   "source": [
    "not_selected = sample[:NEEDLES_LEN // 2]"
   ]
  },
  {
   "cell_type": "code",
   "execution_count": 15,
   "id": "4d452d0e-7ee6-4138-be7b-b0251090d4f3",
   "metadata": {},
   "outputs": [
    {
     "name": "stdout",
     "output_type": "stream",
     "text": [
      "not selected: 500000 samples\n"
     ]
    }
   ],
   "source": [
    "print('not selected: %d samples' % len(not_selected))"
   ]
  },
  {
   "cell_type": "code",
   "execution_count": 16,
   "id": "f7f91883-e434-4847-ba3a-bd2483e3ef53",
   "metadata": {},
   "outputs": [
    {
     "name": "stdout",
     "output_type": "stream",
     "text": [
      "  writing not_selected.arr\n"
     ]
    }
   ],
   "source": [
    "print('  writing not_selected.arr')"
   ]
  },
  {
   "cell_type": "code",
   "execution_count": 17,
   "id": "32d993f5-071a-4890-9214-4bb77538c0d3",
   "metadata": {},
   "outputs": [],
   "source": [
    "with open('not_selected.arr', 'wb') as fp:\n",
    "    not_selected.tofile(fp)"
   ]
  },
  {
   "cell_type": "code",
   "execution_count": 18,
   "id": "81bb885d-e97e-4748-9f5b-af3fbff8451d",
   "metadata": {},
   "outputs": [],
   "source": [
    "selected = sample[NEEDLES_LEN // 2:]"
   ]
  },
  {
   "cell_type": "code",
   "execution_count": 19,
   "id": "00095f09-1a7d-43ad-9ac3-e3b59b83985f",
   "metadata": {},
   "outputs": [
    {
     "name": "stdout",
     "output_type": "stream",
     "text": [
      "selected: 10000000 samples\n"
     ]
    }
   ],
   "source": [
    "print('selected: %d samples' % len(selected))"
   ]
  },
  {
   "cell_type": "code",
   "execution_count": 20,
   "id": "a0d89f46-ae47-4728-b259-041f8d54953a",
   "metadata": {},
   "outputs": [
    {
     "name": "stdout",
     "output_type": "stream",
     "text": [
      "  writing selected.arr\n"
     ]
    }
   ],
   "source": [
    "print('  writing selected.arr')"
   ]
  },
  {
   "cell_type": "code",
   "execution_count": 21,
   "id": "0564cc8b-8961-4dd5-9a00-82bfec2e720b",
   "metadata": {},
   "outputs": [],
   "source": [
    "with open('selected.arr', 'wb') as fp:\n",
    "    selected.tofile(fp)"
   ]
  }
 ],
 "metadata": {
  "kernelspec": {
   "display_name": "Python 3 (ipykernel)",
   "language": "python",
   "name": "python3"
  },
  "language_info": {
   "codemirror_mode": {
    "name": "ipython",
    "version": 3
   },
   "file_extension": ".py",
   "mimetype": "text/x-python",
   "name": "python",
   "nbconvert_exporter": "python",
   "pygments_lexer": "ipython3",
   "version": "3.10.2"
  }
 },
 "nbformat": 4,
 "nbformat_minor": 5
}
