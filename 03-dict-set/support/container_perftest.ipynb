{
 "cells": [
  {
   "cell_type": "code",
   "execution_count": 3,
   "id": "0ab161ee-277b-4f61-8db3-d1f38d9ea5ed",
   "metadata": {},
   "outputs": [
    {
     "data": {
      "text/plain": [
       "'\\nContainer ``in`` operator performance test\\n'"
      ]
     },
     "execution_count": 3,
     "metadata": {},
     "output_type": "execute_result"
    }
   ],
   "source": [
    "\"\"\"\n",
    "Container ``in`` operator performance test\n",
    "\"\"\""
   ]
  },
  {
   "cell_type": "code",
   "execution_count": 2,
   "id": "c1033827-b6f9-4b19-b277-06f489f4d71f",
   "metadata": {},
   "outputs": [],
   "source": [
    "import sys\n",
    "import timeit"
   ]
  },
  {
   "cell_type": "code",
   "execution_count": 3,
   "id": "11083306-effa-4d5e-bb9c-dee1a925d532",
   "metadata": {},
   "outputs": [],
   "source": [
    "SETUP = '''\n",
    "import array\n",
    "selected = array.array('d')\n",
    "with open('selected.arr', 'rb') as fp:\n",
    "    selected.fromfile(fp, {size})\n",
    "if {container_type} is dict:\n",
    "    haystack = dict.fromkeys(selected, 1)\n",
    "else:\n",
    "    haystack = {container_type}(selected)\n",
    "if {verbose}:\n",
    "    print(type(haystack), end='  ')\n",
    "    print('haystack: %10d' % len(haystack), end='  ')\n",
    "needles = array.array('d')\n",
    "with open('not_selected.arr', 'rb') as fp:\n",
    "    needles.fromfile(fp, 500)\n",
    "needles.extend(selected[::{size}//500])\n",
    "if {verbose}:\n",
    "    print(' needles: %10d' % len(needles), end='  ')\n",
    "'''"
   ]
  },
  {
   "cell_type": "code",
   "execution_count": 4,
   "id": "93baf88b-9b09-4dd5-8114-e4f113d848a2",
   "metadata": {},
   "outputs": [],
   "source": [
    "TEST = '''\n",
    "found = 0\n",
    "for n in needles:\n",
    "    if n in haystack:\n",
    "        found += 1\n",
    "if {verbose}:\n",
    "    print('  found: %10d' % found)\n",
    "'''"
   ]
  },
  {
   "cell_type": "code",
   "execution_count": 5,
   "id": "dc8a0aac-d6ab-4044-8384-25c8edd49bb4",
   "metadata": {},
   "outputs": [],
   "source": [
    "def test(container_type, verbose):\n",
    "    MAX_EXPONENT = 7\n",
    "    for n in range(3, MAX_EXPONENT + 1):\n",
    "        size = 10**n\n",
    "        setup = SETUP.format(container_type=container_type,\n",
    "                             size=size, verbose=verbose)\n",
    "        test = TEST.format(verbose=verbose)\n",
    "        tt = timeit.repeat(stmt=test, setup=setup, repeat=5, number=1)\n",
    "        print('|{:{}d}|{:f}'.format(size, MAX_EXPONENT + 1, min(tt)))"
   ]
  },
  {
   "cell_type": "code",
   "execution_count": 6,
   "id": "787cd5c2-151b-4c75-bfd4-16f73ab4901b",
   "metadata": {},
   "outputs": [
    {
     "name": "stdout",
     "output_type": "stream",
     "text": [
      "Usage: C:\\Users\\Ivo\\AppData\\Local\\Programs\\Python\\Python310\\lib\\site-packages\\ipykernel_launcher.py <container_type>\n"
     ]
    }
   ],
   "source": [
    "if __name__=='__main__':\n",
    "    if '-v' in sys.argv:\n",
    "        sys.argv.remove('-v')\n",
    "        verbose = True\n",
    "    else:\n",
    "        verbose = False\n",
    "    if len(sys.argv) != 2:\n",
    "        print('Usage: %s <container_type>' % sys.argv[0])\n",
    "    else:\n",
    "        test(sys.argv[1], verbose)"
   ]
  },
  {
   "cell_type": "code",
   "execution_count": null,
   "id": "13679437-8e34-4bd0-a9f3-1e3bf585d3e7",
   "metadata": {},
   "outputs": [],
   "source": []
  },
  {
   "cell_type": "code",
   "execution_count": null,
   "id": "9dc7c2de-92d7-480c-ba56-7b10f06cb5e4",
   "metadata": {},
   "outputs": [],
   "source": []
  }
 ],
 "metadata": {
  "kernelspec": {
   "display_name": "Python 3 (ipykernel)",
   "language": "python",
   "name": "python3"
  },
  "language_info": {
   "codemirror_mode": {
    "name": "ipython",
    "version": 3
   },
   "file_extension": ".py",
   "mimetype": "text/x-python",
   "name": "python",
   "nbconvert_exporter": "python",
   "pygments_lexer": "ipython3",
   "version": "3.10.2"
  }
 },
 "nbformat": 4,
 "nbformat_minor": 5
}
