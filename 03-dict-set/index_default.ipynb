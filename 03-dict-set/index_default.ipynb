{
 "cells": [
  {
   "cell_type": "code",
   "execution_count": 1,
   "id": "acd35be3-2486-450f-9d3b-32d04504c79d",
   "metadata": {},
   "outputs": [
    {
     "data": {
      "text/plain": [
       "'Build an index mapping word -> list of occurrences'"
      ]
     },
     "execution_count": 1,
     "metadata": {},
     "output_type": "execute_result"
    }
   ],
   "source": [
    "# adapted from Alex Martelli's example in \"Re-learning Python\"\n",
    "# http://www.aleax.it/Python/accu04_Relearn_Python_alex.pdf\n",
    "# (slide 41) Ex: lines-by-word file index\n",
    "\n",
    "# BEGIN INDEX_DEFAULT\n",
    "\"\"\"Build an index mapping word -> list of occurrences\"\"\""
   ]
  },
  {
   "cell_type": "code",
   "execution_count": 2,
   "id": "229d666a-2726-4a74-b1b0-639d88e6f62c",
   "metadata": {},
   "outputs": [],
   "source": [
    "import sys\n",
    "import re\n",
    "import collections"
   ]
  },
  {
   "cell_type": "code",
   "execution_count": 3,
   "id": "6ca982f0-f465-40bd-9db8-064f0665cf8b",
   "metadata": {},
   "outputs": [],
   "source": [
    "WORD_RE = re.compile(r'\\w+')"
   ]
  },
  {
   "cell_type": "code",
   "execution_count": 4,
   "id": "566f2feb-4e42-4870-a7a8-19de705452db",
   "metadata": {},
   "outputs": [],
   "source": [
    "index = collections.defaultdict(list)     # <1>\n",
    "with open(sys.argv[2], encoding='utf-8') as fp:\n",
    "    for line_no, line in enumerate(fp, 1):\n",
    "        for match in WORD_RE.finditer(line):\n",
    "            word = match.group()\n",
    "            column_no = match.start()+1\n",
    "            location = (line_no, column_no)\n",
    "            index[word].append(location)  # <2>"
   ]
  },
  {
   "cell_type": "code",
   "execution_count": 5,
   "id": "f697a003-39b5-4728-8b00-173d4c984fc9",
   "metadata": {},
   "outputs": [
    {
     "name": "stdout",
     "output_type": "stream",
     "text": [
      "0 [(7, 14), (7, 16)]\n",
      "1 [(7, 18)]\n",
      "127 [(7, 10)]\n",
      "64818 [(2, 17)]\n",
      "64819 [(3, 17)]\n",
      "64820 [(4, 17)]\n",
      "64821 [(6, 14)]\n",
      "64822 [(5, 19)]\n",
      "6daf6b657e8acfa601b47674 [(8, 20)]\n",
      "7c8e761e [(8, 11)]\n",
      "control_port [(5, 4)]\n",
      "hb_port [(6, 4)]\n",
      "hmac [(10, 24)]\n",
      "iopub_port [(3, 4)]\n",
      "ip [(7, 4)]\n",
      "kernel_name [(11, 4)]\n",
      "key [(8, 4)]\n",
      "sha256 [(10, 29)]\n",
      "shell_port [(2, 4)]\n",
      "signature_scheme [(10, 4)]\n",
      "stdin_port [(4, 4)]\n",
      "tcp [(9, 17)]\n",
      "transport [(9, 4)]\n"
     ]
    }
   ],
   "source": [
    "# print in alphabetical order\n",
    "for word in sorted(index, key=str.upper):\n",
    "    print(word, index[word])\n",
    "# END INDEX_DEFAULT"
   ]
  }
 ],
 "metadata": {
  "kernelspec": {
   "display_name": "Python 3 (ipykernel)",
   "language": "python",
   "name": "python3"
  },
  "language_info": {
   "codemirror_mode": {
    "name": "ipython",
    "version": 3
   },
   "file_extension": ".py",
   "mimetype": "text/x-python",
   "name": "python",
   "nbconvert_exporter": "python",
   "pygments_lexer": "ipython3",
   "version": "3.10.2"
  }
 },
 "nbformat": 4,
 "nbformat_minor": 5
}
