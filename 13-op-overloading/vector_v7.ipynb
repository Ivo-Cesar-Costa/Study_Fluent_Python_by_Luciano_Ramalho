{
 "cells": [
  {
   "cell_type": "code",
   "execution_count": 1,
   "id": "28d0f473-a8cc-4ed8-987c-051a41536a91",
   "metadata": {},
   "outputs": [],
   "source": [
    "from array import array\n",
    "import reprlib\n",
    "import math\n",
    "import numbers\n",
    "import functools\n",
    "import operator\n",
    "import itertools"
   ]
  },
  {
   "cell_type": "code",
   "execution_count": 2,
   "id": "13830423-b676-48f1-8826-4f1c433b2ee8",
   "metadata": {},
   "outputs": [],
   "source": [
    "class Vector:\n",
    "    typecode = 'd'\n",
    "\n",
    "    def __init__(self, components):\n",
    "        self._components = array(self.typecode, components)\n",
    "\n",
    "    def __iter__(self):\n",
    "        return iter(self._components)\n",
    "\n",
    "    def __repr__(self):\n",
    "        components = reprlib.repr(self._components)\n",
    "        components = components[components.find('['):-1]\n",
    "        return 'Vector({})'.format(components)\n",
    "\n",
    "    def __str__(self):\n",
    "        return str(tuple(self))\n",
    "\n",
    "    def __bytes__(self):\n",
    "        return (bytes([ord(self.typecode)]) +\n",
    "                bytes(self._components))\n",
    "\n",
    "    def __eq__(self, other):\n",
    "        return (len(self) == len(other) and\n",
    "                all(a == b for a, b in zip(self, other)))\n",
    "\n",
    "    def __hash__(self):\n",
    "        hashes = (hash(x) for x in self)\n",
    "        return functools.reduce(operator.xor, hashes, 0)\n",
    "\n",
    "    def __abs__(self):\n",
    "        return math.sqrt(sum(x * x for x in self))\n",
    "\n",
    "    def __neg__(self):\n",
    "        return Vector(-x for x in self)\n",
    "\n",
    "    def __pos__(self):\n",
    "        return Vector(self)\n",
    "\n",
    "    def __bool__(self):\n",
    "        return bool(abs(self))\n",
    "\n",
    "    def __len__(self):\n",
    "        return len(self._components)\n",
    "\n",
    "    def __getitem__(self, index):\n",
    "        cls = type(self)\n",
    "        if isinstance(index, slice):\n",
    "            return cls(self._components[index])\n",
    "        elif isinstance(index, numbers.Integral):\n",
    "            return self._components[index]\n",
    "        else:\n",
    "            msg = '{.__name__} indices must be integers'\n",
    "            raise TypeError(msg.format(cls))\n",
    "\n",
    "    shortcut_names = 'xyzt'\n",
    "\n",
    "    def __getattr__(self, name):\n",
    "        cls = type(self)\n",
    "        if len(name) == 1:\n",
    "            pos = cls.shortcut_names.find(name)\n",
    "            if 0 <= pos < len(self._components):\n",
    "                return self._components[pos]\n",
    "        msg = '{.__name__!r} object has no attribute {!r}'\n",
    "        raise AttributeError(msg.format(cls, name))\n",
    "\n",
    "    def angle(self, n):\n",
    "        r = math.sqrt(sum(x * x for x in self[n:]))\n",
    "        a = math.atan2(r, self[n-1])\n",
    "        if (n == len(self) - 1) and (self[-1] < 0):\n",
    "            return math.pi * 2 - a\n",
    "        else:\n",
    "            return a\n",
    "\n",
    "    def angles(self):\n",
    "        return (self.angle(n) for n in range(1, len(self)))\n",
    "\n",
    "    def __format__(self, fmt_spec=''):\n",
    "        if fmt_spec.endswith('h'):  # hyperspherical coordinates\n",
    "            fmt_spec = fmt_spec[:-1]\n",
    "            coords = itertools.chain([abs(self)],\n",
    "                                     self.angles())\n",
    "            outer_fmt = '<{}>'\n",
    "        else:\n",
    "            coords = self\n",
    "            outer_fmt = '({})'\n",
    "        components = (format(c, fmt_spec) for c in coords)\n",
    "        return outer_fmt.format(', '.join(components))\n",
    "\n",
    "    @classmethod\n",
    "    def frombytes(cls, octets):\n",
    "        typecode = chr(octets[0])\n",
    "        memv = memoryview(octets[1:]).cast(typecode)\n",
    "        return cls(memv)\n",
    "\n",
    "    def __add__(self, other):\n",
    "        try:\n",
    "            pairs = itertools.zip_longest(self, other, fillvalue=0.0)\n",
    "            return Vector(a + b for a, b in pairs)\n",
    "        except TypeError:\n",
    "            return NotImplemented\n",
    "\n",
    "    def __radd__(self, other):\n",
    "        return self + other\n",
    "\n",
    "    def __mul__(self, scalar):\n",
    "        if isinstance(scalar, numbers.Real):\n",
    "            return Vector(n * scalar for n in self)\n",
    "        else:\n",
    "            return NotImplemented\n",
    "\n",
    "    def __rmul__(self, scalar):\n",
    "        return self * scalar"
   ]
  },
  {
   "cell_type": "markdown",
   "id": "88e0013c-8488-4f00-9a42-bb3511b5e408",
   "metadata": {},
   "source": [
    "#### A multi-dimensional ``Vector`` class, take 7: operator ``*``\n",
    "A ``Vector`` is built from an iterable of numbers::"
   ]
  },
  {
   "cell_type": "code",
   "execution_count": 3,
   "id": "3f2be142-8036-4e87-b2c7-79f9f67aa6de",
   "metadata": {},
   "outputs": [
    {
     "data": {
      "text/plain": [
       "Vector([3.1, 4.2])"
      ]
     },
     "execution_count": 3,
     "metadata": {},
     "output_type": "execute_result"
    }
   ],
   "source": [
    ">>> Vector([3.1, 4.2])"
   ]
  },
  {
   "cell_type": "code",
   "execution_count": 4,
   "id": "8e8f5ea1-f826-4a3f-b532-4ab3fdc5ee0f",
   "metadata": {},
   "outputs": [
    {
     "data": {
      "text/plain": [
       "Vector([3.0, 4.0, 5.0])"
      ]
     },
     "execution_count": 4,
     "metadata": {},
     "output_type": "execute_result"
    }
   ],
   "source": [
    ">>> Vector((3, 4, 5))"
   ]
  },
  {
   "cell_type": "code",
   "execution_count": 5,
   "id": "db121501-4a24-489d-bc89-12fea60accd1",
   "metadata": {},
   "outputs": [
    {
     "data": {
      "text/plain": [
       "Vector([0.0, 1.0, 2.0, 3.0, 4.0, ...])"
      ]
     },
     "execution_count": 5,
     "metadata": {},
     "output_type": "execute_result"
    }
   ],
   "source": [
    ">>> Vector(range(10))"
   ]
  },
  {
   "cell_type": "markdown",
   "id": "7258d793-11ac-4ef6-ad39-79a5e09f0ba9",
   "metadata": {},
   "source": [
    "#### Tests with 2-dimensions (same results as ``vector2d_v1.py``)::"
   ]
  },
  {
   "cell_type": "code",
   "execution_count": 6,
   "id": "29accd3b-de11-419e-bcb7-e8ae6a1cad50",
   "metadata": {},
   "outputs": [
    {
     "data": {
      "text/plain": [
       "(3.0, 4.0)"
      ]
     },
     "execution_count": 6,
     "metadata": {},
     "output_type": "execute_result"
    }
   ],
   "source": [
    ">>> v1 = Vector([3, 4])\n",
    ">>> x, y = v1\n",
    ">>> x, y"
   ]
  },
  {
   "cell_type": "code",
   "execution_count": 7,
   "id": "c1bc72ac-ea9f-47d8-ae35-954ad59dd84d",
   "metadata": {},
   "outputs": [
    {
     "data": {
      "text/plain": [
       "Vector([3.0, 4.0])"
      ]
     },
     "execution_count": 7,
     "metadata": {},
     "output_type": "execute_result"
    }
   ],
   "source": [
    ">>> v1"
   ]
  },
  {
   "cell_type": "code",
   "execution_count": 8,
   "id": "ef3b718a-a3d9-4409-befb-8b494d0cbf84",
   "metadata": {},
   "outputs": [
    {
     "data": {
      "text/plain": [
       "True"
      ]
     },
     "execution_count": 8,
     "metadata": {},
     "output_type": "execute_result"
    }
   ],
   "source": [
    ">>> v1_clone = eval(repr(v1))\n",
    ">>> v1 == v1_clone"
   ]
  },
  {
   "cell_type": "code",
   "execution_count": 9,
   "id": "5c0ec166-d5ad-4dd7-89e1-1dad2780ba6d",
   "metadata": {},
   "outputs": [
    {
     "name": "stdout",
     "output_type": "stream",
     "text": [
      "(3.0, 4.0)\n"
     ]
    }
   ],
   "source": [
    ">>> print(v1)"
   ]
  },
  {
   "cell_type": "code",
   "execution_count": 10,
   "id": "a60c7745-e86e-4623-821a-8d4b355d9947",
   "metadata": {},
   "outputs": [
    {
     "data": {
      "text/plain": [
       "b'd\\x00\\x00\\x00\\x00\\x00\\x00\\x08@\\x00\\x00\\x00\\x00\\x00\\x00\\x10@'"
      ]
     },
     "execution_count": 10,
     "metadata": {},
     "output_type": "execute_result"
    }
   ],
   "source": [
    ">>> octets = bytes(v1)\n",
    ">>> octets"
   ]
  },
  {
   "cell_type": "code",
   "execution_count": 11,
   "id": "8de9b77e-0f86-427c-854d-af2169daeb45",
   "metadata": {},
   "outputs": [
    {
     "data": {
      "text/plain": [
       "5.0"
      ]
     },
     "execution_count": 11,
     "metadata": {},
     "output_type": "execute_result"
    }
   ],
   "source": [
    ">>> abs(v1)"
   ]
  },
  {
   "cell_type": "code",
   "execution_count": 12,
   "id": "75f0b4f8-d461-44df-927e-35ac0c223075",
   "metadata": {},
   "outputs": [
    {
     "data": {
      "text/plain": [
       "(True, False)"
      ]
     },
     "execution_count": 12,
     "metadata": {},
     "output_type": "execute_result"
    }
   ],
   "source": [
    ">>> bool(v1), bool(Vector([0, 0]))"
   ]
  },
  {
   "cell_type": "markdown",
   "id": "cfc57e83-3bc1-4cfb-a093-174eb21faa88",
   "metadata": {},
   "source": [
    "#### Test of ``.frombytes()`` class method:"
   ]
  },
  {
   "cell_type": "code",
   "execution_count": 13,
   "id": "e5eca227-f211-43df-8f66-96724a773c93",
   "metadata": {},
   "outputs": [
    {
     "data": {
      "text/plain": [
       "Vector([3.0, 4.0])"
      ]
     },
     "execution_count": 13,
     "metadata": {},
     "output_type": "execute_result"
    }
   ],
   "source": [
    ">>> v1_clone = Vector.frombytes(bytes(v1))\n",
    ">>> v1_clone"
   ]
  },
  {
   "cell_type": "code",
   "execution_count": 14,
   "id": "662a7488-ee5a-4cd2-89a6-0f5b7cf2551e",
   "metadata": {},
   "outputs": [
    {
     "data": {
      "text/plain": [
       "True"
      ]
     },
     "execution_count": 14,
     "metadata": {},
     "output_type": "execute_result"
    }
   ],
   "source": [
    ">>> v1 == v1_clone"
   ]
  },
  {
   "cell_type": "markdown",
   "id": "a37f880a-7a4c-42cf-92aa-bf54db190325",
   "metadata": {},
   "source": [
    "#### Tests with 3-dimensions::"
   ]
  },
  {
   "cell_type": "code",
   "execution_count": 15,
   "id": "c2e1e352-9ab9-44fa-b5e8-c9f41b5d31fc",
   "metadata": {},
   "outputs": [
    {
     "data": {
      "text/plain": [
       "(3.0, 4.0, 5.0)"
      ]
     },
     "execution_count": 15,
     "metadata": {},
     "output_type": "execute_result"
    }
   ],
   "source": [
    ">>> v1 = Vector([3, 4, 5])\n",
    ">>> x, y, z = v1\n",
    ">>> x, y, z"
   ]
  },
  {
   "cell_type": "code",
   "execution_count": 16,
   "id": "10a3613e-6dfa-49fe-8573-4c0b16fc13cd",
   "metadata": {},
   "outputs": [
    {
     "data": {
      "text/plain": [
       "Vector([3.0, 4.0, 5.0])"
      ]
     },
     "execution_count": 16,
     "metadata": {},
     "output_type": "execute_result"
    }
   ],
   "source": [
    ">>> v1"
   ]
  },
  {
   "cell_type": "code",
   "execution_count": 17,
   "id": "ba4d9191-5b36-46d9-8ecb-edef1c885848",
   "metadata": {},
   "outputs": [
    {
     "data": {
      "text/plain": [
       "True"
      ]
     },
     "execution_count": 17,
     "metadata": {},
     "output_type": "execute_result"
    }
   ],
   "source": [
    ">>> v1_clone = eval(repr(v1))\n",
    ">>> v1 == v1_clone"
   ]
  },
  {
   "cell_type": "code",
   "execution_count": 18,
   "id": "df7eccab-5a97-4139-b6ee-d32ad101f634",
   "metadata": {},
   "outputs": [
    {
     "name": "stdout",
     "output_type": "stream",
     "text": [
      "(3.0, 4.0, 5.0)\n"
     ]
    }
   ],
   "source": [
    ">>> print(v1)"
   ]
  },
  {
   "cell_type": "code",
   "execution_count": 19,
   "id": "65cedae4-1c8a-4348-9f94-8c87c68b546d",
   "metadata": {},
   "outputs": [
    {
     "data": {
      "text/plain": [
       "7.0710678118654755"
      ]
     },
     "execution_count": 19,
     "metadata": {},
     "output_type": "execute_result"
    }
   ],
   "source": [
    ">>> abs(v1)  # doctest:+ELLIPSIS"
   ]
  },
  {
   "cell_type": "code",
   "execution_count": 20,
   "id": "ba4f1c07-9cd3-4d30-82e2-5c583184548b",
   "metadata": {},
   "outputs": [
    {
     "data": {
      "text/plain": [
       "(True, False)"
      ]
     },
     "execution_count": 20,
     "metadata": {},
     "output_type": "execute_result"
    }
   ],
   "source": [
    ">>> bool(v1), bool(Vector([0, 0, 0]))"
   ]
  },
  {
   "cell_type": "markdown",
   "id": "675e1ab1-aa37-459f-b70a-81e17175312d",
   "metadata": {},
   "source": [
    "#### Tests with many dimensions::"
   ]
  },
  {
   "cell_type": "code",
   "execution_count": 21,
   "id": "2478bc27-bf4d-479b-98c0-f287c9a6436b",
   "metadata": {},
   "outputs": [
    {
     "data": {
      "text/plain": [
       "Vector([0.0, 1.0, 2.0, 3.0, 4.0, ...])"
      ]
     },
     "execution_count": 21,
     "metadata": {},
     "output_type": "execute_result"
    }
   ],
   "source": [
    ">>> v7 = Vector(range(7))\n",
    ">>> v7"
   ]
  },
  {
   "cell_type": "code",
   "execution_count": 22,
   "id": "eb6abdeb-8e17-4b20-b7cc-b2af43a80fdb",
   "metadata": {},
   "outputs": [
    {
     "data": {
      "text/plain": [
       "9.539392014169456"
      ]
     },
     "execution_count": 22,
     "metadata": {},
     "output_type": "execute_result"
    }
   ],
   "source": [
    ">>> abs(v7)  # doctest:+ELLIPSIS"
   ]
  },
  {
   "cell_type": "markdown",
   "id": "61e53c47-3258-4f1a-a628-682f56b65d73",
   "metadata": {},
   "source": [
    "#### Test of ``.__bytes__`` and ``.frombytes()`` methods::"
   ]
  },
  {
   "cell_type": "code",
   "execution_count": 23,
   "id": "76920af6-acee-479f-8866-c234583077dc",
   "metadata": {},
   "outputs": [
    {
     "data": {
      "text/plain": [
       "Vector([3.0, 4.0, 5.0])"
      ]
     },
     "execution_count": 23,
     "metadata": {},
     "output_type": "execute_result"
    }
   ],
   "source": [
    ">>> v1 = Vector([3, 4, 5])\n",
    ">>> v1_clone = Vector.frombytes(bytes(v1))\n",
    ">>> v1_clone"
   ]
  },
  {
   "cell_type": "code",
   "execution_count": 24,
   "id": "e2d51ec6-bac1-48c5-b3fb-393ccf38c734",
   "metadata": {},
   "outputs": [
    {
     "data": {
      "text/plain": [
       "True"
      ]
     },
     "execution_count": 24,
     "metadata": {},
     "output_type": "execute_result"
    }
   ],
   "source": [
    ">>> v1 == v1_clone"
   ]
  },
  {
   "cell_type": "markdown",
   "id": "75cc5cef-0113-4aba-8cba-0108a2faee3a",
   "metadata": {},
   "source": [
    "#### Tests of sequence behavior::"
   ]
  },
  {
   "cell_type": "code",
   "execution_count": 25,
   "id": "9a705cac-2a99-4b8d-ba53-bc943c8b5913",
   "metadata": {},
   "outputs": [
    {
     "data": {
      "text/plain": [
       "3"
      ]
     },
     "execution_count": 25,
     "metadata": {},
     "output_type": "execute_result"
    }
   ],
   "source": [
    ">>> v1 = Vector([3, 4, 5])\n",
    ">>> len(v1)"
   ]
  },
  {
   "cell_type": "code",
   "execution_count": 26,
   "id": "a689266e-d2a4-47eb-a88b-c10e58bacf36",
   "metadata": {},
   "outputs": [
    {
     "data": {
      "text/plain": [
       "(3.0, 5.0, 5.0)"
      ]
     },
     "execution_count": 26,
     "metadata": {},
     "output_type": "execute_result"
    }
   ],
   "source": [
    ">>> v1[0], v1[len(v1)-1], v1[-1]"
   ]
  },
  {
   "cell_type": "markdown",
   "id": "5209077b-6003-44a0-9029-978e0dbf8c80",
   "metadata": {},
   "source": [
    "#### Test of slicing::"
   ]
  },
  {
   "cell_type": "code",
   "execution_count": 27,
   "id": "5f0e2f50-8a2f-49b4-8c36-cdeb65eb0a3d",
   "metadata": {},
   "outputs": [
    {
     "data": {
      "text/plain": [
       "6.0"
      ]
     },
     "execution_count": 27,
     "metadata": {},
     "output_type": "execute_result"
    }
   ],
   "source": [
    ">>> v7 = Vector(range(7))\n",
    ">>> v7[-1]"
   ]
  },
  {
   "cell_type": "code",
   "execution_count": 28,
   "id": "9f1e0746-5a3d-4918-bb18-8dbcc1579941",
   "metadata": {},
   "outputs": [
    {
     "data": {
      "text/plain": [
       "Vector([1.0, 2.0, 3.0])"
      ]
     },
     "execution_count": 28,
     "metadata": {},
     "output_type": "execute_result"
    }
   ],
   "source": [
    ">>> v7[1:4]"
   ]
  },
  {
   "cell_type": "code",
   "execution_count": 29,
   "id": "0042744b-05d0-406f-8f83-bd27d026bdf6",
   "metadata": {},
   "outputs": [
    {
     "data": {
      "text/plain": [
       "Vector([6.0])"
      ]
     },
     "execution_count": 29,
     "metadata": {},
     "output_type": "execute_result"
    }
   ],
   "source": [
    ">>> v7[-1:]"
   ]
  },
  {
   "cell_type": "code",
   "execution_count": 30,
   "id": "be9a799f-4fed-4668-acdf-36b3a92bcb58",
   "metadata": {},
   "outputs": [
    {
     "ename": "TypeError",
     "evalue": "Vector indices must be integers",
     "output_type": "error",
     "traceback": [
      "\u001b[1;31m---------------------------------------------------------------------------\u001b[0m",
      "\u001b[1;31mTypeError\u001b[0m                                 Traceback (most recent call last)",
      "Input \u001b[1;32mIn [30]\u001b[0m, in \u001b[0;36m<module>\u001b[1;34m\u001b[0m\n\u001b[1;32m----> 1\u001b[0m \u001b[43mv7\u001b[49m\u001b[43m[\u001b[49m\u001b[38;5;241;43m1\u001b[39;49m\u001b[43m,\u001b[49m\u001b[38;5;241;43m2\u001b[39;49m\u001b[43m]\u001b[49m\n",
      "Input \u001b[1;32mIn [2]\u001b[0m, in \u001b[0;36mVector.__getitem__\u001b[1;34m(self, index)\u001b[0m\n\u001b[0;32m     51\u001b[0m \u001b[38;5;28;01melse\u001b[39;00m:\n\u001b[0;32m     52\u001b[0m     msg \u001b[38;5;241m=\u001b[39m \u001b[38;5;124m'\u001b[39m\u001b[38;5;124m{\u001b[39m\u001b[38;5;124m.__name__} indices must be integers\u001b[39m\u001b[38;5;124m'\u001b[39m\n\u001b[1;32m---> 53\u001b[0m     \u001b[38;5;28;01mraise\u001b[39;00m \u001b[38;5;167;01mTypeError\u001b[39;00m(msg\u001b[38;5;241m.\u001b[39mformat(\u001b[38;5;28mcls\u001b[39m))\n",
      "\u001b[1;31mTypeError\u001b[0m: Vector indices must be integers"
     ]
    }
   ],
   "source": [
    ">>> v7[1,2]"
   ]
  },
  {
   "cell_type": "markdown",
   "id": "d232a01d-43af-4eff-aee9-e7d9372d9ca5",
   "metadata": {},
   "source": [
    "#### Tests of dynamic attribute access::"
   ]
  },
  {
   "cell_type": "code",
   "execution_count": 31,
   "id": "9e8a81a0-a130-4118-90b0-2624f0dc83bc",
   "metadata": {},
   "outputs": [
    {
     "data": {
      "text/plain": [
       "0.0"
      ]
     },
     "execution_count": 31,
     "metadata": {},
     "output_type": "execute_result"
    }
   ],
   "source": [
    ">>> v7 = Vector(range(10))\n",
    ">>> v7.x"
   ]
  },
  {
   "cell_type": "code",
   "execution_count": 32,
   "id": "42faba30-20b1-4b9f-ba27-d966a8d09635",
   "metadata": {},
   "outputs": [
    {
     "data": {
      "text/plain": [
       "(1.0, 2.0, 3.0)"
      ]
     },
     "execution_count": 32,
     "metadata": {},
     "output_type": "execute_result"
    }
   ],
   "source": [
    ">>> v7.y, v7.z, v7.t"
   ]
  },
  {
   "cell_type": "markdown",
   "id": "a5f45b46-836b-4507-b167-aacb23ca4546",
   "metadata": {},
   "source": [
    "#### Dynamic attribute lookup failures::"
   ]
  },
  {
   "cell_type": "code",
   "execution_count": 33,
   "id": "dd2254a2-c2c3-4210-9c4a-18a2acee6886",
   "metadata": {},
   "outputs": [
    {
     "ename": "AttributeError",
     "evalue": "'Vector' object has no attribute 'k'",
     "output_type": "error",
     "traceback": [
      "\u001b[1;31m---------------------------------------------------------------------------\u001b[0m",
      "\u001b[1;31mAttributeError\u001b[0m                            Traceback (most recent call last)",
      "Input \u001b[1;32mIn [33]\u001b[0m, in \u001b[0;36m<module>\u001b[1;34m\u001b[0m\n\u001b[1;32m----> 1\u001b[0m \u001b[43mv7\u001b[49m\u001b[38;5;241;43m.\u001b[39;49m\u001b[43mk\u001b[49m\n",
      "Input \u001b[1;32mIn [2]\u001b[0m, in \u001b[0;36mVector.__getattr__\u001b[1;34m(self, name)\u001b[0m\n\u001b[0;32m     62\u001b[0m         \u001b[38;5;28;01mreturn\u001b[39;00m \u001b[38;5;28mself\u001b[39m\u001b[38;5;241m.\u001b[39m_components[pos]\n\u001b[0;32m     63\u001b[0m msg \u001b[38;5;241m=\u001b[39m \u001b[38;5;124m'\u001b[39m\u001b[38;5;124m{\u001b[39m\u001b[38;5;124m.__name__!r} object has no attribute \u001b[39m\u001b[38;5;132;01m{!r}\u001b[39;00m\u001b[38;5;124m'\u001b[39m\n\u001b[1;32m---> 64\u001b[0m \u001b[38;5;28;01mraise\u001b[39;00m \u001b[38;5;167;01mAttributeError\u001b[39;00m(msg\u001b[38;5;241m.\u001b[39mformat(\u001b[38;5;28mcls\u001b[39m, name))\n",
      "\u001b[1;31mAttributeError\u001b[0m: 'Vector' object has no attribute 'k'"
     ]
    }
   ],
   "source": [
    ">>> v7.k"
   ]
  },
  {
   "cell_type": "code",
   "execution_count": 34,
   "id": "a50a58dd-d650-4c68-ad1d-3bf5bb30cb86",
   "metadata": {},
   "outputs": [
    {
     "ename": "AttributeError",
     "evalue": "'Vector' object has no attribute 't'",
     "output_type": "error",
     "traceback": [
      "\u001b[1;31m---------------------------------------------------------------------------\u001b[0m",
      "\u001b[1;31mAttributeError\u001b[0m                            Traceback (most recent call last)",
      "Input \u001b[1;32mIn [34]\u001b[0m, in \u001b[0;36m<module>\u001b[1;34m\u001b[0m\n\u001b[0;32m      1\u001b[0m v3 \u001b[38;5;241m=\u001b[39m Vector(\u001b[38;5;28mrange\u001b[39m(\u001b[38;5;241m3\u001b[39m))\n\u001b[1;32m----> 2\u001b[0m \u001b[43mv3\u001b[49m\u001b[38;5;241;43m.\u001b[39;49m\u001b[43mt\u001b[49m\n",
      "Input \u001b[1;32mIn [2]\u001b[0m, in \u001b[0;36mVector.__getattr__\u001b[1;34m(self, name)\u001b[0m\n\u001b[0;32m     62\u001b[0m         \u001b[38;5;28;01mreturn\u001b[39;00m \u001b[38;5;28mself\u001b[39m\u001b[38;5;241m.\u001b[39m_components[pos]\n\u001b[0;32m     63\u001b[0m msg \u001b[38;5;241m=\u001b[39m \u001b[38;5;124m'\u001b[39m\u001b[38;5;124m{\u001b[39m\u001b[38;5;124m.__name__!r} object has no attribute \u001b[39m\u001b[38;5;132;01m{!r}\u001b[39;00m\u001b[38;5;124m'\u001b[39m\n\u001b[1;32m---> 64\u001b[0m \u001b[38;5;28;01mraise\u001b[39;00m \u001b[38;5;167;01mAttributeError\u001b[39;00m(msg\u001b[38;5;241m.\u001b[39mformat(\u001b[38;5;28mcls\u001b[39m, name))\n",
      "\u001b[1;31mAttributeError\u001b[0m: 'Vector' object has no attribute 't'"
     ]
    }
   ],
   "source": [
    ">>> v3 = Vector(range(3))\n",
    ">>> v3.t"
   ]
  },
  {
   "cell_type": "code",
   "execution_count": 35,
   "id": "b581535d-e46e-40b0-a805-3a3174d4766c",
   "metadata": {},
   "outputs": [
    {
     "ename": "AttributeError",
     "evalue": "'Vector' object has no attribute 'spam'",
     "output_type": "error",
     "traceback": [
      "\u001b[1;31m---------------------------------------------------------------------------\u001b[0m",
      "\u001b[1;31mAttributeError\u001b[0m                            Traceback (most recent call last)",
      "Input \u001b[1;32mIn [35]\u001b[0m, in \u001b[0;36m<module>\u001b[1;34m\u001b[0m\n\u001b[1;32m----> 1\u001b[0m \u001b[43mv3\u001b[49m\u001b[38;5;241;43m.\u001b[39;49m\u001b[43mspam\u001b[49m\n",
      "Input \u001b[1;32mIn [2]\u001b[0m, in \u001b[0;36mVector.__getattr__\u001b[1;34m(self, name)\u001b[0m\n\u001b[0;32m     62\u001b[0m         \u001b[38;5;28;01mreturn\u001b[39;00m \u001b[38;5;28mself\u001b[39m\u001b[38;5;241m.\u001b[39m_components[pos]\n\u001b[0;32m     63\u001b[0m msg \u001b[38;5;241m=\u001b[39m \u001b[38;5;124m'\u001b[39m\u001b[38;5;124m{\u001b[39m\u001b[38;5;124m.__name__!r} object has no attribute \u001b[39m\u001b[38;5;132;01m{!r}\u001b[39;00m\u001b[38;5;124m'\u001b[39m\n\u001b[1;32m---> 64\u001b[0m \u001b[38;5;28;01mraise\u001b[39;00m \u001b[38;5;167;01mAttributeError\u001b[39;00m(msg\u001b[38;5;241m.\u001b[39mformat(\u001b[38;5;28mcls\u001b[39m, name))\n",
      "\u001b[1;31mAttributeError\u001b[0m: 'Vector' object has no attribute 'spam'"
     ]
    }
   ],
   "source": [
    ">>> v3.spam"
   ]
  },
  {
   "cell_type": "markdown",
   "id": "12b14d6d-0f6a-488e-b701-0a9446074e1e",
   "metadata": {},
   "source": [
    "#### Tests of hashing::"
   ]
  },
  {
   "cell_type": "code",
   "execution_count": 36,
   "id": "84e9dea7-1f59-46a5-8c52-5952659617e8",
   "metadata": {},
   "outputs": [
    {
     "data": {
      "text/plain": [
       "(7, 2, 1)"
      ]
     },
     "execution_count": 36,
     "metadata": {},
     "output_type": "execute_result"
    }
   ],
   "source": [
    ">>> v1 = Vector([3, 4])\n",
    ">>> v2 = Vector([3.1, 4.2])\n",
    ">>> v3 = Vector([3, 4, 5])\n",
    ">>> v6 = Vector(range(6))\n",
    ">>> hash(v1), hash(v3), hash(v6)"
   ]
  },
  {
   "cell_type": "markdown",
   "id": "5e0e416e-f0ef-45ae-9016-ee6380da3bc3",
   "metadata": {},
   "source": [
    "#### Most hash values of non-integers vary from a 32-bit to 64-bit Python build::"
   ]
  },
  {
   "cell_type": "code",
   "execution_count": 37,
   "id": "3ac4ffba-0b74-4ec8-b13f-09ead5f488dd",
   "metadata": {},
   "outputs": [
    {
     "data": {
      "text/plain": [
       "True"
      ]
     },
     "execution_count": 37,
     "metadata": {},
     "output_type": "execute_result"
    }
   ],
   "source": [
    ">>> import sys\n",
    ">>> hash(v2) == (384307168202284039 if sys.maxsize > 2**32 else 357915986)"
   ]
  },
  {
   "cell_type": "markdown",
   "id": "d0cdf55d-748f-4b70-a875-5eb0abf36757",
   "metadata": {},
   "source": [
    "#### Tests of ``format()`` with Cartesian coordinates in 2D::"
   ]
  },
  {
   "cell_type": "code",
   "execution_count": 38,
   "id": "5bb2697d-ae8c-4565-aaa6-36390b0ddff9",
   "metadata": {},
   "outputs": [
    {
     "data": {
      "text/plain": [
       "'(3.0, 4.0)'"
      ]
     },
     "execution_count": 38,
     "metadata": {},
     "output_type": "execute_result"
    }
   ],
   "source": [
    ">>> v1 = Vector([3, 4])\n",
    ">>> format(v1)"
   ]
  },
  {
   "cell_type": "code",
   "execution_count": 39,
   "id": "48928888-743f-41ab-8ca4-472d8340eb81",
   "metadata": {},
   "outputs": [
    {
     "data": {
      "text/plain": [
       "'(3.00, 4.00)'"
      ]
     },
     "execution_count": 39,
     "metadata": {},
     "output_type": "execute_result"
    }
   ],
   "source": [
    ">>> format(v1, '.2f')"
   ]
  },
  {
   "cell_type": "code",
   "execution_count": 40,
   "id": "2172f1f6-b41a-4c9b-869f-53a4e2e189df",
   "metadata": {},
   "outputs": [
    {
     "data": {
      "text/plain": [
       "'(3.000e+00, 4.000e+00)'"
      ]
     },
     "execution_count": 40,
     "metadata": {},
     "output_type": "execute_result"
    }
   ],
   "source": [
    ">>> format(v1, '.3e')"
   ]
  },
  {
   "cell_type": "markdown",
   "id": "3d5c1b92-bbdc-4963-bbdb-3292000e83db",
   "metadata": {},
   "source": [
    "#### Tests of ``format()`` with Cartesian coordinates in 3D and 7D::"
   ]
  },
  {
   "cell_type": "code",
   "execution_count": 41,
   "id": "199d7461-7b7f-4ce3-aae2-1e44c50d2c46",
   "metadata": {},
   "outputs": [
    {
     "data": {
      "text/plain": [
       "'(3.0, 4.0, 5.0)'"
      ]
     },
     "execution_count": 41,
     "metadata": {},
     "output_type": "execute_result"
    }
   ],
   "source": [
    ">>> v3 = Vector([3, 4, 5])\n",
    ">>> format(v3)"
   ]
  },
  {
   "cell_type": "code",
   "execution_count": 42,
   "id": "42595a9c-e532-4910-b643-3debb40d4b86",
   "metadata": {},
   "outputs": [
    {
     "data": {
      "text/plain": [
       "'(0.0, 1.0, 2.0, 3.0, 4.0, 5.0, 6.0)'"
      ]
     },
     "execution_count": 42,
     "metadata": {},
     "output_type": "execute_result"
    }
   ],
   "source": [
    ">>> format(Vector(range(7)))"
   ]
  },
  {
   "cell_type": "markdown",
   "id": "b3629fa6-5d3a-4142-96ce-5544e4302134",
   "metadata": {},
   "source": [
    "#### Tests of ``format()`` with spherical coordinates in 2D, 3D and 4D::"
   ]
  },
  {
   "cell_type": "code",
   "execution_count": 43,
   "id": "2452bd89-629c-4f82-99b4-d9f7a4c32382",
   "metadata": {},
   "outputs": [
    {
     "data": {
      "text/plain": [
       "'<1.4142135623730951, 0.7853981633974483>'"
      ]
     },
     "execution_count": 43,
     "metadata": {},
     "output_type": "execute_result"
    }
   ],
   "source": [
    ">>> format(Vector([1, 1]), 'h')  # doctest:+ELLIPSIS"
   ]
  },
  {
   "cell_type": "code",
   "execution_count": 44,
   "id": "84baac27-39dd-4ece-82b6-24567107510b",
   "metadata": {},
   "outputs": [
    {
     "data": {
      "text/plain": [
       "'<1.414e+00, 7.854e-01>'"
      ]
     },
     "execution_count": 44,
     "metadata": {},
     "output_type": "execute_result"
    }
   ],
   "source": [
    ">>> format(Vector([1, 1]), '.3eh')"
   ]
  },
  {
   "cell_type": "code",
   "execution_count": 45,
   "id": "15b898a7-8d83-484a-9ff6-351180230cb9",
   "metadata": {},
   "outputs": [
    {
     "data": {
      "text/plain": [
       "'<1.41421, 0.78540>'"
      ]
     },
     "execution_count": 45,
     "metadata": {},
     "output_type": "execute_result"
    }
   ],
   "source": [
    ">>> format(Vector([1, 1]), '0.5fh')"
   ]
  },
  {
   "cell_type": "code",
   "execution_count": 46,
   "id": "34442e9c-0e93-4044-b232-dc3c3985acef",
   "metadata": {},
   "outputs": [
    {
     "data": {
      "text/plain": [
       "'<1.7320508075688772, 0.9553166181245093, 0.7853981633974483>'"
      ]
     },
     "execution_count": 46,
     "metadata": {},
     "output_type": "execute_result"
    }
   ],
   "source": [
    ">>> format(Vector([1, 1, 1]), 'h')  # doctest:+ELLIPSIS"
   ]
  },
  {
   "cell_type": "code",
   "execution_count": 47,
   "id": "6effc1dd-e96e-49d4-9ff0-a20b049b7eca",
   "metadata": {},
   "outputs": [
    {
     "data": {
      "text/plain": [
       "'<3.464e+00, 9.553e-01, 7.854e-01>'"
      ]
     },
     "execution_count": 47,
     "metadata": {},
     "output_type": "execute_result"
    }
   ],
   "source": [
    ">>> format(Vector([2, 2, 2]), '.3eh')"
   ]
  },
  {
   "cell_type": "code",
   "execution_count": 48,
   "id": "75927add-b76d-4248-a934-47e5a3b8e6d2",
   "metadata": {},
   "outputs": [
    {
     "data": {
      "text/plain": [
       "'<0.00000, 0.00000, 0.00000>'"
      ]
     },
     "execution_count": 48,
     "metadata": {},
     "output_type": "execute_result"
    }
   ],
   "source": [
    ">>> format(Vector([0, 0, 0]), '0.5fh')"
   ]
  },
  {
   "cell_type": "code",
   "execution_count": 49,
   "id": "21d67219-3433-4464-b77f-9a915f55fc95",
   "metadata": {},
   "outputs": [
    {
     "data": {
      "text/plain": [
       "'<2.0, 2.0943951023931957, 2.186276035465284, 3.9269908169872414>'"
      ]
     },
     "execution_count": 49,
     "metadata": {},
     "output_type": "execute_result"
    }
   ],
   "source": [
    ">>> format(Vector([-1, -1, -1, -1]), 'h')  # doctest:+ELLIPSIS"
   ]
  },
  {
   "cell_type": "code",
   "execution_count": 50,
   "id": "a15680dc-7511-407e-83c0-9187a33ca96d",
   "metadata": {},
   "outputs": [
    {
     "data": {
      "text/plain": [
       "'<4.000e+00, 1.047e+00, 9.553e-01, 7.854e-01>'"
      ]
     },
     "execution_count": 50,
     "metadata": {},
     "output_type": "execute_result"
    }
   ],
   "source": [
    ">>> format(Vector([2, 2, 2, 2]), '.3eh')"
   ]
  },
  {
   "cell_type": "code",
   "execution_count": 51,
   "id": "f0539380-12f4-44c1-8be1-1c6c140b26d2",
   "metadata": {},
   "outputs": [
    {
     "data": {
      "text/plain": [
       "'<1.00000, 1.57080, 0.00000, 0.00000>'"
      ]
     },
     "execution_count": 51,
     "metadata": {},
     "output_type": "execute_result"
    }
   ],
   "source": [
    ">>> format(Vector([0, 1, 0, 0]), '0.5fh')"
   ]
  },
  {
   "cell_type": "markdown",
   "id": "7f14143e-74b7-43c1-b21d-03d20b30e302",
   "metadata": {},
   "source": [
    "#### Unary operator tests::"
   ]
  },
  {
   "cell_type": "code",
   "execution_count": 52,
   "id": "7e5e3097-009c-4d76-8483-2c6e4552570b",
   "metadata": {},
   "outputs": [
    {
     "data": {
      "text/plain": [
       "5.0"
      ]
     },
     "execution_count": 52,
     "metadata": {},
     "output_type": "execute_result"
    }
   ],
   "source": [
    ">>> v1 = Vector([3, 4])\n",
    ">>> abs(v1)"
   ]
  },
  {
   "cell_type": "code",
   "execution_count": 53,
   "id": "b0676379-e78d-419e-9f54-a407faad7cb2",
   "metadata": {},
   "outputs": [
    {
     "data": {
      "text/plain": [
       "Vector([-3.0, -4.0])"
      ]
     },
     "execution_count": 53,
     "metadata": {},
     "output_type": "execute_result"
    }
   ],
   "source": [
    ">>> -v1"
   ]
  },
  {
   "cell_type": "code",
   "execution_count": 54,
   "id": "afc736ee-9687-4bf8-b105-9cd39dcbfc8f",
   "metadata": {},
   "outputs": [
    {
     "data": {
      "text/plain": [
       "Vector([3.0, 4.0])"
      ]
     },
     "execution_count": 54,
     "metadata": {},
     "output_type": "execute_result"
    }
   ],
   "source": [
    ">>> +v1"
   ]
  },
  {
   "cell_type": "markdown",
   "id": "78299ee3-3175-4c4b-8d7d-eb0bbf3d0626",
   "metadata": {},
   "source": [
    "#### Basic tests of operator ``+``::"
   ]
  },
  {
   "cell_type": "code",
   "execution_count": 55,
   "id": "42b99d0f-39e3-4466-81d0-53358495fb1c",
   "metadata": {},
   "outputs": [
    {
     "data": {
      "text/plain": [
       "Vector([9.0, 11.0, 13.0])"
      ]
     },
     "execution_count": 55,
     "metadata": {},
     "output_type": "execute_result"
    }
   ],
   "source": [
    ">>> v1 = Vector([3, 4, 5])\n",
    ">>> v2 = Vector([6, 7, 8])\n",
    ">>> v1 + v2"
   ]
  },
  {
   "cell_type": "code",
   "execution_count": 56,
   "id": "da28271a-e055-4005-83d8-4483634b4ccd",
   "metadata": {},
   "outputs": [
    {
     "data": {
      "text/plain": [
       "True"
      ]
     },
     "execution_count": 56,
     "metadata": {},
     "output_type": "execute_result"
    }
   ],
   "source": [
    ">>> v1 + v2 == Vector([3+6, 4+7, 5+8])"
   ]
  },
  {
   "cell_type": "code",
   "execution_count": 57,
   "id": "93a5b083-f1b5-4e28-945f-383b45d31544",
   "metadata": {},
   "outputs": [
    {
     "data": {
      "text/plain": [
       "Vector([4.0, 6.0, 5.0])"
      ]
     },
     "execution_count": 57,
     "metadata": {},
     "output_type": "execute_result"
    }
   ],
   "source": [
    ">>> v3 = Vector([1, 2])\n",
    ">>> v1 + v3  # short vectors are filled with 0.0 on addition"
   ]
  },
  {
   "cell_type": "markdown",
   "id": "12ad8f0a-37be-4e20-b184-a10568670613",
   "metadata": {},
   "source": [
    "#### Tests of ``+`` with mixed types::"
   ]
  },
  {
   "cell_type": "code",
   "execution_count": 58,
   "id": "3bee0a45-1b40-4a36-9029-8eb5e9e31bdd",
   "metadata": {},
   "outputs": [
    {
     "data": {
      "text/plain": [
       "Vector([13.0, 24.0, 35.0])"
      ]
     },
     "execution_count": 58,
     "metadata": {},
     "output_type": "execute_result"
    }
   ],
   "source": [
    ">>> v1 + (10, 20, 30)"
   ]
  },
  {
   "cell_type": "code",
   "execution_count": 59,
   "id": "116780d2-5b66-4c22-bcb4-55884d4f4286",
   "metadata": {},
   "outputs": [],
   "source": [
    "import import_ipynb"
   ]
  },
  {
   "cell_type": "code",
   "execution_count": 61,
   "id": "bf87f14b-7448-46af-b2e4-f8828ba02b3d",
   "metadata": {},
   "outputs": [
    {
     "data": {
      "text/plain": [
       "Vector([4.0, 6.0, 5.0])"
      ]
     },
     "execution_count": 61,
     "metadata": {},
     "output_type": "execute_result"
    }
   ],
   "source": [
    ">>> from vector2d_v3 import Vector2d\n",
    ">>> v2d = Vector2d(1, 2)\n",
    ">>> v1 + v2d"
   ]
  },
  {
   "cell_type": "markdown",
   "id": "0e87ec4c-b12f-4808-9bd3-e6aa442a788c",
   "metadata": {},
   "source": [
    "#### Tests of ``+`` with mixed types, swapped operands::"
   ]
  },
  {
   "cell_type": "code",
   "execution_count": 62,
   "id": "e3756035-7fcb-4eb8-9b81-edd3fe2641c1",
   "metadata": {},
   "outputs": [
    {
     "data": {
      "text/plain": [
       "Vector([13.0, 24.0, 35.0])"
      ]
     },
     "execution_count": 62,
     "metadata": {},
     "output_type": "execute_result"
    }
   ],
   "source": [
    ">>> (10, 20, 30) + v1"
   ]
  },
  {
   "cell_type": "code",
   "execution_count": 63,
   "id": "03b229af-c796-47b1-8112-cca2b3371b78",
   "metadata": {},
   "outputs": [
    {
     "data": {
      "text/plain": [
       "Vector([4.0, 6.0, 5.0])"
      ]
     },
     "execution_count": 63,
     "metadata": {},
     "output_type": "execute_result"
    }
   ],
   "source": [
    ">>> from vector2d_v3 import Vector2d\n",
    ">>> v2d = Vector2d(1, 2)\n",
    ">>> v2d + v1"
   ]
  },
  {
   "cell_type": "markdown",
   "id": "9d927ff0-2618-4bce-aead-ce246f4870e2",
   "metadata": {},
   "source": [
    "#### Tests of ``+`` with an unsuitable operand:"
   ]
  },
  {
   "cell_type": "code",
   "execution_count": 64,
   "id": "943809e5-7657-4a59-921e-b6efd160f439",
   "metadata": {},
   "outputs": [
    {
     "ename": "TypeError",
     "evalue": "unsupported operand type(s) for +: 'Vector' and 'int'",
     "output_type": "error",
     "traceback": [
      "\u001b[1;31m---------------------------------------------------------------------------\u001b[0m",
      "\u001b[1;31mTypeError\u001b[0m                                 Traceback (most recent call last)",
      "Input \u001b[1;32mIn [64]\u001b[0m, in \u001b[0;36m<module>\u001b[1;34m\u001b[0m\n\u001b[1;32m----> 1\u001b[0m \u001b[43mv1\u001b[49m\u001b[43m \u001b[49m\u001b[38;5;241;43m+\u001b[39;49m\u001b[43m \u001b[49m\u001b[38;5;241;43m1\u001b[39;49m\n",
      "\u001b[1;31mTypeError\u001b[0m: unsupported operand type(s) for +: 'Vector' and 'int'"
     ]
    }
   ],
   "source": [
    ">>> v1 + 1"
   ]
  },
  {
   "cell_type": "code",
   "execution_count": 65,
   "id": "46d42e12-8579-4d73-bc9c-ced1311d052a",
   "metadata": {},
   "outputs": [
    {
     "ename": "TypeError",
     "evalue": "unsupported operand type(s) for +: 'Vector' and 'str'",
     "output_type": "error",
     "traceback": [
      "\u001b[1;31m---------------------------------------------------------------------------\u001b[0m",
      "\u001b[1;31mTypeError\u001b[0m                                 Traceback (most recent call last)",
      "Input \u001b[1;32mIn [65]\u001b[0m, in \u001b[0;36m<module>\u001b[1;34m\u001b[0m\n\u001b[1;32m----> 1\u001b[0m \u001b[43mv1\u001b[49m\u001b[43m \u001b[49m\u001b[38;5;241;43m+\u001b[39;49m\u001b[43m \u001b[49m\u001b[38;5;124;43m'\u001b[39;49m\u001b[38;5;124;43mABC\u001b[39;49m\u001b[38;5;124;43m'\u001b[39;49m\n",
      "\u001b[1;31mTypeError\u001b[0m: unsupported operand type(s) for +: 'Vector' and 'str'"
     ]
    }
   ],
   "source": [
    ">>> v1 + 'ABC'"
   ]
  },
  {
   "cell_type": "markdown",
   "id": "c82c50c9-d919-40cb-9f3d-44c1d1b04653",
   "metadata": {},
   "source": [
    "#### Basic tests of operator ``*``::"
   ]
  },
  {
   "cell_type": "code",
   "execution_count": 66,
   "id": "a4c351f4-7436-4afb-b77f-587a99d55722",
   "metadata": {},
   "outputs": [
    {
     "data": {
      "text/plain": [
       "Vector([10.0, 20.0, 30.0])"
      ]
     },
     "execution_count": 66,
     "metadata": {},
     "output_type": "execute_result"
    }
   ],
   "source": [
    ">>> v1 = Vector([1, 2, 3])\n",
    ">>> v1 * 10"
   ]
  },
  {
   "cell_type": "code",
   "execution_count": 67,
   "id": "95eea383-33eb-4e3e-a8ba-ea24b0113db5",
   "metadata": {},
   "outputs": [
    {
     "data": {
      "text/plain": [
       "Vector([10.0, 20.0, 30.0])"
      ]
     },
     "execution_count": 67,
     "metadata": {},
     "output_type": "execute_result"
    }
   ],
   "source": [
    ">>> 10 * v1"
   ]
  },
  {
   "cell_type": "markdown",
   "id": "9af5a168-b88c-495d-b0ec-1bef5a4a6a71",
   "metadata": {},
   "source": [
    "#### Tests of ``*`` with unusual but valid operands::"
   ]
  },
  {
   "cell_type": "code",
   "execution_count": 68,
   "id": "d520b52b-87c3-478a-8993-07ecbdd6bfd2",
   "metadata": {},
   "outputs": [
    {
     "data": {
      "text/plain": [
       "Vector([1.0, 2.0, 3.0])"
      ]
     },
     "execution_count": 68,
     "metadata": {},
     "output_type": "execute_result"
    }
   ],
   "source": [
    ">>> v1 * True"
   ]
  },
  {
   "cell_type": "code",
   "execution_count": 69,
   "id": "91eda2b4-f350-4221-a3af-d32b0b06c9ed",
   "metadata": {},
   "outputs": [
    {
     "data": {
      "text/plain": [
       "Vector([0.3333333333333333, 0.6666666666666666, 1.0])"
      ]
     },
     "execution_count": 69,
     "metadata": {},
     "output_type": "execute_result"
    }
   ],
   "source": [
    ">>> from fractions import Fraction\n",
    ">>> v1 * Fraction(1, 3)  # doctest:+ELLIPSIS"
   ]
  },
  {
   "cell_type": "markdown",
   "id": "796e9fd3-2ca4-4b54-a38f-50fe4dbc33a0",
   "metadata": {},
   "source": [
    "#### Tests of ``*`` with unsuitable operands::"
   ]
  },
  {
   "cell_type": "code",
   "execution_count": 70,
   "id": "38803394-8242-469d-90c4-d93c8b68a3a6",
   "metadata": {},
   "outputs": [
    {
     "ename": "TypeError",
     "evalue": "can't multiply sequence by non-int of type 'Vector'",
     "output_type": "error",
     "traceback": [
      "\u001b[1;31m---------------------------------------------------------------------------\u001b[0m",
      "\u001b[1;31mTypeError\u001b[0m                                 Traceback (most recent call last)",
      "Input \u001b[1;32mIn [70]\u001b[0m, in \u001b[0;36m<module>\u001b[1;34m\u001b[0m\n\u001b[1;32m----> 1\u001b[0m \u001b[43mv1\u001b[49m\u001b[43m \u001b[49m\u001b[38;5;241;43m*\u001b[39;49m\u001b[43m \u001b[49m\u001b[43m(\u001b[49m\u001b[38;5;241;43m1\u001b[39;49m\u001b[43m,\u001b[49m\u001b[43m \u001b[49m\u001b[38;5;241;43m2\u001b[39;49m\u001b[43m)\u001b[49m\n",
      "\u001b[1;31mTypeError\u001b[0m: can't multiply sequence by non-int of type 'Vector'"
     ]
    }
   ],
   "source": [
    ">>> v1 * (1, 2)"
   ]
  }
 ],
 "metadata": {
  "kernelspec": {
   "display_name": "Python 3 (ipykernel)",
   "language": "python",
   "name": "python3"
  },
  "language_info": {
   "codemirror_mode": {
    "name": "ipython",
    "version": 3
   },
   "file_extension": ".py",
   "mimetype": "text/x-python",
   "name": "python",
   "nbconvert_exporter": "python",
   "pygments_lexer": "ipython3",
   "version": "3.10.2"
  }
 },
 "nbformat": 4,
 "nbformat_minor": 5
}
