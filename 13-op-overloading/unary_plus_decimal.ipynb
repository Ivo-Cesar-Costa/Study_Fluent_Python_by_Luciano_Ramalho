{
 "cells": [
  {
   "cell_type": "code",
   "execution_count": 1,
   "id": "f3f5b098-0c65-4b18-91d8-d09db87958e9",
   "metadata": {},
   "outputs": [],
   "source": [
    "import decimal"
   ]
  },
  {
   "cell_type": "code",
   "execution_count": 2,
   "id": "4befef8a-c144-46af-b7ab-a29e74b86004",
   "metadata": {},
   "outputs": [
    {
     "name": "stdout",
     "output_type": "stream",
     "text": [
      "precision: 40\n",
      "    one_third: 0.3333333333333333333333333333333333333333\n",
      "   +one_third: 0.3333333333333333333333333333333333333333\n",
      "precision: 28\n",
      "    one_third: 0.3333333333333333333333333333333333333333\n",
      "   +one_third: 0.3333333333333333333333333333\n"
     ]
    }
   ],
   "source": [
    "if __name__ == '__main__':\n",
    "\n",
    "    with decimal.localcontext() as ctx:\n",
    "        ctx.prec = 40\n",
    "        print('precision:', ctx.prec)\n",
    "        one_third = decimal.Decimal('1') / decimal.Decimal('3')\n",
    "        print('    one_third:', one_third)\n",
    "        print('   +one_third:', +one_third)\n",
    "\n",
    "    print('precision:', decimal.getcontext().prec)\n",
    "    print('    one_third:', one_third)\n",
    "    print('   +one_third:', +one_third)"
   ]
  },
  {
   "cell_type": "code",
   "execution_count": 3,
   "id": "aa474af1-5ddd-4694-b340-f68e79b1a648",
   "metadata": {},
   "outputs": [
    {
     "data": {
      "text/plain": [
       "Decimal('0.3333333333333333333333333333333333333333')"
      ]
     },
     "execution_count": 3,
     "metadata": {},
     "output_type": "execute_result"
    }
   ],
   "source": [
    ">>> import decimal\n",
    ">>> ctx = decimal.getcontext()  # <1>\n",
    ">>> ctx.prec = 40  # <2>\n",
    ">>> one_third = decimal.Decimal('1') / decimal.Decimal('3')  # <3>\n",
    ">>> one_third  # <4>"
   ]
  },
  {
   "cell_type": "code",
   "execution_count": 4,
   "id": "e5ba9f8c-9118-43de-bd49-acc300e5024b",
   "metadata": {},
   "outputs": [
    {
     "data": {
      "text/plain": [
       "True"
      ]
     },
     "execution_count": 4,
     "metadata": {},
     "output_type": "execute_result"
    }
   ],
   "source": [
    ">>> one_third == +one_third  # <5>"
   ]
  },
  {
   "cell_type": "code",
   "execution_count": 5,
   "id": "be7357f4-64b8-47f7-8a05-802d0aaf6ed2",
   "metadata": {},
   "outputs": [
    {
     "data": {
      "text/plain": [
       "False"
      ]
     },
     "execution_count": 5,
     "metadata": {},
     "output_type": "execute_result"
    }
   ],
   "source": [
    ">>> ctx.prec = 28  # <6>\n",
    ">>> one_third == +one_third  # <7>"
   ]
  },
  {
   "cell_type": "code",
   "execution_count": 6,
   "id": "fe156e78-5837-45f0-87cd-e3b8f15b7245",
   "metadata": {},
   "outputs": [
    {
     "data": {
      "text/plain": [
       "Decimal('0.3333333333333333333333333333')"
      ]
     },
     "execution_count": 6,
     "metadata": {},
     "output_type": "execute_result"
    }
   ],
   "source": [
    ">>> +one_third  # <8>"
   ]
  }
 ],
 "metadata": {
  "kernelspec": {
   "display_name": "Python 3 (ipykernel)",
   "language": "python",
   "name": "python3"
  },
  "language_info": {
   "codemirror_mode": {
    "name": "ipython",
    "version": 3
   },
   "file_extension": ".py",
   "mimetype": "text/x-python",
   "name": "python",
   "nbconvert_exporter": "python",
   "pygments_lexer": "ipython3",
   "version": "3.10.2"
  }
 },
 "nbformat": 4,
 "nbformat_minor": 5
}
