{
 "cells": [
  {
   "cell_type": "code",
   "execution_count": 1,
   "id": "bbf78a4a-30a9-4a5c-9ea0-311c62b4b598",
   "metadata": {},
   "outputs": [],
   "source": [
    "from array import array\n",
    "import reprlib\n",
    "import math\n",
    "import numbers\n",
    "import functools\n",
    "import operator\n",
    "import itertools"
   ]
  },
  {
   "cell_type": "code",
   "execution_count": 2,
   "id": "78b174d2-cd2d-4e43-b624-702e5627eaa8",
   "metadata": {},
   "outputs": [],
   "source": [
    "class Vector:\n",
    "    typecode = 'd'\n",
    "\n",
    "    def __init__(self, components):\n",
    "        self._components = array(self.typecode, components)\n",
    "\n",
    "    def __iter__(self):\n",
    "        return iter(self._components)\n",
    "\n",
    "    def __repr__(self):\n",
    "        components = reprlib.repr(self._components)\n",
    "        components = components[components.find('['):-1]\n",
    "        return 'Vector({})'.format(components)\n",
    "\n",
    "    def __str__(self):\n",
    "        return str(tuple(self))\n",
    "\n",
    "    def __bytes__(self):\n",
    "        return (bytes([ord(self.typecode)]) +\n",
    "                bytes(self._components))\n",
    "\n",
    "# BEGIN VECTOR_V8_EQ\n",
    "    def __eq__(self, other):\n",
    "        if isinstance(other, Vector):  # <1>\n",
    "            return (len(self) == len(other) and\n",
    "                    all(a == b for a, b in zip(self, other)))\n",
    "        else:\n",
    "            return NotImplemented  # <2>\n",
    "# END VECTOR_V8_EQ\n",
    "\n",
    "    def __hash__(self):\n",
    "        hashes = (hash(x) for x in self)\n",
    "        return functools.reduce(operator.xor, hashes, 0)\n",
    "\n",
    "    def __abs__(self):\n",
    "        return math.sqrt(sum(x * x for x in self))\n",
    "\n",
    "    def __neg__(self):\n",
    "        return Vector(-x for x in self)\n",
    "\n",
    "    def __pos__(self):\n",
    "        return Vector(self)\n",
    "\n",
    "    def __bool__(self):\n",
    "        return bool(abs(self))\n",
    "\n",
    "    def __len__(self):\n",
    "        return len(self._components)\n",
    "\n",
    "    def __getitem__(self, index):\n",
    "        cls = type(self)\n",
    "        if isinstance(index, slice):\n",
    "            return cls(self._components[index])\n",
    "        elif isinstance(index, numbers.Integral):\n",
    "            return self._components[index]\n",
    "        else:\n",
    "            msg = '{.__name__} indices must be integers'\n",
    "            raise TypeError(msg.format(cls))\n",
    "\n",
    "    shortcut_names = 'xyzt'\n",
    "\n",
    "    def __getattr__(self, name):\n",
    "        cls = type(self)\n",
    "        if len(name) == 1:\n",
    "            pos = cls.shortcut_names.find(name)\n",
    "            if 0 <= pos < len(self._components):\n",
    "                return self._components[pos]\n",
    "        msg = '{.__name__!r} object has no attribute {!r}'\n",
    "        raise AttributeError(msg.format(cls, name))\n",
    "\n",
    "    def angle(self, n):\n",
    "        r = math.sqrt(sum(x * x for x in self[n:]))\n",
    "        a = math.atan2(r, self[n-1])\n",
    "        if (n == len(self) - 1) and (self[-1] < 0):\n",
    "            return math.pi * 2 - a\n",
    "        else:\n",
    "            return a\n",
    "\n",
    "    def angles(self):\n",
    "        return (self.angle(n) for n in range(1, len(self)))\n",
    "\n",
    "    def __format__(self, fmt_spec=''):\n",
    "        if fmt_spec.endswith('h'):  # hyperspherical coordinates\n",
    "            fmt_spec = fmt_spec[:-1]\n",
    "            coords = itertools.chain([abs(self)],\n",
    "                                     self.angles())\n",
    "            outer_fmt = '<{}>'\n",
    "        else:\n",
    "            coords = self\n",
    "            outer_fmt = '({})'\n",
    "        components = (format(c, fmt_spec) for c in coords)\n",
    "        return outer_fmt.format(', '.join(components))\n",
    "\n",
    "    @classmethod\n",
    "    def frombytes(cls, octets):\n",
    "        typecode = chr(octets[0])\n",
    "        memv = memoryview(octets[1:]).cast(typecode)\n",
    "        return cls(memv)\n",
    "\n",
    "    def __add__(self, other):\n",
    "        try:\n",
    "            pairs = itertools.zip_longest(self, other, fillvalue=0.0)\n",
    "            return Vector(a + b for a, b in pairs)\n",
    "        except TypeError:\n",
    "            return NotImplemented\n",
    "\n",
    "    def __radd__(self, other):\n",
    "        return self + other\n",
    "\n",
    "    def __mul__(self, scalar):\n",
    "        if isinstance(scalar, numbers.Real):\n",
    "            return Vector(n * scalar for n in self)\n",
    "        else:\n",
    "            return NotImplemented\n",
    "\n",
    "    def __rmul__(self, scalar):\n",
    "        return self * scalar"
   ]
  },
  {
   "cell_type": "markdown",
   "id": "1f85471f-36e8-4bef-a885-b298993146fc",
   "metadata": {},
   "source": [
    "#### A multi-dimensional ``Vector`` class, take 8: operator ``==``\n",
    "A ``Vector`` is built from an iterable of numbers::"
   ]
  },
  {
   "cell_type": "code",
   "execution_count": 3,
   "id": "2de44a89-4224-4a02-8566-e33a58e5ac1c",
   "metadata": {},
   "outputs": [
    {
     "data": {
      "text/plain": [
       "Vector([3.1, 4.2])"
      ]
     },
     "execution_count": 3,
     "metadata": {},
     "output_type": "execute_result"
    }
   ],
   "source": [
    ">>> Vector([3.1, 4.2])"
   ]
  },
  {
   "cell_type": "code",
   "execution_count": 4,
   "id": "43bc7bb9-0f80-4275-b4c6-2c89f4f1362b",
   "metadata": {},
   "outputs": [
    {
     "data": {
      "text/plain": [
       "Vector([3.0, 4.0, 5.0])"
      ]
     },
     "execution_count": 4,
     "metadata": {},
     "output_type": "execute_result"
    }
   ],
   "source": [
    ">>> Vector((3, 4, 5))"
   ]
  },
  {
   "cell_type": "code",
   "execution_count": 5,
   "id": "d43b00f4-52c6-47ed-8beb-6b78be83c57e",
   "metadata": {},
   "outputs": [
    {
     "data": {
      "text/plain": [
       "Vector([0.0, 1.0, 2.0, 3.0, 4.0, ...])"
      ]
     },
     "execution_count": 5,
     "metadata": {},
     "output_type": "execute_result"
    }
   ],
   "source": [
    ">>> Vector(range(10))"
   ]
  },
  {
   "cell_type": "markdown",
   "id": "51e8bbeb-27c9-4e78-bfb7-21853abb637a",
   "metadata": {},
   "source": [
    "#### Tests with 2-dimensions (same results as ``vector2d_v1.py``)::"
   ]
  },
  {
   "cell_type": "code",
   "execution_count": 6,
   "id": "101835b7-6503-4d3c-bbea-149de2b65f8a",
   "metadata": {},
   "outputs": [
    {
     "data": {
      "text/plain": [
       "(3.0, 4.0)"
      ]
     },
     "execution_count": 6,
     "metadata": {},
     "output_type": "execute_result"
    }
   ],
   "source": [
    ">>> v1 = Vector([3, 4])\n",
    ">>> x, y = v1\n",
    ">>> x, y"
   ]
  },
  {
   "cell_type": "code",
   "execution_count": 7,
   "id": "1b342648-2b88-4eb8-865a-80590730d03a",
   "metadata": {},
   "outputs": [
    {
     "data": {
      "text/plain": [
       "Vector([3.0, 4.0])"
      ]
     },
     "execution_count": 7,
     "metadata": {},
     "output_type": "execute_result"
    }
   ],
   "source": [
    ">>> v1"
   ]
  },
  {
   "cell_type": "code",
   "execution_count": 8,
   "id": "f14c1ba6-c861-4517-87a8-36dd2df053f4",
   "metadata": {},
   "outputs": [
    {
     "data": {
      "text/plain": [
       "True"
      ]
     },
     "execution_count": 8,
     "metadata": {},
     "output_type": "execute_result"
    }
   ],
   "source": [
    ">>> v1_clone = eval(repr(v1))\n",
    ">>> v1 == v1_clone"
   ]
  },
  {
   "cell_type": "code",
   "execution_count": 9,
   "id": "66816599-77db-47f2-b3b4-bcf46ad377e1",
   "metadata": {},
   "outputs": [
    {
     "name": "stdout",
     "output_type": "stream",
     "text": [
      "(3.0, 4.0)\n"
     ]
    }
   ],
   "source": [
    ">>> print(v1)"
   ]
  },
  {
   "cell_type": "code",
   "execution_count": 10,
   "id": "6b014b59-0402-4a75-a3b4-0ad5a794eac0",
   "metadata": {},
   "outputs": [
    {
     "data": {
      "text/plain": [
       "b'd\\x00\\x00\\x00\\x00\\x00\\x00\\x08@\\x00\\x00\\x00\\x00\\x00\\x00\\x10@'"
      ]
     },
     "execution_count": 10,
     "metadata": {},
     "output_type": "execute_result"
    }
   ],
   "source": [
    ">>> octets = bytes(v1)\n",
    ">>> octets"
   ]
  },
  {
   "cell_type": "code",
   "execution_count": 11,
   "id": "45a785ef-b506-4705-b400-8664513ec659",
   "metadata": {},
   "outputs": [
    {
     "data": {
      "text/plain": [
       "5.0"
      ]
     },
     "execution_count": 11,
     "metadata": {},
     "output_type": "execute_result"
    }
   ],
   "source": [
    ">>> abs(v1)"
   ]
  },
  {
   "cell_type": "code",
   "execution_count": 12,
   "id": "fb2e7db1-5a45-4c7a-a278-b51a7943f124",
   "metadata": {},
   "outputs": [
    {
     "data": {
      "text/plain": [
       "(True, False)"
      ]
     },
     "execution_count": 12,
     "metadata": {},
     "output_type": "execute_result"
    }
   ],
   "source": [
    ">>> bool(v1), bool(Vector([0, 0]))"
   ]
  },
  {
   "cell_type": "markdown",
   "id": "7355e0e2-3760-4039-a2e4-be341a458f02",
   "metadata": {},
   "source": [
    "#### Test of ``.frombytes()`` class method:"
   ]
  },
  {
   "cell_type": "code",
   "execution_count": 13,
   "id": "789bef1a-7a29-41af-a416-7785cb89afcb",
   "metadata": {},
   "outputs": [
    {
     "data": {
      "text/plain": [
       "Vector([3.0, 4.0])"
      ]
     },
     "execution_count": 13,
     "metadata": {},
     "output_type": "execute_result"
    }
   ],
   "source": [
    ">>> v1_clone = Vector.frombytes(bytes(v1))\n",
    ">>> v1_clone"
   ]
  },
  {
   "cell_type": "code",
   "execution_count": 14,
   "id": "7847285c-bb18-427c-91f6-d56dd9db51dc",
   "metadata": {},
   "outputs": [
    {
     "data": {
      "text/plain": [
       "True"
      ]
     },
     "execution_count": 14,
     "metadata": {},
     "output_type": "execute_result"
    }
   ],
   "source": [
    ">>> v1 == v1_clone"
   ]
  },
  {
   "cell_type": "markdown",
   "id": "337df449-0887-4085-8d44-02f56e4d4ef5",
   "metadata": {},
   "source": [
    "#### Tests with 3-dimensions::"
   ]
  },
  {
   "cell_type": "code",
   "execution_count": 15,
   "id": "edb0be5d-8b75-446e-b2d9-9fcedfc895b8",
   "metadata": {},
   "outputs": [
    {
     "data": {
      "text/plain": [
       "(3.0, 4.0, 5.0)"
      ]
     },
     "execution_count": 15,
     "metadata": {},
     "output_type": "execute_result"
    }
   ],
   "source": [
    ">>> v1 = Vector([3, 4, 5])\n",
    ">>> x, y, z = v1\n",
    ">>> x, y, z"
   ]
  },
  {
   "cell_type": "code",
   "execution_count": 16,
   "id": "5255925f-f73e-410f-9e13-4dc063b04622",
   "metadata": {},
   "outputs": [
    {
     "data": {
      "text/plain": [
       "Vector([3.0, 4.0, 5.0])"
      ]
     },
     "execution_count": 16,
     "metadata": {},
     "output_type": "execute_result"
    }
   ],
   "source": [
    ">>> v1"
   ]
  },
  {
   "cell_type": "code",
   "execution_count": 17,
   "id": "a3681f4c-c54d-442f-b4d0-bea336f9be1d",
   "metadata": {},
   "outputs": [
    {
     "data": {
      "text/plain": [
       "True"
      ]
     },
     "execution_count": 17,
     "metadata": {},
     "output_type": "execute_result"
    }
   ],
   "source": [
    ">>> v1_clone = eval(repr(v1))\n",
    ">>> v1 == v1_clone"
   ]
  },
  {
   "cell_type": "code",
   "execution_count": 18,
   "id": "8d4e950b-7486-46f3-97a5-44202bbc992b",
   "metadata": {},
   "outputs": [
    {
     "name": "stdout",
     "output_type": "stream",
     "text": [
      "(3.0, 4.0, 5.0)\n"
     ]
    }
   ],
   "source": [
    ">>> print(v1)"
   ]
  },
  {
   "cell_type": "code",
   "execution_count": 19,
   "id": "a98c9b47-3be4-4cc6-b9c0-75d26db16947",
   "metadata": {},
   "outputs": [
    {
     "data": {
      "text/plain": [
       "7.0710678118654755"
      ]
     },
     "execution_count": 19,
     "metadata": {},
     "output_type": "execute_result"
    }
   ],
   "source": [
    ">>> abs(v1)  # doctest:+ELLIPSIS"
   ]
  },
  {
   "cell_type": "code",
   "execution_count": 20,
   "id": "2eaa9a93-e7d3-41ea-8591-44e070489752",
   "metadata": {},
   "outputs": [
    {
     "data": {
      "text/plain": [
       "(True, False)"
      ]
     },
     "execution_count": 20,
     "metadata": {},
     "output_type": "execute_result"
    }
   ],
   "source": [
    ">>> bool(v1), bool(Vector([0, 0, 0]))"
   ]
  },
  {
   "cell_type": "markdown",
   "id": "649eec9f-8d70-49f7-8085-e81acb13d9ef",
   "metadata": {},
   "source": [
    "#### Tests with many dimensions::"
   ]
  },
  {
   "cell_type": "code",
   "execution_count": 21,
   "id": "515c29bd-6e43-4e31-9260-2a039e9c6781",
   "metadata": {},
   "outputs": [
    {
     "data": {
      "text/plain": [
       "Vector([0.0, 1.0, 2.0, 3.0, 4.0, ...])"
      ]
     },
     "execution_count": 21,
     "metadata": {},
     "output_type": "execute_result"
    }
   ],
   "source": [
    ">>> v7 = Vector(range(7))\n",
    ">>> v7"
   ]
  },
  {
   "cell_type": "code",
   "execution_count": 22,
   "id": "48eb3cb1-449c-4f32-9b50-f14cf12cb7e6",
   "metadata": {},
   "outputs": [
    {
     "data": {
      "text/plain": [
       "9.539392014169456"
      ]
     },
     "execution_count": 22,
     "metadata": {},
     "output_type": "execute_result"
    }
   ],
   "source": [
    ">>> abs(v7)  # doctest:+ELLIPSIS"
   ]
  },
  {
   "cell_type": "markdown",
   "id": "6f1f9fb6-1f1e-40db-8ff7-5944f6b783b9",
   "metadata": {},
   "source": [
    "#### Test of ``.__bytes__`` and ``.frombytes()`` methods::"
   ]
  },
  {
   "cell_type": "code",
   "execution_count": 23,
   "id": "bfebe329-c8c0-4e2e-88ec-960b6463aac8",
   "metadata": {},
   "outputs": [
    {
     "data": {
      "text/plain": [
       "Vector([3.0, 4.0, 5.0])"
      ]
     },
     "execution_count": 23,
     "metadata": {},
     "output_type": "execute_result"
    }
   ],
   "source": [
    ">>> v1 = Vector([3, 4, 5])\n",
    ">>> v1_clone = Vector.frombytes(bytes(v1))\n",
    ">>> v1_clone"
   ]
  },
  {
   "cell_type": "code",
   "execution_count": 24,
   "id": "99b7fce8-9251-4aff-a093-f4d63f78acf7",
   "metadata": {},
   "outputs": [
    {
     "data": {
      "text/plain": [
       "True"
      ]
     },
     "execution_count": 24,
     "metadata": {},
     "output_type": "execute_result"
    }
   ],
   "source": [
    ">>> v1 == v1_clone"
   ]
  },
  {
   "cell_type": "markdown",
   "id": "98ade31d-5c29-424d-9040-d3130fa60dcc",
   "metadata": {},
   "source": [
    "#### Tests of sequence behavior::"
   ]
  },
  {
   "cell_type": "code",
   "execution_count": 25,
   "id": "2df4e28f-5e43-461b-a64b-22f6eb18e25d",
   "metadata": {},
   "outputs": [
    {
     "data": {
      "text/plain": [
       "3"
      ]
     },
     "execution_count": 25,
     "metadata": {},
     "output_type": "execute_result"
    }
   ],
   "source": [
    ">>> v1 = Vector([3, 4, 5])\n",
    ">>> len(v1)"
   ]
  },
  {
   "cell_type": "code",
   "execution_count": 26,
   "id": "3f5ecd07-2d2b-42a5-b285-244de9fd2465",
   "metadata": {},
   "outputs": [
    {
     "data": {
      "text/plain": [
       "(3.0, 5.0, 5.0)"
      ]
     },
     "execution_count": 26,
     "metadata": {},
     "output_type": "execute_result"
    }
   ],
   "source": [
    ">>> v1[0], v1[len(v1)-1], v1[-1]"
   ]
  },
  {
   "cell_type": "markdown",
   "id": "affed130-c889-46cf-bbdb-317c600840fc",
   "metadata": {},
   "source": [
    "#### Test of slicing::"
   ]
  },
  {
   "cell_type": "code",
   "execution_count": 27,
   "id": "81969006-d284-4031-b510-4107c81ef48a",
   "metadata": {},
   "outputs": [
    {
     "data": {
      "text/plain": [
       "6.0"
      ]
     },
     "execution_count": 27,
     "metadata": {},
     "output_type": "execute_result"
    }
   ],
   "source": [
    ">>> v7 = Vector(range(7))\n",
    ">>> v7[-1]"
   ]
  },
  {
   "cell_type": "code",
   "execution_count": 28,
   "id": "3dceefdb-98d4-4782-bfe4-7f5205c9d72e",
   "metadata": {},
   "outputs": [
    {
     "data": {
      "text/plain": [
       "Vector([1.0, 2.0, 3.0])"
      ]
     },
     "execution_count": 28,
     "metadata": {},
     "output_type": "execute_result"
    }
   ],
   "source": [
    ">>> v7[1:4]"
   ]
  },
  {
   "cell_type": "code",
   "execution_count": 29,
   "id": "35644e96-d759-48b6-af6e-0b34944ad97b",
   "metadata": {},
   "outputs": [
    {
     "data": {
      "text/plain": [
       "Vector([6.0])"
      ]
     },
     "execution_count": 29,
     "metadata": {},
     "output_type": "execute_result"
    }
   ],
   "source": [
    ">>> v7[-1:]"
   ]
  },
  {
   "cell_type": "code",
   "execution_count": 30,
   "id": "0b56f70f-439e-4ec9-93d8-057d2f165cb6",
   "metadata": {},
   "outputs": [
    {
     "ename": "TypeError",
     "evalue": "Vector indices must be integers",
     "output_type": "error",
     "traceback": [
      "\u001b[1;31m---------------------------------------------------------------------------\u001b[0m",
      "\u001b[1;31mTypeError\u001b[0m                                 Traceback (most recent call last)",
      "Input \u001b[1;32mIn [30]\u001b[0m, in \u001b[0;36m<module>\u001b[1;34m\u001b[0m\n\u001b[1;32m----> 1\u001b[0m \u001b[43mv7\u001b[49m\u001b[43m[\u001b[49m\u001b[38;5;241;43m1\u001b[39;49m\u001b[43m,\u001b[49m\u001b[38;5;241;43m2\u001b[39;49m\u001b[43m]\u001b[49m\n",
      "Input \u001b[1;32mIn [2]\u001b[0m, in \u001b[0;36mVector.__getitem__\u001b[1;34m(self, index)\u001b[0m\n\u001b[0;32m     56\u001b[0m \u001b[38;5;28;01melse\u001b[39;00m:\n\u001b[0;32m     57\u001b[0m     msg \u001b[38;5;241m=\u001b[39m \u001b[38;5;124m'\u001b[39m\u001b[38;5;124m{\u001b[39m\u001b[38;5;124m.__name__} indices must be integers\u001b[39m\u001b[38;5;124m'\u001b[39m\n\u001b[1;32m---> 58\u001b[0m     \u001b[38;5;28;01mraise\u001b[39;00m \u001b[38;5;167;01mTypeError\u001b[39;00m(msg\u001b[38;5;241m.\u001b[39mformat(\u001b[38;5;28mcls\u001b[39m))\n",
      "\u001b[1;31mTypeError\u001b[0m: Vector indices must be integers"
     ]
    }
   ],
   "source": [
    ">>> v7[1,2]"
   ]
  },
  {
   "cell_type": "markdown",
   "id": "f4961df2-ead7-4541-9357-0401bd7134fb",
   "metadata": {},
   "source": [
    "#### Tests of dynamic attribute access::"
   ]
  },
  {
   "cell_type": "code",
   "execution_count": 31,
   "id": "d1f953fe-a67c-4a5b-ab1e-d5c0f0144848",
   "metadata": {},
   "outputs": [
    {
     "data": {
      "text/plain": [
       "0.0"
      ]
     },
     "execution_count": 31,
     "metadata": {},
     "output_type": "execute_result"
    }
   ],
   "source": [
    ">>> v7 = Vector(range(10))\n",
    ">>> v7.x"
   ]
  },
  {
   "cell_type": "code",
   "execution_count": 32,
   "id": "0fd4720f-4954-4620-916d-4b6bc7d3cc13",
   "metadata": {},
   "outputs": [
    {
     "data": {
      "text/plain": [
       "(1.0, 2.0, 3.0)"
      ]
     },
     "execution_count": 32,
     "metadata": {},
     "output_type": "execute_result"
    }
   ],
   "source": [
    ">>> v7.y, v7.z, v7.t"
   ]
  },
  {
   "cell_type": "markdown",
   "id": "c4ddb06c-dd04-4480-84f4-a394e43a6c97",
   "metadata": {},
   "source": [
    "#### Dynamic attribute lookup failures::"
   ]
  },
  {
   "cell_type": "code",
   "execution_count": 33,
   "id": "ad218365-2c7e-4a8f-948c-9b52912def9b",
   "metadata": {},
   "outputs": [
    {
     "ename": "AttributeError",
     "evalue": "'Vector' object has no attribute 'k'",
     "output_type": "error",
     "traceback": [
      "\u001b[1;31m---------------------------------------------------------------------------\u001b[0m",
      "\u001b[1;31mAttributeError\u001b[0m                            Traceback (most recent call last)",
      "Input \u001b[1;32mIn [33]\u001b[0m, in \u001b[0;36m<module>\u001b[1;34m\u001b[0m\n\u001b[1;32m----> 1\u001b[0m \u001b[43mv7\u001b[49m\u001b[38;5;241;43m.\u001b[39;49m\u001b[43mk\u001b[49m\n",
      "Input \u001b[1;32mIn [2]\u001b[0m, in \u001b[0;36mVector.__getattr__\u001b[1;34m(self, name)\u001b[0m\n\u001b[0;32m     67\u001b[0m         \u001b[38;5;28;01mreturn\u001b[39;00m \u001b[38;5;28mself\u001b[39m\u001b[38;5;241m.\u001b[39m_components[pos]\n\u001b[0;32m     68\u001b[0m msg \u001b[38;5;241m=\u001b[39m \u001b[38;5;124m'\u001b[39m\u001b[38;5;124m{\u001b[39m\u001b[38;5;124m.__name__!r} object has no attribute \u001b[39m\u001b[38;5;132;01m{!r}\u001b[39;00m\u001b[38;5;124m'\u001b[39m\n\u001b[1;32m---> 69\u001b[0m \u001b[38;5;28;01mraise\u001b[39;00m \u001b[38;5;167;01mAttributeError\u001b[39;00m(msg\u001b[38;5;241m.\u001b[39mformat(\u001b[38;5;28mcls\u001b[39m, name))\n",
      "\u001b[1;31mAttributeError\u001b[0m: 'Vector' object has no attribute 'k'"
     ]
    }
   ],
   "source": [
    ">>> v7.k"
   ]
  },
  {
   "cell_type": "code",
   "execution_count": 34,
   "id": "8e1f877c-986b-4daf-8e7d-7fc17098b9ba",
   "metadata": {},
   "outputs": [
    {
     "ename": "AttributeError",
     "evalue": "'Vector' object has no attribute 't'",
     "output_type": "error",
     "traceback": [
      "\u001b[1;31m---------------------------------------------------------------------------\u001b[0m",
      "\u001b[1;31mAttributeError\u001b[0m                            Traceback (most recent call last)",
      "Input \u001b[1;32mIn [34]\u001b[0m, in \u001b[0;36m<module>\u001b[1;34m\u001b[0m\n\u001b[0;32m      1\u001b[0m v3 \u001b[38;5;241m=\u001b[39m Vector(\u001b[38;5;28mrange\u001b[39m(\u001b[38;5;241m3\u001b[39m))\n\u001b[1;32m----> 2\u001b[0m \u001b[43mv3\u001b[49m\u001b[38;5;241;43m.\u001b[39;49m\u001b[43mt\u001b[49m\n",
      "Input \u001b[1;32mIn [2]\u001b[0m, in \u001b[0;36mVector.__getattr__\u001b[1;34m(self, name)\u001b[0m\n\u001b[0;32m     67\u001b[0m         \u001b[38;5;28;01mreturn\u001b[39;00m \u001b[38;5;28mself\u001b[39m\u001b[38;5;241m.\u001b[39m_components[pos]\n\u001b[0;32m     68\u001b[0m msg \u001b[38;5;241m=\u001b[39m \u001b[38;5;124m'\u001b[39m\u001b[38;5;124m{\u001b[39m\u001b[38;5;124m.__name__!r} object has no attribute \u001b[39m\u001b[38;5;132;01m{!r}\u001b[39;00m\u001b[38;5;124m'\u001b[39m\n\u001b[1;32m---> 69\u001b[0m \u001b[38;5;28;01mraise\u001b[39;00m \u001b[38;5;167;01mAttributeError\u001b[39;00m(msg\u001b[38;5;241m.\u001b[39mformat(\u001b[38;5;28mcls\u001b[39m, name))\n",
      "\u001b[1;31mAttributeError\u001b[0m: 'Vector' object has no attribute 't'"
     ]
    }
   ],
   "source": [
    ">>> v3 = Vector(range(3))\n",
    ">>> v3.t"
   ]
  },
  {
   "cell_type": "code",
   "execution_count": 35,
   "id": "cb76e2a9-1a56-4bbd-a910-689d9ea79f4f",
   "metadata": {},
   "outputs": [
    {
     "ename": "AttributeError",
     "evalue": "'Vector' object has no attribute 'spam'",
     "output_type": "error",
     "traceback": [
      "\u001b[1;31m---------------------------------------------------------------------------\u001b[0m",
      "\u001b[1;31mAttributeError\u001b[0m                            Traceback (most recent call last)",
      "Input \u001b[1;32mIn [35]\u001b[0m, in \u001b[0;36m<module>\u001b[1;34m\u001b[0m\n\u001b[1;32m----> 1\u001b[0m \u001b[43mv3\u001b[49m\u001b[38;5;241;43m.\u001b[39;49m\u001b[43mspam\u001b[49m\n",
      "Input \u001b[1;32mIn [2]\u001b[0m, in \u001b[0;36mVector.__getattr__\u001b[1;34m(self, name)\u001b[0m\n\u001b[0;32m     67\u001b[0m         \u001b[38;5;28;01mreturn\u001b[39;00m \u001b[38;5;28mself\u001b[39m\u001b[38;5;241m.\u001b[39m_components[pos]\n\u001b[0;32m     68\u001b[0m msg \u001b[38;5;241m=\u001b[39m \u001b[38;5;124m'\u001b[39m\u001b[38;5;124m{\u001b[39m\u001b[38;5;124m.__name__!r} object has no attribute \u001b[39m\u001b[38;5;132;01m{!r}\u001b[39;00m\u001b[38;5;124m'\u001b[39m\n\u001b[1;32m---> 69\u001b[0m \u001b[38;5;28;01mraise\u001b[39;00m \u001b[38;5;167;01mAttributeError\u001b[39;00m(msg\u001b[38;5;241m.\u001b[39mformat(\u001b[38;5;28mcls\u001b[39m, name))\n",
      "\u001b[1;31mAttributeError\u001b[0m: 'Vector' object has no attribute 'spam'"
     ]
    }
   ],
   "source": [
    ">>> v3.spam"
   ]
  },
  {
   "cell_type": "markdown",
   "id": "43cb7a10-61b1-4385-bd98-ca4552c1aa16",
   "metadata": {},
   "source": [
    "#### Tests of hashing::"
   ]
  },
  {
   "cell_type": "code",
   "execution_count": 36,
   "id": "e720112f-de09-401a-8afb-c464a148f195",
   "metadata": {},
   "outputs": [
    {
     "data": {
      "text/plain": [
       "(7, 2, 1)"
      ]
     },
     "execution_count": 36,
     "metadata": {},
     "output_type": "execute_result"
    }
   ],
   "source": [
    ">>> v1 = Vector([3, 4])\n",
    ">>> v2 = Vector([3.1, 4.2])\n",
    ">>> v3 = Vector([3, 4, 5])\n",
    ">>> v6 = Vector(range(6))\n",
    ">>> hash(v1), hash(v3), hash(v6)"
   ]
  },
  {
   "cell_type": "markdown",
   "id": "9edffb04-ed3b-4293-a803-87b26e316663",
   "metadata": {},
   "source": [
    "#### Most hash values of non-integers vary from a 32-bit to 64-bit Python build::"
   ]
  },
  {
   "cell_type": "code",
   "execution_count": 37,
   "id": "81de71f2-5892-43c1-bcd7-899da8a79b45",
   "metadata": {},
   "outputs": [
    {
     "data": {
      "text/plain": [
       "True"
      ]
     },
     "execution_count": 37,
     "metadata": {},
     "output_type": "execute_result"
    }
   ],
   "source": [
    ">>> import sys\n",
    ">>> hash(v2) == (384307168202284039 if sys.maxsize > 2**32 else 357915986)"
   ]
  },
  {
   "cell_type": "markdown",
   "id": "f94ed37a-c70a-4deb-976c-3f5d9ccec68b",
   "metadata": {},
   "source": [
    "#### Tests of ``format()`` with Cartesian coordinates in 2D::"
   ]
  },
  {
   "cell_type": "code",
   "execution_count": 38,
   "id": "3940b4c1-d7f5-4be2-b937-a82bb6a4f481",
   "metadata": {},
   "outputs": [
    {
     "data": {
      "text/plain": [
       "'(3.0, 4.0)'"
      ]
     },
     "execution_count": 38,
     "metadata": {},
     "output_type": "execute_result"
    }
   ],
   "source": [
    ">>> v1 = Vector([3, 4])\n",
    ">>> format(v1)"
   ]
  },
  {
   "cell_type": "code",
   "execution_count": 39,
   "id": "53374dc2-e09e-4248-8d8d-2a408ec9172c",
   "metadata": {},
   "outputs": [
    {
     "data": {
      "text/plain": [
       "'(3.00, 4.00)'"
      ]
     },
     "execution_count": 39,
     "metadata": {},
     "output_type": "execute_result"
    }
   ],
   "source": [
    ">>> format(v1, '.2f')"
   ]
  },
  {
   "cell_type": "code",
   "execution_count": 40,
   "id": "3041cd33-1b58-4158-a52f-5c4983361f09",
   "metadata": {},
   "outputs": [
    {
     "data": {
      "text/plain": [
       "'(3.000e+00, 4.000e+00)'"
      ]
     },
     "execution_count": 40,
     "metadata": {},
     "output_type": "execute_result"
    }
   ],
   "source": [
    ">>> format(v1, '.3e')"
   ]
  },
  {
   "cell_type": "markdown",
   "id": "c39ddbd4-021a-43c0-9807-1661245a9d05",
   "metadata": {},
   "source": [
    "#### Tests of ``format()`` with Cartesian coordinates in 3D and 7D::"
   ]
  },
  {
   "cell_type": "code",
   "execution_count": 41,
   "id": "46b25aa1-1cf1-4ef8-a8b2-5bd6cb289f9d",
   "metadata": {},
   "outputs": [
    {
     "data": {
      "text/plain": [
       "'(3.0, 4.0, 5.0)'"
      ]
     },
     "execution_count": 41,
     "metadata": {},
     "output_type": "execute_result"
    }
   ],
   "source": [
    ">>> v3 = Vector([3, 4, 5])\n",
    ">>> format(v3)"
   ]
  },
  {
   "cell_type": "code",
   "execution_count": 42,
   "id": "d85df77b-07c7-4595-a902-8483c2939dbf",
   "metadata": {},
   "outputs": [
    {
     "data": {
      "text/plain": [
       "'(0.0, 1.0, 2.0, 3.0, 4.0, 5.0, 6.0)'"
      ]
     },
     "execution_count": 42,
     "metadata": {},
     "output_type": "execute_result"
    }
   ],
   "source": [
    ">>> format(Vector(range(7)))"
   ]
  },
  {
   "cell_type": "markdown",
   "id": "df895b5a-1ae9-4b87-a5a1-59c2c77da987",
   "metadata": {},
   "source": [
    "#### Tests of ``format()`` with spherical coordinates in 2D, 3D and 4D::"
   ]
  },
  {
   "cell_type": "code",
   "execution_count": 43,
   "id": "2b461e4d-1b4f-4618-b0c5-837755336e8d",
   "metadata": {},
   "outputs": [
    {
     "data": {
      "text/plain": [
       "'<1.4142135623730951, 0.7853981633974483>'"
      ]
     },
     "execution_count": 43,
     "metadata": {},
     "output_type": "execute_result"
    }
   ],
   "source": [
    ">>> format(Vector([1, 1]), 'h')  # doctest:+ELLIPSIS"
   ]
  },
  {
   "cell_type": "code",
   "execution_count": 44,
   "id": "607ba080-e0f3-4fb9-a763-db112760470f",
   "metadata": {},
   "outputs": [
    {
     "data": {
      "text/plain": [
       "'<1.414e+00, 7.854e-01>'"
      ]
     },
     "execution_count": 44,
     "metadata": {},
     "output_type": "execute_result"
    }
   ],
   "source": [
    ">>> format(Vector([1, 1]), '.3eh')"
   ]
  },
  {
   "cell_type": "code",
   "execution_count": 45,
   "id": "ee0ca430-af17-4d4c-8386-e6c7c3f54a7d",
   "metadata": {},
   "outputs": [
    {
     "data": {
      "text/plain": [
       "'<1.41421, 0.78540>'"
      ]
     },
     "execution_count": 45,
     "metadata": {},
     "output_type": "execute_result"
    }
   ],
   "source": [
    ">>> format(Vector([1, 1]), '0.5fh')"
   ]
  },
  {
   "cell_type": "code",
   "execution_count": 46,
   "id": "115d687f-09c4-42be-be5a-5a33724bef01",
   "metadata": {},
   "outputs": [
    {
     "data": {
      "text/plain": [
       "'<1.7320508075688772, 0.9553166181245093, 0.7853981633974483>'"
      ]
     },
     "execution_count": 46,
     "metadata": {},
     "output_type": "execute_result"
    }
   ],
   "source": [
    ">>> format(Vector([1, 1, 1]), 'h')  # doctest:+ELLIPSIS"
   ]
  },
  {
   "cell_type": "code",
   "execution_count": 47,
   "id": "3c0e290d-d6f8-44cb-9a7d-14bea8265009",
   "metadata": {},
   "outputs": [
    {
     "data": {
      "text/plain": [
       "'<3.464e+00, 9.553e-01, 7.854e-01>'"
      ]
     },
     "execution_count": 47,
     "metadata": {},
     "output_type": "execute_result"
    }
   ],
   "source": [
    ">>> format(Vector([2, 2, 2]), '.3eh')"
   ]
  },
  {
   "cell_type": "code",
   "execution_count": 48,
   "id": "70d9c99a-7e63-4ff6-8b70-659dd6abac50",
   "metadata": {},
   "outputs": [
    {
     "data": {
      "text/plain": [
       "'<0.00000, 0.00000, 0.00000>'"
      ]
     },
     "execution_count": 48,
     "metadata": {},
     "output_type": "execute_result"
    }
   ],
   "source": [
    ">>> format(Vector([0, 0, 0]), '0.5fh')"
   ]
  },
  {
   "cell_type": "code",
   "execution_count": 49,
   "id": "910be623-d299-40a4-b83d-74a80147f582",
   "metadata": {},
   "outputs": [
    {
     "data": {
      "text/plain": [
       "'<2.0, 2.0943951023931957, 2.186276035465284, 3.9269908169872414>'"
      ]
     },
     "execution_count": 49,
     "metadata": {},
     "output_type": "execute_result"
    }
   ],
   "source": [
    ">>> format(Vector([-1, -1, -1, -1]), 'h')  # doctest:+ELLIPSIS"
   ]
  },
  {
   "cell_type": "code",
   "execution_count": 50,
   "id": "277623f9-2354-46b9-b0f9-2a3951fa8a4b",
   "metadata": {},
   "outputs": [
    {
     "data": {
      "text/plain": [
       "'<4.000e+00, 1.047e+00, 9.553e-01, 7.854e-01>'"
      ]
     },
     "execution_count": 50,
     "metadata": {},
     "output_type": "execute_result"
    }
   ],
   "source": [
    ">>> format(Vector([2, 2, 2, 2]), '.3eh')"
   ]
  },
  {
   "cell_type": "code",
   "execution_count": 51,
   "id": "9536d1ff-ff10-495c-859a-001d6f0b47a0",
   "metadata": {},
   "outputs": [
    {
     "data": {
      "text/plain": [
       "'<1.00000, 1.57080, 0.00000, 0.00000>'"
      ]
     },
     "execution_count": 51,
     "metadata": {},
     "output_type": "execute_result"
    }
   ],
   "source": [
    ">>> format(Vector([0, 1, 0, 0]), '0.5fh')"
   ]
  },
  {
   "cell_type": "markdown",
   "id": "746fe54e-2af5-4ca8-b121-d194fa91ddb1",
   "metadata": {},
   "source": [
    "#### Unary operator tests::"
   ]
  },
  {
   "cell_type": "code",
   "execution_count": 52,
   "id": "c5e73ce8-b548-4be9-9e3d-432a76eb7f89",
   "metadata": {},
   "outputs": [
    {
     "data": {
      "text/plain": [
       "5.0"
      ]
     },
     "execution_count": 52,
     "metadata": {},
     "output_type": "execute_result"
    }
   ],
   "source": [
    ">>> v1 = Vector([3, 4])\n",
    ">>> abs(v1)"
   ]
  },
  {
   "cell_type": "code",
   "execution_count": 53,
   "id": "4911dd51-9332-45ab-a1bf-e1f16c21a05b",
   "metadata": {},
   "outputs": [
    {
     "data": {
      "text/plain": [
       "Vector([-3.0, -4.0])"
      ]
     },
     "execution_count": 53,
     "metadata": {},
     "output_type": "execute_result"
    }
   ],
   "source": [
    ">>> -v1"
   ]
  },
  {
   "cell_type": "code",
   "execution_count": 54,
   "id": "ca5d3df2-ea77-4be5-a095-97fcb62a20ec",
   "metadata": {},
   "outputs": [
    {
     "data": {
      "text/plain": [
       "Vector([3.0, 4.0])"
      ]
     },
     "execution_count": 54,
     "metadata": {},
     "output_type": "execute_result"
    }
   ],
   "source": [
    ">>> +v1"
   ]
  },
  {
   "cell_type": "markdown",
   "id": "2f2fd8d4-352d-49a8-ae16-b46679b80d5d",
   "metadata": {},
   "source": [
    "#### Basic tests of operator ``+``::"
   ]
  },
  {
   "cell_type": "code",
   "execution_count": 55,
   "id": "120e90a1-10ab-4882-b825-8e8a18d6e8e9",
   "metadata": {},
   "outputs": [
    {
     "data": {
      "text/plain": [
       "Vector([9.0, 11.0, 13.0])"
      ]
     },
     "execution_count": 55,
     "metadata": {},
     "output_type": "execute_result"
    }
   ],
   "source": [
    ">>> v1 = Vector([3, 4, 5])\n",
    ">>> v2 = Vector([6, 7, 8])\n",
    ">>> v1 + v2"
   ]
  },
  {
   "cell_type": "code",
   "execution_count": 56,
   "id": "68f22dd3-82e4-477c-98f5-eb1af5e6da2c",
   "metadata": {},
   "outputs": [
    {
     "data": {
      "text/plain": [
       "True"
      ]
     },
     "execution_count": 56,
     "metadata": {},
     "output_type": "execute_result"
    }
   ],
   "source": [
    ">>> v1 + v2 == Vector([3+6, 4+7, 5+8])"
   ]
  },
  {
   "cell_type": "code",
   "execution_count": 57,
   "id": "f42b9133-9f5f-4498-ab6d-9f06cfd78718",
   "metadata": {},
   "outputs": [
    {
     "data": {
      "text/plain": [
       "Vector([4.0, 6.0, 5.0])"
      ]
     },
     "execution_count": 57,
     "metadata": {},
     "output_type": "execute_result"
    }
   ],
   "source": [
    ">>> v3 = Vector([1, 2])\n",
    ">>> v1 + v3  # short vectors are filled with 0.0 on addition"
   ]
  },
  {
   "cell_type": "markdown",
   "id": "7761d6f7-7189-4e4b-9001-796eb122e044",
   "metadata": {},
   "source": [
    "#### Tests of ``+`` with mixed types::"
   ]
  },
  {
   "cell_type": "code",
   "execution_count": 58,
   "id": "c4fad6e4-aab1-45d2-b5db-7f4f68fbbe87",
   "metadata": {},
   "outputs": [
    {
     "data": {
      "text/plain": [
       "Vector([13.0, 24.0, 35.0])"
      ]
     },
     "execution_count": 58,
     "metadata": {},
     "output_type": "execute_result"
    }
   ],
   "source": [
    ">>> v1 + (10, 20, 30)"
   ]
  },
  {
   "cell_type": "code",
   "execution_count": 59,
   "id": "2e406d11-64f1-420e-b80f-d92989ee4b01",
   "metadata": {},
   "outputs": [],
   "source": [
    "import import_ipynb"
   ]
  },
  {
   "cell_type": "code",
   "execution_count": 61,
   "id": "52deaeff-fb68-4394-8914-12e38a6d0447",
   "metadata": {},
   "outputs": [
    {
     "data": {
      "text/plain": [
       "Vector([4.0, 6.0, 5.0])"
      ]
     },
     "execution_count": 61,
     "metadata": {},
     "output_type": "execute_result"
    }
   ],
   "source": [
    ">>> from vector2d_v3 import Vector2d\n",
    ">>> v2d = Vector2d(1, 2)\n",
    ">>> v1 + v2d"
   ]
  },
  {
   "cell_type": "markdown",
   "id": "5cd4d72c-e194-4e44-9dc4-0247429b963b",
   "metadata": {},
   "source": [
    "#### Tests of ``+`` with mixed types, swapped operands::"
   ]
  },
  {
   "cell_type": "code",
   "execution_count": 62,
   "id": "922a1e76-7c60-41b4-8b32-d96330aa00f2",
   "metadata": {},
   "outputs": [
    {
     "data": {
      "text/plain": [
       "Vector([13.0, 24.0, 35.0])"
      ]
     },
     "execution_count": 62,
     "metadata": {},
     "output_type": "execute_result"
    }
   ],
   "source": [
    ">>> (10, 20, 30) + v1"
   ]
  },
  {
   "cell_type": "code",
   "execution_count": 63,
   "id": "c60c4301-368b-4a38-8a7c-fc488671e7fa",
   "metadata": {},
   "outputs": [
    {
     "data": {
      "text/plain": [
       "Vector([4.0, 6.0, 5.0])"
      ]
     },
     "execution_count": 63,
     "metadata": {},
     "output_type": "execute_result"
    }
   ],
   "source": [
    ">>> from vector2d_v3 import Vector2d\n",
    ">>> v2d = Vector2d(1, 2)\n",
    ">>> v2d + v1"
   ]
  },
  {
   "cell_type": "markdown",
   "id": "0a0c417a-a2e3-433e-884b-870982b6d7bc",
   "metadata": {},
   "source": [
    "#### Tests of ``+`` with an unsuitable operand:"
   ]
  },
  {
   "cell_type": "code",
   "execution_count": 64,
   "id": "0cb58dcf-2826-4600-aaae-17ff2f897571",
   "metadata": {},
   "outputs": [
    {
     "ename": "TypeError",
     "evalue": "unsupported operand type(s) for +: 'Vector' and 'int'",
     "output_type": "error",
     "traceback": [
      "\u001b[1;31m---------------------------------------------------------------------------\u001b[0m",
      "\u001b[1;31mTypeError\u001b[0m                                 Traceback (most recent call last)",
      "Input \u001b[1;32mIn [64]\u001b[0m, in \u001b[0;36m<module>\u001b[1;34m\u001b[0m\n\u001b[1;32m----> 1\u001b[0m \u001b[43mv1\u001b[49m\u001b[43m \u001b[49m\u001b[38;5;241;43m+\u001b[39;49m\u001b[43m \u001b[49m\u001b[38;5;241;43m1\u001b[39;49m\n",
      "\u001b[1;31mTypeError\u001b[0m: unsupported operand type(s) for +: 'Vector' and 'int'"
     ]
    }
   ],
   "source": [
    ">>> v1 + 1"
   ]
  },
  {
   "cell_type": "code",
   "execution_count": 65,
   "id": "35b1af8d-6f8a-45cf-8fd0-09a1f8586ae7",
   "metadata": {},
   "outputs": [
    {
     "ename": "TypeError",
     "evalue": "unsupported operand type(s) for +: 'Vector' and 'str'",
     "output_type": "error",
     "traceback": [
      "\u001b[1;31m---------------------------------------------------------------------------\u001b[0m",
      "\u001b[1;31mTypeError\u001b[0m                                 Traceback (most recent call last)",
      "Input \u001b[1;32mIn [65]\u001b[0m, in \u001b[0;36m<module>\u001b[1;34m\u001b[0m\n\u001b[1;32m----> 1\u001b[0m \u001b[43mv1\u001b[49m\u001b[43m \u001b[49m\u001b[38;5;241;43m+\u001b[39;49m\u001b[43m \u001b[49m\u001b[38;5;124;43m'\u001b[39;49m\u001b[38;5;124;43mABC\u001b[39;49m\u001b[38;5;124;43m'\u001b[39;49m\n",
      "\u001b[1;31mTypeError\u001b[0m: unsupported operand type(s) for +: 'Vector' and 'str'"
     ]
    }
   ],
   "source": [
    ">>> v1 + 'ABC'"
   ]
  },
  {
   "cell_type": "markdown",
   "id": "5bd84420-4f79-4e8c-9bad-d220750faddf",
   "metadata": {},
   "source": [
    "#### Basic tests of operator ``*``::"
   ]
  },
  {
   "cell_type": "code",
   "execution_count": 66,
   "id": "e3bed576-8d49-401a-b9d2-62636ef5ffee",
   "metadata": {},
   "outputs": [
    {
     "data": {
      "text/plain": [
       "Vector([10.0, 20.0, 30.0])"
      ]
     },
     "execution_count": 66,
     "metadata": {},
     "output_type": "execute_result"
    }
   ],
   "source": [
    ">>> v1 = Vector([1, 2, 3])\n",
    ">>> v1 * 10"
   ]
  },
  {
   "cell_type": "code",
   "execution_count": 67,
   "id": "1ae981e7-9844-4236-8e25-26a0ee835842",
   "metadata": {},
   "outputs": [
    {
     "data": {
      "text/plain": [
       "Vector([10.0, 20.0, 30.0])"
      ]
     },
     "execution_count": 67,
     "metadata": {},
     "output_type": "execute_result"
    }
   ],
   "source": [
    ">>> 10 * v1"
   ]
  },
  {
   "cell_type": "markdown",
   "id": "2ab6edad-c91f-46b9-b64e-db3635b73719",
   "metadata": {},
   "source": [
    "#### Tests of ``*`` with unusual but valid operands::"
   ]
  },
  {
   "cell_type": "code",
   "execution_count": 68,
   "id": "1bed140c-41dd-4bc2-8237-72be53416147",
   "metadata": {},
   "outputs": [
    {
     "data": {
      "text/plain": [
       "Vector([1.0, 2.0, 3.0])"
      ]
     },
     "execution_count": 68,
     "metadata": {},
     "output_type": "execute_result"
    }
   ],
   "source": [
    ">>> v1 * True"
   ]
  },
  {
   "cell_type": "code",
   "execution_count": 69,
   "id": "0b63ee64-75fe-4950-ac20-36d780bbe5d2",
   "metadata": {},
   "outputs": [
    {
     "data": {
      "text/plain": [
       "Vector([0.3333333333333333, 0.6666666666666666, 1.0])"
      ]
     },
     "execution_count": 69,
     "metadata": {},
     "output_type": "execute_result"
    }
   ],
   "source": [
    ">>> from fractions import Fraction\n",
    ">>> v1 * Fraction(1, 3)  # doctest:+ELLIPSIS"
   ]
  },
  {
   "cell_type": "markdown",
   "id": "4d3184a0-e870-41ce-b5f1-b7ebf60b1f45",
   "metadata": {},
   "source": [
    "#### Tests of ``*`` with unsuitable operands::"
   ]
  },
  {
   "cell_type": "code",
   "execution_count": 70,
   "id": "3b8b6171-2f9a-4679-8dd8-2572972e881e",
   "metadata": {},
   "outputs": [
    {
     "ename": "TypeError",
     "evalue": "can't multiply sequence by non-int of type 'Vector'",
     "output_type": "error",
     "traceback": [
      "\u001b[1;31m---------------------------------------------------------------------------\u001b[0m",
      "\u001b[1;31mTypeError\u001b[0m                                 Traceback (most recent call last)",
      "Input \u001b[1;32mIn [70]\u001b[0m, in \u001b[0;36m<module>\u001b[1;34m\u001b[0m\n\u001b[1;32m----> 1\u001b[0m \u001b[43mv1\u001b[49m\u001b[43m \u001b[49m\u001b[38;5;241;43m*\u001b[39;49m\u001b[43m \u001b[49m\u001b[43m(\u001b[49m\u001b[38;5;241;43m1\u001b[39;49m\u001b[43m,\u001b[49m\u001b[43m \u001b[49m\u001b[38;5;241;43m2\u001b[39;49m\u001b[43m)\u001b[49m\n",
      "\u001b[1;31mTypeError\u001b[0m: can't multiply sequence by non-int of type 'Vector'"
     ]
    }
   ],
   "source": [
    ">>> v1 * (1, 2)"
   ]
  },
  {
   "cell_type": "markdown",
   "id": "ff89d3af-9ad4-4d5e-84ad-90c6f6b799cf",
   "metadata": {},
   "source": [
    "#### Tests of operator `==`::"
   ]
  },
  {
   "cell_type": "code",
   "execution_count": 71,
   "id": "55029788-ba87-4540-89b8-54ea94c0d145",
   "metadata": {},
   "outputs": [
    {
     "data": {
      "text/plain": [
       "True"
      ]
     },
     "execution_count": 71,
     "metadata": {},
     "output_type": "execute_result"
    }
   ],
   "source": [
    ">>> va = Vector(range(1, 4))\n",
    ">>> vb = Vector([1.0, 2.0, 3.0])\n",
    ">>> va == vb"
   ]
  },
  {
   "cell_type": "code",
   "execution_count": 72,
   "id": "c6330603-af28-4eb8-a966-2a7dfbe83430",
   "metadata": {},
   "outputs": [
    {
     "data": {
      "text/plain": [
       "True"
      ]
     },
     "execution_count": 72,
     "metadata": {},
     "output_type": "execute_result"
    }
   ],
   "source": [
    ">>> vc = Vector([1, 2])\n",
    ">>> from vector2d_v3 import Vector2d\n",
    ">>> v2d = Vector2d(1, 2)\n",
    ">>> vc == v2d"
   ]
  },
  {
   "cell_type": "code",
   "execution_count": 73,
   "id": "fe587101-77e2-4810-b376-75e0c6477a06",
   "metadata": {},
   "outputs": [
    {
     "data": {
      "text/plain": [
       "False"
      ]
     },
     "execution_count": 73,
     "metadata": {},
     "output_type": "execute_result"
    }
   ],
   "source": [
    ">>> va == (1, 2, 3)"
   ]
  },
  {
   "cell_type": "markdown",
   "id": "e572005c-8824-4c57-97eb-84b896d73617",
   "metadata": {},
   "source": [
    "#### Tests of operator `!=`::"
   ]
  },
  {
   "cell_type": "code",
   "execution_count": 74,
   "id": "6e6bc636-ee41-4e8e-80eb-f2e826c99066",
   "metadata": {},
   "outputs": [
    {
     "data": {
      "text/plain": [
       "False"
      ]
     },
     "execution_count": 74,
     "metadata": {},
     "output_type": "execute_result"
    }
   ],
   "source": [
    ">>> va != vb"
   ]
  },
  {
   "cell_type": "code",
   "execution_count": 75,
   "id": "50c29f43-59f8-4170-a77d-19ce89a7a252",
   "metadata": {},
   "outputs": [
    {
     "data": {
      "text/plain": [
       "False"
      ]
     },
     "execution_count": 75,
     "metadata": {},
     "output_type": "execute_result"
    }
   ],
   "source": [
    ">>> vc != v2d"
   ]
  },
  {
   "cell_type": "code",
   "execution_count": 76,
   "id": "6bba817d-403b-4c3b-839f-1db6786657c8",
   "metadata": {},
   "outputs": [
    {
     "data": {
      "text/plain": [
       "True"
      ]
     },
     "execution_count": 76,
     "metadata": {},
     "output_type": "execute_result"
    }
   ],
   "source": [
    ">>> va != (1, 2, 3)"
   ]
  }
 ],
 "metadata": {
  "kernelspec": {
   "display_name": "Python 3 (ipykernel)",
   "language": "python",
   "name": "python3"
  },
  "language_info": {
   "codemirror_mode": {
    "name": "ipython",
    "version": 3
   },
   "file_extension": ".py",
   "mimetype": "text/x-python",
   "name": "python",
   "nbconvert_exporter": "python",
   "pygments_lexer": "ipython3",
   "version": "3.10.2"
  }
 },
 "nbformat": 4,
 "nbformat_minor": 5
}
