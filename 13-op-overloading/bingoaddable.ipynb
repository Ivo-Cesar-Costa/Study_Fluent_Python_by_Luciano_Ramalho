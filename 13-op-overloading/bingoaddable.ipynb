{
 "cells": [
  {
   "cell_type": "code",
   "execution_count": 1,
   "id": "daf9bf83-2563-41e2-ba89-adbf9fb3d46b",
   "metadata": {},
   "outputs": [],
   "source": [
    "import itertools  # <1>"
   ]
  },
  {
   "cell_type": "code",
   "execution_count": 2,
   "id": "3a065e4c-11b8-444e-8262-3f04034af062",
   "metadata": {},
   "outputs": [
    {
     "name": "stdout",
     "output_type": "stream",
     "text": [
      "importing Jupyter notebook from tombola.ipynb\n",
      "importing Jupyter notebook from bingo.ipynb\n"
     ]
    }
   ],
   "source": [
    "import import_ipynb\n",
    "from tombola import Tombola\n",
    "from bingo import BingoCage"
   ]
  },
  {
   "cell_type": "code",
   "execution_count": 3,
   "id": "4d098d9c-2ddc-4dad-ad1a-64128b45351b",
   "metadata": {},
   "outputs": [],
   "source": [
    "class AddableBingoCage(BingoCage):  # <2>\n",
    "\n",
    "    def __add__(self, other):\n",
    "        if isinstance(other, Tombola):  # <3>\n",
    "            return AddableBingoCage(self.inspect() + other.inspect())  # <6>\n",
    "        else:\n",
    "            return NotImplemented\n",
    "\n",
    "    def __iadd__(self, other):\n",
    "        if isinstance(other, Tombola):\n",
    "            other_iterable = other.inspect()  # <4>\n",
    "        else:\n",
    "            try:\n",
    "                other_iterable = iter(other)  # <5>\n",
    "            except TypeError:  # <6>\n",
    "                self_cls = type(self).__name__\n",
    "                msg = \"right operand in += must be {!r} or an iterable\"\n",
    "                raise TypeError(msg.format(self_cls))\n",
    "        self.load(other_iterable)  # <7>\n",
    "        return self  # <8>"
   ]
  },
  {
   "cell_type": "markdown",
   "id": "82878992-66d6-4421-967a-d329c7d53fe0",
   "metadata": {},
   "source": [
    "#### Tests for __add__:"
   ]
  },
  {
   "cell_type": "code",
   "execution_count": 4,
   "id": "98ac2755-453f-40e9-8356-4f5773757489",
   "metadata": {},
   "outputs": [
    {
     "data": {
      "text/plain": [
       "('A', 'E', 'I', 'O', 'U')"
      ]
     },
     "execution_count": 4,
     "metadata": {},
     "output_type": "execute_result"
    }
   ],
   "source": [
    ">>> vowels = 'AEIOU'\n",
    ">>> globe = AddableBingoCage(vowels)  # <1>\n",
    ">>> globe.inspect()"
   ]
  },
  {
   "cell_type": "code",
   "execution_count": 5,
   "id": "698cb15a-563e-4ece-b991-f97e6f73b40b",
   "metadata": {},
   "outputs": [
    {
     "data": {
      "text/plain": [
       "True"
      ]
     },
     "execution_count": 5,
     "metadata": {},
     "output_type": "execute_result"
    }
   ],
   "source": [
    ">>> globe.pick() in vowels  # <2>"
   ]
  },
  {
   "cell_type": "code",
   "execution_count": 6,
   "id": "6622c5e5-c70a-48e0-b372-0e34c9db1243",
   "metadata": {},
   "outputs": [
    {
     "data": {
      "text/plain": [
       "4"
      ]
     },
     "execution_count": 6,
     "metadata": {},
     "output_type": "execute_result"
    }
   ],
   "source": [
    ">>> len(globe.inspect())  # <3>"
   ]
  },
  {
   "cell_type": "code",
   "execution_count": 7,
   "id": "4fbce39c-4748-4be7-be7f-7c223bdf7e38",
   "metadata": {},
   "outputs": [
    {
     "data": {
      "text/plain": [
       "7"
      ]
     },
     "execution_count": 7,
     "metadata": {},
     "output_type": "execute_result"
    }
   ],
   "source": [
    ">>> globe2 = AddableBingoCage('XYZ')  # <4>\n",
    ">>> globe3 = globe + globe2\n",
    ">>> len(globe3.inspect())  # <5>"
   ]
  },
  {
   "cell_type": "code",
   "execution_count": 8,
   "id": "b75aee65-4de4-41c8-bd9f-fb722895409c",
   "metadata": {},
   "outputs": [
    {
     "ename": "TypeError",
     "evalue": "unsupported operand type(s) for +: 'AddableBingoCage' and 'list'",
     "output_type": "error",
     "traceback": [
      "\u001b[1;31m---------------------------------------------------------------------------\u001b[0m",
      "\u001b[1;31mTypeError\u001b[0m                                 Traceback (most recent call last)",
      "Input \u001b[1;32mIn [8]\u001b[0m, in \u001b[0;36m<module>\u001b[1;34m\u001b[0m\n\u001b[1;32m----> 1\u001b[0m void \u001b[38;5;241m=\u001b[39m \u001b[43mglobe\u001b[49m\u001b[43m \u001b[49m\u001b[38;5;241;43m+\u001b[39;49m\u001b[43m \u001b[49m\u001b[43m[\u001b[49m\u001b[38;5;241;43m10\u001b[39;49m\u001b[43m,\u001b[49m\u001b[43m \u001b[49m\u001b[38;5;241;43m20\u001b[39;49m\u001b[43m]\u001b[49m\n",
      "\u001b[1;31mTypeError\u001b[0m: unsupported operand type(s) for +: 'AddableBingoCage' and 'list'"
     ]
    }
   ],
   "source": [
    ">>> void = globe + [10, 20]  # <6>"
   ]
  },
  {
   "cell_type": "markdown",
   "id": "f8a9f950-981a-41ba-b585-94fb9fc20c55",
   "metadata": {},
   "source": [
    "#### Tests for __iadd__:"
   ]
  },
  {
   "cell_type": "code",
   "execution_count": 9,
   "id": "2c17debf-6220-44d3-801a-fe86adcb69bd",
   "metadata": {},
   "outputs": [
    {
     "data": {
      "text/plain": [
       "4"
      ]
     },
     "execution_count": 9,
     "metadata": {},
     "output_type": "execute_result"
    }
   ],
   "source": [
    ">>> globe_orig = globe  # <1>\n",
    ">>> len(globe.inspect())  # <2>"
   ]
  },
  {
   "cell_type": "code",
   "execution_count": 10,
   "id": "5d2bad9c-a725-4cd4-9992-0c832e5d1c51",
   "metadata": {},
   "outputs": [
    {
     "data": {
      "text/plain": [
       "7"
      ]
     },
     "execution_count": 10,
     "metadata": {},
     "output_type": "execute_result"
    }
   ],
   "source": [
    ">>> globe += globe2  # <3>\n",
    ">>> len(globe.inspect())"
   ]
  },
  {
   "cell_type": "code",
   "execution_count": 11,
   "id": "e9682936-1e6b-4e09-974c-441e8c754f69",
   "metadata": {},
   "outputs": [
    {
     "data": {
      "text/plain": [
       "9"
      ]
     },
     "execution_count": 11,
     "metadata": {},
     "output_type": "execute_result"
    }
   ],
   "source": [
    ">>> globe += ['M', 'N']  # <4>\n",
    ">>> len(globe.inspect())"
   ]
  },
  {
   "cell_type": "code",
   "execution_count": 12,
   "id": "f335b0f7-3fbc-4357-995e-afb6d11e9ef4",
   "metadata": {},
   "outputs": [
    {
     "data": {
      "text/plain": [
       "True"
      ]
     },
     "execution_count": 12,
     "metadata": {},
     "output_type": "execute_result"
    }
   ],
   "source": [
    ">>> globe is globe_orig  # <5>"
   ]
  },
  {
   "cell_type": "code",
   "execution_count": 13,
   "id": "74c8949b-906a-44bc-9422-36f54c014e98",
   "metadata": {},
   "outputs": [
    {
     "ename": "TypeError",
     "evalue": "right operand in += must be 'AddableBingoCage' or an iterable",
     "output_type": "error",
     "traceback": [
      "\u001b[1;31m---------------------------------------------------------------------------\u001b[0m",
      "\u001b[1;31mTypeError\u001b[0m                                 Traceback (most recent call last)",
      "Input \u001b[1;32mIn [3]\u001b[0m, in \u001b[0;36mAddableBingoCage.__iadd__\u001b[1;34m(self, other)\u001b[0m\n\u001b[0;32m     13\u001b[0m \u001b[38;5;28;01mtry\u001b[39;00m:\n\u001b[1;32m---> 14\u001b[0m     other_iterable \u001b[38;5;241m=\u001b[39m \u001b[38;5;28;43miter\u001b[39;49m\u001b[43m(\u001b[49m\u001b[43mother\u001b[49m\u001b[43m)\u001b[49m  \u001b[38;5;66;03m# <5>\u001b[39;00m\n\u001b[0;32m     15\u001b[0m \u001b[38;5;28;01mexcept\u001b[39;00m \u001b[38;5;167;01mTypeError\u001b[39;00m:  \u001b[38;5;66;03m# <6>\u001b[39;00m\n",
      "\u001b[1;31mTypeError\u001b[0m: 'int' object is not iterable",
      "\nDuring handling of the above exception, another exception occurred:\n",
      "\u001b[1;31mTypeError\u001b[0m                                 Traceback (most recent call last)",
      "Input \u001b[1;32mIn [13]\u001b[0m, in \u001b[0;36m<module>\u001b[1;34m\u001b[0m\n\u001b[1;32m----> 1\u001b[0m globe \u001b[38;5;241m+\u001b[39m\u001b[38;5;241m=\u001b[39m \u001b[38;5;241m1\u001b[39m\n",
      "Input \u001b[1;32mIn [3]\u001b[0m, in \u001b[0;36mAddableBingoCage.__iadd__\u001b[1;34m(self, other)\u001b[0m\n\u001b[0;32m     16\u001b[0m         self_cls \u001b[38;5;241m=\u001b[39m \u001b[38;5;28mtype\u001b[39m(\u001b[38;5;28mself\u001b[39m)\u001b[38;5;241m.\u001b[39m\u001b[38;5;18m__name__\u001b[39m\n\u001b[0;32m     17\u001b[0m         msg \u001b[38;5;241m=\u001b[39m \u001b[38;5;124m\"\u001b[39m\u001b[38;5;124mright operand in += must be \u001b[39m\u001b[38;5;132;01m{!r}\u001b[39;00m\u001b[38;5;124m or an iterable\u001b[39m\u001b[38;5;124m\"\u001b[39m\n\u001b[1;32m---> 18\u001b[0m         \u001b[38;5;28;01mraise\u001b[39;00m \u001b[38;5;167;01mTypeError\u001b[39;00m(msg\u001b[38;5;241m.\u001b[39mformat(self_cls))\n\u001b[0;32m     19\u001b[0m \u001b[38;5;28mself\u001b[39m\u001b[38;5;241m.\u001b[39mload(other_iterable)  \u001b[38;5;66;03m# <7>\u001b[39;00m\n\u001b[0;32m     20\u001b[0m \u001b[38;5;28;01mreturn\u001b[39;00m \u001b[38;5;28mself\u001b[39m\n",
      "\u001b[1;31mTypeError\u001b[0m: right operand in += must be 'AddableBingoCage' or an iterable"
     ]
    }
   ],
   "source": [
    ">>> globe += 1  # <6>"
   ]
  }
 ],
 "metadata": {
  "kernelspec": {
   "display_name": "Python 3 (ipykernel)",
   "language": "python",
   "name": "python3"
  },
  "language_info": {
   "codemirror_mode": {
    "name": "ipython",
    "version": 3
   },
   "file_extension": ".py",
   "mimetype": "text/x-python",
   "name": "python",
   "nbconvert_exporter": "python",
   "pygments_lexer": "ipython3",
   "version": "3.10.2"
  }
 },
 "nbformat": 4,
 "nbformat_minor": 5
}
