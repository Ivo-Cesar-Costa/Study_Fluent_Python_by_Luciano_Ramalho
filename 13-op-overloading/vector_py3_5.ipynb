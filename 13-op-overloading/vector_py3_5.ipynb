{
 "cells": [
  {
   "cell_type": "code",
   "execution_count": 1,
   "id": "87907d96-440f-492d-9b2b-4adce710e135",
   "metadata": {},
   "outputs": [],
   "source": [
    "from array import array\n",
    "import reprlib\n",
    "import math\n",
    "import functools\n",
    "import operator\n",
    "import itertools\n",
    "import numbers"
   ]
  },
  {
   "cell_type": "code",
   "execution_count": 2,
   "id": "f33c7561-5f75-4899-a43f-00dc0c41c216",
   "metadata": {},
   "outputs": [],
   "source": [
    "class Vector:\n",
    "    typecode = 'd'\n",
    "\n",
    "    def __init__(self, components):\n",
    "        self._components = array(self.typecode, components)\n",
    "\n",
    "    def __iter__(self):\n",
    "        return iter(self._components)\n",
    "\n",
    "    def __repr__(self):\n",
    "        components = reprlib.repr(self._components)\n",
    "        components = components[components.find('['):-1]\n",
    "        return 'Vector({})'.format(components)\n",
    "\n",
    "    def __str__(self):\n",
    "        return str(tuple(self))\n",
    "\n",
    "    def __bytes__(self):\n",
    "        return (bytes([ord(self.typecode)]) +\n",
    "                bytes(self._components))\n",
    "\n",
    "    def __eq__(self, other):\n",
    "        if isinstance(other, Vector):\n",
    "            return (len(self) == len(other) and\n",
    "                    all(a == b for a, b in zip(self, other)))\n",
    "        else:\n",
    "            return NotImplemented\n",
    "\n",
    "    def __hash__(self):\n",
    "        hashes = (hash(x) for x in self)\n",
    "        return functools.reduce(operator.xor, hashes, 0)\n",
    "\n",
    "    def __abs__(self):\n",
    "        return math.sqrt(sum(x * x for x in self))\n",
    "\n",
    "    def __bool__(self):\n",
    "        return bool(abs(self))\n",
    "\n",
    "    def __len__(self):\n",
    "        return len(self._components)\n",
    "\n",
    "    def __getitem__(self, index):\n",
    "        cls = type(self)\n",
    "        if isinstance(index, slice):\n",
    "            return cls(self._components[index])\n",
    "        elif isinstance(index, int):\n",
    "            return self._components[index]\n",
    "        else:\n",
    "            msg = '{.__name__} indices must be integers'\n",
    "            raise TypeError(msg.format(cls))\n",
    "\n",
    "    shortcut_names = 'xyzt'\n",
    "\n",
    "    def __getattr__(self, name):\n",
    "        cls = type(self)\n",
    "        if len(name) == 1:\n",
    "            pos = cls.shortcut_names.find(name)\n",
    "            if 0 <= pos < len(self._components):\n",
    "                return self._components[pos]\n",
    "        msg = '{.__name__!r} object has no attribute {!r}'\n",
    "        raise AttributeError(msg.format(cls, name))\n",
    "\n",
    "    def angle(self, n):\n",
    "        r = math.sqrt(sum(x * x for x in self[n:]))\n",
    "        a = math.atan2(r, self[n-1])\n",
    "        if (n == len(self) - 1) and (self[-1] < 0):\n",
    "            return math.pi * 2 - a\n",
    "        else:\n",
    "            return a\n",
    "\n",
    "    def angles(self):\n",
    "        return (self.angle(n) for n in range(1, len(self)))\n",
    "\n",
    "    def __format__(self, fmt_spec=''):\n",
    "        if fmt_spec.endswith('h'):  # hyperspherical coordinates\n",
    "            fmt_spec = fmt_spec[:-1]\n",
    "            coords = itertools.chain([abs(self)],\n",
    "                                     self.angles())\n",
    "            outer_fmt = '<{}>'\n",
    "        else:\n",
    "            coords = self\n",
    "            outer_fmt = '({})'\n",
    "        components = (format(c, fmt_spec) for c in coords)\n",
    "        return outer_fmt.format(', '.join(components))\n",
    "\n",
    "    @classmethod\n",
    "    def frombytes(cls, octets):\n",
    "        typecode = chr(octets[0])\n",
    "        memv = memoryview(octets[1:]).cast(typecode)\n",
    "        return cls(memv)\n",
    "\n",
    "    def __add__(self, other):\n",
    "        try:\n",
    "            pairs = itertools.zip_longest(self, other, fillvalue=0.0)\n",
    "            return Vector(a + b for a, b in pairs)\n",
    "        except TypeError:\n",
    "            return NotImplemented\n",
    "\n",
    "    def __radd__(self, other):\n",
    "        return self + other\n",
    "\n",
    "    def __mul__(self, scalar):\n",
    "        if isinstance(scalar, numbers.Real):\n",
    "            return Vector(n * scalar for n in self)\n",
    "        else:\n",
    "            return NotImplemented\n",
    "\n",
    "    def __rmul__(self, scalar):\n",
    "        return self * scalar\n",
    "\n",
    "    def __matmul__(self, other):\n",
    "        try:\n",
    "            return sum(a * b for a, b in zip(self, other))\n",
    "        except TypeError:\n",
    "            return NotImplemented\n",
    "\n",
    "    def __rmatmul__(self, other):\n",
    "        return self @ other  # this only works in Python 3.5"
   ]
  },
  {
   "cell_type": "markdown",
   "id": "7d740495-a2b5-4bc0-9dbe-15f0783fa9c7",
   "metadata": {},
   "source": [
    "#### A multi-dimensional ``Vector`` class, take 9: operator ``@``\n",
    "WARNING: This example requires Python 3.5 or later.\n",
    "A ``Vector`` is built from an iterable of numbers::"
   ]
  },
  {
   "cell_type": "code",
   "execution_count": 3,
   "id": "65d329a9-8773-4066-af35-d09936da9b52",
   "metadata": {},
   "outputs": [
    {
     "data": {
      "text/plain": [
       "Vector([3.1, 4.2])"
      ]
     },
     "execution_count": 3,
     "metadata": {},
     "output_type": "execute_result"
    }
   ],
   "source": [
    ">>> Vector([3.1, 4.2])"
   ]
  },
  {
   "cell_type": "code",
   "execution_count": 4,
   "id": "6fa696c6-7f1f-4a74-9360-cba51b443c28",
   "metadata": {},
   "outputs": [
    {
     "data": {
      "text/plain": [
       "Vector([3.0, 4.0, 5.0])"
      ]
     },
     "execution_count": 4,
     "metadata": {},
     "output_type": "execute_result"
    }
   ],
   "source": [
    ">>> Vector((3, 4, 5))"
   ]
  },
  {
   "cell_type": "code",
   "execution_count": 5,
   "id": "786265d0-d6e5-40ee-b283-12d5c9f6f235",
   "metadata": {},
   "outputs": [
    {
     "data": {
      "text/plain": [
       "Vector([0.0, 1.0, 2.0, 3.0, 4.0, ...])"
      ]
     },
     "execution_count": 5,
     "metadata": {},
     "output_type": "execute_result"
    }
   ],
   "source": [
    ">>> Vector(range(10))"
   ]
  },
  {
   "cell_type": "markdown",
   "id": "4ea014be-2e45-4097-9ae7-eb060153e2bd",
   "metadata": {},
   "source": [
    "#### Tests with 2-dimensions (same results as ``vector2d_v1.py``)::"
   ]
  },
  {
   "cell_type": "code",
   "execution_count": 6,
   "id": "2a2c9d2f-1ac2-41c3-9530-b610845c5621",
   "metadata": {},
   "outputs": [
    {
     "data": {
      "text/plain": [
       "(3.0, 4.0)"
      ]
     },
     "execution_count": 6,
     "metadata": {},
     "output_type": "execute_result"
    }
   ],
   "source": [
    ">>> v1 = Vector([3, 4])\n",
    ">>> x, y = v1\n",
    ">>> x, y"
   ]
  },
  {
   "cell_type": "code",
   "execution_count": 7,
   "id": "9f3ea55a-e2e7-401c-9f77-69de9184dc68",
   "metadata": {},
   "outputs": [
    {
     "data": {
      "text/plain": [
       "Vector([3.0, 4.0])"
      ]
     },
     "execution_count": 7,
     "metadata": {},
     "output_type": "execute_result"
    }
   ],
   "source": [
    ">>> v1"
   ]
  },
  {
   "cell_type": "code",
   "execution_count": 8,
   "id": "7e9c7839-6432-46a7-9507-e6c04953a980",
   "metadata": {},
   "outputs": [
    {
     "data": {
      "text/plain": [
       "True"
      ]
     },
     "execution_count": 8,
     "metadata": {},
     "output_type": "execute_result"
    }
   ],
   "source": [
    ">>> v1_clone = eval(repr(v1))\n",
    ">>> v1 == v1_clone"
   ]
  },
  {
   "cell_type": "code",
   "execution_count": 9,
   "id": "d3219840-0180-42da-8edd-010c1ecb4155",
   "metadata": {},
   "outputs": [
    {
     "name": "stdout",
     "output_type": "stream",
     "text": [
      "(3.0, 4.0)\n"
     ]
    }
   ],
   "source": [
    ">>> print(v1)"
   ]
  },
  {
   "cell_type": "code",
   "execution_count": 10,
   "id": "73ee05aa-b8d8-4ab7-a19f-fd5c121221f8",
   "metadata": {},
   "outputs": [
    {
     "data": {
      "text/plain": [
       "b'd\\x00\\x00\\x00\\x00\\x00\\x00\\x08@\\x00\\x00\\x00\\x00\\x00\\x00\\x10@'"
      ]
     },
     "execution_count": 10,
     "metadata": {},
     "output_type": "execute_result"
    }
   ],
   "source": [
    ">>> octets = bytes(v1)\n",
    ">>> octets"
   ]
  },
  {
   "cell_type": "code",
   "execution_count": 11,
   "id": "0f78ce3e-73a8-463b-9d67-827a407d4606",
   "metadata": {},
   "outputs": [
    {
     "data": {
      "text/plain": [
       "5.0"
      ]
     },
     "execution_count": 11,
     "metadata": {},
     "output_type": "execute_result"
    }
   ],
   "source": [
    ">>> abs(v1)"
   ]
  },
  {
   "cell_type": "code",
   "execution_count": 12,
   "id": "b706f929-7bd4-40cb-ac0b-9aee8a070411",
   "metadata": {},
   "outputs": [
    {
     "data": {
      "text/plain": [
       "(True, False)"
      ]
     },
     "execution_count": 12,
     "metadata": {},
     "output_type": "execute_result"
    }
   ],
   "source": [
    ">>> bool(v1), bool(Vector([0, 0]))"
   ]
  },
  {
   "cell_type": "markdown",
   "id": "95cb6ecb-a108-4e50-a91b-2e471182ff1e",
   "metadata": {},
   "source": [
    "#### Test of ``.frombytes()`` class method:"
   ]
  },
  {
   "cell_type": "code",
   "execution_count": 13,
   "id": "f87813a5-33dd-42cd-8627-bf7f4c31bad4",
   "metadata": {},
   "outputs": [
    {
     "data": {
      "text/plain": [
       "Vector([3.0, 4.0])"
      ]
     },
     "execution_count": 13,
     "metadata": {},
     "output_type": "execute_result"
    }
   ],
   "source": [
    ">>> v1_clone = Vector.frombytes(bytes(v1))\n",
    ">>> v1_clone"
   ]
  },
  {
   "cell_type": "code",
   "execution_count": 14,
   "id": "0a994784-1e43-4476-a69a-0682be8066d6",
   "metadata": {},
   "outputs": [
    {
     "data": {
      "text/plain": [
       "True"
      ]
     },
     "execution_count": 14,
     "metadata": {},
     "output_type": "execute_result"
    }
   ],
   "source": [
    ">>> v1 == v1_clone"
   ]
  },
  {
   "cell_type": "markdown",
   "id": "c9d4a8a6-bafc-4b93-ad6e-6800651aa0ed",
   "metadata": {},
   "source": [
    "#### Tests with 3-dimensions::"
   ]
  },
  {
   "cell_type": "code",
   "execution_count": 15,
   "id": "e520425d-fa6f-4c9e-a9dd-1441e40575c6",
   "metadata": {},
   "outputs": [
    {
     "data": {
      "text/plain": [
       "(3.0, 4.0, 5.0)"
      ]
     },
     "execution_count": 15,
     "metadata": {},
     "output_type": "execute_result"
    }
   ],
   "source": [
    ">>> v1 = Vector([3, 4, 5])\n",
    ">>> x, y, z = v1\n",
    ">>> x, y, z"
   ]
  },
  {
   "cell_type": "code",
   "execution_count": 16,
   "id": "8091ddf6-12c1-40e9-975f-0d53840cbc4b",
   "metadata": {},
   "outputs": [
    {
     "data": {
      "text/plain": [
       "Vector([3.0, 4.0, 5.0])"
      ]
     },
     "execution_count": 16,
     "metadata": {},
     "output_type": "execute_result"
    }
   ],
   "source": [
    ">>> v1"
   ]
  },
  {
   "cell_type": "code",
   "execution_count": 17,
   "id": "137cf748-5318-4bb6-8a06-abc474f034cc",
   "metadata": {},
   "outputs": [
    {
     "data": {
      "text/plain": [
       "True"
      ]
     },
     "execution_count": 17,
     "metadata": {},
     "output_type": "execute_result"
    }
   ],
   "source": [
    ">>> v1_clone = eval(repr(v1))\n",
    ">>> v1 == v1_clone"
   ]
  },
  {
   "cell_type": "code",
   "execution_count": 18,
   "id": "e93762ac-2696-40f5-b1b5-f142b83880d2",
   "metadata": {},
   "outputs": [
    {
     "name": "stdout",
     "output_type": "stream",
     "text": [
      "(3.0, 4.0, 5.0)\n"
     ]
    }
   ],
   "source": [
    ">>> print(v1)"
   ]
  },
  {
   "cell_type": "code",
   "execution_count": 19,
   "id": "9de228f2-9136-474c-a3e4-172debc50644",
   "metadata": {},
   "outputs": [
    {
     "data": {
      "text/plain": [
       "7.0710678118654755"
      ]
     },
     "execution_count": 19,
     "metadata": {},
     "output_type": "execute_result"
    }
   ],
   "source": [
    ">>> abs(v1)  # doctest:+ELLIPSIS"
   ]
  },
  {
   "cell_type": "code",
   "execution_count": 20,
   "id": "fbafb731-3b40-4f7e-a8f3-caf6f42379bb",
   "metadata": {},
   "outputs": [
    {
     "data": {
      "text/plain": [
       "(True, False)"
      ]
     },
     "execution_count": 20,
     "metadata": {},
     "output_type": "execute_result"
    }
   ],
   "source": [
    ">>> bool(v1), bool(Vector([0, 0, 0]))"
   ]
  },
  {
   "cell_type": "markdown",
   "id": "22358a4e-2e6f-48e0-ae5d-658426eb313b",
   "metadata": {},
   "source": [
    "#### Tests with many dimensions::"
   ]
  },
  {
   "cell_type": "code",
   "execution_count": 21,
   "id": "16181da2-3721-4660-8a40-a7b0bab136f2",
   "metadata": {},
   "outputs": [
    {
     "data": {
      "text/plain": [
       "Vector([0.0, 1.0, 2.0, 3.0, 4.0, ...])"
      ]
     },
     "execution_count": 21,
     "metadata": {},
     "output_type": "execute_result"
    }
   ],
   "source": [
    ">>> v7 = Vector(range(7))\n",
    ">>> v7"
   ]
  },
  {
   "cell_type": "code",
   "execution_count": 22,
   "id": "87eb4a16-8a22-4a16-a657-a735b10d1865",
   "metadata": {},
   "outputs": [
    {
     "data": {
      "text/plain": [
       "9.539392014169456"
      ]
     },
     "execution_count": 22,
     "metadata": {},
     "output_type": "execute_result"
    }
   ],
   "source": [
    ">>> abs(v7)  # doctest:+ELLIPSIS"
   ]
  },
  {
   "cell_type": "markdown",
   "id": "caa29c67-4618-412d-acb6-f415ece658b3",
   "metadata": {},
   "source": [
    "#### Test of ``.__bytes__`` and ``.frombytes()`` methods::"
   ]
  },
  {
   "cell_type": "code",
   "execution_count": 23,
   "id": "2282a747-4e24-4aa4-bba7-7593639e9033",
   "metadata": {},
   "outputs": [
    {
     "data": {
      "text/plain": [
       "Vector([3.0, 4.0, 5.0])"
      ]
     },
     "execution_count": 23,
     "metadata": {},
     "output_type": "execute_result"
    }
   ],
   "source": [
    ">>> v1 = Vector([3, 4, 5])\n",
    ">>> v1_clone = Vector.frombytes(bytes(v1))\n",
    ">>> v1_clone"
   ]
  },
  {
   "cell_type": "code",
   "execution_count": 24,
   "id": "431c1111-b4a0-40fd-8c87-1f7e8239b1b2",
   "metadata": {},
   "outputs": [
    {
     "data": {
      "text/plain": [
       "True"
      ]
     },
     "execution_count": 24,
     "metadata": {},
     "output_type": "execute_result"
    }
   ],
   "source": [
    ">>> v1 == v1_clone"
   ]
  },
  {
   "cell_type": "markdown",
   "id": "d4b7491d-e90f-49bd-b29e-a389fd58ed50",
   "metadata": {},
   "source": [
    "#### Tests of sequence behavior::"
   ]
  },
  {
   "cell_type": "code",
   "execution_count": 25,
   "id": "35d618d2-296b-403c-aaf6-6f78b46aa6a8",
   "metadata": {},
   "outputs": [
    {
     "data": {
      "text/plain": [
       "3"
      ]
     },
     "execution_count": 25,
     "metadata": {},
     "output_type": "execute_result"
    }
   ],
   "source": [
    ">>> v1 = Vector([3, 4, 5])\n",
    ">>> len(v1)"
   ]
  },
  {
   "cell_type": "code",
   "execution_count": 26,
   "id": "132fe4e1-1f10-4062-96a9-f04160e58198",
   "metadata": {},
   "outputs": [
    {
     "data": {
      "text/plain": [
       "(3.0, 5.0, 5.0)"
      ]
     },
     "execution_count": 26,
     "metadata": {},
     "output_type": "execute_result"
    }
   ],
   "source": [
    ">>> v1[0], v1[len(v1)-1], v1[-1]"
   ]
  },
  {
   "cell_type": "markdown",
   "id": "db919b82-5284-465b-9a23-8b84af6b9b37",
   "metadata": {},
   "source": [
    "#### Test of slicing::"
   ]
  },
  {
   "cell_type": "code",
   "execution_count": 27,
   "id": "735eedf4-38aa-483a-a11c-835588e6927d",
   "metadata": {},
   "outputs": [
    {
     "data": {
      "text/plain": [
       "6.0"
      ]
     },
     "execution_count": 27,
     "metadata": {},
     "output_type": "execute_result"
    }
   ],
   "source": [
    ">>> v7 = Vector(range(7))\n",
    ">>> v7[-1]"
   ]
  },
  {
   "cell_type": "code",
   "execution_count": 28,
   "id": "f1debb5d-fd85-4c5d-b90b-0091419c24b1",
   "metadata": {},
   "outputs": [
    {
     "data": {
      "text/plain": [
       "Vector([1.0, 2.0, 3.0])"
      ]
     },
     "execution_count": 28,
     "metadata": {},
     "output_type": "execute_result"
    }
   ],
   "source": [
    ">>> v7[1:4]"
   ]
  },
  {
   "cell_type": "code",
   "execution_count": 29,
   "id": "6bcf63e4-6cbe-45c8-b5cc-82c98584fba1",
   "metadata": {},
   "outputs": [
    {
     "data": {
      "text/plain": [
       "Vector([6.0])"
      ]
     },
     "execution_count": 29,
     "metadata": {},
     "output_type": "execute_result"
    }
   ],
   "source": [
    ">>> v7[-1:]"
   ]
  },
  {
   "cell_type": "code",
   "execution_count": 30,
   "id": "b3434e9a-607c-4731-88c9-68010050b3d9",
   "metadata": {},
   "outputs": [
    {
     "ename": "TypeError",
     "evalue": "Vector indices must be integers",
     "output_type": "error",
     "traceback": [
      "\u001b[1;31m---------------------------------------------------------------------------\u001b[0m",
      "\u001b[1;31mTypeError\u001b[0m                                 Traceback (most recent call last)",
      "Input \u001b[1;32mIn [30]\u001b[0m, in \u001b[0;36m<module>\u001b[1;34m\u001b[0m\n\u001b[1;32m----> 1\u001b[0m \u001b[43mv7\u001b[49m\u001b[43m[\u001b[49m\u001b[38;5;241;43m1\u001b[39;49m\u001b[43m,\u001b[49m\u001b[38;5;241;43m2\u001b[39;49m\u001b[43m]\u001b[49m\n",
      "Input \u001b[1;32mIn [2]\u001b[0m, in \u001b[0;36mVector.__getitem__\u001b[1;34m(self, index)\u001b[0m\n\u001b[0;32m     48\u001b[0m \u001b[38;5;28;01melse\u001b[39;00m:\n\u001b[0;32m     49\u001b[0m     msg \u001b[38;5;241m=\u001b[39m \u001b[38;5;124m'\u001b[39m\u001b[38;5;124m{\u001b[39m\u001b[38;5;124m.__name__} indices must be integers\u001b[39m\u001b[38;5;124m'\u001b[39m\n\u001b[1;32m---> 50\u001b[0m     \u001b[38;5;28;01mraise\u001b[39;00m \u001b[38;5;167;01mTypeError\u001b[39;00m(msg\u001b[38;5;241m.\u001b[39mformat(\u001b[38;5;28mcls\u001b[39m))\n",
      "\u001b[1;31mTypeError\u001b[0m: Vector indices must be integers"
     ]
    }
   ],
   "source": [
    ">>> v7[1,2]"
   ]
  },
  {
   "cell_type": "markdown",
   "id": "32b915aa-60d5-4b38-b0bf-d19fbff8910e",
   "metadata": {},
   "source": [
    "#### Tests of dynamic attribute access::"
   ]
  },
  {
   "cell_type": "code",
   "execution_count": 31,
   "id": "1e11dcdb-9c5e-4999-811e-e2b7900d20d7",
   "metadata": {},
   "outputs": [
    {
     "data": {
      "text/plain": [
       "0.0"
      ]
     },
     "execution_count": 31,
     "metadata": {},
     "output_type": "execute_result"
    }
   ],
   "source": [
    ">>> v7 = Vector(range(10))\n",
    ">>> v7.x"
   ]
  },
  {
   "cell_type": "code",
   "execution_count": 32,
   "id": "5055fdde-fcbc-413d-9ee0-8c83dd546db2",
   "metadata": {},
   "outputs": [
    {
     "data": {
      "text/plain": [
       "(1.0, 2.0, 3.0)"
      ]
     },
     "execution_count": 32,
     "metadata": {},
     "output_type": "execute_result"
    }
   ],
   "source": [
    ">>> v7.y, v7.z, v7.t"
   ]
  },
  {
   "cell_type": "markdown",
   "id": "ef67684c-0a97-4f90-9b9f-326191721eab",
   "metadata": {},
   "source": [
    "#### Dynamic attribute lookup failures::"
   ]
  },
  {
   "cell_type": "code",
   "execution_count": 33,
   "id": "71cf7bf0-2208-41c5-a6f5-4c76724e2da4",
   "metadata": {},
   "outputs": [
    {
     "ename": "AttributeError",
     "evalue": "'Vector' object has no attribute 'k'",
     "output_type": "error",
     "traceback": [
      "\u001b[1;31m---------------------------------------------------------------------------\u001b[0m",
      "\u001b[1;31mAttributeError\u001b[0m                            Traceback (most recent call last)",
      "Input \u001b[1;32mIn [33]\u001b[0m, in \u001b[0;36m<module>\u001b[1;34m\u001b[0m\n\u001b[1;32m----> 1\u001b[0m \u001b[43mv7\u001b[49m\u001b[38;5;241;43m.\u001b[39;49m\u001b[43mk\u001b[49m\n",
      "Input \u001b[1;32mIn [2]\u001b[0m, in \u001b[0;36mVector.__getattr__\u001b[1;34m(self, name)\u001b[0m\n\u001b[0;32m     59\u001b[0m         \u001b[38;5;28;01mreturn\u001b[39;00m \u001b[38;5;28mself\u001b[39m\u001b[38;5;241m.\u001b[39m_components[pos]\n\u001b[0;32m     60\u001b[0m msg \u001b[38;5;241m=\u001b[39m \u001b[38;5;124m'\u001b[39m\u001b[38;5;124m{\u001b[39m\u001b[38;5;124m.__name__!r} object has no attribute \u001b[39m\u001b[38;5;132;01m{!r}\u001b[39;00m\u001b[38;5;124m'\u001b[39m\n\u001b[1;32m---> 61\u001b[0m \u001b[38;5;28;01mraise\u001b[39;00m \u001b[38;5;167;01mAttributeError\u001b[39;00m(msg\u001b[38;5;241m.\u001b[39mformat(\u001b[38;5;28mcls\u001b[39m, name))\n",
      "\u001b[1;31mAttributeError\u001b[0m: 'Vector' object has no attribute 'k'"
     ]
    }
   ],
   "source": [
    ">>> v7.k"
   ]
  },
  {
   "cell_type": "code",
   "execution_count": 34,
   "id": "aa00cd12-d480-42f1-b7cc-9160d0d34d4b",
   "metadata": {},
   "outputs": [
    {
     "ename": "AttributeError",
     "evalue": "'Vector' object has no attribute 't'",
     "output_type": "error",
     "traceback": [
      "\u001b[1;31m---------------------------------------------------------------------------\u001b[0m",
      "\u001b[1;31mAttributeError\u001b[0m                            Traceback (most recent call last)",
      "Input \u001b[1;32mIn [34]\u001b[0m, in \u001b[0;36m<module>\u001b[1;34m\u001b[0m\n\u001b[0;32m      1\u001b[0m v3 \u001b[38;5;241m=\u001b[39m Vector(\u001b[38;5;28mrange\u001b[39m(\u001b[38;5;241m3\u001b[39m))\n\u001b[1;32m----> 2\u001b[0m \u001b[43mv3\u001b[49m\u001b[38;5;241;43m.\u001b[39;49m\u001b[43mt\u001b[49m\n",
      "Input \u001b[1;32mIn [2]\u001b[0m, in \u001b[0;36mVector.__getattr__\u001b[1;34m(self, name)\u001b[0m\n\u001b[0;32m     59\u001b[0m         \u001b[38;5;28;01mreturn\u001b[39;00m \u001b[38;5;28mself\u001b[39m\u001b[38;5;241m.\u001b[39m_components[pos]\n\u001b[0;32m     60\u001b[0m msg \u001b[38;5;241m=\u001b[39m \u001b[38;5;124m'\u001b[39m\u001b[38;5;124m{\u001b[39m\u001b[38;5;124m.__name__!r} object has no attribute \u001b[39m\u001b[38;5;132;01m{!r}\u001b[39;00m\u001b[38;5;124m'\u001b[39m\n\u001b[1;32m---> 61\u001b[0m \u001b[38;5;28;01mraise\u001b[39;00m \u001b[38;5;167;01mAttributeError\u001b[39;00m(msg\u001b[38;5;241m.\u001b[39mformat(\u001b[38;5;28mcls\u001b[39m, name))\n",
      "\u001b[1;31mAttributeError\u001b[0m: 'Vector' object has no attribute 't'"
     ]
    }
   ],
   "source": [
    ">>> v3 = Vector(range(3))\n",
    ">>> v3.t"
   ]
  },
  {
   "cell_type": "code",
   "execution_count": 35,
   "id": "3b2eb855-e4ed-42ac-ba21-6eb3e2f29369",
   "metadata": {},
   "outputs": [
    {
     "ename": "AttributeError",
     "evalue": "'Vector' object has no attribute 'spam'",
     "output_type": "error",
     "traceback": [
      "\u001b[1;31m---------------------------------------------------------------------------\u001b[0m",
      "\u001b[1;31mAttributeError\u001b[0m                            Traceback (most recent call last)",
      "Input \u001b[1;32mIn [35]\u001b[0m, in \u001b[0;36m<module>\u001b[1;34m\u001b[0m\n\u001b[1;32m----> 1\u001b[0m \u001b[43mv3\u001b[49m\u001b[38;5;241;43m.\u001b[39;49m\u001b[43mspam\u001b[49m\n",
      "Input \u001b[1;32mIn [2]\u001b[0m, in \u001b[0;36mVector.__getattr__\u001b[1;34m(self, name)\u001b[0m\n\u001b[0;32m     59\u001b[0m         \u001b[38;5;28;01mreturn\u001b[39;00m \u001b[38;5;28mself\u001b[39m\u001b[38;5;241m.\u001b[39m_components[pos]\n\u001b[0;32m     60\u001b[0m msg \u001b[38;5;241m=\u001b[39m \u001b[38;5;124m'\u001b[39m\u001b[38;5;124m{\u001b[39m\u001b[38;5;124m.__name__!r} object has no attribute \u001b[39m\u001b[38;5;132;01m{!r}\u001b[39;00m\u001b[38;5;124m'\u001b[39m\n\u001b[1;32m---> 61\u001b[0m \u001b[38;5;28;01mraise\u001b[39;00m \u001b[38;5;167;01mAttributeError\u001b[39;00m(msg\u001b[38;5;241m.\u001b[39mformat(\u001b[38;5;28mcls\u001b[39m, name))\n",
      "\u001b[1;31mAttributeError\u001b[0m: 'Vector' object has no attribute 'spam'"
     ]
    }
   ],
   "source": [
    ">>> v3.spam"
   ]
  },
  {
   "cell_type": "markdown",
   "id": "ab02edc8-852b-41a7-91de-11072c925711",
   "metadata": {},
   "source": [
    "#### Tests of hashing::"
   ]
  },
  {
   "cell_type": "code",
   "execution_count": 36,
   "id": "1f62957d-4866-47dd-a53c-3f644bfff102",
   "metadata": {},
   "outputs": [
    {
     "data": {
      "text/plain": [
       "(7, 2, 1)"
      ]
     },
     "execution_count": 36,
     "metadata": {},
     "output_type": "execute_result"
    }
   ],
   "source": [
    ">>> v1 = Vector([3, 4])\n",
    ">>> v2 = Vector([3.1, 4.2])\n",
    ">>> v3 = Vector([3, 4, 5])\n",
    ">>> v6 = Vector(range(6))\n",
    ">>> hash(v1), hash(v3), hash(v6)"
   ]
  },
  {
   "cell_type": "markdown",
   "id": "2fcb7210-524c-445d-8ef4-d32a8e9c98c9",
   "metadata": {},
   "source": [
    "#### Most hash values of non-integers vary from a 32-bit to 64-bit Python build::"
   ]
  },
  {
   "cell_type": "code",
   "execution_count": 37,
   "id": "af8e4439-fe17-43d6-80d2-624796fb2830",
   "metadata": {},
   "outputs": [
    {
     "data": {
      "text/plain": [
       "True"
      ]
     },
     "execution_count": 37,
     "metadata": {},
     "output_type": "execute_result"
    }
   ],
   "source": [
    ">>> import sys\n",
    ">>> hash(v2) == (384307168202284039 if sys.maxsize > 2**32 else 357915986)"
   ]
  },
  {
   "cell_type": "markdown",
   "id": "aeb7eb96-4f6d-46dd-94f4-3cbe14d17357",
   "metadata": {},
   "source": [
    "#### Tests of ``format()`` with Cartesian coordinates in 2D::"
   ]
  },
  {
   "cell_type": "code",
   "execution_count": 38,
   "id": "f7337ef2-7452-4292-ac6f-489888232038",
   "metadata": {},
   "outputs": [
    {
     "data": {
      "text/plain": [
       "'(3.0, 4.0)'"
      ]
     },
     "execution_count": 38,
     "metadata": {},
     "output_type": "execute_result"
    }
   ],
   "source": [
    ">>> v1 = Vector([3, 4])\n",
    ">>> format(v1)"
   ]
  },
  {
   "cell_type": "code",
   "execution_count": 39,
   "id": "8813bbe4-b6c3-4aea-8378-7e60825d0b3e",
   "metadata": {},
   "outputs": [
    {
     "data": {
      "text/plain": [
       "'(3.00, 4.00)'"
      ]
     },
     "execution_count": 39,
     "metadata": {},
     "output_type": "execute_result"
    }
   ],
   "source": [
    ">>> format(v1, '.2f')"
   ]
  },
  {
   "cell_type": "code",
   "execution_count": 40,
   "id": "37f1ec79-671f-4c34-8492-eacd899e2b60",
   "metadata": {},
   "outputs": [
    {
     "data": {
      "text/plain": [
       "'(3.000e+00, 4.000e+00)'"
      ]
     },
     "execution_count": 40,
     "metadata": {},
     "output_type": "execute_result"
    }
   ],
   "source": [
    ">>> format(v1, '.3e')"
   ]
  },
  {
   "cell_type": "markdown",
   "id": "836c0ff0-1cf4-4320-8374-03cf95e9a42b",
   "metadata": {},
   "source": [
    "#### Tests of ``format()`` with Cartesian coordinates in 3D and 7D::"
   ]
  },
  {
   "cell_type": "code",
   "execution_count": 41,
   "id": "ad2478da-2e24-4ac3-bfe0-ffdccd7ff447",
   "metadata": {},
   "outputs": [
    {
     "data": {
      "text/plain": [
       "'(3.0, 4.0, 5.0)'"
      ]
     },
     "execution_count": 41,
     "metadata": {},
     "output_type": "execute_result"
    }
   ],
   "source": [
    ">>> v3 = Vector([3, 4, 5])\n",
    ">>> format(v3)"
   ]
  },
  {
   "cell_type": "code",
   "execution_count": 42,
   "id": "1001d1d2-fda4-4956-9212-ea0da9db139d",
   "metadata": {},
   "outputs": [
    {
     "data": {
      "text/plain": [
       "'(0.0, 1.0, 2.0, 3.0, 4.0, 5.0, 6.0)'"
      ]
     },
     "execution_count": 42,
     "metadata": {},
     "output_type": "execute_result"
    }
   ],
   "source": [
    ">>> format(Vector(range(7)))"
   ]
  },
  {
   "cell_type": "markdown",
   "id": "17638561-051b-46bb-a5d8-9c0daaf1136c",
   "metadata": {},
   "source": [
    "#### Tests of ``format()`` with spherical coordinates in 2D, 3D and 4D::"
   ]
  },
  {
   "cell_type": "code",
   "execution_count": 43,
   "id": "6a5998a7-2b31-41dd-84ed-50191d1dfe51",
   "metadata": {},
   "outputs": [
    {
     "data": {
      "text/plain": [
       "'<1.4142135623730951, 0.7853981633974483>'"
      ]
     },
     "execution_count": 43,
     "metadata": {},
     "output_type": "execute_result"
    }
   ],
   "source": [
    ">>> format(Vector([1, 1]), 'h')  # doctest:+ELLIPSIS"
   ]
  },
  {
   "cell_type": "code",
   "execution_count": 44,
   "id": "2841988c-5d8c-4d5e-b185-9094d15201d8",
   "metadata": {},
   "outputs": [
    {
     "data": {
      "text/plain": [
       "'<1.414e+00, 7.854e-01>'"
      ]
     },
     "execution_count": 44,
     "metadata": {},
     "output_type": "execute_result"
    }
   ],
   "source": [
    ">>> format(Vector([1, 1]), '.3eh')"
   ]
  },
  {
   "cell_type": "code",
   "execution_count": 45,
   "id": "0bfe2cc8-2c3d-4195-8312-6d65de57958b",
   "metadata": {},
   "outputs": [
    {
     "data": {
      "text/plain": [
       "'<1.41421, 0.78540>'"
      ]
     },
     "execution_count": 45,
     "metadata": {},
     "output_type": "execute_result"
    }
   ],
   "source": [
    ">>> format(Vector([1, 1]), '0.5fh')"
   ]
  },
  {
   "cell_type": "code",
   "execution_count": 46,
   "id": "02c4b958-fcf0-413b-b5ad-9670ac32d558",
   "metadata": {},
   "outputs": [
    {
     "data": {
      "text/plain": [
       "'<1.7320508075688772, 0.9553166181245093, 0.7853981633974483>'"
      ]
     },
     "execution_count": 46,
     "metadata": {},
     "output_type": "execute_result"
    }
   ],
   "source": [
    ">>> format(Vector([1, 1, 1]), 'h')  # doctest:+ELLIPSIS"
   ]
  },
  {
   "cell_type": "code",
   "execution_count": 47,
   "id": "dc7c22f6-0862-4d36-8534-a7625fe27369",
   "metadata": {},
   "outputs": [
    {
     "data": {
      "text/plain": [
       "'<3.464e+00, 9.553e-01, 7.854e-01>'"
      ]
     },
     "execution_count": 47,
     "metadata": {},
     "output_type": "execute_result"
    }
   ],
   "source": [
    ">>> format(Vector([2, 2, 2]), '.3eh')"
   ]
  },
  {
   "cell_type": "code",
   "execution_count": 48,
   "id": "ce60f7ff-2244-4882-b962-6160b0ed6ff3",
   "metadata": {},
   "outputs": [
    {
     "data": {
      "text/plain": [
       "'<0.00000, 0.00000, 0.00000>'"
      ]
     },
     "execution_count": 48,
     "metadata": {},
     "output_type": "execute_result"
    }
   ],
   "source": [
    ">>> format(Vector([0, 0, 0]), '0.5fh')"
   ]
  },
  {
   "cell_type": "code",
   "execution_count": 49,
   "id": "e46a2a23-fb7a-498f-948f-9a74ab3f47e1",
   "metadata": {},
   "outputs": [
    {
     "data": {
      "text/plain": [
       "'<2.0, 2.0943951023931957, 2.186276035465284, 3.9269908169872414>'"
      ]
     },
     "execution_count": 49,
     "metadata": {},
     "output_type": "execute_result"
    }
   ],
   "source": [
    ">>> format(Vector([-1, -1, -1, -1]), 'h')  # doctest:+ELLIPSIS"
   ]
  },
  {
   "cell_type": "code",
   "execution_count": 50,
   "id": "5494a9ab-c3ab-4ba5-a87b-7e78bc438750",
   "metadata": {},
   "outputs": [
    {
     "data": {
      "text/plain": [
       "'<4.000e+00, 1.047e+00, 9.553e-01, 7.854e-01>'"
      ]
     },
     "execution_count": 50,
     "metadata": {},
     "output_type": "execute_result"
    }
   ],
   "source": [
    ">>> format(Vector([2, 2, 2, 2]), '.3eh')"
   ]
  },
  {
   "cell_type": "code",
   "execution_count": 51,
   "id": "a1d1a201-ee2f-4a32-a16b-24451f2fbed0",
   "metadata": {},
   "outputs": [
    {
     "data": {
      "text/plain": [
       "'<1.00000, 1.57080, 0.00000, 0.00000>'"
      ]
     },
     "execution_count": 51,
     "metadata": {},
     "output_type": "execute_result"
    }
   ],
   "source": [
    ">>> format(Vector([0, 1, 0, 0]), '0.5fh')"
   ]
  },
  {
   "cell_type": "markdown",
   "id": "f38e5168-1fe8-489e-b171-4a7ad9470833",
   "metadata": {},
   "source": [
    "#### Basic tests of operator ``+``::"
   ]
  },
  {
   "cell_type": "code",
   "execution_count": 52,
   "id": "5d829858-904f-4926-a5df-39412bb24578",
   "metadata": {},
   "outputs": [
    {
     "data": {
      "text/plain": [
       "Vector([9.0, 11.0, 13.0])"
      ]
     },
     "execution_count": 52,
     "metadata": {},
     "output_type": "execute_result"
    }
   ],
   "source": [
    ">>> v1 = Vector([3, 4, 5])\n",
    ">>> v2 = Vector([6, 7, 8])\n",
    ">>> v1 + v2"
   ]
  },
  {
   "cell_type": "code",
   "execution_count": 53,
   "id": "ef70b23d-caab-4c43-be43-cd66de55220d",
   "metadata": {},
   "outputs": [
    {
     "data": {
      "text/plain": [
       "True"
      ]
     },
     "execution_count": 53,
     "metadata": {},
     "output_type": "execute_result"
    }
   ],
   "source": [
    ">>> v1 + v2 == Vector([3+6, 4+7, 5+8])"
   ]
  },
  {
   "cell_type": "code",
   "execution_count": 54,
   "id": "78dddd81-b540-43c6-b545-8db704129ae4",
   "metadata": {},
   "outputs": [],
   "source": [
    ">>> v3 = Vector([1, 2])"
   ]
  },
  {
   "cell_type": "code",
   "execution_count": 55,
   "id": "2a9cb808-d87a-43db-9d81-429397aef72e",
   "metadata": {},
   "outputs": [
    {
     "data": {
      "text/plain": [
       "Vector([4.0, 6.0, 5.0])"
      ]
     },
     "execution_count": 55,
     "metadata": {},
     "output_type": "execute_result"
    }
   ],
   "source": [
    " >>> v1 + v3  # short vectors are filled with 0.0 on addition"
   ]
  },
  {
   "cell_type": "markdown",
   "id": "44b86266-6e77-4e27-abd8-ead2646fedec",
   "metadata": {},
   "source": [
    "#### Tests of ``+`` with mixed types::"
   ]
  },
  {
   "cell_type": "code",
   "execution_count": 56,
   "id": "c27b0dd7-05db-41c6-a2e5-4ebaa7f683f4",
   "metadata": {},
   "outputs": [
    {
     "data": {
      "text/plain": [
       "Vector([13.0, 24.0, 35.0])"
      ]
     },
     "execution_count": 56,
     "metadata": {},
     "output_type": "execute_result"
    }
   ],
   "source": [
    ">>> v1 + (10, 20, 30)"
   ]
  },
  {
   "cell_type": "code",
   "execution_count": 58,
   "id": "ac2a1fd3-6f33-4d15-b12d-01b277979d90",
   "metadata": {},
   "outputs": [],
   "source": [
    "%%capture\n",
    "import import_ipynb\n",
    "from vector2d_v3 import Vector2d\n",
    "v2d = Vector2d(1, 2)\n",
    "v1 + v2d"
   ]
  },
  {
   "cell_type": "markdown",
   "id": "cd3770a3-1b48-457e-ad7d-8d7abebadcaf",
   "metadata": {},
   "source": [
    "#### Tests of ``+`` with mixed types, swapped operands::"
   ]
  },
  {
   "cell_type": "code",
   "execution_count": 59,
   "id": "45e9ba58-b42e-44fb-b036-e17c6ee2eda0",
   "metadata": {},
   "outputs": [
    {
     "data": {
      "text/plain": [
       "Vector([13.0, 24.0, 35.0])"
      ]
     },
     "execution_count": 59,
     "metadata": {},
     "output_type": "execute_result"
    }
   ],
   "source": [
    ">>> (10, 20, 30) + v1"
   ]
  },
  {
   "cell_type": "code",
   "execution_count": 60,
   "id": "94bb424c-2c98-4643-be3a-d8a19d1a0d33",
   "metadata": {},
   "outputs": [
    {
     "data": {
      "text/plain": [
       "Vector([4.0, 6.0, 5.0])"
      ]
     },
     "execution_count": 60,
     "metadata": {},
     "output_type": "execute_result"
    }
   ],
   "source": [
    ">>> from vector2d_v3 import Vector2d\n",
    ">>> v2d = Vector2d(1, 2)\n",
    ">>> v2d + v1"
   ]
  },
  {
   "cell_type": "markdown",
   "id": "b64223f2-796d-4fdc-9f37-15809db3b188",
   "metadata": {},
   "source": [
    "#### Tests of ``+`` with an unsuitable operand:"
   ]
  },
  {
   "cell_type": "code",
   "execution_count": 61,
   "id": "759b7eed-1f7f-42a0-8942-8e6ab7e1a44b",
   "metadata": {},
   "outputs": [
    {
     "ename": "TypeError",
     "evalue": "unsupported operand type(s) for +: 'Vector' and 'int'",
     "output_type": "error",
     "traceback": [
      "\u001b[1;31m---------------------------------------------------------------------------\u001b[0m",
      "\u001b[1;31mTypeError\u001b[0m                                 Traceback (most recent call last)",
      "Input \u001b[1;32mIn [61]\u001b[0m, in \u001b[0;36m<module>\u001b[1;34m\u001b[0m\n\u001b[1;32m----> 1\u001b[0m \u001b[43mv1\u001b[49m\u001b[43m \u001b[49m\u001b[38;5;241;43m+\u001b[39;49m\u001b[43m \u001b[49m\u001b[38;5;241;43m1\u001b[39;49m\n",
      "\u001b[1;31mTypeError\u001b[0m: unsupported operand type(s) for +: 'Vector' and 'int'"
     ]
    }
   ],
   "source": [
    ">>> v1 + 1"
   ]
  },
  {
   "cell_type": "code",
   "execution_count": 62,
   "id": "e201f8fd-8bf5-4a23-98b7-c8e4ff10f7f8",
   "metadata": {},
   "outputs": [
    {
     "ename": "TypeError",
     "evalue": "unsupported operand type(s) for +: 'Vector' and 'str'",
     "output_type": "error",
     "traceback": [
      "\u001b[1;31m---------------------------------------------------------------------------\u001b[0m",
      "\u001b[1;31mTypeError\u001b[0m                                 Traceback (most recent call last)",
      "Input \u001b[1;32mIn [62]\u001b[0m, in \u001b[0;36m<module>\u001b[1;34m\u001b[0m\n\u001b[1;32m----> 1\u001b[0m \u001b[43mv1\u001b[49m\u001b[43m \u001b[49m\u001b[38;5;241;43m+\u001b[39;49m\u001b[43m \u001b[49m\u001b[38;5;124;43m'\u001b[39;49m\u001b[38;5;124;43mABC\u001b[39;49m\u001b[38;5;124;43m'\u001b[39;49m\n",
      "\u001b[1;31mTypeError\u001b[0m: unsupported operand type(s) for +: 'Vector' and 'str'"
     ]
    }
   ],
   "source": [
    ">>> v1 + 'ABC'"
   ]
  },
  {
   "cell_type": "markdown",
   "id": "42924e19-90e1-4bd8-b6f7-c9acc260ce1b",
   "metadata": {},
   "source": [
    "#### Basic tests of operator ``*``::"
   ]
  },
  {
   "cell_type": "code",
   "execution_count": 63,
   "id": "92fbd0e1-8ff9-4942-9644-8174e130ed51",
   "metadata": {},
   "outputs": [
    {
     "data": {
      "text/plain": [
       "Vector([10.0, 20.0, 30.0])"
      ]
     },
     "execution_count": 63,
     "metadata": {},
     "output_type": "execute_result"
    }
   ],
   "source": [
    ">>> v1 = Vector([1, 2, 3])\n",
    ">>> v1 * 10"
   ]
  },
  {
   "cell_type": "code",
   "execution_count": 64,
   "id": "07a44abc-4141-4575-9489-b2ccc97495e6",
   "metadata": {},
   "outputs": [
    {
     "data": {
      "text/plain": [
       "Vector([10.0, 20.0, 30.0])"
      ]
     },
     "execution_count": 64,
     "metadata": {},
     "output_type": "execute_result"
    }
   ],
   "source": [
    ">>> 10 * v1"
   ]
  },
  {
   "cell_type": "markdown",
   "id": "6bc50e80-ca63-4e65-871f-b7f867a495ba",
   "metadata": {},
   "source": [
    "#### Tests of ``*`` with unusual but valid operands::"
   ]
  },
  {
   "cell_type": "code",
   "execution_count": 65,
   "id": "f5ef1d77-e226-4363-959c-2b6a6d221343",
   "metadata": {},
   "outputs": [
    {
     "data": {
      "text/plain": [
       "Vector([1.0, 2.0, 3.0])"
      ]
     },
     "execution_count": 65,
     "metadata": {},
     "output_type": "execute_result"
    }
   ],
   "source": [
    ">>> v1 * True"
   ]
  },
  {
   "cell_type": "code",
   "execution_count": 66,
   "id": "b4eb11f1-794e-41f7-9de5-3789326a175f",
   "metadata": {},
   "outputs": [
    {
     "data": {
      "text/plain": [
       "Vector([0.3333333333333333, 0.6666666666666666, 1.0])"
      ]
     },
     "execution_count": 66,
     "metadata": {},
     "output_type": "execute_result"
    }
   ],
   "source": [
    ">>> from fractions import Fraction\n",
    ">>> v1 * Fraction(1, 3)  # doctest:+ELLIPSIS"
   ]
  },
  {
   "cell_type": "markdown",
   "id": "af0c5e33-9b37-48ac-88bc-6acacd137a15",
   "metadata": {},
   "source": [
    "#### Tests of ``*`` with unsuitable operands::"
   ]
  },
  {
   "cell_type": "code",
   "execution_count": 67,
   "id": "149d52b8-f182-4db3-9fbe-625fbed1286a",
   "metadata": {},
   "outputs": [
    {
     "ename": "TypeError",
     "evalue": "can't multiply sequence by non-int of type 'Vector'",
     "output_type": "error",
     "traceback": [
      "\u001b[1;31m---------------------------------------------------------------------------\u001b[0m",
      "\u001b[1;31mTypeError\u001b[0m                                 Traceback (most recent call last)",
      "Input \u001b[1;32mIn [67]\u001b[0m, in \u001b[0;36m<module>\u001b[1;34m\u001b[0m\n\u001b[1;32m----> 1\u001b[0m \u001b[43mv1\u001b[49m\u001b[43m \u001b[49m\u001b[38;5;241;43m*\u001b[39;49m\u001b[43m \u001b[49m\u001b[43m(\u001b[49m\u001b[38;5;241;43m1\u001b[39;49m\u001b[43m,\u001b[49m\u001b[43m \u001b[49m\u001b[38;5;241;43m2\u001b[39;49m\u001b[43m)\u001b[49m\n",
      "\u001b[1;31mTypeError\u001b[0m: can't multiply sequence by non-int of type 'Vector'"
     ]
    }
   ],
   "source": [
    ">>> v1 * (1, 2)"
   ]
  },
  {
   "cell_type": "markdown",
   "id": "e7401c8d-eea3-44fb-be27-81ad9f03db3b",
   "metadata": {},
   "source": [
    "#### Tests of operator `==`::"
   ]
  },
  {
   "cell_type": "code",
   "execution_count": 68,
   "id": "808ed827-55f7-4eb3-846f-8bc9b238dfd9",
   "metadata": {},
   "outputs": [
    {
     "data": {
      "text/plain": [
       "True"
      ]
     },
     "execution_count": 68,
     "metadata": {},
     "output_type": "execute_result"
    }
   ],
   "source": [
    ">>> va = Vector(range(1, 4))\n",
    ">>> vb = Vector([1.0, 2.0, 3.0])\n",
    ">>> va == vb"
   ]
  },
  {
   "cell_type": "code",
   "execution_count": 69,
   "id": "29aa2646-0646-4a33-8e27-ad096966054c",
   "metadata": {},
   "outputs": [
    {
     "data": {
      "text/plain": [
       "True"
      ]
     },
     "execution_count": 69,
     "metadata": {},
     "output_type": "execute_result"
    }
   ],
   "source": [
    ">>> vc = Vector([1, 2])\n",
    ">>> from vector2d_v3 import Vector2d\n",
    ">>> v2d = Vector2d(1, 2)\n",
    ">>> vc == v2d"
   ]
  },
  {
   "cell_type": "code",
   "execution_count": 70,
   "id": "ec463a70-1d26-4082-bd77-784df4a6c19f",
   "metadata": {},
   "outputs": [
    {
     "data": {
      "text/plain": [
       "False"
      ]
     },
     "execution_count": 70,
     "metadata": {},
     "output_type": "execute_result"
    }
   ],
   "source": [
    ">>> va == (1, 2, 3)"
   ]
  },
  {
   "cell_type": "markdown",
   "id": "65bb19d3-c42f-46bb-afe7-6484ba7e593c",
   "metadata": {},
   "source": [
    "#### Tests of operator `!=`::"
   ]
  },
  {
   "cell_type": "code",
   "execution_count": 71,
   "id": "c926670d-dc75-4013-a909-a39964f3faa6",
   "metadata": {},
   "outputs": [
    {
     "data": {
      "text/plain": [
       "False"
      ]
     },
     "execution_count": 71,
     "metadata": {},
     "output_type": "execute_result"
    }
   ],
   "source": [
    ">>> va != vb"
   ]
  },
  {
   "cell_type": "code",
   "execution_count": 72,
   "id": "cf18d1d0-2e68-45bc-b3b8-fcbecb4d435b",
   "metadata": {},
   "outputs": [
    {
     "data": {
      "text/plain": [
       "False"
      ]
     },
     "execution_count": 72,
     "metadata": {},
     "output_type": "execute_result"
    }
   ],
   "source": [
    ">>> vc != v2d"
   ]
  },
  {
   "cell_type": "code",
   "execution_count": 73,
   "id": "bd1408c9-5a87-436a-9c52-82236e755e35",
   "metadata": {},
   "outputs": [
    {
     "data": {
      "text/plain": [
       "True"
      ]
     },
     "execution_count": 73,
     "metadata": {},
     "output_type": "execute_result"
    }
   ],
   "source": [
    ">>> va != (1, 2, 3)"
   ]
  },
  {
   "cell_type": "markdown",
   "id": "10eebfae-d322-4c3d-a5d7-711a2e8fa207",
   "metadata": {},
   "source": [
    "#### Tests for operator `@` (Python >= 3.5), computing the dot product::"
   ]
  },
  {
   "cell_type": "code",
   "execution_count": 74,
   "id": "2ae1aaf8-4e3a-46ba-8c22-59b9a8fcce9c",
   "metadata": {},
   "outputs": [
    {
     "data": {
      "text/plain": [
       "True"
      ]
     },
     "execution_count": 74,
     "metadata": {},
     "output_type": "execute_result"
    }
   ],
   "source": [
    ">>> va = Vector([1, 2, 3])\n",
    ">>> vz = Vector([5, 6, 7])\n",
    ">>> va @ vz == 38.0  # 1*5 + 2*6 + 3*7"
   ]
  },
  {
   "cell_type": "code",
   "execution_count": 75,
   "id": "543bab73-95e9-458f-9051-a2884090e6d3",
   "metadata": {},
   "outputs": [
    {
     "data": {
      "text/plain": [
       "380.0"
      ]
     },
     "execution_count": 75,
     "metadata": {},
     "output_type": "execute_result"
    }
   ],
   "source": [
    ">>> [10, 20, 30] @ vz"
   ]
  },
  {
   "cell_type": "code",
   "execution_count": 76,
   "id": "e2d991f3-1833-4262-87fb-199019c58cb7",
   "metadata": {},
   "outputs": [
    {
     "ename": "TypeError",
     "evalue": "unsupported operand type(s) for @: 'Vector' and 'int'",
     "output_type": "error",
     "traceback": [
      "\u001b[1;31m---------------------------------------------------------------------------\u001b[0m",
      "\u001b[1;31mTypeError\u001b[0m                                 Traceback (most recent call last)",
      "Input \u001b[1;32mIn [76]\u001b[0m, in \u001b[0;36m<module>\u001b[1;34m\u001b[0m\n\u001b[1;32m----> 1\u001b[0m \u001b[43mva\u001b[49m\u001b[43m \u001b[49m\u001b[38;5;241;43m@\u001b[39;49m\u001b[43m \u001b[49m\u001b[38;5;241;43m3\u001b[39;49m\n",
      "\u001b[1;31mTypeError\u001b[0m: unsupported operand type(s) for @: 'Vector' and 'int'"
     ]
    }
   ],
   "source": [
    ">>> va @ 3"
   ]
  }
 ],
 "metadata": {
  "kernelspec": {
   "display_name": "Python 3 (ipykernel)",
   "language": "python",
   "name": "python3"
  },
  "language_info": {
   "codemirror_mode": {
    "name": "ipython",
    "version": 3
   },
   "file_extension": ".py",
   "mimetype": "text/x-python",
   "name": "python",
   "nbconvert_exporter": "python",
   "pygments_lexer": "ipython3",
   "version": "3.10.2"
  }
 },
 "nbformat": 4,
 "nbformat_minor": 5
}
