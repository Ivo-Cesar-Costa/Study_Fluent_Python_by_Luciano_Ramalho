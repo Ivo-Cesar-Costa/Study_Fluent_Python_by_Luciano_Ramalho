{
 "cells": [
  {
   "cell_type": "code",
   "execution_count": 1,
   "id": "289d9ca3-c78d-4d26-b4a3-50059e3c4733",
   "metadata": {},
   "outputs": [],
   "source": [
    "import contextlib"
   ]
  },
  {
   "cell_type": "code",
   "execution_count": 2,
   "id": "61f83eb8-a591-40e1-bd26-e4725a4e38bb",
   "metadata": {},
   "outputs": [],
   "source": [
    "@contextlib.contextmanager  # <1>\n",
    "def looking_glass():\n",
    "    import sys\n",
    "    original_write = sys.stdout.write  # <2>\n",
    "\n",
    "    def reverse_write(text):  # <3>\n",
    "        original_write(text[::-1])\n",
    "\n",
    "    sys.stdout.write = reverse_write  # <4>\n",
    "    yield 'JABBERWOCKY'  # <5>\n",
    "    sys.stdout.write = original_write  # <6>"
   ]
  },
  {
   "cell_type": "markdown",
   "id": "677a275a-e136-4a34-b32f-0852e1a2ebd7",
   "metadata": {},
   "source": [
    "#### A \"mirroring\" ``stdout`` context manager.\n",
    "#### While active, the context manager reverses text output to\n",
    "#### ``stdout``::"
   ]
  },
  {
   "cell_type": "code",
   "execution_count": 3,
   "id": "1cf9c63a-8c74-4fde-b9a1-805004316a07",
   "metadata": {},
   "outputs": [
    {
     "name": "stdout",
     "output_type": "stream",
     "text": [
      "pordwonS dna yttiK ,ecilA\n",
      "YKCOWREBBAJ\n"
     ]
    }
   ],
   "source": [
    ">>> with looking_glass() as what:  # <1>\n",
    "...      print('Alice, Kitty and Snowdrop')\n",
    "...      print(what)"
   ]
  },
  {
   "cell_type": "code",
   "execution_count": 4,
   "id": "cbc7a86e-701e-4a04-b5d0-69cd0386d8e6",
   "metadata": {},
   "outputs": [
    {
     "data": {
      "text/plain": [
       "'JABBERWOCKY'"
      ]
     },
     "execution_count": 4,
     "metadata": {},
     "output_type": "execute_result"
    }
   ],
   "source": [
    ">>> what"
   ]
  },
  {
   "cell_type": "markdown",
   "id": "0d3d4bad-38c6-439e-b87f-787caa3c7bde",
   "metadata": {},
   "source": [
    "#### This exposes the context manager operation::"
   ]
  },
  {
   "cell_type": "code",
   "execution_count": 5,
   "id": "ac435d98-bd19-41af-942b-95061a252bd0",
   "metadata": {},
   "outputs": [
    {
     "data": {
      "text/plain": [
       "<contextlib._GeneratorContextManager at 0x2386f763280>"
      ]
     },
     "execution_count": 5,
     "metadata": {},
     "output_type": "execute_result"
    }
   ],
   "source": [
    ">>> manager = looking_glass()  # <1>\n",
    ">>> manager  # doctest: +ELLIPSIS"
   ]
  },
  {
   "cell_type": "code",
   "execution_count": 6,
   "id": "753266ab-dfed-46c5-ad45-b872c1c92c21",
   "metadata": {},
   "outputs": [
    {
     "data": {
      "text/plain": [
       "True"
      ]
     },
     "execution_count": 6,
     "metadata": {},
     "output_type": "execute_result"
    }
   ],
   "source": [
    ">>> monster = manager.__enter__()  # <2>\n",
    ">>> monster == 'JABBERWOCKY'  # <3>"
   ]
  },
  {
   "cell_type": "code",
   "execution_count": 7,
   "id": "b065636d-708b-4141-a97c-adeb41cf7e13",
   "metadata": {},
   "outputs": [
    {
     "data": {
      "text/plain": [
       "'JABBERWOCKY'"
      ]
     },
     "execution_count": 7,
     "metadata": {},
     "output_type": "execute_result"
    }
   ],
   "source": [
    ">>> monster"
   ]
  },
  {
   "cell_type": "code",
   "execution_count": 8,
   "id": "50e37f41-7ebf-413c-8585-826b318db2e7",
   "metadata": {},
   "outputs": [
    {
     "data": {
      "text/plain": [
       "<contextlib._GeneratorContextManager at 0x2386f763280>"
      ]
     },
     "execution_count": 8,
     "metadata": {},
     "output_type": "execute_result"
    }
   ],
   "source": [
    ">>> manager  # doctest: +ELLIPSIS"
   ]
  },
  {
   "cell_type": "code",
   "execution_count": 9,
   "id": "ba05671c-cd2d-4048-a44e-3a24a634655b",
   "metadata": {},
   "outputs": [
    {
     "data": {
      "text/plain": [
       "'JABBERWOCKY'"
      ]
     },
     "execution_count": 9,
     "metadata": {},
     "output_type": "execute_result"
    }
   ],
   "source": [
    ">>> manager.__exit__(None, None, None)  # <4>\n",
    ">>> monster"
   ]
  }
 ],
 "metadata": {
  "kernelspec": {
   "display_name": "Python 3 (ipykernel)",
   "language": "python",
   "name": "python3"
  },
  "language_info": {
   "codemirror_mode": {
    "name": "ipython",
    "version": 3
   },
   "file_extension": ".py",
   "mimetype": "text/x-python",
   "name": "python",
   "nbconvert_exporter": "python",
   "pygments_lexer": "ipython3",
   "version": "3.10.2"
  }
 },
 "nbformat": 4,
 "nbformat_minor": 5
}
