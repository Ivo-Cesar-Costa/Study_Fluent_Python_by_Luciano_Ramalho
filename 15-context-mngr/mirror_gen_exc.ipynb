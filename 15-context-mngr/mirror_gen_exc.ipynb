{
 "cells": [
  {
   "cell_type": "code",
   "execution_count": 1,
   "id": "b3886f4d-d41e-4b71-bc12-ce00f0f215cf",
   "metadata": {},
   "outputs": [],
   "source": [
    "import contextlib"
   ]
  },
  {
   "cell_type": "code",
   "execution_count": 2,
   "id": "54d42302-aca1-4616-839a-497e1f2e6bae",
   "metadata": {},
   "outputs": [],
   "source": [
    "@contextlib.contextmanager\n",
    "def looking_glass():\n",
    "    import sys\n",
    "    original_write = sys.stdout.write\n",
    "\n",
    "    def reverse_write(text):\n",
    "        original_write(text[::-1])\n",
    "\n",
    "    sys.stdout.write = reverse_write\n",
    "    msg = ''  # <1>\n",
    "    try:\n",
    "        yield 'JABBERWOCKY'\n",
    "    except ZeroDivisionError:  # <2>\n",
    "        msg = 'Please DO NOT divide by zero!'\n",
    "    finally:\n",
    "        sys.stdout.write = original_write  # <3>\n",
    "        if msg:\n",
    "            print(msg)  # <4>"
   ]
  },
  {
   "cell_type": "markdown",
   "id": "22558f36-a2b8-4e2d-89c9-f624896a29bb",
   "metadata": {},
   "source": [
    "#### A \"mirroring\" ``stdout`` context manager.\n",
    "#### While active, the context manager reverses text output to\n",
    "#### ``stdout``::\n"
   ]
  },
  {
   "cell_type": "code",
   "execution_count": 3,
   "id": "5716f3da-e99d-4c93-9f85-cb125c8b0e2f",
   "metadata": {},
   "outputs": [
    {
     "name": "stdout",
     "output_type": "stream",
     "text": [
      "importing Jupyter notebook from mirror_gen.ipynb\n",
      "pordwonS dna yttiK ,ecilA\n",
      "YKCOWREBBAJ\n"
     ]
    }
   ],
   "source": [
    "import import_ipynb\n",
    "from mirror_gen import looking_glass"
   ]
  },
  {
   "cell_type": "code",
   "execution_count": 4,
   "id": "940b451d-5235-4580-a2ea-898482141efb",
   "metadata": {},
   "outputs": [
    {
     "name": "stdout",
     "output_type": "stream",
     "text": [
      "pordwonS dna yttiK ,ecilA\n",
      "YKCOWREBBAJ\n"
     ]
    }
   ],
   "source": [
    "with looking_glass() as what:  # <1>\n",
    "    print('Alice, Kitty and Snowdrop')\n",
    "    print(what)"
   ]
  },
  {
   "cell_type": "code",
   "execution_count": 5,
   "id": "73803d58-4350-49b9-addb-2b0a7fb50a71",
   "metadata": {},
   "outputs": [
    {
     "data": {
      "text/plain": [
       "'JABBERWOCKY'"
      ]
     },
     "execution_count": 5,
     "metadata": {},
     "output_type": "execute_result"
    }
   ],
   "source": [
    ">>> what"
   ]
  },
  {
   "cell_type": "markdown",
   "id": "e11b0296-9248-420c-afcb-13178ad63d58",
   "metadata": {},
   "source": [
    "#### This exposes the context manager operation::"
   ]
  },
  {
   "cell_type": "code",
   "execution_count": 6,
   "id": "a9b6577a-ce24-432c-8c23-67a2d6a03c28",
   "metadata": {},
   "outputs": [
    {
     "data": {
      "text/plain": [
       "<contextlib._GeneratorContextManager at 0x2126812b6d0>"
      ]
     },
     "execution_count": 6,
     "metadata": {},
     "output_type": "execute_result"
    }
   ],
   "source": [
    ">>> from mirror_gen import looking_glass\n",
    ">>> manager = looking_glass()  # <1>\n",
    ">>> manager  # doctest: +ELLIPSIS"
   ]
  },
  {
   "cell_type": "code",
   "execution_count": 7,
   "id": "23a4cf30-bcf6-4c1c-801f-1ba9a757c160",
   "metadata": {},
   "outputs": [
    {
     "data": {
      "text/plain": [
       "True"
      ]
     },
     "execution_count": 7,
     "metadata": {},
     "output_type": "execute_result"
    }
   ],
   "source": [
    ">>> monster = manager.__enter__()  # <2>\n",
    ">>> monster == 'JABBERWOCKY'  # <3>"
   ]
  },
  {
   "cell_type": "code",
   "execution_count": 8,
   "id": "9033e380-aec6-4f56-904b-b118b6609929",
   "metadata": {},
   "outputs": [
    {
     "data": {
      "text/plain": [
       "'JABBERWOCKY'"
      ]
     },
     "execution_count": 8,
     "metadata": {},
     "output_type": "execute_result"
    }
   ],
   "source": [
    ">>> monster"
   ]
  },
  {
   "cell_type": "code",
   "execution_count": 9,
   "id": "6d1d6ca7-f182-40d1-ad69-b3d248dc7982",
   "metadata": {},
   "outputs": [
    {
     "data": {
      "text/plain": [
       "<contextlib._GeneratorContextManager at 0x2126812b6d0>"
      ]
     },
     "execution_count": 9,
     "metadata": {},
     "output_type": "execute_result"
    }
   ],
   "source": [
    ">>> manager  # doctest: +ELLIPSIS"
   ]
  },
  {
   "cell_type": "code",
   "execution_count": 10,
   "id": "442d8d7b-8070-4a26-9958-d7c4b35ad15b",
   "metadata": {},
   "outputs": [
    {
     "data": {
      "text/plain": [
       "'JABBERWOCKY'"
      ]
     },
     "execution_count": 10,
     "metadata": {},
     "output_type": "execute_result"
    }
   ],
   "source": [
    ">>> manager.__exit__(None, None, None)  # <4>\n",
    ">>> monster"
   ]
  },
  {
   "cell_type": "code",
   "execution_count": 11,
   "id": "6dbca288-eaa1-4b93-b9a5-35ecfa384fb4",
   "metadata": {},
   "outputs": [
    {
     "name": "stdout",
     "output_type": "stream",
     "text": [
      "ytpmuD ytpmuH\n"
     ]
    },
    {
     "ename": "ZeroDivisionError",
     "evalue": "division by zero",
     "output_type": "error",
     "traceback": [
      "\u001b[1;31m---------------------------------------------------------------------------\u001b[0m",
      "\u001b[1;31mZeroDivisionError\u001b[0m                         Traceback (most recent call last)",
      "Input \u001b[1;32mIn [11]\u001b[0m, in \u001b[0;36m<module>\u001b[1;34m\u001b[0m\n\u001b[0;32m      2\u001b[0m \u001b[38;5;28;01mwith\u001b[39;00m looking_glass():\n\u001b[0;32m      3\u001b[0m      \u001b[38;5;28mprint\u001b[39m(\u001b[38;5;124m'\u001b[39m\u001b[38;5;124mHumpty Dumpty\u001b[39m\u001b[38;5;124m'\u001b[39m)\n\u001b[1;32m----> 4\u001b[0m      x \u001b[38;5;241m=\u001b[39m \u001b[38;5;241;43m1\u001b[39;49m\u001b[38;5;241;43m/\u001b[39;49m\u001b[38;5;241;43m0\u001b[39;49m  \u001b[38;5;66;03m# <1>\u001b[39;00m\n\u001b[0;32m      5\u001b[0m      \u001b[38;5;28mprint\u001b[39m(\u001b[38;5;124m'\u001b[39m\u001b[38;5;124mEND\u001b[39m\u001b[38;5;124m'\u001b[39m)\n",
      "\u001b[1;31mZeroDivisionError\u001b[0m: division by zero"
     ]
    }
   ],
   "source": [
    ">>> from mirror_gen import looking_glass\n",
    ">>> with looking_glass():\n",
    "...      print('Humpty Dumpty')\n",
    "...      x = 1/0  # <1>\n",
    "...      print('END')  # <2>"
   ]
  },
  {
   "cell_type": "code",
   "execution_count": 12,
   "id": "fd4d349c-1f79-47c5-ac72-e131d6da6393",
   "metadata": {},
   "outputs": [
    {
     "name": "stdout",
     "output_type": "stream",
     "text": [
      "Humpty Dumpty\n"
     ]
    },
    {
     "ename": "NameError",
     "evalue": "name 'no_such_name' is not defined",
     "output_type": "error",
     "traceback": [
      "\u001b[1;31m---------------------------------------------------------------------------\u001b[0m",
      "\u001b[1;31mNameError\u001b[0m                                 Traceback (most recent call last)",
      "Input \u001b[1;32mIn [12]\u001b[0m, in \u001b[0;36m<module>\u001b[1;34m\u001b[0m\n\u001b[0;32m      1\u001b[0m \u001b[38;5;28;01mwith\u001b[39;00m looking_glass():\n\u001b[0;32m      2\u001b[0m      \u001b[38;5;28mprint\u001b[39m(\u001b[38;5;124m'\u001b[39m\u001b[38;5;124mHumpty Dumpty\u001b[39m\u001b[38;5;124m'\u001b[39m)\n\u001b[1;32m----> 3\u001b[0m      x \u001b[38;5;241m=\u001b[39m \u001b[43mno_such_name\u001b[49m  \u001b[38;5;66;03m# <1>\u001b[39;00m\n\u001b[0;32m      4\u001b[0m      \u001b[38;5;28mprint\u001b[39m(\u001b[38;5;124m'\u001b[39m\u001b[38;5;124mEND\u001b[39m\u001b[38;5;124m'\u001b[39m)\n",
      "\u001b[1;31mNameError\u001b[0m: name 'no_such_name' is not defined"
     ]
    }
   ],
   "source": [
    ">>> with looking_glass():\n",
    "...      print('Humpty Dumpty')\n",
    "...      x = no_such_name  # <1>\n",
    "...      print('END')  # <2>"
   ]
  }
 ],
 "metadata": {
  "kernelspec": {
   "display_name": "Python 3 (ipykernel)",
   "language": "python",
   "name": "python3"
  },
  "language_info": {
   "codemirror_mode": {
    "name": "ipython",
    "version": 3
   },
   "file_extension": ".py",
   "mimetype": "text/x-python",
   "name": "python",
   "nbconvert_exporter": "python",
   "pygments_lexer": "ipython3",
   "version": "3.10.2"
  }
 },
 "nbformat": 4,
 "nbformat_minor": 5
}
