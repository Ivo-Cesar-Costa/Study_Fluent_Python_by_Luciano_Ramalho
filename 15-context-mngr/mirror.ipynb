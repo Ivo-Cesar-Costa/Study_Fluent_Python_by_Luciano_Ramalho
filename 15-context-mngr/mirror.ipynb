{
 "cells": [
  {
   "cell_type": "code",
   "execution_count": 1,
   "id": "9a1ae41e-21f0-4e3f-bbe3-5a89e5d800bc",
   "metadata": {},
   "outputs": [],
   "source": [
    "class LookingGlass:\n",
    "\n",
    "    def __enter__(self):  # <1>\n",
    "        import sys\n",
    "        self.original_write = sys.stdout.write  # <2>\n",
    "        sys.stdout.write = self.reverse_write  # <3>\n",
    "        return 'JABBERWOCKY'  # <4>\n",
    "\n",
    "    def reverse_write(self, text):  # <5>\n",
    "        self.original_write(text[::-1])\n",
    "\n",
    "    def __exit__(self, exc_type, exc_value, traceback):  # <6>\n",
    "        import sys  # <7>\n",
    "        sys.stdout.write = self.original_write  # <8>\n",
    "        if exc_type is ZeroDivisionError:  # <9>\n",
    "            print('Please DO NOT divide by zero!')\n",
    "            return True  # <10>"
   ]
  },
  {
   "cell_type": "markdown",
   "id": "d7269f86-d8f9-4867-ad77-bb78fbccee74",
   "metadata": {},
   "source": [
    "#### A \"mirroring\" ``stdout`` context.\n",
    "#### While active, the context manager reverses text output to\n",
    "#### ``stdout``::"
   ]
  },
  {
   "cell_type": "code",
   "execution_count": 2,
   "id": "5c309052-fde6-49d0-b5c9-5ce18dfb1350",
   "metadata": {},
   "outputs": [
    {
     "name": "stdout",
     "output_type": "stream",
     "text": [
      "pordwonS dna yttiK ,ecilA\n",
      "YKCOWREBBAJ\n"
     ]
    }
   ],
   "source": [
    ">>> with LookingGlass() as what:  # <1>\n",
    "...      print('Alice, Kitty and Snowdrop')  # <2>\n",
    "...      print(what)"
   ]
  },
  {
   "cell_type": "code",
   "execution_count": 3,
   "id": "a8735b36-91a2-48c6-86a5-cfad976b3b84",
   "metadata": {},
   "outputs": [
    {
     "data": {
      "text/plain": [
       "'JABBERWOCKY'"
      ]
     },
     "execution_count": 3,
     "metadata": {},
     "output_type": "execute_result"
    }
   ],
   "source": [
    ">>> what  # <4>"
   ]
  },
  {
   "cell_type": "code",
   "execution_count": 4,
   "id": "29431d7c-88c5-487c-bad1-2dad13071cfd",
   "metadata": {},
   "outputs": [
    {
     "name": "stdout",
     "output_type": "stream",
     "text": [
      "Back to normal.\n"
     ]
    }
   ],
   "source": [
    ">>> print('Back to normal.')  # <5>"
   ]
  },
  {
   "cell_type": "markdown",
   "id": "37166ec7-5b64-4682-bf05-dc090fe6f9ec",
   "metadata": {},
   "source": [
    "#### This exposes the context manager operation::"
   ]
  },
  {
   "cell_type": "code",
   "execution_count": 5,
   "id": "8cf1d3f2-390b-4bb1-b8bc-a1a4eb5f4f70",
   "metadata": {},
   "outputs": [
    {
     "data": {
      "text/plain": [
       "<__main__.LookingGlass at 0x1b697fb63b0>"
      ]
     },
     "execution_count": 5,
     "metadata": {},
     "output_type": "execute_result"
    }
   ],
   "source": [
    ">>> manager = LookingGlass()  # <1>\n",
    ">>> manager"
   ]
  },
  {
   "cell_type": "code",
   "execution_count": 6,
   "id": "a9f8fbac-4499-45ed-813c-8e3b689b9cbf",
   "metadata": {},
   "outputs": [
    {
     "data": {
      "text/plain": [
       "True"
      ]
     },
     "execution_count": 6,
     "metadata": {},
     "output_type": "execute_result"
    }
   ],
   "source": [
    ">>> monster = manager.__enter__()  # <2>\n",
    ">>> monster == 'JABBERWOCKY'  # <3>"
   ]
  },
  {
   "cell_type": "code",
   "execution_count": 7,
   "id": "73e7020a-3c56-4239-9a24-82f400de80c6",
   "metadata": {},
   "outputs": [
    {
     "data": {
      "text/plain": [
       "'JABBERWOCKY'"
      ]
     },
     "execution_count": 7,
     "metadata": {},
     "output_type": "execute_result"
    }
   ],
   "source": [
    ">>> monster"
   ]
  },
  {
   "cell_type": "code",
   "execution_count": 8,
   "id": "7d03714f-09de-42f2-9471-74dfedb547b9",
   "metadata": {},
   "outputs": [
    {
     "data": {
      "text/plain": [
       "<__main__.LookingGlass at 0x1b697fb63b0>"
      ]
     },
     "execution_count": 8,
     "metadata": {},
     "output_type": "execute_result"
    }
   ],
   "source": [
    ">>> manager"
   ]
  },
  {
   "cell_type": "code",
   "execution_count": 9,
   "id": "ada66339-8a9a-430e-bde8-d75403e3710e",
   "metadata": {},
   "outputs": [
    {
     "data": {
      "text/plain": [
       "'JABBERWOCKY'"
      ]
     },
     "execution_count": 9,
     "metadata": {},
     "output_type": "execute_result"
    }
   ],
   "source": [
    ">>> manager.__exit__(None, None, None)  # <4>\n",
    ">>> monster"
   ]
  },
  {
   "cell_type": "markdown",
   "id": "ca56a502-de93-40ae-91a1-976350d9dd06",
   "metadata": {},
   "source": [
    "#### The context manager can handle and \"swallow\" exceptions."
   ]
  },
  {
   "cell_type": "code",
   "execution_count": 10,
   "id": "99537d9c-7a40-47e0-8b14-8009e0061b53",
   "metadata": {},
   "outputs": [
    {
     "name": "stdout",
     "output_type": "stream",
     "text": [
      "ytpmuD ytpmuH\n",
      "Please DO NOT divide by zero!\n"
     ]
    }
   ],
   "source": [
    ">>> with LookingGlass():\n",
    "...      print('Humpty Dumpty')\n",
    "...      x = 1/0  # <1>\n",
    "...      print('END')  # <2>"
   ]
  },
  {
   "cell_type": "code",
   "execution_count": 11,
   "id": "23ee2166-d739-428d-9e64-0b02802c32dc",
   "metadata": {},
   "outputs": [
    {
     "name": "stdout",
     "output_type": "stream",
     "text": [
      "ytpmuD ytpmuH\n"
     ]
    },
    {
     "ename": "NameError",
     "evalue": "name 'no_such_name' is not defined",
     "output_type": "error",
     "traceback": [
      "\u001b[1;31m---------------------------------------------------------------------------\u001b[0m",
      "\u001b[1;31mNameError\u001b[0m                                 Traceback (most recent call last)",
      "Input \u001b[1;32mIn [11]\u001b[0m, in \u001b[0;36m<module>\u001b[1;34m\u001b[0m\n\u001b[0;32m      1\u001b[0m \u001b[38;5;28;01mwith\u001b[39;00m LookingGlass():\n\u001b[0;32m      2\u001b[0m      \u001b[38;5;28mprint\u001b[39m(\u001b[38;5;124m'\u001b[39m\u001b[38;5;124mHumpty Dumpty\u001b[39m\u001b[38;5;124m'\u001b[39m)\n\u001b[1;32m----> 3\u001b[0m      x \u001b[38;5;241m=\u001b[39m \u001b[43mno_such_name\u001b[49m  \u001b[38;5;66;03m# <1>\u001b[39;00m\n\u001b[0;32m      4\u001b[0m      \u001b[38;5;28mprint\u001b[39m(\u001b[38;5;124m'\u001b[39m\u001b[38;5;124mEND\u001b[39m\u001b[38;5;124m'\u001b[39m)\n",
      "\u001b[1;31mNameError\u001b[0m: name 'no_such_name' is not defined"
     ]
    }
   ],
   "source": [
    ">>> with LookingGlass():\n",
    "...      print('Humpty Dumpty')\n",
    "...      x = no_such_name  # <1>\n",
    "...      print('END')  # <2>"
   ]
  }
 ],
 "metadata": {
  "kernelspec": {
   "display_name": "Python 3 (ipykernel)",
   "language": "python",
   "name": "python3"
  },
  "language_info": {
   "codemirror_mode": {
    "name": "ipython",
    "version": 3
   },
   "file_extension": ".py",
   "mimetype": "text/x-python",
   "name": "python",
   "nbconvert_exporter": "python",
   "pygments_lexer": "ipython3",
   "version": "3.10.2"
  }
 },
 "nbformat": 4,
 "nbformat_minor": 5
}
